{
 "cells": [
  {
   "cell_type": "markdown",
   "metadata": {},
   "source": [
    "# IMPORTING DATA"
   ]
  },
  {
   "cell_type": "markdown",
   "metadata": {},
   "source": [
    "Country dataset include following information: \n",
    " - name - common name in english\n",
    " - topLevelDomain - country code top-level domain \n",
    " - alpha2Code - code ISO 3166-1 alpha-2 \n",
    " - alpha3Code - code ISO 3166-1 alpha-3 \n",
    " - callingCodes - list of all suffixes calling codes assigned to this country\n",
    " - capital - capital city(ies)\n",
    " - altSpellings - alternative spellings for country name\n",
    " - region\n",
    " - subregion\n",
    " - population\n",
    " - latlng - latitude and longitude \n",
    " - demonym - name of residents living in the country\n",
    " - area - land area in km² \n",
    " - gini - measures the inequality among values of a frequency distribution (for example, levels of income). A Gini coefficient of zero expresses perfect equality, where all values are the same (for example, where everyone has the same income). A Gini coefficient of one (or 100%) expresses maximal inequality among values (e.g., for a large number of people, where only one person has all the income or consumption, and all others have none, the Gini coefficient will be very nearly one).\n",
    " (Hệ số Gini thường được sử dụng để biểu thị mức độ bất bình đẳng trong phân phối thu nhập giữa các tầng lớp cư dân. Số 0 tượng trưng cho sự bình đẳng thu nhập tuyệt đối (mọi người đều có cùng một mức thu nhập), số 1 tượng trưng cho sự bất bình đẳng thu nhập tuyệt đối (một người có toàn bộ thu nhập, trong khi tất cả mọi người khác không có thu nhập).\n",
    "\n",
    "Hệ số Gini cũng được dùng để biểu thị mức độ chênh lệch về giàu nghèo. Khi sử dụng hệ số Gini trong trường hợp này, điều kiện yêu cầu phải thỏa mãn không tồn tại cá nhân nào có thu nhập ròng âm.)\n",
    " \n",
    "- timezones\n",
    "- borders - land borders \n",
    "- nativeName - country native names\n",
    "- numericCode\n",
    "- currencies - list of all currencies\n",
    " \t- key: ISO 4217 currency code\n",
    " \t- value: currency object\n",
    " \t\t- key: `name` name of the currency\n",
    " \t\t- key: `symbol` symbol of the currency\n",
    "- list of official languages (`languages`)\n",
    "\t- key: three-letter ISO 639-3 language code\n",
    " \t- value: name of the language in english \n",
    "- flag - Emoji flag\n",
    "- regionalBlocs - type of intergovernmental agreement, often part of a regional intergovernmental organization, where barriers to trade (tariffs and others) are reduced or eliminated among the participating states.\n",
    "- cioc - code International Olympic Committee "
   ]
  },
  {
   "cell_type": "code",
   "execution_count": 320,
   "metadata": {
    "ExecuteTime": {
     "end_time": "2020-07-02T09:12:19.798449Z",
     "start_time": "2020-07-02T09:12:19.784500Z"
    }
   },
   "outputs": [],
   "source": [
    "import requests\n",
    "import pandas as pd\n",
    "import json\n",
    "from PIL import Image\n",
    "from pandas.io.json import json_normalize\n",
    "import seaborn as sns\n",
    "\n",
    "def api_import(n):\n",
    "    response = requests.get(n)\n",
    "    status=response.status_code\n",
    "    print(\"Import status:\",status)\n",
    "    d=response.json()\n",
    "    df=pd.json_normalize(d)\n",
    "    print(\"Data shape:\",df.shape[0])\n",
    "    print('Data column:', df.columns)\n",
    "    return df          "
   ]
  },
  {
   "cell_type": "code",
   "execution_count": 321,
   "metadata": {},
   "outputs": [
    {
     "name": "stdout",
     "output_type": "stream",
     "text": [
      "Import status: 200\n",
      "Data shape: 250\n",
      "Data column: Index(['name', 'topLevelDomain', 'alpha2Code', 'alpha3Code', 'callingCodes',\n",
      "       'capital', 'altSpellings', 'region', 'subregion', 'population',\n",
      "       'latlng', 'demonym', 'area', 'gini', 'timezones', 'borders',\n",
      "       'nativeName', 'numericCode', 'currencies', 'languages', 'flag',\n",
      "       'regionalBlocs', 'cioc', 'translations.de', 'translations.es',\n",
      "       'translations.fr', 'translations.ja', 'translations.it',\n",
      "       'translations.br', 'translations.pt', 'translations.nl',\n",
      "       'translations.hr', 'translations.fa'],\n",
      "      dtype='object')\n"
     ]
    }
   ],
   "source": [
    "df = api_import('https://restcountries.eu/rest/v2/all')"
   ]
  },
  {
   "cell_type": "markdown",
   "metadata": {},
   "source": [
    "# Cleaning data"
   ]
  },
  {
   "cell_type": "markdown",
   "metadata": {},
   "source": [
    "## Missing data"
   ]
  },
  {
   "cell_type": "code",
   "execution_count": 322,
   "metadata": {},
   "outputs": [
    {
     "data": {
      "text/plain": [
       "<matplotlib.axes._subplots.AxesSubplot at 0x7f8095a6b390>"
      ]
     },
     "execution_count": 322,
     "metadata": {},
     "output_type": "execute_result"
    },
    {
     "data": {
      "image/png": "[encoded data removed]",
      "text/plain": [
       "<Figure size 432x288 with 1 Axes>"
      ]
     },
     "metadata": {
      "needs_background": "light"
     },
     "output_type": "display_data"
    }
   ],
   "source": [
    "sns.heatmap(df.isnull(),cbar=False, cmap='magma'\n",
    "#             , yticklabels=False\n",
    "           )"
   ]
  },
  {
   "cell_type": "code",
   "execution_count": 323,
   "metadata": {},
   "outputs": [
    {
     "data": {
      "text/plain": [
       "Series([], Name: nativeName, dtype: object)"
      ]
     },
     "execution_count": 323,
     "metadata": {},
     "output_type": "execute_result"
    }
   ],
   "source": [
    "df[df['regionalBlocs'].isnull() == True].nativeName"
   ]
  },
  {
   "cell_type": "markdown",
   "metadata": {},
   "source": [
    "## Un-nest all columns"
   ]
  },
  {
   "cell_type": "code",
   "execution_count": 324,
   "metadata": {},
   "outputs": [],
   "source": [
    "# def unnest(i,df):\n",
    "#     new_df = pd.concat([pd.DataFrame(pd.json_normalize(x)) for x in df[i]],ignore_index=True)\n",
    "#     n = []\n",
    "#     for j in new_df.columns:\n",
    "#         n.append(i+'_'+j)\n",
    "#     df[n] = new_df\n",
    "#     df = df.drop(columns=i)\n",
    "#     return df"
   ]
  },
  {
   "cell_type": "markdown",
   "metadata": {},
   "source": [
    "tui nghĩ khúc này tui mở nested data ra có khúc gì dó ko ổn mà tui nghĩ ko ra. Ông coi giúp tui khúc này vs nha"
   ]
  },
  {
   "cell_type": "code",
   "execution_count": 325,
   "metadata": {},
   "outputs": [
    {
     "data": {
      "text/html": [
       "<div>\n",
       "<style scoped>\n",
       "    .dataframe tbody tr th:only-of-type {\n",
       "        vertical-align: middle;\n",
       "    }\n",
       "\n",
       "    .dataframe tbody tr th {\n",
       "        vertical-align: top;\n",
       "    }\n",
       "\n",
       "    .dataframe thead th {\n",
       "        text-align: right;\n",
       "    }\n",
       "</style>\n",
       "<table border=\"1\" class=\"dataframe\">\n",
       "  <thead>\n",
       "    <tr style=\"text-align: right;\">\n",
       "      <th></th>\n",
       "      <th>name</th>\n",
       "      <th>topLevelDomain</th>\n",
       "      <th>alpha2Code</th>\n",
       "      <th>alpha3Code</th>\n",
       "      <th>callingCodes</th>\n",
       "      <th>capital</th>\n",
       "      <th>altSpellings</th>\n",
       "      <th>region</th>\n",
       "      <th>subregion</th>\n",
       "      <th>population</th>\n",
       "      <th>...</th>\n",
       "      <th>currencies_name</th>\n",
       "      <th>currencies_symbol</th>\n",
       "      <th>languages_iso639_1</th>\n",
       "      <th>languages_iso639_2</th>\n",
       "      <th>languages_name</th>\n",
       "      <th>languages_nativeName</th>\n",
       "      <th>regionalBlocs_acronym</th>\n",
       "      <th>regionalBlocs_name</th>\n",
       "      <th>regionalBlocs_otherAcronyms</th>\n",
       "      <th>regionalBlocs_otherNames</th>\n",
       "    </tr>\n",
       "  </thead>\n",
       "  <tbody>\n",
       "    <tr>\n",
       "      <th>0</th>\n",
       "      <td>Afghanistan</td>\n",
       "      <td>[.af]</td>\n",
       "      <td>AF</td>\n",
       "      <td>AFG</td>\n",
       "      <td>[93]</td>\n",
       "      <td>Kabul</td>\n",
       "      <td>[AF, Afġānistān]</td>\n",
       "      <td>Asia</td>\n",
       "      <td>Southern Asia</td>\n",
       "      <td>27657145</td>\n",
       "      <td>...</td>\n",
       "      <td>Afghan afghani</td>\n",
       "      <td>؋</td>\n",
       "      <td>ps</td>\n",
       "      <td>pus</td>\n",
       "      <td>Pashto</td>\n",
       "      <td>پښتو</td>\n",
       "      <td>SAARC</td>\n",
       "      <td>South Asian Association for Regional Cooperation</td>\n",
       "      <td>[]</td>\n",
       "      <td>[]</td>\n",
       "    </tr>\n",
       "    <tr>\n",
       "      <th>1</th>\n",
       "      <td>Åland Islands</td>\n",
       "      <td>[.ax]</td>\n",
       "      <td>AX</td>\n",
       "      <td>ALA</td>\n",
       "      <td>[358]</td>\n",
       "      <td>Mariehamn</td>\n",
       "      <td>[AX, Aaland, Aland, Ahvenanmaa]</td>\n",
       "      <td>Europe</td>\n",
       "      <td>Northern Europe</td>\n",
       "      <td>28875</td>\n",
       "      <td>...</td>\n",
       "      <td>Euro</td>\n",
       "      <td>€</td>\n",
       "      <td>uz</td>\n",
       "      <td>uzb</td>\n",
       "      <td>Uzbek</td>\n",
       "      <td>Oʻzbek</td>\n",
       "      <td>EU</td>\n",
       "      <td>European Union</td>\n",
       "      <td>[]</td>\n",
       "      <td>[]</td>\n",
       "    </tr>\n",
       "    <tr>\n",
       "      <th>2</th>\n",
       "      <td>Albania</td>\n",
       "      <td>[.al]</td>\n",
       "      <td>AL</td>\n",
       "      <td>ALB</td>\n",
       "      <td>[355]</td>\n",
       "      <td>Tirana</td>\n",
       "      <td>[AL, Shqipëri, Shqipëria, Shqipnia]</td>\n",
       "      <td>Europe</td>\n",
       "      <td>Southern Europe</td>\n",
       "      <td>2886026</td>\n",
       "      <td>...</td>\n",
       "      <td>Albanian lek</td>\n",
       "      <td>L</td>\n",
       "      <td>tk</td>\n",
       "      <td>tuk</td>\n",
       "      <td>Turkmen</td>\n",
       "      <td>Türkmen</td>\n",
       "      <td>CEFTA</td>\n",
       "      <td>Central European Free Trade Agreement</td>\n",
       "      <td>[]</td>\n",
       "      <td>[]</td>\n",
       "    </tr>\n",
       "  </tbody>\n",
       "</table>\n",
       "<p>3 rows × 41 columns</p>\n",
       "</div>"
      ],
      "text/plain": [
       "            name topLevelDomain alpha2Code alpha3Code callingCodes    capital  \\\n",
       "0    Afghanistan          [.af]         AF        AFG         [93]      Kabul   \n",
       "1  Åland Islands          [.ax]         AX        ALA        [358]  Mariehamn   \n",
       "2        Albania          [.al]         AL        ALB        [355]     Tirana   \n",
       "\n",
       "                          altSpellings  region        subregion  population  \\\n",
       "0                     [AF, Afġānistān]    Asia    Southern Asia    27657145   \n",
       "1      [AX, Aaland, Aland, Ahvenanmaa]  Europe  Northern Europe       28875   \n",
       "2  [AL, Shqipëri, Shqipëria, Shqipnia]  Europe  Southern Europe     2886026   \n",
       "\n",
       "   ... currencies_name currencies_symbol  languages_iso639_1  \\\n",
       "0  ...  Afghan afghani                 ؋                  ps   \n",
       "1  ...            Euro                 €                  uz   \n",
       "2  ...    Albanian lek                 L                  tk   \n",
       "\n",
       "   languages_iso639_2 languages_name languages_nativeName  \\\n",
       "0                 pus         Pashto                 پښتو   \n",
       "1                 uzb          Uzbek               Oʻzbek   \n",
       "2                 tuk        Turkmen              Türkmen   \n",
       "\n",
       "  regionalBlocs_acronym                                regionalBlocs_name  \\\n",
       "0                 SAARC  South Asian Association for Regional Cooperation   \n",
       "1                    EU                                    European Union   \n",
       "2                 CEFTA             Central European Free Trade Agreement   \n",
       "\n",
       "  regionalBlocs_otherAcronyms regionalBlocs_otherNames  \n",
       "0                          []                       []  \n",
       "1                          []                       []  \n",
       "2                          []                       []  \n",
       "\n",
       "[3 rows x 41 columns]"
      ]
     },
     "execution_count": 325,
     "metadata": {},
     "output_type": "execute_result"
    }
   ],
   "source": [
    "unnest_lst = ['currencies', 'languages','regionalBlocs']\n",
    "for i in unnest_lst:\n",
    "    df = unnest(i,df)\n",
    "df.head(3)"
   ]
  },
  {
   "cell_type": "code",
   "execution_count": 326,
   "metadata": {},
   "outputs": [
    {
     "data": {
      "text/html": [
       "<div>\n",
       "<style scoped>\n",
       "    .dataframe tbody tr th:only-of-type {\n",
       "        vertical-align: middle;\n",
       "    }\n",
       "\n",
       "    .dataframe tbody tr th {\n",
       "        vertical-align: top;\n",
       "    }\n",
       "\n",
       "    .dataframe thead th {\n",
       "        text-align: right;\n",
       "    }\n",
       "</style>\n",
       "<table border=\"1\" class=\"dataframe\">\n",
       "  <thead>\n",
       "    <tr style=\"text-align: right;\">\n",
       "      <th></th>\n",
       "      <th>name</th>\n",
       "      <th>topLevelDomain</th>\n",
       "      <th>alpha2Code</th>\n",
       "      <th>alpha3Code</th>\n",
       "      <th>callingCodes</th>\n",
       "      <th>capital</th>\n",
       "      <th>altSpellings</th>\n",
       "      <th>region</th>\n",
       "      <th>subregion</th>\n",
       "      <th>population</th>\n",
       "      <th>...</th>\n",
       "      <th>translations.fa</th>\n",
       "      <th>currencies_code</th>\n",
       "      <th>currencies_name</th>\n",
       "      <th>currencies_symbol</th>\n",
       "      <th>languages_iso639_1</th>\n",
       "      <th>languages_iso639_2</th>\n",
       "      <th>languages_name</th>\n",
       "      <th>languages_nativeName</th>\n",
       "      <th>regionalBlocs_acronym</th>\n",
       "      <th>regionalBlocs_name</th>\n",
       "    </tr>\n",
       "  </thead>\n",
       "  <tbody>\n",
       "    <tr>\n",
       "      <th>0</th>\n",
       "      <td>Afghanistan</td>\n",
       "      <td>[.af]</td>\n",
       "      <td>AF</td>\n",
       "      <td>AFG</td>\n",
       "      <td>[93]</td>\n",
       "      <td>Kabul</td>\n",
       "      <td>[AF, Afġānistān]</td>\n",
       "      <td>Asia</td>\n",
       "      <td>Southern Asia</td>\n",
       "      <td>27657145</td>\n",
       "      <td>...</td>\n",
       "      <td>افغانستان</td>\n",
       "      <td>AFN</td>\n",
       "      <td>Afghan afghani</td>\n",
       "      <td>؋</td>\n",
       "      <td>ps</td>\n",
       "      <td>pus</td>\n",
       "      <td>Pashto</td>\n",
       "      <td>پښتو</td>\n",
       "      <td>SAARC</td>\n",
       "      <td>South Asian Association for Regional Cooperation</td>\n",
       "    </tr>\n",
       "    <tr>\n",
       "      <th>1</th>\n",
       "      <td>Åland Islands</td>\n",
       "      <td>[.ax]</td>\n",
       "      <td>AX</td>\n",
       "      <td>ALA</td>\n",
       "      <td>[358]</td>\n",
       "      <td>Mariehamn</td>\n",
       "      <td>[AX, Aaland, Aland, Ahvenanmaa]</td>\n",
       "      <td>Europe</td>\n",
       "      <td>Northern Europe</td>\n",
       "      <td>28875</td>\n",
       "      <td>...</td>\n",
       "      <td>جزایر الند</td>\n",
       "      <td>EUR</td>\n",
       "      <td>Euro</td>\n",
       "      <td>€</td>\n",
       "      <td>uz</td>\n",
       "      <td>uzb</td>\n",
       "      <td>Uzbek</td>\n",
       "      <td>Oʻzbek</td>\n",
       "      <td>EU</td>\n",
       "      <td>European Union</td>\n",
       "    </tr>\n",
       "    <tr>\n",
       "      <th>2</th>\n",
       "      <td>Albania</td>\n",
       "      <td>[.al]</td>\n",
       "      <td>AL</td>\n",
       "      <td>ALB</td>\n",
       "      <td>[355]</td>\n",
       "      <td>Tirana</td>\n",
       "      <td>[AL, Shqipëri, Shqipëria, Shqipnia]</td>\n",
       "      <td>Europe</td>\n",
       "      <td>Southern Europe</td>\n",
       "      <td>2886026</td>\n",
       "      <td>...</td>\n",
       "      <td>آلبانی</td>\n",
       "      <td>ALL</td>\n",
       "      <td>Albanian lek</td>\n",
       "      <td>L</td>\n",
       "      <td>tk</td>\n",
       "      <td>tuk</td>\n",
       "      <td>Turkmen</td>\n",
       "      <td>Türkmen</td>\n",
       "      <td>CEFTA</td>\n",
       "      <td>Central European Free Trade Agreement</td>\n",
       "    </tr>\n",
       "  </tbody>\n",
       "</table>\n",
       "<p>3 rows × 39 columns</p>\n",
       "</div>"
      ],
      "text/plain": [
       "            name topLevelDomain alpha2Code alpha3Code callingCodes    capital  \\\n",
       "0    Afghanistan          [.af]         AF        AFG         [93]      Kabul   \n",
       "1  Åland Islands          [.ax]         AX        ALA        [358]  Mariehamn   \n",
       "2        Albania          [.al]         AL        ALB        [355]     Tirana   \n",
       "\n",
       "                          altSpellings  region        subregion  population  \\\n",
       "0                     [AF, Afġānistān]    Asia    Southern Asia    27657145   \n",
       "1      [AX, Aaland, Aland, Ahvenanmaa]  Europe  Northern Europe       28875   \n",
       "2  [AL, Shqipëri, Shqipëria, Shqipnia]  Europe  Southern Europe     2886026   \n",
       "\n",
       "   ... translations.fa currencies_code  currencies_name  currencies_symbol  \\\n",
       "0  ...       افغانستان             AFN   Afghan afghani                  ؋   \n",
       "1  ...      جزایر الند             EUR             Euro                  €   \n",
       "2  ...          آلبانی             ALL     Albanian lek                  L   \n",
       "\n",
       "  languages_iso639_1 languages_iso639_2 languages_name languages_nativeName  \\\n",
       "0                 ps                pus         Pashto                 پښتو   \n",
       "1                 uz                uzb          Uzbek               Oʻzbek   \n",
       "2                 tk                tuk        Turkmen              Türkmen   \n",
       "\n",
       "  regionalBlocs_acronym                                regionalBlocs_name  \n",
       "0                 SAARC  South Asian Association for Regional Cooperation  \n",
       "1                    EU                                    European Union  \n",
       "2                 CEFTA             Central European Free Trade Agreement  \n",
       "\n",
       "[3 rows x 39 columns]"
      ]
     },
     "execution_count": 326,
     "metadata": {},
     "output_type": "execute_result"
    }
   ],
   "source": [
    "df = df.drop(columns=['regionalBlocs_otherAcronyms','regionalBlocs_otherNames'])\n",
    "df.head(3)"
   ]
  },
  {
   "cell_type": "markdown",
   "metadata": {},
   "source": [
    "# Organize sub-datasets and Questions "
   ]
  },
  {
   "cell_type": "code",
   "execution_count": 309,
   "metadata": {},
   "outputs": [],
   "source": [
    "info = ['name','alpha3Code', 'flag', 'capital', 'latlng', 'population',  'area',\n",
    "          'borders', 'region', 'subregion', 'demonym','languages_name']\n",
    "# language = ['nativeName','languages_iso639_1', 'languages_iso639_2', \n",
    "#             'languages_nativeName','region', 'subregion','latlng','translations.de',\n",
    "#             'translations.es', 'translations.fr', 'translations.ja',\n",
    "#             'translations.it', 'translations.br', 'translations.pt',\n",
    "#             'translations.nl', 'translations.hr', 'translations.fa']\n",
    "economic = ['name','alpha3Code','latlng',  'gini', 'borders'\n",
    "        'currencies_code', 'currencies_name', 'currencies_symbol','regionalBlocs_acronym', 'regionalBlocs_name']\n",
    "\n",
    "# demonym: nhóm ng, tộc người, nhóm dân tộc\n",
    "# gini: độ chênh lệch giàu nghèo"
   ]
  },
  {
   "cell_type": "code",
   "execution_count": 310,
   "metadata": {},
   "outputs": [
    {
     "data": {
      "text/plain": [
       "Index(['name', 'topLevelDomain', 'alpha2Code', 'alpha3Code', 'callingCodes',\n",
       "       'capital', 'altSpellings', 'region', 'subregion', 'population',\n",
       "       'latlng', 'demonym', 'area', 'gini', 'timezones', 'borders',\n",
       "       'nativeName', 'numericCode', 'flag', 'cioc', 'translations.de',\n",
       "       'translations.es', 'translations.fr', 'translations.ja',\n",
       "       'translations.it', 'translations.br', 'translations.pt',\n",
       "       'translations.nl', 'translations.hr', 'translations.fa',\n",
       "       'currencies_code', 'currencies_name', 'currencies_symbol',\n",
       "       'languages_iso639_1', 'languages_iso639_2', 'languages_name',\n",
       "       'languages_nativeName', 'regionalBlocs_acronym', 'regionalBlocs_name'],\n",
       "      dtype='object')"
      ]
     },
     "execution_count": 310,
     "metadata": {},
     "output_type": "execute_result"
    }
   ],
   "source": [
    "df.columns"
   ]
  },
  {
   "cell_type": "markdown",
   "metadata": {},
   "source": [
    "## Country info subset"
   ]
  },
  {
   "cell_type": "code",
   "execution_count": 311,
   "metadata": {},
   "outputs": [
    {
     "data": {
      "text/html": [
       "<div>\n",
       "<style scoped>\n",
       "    .dataframe tbody tr th:only-of-type {\n",
       "        vertical-align: middle;\n",
       "    }\n",
       "\n",
       "    .dataframe tbody tr th {\n",
       "        vertical-align: top;\n",
       "    }\n",
       "\n",
       "    .dataframe thead th {\n",
       "        text-align: right;\n",
       "    }\n",
       "</style>\n",
       "<table border=\"1\" class=\"dataframe\">\n",
       "  <thead>\n",
       "    <tr style=\"text-align: right;\">\n",
       "      <th></th>\n",
       "      <th>name</th>\n",
       "      <th>alpha3Code</th>\n",
       "      <th>capital</th>\n",
       "      <th>latlng</th>\n",
       "      <th>borders</th>\n",
       "      <th>flag</th>\n",
       "      <th>region</th>\n",
       "      <th>subregion</th>\n",
       "      <th>regionalBlocs_acronym</th>\n",
       "      <th>regionalBlocs_name</th>\n",
       "    </tr>\n",
       "  </thead>\n",
       "  <tbody>\n",
       "    <tr>\n",
       "      <th>0</th>\n",
       "      <td>Afghanistan</td>\n",
       "      <td>AFG</td>\n",
       "      <td>Kabul</td>\n",
       "      <td>[33.0, 65.0]</td>\n",
       "      <td>[IRN, PAK, TKM, UZB, TJK, CHN]</td>\n",
       "      <td>https://restcountries.eu/data/afg.svg</td>\n",
       "      <td>Asia</td>\n",
       "      <td>Southern Asia</td>\n",
       "      <td>SAARC</td>\n",
       "      <td>South Asian Association for Regional Cooperation</td>\n",
       "    </tr>\n",
       "    <tr>\n",
       "      <th>1</th>\n",
       "      <td>Åland Islands</td>\n",
       "      <td>ALA</td>\n",
       "      <td>Mariehamn</td>\n",
       "      <td>[60.116667, 19.9]</td>\n",
       "      <td>[]</td>\n",
       "      <td>https://restcountries.eu/data/ala.svg</td>\n",
       "      <td>Europe</td>\n",
       "      <td>Northern Europe</td>\n",
       "      <td>EU</td>\n",
       "      <td>European Union</td>\n",
       "    </tr>\n",
       "    <tr>\n",
       "      <th>2</th>\n",
       "      <td>Albania</td>\n",
       "      <td>ALB</td>\n",
       "      <td>Tirana</td>\n",
       "      <td>[41.0, 20.0]</td>\n",
       "      <td>[MNE, GRC, MKD, KOS]</td>\n",
       "      <td>https://restcountries.eu/data/alb.svg</td>\n",
       "      <td>Europe</td>\n",
       "      <td>Southern Europe</td>\n",
       "      <td>CEFTA</td>\n",
       "      <td>Central European Free Trade Agreement</td>\n",
       "    </tr>\n",
       "  </tbody>\n",
       "</table>\n",
       "</div>"
      ],
      "text/plain": [
       "            name alpha3Code    capital             latlng  \\\n",
       "0    Afghanistan        AFG      Kabul       [33.0, 65.0]   \n",
       "1  Åland Islands        ALA  Mariehamn  [60.116667, 19.9]   \n",
       "2        Albania        ALB     Tirana       [41.0, 20.0]   \n",
       "\n",
       "                          borders                                   flag  \\\n",
       "0  [IRN, PAK, TKM, UZB, TJK, CHN]  https://restcountries.eu/data/afg.svg   \n",
       "1                              []  https://restcountries.eu/data/ala.svg   \n",
       "2            [MNE, GRC, MKD, KOS]  https://restcountries.eu/data/alb.svg   \n",
       "\n",
       "   region        subregion regionalBlocs_acronym  \\\n",
       "0    Asia    Southern Asia                 SAARC   \n",
       "1  Europe  Northern Europe                    EU   \n",
       "2  Europe  Southern Europe                 CEFTA   \n",
       "\n",
       "                                 regionalBlocs_name  \n",
       "0  South Asian Association for Regional Cooperation  \n",
       "1                                    European Union  \n",
       "2             Central European Free Trade Agreement  "
      ]
     },
     "execution_count": 311,
     "metadata": {},
     "output_type": "execute_result"
    }
   ],
   "source": [
    "df[info].head(3)"
   ]
  },
  {
   "cell_type": "markdown",
   "metadata": {},
   "source": [
    "Quests:\n",
    "1. From regional view\n",
    "- Map represent geographic region/sub-regions and borders with countries (nhấn mạnh các nước có càng nhiều border chung với các nước khác)\n",
    "- Map represent geographic region/sub-regions VS currency groups\n",
    "- Map represent geographic region/sub-regions VS languages groups\n",
    "\n",
    "2. Từ góc nhìn trên mật độ dân số\n",
    "- Map show mật độ dân số (population/area) cao-thấp vs regions/sub-regions\n",
    "- Map show độ phân trải của các nhóm dân tộc (demonym) VS mật độ dân số\n",
    "- Map show độ phân trải của các nhóm languages vs mật độ dân số"
   ]
  },
  {
   "cell_type": "markdown",
   "metadata": {},
   "source": [
    "## Country economic subset"
   ]
  },
  {
   "cell_type": "code",
   "execution_count": 313,
   "metadata": {},
   "outputs": [
    {
     "data": {
      "text/html": [
       "<div>\n",
       "<style scoped>\n",
       "    .dataframe tbody tr th:only-of-type {\n",
       "        vertical-align: middle;\n",
       "    }\n",
       "\n",
       "    .dataframe tbody tr th {\n",
       "        vertical-align: top;\n",
       "    }\n",
       "\n",
       "    .dataframe thead th {\n",
       "        text-align: right;\n",
       "    }\n",
       "</style>\n",
       "<table border=\"1\" class=\"dataframe\">\n",
       "  <thead>\n",
       "    <tr style=\"text-align: right;\">\n",
       "      <th></th>\n",
       "      <th>name</th>\n",
       "      <th>alpha3Code</th>\n",
       "      <th>latlng</th>\n",
       "      <th>population</th>\n",
       "      <th>area</th>\n",
       "      <th>demonym</th>\n",
       "      <th>gini</th>\n",
       "      <th>currencies_code</th>\n",
       "      <th>currencies_name</th>\n",
       "      <th>currencies_symbol</th>\n",
       "      <th>regionalBlocs_acronym</th>\n",
       "      <th>regionalBlocs_name</th>\n",
       "    </tr>\n",
       "  </thead>\n",
       "  <tbody>\n",
       "    <tr>\n",
       "      <th>0</th>\n",
       "      <td>Afghanistan</td>\n",
       "      <td>AFG</td>\n",
       "      <td>[33.0, 65.0]</td>\n",
       "      <td>27657145</td>\n",
       "      <td>652230.0</td>\n",
       "      <td>Afghan</td>\n",
       "      <td>27.8</td>\n",
       "      <td>AFN</td>\n",
       "      <td>Afghan afghani</td>\n",
       "      <td>؋</td>\n",
       "      <td>SAARC</td>\n",
       "      <td>South Asian Association for Regional Cooperation</td>\n",
       "    </tr>\n",
       "    <tr>\n",
       "      <th>1</th>\n",
       "      <td>Åland Islands</td>\n",
       "      <td>ALA</td>\n",
       "      <td>[60.116667, 19.9]</td>\n",
       "      <td>28875</td>\n",
       "      <td>1580.0</td>\n",
       "      <td>Ålandish</td>\n",
       "      <td>NaN</td>\n",
       "      <td>EUR</td>\n",
       "      <td>Euro</td>\n",
       "      <td>€</td>\n",
       "      <td>EU</td>\n",
       "      <td>European Union</td>\n",
       "    </tr>\n",
       "    <tr>\n",
       "      <th>2</th>\n",
       "      <td>Albania</td>\n",
       "      <td>ALB</td>\n",
       "      <td>[41.0, 20.0]</td>\n",
       "      <td>2886026</td>\n",
       "      <td>28748.0</td>\n",
       "      <td>Albanian</td>\n",
       "      <td>34.5</td>\n",
       "      <td>ALL</td>\n",
       "      <td>Albanian lek</td>\n",
       "      <td>L</td>\n",
       "      <td>CEFTA</td>\n",
       "      <td>Central European Free Trade Agreement</td>\n",
       "    </tr>\n",
       "  </tbody>\n",
       "</table>\n",
       "</div>"
      ],
      "text/plain": [
       "            name alpha3Code             latlng  population      area  \\\n",
       "0    Afghanistan        AFG       [33.0, 65.0]    27657145  652230.0   \n",
       "1  Åland Islands        ALA  [60.116667, 19.9]       28875    1580.0   \n",
       "2        Albania        ALB       [41.0, 20.0]     2886026   28748.0   \n",
       "\n",
       "    demonym  gini currencies_code currencies_name currencies_symbol  \\\n",
       "0    Afghan  27.8             AFN  Afghan afghani                 ؋   \n",
       "1  Ålandish   NaN             EUR            Euro                 €   \n",
       "2  Albanian  34.5             ALL    Albanian lek                 L   \n",
       "\n",
       "  regionalBlocs_acronym                                regionalBlocs_name  \n",
       "0                 SAARC  South Asian Association for Regional Cooperation  \n",
       "1                    EU                                    European Union  \n",
       "2                 CEFTA             Central European Free Trade Agreement  "
      ]
     },
     "execution_count": 313,
     "metadata": {},
     "output_type": "execute_result"
    }
   ],
   "source": [
    "df[info].head(3)"
   ]
  },
  {
   "cell_type": "markdown",
   "metadata": {},
   "source": [
    "Quest:\n",
    "1. Xét trên quan hệ các hiệp định đã ký\n",
    "- Hiệp định Vs Region/sub-regions\n",
    "- Map thể hiện các nước tham gia vào các hiệp định chung (regionalBlocs) (press các nước tham gia vào càng nhiều hiệp định chung) + Map so sánh đối chiếu giữa các nước tham gia càng nhiều hiệp định Vs số lượng border chung với các nc khác. Rút kết luận tương quan.\n",
    "- Map show gini (phân cấp giàu nghèo) vs hiệp định tham gia (regionalBlocs)\n",
    "- Map shoư quan hệ giữa currency vs các hiệp định (regionalBlocs)\n",
    "\n",
    "2. Xét trên quan hệ gini\n",
    "- gini (phân cấp giàu nghèo) VS nhóm region/sub-region\n",
    "- Map show gini (phân cấp giàu nghèo) VS mật độ dân số (population/area) cao-thấp \n",
    "- gini (phân cấp giàu nghèo) VS nhóm ngôn ngữ\n",
    "- gini (phân cấp giàu nghèo) VS nhóm currency\n"
   ]
  }
 ],
 "metadata": {
  "kernelspec": {
   "display_name": "Python 3",
   "language": "python",
   "name": "python3"
  },
  "language_info": {
   "codemirror_mode": {
    "name": "ipython",
    "version": 3
   },
   "file_extension": ".py",
   "mimetype": "text/x-python",
   "name": "python",
   "nbconvert_exporter": "python",
   "pygments_lexer": "ipython3",
   "version": "3.6.9"
  },
  "toc": {
   "base_numbering": 1,
   "nav_menu": {},
   "number_sections": true,
   "sideBar": true,
   "skip_h1_title": false,
   "title_cell": "Table of Contents",
   "title_sidebar": "Contents",
   "toc_cell": false,
   "toc_position": {},
   "toc_section_display": true,
   "toc_window_display": true
  },
  "varInspector": {
   "cols": {
    "lenName": 16,
    "lenType": 16,
    "lenVar": 40
   },
   "kernels_config": {
    "python": {
     "delete_cmd_postfix": "",
     "delete_cmd_prefix": "del ",
     "library": "var_list.py",
     "varRefreshCmd": "print(var_dic_list())"
    },
    "r": {
     "delete_cmd_postfix": ") ",
     "delete_cmd_prefix": "rm(",
     "library": "var_list.r",
     "varRefreshCmd": "cat(var_dic_list()) "
    }
   },
   "types_to_exclude": [
    "module",
    "function",
    "builtin_function_or_method",
    "instance",
    "_Feature"
   ],
   "window_display": false
  }
 },
 "nbformat": 4,
 "nbformat_minor": 4
}
