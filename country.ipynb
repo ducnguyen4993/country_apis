{
 "cells": [
  {
   "cell_type": "markdown",
   "metadata": {},
   "source": [
    "# IMPORTING DATA"
   ]
  },
  {
   "cell_type": "markdown",
   "metadata": {},
   "source": [
    "Country dataset include following information: \n",
    " - name - common name in english\n",
    " - topLevelDomain - country code top-level domain \n",
    " - alpha2Code - code ISO 3166-1 alpha-2 \n",
    " - alpha3Code - code ISO 3166-1 alpha-3 \n",
    " - callingCodes - list of all suffixes calling codes assigned to this country\n",
    " - capital - capital city(ies)\n",
    " - altSpellings - alternative spellings for country name\n",
    " - region\n",
    " - subregion\n",
    " - population\n",
    " - latlng - latitude and longitude \n",
    " - demonym - name of residents living in the country\n",
    " - area - land area in km² \n",
    " - gini - measures the inequality among values of a frequency distribution (for example, levels of income). A Gini coefficient of zero expresses perfect equality, where all values are the same (for example, where everyone has the same income). A Gini coefficient of one (or 100%) expresses maximal inequality among values (e.g., for a large number of people, where only one person has all the income or consumption, and all others have none, the Gini coefficient will be very nearly one).\n",
    " (Hệ số Gini thường được sử dụng để biểu thị mức độ bất bình đẳng trong phân phối thu nhập giữa các tầng lớp cư dân. Số 0 tượng trưng cho sự bình đẳng thu nhập tuyệt đối (mọi người đều có cùng một mức thu nhập), số 1 tượng trưng cho sự bất bình đẳng thu nhập tuyệt đối (một người có toàn bộ thu nhập, trong khi tất cả mọi người khác không có thu nhập).\n",
    "\n",
    "Hệ số Gini cũng được dùng để biểu thị mức độ chênh lệch về giàu nghèo. Khi sử dụng hệ số Gini trong trường hợp này, điều kiện yêu cầu phải thỏa mãn không tồn tại cá nhân nào có thu nhập ròng âm.)\n",
    " \n",
    "- timezones\n",
    "- borders - land borders \n",
    "- nativeName - country native names\n",
    "- numericCode\n",
    "- currencies - list of all currencies\n",
    " \t- key: ISO 4217 currency code\n",
    " \t- value: currency object\n",
    " \t\t- key: `name` name of the currency\n",
    " \t\t- key: `symbol` symbol of the currency\n",
    "- list of official languages (`languages`)\n",
    "\t- key: three-letter ISO 639-3 language code\n",
    " \t- value: name of the language in english \n",
    "- flag - Emoji flag\n",
    "- regionalBlocs - type of intergovernmental agreement, often part of a regional intergovernmental organization, where barriers to trade (tariffs and others) are reduced or eliminated among the participating states.\n",
    "- cioc - code International Olympic Committee "
   ]
  },
  {
   "cell_type": "code",
   "execution_count": 52,
   "metadata": {
    "ExecuteTime": {
     "end_time": "2020-07-02T09:12:19.798449Z",
     "start_time": "2020-07-02T09:12:19.784500Z"
    }
   },
   "outputs": [],
   "source": [
    "import requests\n",
    "import pandas as pd\n",
    "import numpy as np\n",
    "import json\n",
    "from PIL import Image\n",
    "from pandas.io.json import json_normalize\n",
    "import seaborn as sns\n",
    "import matplotlib.pyplot as plt\n",
    "import plotly.graph_objects as go\n",
    "import plotly.express as px\n",
    "from plotly.subplots import make_subplots"
   ]
  },
  {
   "cell_type": "code",
   "execution_count": 53,
   "metadata": {},
   "outputs": [],
   "source": [
    "def api_import(n):\n",
    "    response = requests.get(n)\n",
    "    status=response.status_code\n",
    "    print(\"Import status:\",status)\n",
    "    d=response.json()\n",
    "    df=pd.json_normalize(d)\n",
    "    print(\"Data shape:\",df.shape[0])\n",
    "    print('Data column:', df.columns)\n",
    "    return df          "
   ]
  },
  {
   "cell_type": "code",
   "execution_count": 54,
   "metadata": {},
   "outputs": [
    {
     "name": "stdout",
     "output_type": "stream",
     "text": [
      "Import status: 200\n",
      "Data shape: 250\n",
      "Data column: Index(['name', 'topLevelDomain', 'alpha2Code', 'alpha3Code', 'callingCodes',\n",
      "       'capital', 'altSpellings', 'region', 'subregion', 'population',\n",
      "       'latlng', 'demonym', 'area', 'gini', 'timezones', 'borders',\n",
      "       'nativeName', 'numericCode', 'currencies', 'languages', 'flag',\n",
      "       'regionalBlocs', 'cioc', 'translations.de', 'translations.es',\n",
      "       'translations.fr', 'translations.ja', 'translations.it',\n",
      "       'translations.br', 'translations.pt', 'translations.nl',\n",
      "       'translations.hr', 'translations.fa'],\n",
      "      dtype='object')\n"
     ]
    }
   ],
   "source": [
    "df = api_import('https://restcountries.eu/rest/v2/all')"
   ]
  },
  {
   "cell_type": "code",
   "execution_count": 55,
   "metadata": {},
   "outputs": [
    {
     "data": {
      "text/plain": [
       "name                object\n",
       "topLevelDomain      object\n",
       "alpha2Code          object\n",
       "alpha3Code          object\n",
       "callingCodes        object\n",
       "capital             object\n",
       "altSpellings        object\n",
       "region              object\n",
       "subregion           object\n",
       "population           int64\n",
       "latlng              object\n",
       "demonym             object\n",
       "area               float64\n",
       "gini               float64\n",
       "timezones           object\n",
       "borders             object\n",
       "nativeName          object\n",
       "numericCode         object\n",
       "currencies          object\n",
       "languages           object\n",
       "flag                object\n",
       "regionalBlocs       object\n",
       "cioc                object\n",
       "translations.de     object\n",
       "translations.es     object\n",
       "translations.fr     object\n",
       "translations.ja     object\n",
       "translations.it     object\n",
       "translations.br     object\n",
       "translations.pt     object\n",
       "translations.nl     object\n",
       "translations.hr     object\n",
       "translations.fa     object\n",
       "dtype: object"
      ]
     },
     "execution_count": 55,
     "metadata": {},
     "output_type": "execute_result"
    }
   ],
   "source": [
    "df.dtypes"
   ]
  },
  {
   "cell_type": "code",
   "execution_count": 56,
   "metadata": {},
   "outputs": [
    {
     "data": {
      "text/plain": [
       "0      [{'iso639_1': 'ps', 'iso639_2': 'pus', 'name':...\n",
       "1      [{'iso639_1': 'sv', 'iso639_2': 'swe', 'name':...\n",
       "2      [{'iso639_1': 'sq', 'iso639_2': 'sqi', 'name':...\n",
       "3      [{'iso639_1': 'ar', 'iso639_2': 'ara', 'name':...\n",
       "4      [{'iso639_1': 'en', 'iso639_2': 'eng', 'name':...\n",
       "                             ...                        \n",
       "245    [{'iso639_1': 'fr', 'iso639_2': 'fra', 'name':...\n",
       "246    [{'iso639_1': 'es', 'iso639_2': 'spa', 'name':...\n",
       "247    [{'iso639_1': 'ar', 'iso639_2': 'ara', 'name':...\n",
       "248    [{'iso639_1': 'en', 'iso639_2': 'eng', 'name':...\n",
       "249    [{'iso639_1': 'en', 'iso639_2': 'eng', 'name':...\n",
       "Name: languages, Length: 250, dtype: object"
      ]
     },
     "execution_count": 56,
     "metadata": {},
     "output_type": "execute_result"
    }
   ],
   "source": [
    "df['languages']"
   ]
  },
  {
   "cell_type": "markdown",
   "metadata": {},
   "source": [
    "# EDA & Cleaning data"
   ]
  },
  {
   "cell_type": "markdown",
   "metadata": {},
   "source": [
    "## Drop unnecessary columns"
   ]
  },
  {
   "cell_type": "code",
   "execution_count": 57,
   "metadata": {},
   "outputs": [],
   "source": [
    "df.rename(columns={'name':'country','alpha3Code':'alphaCode'},inplace=True)\n",
    "df.drop(['topLevelDomain','alpha2Code','altSpellings','flag','callingCodes','numericCode','translations.de', 'translations.es',\n",
    "       'translations.fr', 'translations.ja', 'translations.it',\n",
    "       'translations.br', 'translations.pt', 'translations.nl',\n",
    "       'translations.hr', 'translations.fa', 'cioc'],axis=1,inplace=True)"
   ]
  },
  {
   "cell_type": "code",
   "execution_count": 58,
   "metadata": {},
   "outputs": [
    {
     "name": "stdout",
     "output_type": "stream",
     "text": [
      "<class 'pandas.core.frame.DataFrame'>\n",
      "RangeIndex: 250 entries, 0 to 249\n",
      "Data columns (total 16 columns):\n",
      " #   Column         Non-Null Count  Dtype  \n",
      "---  ------         --------------  -----  \n",
      " 0   country        250 non-null    object \n",
      " 1   alphaCode      250 non-null    object \n",
      " 2   capital        250 non-null    object \n",
      " 3   region         250 non-null    object \n",
      " 4   subregion      250 non-null    object \n",
      " 5   population     250 non-null    int64  \n",
      " 6   latlng         250 non-null    object \n",
      " 7   demonym        250 non-null    object \n",
      " 8   area           240 non-null    float64\n",
      " 9   gini           153 non-null    float64\n",
      " 10  timezones      250 non-null    object \n",
      " 11  borders        250 non-null    object \n",
      " 12  nativeName     250 non-null    object \n",
      " 13  currencies     250 non-null    object \n",
      " 14  languages      250 non-null    object \n",
      " 15  regionalBlocs  250 non-null    object \n",
      "dtypes: float64(2), int64(1), object(13)\n",
      "memory usage: 31.4+ KB\n"
     ]
    }
   ],
   "source": [
    "df.info()"
   ]
  },
  {
   "cell_type": "code",
   "execution_count": 59,
   "metadata": {},
   "outputs": [
    {
     "data": {
      "image/png": "[encoded data removed]",
      "text/plain": [
       "<Figure size 432x288 with 1 Axes>"
      ]
     },
     "metadata": {
      "needs_background": "light"
     },
     "output_type": "display_data"
    }
   ],
   "source": [
    "sns.heatmap(df.isnull(),cbar=False, cmap='magma'\n",
    "#             , yticklabels=False\n",
    "           )\n",
    "plt.show()"
   ]
  },
  {
   "cell_type": "markdown",
   "metadata": {},
   "source": [
    "## Categorial variables"
   ]
  },
  {
   "cell_type": "markdown",
   "metadata": {},
   "source": [
    "Basic statistics and frequency distributed for each categorial variables as below:\n",
    "- region\n",
    "- subregion\n",
    "- demonym\n",
    "- currencies\n",
    "- languages\n",
    "- regionalBlocs"
   ]
  },
  {
   "cell_type": "markdown",
   "metadata": {},
   "source": [
    "### Missing values and fill in"
   ]
  },
  {
   "cell_type": "code",
   "execution_count": 60,
   "metadata": {},
   "outputs": [],
   "source": [
    "#There are some columns with empty string values which are not shown as NaN\n",
    "#Fill all those with Unknown string\n",
    "def fill_empty(col):\n",
    "    new=[]\n",
    "    for i in col:\n",
    "        if i == '':\n",
    "            new.append('Unknown')\n",
    "        else:\n",
    "            new.append(i)\n",
    "    return new\n",
    "\n",
    "df['subregion']=fill_empty(df['subregion'])\n",
    "df['region']=fill_empty(df['region'])\n",
    "df['demonym']=fill_empty(df['demonym'])\n",
    "df['capital']=fill_empty(df['capital'])"
   ]
  },
  {
   "cell_type": "markdown",
   "metadata": {},
   "source": [
    "### region and subregion column"
   ]
  },
  {
   "cell_type": "code",
   "execution_count": 61,
   "metadata": {},
   "outputs": [
    {
     "data": {
      "text/plain": [
       "Africa      60\n",
       "Americas    57\n",
       "Europe      53\n",
       "Asia        50\n",
       "Oceania     27\n",
       "Unknown      2\n",
       "Polar        1\n",
       "Name: region, dtype: int64"
      ]
     },
     "execution_count": 61,
     "metadata": {},
     "output_type": "execute_result"
    }
   ],
   "source": [
    "df['region'].value_counts()"
   ]
  },
  {
   "cell_type": "code",
   "execution_count": 62,
   "metadata": {},
   "outputs": [
    {
     "data": {
      "text/html": [
       "<div>\n",
       "<style scoped>\n",
       "    .dataframe tbody tr th:only-of-type {\n",
       "        vertical-align: middle;\n",
       "    }\n",
       "\n",
       "    .dataframe tbody tr th {\n",
       "        vertical-align: top;\n",
       "    }\n",
       "\n",
       "    .dataframe thead th {\n",
       "        text-align: right;\n",
       "    }\n",
       "</style>\n",
       "<table border=\"1\" class=\"dataframe\">\n",
       "  <thead>\n",
       "    <tr style=\"text-align: right;\">\n",
       "      <th></th>\n",
       "      <th>country</th>\n",
       "      <th>alphaCode</th>\n",
       "      <th>capital</th>\n",
       "      <th>region</th>\n",
       "      <th>subregion</th>\n",
       "      <th>population</th>\n",
       "      <th>latlng</th>\n",
       "      <th>demonym</th>\n",
       "      <th>area</th>\n",
       "      <th>gini</th>\n",
       "      <th>timezones</th>\n",
       "      <th>borders</th>\n",
       "      <th>nativeName</th>\n",
       "      <th>currencies</th>\n",
       "      <th>languages</th>\n",
       "      <th>regionalBlocs</th>\n",
       "    </tr>\n",
       "  </thead>\n",
       "  <tbody>\n",
       "    <tr>\n",
       "      <th>30</th>\n",
       "      <td>Bouvet Island</td>\n",
       "      <td>BVT</td>\n",
       "      <td>Unknown</td>\n",
       "      <td>Unknown</td>\n",
       "      <td>Unknown</td>\n",
       "      <td>0</td>\n",
       "      <td>[-54.43333333, 3.4]</td>\n",
       "      <td>Unknown</td>\n",
       "      <td>49.0</td>\n",
       "      <td>NaN</td>\n",
       "      <td>[UTC+01:00]</td>\n",
       "      <td>[]</td>\n",
       "      <td>Bouvetøya</td>\n",
       "      <td>[{'code': 'NOK', 'name': 'Norwegian krone', 's...</td>\n",
       "      <td>[{'iso639_1': 'no', 'iso639_2': 'nor', 'name':...</td>\n",
       "      <td>[]</td>\n",
       "    </tr>\n",
       "    <tr>\n",
       "      <th>98</th>\n",
       "      <td>Heard Island and McDonald Islands</td>\n",
       "      <td>HMD</td>\n",
       "      <td>Unknown</td>\n",
       "      <td>Unknown</td>\n",
       "      <td>Unknown</td>\n",
       "      <td>0</td>\n",
       "      <td>[-53.1, 72.51666666]</td>\n",
       "      <td>Heard and McDonald Islander</td>\n",
       "      <td>412.0</td>\n",
       "      <td>NaN</td>\n",
       "      <td>[UTC+05:00]</td>\n",
       "      <td>[]</td>\n",
       "      <td>Heard Island and McDonald Islands</td>\n",
       "      <td>[{'code': 'AUD', 'name': 'Australian dollar', ...</td>\n",
       "      <td>[{'iso639_1': 'en', 'iso639_2': 'eng', 'name':...</td>\n",
       "      <td>[]</td>\n",
       "    </tr>\n",
       "  </tbody>\n",
       "</table>\n",
       "</div>"
      ],
      "text/plain": [
       "                              country alphaCode  capital   region subregion  \\\n",
       "30                      Bouvet Island       BVT  Unknown  Unknown   Unknown   \n",
       "98  Heard Island and McDonald Islands       HMD  Unknown  Unknown   Unknown   \n",
       "\n",
       "    population                latlng                      demonym   area  \\\n",
       "30           0   [-54.43333333, 3.4]                      Unknown   49.0   \n",
       "98           0  [-53.1, 72.51666666]  Heard and McDonald Islander  412.0   \n",
       "\n",
       "    gini    timezones borders                         nativeName  \\\n",
       "30   NaN  [UTC+01:00]      []                          Bouvetøya   \n",
       "98   NaN  [UTC+05:00]      []  Heard Island and McDonald Islands   \n",
       "\n",
       "                                           currencies  \\\n",
       "30  [{'code': 'NOK', 'name': 'Norwegian krone', 's...   \n",
       "98  [{'code': 'AUD', 'name': 'Australian dollar', ...   \n",
       "\n",
       "                                            languages regionalBlocs  \n",
       "30  [{'iso639_1': 'no', 'iso639_2': 'nor', 'name':...            []  \n",
       "98  [{'iso639_1': 'en', 'iso639_2': 'eng', 'name':...            []  "
      ]
     },
     "execution_count": 62,
     "metadata": {},
     "output_type": "execute_result"
    }
   ],
   "source": [
    "df[df['region'] == 'Unknown']"
   ]
  },
  {
   "cell_type": "markdown",
   "metadata": {},
   "source": [
    "Fill region and subregion for row 30 (Bouvet Island) with same information as in row 167 (Norway) as they are in similar area."
   ]
  },
  {
   "cell_type": "code",
   "execution_count": 63,
   "metadata": {},
   "outputs": [],
   "source": [
    "df.loc[30,'region'] = df.loc[167,'region']\n",
    "df.loc[30,'subregion'] = df.loc[167,'subregion']"
   ]
  },
  {
   "cell_type": "markdown",
   "metadata": {},
   "source": [
    "Fill region and subregion for row 98 (Heard Island and McDonald Islands) with same information as in row 13 (Australia) as they are in Australian territory."
   ]
  },
  {
   "cell_type": "code",
   "execution_count": 64,
   "metadata": {},
   "outputs": [],
   "source": [
    "df.loc[98,'region'] = df.loc[13,'region']\n",
    "df.loc[98,'subregion'] = df.loc[13,'subregion']"
   ]
  },
  {
   "cell_type": "code",
   "execution_count": 65,
   "metadata": {},
   "outputs": [
    {
     "data": {
      "text/plain": [
       "Africa      60\n",
       "Americas    57\n",
       "Europe      54\n",
       "Asia        50\n",
       "Oceania     28\n",
       "Polar        1\n",
       "Name: region, dtype: int64"
      ]
     },
     "execution_count": 65,
     "metadata": {},
     "output_type": "execute_result"
    }
   ],
   "source": [
    "df['region'].value_counts()"
   ]
  },
  {
   "cell_type": "code",
   "execution_count": 66,
   "metadata": {},
   "outputs": [
    {
     "data": {
      "application/vnd.plotly.v1+json": {
       "config": {
        "plotlyServerURL": "https://plot.ly"
       },
       "data": [
        {
         "histfunc": "count",
         "type": "histogram",
         "x": [
          "Asia",
          "Europe",
          "Europe",
          "Africa",
          "Oceania",
          "Europe",
          "Africa",
          "Americas",
          "Polar",
          "Americas",
          "Americas",
          "Asia",
          "Americas",
          "Oceania",
          "Europe",
          "Asia",
          "Americas",
          "Asia",
          "Asia",
          "Americas",
          "Europe",
          "Europe",
          "Americas",
          "Africa",
          "Americas",
          "Asia",
          "Americas",
          "Americas",
          "Europe",
          "Africa",
          "Europe",
          "Americas",
          "Africa",
          "Americas",
          "Americas",
          "Americas",
          "Asia",
          "Europe",
          "Africa",
          "Africa",
          "Asia",
          "Africa",
          "Americas",
          "Africa",
          "Americas",
          "Africa",
          "Africa",
          "Americas",
          "Asia",
          "Oceania",
          "Oceania",
          "Americas",
          "Africa",
          "Africa",
          "Africa",
          "Oceania",
          "Americas",
          "Europe",
          "Americas",
          "Americas",
          "Europe",
          "Europe",
          "Europe",
          "Africa",
          "Americas",
          "Americas",
          "Americas",
          "Africa",
          "Americas",
          "Africa",
          "Africa",
          "Europe",
          "Africa",
          "Americas",
          "Europe",
          "Oceania",
          "Europe",
          "Europe",
          "Americas",
          "Oceania",
          "Africa",
          "Africa",
          "Africa",
          "Asia",
          "Europe",
          "Africa",
          "Europe",
          "Europe",
          "Americas",
          "Americas",
          "Americas",
          "Oceania",
          "Americas",
          "Europe",
          "Africa",
          "Africa",
          "Americas",
          "Americas",
          "Oceania",
          "Europe",
          "Americas",
          "Asia",
          "Europe",
          "Europe",
          "Asia",
          "Asia",
          "Africa",
          "Asia",
          "Asia",
          "Europe",
          "Europe",
          "Asia",
          "Europe",
          "Americas",
          "Asia",
          "Europe",
          "Asia",
          "Asia",
          "Africa",
          "Oceania",
          "Asia",
          "Asia",
          "Asia",
          "Europe",
          "Asia",
          "Africa",
          "Africa",
          "Africa",
          "Europe",
          "Europe",
          "Europe",
          "Asia",
          "Europe",
          "Africa",
          "Africa",
          "Asia",
          "Asia",
          "Africa",
          "Europe",
          "Oceania",
          "Americas",
          "Africa",
          "Africa",
          "Africa",
          "Americas",
          "Oceania",
          "Europe",
          "Europe",
          "Asia",
          "Europe",
          "Americas",
          "Africa",
          "Africa",
          "Asia",
          "Africa",
          "Oceania",
          "Asia",
          "Europe",
          "Oceania",
          "Oceania",
          "Americas",
          "Africa",
          "Africa",
          "Oceania",
          "Oceania",
          "Asia",
          "Oceania",
          "Europe",
          "Asia",
          "Asia",
          "Oceania",
          "Asia",
          "Americas",
          "Oceania",
          "Americas",
          "Americas",
          "Asia",
          "Oceania",
          "Europe",
          "Europe",
          "Americas",
          "Asia",
          "Europe",
          "Africa",
          "Europe",
          "Europe",
          "Africa",
          "Americas",
          "Africa",
          "Americas",
          "Americas",
          "Americas",
          "Americas",
          "Americas",
          "Oceania",
          "Europe",
          "Africa",
          "Asia",
          "Africa",
          "Europe",
          "Africa",
          "Africa",
          "Asia",
          "Americas",
          "Europe",
          "Europe",
          "Oceania",
          "Africa",
          "Africa",
          "Americas",
          "Asia",
          "Africa",
          "Europe",
          "Asia",
          "Africa",
          "Americas",
          "Europe",
          "Africa",
          "Europe",
          "Europe",
          "Asia",
          "Asia",
          "Asia",
          "Africa",
          "Asia",
          "Asia",
          "Africa",
          "Oceania",
          "Oceania",
          "Americas",
          "Africa",
          "Asia",
          "Asia",
          "Americas",
          "Oceania",
          "Africa",
          "Europe",
          "Asia",
          "Europe",
          "Americas",
          "Americas",
          "Asia",
          "Oceania",
          "Americas",
          "Asia",
          "Oceania",
          "Africa",
          "Asia",
          "Africa",
          "Africa"
         ]
        }
       ],
       "layout": {
        "template": {
         "data": {
          "bar": [
           {
            "error_x": {
             "color": "#2a3f5f"
            },
            "error_y": {
             "color": "#2a3f5f"
            },
            "marker": {
             "line": {
              "color": "#E5ECF6",
              "width": 0.5
             }
            },
            "type": "bar"
           }
          ],
          "barpolar": [
           {
            "marker": {
             "line": {
              "color": "#E5ECF6",
              "width": 0.5
             }
            },
            "type": "barpolar"
           }
          ],
          "carpet": [
           {
            "aaxis": {
             "endlinecolor": "#2a3f5f",
             "gridcolor": "white",
             "linecolor": "white",
             "minorgridcolor": "white",
             "startlinecolor": "#2a3f5f"
            },
            "baxis": {
             "endlinecolor": "#2a3f5f",
             "gridcolor": "white",
             "linecolor": "white",
             "minorgridcolor": "white",
             "startlinecolor": "#2a3f5f"
            },
            "type": "carpet"
           }
          ],
          "choropleth": [
           {
            "colorbar": {
             "outlinewidth": 0,
             "ticks": ""
            },
            "type": "choropleth"
           }
          ],
          "contour": [
           {
            "colorbar": {
             "outlinewidth": 0,
             "ticks": ""
            },
            "colorscale": [
             [
              0,
              "#0d0887"
             ],
             [
              0.1111111111111111,
              "#46039f"
             ],
             [
              0.2222222222222222,
              "#7201a8"
             ],
             [
              0.3333333333333333,
              "#9c179e"
             ],
             [
              0.4444444444444444,
              "#bd3786"
             ],
             [
              0.5555555555555556,
              "#d8576b"
             ],
             [
              0.6666666666666666,
              "#ed7953"
             ],
             [
              0.7777777777777778,
              "#fb9f3a"
             ],
             [
              0.8888888888888888,
              "#fdca26"
             ],
             [
              1,
              "#f0f921"
             ]
            ],
            "type": "contour"
           }
          ],
          "contourcarpet": [
           {
            "colorbar": {
             "outlinewidth": 0,
             "ticks": ""
            },
            "type": "contourcarpet"
           }
          ],
          "heatmap": [
           {
            "colorbar": {
             "outlinewidth": 0,
             "ticks": ""
            },
            "colorscale": [
             [
              0,
              "#0d0887"
             ],
             [
              0.1111111111111111,
              "#46039f"
             ],
             [
              0.2222222222222222,
              "#7201a8"
             ],
             [
              0.3333333333333333,
              "#9c179e"
             ],
             [
              0.4444444444444444,
              "#bd3786"
             ],
             [
              0.5555555555555556,
              "#d8576b"
             ],
             [
              0.6666666666666666,
              "#ed7953"
             ],
             [
              0.7777777777777778,
              "#fb9f3a"
             ],
             [
              0.8888888888888888,
              "#fdca26"
             ],
             [
              1,
              "#f0f921"
             ]
            ],
            "type": "heatmap"
           }
          ],
          "heatmapgl": [
           {
            "colorbar": {
             "outlinewidth": 0,
             "ticks": ""
            },
            "colorscale": [
             [
              0,
              "#0d0887"
             ],
             [
              0.1111111111111111,
              "#46039f"
             ],
             [
              0.2222222222222222,
              "#7201a8"
             ],
             [
              0.3333333333333333,
              "#9c179e"
             ],
             [
              0.4444444444444444,
              "#bd3786"
             ],
             [
              0.5555555555555556,
              "#d8576b"
             ],
             [
              0.6666666666666666,
              "#ed7953"
             ],
             [
              0.7777777777777778,
              "#fb9f3a"
             ],
             [
              0.8888888888888888,
              "#fdca26"
             ],
             [
              1,
              "#f0f921"
             ]
            ],
            "type": "heatmapgl"
           }
          ],
          "histogram": [
           {
            "marker": {
             "colorbar": {
              "outlinewidth": 0,
              "ticks": ""
             }
            },
            "type": "histogram"
           }
          ],
          "histogram2d": [
           {
            "colorbar": {
             "outlinewidth": 0,
             "ticks": ""
            },
            "colorscale": [
             [
              0,
              "#0d0887"
             ],
             [
              0.1111111111111111,
              "#46039f"
             ],
             [
              0.2222222222222222,
              "#7201a8"
             ],
             [
              0.3333333333333333,
              "#9c179e"
             ],
             [
              0.4444444444444444,
              "#bd3786"
             ],
             [
              0.5555555555555556,
              "#d8576b"
             ],
             [
              0.6666666666666666,
              "#ed7953"
             ],
             [
              0.7777777777777778,
              "#fb9f3a"
             ],
             [
              0.8888888888888888,
              "#fdca26"
             ],
             [
              1,
              "#f0f921"
             ]
            ],
            "type": "histogram2d"
           }
          ],
          "histogram2dcontour": [
           {
            "colorbar": {
             "outlinewidth": 0,
             "ticks": ""
            },
            "colorscale": [
             [
              0,
              "#0d0887"
             ],
             [
              0.1111111111111111,
              "#46039f"
             ],
             [
              0.2222222222222222,
              "#7201a8"
             ],
             [
              0.3333333333333333,
              "#9c179e"
             ],
             [
              0.4444444444444444,
              "#bd3786"
             ],
             [
              0.5555555555555556,
              "#d8576b"
             ],
             [
              0.6666666666666666,
              "#ed7953"
             ],
             [
              0.7777777777777778,
              "#fb9f3a"
             ],
             [
              0.8888888888888888,
              "#fdca26"
             ],
             [
              1,
              "#f0f921"
             ]
            ],
            "type": "histogram2dcontour"
           }
          ],
          "mesh3d": [
           {
            "colorbar": {
             "outlinewidth": 0,
             "ticks": ""
            },
            "type": "mesh3d"
           }
          ],
          "parcoords": [
           {
            "line": {
             "colorbar": {
              "outlinewidth": 0,
              "ticks": ""
             }
            },
            "type": "parcoords"
           }
          ],
          "pie": [
           {
            "automargin": true,
            "type": "pie"
           }
          ],
          "scatter": [
           {
            "marker": {
             "colorbar": {
              "outlinewidth": 0,
              "ticks": ""
             }
            },
            "type": "scatter"
           }
          ],
          "scatter3d": [
           {
            "line": {
             "colorbar": {
              "outlinewidth": 0,
              "ticks": ""
             }
            },
            "marker": {
             "colorbar": {
              "outlinewidth": 0,
              "ticks": ""
             }
            },
            "type": "scatter3d"
           }
          ],
          "scattercarpet": [
           {
            "marker": {
             "colorbar": {
              "outlinewidth": 0,
              "ticks": ""
             }
            },
            "type": "scattercarpet"
           }
          ],
          "scattergeo": [
           {
            "marker": {
             "colorbar": {
              "outlinewidth": 0,
              "ticks": ""
             }
            },
            "type": "scattergeo"
           }
          ],
          "scattergl": [
           {
            "marker": {
             "colorbar": {
              "outlinewidth": 0,
              "ticks": ""
             }
            },
            "type": "scattergl"
           }
          ],
          "scattermapbox": [
           {
            "marker": {
             "colorbar": {
              "outlinewidth": 0,
              "ticks": ""
             }
            },
            "type": "scattermapbox"
           }
          ],
          "scatterpolar": [
           {
            "marker": {
             "colorbar": {
              "outlinewidth": 0,
              "ticks": ""
             }
            },
            "type": "scatterpolar"
           }
          ],
          "scatterpolargl": [
           {
            "marker": {
             "colorbar": {
              "outlinewidth": 0,
              "ticks": ""
             }
            },
            "type": "scatterpolargl"
           }
          ],
          "scatterternary": [
           {
            "marker": {
             "colorbar": {
              "outlinewidth": 0,
              "ticks": ""
             }
            },
            "type": "scatterternary"
           }
          ],
          "surface": [
           {
            "colorbar": {
             "outlinewidth": 0,
             "ticks": ""
            },
            "colorscale": [
             [
              0,
              "#0d0887"
             ],
             [
              0.1111111111111111,
              "#46039f"
             ],
             [
              0.2222222222222222,
              "#7201a8"
             ],
             [
              0.3333333333333333,
              "#9c179e"
             ],
             [
              0.4444444444444444,
              "#bd3786"
             ],
             [
              0.5555555555555556,
              "#d8576b"
             ],
             [
              0.6666666666666666,
              "#ed7953"
             ],
             [
              0.7777777777777778,
              "#fb9f3a"
             ],
             [
              0.8888888888888888,
              "#fdca26"
             ],
             [
              1,
              "#f0f921"
             ]
            ],
            "type": "surface"
           }
          ],
          "table": [
           {
            "cells": {
             "fill": {
              "color": "#EBF0F8"
             },
             "line": {
              "color": "white"
             }
            },
            "header": {
             "fill": {
              "color": "#C8D4E3"
             },
             "line": {
              "color": "white"
             }
            },
            "type": "table"
           }
          ]
         },
         "layout": {
          "annotationdefaults": {
           "arrowcolor": "#2a3f5f",
           "arrowhead": 0,
           "arrowwidth": 1
          },
          "coloraxis": {
           "colorbar": {
            "outlinewidth": 0,
            "ticks": ""
           }
          },
          "colorscale": {
           "diverging": [
            [
             0,
             "#8e0152"
            ],
            [
             0.1,
             "#c51b7d"
            ],
            [
             0.2,
             "#de77ae"
            ],
            [
             0.3,
             "#f1b6da"
            ],
            [
             0.4,
             "#fde0ef"
            ],
            [
             0.5,
             "#f7f7f7"
            ],
            [
             0.6,
             "#e6f5d0"
            ],
            [
             0.7,
             "#b8e186"
            ],
            [
             0.8,
             "#7fbc41"
            ],
            [
             0.9,
             "#4d9221"
            ],
            [
             1,
             "#276419"
            ]
           ],
           "sequential": [
            [
             0,
             "#0d0887"
            ],
            [
             0.1111111111111111,
             "#46039f"
            ],
            [
             0.2222222222222222,
             "#7201a8"
            ],
            [
             0.3333333333333333,
             "#9c179e"
            ],
            [
             0.4444444444444444,
             "#bd3786"
            ],
            [
             0.5555555555555556,
             "#d8576b"
            ],
            [
             0.6666666666666666,
             "#ed7953"
            ],
            [
             0.7777777777777778,
             "#fb9f3a"
            ],
            [
             0.8888888888888888,
             "#fdca26"
            ],
            [
             1,
             "#f0f921"
            ]
           ],
           "sequentialminus": [
            [
             0,
             "#0d0887"
            ],
            [
             0.1111111111111111,
             "#46039f"
            ],
            [
             0.2222222222222222,
             "#7201a8"
            ],
            [
             0.3333333333333333,
             "#9c179e"
            ],
            [
             0.4444444444444444,
             "#bd3786"
            ],
            [
             0.5555555555555556,
             "#d8576b"
            ],
            [
             0.6666666666666666,
             "#ed7953"
            ],
            [
             0.7777777777777778,
             "#fb9f3a"
            ],
            [
             0.8888888888888888,
             "#fdca26"
            ],
            [
             1,
             "#f0f921"
            ]
           ]
          },
          "colorway": [
           "#636efa",
           "#EF553B",
           "#00cc96",
           "#ab63fa",
           "#FFA15A",
           "#19d3f3",
           "#FF6692",
           "#B6E880",
           "#FF97FF",
           "#FECB52"
          ],
          "font": {
           "color": "#2a3f5f"
          },
          "geo": {
           "bgcolor": "white",
           "lakecolor": "white",
           "landcolor": "#E5ECF6",
           "showlakes": true,
           "showland": true,
           "subunitcolor": "white"
          },
          "hoverlabel": {
           "align": "left"
          },
          "hovermode": "closest",
          "mapbox": {
           "style": "light"
          },
          "paper_bgcolor": "white",
          "plot_bgcolor": "#E5ECF6",
          "polar": {
           "angularaxis": {
            "gridcolor": "white",
            "linecolor": "white",
            "ticks": ""
           },
           "bgcolor": "#E5ECF6",
           "radialaxis": {
            "gridcolor": "white",
            "linecolor": "white",
            "ticks": ""
           }
          },
          "scene": {
           "xaxis": {
            "backgroundcolor": "#E5ECF6",
            "gridcolor": "white",
            "gridwidth": 2,
            "linecolor": "white",
            "showbackground": true,
            "ticks": "",
            "zerolinecolor": "white"
           },
           "yaxis": {
            "backgroundcolor": "#E5ECF6",
            "gridcolor": "white",
            "gridwidth": 2,
            "linecolor": "white",
            "showbackground": true,
            "ticks": "",
            "zerolinecolor": "white"
           },
           "zaxis": {
            "backgroundcolor": "#E5ECF6",
            "gridcolor": "white",
            "gridwidth": 2,
            "linecolor": "white",
            "showbackground": true,
            "ticks": "",
            "zerolinecolor": "white"
           }
          },
          "shapedefaults": {
           "line": {
            "color": "#2a3f5f"
           }
          },
          "ternary": {
           "aaxis": {
            "gridcolor": "white",
            "linecolor": "white",
            "ticks": ""
           },
           "baxis": {
            "gridcolor": "white",
            "linecolor": "white",
            "ticks": ""
           },
           "bgcolor": "#E5ECF6",
           "caxis": {
            "gridcolor": "white",
            "linecolor": "white",
            "ticks": ""
           }
          },
          "title": {
           "x": 0.05
          },
          "xaxis": {
           "automargin": true,
           "gridcolor": "white",
           "linecolor": "white",
           "ticks": "",
           "title": {
            "standoff": 15
           },
           "zerolinecolor": "white",
           "zerolinewidth": 2
          },
          "yaxis": {
           "automargin": true,
           "gridcolor": "white",
           "linecolor": "white",
           "ticks": "",
           "title": {
            "standoff": 15
           },
           "zerolinecolor": "white",
           "zerolinewidth": 2
          }
         }
        }
       }
      },
      "text/html": [
       "<div>\n",
       "        \n",
       "        \n",
       "            <div id=\"56facee7-3be4-4261-8c4f-fc84153edee8\" class=\"plotly-graph-div\" style=\"height:525px; width:100%;\"></div>\n",
       "            <script type=\"text/javascript\">\n",
       "                require([\"plotly\"], function(Plotly) {\n",
       "                    window.PLOTLYENV=window.PLOTLYENV || {};\n",
       "                    \n",
       "                if (document.getElementById(\"56facee7-3be4-4261-8c4f-fc84153edee8\")) {\n",
       "                    Plotly.newPlot(\n",
       "                        '56facee7-3be4-4261-8c4f-fc84153edee8',\n",
       "                        [{\"histfunc\": \"count\", \"type\": \"histogram\", \"x\": [\"Asia\", \"Europe\", \"Europe\", \"Africa\", \"Oceania\", \"Europe\", \"Africa\", \"Americas\", \"Polar\", \"Americas\", \"Americas\", \"Asia\", \"Americas\", \"Oceania\", \"Europe\", \"Asia\", \"Americas\", \"Asia\", \"Asia\", \"Americas\", \"Europe\", \"Europe\", \"Americas\", \"Africa\", \"Americas\", \"Asia\", \"Americas\", \"Americas\", \"Europe\", \"Africa\", \"Europe\", \"Americas\", \"Africa\", \"Americas\", \"Americas\", \"Americas\", \"Asia\", \"Europe\", \"Africa\", \"Africa\", \"Asia\", \"Africa\", \"Americas\", \"Africa\", \"Americas\", \"Africa\", \"Africa\", \"Americas\", \"Asia\", \"Oceania\", \"Oceania\", \"Americas\", \"Africa\", \"Africa\", \"Africa\", \"Oceania\", \"Americas\", \"Europe\", \"Americas\", \"Americas\", \"Europe\", \"Europe\", \"Europe\", \"Africa\", \"Americas\", \"Americas\", \"Americas\", \"Africa\", \"Americas\", \"Africa\", \"Africa\", \"Europe\", \"Africa\", \"Americas\", \"Europe\", \"Oceania\", \"Europe\", \"Europe\", \"Americas\", \"Oceania\", \"Africa\", \"Africa\", \"Africa\", \"Asia\", \"Europe\", \"Africa\", \"Europe\", \"Europe\", \"Americas\", \"Americas\", \"Americas\", \"Oceania\", \"Americas\", \"Europe\", \"Africa\", \"Africa\", \"Americas\", \"Americas\", \"Oceania\", \"Europe\", \"Americas\", \"Asia\", \"Europe\", \"Europe\", \"Asia\", \"Asia\", \"Africa\", \"Asia\", \"Asia\", \"Europe\", \"Europe\", \"Asia\", \"Europe\", \"Americas\", \"Asia\", \"Europe\", \"Asia\", \"Asia\", \"Africa\", \"Oceania\", \"Asia\", \"Asia\", \"Asia\", \"Europe\", \"Asia\", \"Africa\", \"Africa\", \"Africa\", \"Europe\", \"Europe\", \"Europe\", \"Asia\", \"Europe\", \"Africa\", \"Africa\", \"Asia\", \"Asia\", \"Africa\", \"Europe\", \"Oceania\", \"Americas\", \"Africa\", \"Africa\", \"Africa\", \"Americas\", \"Oceania\", \"Europe\", \"Europe\", \"Asia\", \"Europe\", \"Americas\", \"Africa\", \"Africa\", \"Asia\", \"Africa\", \"Oceania\", \"Asia\", \"Europe\", \"Oceania\", \"Oceania\", \"Americas\", \"Africa\", \"Africa\", \"Oceania\", \"Oceania\", \"Asia\", \"Oceania\", \"Europe\", \"Asia\", \"Asia\", \"Oceania\", \"Asia\", \"Americas\", \"Oceania\", \"Americas\", \"Americas\", \"Asia\", \"Oceania\", \"Europe\", \"Europe\", \"Americas\", \"Asia\", \"Europe\", \"Africa\", \"Europe\", \"Europe\", \"Africa\", \"Americas\", \"Africa\", \"Americas\", \"Americas\", \"Americas\", \"Americas\", \"Americas\", \"Oceania\", \"Europe\", \"Africa\", \"Asia\", \"Africa\", \"Europe\", \"Africa\", \"Africa\", \"Asia\", \"Americas\", \"Europe\", \"Europe\", \"Oceania\", \"Africa\", \"Africa\", \"Americas\", \"Asia\", \"Africa\", \"Europe\", \"Asia\", \"Africa\", \"Americas\", \"Europe\", \"Africa\", \"Europe\", \"Europe\", \"Asia\", \"Asia\", \"Asia\", \"Africa\", \"Asia\", \"Asia\", \"Africa\", \"Oceania\", \"Oceania\", \"Americas\", \"Africa\", \"Asia\", \"Asia\", \"Americas\", \"Oceania\", \"Africa\", \"Europe\", \"Asia\", \"Europe\", \"Americas\", \"Americas\", \"Asia\", \"Oceania\", \"Americas\", \"Asia\", \"Oceania\", \"Africa\", \"Asia\", \"Africa\", \"Africa\"]}],\n",
       "                        {\"template\": {\"data\": {\"bar\": [{\"error_x\": {\"color\": \"#2a3f5f\"}, \"error_y\": {\"color\": \"#2a3f5f\"}, \"marker\": {\"line\": {\"color\": \"#E5ECF6\", \"width\": 0.5}}, \"type\": \"bar\"}], \"barpolar\": [{\"marker\": {\"line\": {\"color\": \"#E5ECF6\", \"width\": 0.5}}, \"type\": \"barpolar\"}], \"carpet\": [{\"aaxis\": {\"endlinecolor\": \"#2a3f5f\", \"gridcolor\": \"white\", \"linecolor\": \"white\", \"minorgridcolor\": \"white\", \"startlinecolor\": \"#2a3f5f\"}, \"baxis\": {\"endlinecolor\": \"#2a3f5f\", \"gridcolor\": \"white\", \"linecolor\": \"white\", \"minorgridcolor\": \"white\", \"startlinecolor\": \"#2a3f5f\"}, \"type\": \"carpet\"}], \"choropleth\": [{\"colorbar\": {\"outlinewidth\": 0, \"ticks\": \"\"}, \"type\": \"choropleth\"}], \"contour\": [{\"colorbar\": {\"outlinewidth\": 0, \"ticks\": \"\"}, \"colorscale\": [[0.0, \"#0d0887\"], [0.1111111111111111, \"#46039f\"], [0.2222222222222222, \"#7201a8\"], [0.3333333333333333, \"#9c179e\"], [0.4444444444444444, \"#bd3786\"], [0.5555555555555556, \"#d8576b\"], [0.6666666666666666, \"#ed7953\"], [0.7777777777777778, \"#fb9f3a\"], [0.8888888888888888, \"#fdca26\"], [1.0, \"#f0f921\"]], \"type\": \"contour\"}], \"contourcarpet\": [{\"colorbar\": {\"outlinewidth\": 0, \"ticks\": \"\"}, \"type\": \"contourcarpet\"}], \"heatmap\": [{\"colorbar\": {\"outlinewidth\": 0, \"ticks\": \"\"}, \"colorscale\": [[0.0, \"#0d0887\"], [0.1111111111111111, \"#46039f\"], [0.2222222222222222, \"#7201a8\"], [0.3333333333333333, \"#9c179e\"], [0.4444444444444444, \"#bd3786\"], [0.5555555555555556, \"#d8576b\"], [0.6666666666666666, \"#ed7953\"], [0.7777777777777778, \"#fb9f3a\"], [0.8888888888888888, \"#fdca26\"], [1.0, \"#f0f921\"]], \"type\": \"heatmap\"}], \"heatmapgl\": [{\"colorbar\": {\"outlinewidth\": 0, \"ticks\": \"\"}, \"colorscale\": [[0.0, \"#0d0887\"], [0.1111111111111111, \"#46039f\"], [0.2222222222222222, \"#7201a8\"], [0.3333333333333333, \"#9c179e\"], [0.4444444444444444, \"#bd3786\"], [0.5555555555555556, \"#d8576b\"], [0.6666666666666666, \"#ed7953\"], [0.7777777777777778, \"#fb9f3a\"], [0.8888888888888888, \"#fdca26\"], [1.0, \"#f0f921\"]], \"type\": \"heatmapgl\"}], \"histogram\": [{\"marker\": {\"colorbar\": {\"outlinewidth\": 0, \"ticks\": \"\"}}, \"type\": \"histogram\"}], \"histogram2d\": [{\"colorbar\": {\"outlinewidth\": 0, \"ticks\": \"\"}, \"colorscale\": [[0.0, \"#0d0887\"], [0.1111111111111111, \"#46039f\"], [0.2222222222222222, \"#7201a8\"], [0.3333333333333333, \"#9c179e\"], [0.4444444444444444, \"#bd3786\"], [0.5555555555555556, \"#d8576b\"], [0.6666666666666666, \"#ed7953\"], [0.7777777777777778, \"#fb9f3a\"], [0.8888888888888888, \"#fdca26\"], [1.0, \"#f0f921\"]], \"type\": \"histogram2d\"}], \"histogram2dcontour\": [{\"colorbar\": {\"outlinewidth\": 0, \"ticks\": \"\"}, \"colorscale\": [[0.0, \"#0d0887\"], [0.1111111111111111, \"#46039f\"], [0.2222222222222222, \"#7201a8\"], [0.3333333333333333, \"#9c179e\"], [0.4444444444444444, \"#bd3786\"], [0.5555555555555556, \"#d8576b\"], [0.6666666666666666, \"#ed7953\"], [0.7777777777777778, \"#fb9f3a\"], [0.8888888888888888, \"#fdca26\"], [1.0, \"#f0f921\"]], \"type\": \"histogram2dcontour\"}], \"mesh3d\": [{\"colorbar\": {\"outlinewidth\": 0, \"ticks\": \"\"}, \"type\": \"mesh3d\"}], \"parcoords\": [{\"line\": {\"colorbar\": {\"outlinewidth\": 0, \"ticks\": \"\"}}, \"type\": \"parcoords\"}], \"pie\": [{\"automargin\": true, \"type\": \"pie\"}], \"scatter\": [{\"marker\": {\"colorbar\": {\"outlinewidth\": 0, \"ticks\": \"\"}}, \"type\": \"scatter\"}], \"scatter3d\": [{\"line\": {\"colorbar\": {\"outlinewidth\": 0, \"ticks\": \"\"}}, \"marker\": {\"colorbar\": {\"outlinewidth\": 0, \"ticks\": \"\"}}, \"type\": \"scatter3d\"}], \"scattercarpet\": [{\"marker\": {\"colorbar\": {\"outlinewidth\": 0, \"ticks\": \"\"}}, \"type\": \"scattercarpet\"}], \"scattergeo\": [{\"marker\": {\"colorbar\": {\"outlinewidth\": 0, \"ticks\": \"\"}}, \"type\": \"scattergeo\"}], \"scattergl\": [{\"marker\": {\"colorbar\": {\"outlinewidth\": 0, \"ticks\": \"\"}}, \"type\": \"scattergl\"}], \"scattermapbox\": [{\"marker\": {\"colorbar\": {\"outlinewidth\": 0, \"ticks\": \"\"}}, \"type\": \"scattermapbox\"}], \"scatterpolar\": [{\"marker\": {\"colorbar\": {\"outlinewidth\": 0, \"ticks\": \"\"}}, \"type\": \"scatterpolar\"}], \"scatterpolargl\": [{\"marker\": {\"colorbar\": {\"outlinewidth\": 0, \"ticks\": \"\"}}, \"type\": \"scatterpolargl\"}], \"scatterternary\": [{\"marker\": {\"colorbar\": {\"outlinewidth\": 0, \"ticks\": \"\"}}, \"type\": \"scatterternary\"}], \"surface\": [{\"colorbar\": {\"outlinewidth\": 0, \"ticks\": \"\"}, \"colorscale\": [[0.0, \"#0d0887\"], [0.1111111111111111, \"#46039f\"], [0.2222222222222222, \"#7201a8\"], [0.3333333333333333, \"#9c179e\"], [0.4444444444444444, \"#bd3786\"], [0.5555555555555556, \"#d8576b\"], [0.6666666666666666, \"#ed7953\"], [0.7777777777777778, \"#fb9f3a\"], [0.8888888888888888, \"#fdca26\"], [1.0, \"#f0f921\"]], \"type\": \"surface\"}], \"table\": [{\"cells\": {\"fill\": {\"color\": \"#EBF0F8\"}, \"line\": {\"color\": \"white\"}}, \"header\": {\"fill\": {\"color\": \"#C8D4E3\"}, \"line\": {\"color\": \"white\"}}, \"type\": \"table\"}]}, \"layout\": {\"annotationdefaults\": {\"arrowcolor\": \"#2a3f5f\", \"arrowhead\": 0, \"arrowwidth\": 1}, \"coloraxis\": {\"colorbar\": {\"outlinewidth\": 0, \"ticks\": \"\"}}, \"colorscale\": {\"diverging\": [[0, \"#8e0152\"], [0.1, \"#c51b7d\"], [0.2, \"#de77ae\"], [0.3, \"#f1b6da\"], [0.4, \"#fde0ef\"], [0.5, \"#f7f7f7\"], [0.6, \"#e6f5d0\"], [0.7, \"#b8e186\"], [0.8, \"#7fbc41\"], [0.9, \"#4d9221\"], [1, \"#276419\"]], \"sequential\": [[0.0, \"#0d0887\"], [0.1111111111111111, \"#46039f\"], [0.2222222222222222, \"#7201a8\"], [0.3333333333333333, \"#9c179e\"], [0.4444444444444444, \"#bd3786\"], [0.5555555555555556, \"#d8576b\"], [0.6666666666666666, \"#ed7953\"], [0.7777777777777778, \"#fb9f3a\"], [0.8888888888888888, \"#fdca26\"], [1.0, \"#f0f921\"]], \"sequentialminus\": [[0.0, \"#0d0887\"], [0.1111111111111111, \"#46039f\"], [0.2222222222222222, \"#7201a8\"], [0.3333333333333333, \"#9c179e\"], [0.4444444444444444, \"#bd3786\"], [0.5555555555555556, \"#d8576b\"], [0.6666666666666666, \"#ed7953\"], [0.7777777777777778, \"#fb9f3a\"], [0.8888888888888888, \"#fdca26\"], [1.0, \"#f0f921\"]]}, \"colorway\": [\"#636efa\", \"#EF553B\", \"#00cc96\", \"#ab63fa\", \"#FFA15A\", \"#19d3f3\", \"#FF6692\", \"#B6E880\", \"#FF97FF\", \"#FECB52\"], \"font\": {\"color\": \"#2a3f5f\"}, \"geo\": {\"bgcolor\": \"white\", \"lakecolor\": \"white\", \"landcolor\": \"#E5ECF6\", \"showlakes\": true, \"showland\": true, \"subunitcolor\": \"white\"}, \"hoverlabel\": {\"align\": \"left\"}, \"hovermode\": \"closest\", \"mapbox\": {\"style\": \"light\"}, \"paper_bgcolor\": \"white\", \"plot_bgcolor\": \"#E5ECF6\", \"polar\": {\"angularaxis\": {\"gridcolor\": \"white\", \"linecolor\": \"white\", \"ticks\": \"\"}, \"bgcolor\": \"#E5ECF6\", \"radialaxis\": {\"gridcolor\": \"white\", \"linecolor\": \"white\", \"ticks\": \"\"}}, \"scene\": {\"xaxis\": {\"backgroundcolor\": \"#E5ECF6\", \"gridcolor\": \"white\", \"gridwidth\": 2, \"linecolor\": \"white\", \"showbackground\": true, \"ticks\": \"\", \"zerolinecolor\": \"white\"}, \"yaxis\": {\"backgroundcolor\": \"#E5ECF6\", \"gridcolor\": \"white\", \"gridwidth\": 2, \"linecolor\": \"white\", \"showbackground\": true, \"ticks\": \"\", \"zerolinecolor\": \"white\"}, \"zaxis\": {\"backgroundcolor\": \"#E5ECF6\", \"gridcolor\": \"white\", \"gridwidth\": 2, \"linecolor\": \"white\", \"showbackground\": true, \"ticks\": \"\", \"zerolinecolor\": \"white\"}}, \"shapedefaults\": {\"line\": {\"color\": \"#2a3f5f\"}}, \"ternary\": {\"aaxis\": {\"gridcolor\": \"white\", \"linecolor\": \"white\", \"ticks\": \"\"}, \"baxis\": {\"gridcolor\": \"white\", \"linecolor\": \"white\", \"ticks\": \"\"}, \"bgcolor\": \"#E5ECF6\", \"caxis\": {\"gridcolor\": \"white\", \"linecolor\": \"white\", \"ticks\": \"\"}}, \"title\": {\"x\": 0.05}, \"xaxis\": {\"automargin\": true, \"gridcolor\": \"white\", \"linecolor\": \"white\", \"ticks\": \"\", \"title\": {\"standoff\": 15}, \"zerolinecolor\": \"white\", \"zerolinewidth\": 2}, \"yaxis\": {\"automargin\": true, \"gridcolor\": \"white\", \"linecolor\": \"white\", \"ticks\": \"\", \"title\": {\"standoff\": 15}, \"zerolinecolor\": \"white\", \"zerolinewidth\": 2}}}},\n",
       "                        {\"responsive\": true}\n",
       "                    ).then(function(){\n",
       "                            \n",
       "var gd = document.getElementById('56facee7-3be4-4261-8c4f-fc84153edee8');\n",
       "var x = new MutationObserver(function (mutations, observer) {{\n",
       "        var display = window.getComputedStyle(gd).display;\n",
       "        if (!display || display === 'none') {{\n",
       "            console.log([gd, 'removed!']);\n",
       "            Plotly.purge(gd);\n",
       "            observer.disconnect();\n",
       "        }}\n",
       "}});\n",
       "\n",
       "// Listen for the removal of the full notebook cells\n",
       "var notebookContainer = gd.closest('#notebook-container');\n",
       "if (notebookContainer) {{\n",
       "    x.observe(notebookContainer, {childList: true});\n",
       "}}\n",
       "\n",
       "// Listen for the clearing of the current output cell\n",
       "var outputEl = gd.closest('.output');\n",
       "if (outputEl) {{\n",
       "    x.observe(outputEl, {childList: true});\n",
       "}}\n",
       "\n",
       "                        })\n",
       "                };\n",
       "                });\n",
       "            </script>\n",
       "        </div>"
      ]
     },
     "metadata": {},
     "output_type": "display_data"
    }
   ],
   "source": [
    "fig = go.Figure(data=[go.Histogram(histfunc=\"count\", x=df['region'])])\n",
    "fig.show()\n",
    "\n",
    "## sort value từng cột từ cao xuống thấp"
   ]
  },
  {
   "cell_type": "markdown",
   "metadata": {},
   "source": [
    "### capital column"
   ]
  },
  {
   "cell_type": "code",
   "execution_count": 67,
   "metadata": {},
   "outputs": [
    {
     "data": {
      "text/html": [
       "<div>\n",
       "<style scoped>\n",
       "    .dataframe tbody tr th:only-of-type {\n",
       "        vertical-align: middle;\n",
       "    }\n",
       "\n",
       "    .dataframe tbody tr th {\n",
       "        vertical-align: top;\n",
       "    }\n",
       "\n",
       "    .dataframe thead th {\n",
       "        text-align: right;\n",
       "    }\n",
       "</style>\n",
       "<table border=\"1\" class=\"dataframe\">\n",
       "  <thead>\n",
       "    <tr style=\"text-align: right;\">\n",
       "      <th></th>\n",
       "      <th>country</th>\n",
       "      <th>alphaCode</th>\n",
       "      <th>capital</th>\n",
       "      <th>region</th>\n",
       "      <th>subregion</th>\n",
       "      <th>population</th>\n",
       "      <th>latlng</th>\n",
       "      <th>demonym</th>\n",
       "      <th>area</th>\n",
       "      <th>gini</th>\n",
       "      <th>timezones</th>\n",
       "      <th>borders</th>\n",
       "      <th>nativeName</th>\n",
       "      <th>currencies</th>\n",
       "      <th>languages</th>\n",
       "      <th>regionalBlocs</th>\n",
       "    </tr>\n",
       "  </thead>\n",
       "  <tbody>\n",
       "    <tr>\n",
       "      <th>8</th>\n",
       "      <td>Antarctica</td>\n",
       "      <td>ATA</td>\n",
       "      <td>Unknown</td>\n",
       "      <td>Polar</td>\n",
       "      <td>Unknown</td>\n",
       "      <td>1000</td>\n",
       "      <td>[-74.65, 4.48]</td>\n",
       "      <td>Unknown</td>\n",
       "      <td>14000000.0</td>\n",
       "      <td>NaN</td>\n",
       "      <td>[UTC-03:00, UTC+03:00, UTC+05:00, UTC+06:00, U...</td>\n",
       "      <td>[]</td>\n",
       "      <td>Antarctica</td>\n",
       "      <td>[{'code': 'AUD', 'name': 'Australian dollar', ...</td>\n",
       "      <td>[{'iso639_1': 'en', 'iso639_2': 'eng', 'name':...</td>\n",
       "      <td>[]</td>\n",
       "    </tr>\n",
       "    <tr>\n",
       "      <th>30</th>\n",
       "      <td>Bouvet Island</td>\n",
       "      <td>BVT</td>\n",
       "      <td>Unknown</td>\n",
       "      <td>Europe</td>\n",
       "      <td>Northern Europe</td>\n",
       "      <td>0</td>\n",
       "      <td>[-54.43333333, 3.4]</td>\n",
       "      <td>Unknown</td>\n",
       "      <td>49.0</td>\n",
       "      <td>NaN</td>\n",
       "      <td>[UTC+01:00]</td>\n",
       "      <td>[]</td>\n",
       "      <td>Bouvetøya</td>\n",
       "      <td>[{'code': 'NOK', 'name': 'Norwegian krone', 's...</td>\n",
       "      <td>[{'iso639_1': 'no', 'iso639_2': 'nor', 'name':...</td>\n",
       "      <td>[]</td>\n",
       "    </tr>\n",
       "    <tr>\n",
       "      <th>33</th>\n",
       "      <td>United States Minor Outlying Islands</td>\n",
       "      <td>UMI</td>\n",
       "      <td>Unknown</td>\n",
       "      <td>Americas</td>\n",
       "      <td>Northern America</td>\n",
       "      <td>300</td>\n",
       "      <td>[]</td>\n",
       "      <td>American</td>\n",
       "      <td>NaN</td>\n",
       "      <td>NaN</td>\n",
       "      <td>[UTC-11:00, UTC-10:00, UTC+12:00]</td>\n",
       "      <td>[]</td>\n",
       "      <td>United States Minor Outlying Islands</td>\n",
       "      <td>[{'code': 'USD', 'name': 'United States Dollar...</td>\n",
       "      <td>[{'iso639_1': 'en', 'iso639_2': 'eng', 'name':...</td>\n",
       "      <td>[]</td>\n",
       "    </tr>\n",
       "    <tr>\n",
       "      <th>98</th>\n",
       "      <td>Heard Island and McDonald Islands</td>\n",
       "      <td>HMD</td>\n",
       "      <td>Unknown</td>\n",
       "      <td>Oceania</td>\n",
       "      <td>Australia and New Zealand</td>\n",
       "      <td>0</td>\n",
       "      <td>[-53.1, 72.51666666]</td>\n",
       "      <td>Heard and McDonald Islander</td>\n",
       "      <td>412.0</td>\n",
       "      <td>NaN</td>\n",
       "      <td>[UTC+05:00]</td>\n",
       "      <td>[]</td>\n",
       "      <td>Heard Island and McDonald Islands</td>\n",
       "      <td>[{'code': 'AUD', 'name': 'Australian dollar', ...</td>\n",
       "      <td>[{'iso639_1': 'en', 'iso639_2': 'eng', 'name':...</td>\n",
       "      <td>[]</td>\n",
       "    </tr>\n",
       "    <tr>\n",
       "      <th>131</th>\n",
       "      <td>Macao</td>\n",
       "      <td>MAC</td>\n",
       "      <td>Unknown</td>\n",
       "      <td>Asia</td>\n",
       "      <td>Eastern Asia</td>\n",
       "      <td>649100</td>\n",
       "      <td>[22.16666666, 113.55]</td>\n",
       "      <td>Chinese</td>\n",
       "      <td>30.0</td>\n",
       "      <td>NaN</td>\n",
       "      <td>[UTC+08:00]</td>\n",
       "      <td>[CHN]</td>\n",
       "      <td>澳門</td>\n",
       "      <td>[{'code': 'MOP', 'name': 'Macanese pataca', 's...</td>\n",
       "      <td>[{'iso639_1': 'zh', 'iso639_2': 'zho', 'name':...</td>\n",
       "      <td>[]</td>\n",
       "    </tr>\n",
       "  </tbody>\n",
       "</table>\n",
       "</div>"
      ],
      "text/plain": [
       "                                  country alphaCode  capital    region  \\\n",
       "8                              Antarctica       ATA  Unknown     Polar   \n",
       "30                          Bouvet Island       BVT  Unknown    Europe   \n",
       "33   United States Minor Outlying Islands       UMI  Unknown  Americas   \n",
       "98      Heard Island and McDonald Islands       HMD  Unknown   Oceania   \n",
       "131                                 Macao       MAC  Unknown      Asia   \n",
       "\n",
       "                     subregion  population                 latlng  \\\n",
       "8                      Unknown        1000         [-74.65, 4.48]   \n",
       "30             Northern Europe           0    [-54.43333333, 3.4]   \n",
       "33            Northern America         300                     []   \n",
       "98   Australia and New Zealand           0   [-53.1, 72.51666666]   \n",
       "131               Eastern Asia      649100  [22.16666666, 113.55]   \n",
       "\n",
       "                         demonym        area  gini  \\\n",
       "8                        Unknown  14000000.0   NaN   \n",
       "30                       Unknown        49.0   NaN   \n",
       "33                      American         NaN   NaN   \n",
       "98   Heard and McDonald Islander       412.0   NaN   \n",
       "131                      Chinese        30.0   NaN   \n",
       "\n",
       "                                             timezones borders  \\\n",
       "8    [UTC-03:00, UTC+03:00, UTC+05:00, UTC+06:00, U...      []   \n",
       "30                                         [UTC+01:00]      []   \n",
       "33                   [UTC-11:00, UTC-10:00, UTC+12:00]      []   \n",
       "98                                         [UTC+05:00]      []   \n",
       "131                                        [UTC+08:00]   [CHN]   \n",
       "\n",
       "                               nativeName  \\\n",
       "8                              Antarctica   \n",
       "30                              Bouvetøya   \n",
       "33   United States Minor Outlying Islands   \n",
       "98      Heard Island and McDonald Islands   \n",
       "131                                    澳門   \n",
       "\n",
       "                                            currencies  \\\n",
       "8    [{'code': 'AUD', 'name': 'Australian dollar', ...   \n",
       "30   [{'code': 'NOK', 'name': 'Norwegian krone', 's...   \n",
       "33   [{'code': 'USD', 'name': 'United States Dollar...   \n",
       "98   [{'code': 'AUD', 'name': 'Australian dollar', ...   \n",
       "131  [{'code': 'MOP', 'name': 'Macanese pataca', 's...   \n",
       "\n",
       "                                             languages regionalBlocs  \n",
       "8    [{'iso639_1': 'en', 'iso639_2': 'eng', 'name':...            []  \n",
       "30   [{'iso639_1': 'no', 'iso639_2': 'nor', 'name':...            []  \n",
       "33   [{'iso639_1': 'en', 'iso639_2': 'eng', 'name':...            []  \n",
       "98   [{'iso639_1': 'en', 'iso639_2': 'eng', 'name':...            []  \n",
       "131  [{'iso639_1': 'zh', 'iso639_2': 'zho', 'name':...            []  "
      ]
     },
     "execution_count": 67,
     "metadata": {},
     "output_type": "execute_result"
    }
   ],
   "source": [
    "df[df['capital'] == 'Unknown']"
   ]
  },
  {
   "cell_type": "code",
   "execution_count": 68,
   "metadata": {},
   "outputs": [],
   "source": [
    "## not necessary to fill in info here"
   ]
  },
  {
   "cell_type": "markdown",
   "metadata": {},
   "source": [
    "### demonym column"
   ]
  },
  {
   "cell_type": "code",
   "execution_count": 69,
   "metadata": {},
   "outputs": [
    {
     "data": {
      "text/html": [
       "<div>\n",
       "<style scoped>\n",
       "    .dataframe tbody tr th:only-of-type {\n",
       "        vertical-align: middle;\n",
       "    }\n",
       "\n",
       "    .dataframe tbody tr th {\n",
       "        vertical-align: top;\n",
       "    }\n",
       "\n",
       "    .dataframe thead th {\n",
       "        text-align: right;\n",
       "    }\n",
       "</style>\n",
       "<table border=\"1\" class=\"dataframe\">\n",
       "  <thead>\n",
       "    <tr style=\"text-align: right;\">\n",
       "      <th></th>\n",
       "      <th>country</th>\n",
       "      <th>alphaCode</th>\n",
       "      <th>capital</th>\n",
       "      <th>region</th>\n",
       "      <th>subregion</th>\n",
       "      <th>population</th>\n",
       "      <th>latlng</th>\n",
       "      <th>demonym</th>\n",
       "      <th>area</th>\n",
       "      <th>gini</th>\n",
       "      <th>timezones</th>\n",
       "      <th>borders</th>\n",
       "      <th>nativeName</th>\n",
       "      <th>currencies</th>\n",
       "      <th>languages</th>\n",
       "      <th>regionalBlocs</th>\n",
       "    </tr>\n",
       "  </thead>\n",
       "  <tbody>\n",
       "    <tr>\n",
       "      <th>8</th>\n",
       "      <td>Antarctica</td>\n",
       "      <td>ATA</td>\n",
       "      <td>Unknown</td>\n",
       "      <td>Polar</td>\n",
       "      <td>Unknown</td>\n",
       "      <td>1000</td>\n",
       "      <td>[-74.65, 4.48]</td>\n",
       "      <td>Unknown</td>\n",
       "      <td>14000000.00</td>\n",
       "      <td>NaN</td>\n",
       "      <td>[UTC-03:00, UTC+03:00, UTC+05:00, UTC+06:00, U...</td>\n",
       "      <td>[]</td>\n",
       "      <td>Antarctica</td>\n",
       "      <td>[{'code': 'AUD', 'name': 'Australian dollar', ...</td>\n",
       "      <td>[{'iso639_1': 'en', 'iso639_2': 'eng', 'name':...</td>\n",
       "      <td>[]</td>\n",
       "    </tr>\n",
       "    <tr>\n",
       "      <th>30</th>\n",
       "      <td>Bouvet Island</td>\n",
       "      <td>BVT</td>\n",
       "      <td>Unknown</td>\n",
       "      <td>Europe</td>\n",
       "      <td>Northern Europe</td>\n",
       "      <td>0</td>\n",
       "      <td>[-54.43333333, 3.4]</td>\n",
       "      <td>Unknown</td>\n",
       "      <td>49.00</td>\n",
       "      <td>NaN</td>\n",
       "      <td>[UTC+01:00]</td>\n",
       "      <td>[]</td>\n",
       "      <td>Bouvetøya</td>\n",
       "      <td>[{'code': 'NOK', 'name': 'Norwegian krone', 's...</td>\n",
       "      <td>[{'iso639_1': 'no', 'iso639_2': 'nor', 'name':...</td>\n",
       "      <td>[]</td>\n",
       "    </tr>\n",
       "    <tr>\n",
       "      <th>78</th>\n",
       "      <td>French Guiana</td>\n",
       "      <td>GUF</td>\n",
       "      <td>Cayenne</td>\n",
       "      <td>Americas</td>\n",
       "      <td>South America</td>\n",
       "      <td>254541</td>\n",
       "      <td>[4.0, -53.0]</td>\n",
       "      <td>Unknown</td>\n",
       "      <td>NaN</td>\n",
       "      <td>NaN</td>\n",
       "      <td>[UTC-03:00]</td>\n",
       "      <td>[BRA, SUR]</td>\n",
       "      <td>Guyane française</td>\n",
       "      <td>[{'code': 'EUR', 'name': 'Euro', 'symbol': '€'}]</td>\n",
       "      <td>[{'iso639_1': 'fr', 'iso639_2': 'fra', 'name':...</td>\n",
       "      <td>[{'acronym': 'USAN', 'name': 'Union of South A...</td>\n",
       "    </tr>\n",
       "    <tr>\n",
       "      <th>99</th>\n",
       "      <td>Holy See</td>\n",
       "      <td>VAT</td>\n",
       "      <td>Rome</td>\n",
       "      <td>Europe</td>\n",
       "      <td>Southern Europe</td>\n",
       "      <td>451</td>\n",
       "      <td>[41.9, 12.45]</td>\n",
       "      <td>Unknown</td>\n",
       "      <td>0.44</td>\n",
       "      <td>NaN</td>\n",
       "      <td>[UTC+01:00]</td>\n",
       "      <td>[ITA]</td>\n",
       "      <td>Sancta Sedes</td>\n",
       "      <td>[{'code': 'EUR', 'name': 'Euro', 'symbol': '€'}]</td>\n",
       "      <td>[{'iso639_1': 'la', 'iso639_2': 'lat', 'name':...</td>\n",
       "      <td>[]</td>\n",
       "    </tr>\n",
       "  </tbody>\n",
       "</table>\n",
       "</div>"
      ],
      "text/plain": [
       "          country alphaCode  capital    region        subregion  population  \\\n",
       "8      Antarctica       ATA  Unknown     Polar          Unknown        1000   \n",
       "30  Bouvet Island       BVT  Unknown    Europe  Northern Europe           0   \n",
       "78  French Guiana       GUF  Cayenne  Americas    South America      254541   \n",
       "99       Holy See       VAT     Rome    Europe  Southern Europe         451   \n",
       "\n",
       "                 latlng  demonym         area  gini  \\\n",
       "8        [-74.65, 4.48]  Unknown  14000000.00   NaN   \n",
       "30  [-54.43333333, 3.4]  Unknown        49.00   NaN   \n",
       "78         [4.0, -53.0]  Unknown          NaN   NaN   \n",
       "99        [41.9, 12.45]  Unknown         0.44   NaN   \n",
       "\n",
       "                                            timezones     borders  \\\n",
       "8   [UTC-03:00, UTC+03:00, UTC+05:00, UTC+06:00, U...          []   \n",
       "30                                        [UTC+01:00]          []   \n",
       "78                                        [UTC-03:00]  [BRA, SUR]   \n",
       "99                                        [UTC+01:00]       [ITA]   \n",
       "\n",
       "          nativeName                                         currencies  \\\n",
       "8         Antarctica  [{'code': 'AUD', 'name': 'Australian dollar', ...   \n",
       "30         Bouvetøya  [{'code': 'NOK', 'name': 'Norwegian krone', 's...   \n",
       "78  Guyane française   [{'code': 'EUR', 'name': 'Euro', 'symbol': '€'}]   \n",
       "99      Sancta Sedes   [{'code': 'EUR', 'name': 'Euro', 'symbol': '€'}]   \n",
       "\n",
       "                                            languages  \\\n",
       "8   [{'iso639_1': 'en', 'iso639_2': 'eng', 'name':...   \n",
       "30  [{'iso639_1': 'no', 'iso639_2': 'nor', 'name':...   \n",
       "78  [{'iso639_1': 'fr', 'iso639_2': 'fra', 'name':...   \n",
       "99  [{'iso639_1': 'la', 'iso639_2': 'lat', 'name':...   \n",
       "\n",
       "                                        regionalBlocs  \n",
       "8                                                  []  \n",
       "30                                                 []  \n",
       "78  [{'acronym': 'USAN', 'name': 'Union of South A...  \n",
       "99                                                 []  "
      ]
     },
     "execution_count": 69,
     "metadata": {},
     "output_type": "execute_result"
    }
   ],
   "source": [
    "df[df['demonym'] == 'Unknown']"
   ]
  },
  {
   "cell_type": "markdown",
   "metadata": {},
   "source": [
    "Fill in empty demonym values and dit similar demonym into a single name."
   ]
  },
  {
   "cell_type": "code",
   "execution_count": 70,
   "metadata": {},
   "outputs": [],
   "source": [
    "df.loc[8,'demonym'] = 'International'\n",
    "df.loc[30,'demonym'] = df.loc[167,'demonym']\n",
    "df.loc[78,'demonym'] = 'French'\n",
    "df.loc[79,'demonym'] = 'French'\n",
    "df.loc[99,'demonym'] = 'Papal'\n",
    "df.loc[95,'demonym'] = 'Guinea'\n",
    "df.loc[69,'demonym'] = 'Guinea'\n",
    "df.loc[173,'demonym'] = 'Guinea'\n",
    "df.loc[165,'demonym'] = 'Korean'\n",
    "df.loc[210,'demonym'] = 'Korean'\n",
    "df.loc[211,'demonym'] = 'Sudanese'\n",
    "df.loc[221,'demonym'] = 'Chinese'"
   ]
  },
  {
   "cell_type": "code",
   "execution_count": 71,
   "metadata": {},
   "outputs": [
    {
     "data": {
      "application/vnd.plotly.v1+json": {
       "config": {
        "plotlyServerURL": "https://plot.ly"
       },
       "data": [
        {
         "histfunc": "count",
         "type": "histogram",
         "x": [
          "Afghan",
          "Ålandish",
          "Albanian",
          "Algerian",
          "American Samoan",
          "Andorran",
          "Angolan",
          "Anguillian",
          "International",
          "Antiguan, Barbudan",
          "Argentinean",
          "Armenian",
          "Aruban",
          "Australian",
          "Austrian",
          "Azerbaijani",
          "Bahamian",
          "Bahraini",
          "Bangladeshi",
          "Barbadian",
          "Belarusian",
          "Belgian",
          "Belizean",
          "Beninese",
          "Bermudian",
          "Bhutanese",
          "Bolivian",
          "Dutch",
          "Bosnian, Herzegovinian",
          "Motswana",
          "Norwegian",
          "Brazilian",
          "Indian",
          "American",
          "Virgin Islander",
          "Virgin Islander",
          "Bruneian",
          "Bulgarian",
          "Burkinabe",
          "Burundian",
          "Cambodian",
          "Cameroonian",
          "Canadian",
          "Cape Verdian",
          "Caymanian",
          "Central African",
          "Chadian",
          "Chilean",
          "Chinese",
          "Christmas Island",
          "Cocos Islander",
          "Colombian",
          "Comoran",
          "Congolese",
          "Congolese",
          "Cook Islander",
          "Costa Rican",
          "Croatian",
          "Cuban",
          "Dutch",
          "Cypriot",
          "Czech",
          "Danish",
          "Djibouti",
          "Dominican",
          "Dominican",
          "Ecuadorean",
          "Egyptian",
          "Salvadoran",
          "Guinea",
          "Eritrean",
          "Estonian",
          "Ethiopian",
          "Falkland Islander",
          "Faroese",
          "Fijian",
          "Finnish",
          "French",
          "French",
          "French",
          "French",
          "Gabonese",
          "Gambian",
          "Georgian",
          "German",
          "Ghanaian",
          "Gibraltar",
          "Greek",
          "Greenlandic",
          "Grenadian",
          "Guadeloupian",
          "Guamanian",
          "Guatemalan",
          "Channel Islander",
          "Guinean",
          "Guinea",
          "Guyanese",
          "Haitian",
          "Heard and McDonald Islander",
          "Papal",
          "Honduran",
          "Chinese",
          "Hungarian",
          "Icelander",
          "Indian",
          "Indonesian",
          "Ivorian",
          "Iranian",
          "Iraqi",
          "Irish",
          "Manx",
          "Israeli",
          "Italian",
          "Jamaican",
          "Japanese",
          "Channel Islander",
          "Jordanian",
          "Kazakhstani",
          "Kenyan",
          "I-Kiribati",
          "Kuwaiti",
          "Kirghiz",
          "Laotian",
          "Latvian",
          "Lebanese",
          "Mosotho",
          "Liberian",
          "Libyan",
          "Liechtensteiner",
          "Lithuanian",
          "Luxembourger",
          "Chinese",
          "Macedonian",
          "Malagasy",
          "Malawian",
          "Malaysian",
          "Maldivan",
          "Malian",
          "Maltese",
          "Marshallese",
          "French",
          "Mauritanian",
          "Mauritian",
          "French",
          "Mexican",
          "Micronesian",
          "Moldovan",
          "Monegasque",
          "Mongolian",
          "Montenegrin",
          "Montserratian",
          "Moroccan",
          "Mozambican",
          "Burmese",
          "Namibian",
          "Nauruan",
          "Nepalese",
          "Dutch",
          "New Caledonian",
          "New Zealander",
          "Nicaraguan",
          "Nigerien",
          "Nigerian",
          "Niuean",
          "Norfolk Islander",
          "Korean",
          "American",
          "Norwegian",
          "Omani",
          "Pakistani",
          "Palauan",
          "Palestinian",
          "Panamanian",
          "Guinea",
          "Paraguayan",
          "Peruvian",
          "Filipino",
          "Pitcairn Islander",
          "Polish",
          "Portuguese",
          "Puerto Rican",
          "Qatari",
          "Kosovar",
          "French",
          "Romanian",
          "Russian",
          "Rwandan",
          "Saint Barthélemy Islander",
          "Saint Helenian",
          "Kittian and Nevisian",
          "Saint Lucian",
          "Saint Martin Islander",
          "French",
          "Saint Vincentian",
          "Samoan",
          "Sammarinese",
          "Sao Tomean",
          "Saudi Arabian",
          "Senegalese",
          "Serbian",
          "Seychellois",
          "Sierra Leonean",
          "Singaporean",
          "Dutch",
          "Slovak",
          "Slovene",
          "Solomon Islander",
          "Somali",
          "South African",
          "South Georgia and the South Sandwich Islander",
          "Korean",
          "Sudanese",
          "Spanish",
          "Sri Lankan",
          "Sudanese",
          "Surinamer",
          "Norwegian",
          "Swazi",
          "Swedish",
          "Swiss",
          "Syrian",
          "Chinese",
          "Tadzhik",
          "Tanzanian",
          "Thai",
          "East Timorese",
          "Togolese",
          "Tokelauan",
          "Tongan",
          "Trinidadian",
          "Tunisian",
          "Turkish",
          "Turkmen",
          "Turks and Caicos Islander",
          "Tuvaluan",
          "Ugandan",
          "Ukrainian",
          "Emirati",
          "British",
          "American",
          "Uruguayan",
          "Uzbekistani",
          "Ni-Vanuatu",
          "Venezuelan",
          "Vietnamese",
          "Wallis and Futuna Islander",
          "Sahrawi",
          "Yemeni",
          "Zambian",
          "Zimbabwean"
         ]
        }
       ],
       "layout": {
        "template": {
         "data": {
          "bar": [
           {
            "error_x": {
             "color": "#2a3f5f"
            },
            "error_y": {
             "color": "#2a3f5f"
            },
            "marker": {
             "line": {
              "color": "#E5ECF6",
              "width": 0.5
             }
            },
            "type": "bar"
           }
          ],
          "barpolar": [
           {
            "marker": {
             "line": {
              "color": "#E5ECF6",
              "width": 0.5
             }
            },
            "type": "barpolar"
           }
          ],
          "carpet": [
           {
            "aaxis": {
             "endlinecolor": "#2a3f5f",
             "gridcolor": "white",
             "linecolor": "white",
             "minorgridcolor": "white",
             "startlinecolor": "#2a3f5f"
            },
            "baxis": {
             "endlinecolor": "#2a3f5f",
             "gridcolor": "white",
             "linecolor": "white",
             "minorgridcolor": "white",
             "startlinecolor": "#2a3f5f"
            },
            "type": "carpet"
           }
          ],
          "choropleth": [
           {
            "colorbar": {
             "outlinewidth": 0,
             "ticks": ""
            },
            "type": "choropleth"
           }
          ],
          "contour": [
           {
            "colorbar": {
             "outlinewidth": 0,
             "ticks": ""
            },
            "colorscale": [
             [
              0,
              "#0d0887"
             ],
             [
              0.1111111111111111,
              "#46039f"
             ],
             [
              0.2222222222222222,
              "#7201a8"
             ],
             [
              0.3333333333333333,
              "#9c179e"
             ],
             [
              0.4444444444444444,
              "#bd3786"
             ],
             [
              0.5555555555555556,
              "#d8576b"
             ],
             [
              0.6666666666666666,
              "#ed7953"
             ],
             [
              0.7777777777777778,
              "#fb9f3a"
             ],
             [
              0.8888888888888888,
              "#fdca26"
             ],
             [
              1,
              "#f0f921"
             ]
            ],
            "type": "contour"
           }
          ],
          "contourcarpet": [
           {
            "colorbar": {
             "outlinewidth": 0,
             "ticks": ""
            },
            "type": "contourcarpet"
           }
          ],
          "heatmap": [
           {
            "colorbar": {
             "outlinewidth": 0,
             "ticks": ""
            },
            "colorscale": [
             [
              0,
              "#0d0887"
             ],
             [
              0.1111111111111111,
              "#46039f"
             ],
             [
              0.2222222222222222,
              "#7201a8"
             ],
             [
              0.3333333333333333,
              "#9c179e"
             ],
             [
              0.4444444444444444,
              "#bd3786"
             ],
             [
              0.5555555555555556,
              "#d8576b"
             ],
             [
              0.6666666666666666,
              "#ed7953"
             ],
             [
              0.7777777777777778,
              "#fb9f3a"
             ],
             [
              0.8888888888888888,
              "#fdca26"
             ],
             [
              1,
              "#f0f921"
             ]
            ],
            "type": "heatmap"
           }
          ],
          "heatmapgl": [
           {
            "colorbar": {
             "outlinewidth": 0,
             "ticks": ""
            },
            "colorscale": [
             [
              0,
              "#0d0887"
             ],
             [
              0.1111111111111111,
              "#46039f"
             ],
             [
              0.2222222222222222,
              "#7201a8"
             ],
             [
              0.3333333333333333,
              "#9c179e"
             ],
             [
              0.4444444444444444,
              "#bd3786"
             ],
             [
              0.5555555555555556,
              "#d8576b"
             ],
             [
              0.6666666666666666,
              "#ed7953"
             ],
             [
              0.7777777777777778,
              "#fb9f3a"
             ],
             [
              0.8888888888888888,
              "#fdca26"
             ],
             [
              1,
              "#f0f921"
             ]
            ],
            "type": "heatmapgl"
           }
          ],
          "histogram": [
           {
            "marker": {
             "colorbar": {
              "outlinewidth": 0,
              "ticks": ""
             }
            },
            "type": "histogram"
           }
          ],
          "histogram2d": [
           {
            "colorbar": {
             "outlinewidth": 0,
             "ticks": ""
            },
            "colorscale": [
             [
              0,
              "#0d0887"
             ],
             [
              0.1111111111111111,
              "#46039f"
             ],
             [
              0.2222222222222222,
              "#7201a8"
             ],
             [
              0.3333333333333333,
              "#9c179e"
             ],
             [
              0.4444444444444444,
              "#bd3786"
             ],
             [
              0.5555555555555556,
              "#d8576b"
             ],
             [
              0.6666666666666666,
              "#ed7953"
             ],
             [
              0.7777777777777778,
              "#fb9f3a"
             ],
             [
              0.8888888888888888,
              "#fdca26"
             ],
             [
              1,
              "#f0f921"
             ]
            ],
            "type": "histogram2d"
           }
          ],
          "histogram2dcontour": [
           {
            "colorbar": {
             "outlinewidth": 0,
             "ticks": ""
            },
            "colorscale": [
             [
              0,
              "#0d0887"
             ],
             [
              0.1111111111111111,
              "#46039f"
             ],
             [
              0.2222222222222222,
              "#7201a8"
             ],
             [
              0.3333333333333333,
              "#9c179e"
             ],
             [
              0.4444444444444444,
              "#bd3786"
             ],
             [
              0.5555555555555556,
              "#d8576b"
             ],
             [
              0.6666666666666666,
              "#ed7953"
             ],
             [
              0.7777777777777778,
              "#fb9f3a"
             ],
             [
              0.8888888888888888,
              "#fdca26"
             ],
             [
              1,
              "#f0f921"
             ]
            ],
            "type": "histogram2dcontour"
           }
          ],
          "mesh3d": [
           {
            "colorbar": {
             "outlinewidth": 0,
             "ticks": ""
            },
            "type": "mesh3d"
           }
          ],
          "parcoords": [
           {
            "line": {
             "colorbar": {
              "outlinewidth": 0,
              "ticks": ""
             }
            },
            "type": "parcoords"
           }
          ],
          "pie": [
           {
            "automargin": true,
            "type": "pie"
           }
          ],
          "scatter": [
           {
            "marker": {
             "colorbar": {
              "outlinewidth": 0,
              "ticks": ""
             }
            },
            "type": "scatter"
           }
          ],
          "scatter3d": [
           {
            "line": {
             "colorbar": {
              "outlinewidth": 0,
              "ticks": ""
             }
            },
            "marker": {
             "colorbar": {
              "outlinewidth": 0,
              "ticks": ""
             }
            },
            "type": "scatter3d"
           }
          ],
          "scattercarpet": [
           {
            "marker": {
             "colorbar": {
              "outlinewidth": 0,
              "ticks": ""
             }
            },
            "type": "scattercarpet"
           }
          ],
          "scattergeo": [
           {
            "marker": {
             "colorbar": {
              "outlinewidth": 0,
              "ticks": ""
             }
            },
            "type": "scattergeo"
           }
          ],
          "scattergl": [
           {
            "marker": {
             "colorbar": {
              "outlinewidth": 0,
              "ticks": ""
             }
            },
            "type": "scattergl"
           }
          ],
          "scattermapbox": [
           {
            "marker": {
             "colorbar": {
              "outlinewidth": 0,
              "ticks": ""
             }
            },
            "type": "scattermapbox"
           }
          ],
          "scatterpolar": [
           {
            "marker": {
             "colorbar": {
              "outlinewidth": 0,
              "ticks": ""
             }
            },
            "type": "scatterpolar"
           }
          ],
          "scatterpolargl": [
           {
            "marker": {
             "colorbar": {
              "outlinewidth": 0,
              "ticks": ""
             }
            },
            "type": "scatterpolargl"
           }
          ],
          "scatterternary": [
           {
            "marker": {
             "colorbar": {
              "outlinewidth": 0,
              "ticks": ""
             }
            },
            "type": "scatterternary"
           }
          ],
          "surface": [
           {
            "colorbar": {
             "outlinewidth": 0,
             "ticks": ""
            },
            "colorscale": [
             [
              0,
              "#0d0887"
             ],
             [
              0.1111111111111111,
              "#46039f"
             ],
             [
              0.2222222222222222,
              "#7201a8"
             ],
             [
              0.3333333333333333,
              "#9c179e"
             ],
             [
              0.4444444444444444,
              "#bd3786"
             ],
             [
              0.5555555555555556,
              "#d8576b"
             ],
             [
              0.6666666666666666,
              "#ed7953"
             ],
             [
              0.7777777777777778,
              "#fb9f3a"
             ],
             [
              0.8888888888888888,
              "#fdca26"
             ],
             [
              1,
              "#f0f921"
             ]
            ],
            "type": "surface"
           }
          ],
          "table": [
           {
            "cells": {
             "fill": {
              "color": "#EBF0F8"
             },
             "line": {
              "color": "white"
             }
            },
            "header": {
             "fill": {
              "color": "#C8D4E3"
             },
             "line": {
              "color": "white"
             }
            },
            "type": "table"
           }
          ]
         },
         "layout": {
          "annotationdefaults": {
           "arrowcolor": "#2a3f5f",
           "arrowhead": 0,
           "arrowwidth": 1
          },
          "coloraxis": {
           "colorbar": {
            "outlinewidth": 0,
            "ticks": ""
           }
          },
          "colorscale": {
           "diverging": [
            [
             0,
             "#8e0152"
            ],
            [
             0.1,
             "#c51b7d"
            ],
            [
             0.2,
             "#de77ae"
            ],
            [
             0.3,
             "#f1b6da"
            ],
            [
             0.4,
             "#fde0ef"
            ],
            [
             0.5,
             "#f7f7f7"
            ],
            [
             0.6,
             "#e6f5d0"
            ],
            [
             0.7,
             "#b8e186"
            ],
            [
             0.8,
             "#7fbc41"
            ],
            [
             0.9,
             "#4d9221"
            ],
            [
             1,
             "#276419"
            ]
           ],
           "sequential": [
            [
             0,
             "#0d0887"
            ],
            [
             0.1111111111111111,
             "#46039f"
            ],
            [
             0.2222222222222222,
             "#7201a8"
            ],
            [
             0.3333333333333333,
             "#9c179e"
            ],
            [
             0.4444444444444444,
             "#bd3786"
            ],
            [
             0.5555555555555556,
             "#d8576b"
            ],
            [
             0.6666666666666666,
             "#ed7953"
            ],
            [
             0.7777777777777778,
             "#fb9f3a"
            ],
            [
             0.8888888888888888,
             "#fdca26"
            ],
            [
             1,
             "#f0f921"
            ]
           ],
           "sequentialminus": [
            [
             0,
             "#0d0887"
            ],
            [
             0.1111111111111111,
             "#46039f"
            ],
            [
             0.2222222222222222,
             "#7201a8"
            ],
            [
             0.3333333333333333,
             "#9c179e"
            ],
            [
             0.4444444444444444,
             "#bd3786"
            ],
            [
             0.5555555555555556,
             "#d8576b"
            ],
            [
             0.6666666666666666,
             "#ed7953"
            ],
            [
             0.7777777777777778,
             "#fb9f3a"
            ],
            [
             0.8888888888888888,
             "#fdca26"
            ],
            [
             1,
             "#f0f921"
            ]
           ]
          },
          "colorway": [
           "#636efa",
           "#EF553B",
           "#00cc96",
           "#ab63fa",
           "#FFA15A",
           "#19d3f3",
           "#FF6692",
           "#B6E880",
           "#FF97FF",
           "#FECB52"
          ],
          "font": {
           "color": "#2a3f5f"
          },
          "geo": {
           "bgcolor": "white",
           "lakecolor": "white",
           "landcolor": "#E5ECF6",
           "showlakes": true,
           "showland": true,
           "subunitcolor": "white"
          },
          "hoverlabel": {
           "align": "left"
          },
          "hovermode": "closest",
          "mapbox": {
           "style": "light"
          },
          "paper_bgcolor": "white",
          "plot_bgcolor": "#E5ECF6",
          "polar": {
           "angularaxis": {
            "gridcolor": "white",
            "linecolor": "white",
            "ticks": ""
           },
           "bgcolor": "#E5ECF6",
           "radialaxis": {
            "gridcolor": "white",
            "linecolor": "white",
            "ticks": ""
           }
          },
          "scene": {
           "xaxis": {
            "backgroundcolor": "#E5ECF6",
            "gridcolor": "white",
            "gridwidth": 2,
            "linecolor": "white",
            "showbackground": true,
            "ticks": "",
            "zerolinecolor": "white"
           },
           "yaxis": {
            "backgroundcolor": "#E5ECF6",
            "gridcolor": "white",
            "gridwidth": 2,
            "linecolor": "white",
            "showbackground": true,
            "ticks": "",
            "zerolinecolor": "white"
           },
           "zaxis": {
            "backgroundcolor": "#E5ECF6",
            "gridcolor": "white",
            "gridwidth": 2,
            "linecolor": "white",
            "showbackground": true,
            "ticks": "",
            "zerolinecolor": "white"
           }
          },
          "shapedefaults": {
           "line": {
            "color": "#2a3f5f"
           }
          },
          "ternary": {
           "aaxis": {
            "gridcolor": "white",
            "linecolor": "white",
            "ticks": ""
           },
           "baxis": {
            "gridcolor": "white",
            "linecolor": "white",
            "ticks": ""
           },
           "bgcolor": "#E5ECF6",
           "caxis": {
            "gridcolor": "white",
            "linecolor": "white",
            "ticks": ""
           }
          },
          "title": {
           "x": 0.05
          },
          "xaxis": {
           "automargin": true,
           "gridcolor": "white",
           "linecolor": "white",
           "ticks": "",
           "title": {
            "standoff": 15
           },
           "zerolinecolor": "white",
           "zerolinewidth": 2
          },
          "yaxis": {
           "automargin": true,
           "gridcolor": "white",
           "linecolor": "white",
           "ticks": "",
           "title": {
            "standoff": 15
           },
           "zerolinecolor": "white",
           "zerolinewidth": 2
          }
         }
        },
        "title": {
         "text": "Demonym Histogram"
        },
        "xaxis": {
         "categoryorder": "total descending",
         "title": {
          "text": "Demonym category"
         }
        },
        "yaxis": {
         "title": {
          "text": "Demonym count"
         }
        }
       }
      },
      "text/html": [
       "<div>\n",
       "        \n",
       "        \n",
       "            <div id=\"8a4cb43f-a6da-441d-882d-8811b8557c73\" class=\"plotly-graph-div\" style=\"height:525px; width:100%;\"></div>\n",
       "            <script type=\"text/javascript\">\n",
       "                require([\"plotly\"], function(Plotly) {\n",
       "                    window.PLOTLYENV=window.PLOTLYENV || {};\n",
       "                    \n",
       "                if (document.getElementById(\"8a4cb43f-a6da-441d-882d-8811b8557c73\")) {\n",
       "                    Plotly.newPlot(\n",
       "                        '8a4cb43f-a6da-441d-882d-8811b8557c73',\n",
       "                        [{\"histfunc\": \"count\", \"type\": \"histogram\", \"x\": [\"Afghan\", \"\\u00c5landish\", \"Albanian\", \"Algerian\", \"American Samoan\", \"Andorran\", \"Angolan\", \"Anguillian\", \"International\", \"Antiguan, Barbudan\", \"Argentinean\", \"Armenian\", \"Aruban\", \"Australian\", \"Austrian\", \"Azerbaijani\", \"Bahamian\", \"Bahraini\", \"Bangladeshi\", \"Barbadian\", \"Belarusian\", \"Belgian\", \"Belizean\", \"Beninese\", \"Bermudian\", \"Bhutanese\", \"Bolivian\", \"Dutch\", \"Bosnian, Herzegovinian\", \"Motswana\", \"Norwegian\", \"Brazilian\", \"Indian\", \"American\", \"Virgin Islander\", \"Virgin Islander\", \"Bruneian\", \"Bulgarian\", \"Burkinabe\", \"Burundian\", \"Cambodian\", \"Cameroonian\", \"Canadian\", \"Cape Verdian\", \"Caymanian\", \"Central African\", \"Chadian\", \"Chilean\", \"Chinese\", \"Christmas Island\", \"Cocos Islander\", \"Colombian\", \"Comoran\", \"Congolese\", \"Congolese\", \"Cook Islander\", \"Costa Rican\", \"Croatian\", \"Cuban\", \"Dutch\", \"Cypriot\", \"Czech\", \"Danish\", \"Djibouti\", \"Dominican\", \"Dominican\", \"Ecuadorean\", \"Egyptian\", \"Salvadoran\", \"Guinea\", \"Eritrean\", \"Estonian\", \"Ethiopian\", \"Falkland Islander\", \"Faroese\", \"Fijian\", \"Finnish\", \"French\", \"French\", \"French\", \"French\", \"Gabonese\", \"Gambian\", \"Georgian\", \"German\", \"Ghanaian\", \"Gibraltar\", \"Greek\", \"Greenlandic\", \"Grenadian\", \"Guadeloupian\", \"Guamanian\", \"Guatemalan\", \"Channel Islander\", \"Guinean\", \"Guinea\", \"Guyanese\", \"Haitian\", \"Heard and McDonald Islander\", \"Papal\", \"Honduran\", \"Chinese\", \"Hungarian\", \"Icelander\", \"Indian\", \"Indonesian\", \"Ivorian\", \"Iranian\", \"Iraqi\", \"Irish\", \"Manx\", \"Israeli\", \"Italian\", \"Jamaican\", \"Japanese\", \"Channel Islander\", \"Jordanian\", \"Kazakhstani\", \"Kenyan\", \"I-Kiribati\", \"Kuwaiti\", \"Kirghiz\", \"Laotian\", \"Latvian\", \"Lebanese\", \"Mosotho\", \"Liberian\", \"Libyan\", \"Liechtensteiner\", \"Lithuanian\", \"Luxembourger\", \"Chinese\", \"Macedonian\", \"Malagasy\", \"Malawian\", \"Malaysian\", \"Maldivan\", \"Malian\", \"Maltese\", \"Marshallese\", \"French\", \"Mauritanian\", \"Mauritian\", \"French\", \"Mexican\", \"Micronesian\", \"Moldovan\", \"Monegasque\", \"Mongolian\", \"Montenegrin\", \"Montserratian\", \"Moroccan\", \"Mozambican\", \"Burmese\", \"Namibian\", \"Nauruan\", \"Nepalese\", \"Dutch\", \"New Caledonian\", \"New Zealander\", \"Nicaraguan\", \"Nigerien\", \"Nigerian\", \"Niuean\", \"Norfolk Islander\", \"Korean\", \"American\", \"Norwegian\", \"Omani\", \"Pakistani\", \"Palauan\", \"Palestinian\", \"Panamanian\", \"Guinea\", \"Paraguayan\", \"Peruvian\", \"Filipino\", \"Pitcairn Islander\", \"Polish\", \"Portuguese\", \"Puerto Rican\", \"Qatari\", \"Kosovar\", \"French\", \"Romanian\", \"Russian\", \"Rwandan\", \"Saint Barth\\u00e9lemy Islander\", \"Saint Helenian\", \"Kittian and Nevisian\", \"Saint Lucian\", \"Saint Martin Islander\", \"French\", \"Saint Vincentian\", \"Samoan\", \"Sammarinese\", \"Sao Tomean\", \"Saudi Arabian\", \"Senegalese\", \"Serbian\", \"Seychellois\", \"Sierra Leonean\", \"Singaporean\", \"Dutch\", \"Slovak\", \"Slovene\", \"Solomon Islander\", \"Somali\", \"South African\", \"South Georgia and the South Sandwich Islander\", \"Korean\", \"Sudanese\", \"Spanish\", \"Sri Lankan\", \"Sudanese\", \"Surinamer\", \"Norwegian\", \"Swazi\", \"Swedish\", \"Swiss\", \"Syrian\", \"Chinese\", \"Tadzhik\", \"Tanzanian\", \"Thai\", \"East Timorese\", \"Togolese\", \"Tokelauan\", \"Tongan\", \"Trinidadian\", \"Tunisian\", \"Turkish\", \"Turkmen\", \"Turks and Caicos Islander\", \"Tuvaluan\", \"Ugandan\", \"Ukrainian\", \"Emirati\", \"British\", \"American\", \"Uruguayan\", \"Uzbekistani\", \"Ni-Vanuatu\", \"Venezuelan\", \"Vietnamese\", \"Wallis and Futuna Islander\", \"Sahrawi\", \"Yemeni\", \"Zambian\", \"Zimbabwean\"]}],\n",
       "                        {\"template\": {\"data\": {\"bar\": [{\"error_x\": {\"color\": \"#2a3f5f\"}, \"error_y\": {\"color\": \"#2a3f5f\"}, \"marker\": {\"line\": {\"color\": \"#E5ECF6\", \"width\": 0.5}}, \"type\": \"bar\"}], \"barpolar\": [{\"marker\": {\"line\": {\"color\": \"#E5ECF6\", \"width\": 0.5}}, \"type\": \"barpolar\"}], \"carpet\": [{\"aaxis\": {\"endlinecolor\": \"#2a3f5f\", \"gridcolor\": \"white\", \"linecolor\": \"white\", \"minorgridcolor\": \"white\", \"startlinecolor\": \"#2a3f5f\"}, \"baxis\": {\"endlinecolor\": \"#2a3f5f\", \"gridcolor\": \"white\", \"linecolor\": \"white\", \"minorgridcolor\": \"white\", \"startlinecolor\": \"#2a3f5f\"}, \"type\": \"carpet\"}], \"choropleth\": [{\"colorbar\": {\"outlinewidth\": 0, \"ticks\": \"\"}, \"type\": \"choropleth\"}], \"contour\": [{\"colorbar\": {\"outlinewidth\": 0, \"ticks\": \"\"}, \"colorscale\": [[0.0, \"#0d0887\"], [0.1111111111111111, \"#46039f\"], [0.2222222222222222, \"#7201a8\"], [0.3333333333333333, \"#9c179e\"], [0.4444444444444444, \"#bd3786\"], [0.5555555555555556, \"#d8576b\"], [0.6666666666666666, \"#ed7953\"], [0.7777777777777778, \"#fb9f3a\"], [0.8888888888888888, \"#fdca26\"], [1.0, \"#f0f921\"]], \"type\": \"contour\"}], \"contourcarpet\": [{\"colorbar\": {\"outlinewidth\": 0, \"ticks\": \"\"}, \"type\": \"contourcarpet\"}], \"heatmap\": [{\"colorbar\": {\"outlinewidth\": 0, \"ticks\": \"\"}, \"colorscale\": [[0.0, \"#0d0887\"], [0.1111111111111111, \"#46039f\"], [0.2222222222222222, \"#7201a8\"], [0.3333333333333333, \"#9c179e\"], [0.4444444444444444, \"#bd3786\"], [0.5555555555555556, \"#d8576b\"], [0.6666666666666666, \"#ed7953\"], [0.7777777777777778, \"#fb9f3a\"], [0.8888888888888888, \"#fdca26\"], [1.0, \"#f0f921\"]], \"type\": \"heatmap\"}], \"heatmapgl\": [{\"colorbar\": {\"outlinewidth\": 0, \"ticks\": \"\"}, \"colorscale\": [[0.0, \"#0d0887\"], [0.1111111111111111, \"#46039f\"], [0.2222222222222222, \"#7201a8\"], [0.3333333333333333, \"#9c179e\"], [0.4444444444444444, \"#bd3786\"], [0.5555555555555556, \"#d8576b\"], [0.6666666666666666, \"#ed7953\"], [0.7777777777777778, \"#fb9f3a\"], [0.8888888888888888, \"#fdca26\"], [1.0, \"#f0f921\"]], \"type\": \"heatmapgl\"}], \"histogram\": [{\"marker\": {\"colorbar\": {\"outlinewidth\": 0, \"ticks\": \"\"}}, \"type\": \"histogram\"}], \"histogram2d\": [{\"colorbar\": {\"outlinewidth\": 0, \"ticks\": \"\"}, \"colorscale\": [[0.0, \"#0d0887\"], [0.1111111111111111, \"#46039f\"], [0.2222222222222222, \"#7201a8\"], [0.3333333333333333, \"#9c179e\"], [0.4444444444444444, \"#bd3786\"], [0.5555555555555556, \"#d8576b\"], [0.6666666666666666, \"#ed7953\"], [0.7777777777777778, \"#fb9f3a\"], [0.8888888888888888, \"#fdca26\"], [1.0, \"#f0f921\"]], \"type\": \"histogram2d\"}], \"histogram2dcontour\": [{\"colorbar\": {\"outlinewidth\": 0, \"ticks\": \"\"}, \"colorscale\": [[0.0, \"#0d0887\"], [0.1111111111111111, \"#46039f\"], [0.2222222222222222, \"#7201a8\"], [0.3333333333333333, \"#9c179e\"], [0.4444444444444444, \"#bd3786\"], [0.5555555555555556, \"#d8576b\"], [0.6666666666666666, \"#ed7953\"], [0.7777777777777778, \"#fb9f3a\"], [0.8888888888888888, \"#fdca26\"], [1.0, \"#f0f921\"]], \"type\": \"histogram2dcontour\"}], \"mesh3d\": [{\"colorbar\": {\"outlinewidth\": 0, \"ticks\": \"\"}, \"type\": \"mesh3d\"}], \"parcoords\": [{\"line\": {\"colorbar\": {\"outlinewidth\": 0, \"ticks\": \"\"}}, \"type\": \"parcoords\"}], \"pie\": [{\"automargin\": true, \"type\": \"pie\"}], \"scatter\": [{\"marker\": {\"colorbar\": {\"outlinewidth\": 0, \"ticks\": \"\"}}, \"type\": \"scatter\"}], \"scatter3d\": [{\"line\": {\"colorbar\": {\"outlinewidth\": 0, \"ticks\": \"\"}}, \"marker\": {\"colorbar\": {\"outlinewidth\": 0, \"ticks\": \"\"}}, \"type\": \"scatter3d\"}], \"scattercarpet\": [{\"marker\": {\"colorbar\": {\"outlinewidth\": 0, \"ticks\": \"\"}}, \"type\": \"scattercarpet\"}], \"scattergeo\": [{\"marker\": {\"colorbar\": {\"outlinewidth\": 0, \"ticks\": \"\"}}, \"type\": \"scattergeo\"}], \"scattergl\": [{\"marker\": {\"colorbar\": {\"outlinewidth\": 0, \"ticks\": \"\"}}, \"type\": \"scattergl\"}], \"scattermapbox\": [{\"marker\": {\"colorbar\": {\"outlinewidth\": 0, \"ticks\": \"\"}}, \"type\": \"scattermapbox\"}], \"scatterpolar\": [{\"marker\": {\"colorbar\": {\"outlinewidth\": 0, \"ticks\": \"\"}}, \"type\": \"scatterpolar\"}], \"scatterpolargl\": [{\"marker\": {\"colorbar\": {\"outlinewidth\": 0, \"ticks\": \"\"}}, \"type\": \"scatterpolargl\"}], \"scatterternary\": [{\"marker\": {\"colorbar\": {\"outlinewidth\": 0, \"ticks\": \"\"}}, \"type\": \"scatterternary\"}], \"surface\": [{\"colorbar\": {\"outlinewidth\": 0, \"ticks\": \"\"}, \"colorscale\": [[0.0, \"#0d0887\"], [0.1111111111111111, \"#46039f\"], [0.2222222222222222, \"#7201a8\"], [0.3333333333333333, \"#9c179e\"], [0.4444444444444444, \"#bd3786\"], [0.5555555555555556, \"#d8576b\"], [0.6666666666666666, \"#ed7953\"], [0.7777777777777778, \"#fb9f3a\"], [0.8888888888888888, \"#fdca26\"], [1.0, \"#f0f921\"]], \"type\": \"surface\"}], \"table\": [{\"cells\": {\"fill\": {\"color\": \"#EBF0F8\"}, \"line\": {\"color\": \"white\"}}, \"header\": {\"fill\": {\"color\": \"#C8D4E3\"}, \"line\": {\"color\": \"white\"}}, \"type\": \"table\"}]}, \"layout\": {\"annotationdefaults\": {\"arrowcolor\": \"#2a3f5f\", \"arrowhead\": 0, \"arrowwidth\": 1}, \"coloraxis\": {\"colorbar\": {\"outlinewidth\": 0, \"ticks\": \"\"}}, \"colorscale\": {\"diverging\": [[0, \"#8e0152\"], [0.1, \"#c51b7d\"], [0.2, \"#de77ae\"], [0.3, \"#f1b6da\"], [0.4, \"#fde0ef\"], [0.5, \"#f7f7f7\"], [0.6, \"#e6f5d0\"], [0.7, \"#b8e186\"], [0.8, \"#7fbc41\"], [0.9, \"#4d9221\"], [1, \"#276419\"]], \"sequential\": [[0.0, \"#0d0887\"], [0.1111111111111111, \"#46039f\"], [0.2222222222222222, \"#7201a8\"], [0.3333333333333333, \"#9c179e\"], [0.4444444444444444, \"#bd3786\"], [0.5555555555555556, \"#d8576b\"], [0.6666666666666666, \"#ed7953\"], [0.7777777777777778, \"#fb9f3a\"], [0.8888888888888888, \"#fdca26\"], [1.0, \"#f0f921\"]], \"sequentialminus\": [[0.0, \"#0d0887\"], [0.1111111111111111, \"#46039f\"], [0.2222222222222222, \"#7201a8\"], [0.3333333333333333, \"#9c179e\"], [0.4444444444444444, \"#bd3786\"], [0.5555555555555556, \"#d8576b\"], [0.6666666666666666, \"#ed7953\"], [0.7777777777777778, \"#fb9f3a\"], [0.8888888888888888, \"#fdca26\"], [1.0, \"#f0f921\"]]}, \"colorway\": [\"#636efa\", \"#EF553B\", \"#00cc96\", \"#ab63fa\", \"#FFA15A\", \"#19d3f3\", \"#FF6692\", \"#B6E880\", \"#FF97FF\", \"#FECB52\"], \"font\": {\"color\": \"#2a3f5f\"}, \"geo\": {\"bgcolor\": \"white\", \"lakecolor\": \"white\", \"landcolor\": \"#E5ECF6\", \"showlakes\": true, \"showland\": true, \"subunitcolor\": \"white\"}, \"hoverlabel\": {\"align\": \"left\"}, \"hovermode\": \"closest\", \"mapbox\": {\"style\": \"light\"}, \"paper_bgcolor\": \"white\", \"plot_bgcolor\": \"#E5ECF6\", \"polar\": {\"angularaxis\": {\"gridcolor\": \"white\", \"linecolor\": \"white\", \"ticks\": \"\"}, \"bgcolor\": \"#E5ECF6\", \"radialaxis\": {\"gridcolor\": \"white\", \"linecolor\": \"white\", \"ticks\": \"\"}}, \"scene\": {\"xaxis\": {\"backgroundcolor\": \"#E5ECF6\", \"gridcolor\": \"white\", \"gridwidth\": 2, \"linecolor\": \"white\", \"showbackground\": true, \"ticks\": \"\", \"zerolinecolor\": \"white\"}, \"yaxis\": {\"backgroundcolor\": \"#E5ECF6\", \"gridcolor\": \"white\", \"gridwidth\": 2, \"linecolor\": \"white\", \"showbackground\": true, \"ticks\": \"\", \"zerolinecolor\": \"white\"}, \"zaxis\": {\"backgroundcolor\": \"#E5ECF6\", \"gridcolor\": \"white\", \"gridwidth\": 2, \"linecolor\": \"white\", \"showbackground\": true, \"ticks\": \"\", \"zerolinecolor\": \"white\"}}, \"shapedefaults\": {\"line\": {\"color\": \"#2a3f5f\"}}, \"ternary\": {\"aaxis\": {\"gridcolor\": \"white\", \"linecolor\": \"white\", \"ticks\": \"\"}, \"baxis\": {\"gridcolor\": \"white\", \"linecolor\": \"white\", \"ticks\": \"\"}, \"bgcolor\": \"#E5ECF6\", \"caxis\": {\"gridcolor\": \"white\", \"linecolor\": \"white\", \"ticks\": \"\"}}, \"title\": {\"x\": 0.05}, \"xaxis\": {\"automargin\": true, \"gridcolor\": \"white\", \"linecolor\": \"white\", \"ticks\": \"\", \"title\": {\"standoff\": 15}, \"zerolinecolor\": \"white\", \"zerolinewidth\": 2}, \"yaxis\": {\"automargin\": true, \"gridcolor\": \"white\", \"linecolor\": \"white\", \"ticks\": \"\", \"title\": {\"standoff\": 15}, \"zerolinecolor\": \"white\", \"zerolinewidth\": 2}}}, \"title\": {\"text\": \"Demonym Histogram\"}, \"xaxis\": {\"categoryorder\": \"total descending\", \"title\": {\"text\": \"Demonym category\"}}, \"yaxis\": {\"title\": {\"text\": \"Demonym count\"}}},\n",
       "                        {\"responsive\": true}\n",
       "                    ).then(function(){\n",
       "                            \n",
       "var gd = document.getElementById('8a4cb43f-a6da-441d-882d-8811b8557c73');\n",
       "var x = new MutationObserver(function (mutations, observer) {{\n",
       "        var display = window.getComputedStyle(gd).display;\n",
       "        if (!display || display === 'none') {{\n",
       "            console.log([gd, 'removed!']);\n",
       "            Plotly.purge(gd);\n",
       "            observer.disconnect();\n",
       "        }}\n",
       "}});\n",
       "\n",
       "// Listen for the removal of the full notebook cells\n",
       "var notebookContainer = gd.closest('#notebook-container');\n",
       "if (notebookContainer) {{\n",
       "    x.observe(notebookContainer, {childList: true});\n",
       "}}\n",
       "\n",
       "// Listen for the clearing of the current output cell\n",
       "var outputEl = gd.closest('.output');\n",
       "if (outputEl) {{\n",
       "    x.observe(outputEl, {childList: true});\n",
       "}}\n",
       "\n",
       "                        })\n",
       "                };\n",
       "                });\n",
       "            </script>\n",
       "        </div>"
      ]
     },
     "metadata": {},
     "output_type": "display_data"
    }
   ],
   "source": [
    "fig = go.Figure(data=[go.Histogram(histfunc=\"count\", x=df['demonym'])])\n",
    "\n",
    "fig.update_layout(\n",
    "    title_text='Demonym Histogram', # title of plot\n",
    "    xaxis_title_text='Demonym category', # xaxis label\n",
    "    yaxis_title_text='Demonym count', # yaxis label\n",
    "#     xaxis={'categoryorder':'category ascending'},# xtitle axis sort\n",
    "    xaxis={'categoryorder':'total descending'}, # values on xaxis sort \n",
    "    # bargap=0.2, # gap between bars of adjacent location coordinates\n",
    "    #bargroupgap=0.1 # gap between bars of the same location coordinates\n",
    ")\n",
    "\n",
    "fig.show()\n",
    "\n",
    "## sort value từng cột từ cao xuống thấp"
   ]
  },
  {
   "cell_type": "markdown",
   "metadata": {},
   "source": [
    "### timezone column"
   ]
  },
  {
   "cell_type": "code",
   "execution_count": 72,
   "metadata": {},
   "outputs": [],
   "source": [
    "#Unlist timezones column\n",
    "time=[]\n",
    "for i in range(0,250):\n",
    "    a=df['timezones'][i]\n",
    "    a=','.join(a)\n",
    "    time.append(a)\n",
    "df['timezones']=time"
   ]
  },
  {
   "cell_type": "markdown",
   "metadata": {},
   "source": [
    "### borders column and number of neighboring country counts (borders_count)"
   ]
  },
  {
   "cell_type": "markdown",
   "metadata": {},
   "source": [
    "tui addd thêm cột counting số borders vô đây. ông nhìn xuống cái statistics phía dưới sẽ có cái giá trị borders count tới gần 15, hơi vô lý chút. Cái này tui chưa kịp check, mai mình check cái này tiếp nha.\n",
    "the same cho cột language cũng có phần nào giống giống vậy. tui nghi ngờ thôi ko chắc đc."
   ]
  },
  {
   "cell_type": "markdown",
   "metadata": {},
   "source": [
    "Fill empty list columns with value None"
   ]
  },
  {
   "cell_type": "code",
   "execution_count": 73,
   "metadata": {},
   "outputs": [],
   "source": [
    "border_c = []\n",
    "for i in df['borders']:\n",
    "    a = len(i)\n",
    "    border_c.append(a)\n",
    "\n",
    "df.insert(12,'borders_count',border_c)"
   ]
  },
  {
   "cell_type": "code",
   "execution_count": 74,
   "metadata": {},
   "outputs": [
    {
     "data": {
      "text/html": [
       "<div>\n",
       "<style scoped>\n",
       "    .dataframe tbody tr th:only-of-type {\n",
       "        vertical-align: middle;\n",
       "    }\n",
       "\n",
       "    .dataframe tbody tr th {\n",
       "        vertical-align: top;\n",
       "    }\n",
       "\n",
       "    .dataframe thead th {\n",
       "        text-align: right;\n",
       "    }\n",
       "</style>\n",
       "<table border=\"1\" class=\"dataframe\">\n",
       "  <thead>\n",
       "    <tr style=\"text-align: right;\">\n",
       "      <th></th>\n",
       "      <th>country</th>\n",
       "      <th>alphaCode</th>\n",
       "      <th>capital</th>\n",
       "      <th>region</th>\n",
       "      <th>subregion</th>\n",
       "      <th>population</th>\n",
       "      <th>latlng</th>\n",
       "      <th>demonym</th>\n",
       "      <th>area</th>\n",
       "      <th>gini</th>\n",
       "      <th>timezones</th>\n",
       "      <th>borders</th>\n",
       "      <th>borders_count</th>\n",
       "      <th>nativeName</th>\n",
       "      <th>currencies</th>\n",
       "      <th>languages</th>\n",
       "      <th>regionalBlocs</th>\n",
       "    </tr>\n",
       "  </thead>\n",
       "  <tbody>\n",
       "    <tr>\n",
       "      <th>0</th>\n",
       "      <td>Afghanistan</td>\n",
       "      <td>AFG</td>\n",
       "      <td>Kabul</td>\n",
       "      <td>Asia</td>\n",
       "      <td>Southern Asia</td>\n",
       "      <td>27657145</td>\n",
       "      <td>[33.0, 65.0]</td>\n",
       "      <td>Afghan</td>\n",
       "      <td>652230.0</td>\n",
       "      <td>27.8</td>\n",
       "      <td>UTC+04:30</td>\n",
       "      <td>[IRN, PAK, TKM, UZB, TJK, CHN]</td>\n",
       "      <td>6</td>\n",
       "      <td>افغانستان</td>\n",
       "      <td>[{'code': 'AFN', 'name': 'Afghan afghani', 'sy...</td>\n",
       "      <td>[{'iso639_1': 'ps', 'iso639_2': 'pus', 'name':...</td>\n",
       "      <td>[{'acronym': 'SAARC', 'name': 'South Asian Ass...</td>\n",
       "    </tr>\n",
       "    <tr>\n",
       "      <th>1</th>\n",
       "      <td>Åland Islands</td>\n",
       "      <td>ALA</td>\n",
       "      <td>Mariehamn</td>\n",
       "      <td>Europe</td>\n",
       "      <td>Northern Europe</td>\n",
       "      <td>28875</td>\n",
       "      <td>[60.116667, 19.9]</td>\n",
       "      <td>Ålandish</td>\n",
       "      <td>1580.0</td>\n",
       "      <td>NaN</td>\n",
       "      <td>UTC+02:00</td>\n",
       "      <td>[]</td>\n",
       "      <td>0</td>\n",
       "      <td>Åland</td>\n",
       "      <td>[{'code': 'EUR', 'name': 'Euro', 'symbol': '€'}]</td>\n",
       "      <td>[{'iso639_1': 'sv', 'iso639_2': 'swe', 'name':...</td>\n",
       "      <td>[{'acronym': 'EU', 'name': 'European Union', '...</td>\n",
       "    </tr>\n",
       "    <tr>\n",
       "      <th>2</th>\n",
       "      <td>Albania</td>\n",
       "      <td>ALB</td>\n",
       "      <td>Tirana</td>\n",
       "      <td>Europe</td>\n",
       "      <td>Southern Europe</td>\n",
       "      <td>2886026</td>\n",
       "      <td>[41.0, 20.0]</td>\n",
       "      <td>Albanian</td>\n",
       "      <td>28748.0</td>\n",
       "      <td>34.5</td>\n",
       "      <td>UTC+01:00</td>\n",
       "      <td>[MNE, GRC, MKD, KOS]</td>\n",
       "      <td>4</td>\n",
       "      <td>Shqipëria</td>\n",
       "      <td>[{'code': 'ALL', 'name': 'Albanian lek', 'symb...</td>\n",
       "      <td>[{'iso639_1': 'sq', 'iso639_2': 'sqi', 'name':...</td>\n",
       "      <td>[{'acronym': 'CEFTA', 'name': 'Central Europea...</td>\n",
       "    </tr>\n",
       "  </tbody>\n",
       "</table>\n",
       "</div>"
      ],
      "text/plain": [
       "         country alphaCode    capital  region        subregion  population  \\\n",
       "0    Afghanistan       AFG      Kabul    Asia    Southern Asia    27657145   \n",
       "1  Åland Islands       ALA  Mariehamn  Europe  Northern Europe       28875   \n",
       "2        Albania       ALB     Tirana  Europe  Southern Europe     2886026   \n",
       "\n",
       "              latlng   demonym      area  gini  timezones  \\\n",
       "0       [33.0, 65.0]    Afghan  652230.0  27.8  UTC+04:30   \n",
       "1  [60.116667, 19.9]  Ålandish    1580.0   NaN  UTC+02:00   \n",
       "2       [41.0, 20.0]  Albanian   28748.0  34.5  UTC+01:00   \n",
       "\n",
       "                          borders  borders_count nativeName  \\\n",
       "0  [IRN, PAK, TKM, UZB, TJK, CHN]              6  افغانستان   \n",
       "1                              []              0      Åland   \n",
       "2            [MNE, GRC, MKD, KOS]              4  Shqipëria   \n",
       "\n",
       "                                          currencies  \\\n",
       "0  [{'code': 'AFN', 'name': 'Afghan afghani', 'sy...   \n",
       "1   [{'code': 'EUR', 'name': 'Euro', 'symbol': '€'}]   \n",
       "2  [{'code': 'ALL', 'name': 'Albanian lek', 'symb...   \n",
       "\n",
       "                                           languages  \\\n",
       "0  [{'iso639_1': 'ps', 'iso639_2': 'pus', 'name':...   \n",
       "1  [{'iso639_1': 'sv', 'iso639_2': 'swe', 'name':...   \n",
       "2  [{'iso639_1': 'sq', 'iso639_2': 'sqi', 'name':...   \n",
       "\n",
       "                                       regionalBlocs  \n",
       "0  [{'acronym': 'SAARC', 'name': 'South Asian Ass...  \n",
       "1  [{'acronym': 'EU', 'name': 'European Union', '...  \n",
       "2  [{'acronym': 'CEFTA', 'name': 'Central Europea...  "
      ]
     },
     "execution_count": 74,
     "metadata": {},
     "output_type": "execute_result"
    }
   ],
   "source": [
    "df.head(3)"
   ]
  },
  {
   "cell_type": "code",
   "execution_count": 75,
   "metadata": {},
   "outputs": [],
   "source": [
    "#Unlist borders column and fill empty value with None string\n",
    "border=[]\n",
    "for i in range(250):\n",
    "    if len(df['borders'][i]) > 0:\n",
    "        a=df['borders'][i]\n",
    "        a=','.join(a)\n",
    "        border.append(a)\n",
    "    else:\n",
    "        border.append('None')\n",
    "df['borders']=border"
   ]
  },
  {
   "cell_type": "code",
   "execution_count": 76,
   "metadata": {},
   "outputs": [
    {
     "data": {
      "text/html": [
       "<div>\n",
       "<style scoped>\n",
       "    .dataframe tbody tr th:only-of-type {\n",
       "        vertical-align: middle;\n",
       "    }\n",
       "\n",
       "    .dataframe tbody tr th {\n",
       "        vertical-align: top;\n",
       "    }\n",
       "\n",
       "    .dataframe thead th {\n",
       "        text-align: right;\n",
       "    }\n",
       "</style>\n",
       "<table border=\"1\" class=\"dataframe\">\n",
       "  <thead>\n",
       "    <tr style=\"text-align: right;\">\n",
       "      <th></th>\n",
       "      <th>country</th>\n",
       "      <th>alphaCode</th>\n",
       "      <th>capital</th>\n",
       "      <th>region</th>\n",
       "      <th>subregion</th>\n",
       "      <th>population</th>\n",
       "      <th>latlng</th>\n",
       "      <th>demonym</th>\n",
       "      <th>area</th>\n",
       "      <th>gini</th>\n",
       "      <th>timezones</th>\n",
       "      <th>borders</th>\n",
       "      <th>borders_count</th>\n",
       "      <th>nativeName</th>\n",
       "      <th>currencies</th>\n",
       "      <th>languages</th>\n",
       "      <th>regionalBlocs</th>\n",
       "    </tr>\n",
       "  </thead>\n",
       "  <tbody>\n",
       "    <tr>\n",
       "      <th>0</th>\n",
       "      <td>Afghanistan</td>\n",
       "      <td>AFG</td>\n",
       "      <td>Kabul</td>\n",
       "      <td>Asia</td>\n",
       "      <td>Southern Asia</td>\n",
       "      <td>27657145</td>\n",
       "      <td>[33.0, 65.0]</td>\n",
       "      <td>Afghan</td>\n",
       "      <td>652230.0</td>\n",
       "      <td>27.8</td>\n",
       "      <td>UTC+04:30</td>\n",
       "      <td>IRN,PAK,TKM,UZB,TJK,CHN</td>\n",
       "      <td>6</td>\n",
       "      <td>افغانستان</td>\n",
       "      <td>[{'code': 'AFN', 'name': 'Afghan afghani', 'sy...</td>\n",
       "      <td>[{'iso639_1': 'ps', 'iso639_2': 'pus', 'name':...</td>\n",
       "      <td>[{'acronym': 'SAARC', 'name': 'South Asian Ass...</td>\n",
       "    </tr>\n",
       "    <tr>\n",
       "      <th>1</th>\n",
       "      <td>Åland Islands</td>\n",
       "      <td>ALA</td>\n",
       "      <td>Mariehamn</td>\n",
       "      <td>Europe</td>\n",
       "      <td>Northern Europe</td>\n",
       "      <td>28875</td>\n",
       "      <td>[60.116667, 19.9]</td>\n",
       "      <td>Ålandish</td>\n",
       "      <td>1580.0</td>\n",
       "      <td>NaN</td>\n",
       "      <td>UTC+02:00</td>\n",
       "      <td>None</td>\n",
       "      <td>0</td>\n",
       "      <td>Åland</td>\n",
       "      <td>[{'code': 'EUR', 'name': 'Euro', 'symbol': '€'}]</td>\n",
       "      <td>[{'iso639_1': 'sv', 'iso639_2': 'swe', 'name':...</td>\n",
       "      <td>[{'acronym': 'EU', 'name': 'European Union', '...</td>\n",
       "    </tr>\n",
       "    <tr>\n",
       "      <th>2</th>\n",
       "      <td>Albania</td>\n",
       "      <td>ALB</td>\n",
       "      <td>Tirana</td>\n",
       "      <td>Europe</td>\n",
       "      <td>Southern Europe</td>\n",
       "      <td>2886026</td>\n",
       "      <td>[41.0, 20.0]</td>\n",
       "      <td>Albanian</td>\n",
       "      <td>28748.0</td>\n",
       "      <td>34.5</td>\n",
       "      <td>UTC+01:00</td>\n",
       "      <td>MNE,GRC,MKD,KOS</td>\n",
       "      <td>4</td>\n",
       "      <td>Shqipëria</td>\n",
       "      <td>[{'code': 'ALL', 'name': 'Albanian lek', 'symb...</td>\n",
       "      <td>[{'iso639_1': 'sq', 'iso639_2': 'sqi', 'name':...</td>\n",
       "      <td>[{'acronym': 'CEFTA', 'name': 'Central Europea...</td>\n",
       "    </tr>\n",
       "    <tr>\n",
       "      <th>3</th>\n",
       "      <td>Algeria</td>\n",
       "      <td>DZA</td>\n",
       "      <td>Algiers</td>\n",
       "      <td>Africa</td>\n",
       "      <td>Northern Africa</td>\n",
       "      <td>40400000</td>\n",
       "      <td>[28.0, 3.0]</td>\n",
       "      <td>Algerian</td>\n",
       "      <td>2381741.0</td>\n",
       "      <td>35.3</td>\n",
       "      <td>UTC+01:00</td>\n",
       "      <td>TUN,LBY,NER,ESH,MRT,MLI,MAR</td>\n",
       "      <td>7</td>\n",
       "      <td>الجزائر</td>\n",
       "      <td>[{'code': 'DZD', 'name': 'Algerian dinar', 'sy...</td>\n",
       "      <td>[{'iso639_1': 'ar', 'iso639_2': 'ara', 'name':...</td>\n",
       "      <td>[{'acronym': 'AU', 'name': 'African Union', 'o...</td>\n",
       "    </tr>\n",
       "    <tr>\n",
       "      <th>4</th>\n",
       "      <td>American Samoa</td>\n",
       "      <td>ASM</td>\n",
       "      <td>Pago Pago</td>\n",
       "      <td>Oceania</td>\n",
       "      <td>Polynesia</td>\n",
       "      <td>57100</td>\n",
       "      <td>[-14.33333333, -170.0]</td>\n",
       "      <td>American Samoan</td>\n",
       "      <td>199.0</td>\n",
       "      <td>NaN</td>\n",
       "      <td>UTC-11:00</td>\n",
       "      <td>None</td>\n",
       "      <td>0</td>\n",
       "      <td>American Samoa</td>\n",
       "      <td>[{'code': 'USD', 'name': 'United State Dollar'...</td>\n",
       "      <td>[{'iso639_1': 'en', 'iso639_2': 'eng', 'name':...</td>\n",
       "      <td>[]</td>\n",
       "    </tr>\n",
       "  </tbody>\n",
       "</table>\n",
       "</div>"
      ],
      "text/plain": [
       "          country alphaCode    capital   region        subregion  population  \\\n",
       "0     Afghanistan       AFG      Kabul     Asia    Southern Asia    27657145   \n",
       "1   Åland Islands       ALA  Mariehamn   Europe  Northern Europe       28875   \n",
       "2         Albania       ALB     Tirana   Europe  Southern Europe     2886026   \n",
       "3         Algeria       DZA    Algiers   Africa  Northern Africa    40400000   \n",
       "4  American Samoa       ASM  Pago Pago  Oceania        Polynesia       57100   \n",
       "\n",
       "                   latlng          demonym       area  gini  timezones  \\\n",
       "0            [33.0, 65.0]           Afghan   652230.0  27.8  UTC+04:30   \n",
       "1       [60.116667, 19.9]         Ålandish     1580.0   NaN  UTC+02:00   \n",
       "2            [41.0, 20.0]         Albanian    28748.0  34.5  UTC+01:00   \n",
       "3             [28.0, 3.0]         Algerian  2381741.0  35.3  UTC+01:00   \n",
       "4  [-14.33333333, -170.0]  American Samoan      199.0   NaN  UTC-11:00   \n",
       "\n",
       "                       borders  borders_count      nativeName  \\\n",
       "0      IRN,PAK,TKM,UZB,TJK,CHN              6       افغانستان   \n",
       "1                         None              0           Åland   \n",
       "2              MNE,GRC,MKD,KOS              4       Shqipëria   \n",
       "3  TUN,LBY,NER,ESH,MRT,MLI,MAR              7         الجزائر   \n",
       "4                         None              0  American Samoa   \n",
       "\n",
       "                                          currencies  \\\n",
       "0  [{'code': 'AFN', 'name': 'Afghan afghani', 'sy...   \n",
       "1   [{'code': 'EUR', 'name': 'Euro', 'symbol': '€'}]   \n",
       "2  [{'code': 'ALL', 'name': 'Albanian lek', 'symb...   \n",
       "3  [{'code': 'DZD', 'name': 'Algerian dinar', 'sy...   \n",
       "4  [{'code': 'USD', 'name': 'United State Dollar'...   \n",
       "\n",
       "                                           languages  \\\n",
       "0  [{'iso639_1': 'ps', 'iso639_2': 'pus', 'name':...   \n",
       "1  [{'iso639_1': 'sv', 'iso639_2': 'swe', 'name':...   \n",
       "2  [{'iso639_1': 'sq', 'iso639_2': 'sqi', 'name':...   \n",
       "3  [{'iso639_1': 'ar', 'iso639_2': 'ara', 'name':...   \n",
       "4  [{'iso639_1': 'en', 'iso639_2': 'eng', 'name':...   \n",
       "\n",
       "                                       regionalBlocs  \n",
       "0  [{'acronym': 'SAARC', 'name': 'South Asian Ass...  \n",
       "1  [{'acronym': 'EU', 'name': 'European Union', '...  \n",
       "2  [{'acronym': 'CEFTA', 'name': 'Central Europea...  \n",
       "3  [{'acronym': 'AU', 'name': 'African Union', 'o...  \n",
       "4                                                 []  "
      ]
     },
     "execution_count": 76,
     "metadata": {},
     "output_type": "execute_result"
    }
   ],
   "source": [
    "#Creat function to fill empty list columns with value None\n",
    "def fill_empty_list(col):\n",
    "    fill=[]\n",
    "    for i in col:\n",
    "        if len(i) == 0:\n",
    "            fill.append('None')\n",
    "        else:\n",
    "            fill.append(i)\n",
    "    return fill\n",
    "\n",
    "#Fill [] empty list values in borders column\n",
    "bor=df['borders']\n",
    "bor1=fill_empty_list(bor)\n",
    "df['borders']=bor1\n",
    "\n",
    "df.head()"
   ]
  },
  {
   "cell_type": "markdown",
   "metadata": {},
   "source": [
    "### currencies column"
   ]
  },
  {
   "cell_type": "code",
   "execution_count": 77,
   "metadata": {},
   "outputs": [],
   "source": [
    "#Function to extract and unlist currencies column\n",
    "curr=[]\n",
    "for i in range(0,250):\n",
    "    tab=pd.Series(df['currencies'][i])\n",
    "    tab=pd.json_normalize(tab)\n",
    "    code=tab['code'].to_string()\n",
    "    code=code.replace('0','').replace('(none)','').replace(' ','').replace('[G]','').replace('None','')\n",
    "    curr.append(code)\n",
    "    \n",
    "df['currencies']=curr\n",
    "df['currencies']=df['currencies'].str.replace('\\n[1-9]',' ').str.strip()"
   ]
  },
  {
   "cell_type": "code",
   "execution_count": 78,
   "metadata": {},
   "outputs": [
    {
     "data": {
      "text/plain": [
       "array(['AFN', 'EUR', 'ALL', 'DZD', 'USD', 'AOA', 'XCD', 'AUD GBP', 'ARS',\n",
       "       'AMD', 'AWG', 'AUD', 'AZN', 'BSD', 'BHD', 'BDT', 'BBD', 'BYN BYR',\n",
       "       'BZD', 'XOF', 'BMD', 'BTN INR', 'BOB', 'BAM', 'BWP', 'NOK', 'BRL',\n",
       "       'BND SGD', 'BGN', 'BIF', 'KHR USD', 'XAF', 'CAD', 'CVE', 'KYD',\n",
       "       'CLP', 'CNY', 'COP', 'KMF', 'CDF', 'NZD CKD', 'CRC', 'HRK',\n",
       "       'CUC CUP', 'ANG', 'CZK', 'DKK', 'DJF', 'DOP', 'EGP', 'ERN', 'ETB',\n",
       "       'FKP', 'FJD', 'XPF', 'GMD', 'GEL', 'GHS', 'GIP', 'GTQ', 'GBP',\n",
       "       'GNF', 'GYD', 'HTG', 'HNL', 'HKD', 'HUF', 'ISK', 'INR', 'IDR',\n",
       "       'IRR', 'IQD', 'GBP IMP', 'ILS', 'JMD', 'JPY', 'GBP JEP', 'JOD',\n",
       "       'KZT', 'KES', 'KWD', 'KGS', 'LAK', 'LBP', 'LSL ZAR', 'LRD', 'LYD',\n",
       "       'CHF', 'MOP', 'MKD', 'MGA', 'MWK', 'MYR', 'MVR', 'MRO', 'MUR',\n",
       "       'MXN', 'MDL', 'MNT', 'MAD', 'MZN', 'MMK', 'NAD ZAR', 'NPR', 'NZD',\n",
       "       'NIO', 'NGN', 'KPW', 'OMR', 'PKR', 'PAB USD', 'PGK', 'PYG', 'PEN',\n",
       "       'PHP', 'PLN', 'QAR', 'RON', 'RUB', 'RWF', 'SHP', 'WST', 'STD',\n",
       "       'SAR', 'RSD', 'SCR', 'SLL', 'SBD', 'SOS', 'ZAR', 'KRW', 'SSP',\n",
       "       'LKR', 'SDG', 'SRD', 'SZL', 'SEK', 'SYP', 'TWD', 'TJS', 'TZS',\n",
       "       'THB', 'TOP', 'TTD', 'TND', 'TRY', 'TMT', 'AUD TVD', 'UGX', 'UAH',\n",
       "       'AED', 'UYU', 'UZS', 'VUV', 'VEF', 'VND', 'MAD DZD', 'YER', 'ZMW',\n",
       "       'BWP GBP CNY EUR INR JPY ZAR USD'], dtype=object)"
      ]
     },
     "execution_count": 78,
     "metadata": {},
     "output_type": "execute_result"
    }
   ],
   "source": [
    "df['currencies'].unique()"
   ]
  },
  {
   "cell_type": "markdown",
   "metadata": {},
   "source": [
    "For countries using more than two currencies (one popular and one only used in that country), we will count only the more popular currency for better statistic.\n",
    "\n",
    "Special cases in which both currencies are used in more than one countries, all currencies will be kept."
   ]
  },
  {
   "cell_type": "code",
   "execution_count": 79,
   "metadata": {},
   "outputs": [],
   "source": [
    "# df.loc[249,'currencies'] = 'BWP,GBP,CNY,EUR,INR,JPY,ZAR,USD'\n",
    "# df.loc[25,'currencies'] = 'INR'\n",
    "# df.loc[40,'currencies'] = 'USD'\n",
    "# df.loc[55,'currencies'] = 'NZD'\n",
    "# df.loc[110,'currencies'] = 'GBP'\n",
    "# df.loc[115,'currencies'] = 'GBP'\n",
    "# df.loc[125,'currencies'] = 'ZAR'\n",
    "# df.loc[154,'currencies'] = 'ZAR'\n",
    "# df.loc[172,'currencies'] = 'USD'\n",
    "# df.loc[177,'currencies'] = 'NZD'\n",
    "# df.loc[225,'currencies'] = 'USD'\n",
    "# df.loc[234,'currencies'] = 'AUD'\n",
    "# #check chỉ xử lý typo"
   ]
  },
  {
   "cell_type": "code",
   "execution_count": 80,
   "metadata": {},
   "outputs": [
    {
     "data": {
      "application/vnd.plotly.v1+json": {
       "config": {
        "plotlyServerURL": "https://plot.ly"
       },
       "data": [
        {
         "histfunc": "count",
         "type": "histogram",
         "x": [
          "AFN",
          "EUR",
          "ALL",
          "DZD",
          "USD",
          "EUR",
          "AOA",
          "XCD",
          "AUD GBP",
          "XCD",
          "ARS",
          "AMD",
          "AWG",
          "AUD",
          "EUR",
          "AZN",
          "BSD",
          "BHD",
          "BDT",
          "BBD",
          "BYN BYR",
          "EUR",
          "BZD",
          "XOF",
          "BMD",
          "BTN INR",
          "BOB",
          "USD",
          "BAM",
          "BWP",
          "NOK",
          "BRL",
          "USD",
          "USD",
          "USD",
          "USD",
          "BND SGD",
          "BGN",
          "XOF",
          "BIF",
          "KHR USD",
          "XAF",
          "CAD",
          "CVE",
          "KYD",
          "XAF",
          "XAF",
          "CLP",
          "CNY",
          "AUD",
          "AUD",
          "COP",
          "KMF",
          "XAF",
          "CDF",
          "NZD CKD",
          "CRC",
          "HRK",
          "CUC CUP",
          "ANG",
          "EUR",
          "CZK",
          "DKK",
          "DJF",
          "XCD",
          "DOP",
          "USD",
          "EGP",
          "USD",
          "XAF",
          "ERN",
          "EUR",
          "ETB",
          "FKP",
          "DKK",
          "FJD",
          "EUR",
          "EUR",
          "EUR",
          "XPF",
          "EUR",
          "XAF",
          "GMD",
          "GEL",
          "EUR",
          "GHS",
          "GIP",
          "EUR",
          "DKK",
          "XCD",
          "EUR",
          "USD",
          "GTQ",
          "GBP",
          "GNF",
          "XOF",
          "GYD",
          "HTG",
          "AUD",
          "EUR",
          "HNL",
          "HKD",
          "HUF",
          "ISK",
          "INR",
          "IDR",
          "XOF",
          "IRR",
          "IQD",
          "EUR",
          "GBP IMP",
          "ILS",
          "EUR",
          "JMD",
          "JPY",
          "GBP JEP",
          "JOD",
          "KZT",
          "KES",
          "AUD",
          "KWD",
          "KGS",
          "LAK",
          "EUR",
          "LBP",
          "LSL ZAR",
          "LRD",
          "LYD",
          "CHF",
          "EUR",
          "EUR",
          "MOP",
          "MKD",
          "MGA",
          "MWK",
          "MYR",
          "MVR",
          "XOF",
          "EUR",
          "USD",
          "EUR",
          "MRO",
          "MUR",
          "EUR",
          "MXN",
          "USD",
          "MDL",
          "EUR",
          "MNT",
          "EUR",
          "XCD",
          "MAD",
          "MZN",
          "MMK",
          "NAD ZAR",
          "AUD",
          "NPR",
          "EUR",
          "XPF",
          "NZD",
          "NIO",
          "XOF",
          "NGN",
          "NZD",
          "AUD",
          "KPW",
          "USD",
          "NOK",
          "OMR",
          "PKR",
          "USD",
          "ILS",
          "PAB USD",
          "PGK",
          "PYG",
          "PEN",
          "PHP",
          "NZD",
          "PLN",
          "EUR",
          "USD",
          "QAR",
          "EUR",
          "EUR",
          "RON",
          "RUB",
          "RWF",
          "EUR",
          "SHP",
          "XCD",
          "XCD",
          "EUR",
          "EUR",
          "XCD",
          "WST",
          "EUR",
          "STD",
          "SAR",
          "XOF",
          "RSD",
          "SCR",
          "SLL",
          "BND SGD",
          "ANG",
          "EUR",
          "EUR",
          "SBD",
          "SOS",
          "ZAR",
          "GBP",
          "KRW",
          "SSP",
          "EUR",
          "LKR",
          "SDG",
          "SRD",
          "NOK",
          "SZL",
          "SEK",
          "CHF",
          "SYP",
          "TWD",
          "TJS",
          "TZS",
          "THB",
          "USD",
          "XOF",
          "NZD",
          "TOP",
          "TTD",
          "TND",
          "TRY",
          "TMT",
          "USD",
          "AUD TVD",
          "UGX",
          "UAH",
          "AED",
          "GBP",
          "USD",
          "UYU",
          "UZS",
          "VUV",
          "VEF",
          "VND",
          "XPF",
          "MAD DZD",
          "YER",
          "ZMW",
          "BWP GBP CNY EUR INR JPY ZAR USD"
         ]
        }
       ],
       "layout": {
        "template": {
         "data": {
          "bar": [
           {
            "error_x": {
             "color": "#2a3f5f"
            },
            "error_y": {
             "color": "#2a3f5f"
            },
            "marker": {
             "line": {
              "color": "#E5ECF6",
              "width": 0.5
             }
            },
            "type": "bar"
           }
          ],
          "barpolar": [
           {
            "marker": {
             "line": {
              "color": "#E5ECF6",
              "width": 0.5
             }
            },
            "type": "barpolar"
           }
          ],
          "carpet": [
           {
            "aaxis": {
             "endlinecolor": "#2a3f5f",
             "gridcolor": "white",
             "linecolor": "white",
             "minorgridcolor": "white",
             "startlinecolor": "#2a3f5f"
            },
            "baxis": {
             "endlinecolor": "#2a3f5f",
             "gridcolor": "white",
             "linecolor": "white",
             "minorgridcolor": "white",
             "startlinecolor": "#2a3f5f"
            },
            "type": "carpet"
           }
          ],
          "choropleth": [
           {
            "colorbar": {
             "outlinewidth": 0,
             "ticks": ""
            },
            "type": "choropleth"
           }
          ],
          "contour": [
           {
            "colorbar": {
             "outlinewidth": 0,
             "ticks": ""
            },
            "colorscale": [
             [
              0,
              "#0d0887"
             ],
             [
              0.1111111111111111,
              "#46039f"
             ],
             [
              0.2222222222222222,
              "#7201a8"
             ],
             [
              0.3333333333333333,
              "#9c179e"
             ],
             [
              0.4444444444444444,
              "#bd3786"
             ],
             [
              0.5555555555555556,
              "#d8576b"
             ],
             [
              0.6666666666666666,
              "#ed7953"
             ],
             [
              0.7777777777777778,
              "#fb9f3a"
             ],
             [
              0.8888888888888888,
              "#fdca26"
             ],
             [
              1,
              "#f0f921"
             ]
            ],
            "type": "contour"
           }
          ],
          "contourcarpet": [
           {
            "colorbar": {
             "outlinewidth": 0,
             "ticks": ""
            },
            "type": "contourcarpet"
           }
          ],
          "heatmap": [
           {
            "colorbar": {
             "outlinewidth": 0,
             "ticks": ""
            },
            "colorscale": [
             [
              0,
              "#0d0887"
             ],
             [
              0.1111111111111111,
              "#46039f"
             ],
             [
              0.2222222222222222,
              "#7201a8"
             ],
             [
              0.3333333333333333,
              "#9c179e"
             ],
             [
              0.4444444444444444,
              "#bd3786"
             ],
             [
              0.5555555555555556,
              "#d8576b"
             ],
             [
              0.6666666666666666,
              "#ed7953"
             ],
             [
              0.7777777777777778,
              "#fb9f3a"
             ],
             [
              0.8888888888888888,
              "#fdca26"
             ],
             [
              1,
              "#f0f921"
             ]
            ],
            "type": "heatmap"
           }
          ],
          "heatmapgl": [
           {
            "colorbar": {
             "outlinewidth": 0,
             "ticks": ""
            },
            "colorscale": [
             [
              0,
              "#0d0887"
             ],
             [
              0.1111111111111111,
              "#46039f"
             ],
             [
              0.2222222222222222,
              "#7201a8"
             ],
             [
              0.3333333333333333,
              "#9c179e"
             ],
             [
              0.4444444444444444,
              "#bd3786"
             ],
             [
              0.5555555555555556,
              "#d8576b"
             ],
             [
              0.6666666666666666,
              "#ed7953"
             ],
             [
              0.7777777777777778,
              "#fb9f3a"
             ],
             [
              0.8888888888888888,
              "#fdca26"
             ],
             [
              1,
              "#f0f921"
             ]
            ],
            "type": "heatmapgl"
           }
          ],
          "histogram": [
           {
            "marker": {
             "colorbar": {
              "outlinewidth": 0,
              "ticks": ""
             }
            },
            "type": "histogram"
           }
          ],
          "histogram2d": [
           {
            "colorbar": {
             "outlinewidth": 0,
             "ticks": ""
            },
            "colorscale": [
             [
              0,
              "#0d0887"
             ],
             [
              0.1111111111111111,
              "#46039f"
             ],
             [
              0.2222222222222222,
              "#7201a8"
             ],
             [
              0.3333333333333333,
              "#9c179e"
             ],
             [
              0.4444444444444444,
              "#bd3786"
             ],
             [
              0.5555555555555556,
              "#d8576b"
             ],
             [
              0.6666666666666666,
              "#ed7953"
             ],
             [
              0.7777777777777778,
              "#fb9f3a"
             ],
             [
              0.8888888888888888,
              "#fdca26"
             ],
             [
              1,
              "#f0f921"
             ]
            ],
            "type": "histogram2d"
           }
          ],
          "histogram2dcontour": [
           {
            "colorbar": {
             "outlinewidth": 0,
             "ticks": ""
            },
            "colorscale": [
             [
              0,
              "#0d0887"
             ],
             [
              0.1111111111111111,
              "#46039f"
             ],
             [
              0.2222222222222222,
              "#7201a8"
             ],
             [
              0.3333333333333333,
              "#9c179e"
             ],
             [
              0.4444444444444444,
              "#bd3786"
             ],
             [
              0.5555555555555556,
              "#d8576b"
             ],
             [
              0.6666666666666666,
              "#ed7953"
             ],
             [
              0.7777777777777778,
              "#fb9f3a"
             ],
             [
              0.8888888888888888,
              "#fdca26"
             ],
             [
              1,
              "#f0f921"
             ]
            ],
            "type": "histogram2dcontour"
           }
          ],
          "mesh3d": [
           {
            "colorbar": {
             "outlinewidth": 0,
             "ticks": ""
            },
            "type": "mesh3d"
           }
          ],
          "parcoords": [
           {
            "line": {
             "colorbar": {
              "outlinewidth": 0,
              "ticks": ""
             }
            },
            "type": "parcoords"
           }
          ],
          "pie": [
           {
            "automargin": true,
            "type": "pie"
           }
          ],
          "scatter": [
           {
            "marker": {
             "colorbar": {
              "outlinewidth": 0,
              "ticks": ""
             }
            },
            "type": "scatter"
           }
          ],
          "scatter3d": [
           {
            "line": {
             "colorbar": {
              "outlinewidth": 0,
              "ticks": ""
             }
            },
            "marker": {
             "colorbar": {
              "outlinewidth": 0,
              "ticks": ""
             }
            },
            "type": "scatter3d"
           }
          ],
          "scattercarpet": [
           {
            "marker": {
             "colorbar": {
              "outlinewidth": 0,
              "ticks": ""
             }
            },
            "type": "scattercarpet"
           }
          ],
          "scattergeo": [
           {
            "marker": {
             "colorbar": {
              "outlinewidth": 0,
              "ticks": ""
             }
            },
            "type": "scattergeo"
           }
          ],
          "scattergl": [
           {
            "marker": {
             "colorbar": {
              "outlinewidth": 0,
              "ticks": ""
             }
            },
            "type": "scattergl"
           }
          ],
          "scattermapbox": [
           {
            "marker": {
             "colorbar": {
              "outlinewidth": 0,
              "ticks": ""
             }
            },
            "type": "scattermapbox"
           }
          ],
          "scatterpolar": [
           {
            "marker": {
             "colorbar": {
              "outlinewidth": 0,
              "ticks": ""
             }
            },
            "type": "scatterpolar"
           }
          ],
          "scatterpolargl": [
           {
            "marker": {
             "colorbar": {
              "outlinewidth": 0,
              "ticks": ""
             }
            },
            "type": "scatterpolargl"
           }
          ],
          "scatterternary": [
           {
            "marker": {
             "colorbar": {
              "outlinewidth": 0,
              "ticks": ""
             }
            },
            "type": "scatterternary"
           }
          ],
          "surface": [
           {
            "colorbar": {
             "outlinewidth": 0,
             "ticks": ""
            },
            "colorscale": [
             [
              0,
              "#0d0887"
             ],
             [
              0.1111111111111111,
              "#46039f"
             ],
             [
              0.2222222222222222,
              "#7201a8"
             ],
             [
              0.3333333333333333,
              "#9c179e"
             ],
             [
              0.4444444444444444,
              "#bd3786"
             ],
             [
              0.5555555555555556,
              "#d8576b"
             ],
             [
              0.6666666666666666,
              "#ed7953"
             ],
             [
              0.7777777777777778,
              "#fb9f3a"
             ],
             [
              0.8888888888888888,
              "#fdca26"
             ],
             [
              1,
              "#f0f921"
             ]
            ],
            "type": "surface"
           }
          ],
          "table": [
           {
            "cells": {
             "fill": {
              "color": "#EBF0F8"
             },
             "line": {
              "color": "white"
             }
            },
            "header": {
             "fill": {
              "color": "#C8D4E3"
             },
             "line": {
              "color": "white"
             }
            },
            "type": "table"
           }
          ]
         },
         "layout": {
          "annotationdefaults": {
           "arrowcolor": "#2a3f5f",
           "arrowhead": 0,
           "arrowwidth": 1
          },
          "coloraxis": {
           "colorbar": {
            "outlinewidth": 0,
            "ticks": ""
           }
          },
          "colorscale": {
           "diverging": [
            [
             0,
             "#8e0152"
            ],
            [
             0.1,
             "#c51b7d"
            ],
            [
             0.2,
             "#de77ae"
            ],
            [
             0.3,
             "#f1b6da"
            ],
            [
             0.4,
             "#fde0ef"
            ],
            [
             0.5,
             "#f7f7f7"
            ],
            [
             0.6,
             "#e6f5d0"
            ],
            [
             0.7,
             "#b8e186"
            ],
            [
             0.8,
             "#7fbc41"
            ],
            [
             0.9,
             "#4d9221"
            ],
            [
             1,
             "#276419"
            ]
           ],
           "sequential": [
            [
             0,
             "#0d0887"
            ],
            [
             0.1111111111111111,
             "#46039f"
            ],
            [
             0.2222222222222222,
             "#7201a8"
            ],
            [
             0.3333333333333333,
             "#9c179e"
            ],
            [
             0.4444444444444444,
             "#bd3786"
            ],
            [
             0.5555555555555556,
             "#d8576b"
            ],
            [
             0.6666666666666666,
             "#ed7953"
            ],
            [
             0.7777777777777778,
             "#fb9f3a"
            ],
            [
             0.8888888888888888,
             "#fdca26"
            ],
            [
             1,
             "#f0f921"
            ]
           ],
           "sequentialminus": [
            [
             0,
             "#0d0887"
            ],
            [
             0.1111111111111111,
             "#46039f"
            ],
            [
             0.2222222222222222,
             "#7201a8"
            ],
            [
             0.3333333333333333,
             "#9c179e"
            ],
            [
             0.4444444444444444,
             "#bd3786"
            ],
            [
             0.5555555555555556,
             "#d8576b"
            ],
            [
             0.6666666666666666,
             "#ed7953"
            ],
            [
             0.7777777777777778,
             "#fb9f3a"
            ],
            [
             0.8888888888888888,
             "#fdca26"
            ],
            [
             1,
             "#f0f921"
            ]
           ]
          },
          "colorway": [
           "#636efa",
           "#EF553B",
           "#00cc96",
           "#ab63fa",
           "#FFA15A",
           "#19d3f3",
           "#FF6692",
           "#B6E880",
           "#FF97FF",
           "#FECB52"
          ],
          "font": {
           "color": "#2a3f5f"
          },
          "geo": {
           "bgcolor": "white",
           "lakecolor": "white",
           "landcolor": "#E5ECF6",
           "showlakes": true,
           "showland": true,
           "subunitcolor": "white"
          },
          "hoverlabel": {
           "align": "left"
          },
          "hovermode": "closest",
          "mapbox": {
           "style": "light"
          },
          "paper_bgcolor": "white",
          "plot_bgcolor": "#E5ECF6",
          "polar": {
           "angularaxis": {
            "gridcolor": "white",
            "linecolor": "white",
            "ticks": ""
           },
           "bgcolor": "#E5ECF6",
           "radialaxis": {
            "gridcolor": "white",
            "linecolor": "white",
            "ticks": ""
           }
          },
          "scene": {
           "xaxis": {
            "backgroundcolor": "#E5ECF6",
            "gridcolor": "white",
            "gridwidth": 2,
            "linecolor": "white",
            "showbackground": true,
            "ticks": "",
            "zerolinecolor": "white"
           },
           "yaxis": {
            "backgroundcolor": "#E5ECF6",
            "gridcolor": "white",
            "gridwidth": 2,
            "linecolor": "white",
            "showbackground": true,
            "ticks": "",
            "zerolinecolor": "white"
           },
           "zaxis": {
            "backgroundcolor": "#E5ECF6",
            "gridcolor": "white",
            "gridwidth": 2,
            "linecolor": "white",
            "showbackground": true,
            "ticks": "",
            "zerolinecolor": "white"
           }
          },
          "shapedefaults": {
           "line": {
            "color": "#2a3f5f"
           }
          },
          "ternary": {
           "aaxis": {
            "gridcolor": "white",
            "linecolor": "white",
            "ticks": ""
           },
           "baxis": {
            "gridcolor": "white",
            "linecolor": "white",
            "ticks": ""
           },
           "bgcolor": "#E5ECF6",
           "caxis": {
            "gridcolor": "white",
            "linecolor": "white",
            "ticks": ""
           }
          },
          "title": {
           "x": 0.05
          },
          "xaxis": {
           "automargin": true,
           "gridcolor": "white",
           "linecolor": "white",
           "ticks": "",
           "title": {
            "standoff": 15
           },
           "zerolinecolor": "white",
           "zerolinewidth": 2
          },
          "yaxis": {
           "automargin": true,
           "gridcolor": "white",
           "linecolor": "white",
           "ticks": "",
           "title": {
            "standoff": 15
           },
           "zerolinecolor": "white",
           "zerolinewidth": 2
          }
         }
        },
        "title": {
         "text": "Currencies Histogram"
        },
        "xaxis": {
         "categoryorder": "total descending",
         "title": {
          "text": "Currencies category"
         }
        },
        "yaxis": {
         "title": {
          "text": "Currency count"
         }
        }
       }
      },
      "text/html": [
       "<div>\n",
       "        \n",
       "        \n",
       "            <div id=\"caba7b31-40d1-4469-9e86-7678ef99bd60\" class=\"plotly-graph-div\" style=\"height:525px; width:100%;\"></div>\n",
       "            <script type=\"text/javascript\">\n",
       "                require([\"plotly\"], function(Plotly) {\n",
       "                    window.PLOTLYENV=window.PLOTLYENV || {};\n",
       "                    \n",
       "                if (document.getElementById(\"caba7b31-40d1-4469-9e86-7678ef99bd60\")) {\n",
       "                    Plotly.newPlot(\n",
       "                        'caba7b31-40d1-4469-9e86-7678ef99bd60',\n",
       "                        [{\"histfunc\": \"count\", \"type\": \"histogram\", \"x\": [\"AFN\", \"EUR\", \"ALL\", \"DZD\", \"USD\", \"EUR\", \"AOA\", \"XCD\", \"AUD GBP\", \"XCD\", \"ARS\", \"AMD\", \"AWG\", \"AUD\", \"EUR\", \"AZN\", \"BSD\", \"BHD\", \"BDT\", \"BBD\", \"BYN BYR\", \"EUR\", \"BZD\", \"XOF\", \"BMD\", \"BTN INR\", \"BOB\", \"USD\", \"BAM\", \"BWP\", \"NOK\", \"BRL\", \"USD\", \"USD\", \"USD\", \"USD\", \"BND SGD\", \"BGN\", \"XOF\", \"BIF\", \"KHR USD\", \"XAF\", \"CAD\", \"CVE\", \"KYD\", \"XAF\", \"XAF\", \"CLP\", \"CNY\", \"AUD\", \"AUD\", \"COP\", \"KMF\", \"XAF\", \"CDF\", \"NZD CKD\", \"CRC\", \"HRK\", \"CUC CUP\", \"ANG\", \"EUR\", \"CZK\", \"DKK\", \"DJF\", \"XCD\", \"DOP\", \"USD\", \"EGP\", \"USD\", \"XAF\", \"ERN\", \"EUR\", \"ETB\", \"FKP\", \"DKK\", \"FJD\", \"EUR\", \"EUR\", \"EUR\", \"XPF\", \"EUR\", \"XAF\", \"GMD\", \"GEL\", \"EUR\", \"GHS\", \"GIP\", \"EUR\", \"DKK\", \"XCD\", \"EUR\", \"USD\", \"GTQ\", \"GBP\", \"GNF\", \"XOF\", \"GYD\", \"HTG\", \"AUD\", \"EUR\", \"HNL\", \"HKD\", \"HUF\", \"ISK\", \"INR\", \"IDR\", \"XOF\", \"IRR\", \"IQD\", \"EUR\", \"GBP IMP\", \"ILS\", \"EUR\", \"JMD\", \"JPY\", \"GBP JEP\", \"JOD\", \"KZT\", \"KES\", \"AUD\", \"KWD\", \"KGS\", \"LAK\", \"EUR\", \"LBP\", \"LSL ZAR\", \"LRD\", \"LYD\", \"CHF\", \"EUR\", \"EUR\", \"MOP\", \"MKD\", \"MGA\", \"MWK\", \"MYR\", \"MVR\", \"XOF\", \"EUR\", \"USD\", \"EUR\", \"MRO\", \"MUR\", \"EUR\", \"MXN\", \"USD\", \"MDL\", \"EUR\", \"MNT\", \"EUR\", \"XCD\", \"MAD\", \"MZN\", \"MMK\", \"NAD ZAR\", \"AUD\", \"NPR\", \"EUR\", \"XPF\", \"NZD\", \"NIO\", \"XOF\", \"NGN\", \"NZD\", \"AUD\", \"KPW\", \"USD\", \"NOK\", \"OMR\", \"PKR\", \"USD\", \"ILS\", \"PAB USD\", \"PGK\", \"PYG\", \"PEN\", \"PHP\", \"NZD\", \"PLN\", \"EUR\", \"USD\", \"QAR\", \"EUR\", \"EUR\", \"RON\", \"RUB\", \"RWF\", \"EUR\", \"SHP\", \"XCD\", \"XCD\", \"EUR\", \"EUR\", \"XCD\", \"WST\", \"EUR\", \"STD\", \"SAR\", \"XOF\", \"RSD\", \"SCR\", \"SLL\", \"BND SGD\", \"ANG\", \"EUR\", \"EUR\", \"SBD\", \"SOS\", \"ZAR\", \"GBP\", \"KRW\", \"SSP\", \"EUR\", \"LKR\", \"SDG\", \"SRD\", \"NOK\", \"SZL\", \"SEK\", \"CHF\", \"SYP\", \"TWD\", \"TJS\", \"TZS\", \"THB\", \"USD\", \"XOF\", \"NZD\", \"TOP\", \"TTD\", \"TND\", \"TRY\", \"TMT\", \"USD\", \"AUD TVD\", \"UGX\", \"UAH\", \"AED\", \"GBP\", \"USD\", \"UYU\", \"UZS\", \"VUV\", \"VEF\", \"VND\", \"XPF\", \"MAD DZD\", \"YER\", \"ZMW\", \"BWP GBP CNY EUR INR JPY ZAR USD\"]}],\n",
       "                        {\"template\": {\"data\": {\"bar\": [{\"error_x\": {\"color\": \"#2a3f5f\"}, \"error_y\": {\"color\": \"#2a3f5f\"}, \"marker\": {\"line\": {\"color\": \"#E5ECF6\", \"width\": 0.5}}, \"type\": \"bar\"}], \"barpolar\": [{\"marker\": {\"line\": {\"color\": \"#E5ECF6\", \"width\": 0.5}}, \"type\": \"barpolar\"}], \"carpet\": [{\"aaxis\": {\"endlinecolor\": \"#2a3f5f\", \"gridcolor\": \"white\", \"linecolor\": \"white\", \"minorgridcolor\": \"white\", \"startlinecolor\": \"#2a3f5f\"}, \"baxis\": {\"endlinecolor\": \"#2a3f5f\", \"gridcolor\": \"white\", \"linecolor\": \"white\", \"minorgridcolor\": \"white\", \"startlinecolor\": \"#2a3f5f\"}, \"type\": \"carpet\"}], \"choropleth\": [{\"colorbar\": {\"outlinewidth\": 0, \"ticks\": \"\"}, \"type\": \"choropleth\"}], \"contour\": [{\"colorbar\": {\"outlinewidth\": 0, \"ticks\": \"\"}, \"colorscale\": [[0.0, \"#0d0887\"], [0.1111111111111111, \"#46039f\"], [0.2222222222222222, \"#7201a8\"], [0.3333333333333333, \"#9c179e\"], [0.4444444444444444, \"#bd3786\"], [0.5555555555555556, \"#d8576b\"], [0.6666666666666666, \"#ed7953\"], [0.7777777777777778, \"#fb9f3a\"], [0.8888888888888888, \"#fdca26\"], [1.0, \"#f0f921\"]], \"type\": \"contour\"}], \"contourcarpet\": [{\"colorbar\": {\"outlinewidth\": 0, \"ticks\": \"\"}, \"type\": \"contourcarpet\"}], \"heatmap\": [{\"colorbar\": {\"outlinewidth\": 0, \"ticks\": \"\"}, \"colorscale\": [[0.0, \"#0d0887\"], [0.1111111111111111, \"#46039f\"], [0.2222222222222222, \"#7201a8\"], [0.3333333333333333, \"#9c179e\"], [0.4444444444444444, \"#bd3786\"], [0.5555555555555556, \"#d8576b\"], [0.6666666666666666, \"#ed7953\"], [0.7777777777777778, \"#fb9f3a\"], [0.8888888888888888, \"#fdca26\"], [1.0, \"#f0f921\"]], \"type\": \"heatmap\"}], \"heatmapgl\": [{\"colorbar\": {\"outlinewidth\": 0, \"ticks\": \"\"}, \"colorscale\": [[0.0, \"#0d0887\"], [0.1111111111111111, \"#46039f\"], [0.2222222222222222, \"#7201a8\"], [0.3333333333333333, \"#9c179e\"], [0.4444444444444444, \"#bd3786\"], [0.5555555555555556, \"#d8576b\"], [0.6666666666666666, \"#ed7953\"], [0.7777777777777778, \"#fb9f3a\"], [0.8888888888888888, \"#fdca26\"], [1.0, \"#f0f921\"]], \"type\": \"heatmapgl\"}], \"histogram\": [{\"marker\": {\"colorbar\": {\"outlinewidth\": 0, \"ticks\": \"\"}}, \"type\": \"histogram\"}], \"histogram2d\": [{\"colorbar\": {\"outlinewidth\": 0, \"ticks\": \"\"}, \"colorscale\": [[0.0, \"#0d0887\"], [0.1111111111111111, \"#46039f\"], [0.2222222222222222, \"#7201a8\"], [0.3333333333333333, \"#9c179e\"], [0.4444444444444444, \"#bd3786\"], [0.5555555555555556, \"#d8576b\"], [0.6666666666666666, \"#ed7953\"], [0.7777777777777778, \"#fb9f3a\"], [0.8888888888888888, \"#fdca26\"], [1.0, \"#f0f921\"]], \"type\": \"histogram2d\"}], \"histogram2dcontour\": [{\"colorbar\": {\"outlinewidth\": 0, \"ticks\": \"\"}, \"colorscale\": [[0.0, \"#0d0887\"], [0.1111111111111111, \"#46039f\"], [0.2222222222222222, \"#7201a8\"], [0.3333333333333333, \"#9c179e\"], [0.4444444444444444, \"#bd3786\"], [0.5555555555555556, \"#d8576b\"], [0.6666666666666666, \"#ed7953\"], [0.7777777777777778, \"#fb9f3a\"], [0.8888888888888888, \"#fdca26\"], [1.0, \"#f0f921\"]], \"type\": \"histogram2dcontour\"}], \"mesh3d\": [{\"colorbar\": {\"outlinewidth\": 0, \"ticks\": \"\"}, \"type\": \"mesh3d\"}], \"parcoords\": [{\"line\": {\"colorbar\": {\"outlinewidth\": 0, \"ticks\": \"\"}}, \"type\": \"parcoords\"}], \"pie\": [{\"automargin\": true, \"type\": \"pie\"}], \"scatter\": [{\"marker\": {\"colorbar\": {\"outlinewidth\": 0, \"ticks\": \"\"}}, \"type\": \"scatter\"}], \"scatter3d\": [{\"line\": {\"colorbar\": {\"outlinewidth\": 0, \"ticks\": \"\"}}, \"marker\": {\"colorbar\": {\"outlinewidth\": 0, \"ticks\": \"\"}}, \"type\": \"scatter3d\"}], \"scattercarpet\": [{\"marker\": {\"colorbar\": {\"outlinewidth\": 0, \"ticks\": \"\"}}, \"type\": \"scattercarpet\"}], \"scattergeo\": [{\"marker\": {\"colorbar\": {\"outlinewidth\": 0, \"ticks\": \"\"}}, \"type\": \"scattergeo\"}], \"scattergl\": [{\"marker\": {\"colorbar\": {\"outlinewidth\": 0, \"ticks\": \"\"}}, \"type\": \"scattergl\"}], \"scattermapbox\": [{\"marker\": {\"colorbar\": {\"outlinewidth\": 0, \"ticks\": \"\"}}, \"type\": \"scattermapbox\"}], \"scatterpolar\": [{\"marker\": {\"colorbar\": {\"outlinewidth\": 0, \"ticks\": \"\"}}, \"type\": \"scatterpolar\"}], \"scatterpolargl\": [{\"marker\": {\"colorbar\": {\"outlinewidth\": 0, \"ticks\": \"\"}}, \"type\": \"scatterpolargl\"}], \"scatterternary\": [{\"marker\": {\"colorbar\": {\"outlinewidth\": 0, \"ticks\": \"\"}}, \"type\": \"scatterternary\"}], \"surface\": [{\"colorbar\": {\"outlinewidth\": 0, \"ticks\": \"\"}, \"colorscale\": [[0.0, \"#0d0887\"], [0.1111111111111111, \"#46039f\"], [0.2222222222222222, \"#7201a8\"], [0.3333333333333333, \"#9c179e\"], [0.4444444444444444, \"#bd3786\"], [0.5555555555555556, \"#d8576b\"], [0.6666666666666666, \"#ed7953\"], [0.7777777777777778, \"#fb9f3a\"], [0.8888888888888888, \"#fdca26\"], [1.0, \"#f0f921\"]], \"type\": \"surface\"}], \"table\": [{\"cells\": {\"fill\": {\"color\": \"#EBF0F8\"}, \"line\": {\"color\": \"white\"}}, \"header\": {\"fill\": {\"color\": \"#C8D4E3\"}, \"line\": {\"color\": \"white\"}}, \"type\": \"table\"}]}, \"layout\": {\"annotationdefaults\": {\"arrowcolor\": \"#2a3f5f\", \"arrowhead\": 0, \"arrowwidth\": 1}, \"coloraxis\": {\"colorbar\": {\"outlinewidth\": 0, \"ticks\": \"\"}}, \"colorscale\": {\"diverging\": [[0, \"#8e0152\"], [0.1, \"#c51b7d\"], [0.2, \"#de77ae\"], [0.3, \"#f1b6da\"], [0.4, \"#fde0ef\"], [0.5, \"#f7f7f7\"], [0.6, \"#e6f5d0\"], [0.7, \"#b8e186\"], [0.8, \"#7fbc41\"], [0.9, \"#4d9221\"], [1, \"#276419\"]], \"sequential\": [[0.0, \"#0d0887\"], [0.1111111111111111, \"#46039f\"], [0.2222222222222222, \"#7201a8\"], [0.3333333333333333, \"#9c179e\"], [0.4444444444444444, \"#bd3786\"], [0.5555555555555556, \"#d8576b\"], [0.6666666666666666, \"#ed7953\"], [0.7777777777777778, \"#fb9f3a\"], [0.8888888888888888, \"#fdca26\"], [1.0, \"#f0f921\"]], \"sequentialminus\": [[0.0, \"#0d0887\"], [0.1111111111111111, \"#46039f\"], [0.2222222222222222, \"#7201a8\"], [0.3333333333333333, \"#9c179e\"], [0.4444444444444444, \"#bd3786\"], [0.5555555555555556, \"#d8576b\"], [0.6666666666666666, \"#ed7953\"], [0.7777777777777778, \"#fb9f3a\"], [0.8888888888888888, \"#fdca26\"], [1.0, \"#f0f921\"]]}, \"colorway\": [\"#636efa\", \"#EF553B\", \"#00cc96\", \"#ab63fa\", \"#FFA15A\", \"#19d3f3\", \"#FF6692\", \"#B6E880\", \"#FF97FF\", \"#FECB52\"], \"font\": {\"color\": \"#2a3f5f\"}, \"geo\": {\"bgcolor\": \"white\", \"lakecolor\": \"white\", \"landcolor\": \"#E5ECF6\", \"showlakes\": true, \"showland\": true, \"subunitcolor\": \"white\"}, \"hoverlabel\": {\"align\": \"left\"}, \"hovermode\": \"closest\", \"mapbox\": {\"style\": \"light\"}, \"paper_bgcolor\": \"white\", \"plot_bgcolor\": \"#E5ECF6\", \"polar\": {\"angularaxis\": {\"gridcolor\": \"white\", \"linecolor\": \"white\", \"ticks\": \"\"}, \"bgcolor\": \"#E5ECF6\", \"radialaxis\": {\"gridcolor\": \"white\", \"linecolor\": \"white\", \"ticks\": \"\"}}, \"scene\": {\"xaxis\": {\"backgroundcolor\": \"#E5ECF6\", \"gridcolor\": \"white\", \"gridwidth\": 2, \"linecolor\": \"white\", \"showbackground\": true, \"ticks\": \"\", \"zerolinecolor\": \"white\"}, \"yaxis\": {\"backgroundcolor\": \"#E5ECF6\", \"gridcolor\": \"white\", \"gridwidth\": 2, \"linecolor\": \"white\", \"showbackground\": true, \"ticks\": \"\", \"zerolinecolor\": \"white\"}, \"zaxis\": {\"backgroundcolor\": \"#E5ECF6\", \"gridcolor\": \"white\", \"gridwidth\": 2, \"linecolor\": \"white\", \"showbackground\": true, \"ticks\": \"\", \"zerolinecolor\": \"white\"}}, \"shapedefaults\": {\"line\": {\"color\": \"#2a3f5f\"}}, \"ternary\": {\"aaxis\": {\"gridcolor\": \"white\", \"linecolor\": \"white\", \"ticks\": \"\"}, \"baxis\": {\"gridcolor\": \"white\", \"linecolor\": \"white\", \"ticks\": \"\"}, \"bgcolor\": \"#E5ECF6\", \"caxis\": {\"gridcolor\": \"white\", \"linecolor\": \"white\", \"ticks\": \"\"}}, \"title\": {\"x\": 0.05}, \"xaxis\": {\"automargin\": true, \"gridcolor\": \"white\", \"linecolor\": \"white\", \"ticks\": \"\", \"title\": {\"standoff\": 15}, \"zerolinecolor\": \"white\", \"zerolinewidth\": 2}, \"yaxis\": {\"automargin\": true, \"gridcolor\": \"white\", \"linecolor\": \"white\", \"ticks\": \"\", \"title\": {\"standoff\": 15}, \"zerolinecolor\": \"white\", \"zerolinewidth\": 2}}}, \"title\": {\"text\": \"Currencies Histogram\"}, \"xaxis\": {\"categoryorder\": \"total descending\", \"title\": {\"text\": \"Currencies category\"}}, \"yaxis\": {\"title\": {\"text\": \"Currency count\"}}},\n",
       "                        {\"responsive\": true}\n",
       "                    ).then(function(){\n",
       "                            \n",
       "var gd = document.getElementById('caba7b31-40d1-4469-9e86-7678ef99bd60');\n",
       "var x = new MutationObserver(function (mutations, observer) {{\n",
       "        var display = window.getComputedStyle(gd).display;\n",
       "        if (!display || display === 'none') {{\n",
       "            console.log([gd, 'removed!']);\n",
       "            Plotly.purge(gd);\n",
       "            observer.disconnect();\n",
       "        }}\n",
       "}});\n",
       "\n",
       "// Listen for the removal of the full notebook cells\n",
       "var notebookContainer = gd.closest('#notebook-container');\n",
       "if (notebookContainer) {{\n",
       "    x.observe(notebookContainer, {childList: true});\n",
       "}}\n",
       "\n",
       "// Listen for the clearing of the current output cell\n",
       "var outputEl = gd.closest('.output');\n",
       "if (outputEl) {{\n",
       "    x.observe(outputEl, {childList: true});\n",
       "}}\n",
       "\n",
       "                        })\n",
       "                };\n",
       "                });\n",
       "            </script>\n",
       "        </div>"
      ]
     },
     "metadata": {},
     "output_type": "display_data"
    }
   ],
   "source": [
    "fig = go.Figure(data=[go.Histogram(histfunc=\"count\", x=df['currencies'])])\n",
    "\n",
    "fig.update_layout(\n",
    "    title_text='Currencies Histogram', # title of plot\n",
    "    xaxis_title_text='Currencies category', # xaxis label\n",
    "    yaxis_title_text='Currency count', # yaxis label\n",
    "#     xaxis={'categoryorder':'category ascending'},# xtitle axis sort\n",
    "    xaxis={'categoryorder':'total descending'}, # values on xaxis sort \n",
    "    # bargap=0.2, # gap between bars of adjacent location coordinates\n",
    "    #bargroupgap=0.1 # gap between bars of the same location coordinates\n",
    ")\n",
    "\n",
    "fig.show()\n",
    "\n",
    "#sort cao xuống thấp"
   ]
  },
  {
   "cell_type": "markdown",
   "metadata": {},
   "source": [
    "### languages and languages_count column"
   ]
  },
  {
   "cell_type": "code",
   "execution_count": 81,
   "metadata": {},
   "outputs": [],
   "source": [
    "#Function to extract and unlist languages column\n",
    "lang=[]\n",
    "count_lang=[]\n",
    "for i in range(0,250):\n",
    "    tab=pd.Series(df['languages'][i])\n",
    "    tab=pd.json_normalize(tab)\n",
    "    name=tab['name'].tolist()\n",
    "    count=len(name)\n",
    "    name=','.join(name)\n",
    "    lang.append(name)\n",
    "    count_lang.append(count)\n",
    "\n",
    "df['languages']=lang\n",
    "df['count_lang']=count_lang"
   ]
  },
  {
   "cell_type": "code",
   "execution_count": 82,
   "metadata": {},
   "outputs": [
    {
     "data": {
      "application/vnd.plotly.v1+json": {
       "config": {
        "plotlyServerURL": "https://plot.ly"
       },
       "data": [
        {
         "histfunc": "count",
         "type": "histogram",
         "x": [
          "Pashto,Uzbek,Turkmen",
          "Swedish",
          "Albanian",
          "Arabic",
          "English,Samoan",
          "Catalan",
          "Portuguese",
          "English",
          "English,Russian",
          "English",
          "Spanish,Guaraní",
          "Armenian,Russian",
          "Dutch,(Eastern) Punjabi",
          "English",
          "German",
          "Azerbaijani",
          "English",
          "Arabic",
          "Bengali",
          "English",
          "Belarusian,Russian",
          "Dutch,French,German",
          "English,Spanish",
          "French",
          "English",
          "Dzongkha",
          "Spanish,Aymara,Quechua",
          "Dutch",
          "Bosnian,Croatian,Serbian",
          "English,Tswana",
          "Norwegian,Norwegian Bokmål,Norwegian Nynorsk",
          "Portuguese",
          "English",
          "English",
          "English",
          "English",
          "Malay",
          "Bulgarian",
          "French,Fula",
          "French,Kirundi",
          "Khmer",
          "English,French",
          "English,French",
          "Portuguese",
          "English",
          "French,Sango",
          "French,Arabic",
          "Spanish",
          "Chinese",
          "English",
          "English",
          "Spanish",
          "Arabic,French",
          "French,Lingala",
          "French,Lingala,Kongo,Swahili,Luba-Katanga",
          "English",
          "Spanish",
          "Croatian",
          "Spanish",
          "Dutch,(Eastern) Punjabi,English",
          "Greek (modern),Turkish,Armenian",
          "Czech,Slovak",
          "Danish",
          "French,Arabic",
          "English",
          "Spanish",
          "Spanish",
          "Arabic",
          "Spanish",
          "Spanish,French",
          "Tigrinya,Arabic,English",
          "Estonian",
          "Amharic",
          "English",
          "Faroese",
          "English,Fijian,Hindi,Urdu",
          "Finnish,Swedish",
          "French",
          "French",
          "French",
          "French",
          "French",
          "English",
          "Georgian",
          "German",
          "English",
          "English",
          "Greek (modern)",
          "Kalaallisut",
          "English",
          "French",
          "English,Chamorro,Spanish",
          "Spanish",
          "English,French",
          "French,Fula",
          "Portuguese",
          "English",
          "French,Haitian",
          "English",
          "Latin,Italian,French,German",
          "Spanish",
          "English,Chinese",
          "Hungarian",
          "Icelandic",
          "Hindi,English",
          "Indonesian",
          "French",
          "Persian (Farsi)",
          "Arabic,Kurdish",
          "Irish,English",
          "English,Manx",
          "Hebrew (modern),Arabic",
          "Italian",
          "English",
          "Japanese",
          "English,French",
          "Arabic",
          "Kazakh,Russian",
          "English,Swahili",
          "English",
          "Arabic",
          "Kyrgyz,Russian",
          "Lao",
          "Latvian",
          "Arabic,French",
          "English,Southern Sotho",
          "English",
          "Arabic",
          "German",
          "Lithuanian",
          "French,German,Luxembourgish",
          "Chinese,Portuguese",
          "Macedonian",
          "French,Malagasy",
          "English,Chichewa",
          "Malaysian",
          "Divehi",
          "French",
          "Maltese,English",
          "English,Marshallese",
          "French",
          "Arabic",
          "English",
          "French",
          "Spanish",
          "English",
          "Romanian",
          "French",
          "Mongolian",
          "Serbian,Bosnian,Albanian,Croatian",
          "English",
          "Arabic",
          "Portuguese",
          "Burmese",
          "English,Afrikaans",
          "English,Nauruan",
          "Nepali",
          "Dutch",
          "French",
          "English,Māori",
          "Spanish",
          "French",
          "English",
          "English",
          "English",
          "Korean",
          "English,Chamorro",
          "Norwegian,Norwegian Bokmål,Norwegian Nynorsk",
          "Arabic",
          "English,Urdu",
          "English",
          "Arabic",
          "Spanish",
          "English",
          "Spanish,Guaraní",
          "Spanish",
          "English",
          "English",
          "Polish",
          "Portuguese",
          "Spanish,English",
          "Arabic",
          "Albanian,Serbian",
          "French",
          "Romanian",
          "Russian",
          "Kinyarwanda,English,French",
          "French",
          "English",
          "English",
          "English",
          "English,French,Dutch",
          "French",
          "English",
          "Samoan,English",
          "Italian",
          "Portuguese",
          "Arabic",
          "French",
          "Serbian",
          "French,English",
          "English",
          "English,Malay,Tamil,Chinese",
          "Dutch,English",
          "Slovak",
          "Slovene",
          "English",
          "Somali,Arabic",
          "Afrikaans,English,Southern Ndebele,Southern Sotho,Swati,Tswana,Tsonga,Venda,Xhosa,Zulu",
          "English",
          "Korean",
          "English",
          "Spanish",
          "Sinhalese,Tamil",
          "Arabic,English",
          "Dutch",
          "Norwegian",
          "English,Swati",
          "Swedish",
          "German,French,Italian",
          "Arabic",
          "Chinese",
          "Tajik,Russian",
          "Swahili,English",
          "Thai",
          "Portuguese",
          "French",
          "English",
          "English,Tonga (Tonga Islands)",
          "English",
          "Arabic",
          "Turkish",
          "Turkmen,Russian",
          "English",
          "English",
          "English,Swahili",
          "Ukrainian",
          "Arabic",
          "English",
          "English",
          "Spanish",
          "Uzbek,Russian",
          "Bislama,English,French",
          "Spanish",
          "Vietnamese",
          "French",
          "Spanish",
          "Arabic",
          "English",
          "English,Shona,Northern Ndebele"
         ]
        }
       ],
       "layout": {
        "template": {
         "data": {
          "bar": [
           {
            "error_x": {
             "color": "#2a3f5f"
            },
            "error_y": {
             "color": "#2a3f5f"
            },
            "marker": {
             "line": {
              "color": "#E5ECF6",
              "width": 0.5
             }
            },
            "type": "bar"
           }
          ],
          "barpolar": [
           {
            "marker": {
             "line": {
              "color": "#E5ECF6",
              "width": 0.5
             }
            },
            "type": "barpolar"
           }
          ],
          "carpet": [
           {
            "aaxis": {
             "endlinecolor": "#2a3f5f",
             "gridcolor": "white",
             "linecolor": "white",
             "minorgridcolor": "white",
             "startlinecolor": "#2a3f5f"
            },
            "baxis": {
             "endlinecolor": "#2a3f5f",
             "gridcolor": "white",
             "linecolor": "white",
             "minorgridcolor": "white",
             "startlinecolor": "#2a3f5f"
            },
            "type": "carpet"
           }
          ],
          "choropleth": [
           {
            "colorbar": {
             "outlinewidth": 0,
             "ticks": ""
            },
            "type": "choropleth"
           }
          ],
          "contour": [
           {
            "colorbar": {
             "outlinewidth": 0,
             "ticks": ""
            },
            "colorscale": [
             [
              0,
              "#0d0887"
             ],
             [
              0.1111111111111111,
              "#46039f"
             ],
             [
              0.2222222222222222,
              "#7201a8"
             ],
             [
              0.3333333333333333,
              "#9c179e"
             ],
             [
              0.4444444444444444,
              "#bd3786"
             ],
             [
              0.5555555555555556,
              "#d8576b"
             ],
             [
              0.6666666666666666,
              "#ed7953"
             ],
             [
              0.7777777777777778,
              "#fb9f3a"
             ],
             [
              0.8888888888888888,
              "#fdca26"
             ],
             [
              1,
              "#f0f921"
             ]
            ],
            "type": "contour"
           }
          ],
          "contourcarpet": [
           {
            "colorbar": {
             "outlinewidth": 0,
             "ticks": ""
            },
            "type": "contourcarpet"
           }
          ],
          "heatmap": [
           {
            "colorbar": {
             "outlinewidth": 0,
             "ticks": ""
            },
            "colorscale": [
             [
              0,
              "#0d0887"
             ],
             [
              0.1111111111111111,
              "#46039f"
             ],
             [
              0.2222222222222222,
              "#7201a8"
             ],
             [
              0.3333333333333333,
              "#9c179e"
             ],
             [
              0.4444444444444444,
              "#bd3786"
             ],
             [
              0.5555555555555556,
              "#d8576b"
             ],
             [
              0.6666666666666666,
              "#ed7953"
             ],
             [
              0.7777777777777778,
              "#fb9f3a"
             ],
             [
              0.8888888888888888,
              "#fdca26"
             ],
             [
              1,
              "#f0f921"
             ]
            ],
            "type": "heatmap"
           }
          ],
          "heatmapgl": [
           {
            "colorbar": {
             "outlinewidth": 0,
             "ticks": ""
            },
            "colorscale": [
             [
              0,
              "#0d0887"
             ],
             [
              0.1111111111111111,
              "#46039f"
             ],
             [
              0.2222222222222222,
              "#7201a8"
             ],
             [
              0.3333333333333333,
              "#9c179e"
             ],
             [
              0.4444444444444444,
              "#bd3786"
             ],
             [
              0.5555555555555556,
              "#d8576b"
             ],
             [
              0.6666666666666666,
              "#ed7953"
             ],
             [
              0.7777777777777778,
              "#fb9f3a"
             ],
             [
              0.8888888888888888,
              "#fdca26"
             ],
             [
              1,
              "#f0f921"
             ]
            ],
            "type": "heatmapgl"
           }
          ],
          "histogram": [
           {
            "marker": {
             "colorbar": {
              "outlinewidth": 0,
              "ticks": ""
             }
            },
            "type": "histogram"
           }
          ],
          "histogram2d": [
           {
            "colorbar": {
             "outlinewidth": 0,
             "ticks": ""
            },
            "colorscale": [
             [
              0,
              "#0d0887"
             ],
             [
              0.1111111111111111,
              "#46039f"
             ],
             [
              0.2222222222222222,
              "#7201a8"
             ],
             [
              0.3333333333333333,
              "#9c179e"
             ],
             [
              0.4444444444444444,
              "#bd3786"
             ],
             [
              0.5555555555555556,
              "#d8576b"
             ],
             [
              0.6666666666666666,
              "#ed7953"
             ],
             [
              0.7777777777777778,
              "#fb9f3a"
             ],
             [
              0.8888888888888888,
              "#fdca26"
             ],
             [
              1,
              "#f0f921"
             ]
            ],
            "type": "histogram2d"
           }
          ],
          "histogram2dcontour": [
           {
            "colorbar": {
             "outlinewidth": 0,
             "ticks": ""
            },
            "colorscale": [
             [
              0,
              "#0d0887"
             ],
             [
              0.1111111111111111,
              "#46039f"
             ],
             [
              0.2222222222222222,
              "#7201a8"
             ],
             [
              0.3333333333333333,
              "#9c179e"
             ],
             [
              0.4444444444444444,
              "#bd3786"
             ],
             [
              0.5555555555555556,
              "#d8576b"
             ],
             [
              0.6666666666666666,
              "#ed7953"
             ],
             [
              0.7777777777777778,
              "#fb9f3a"
             ],
             [
              0.8888888888888888,
              "#fdca26"
             ],
             [
              1,
              "#f0f921"
             ]
            ],
            "type": "histogram2dcontour"
           }
          ],
          "mesh3d": [
           {
            "colorbar": {
             "outlinewidth": 0,
             "ticks": ""
            },
            "type": "mesh3d"
           }
          ],
          "parcoords": [
           {
            "line": {
             "colorbar": {
              "outlinewidth": 0,
              "ticks": ""
             }
            },
            "type": "parcoords"
           }
          ],
          "pie": [
           {
            "automargin": true,
            "type": "pie"
           }
          ],
          "scatter": [
           {
            "marker": {
             "colorbar": {
              "outlinewidth": 0,
              "ticks": ""
             }
            },
            "type": "scatter"
           }
          ],
          "scatter3d": [
           {
            "line": {
             "colorbar": {
              "outlinewidth": 0,
              "ticks": ""
             }
            },
            "marker": {
             "colorbar": {
              "outlinewidth": 0,
              "ticks": ""
             }
            },
            "type": "scatter3d"
           }
          ],
          "scattercarpet": [
           {
            "marker": {
             "colorbar": {
              "outlinewidth": 0,
              "ticks": ""
             }
            },
            "type": "scattercarpet"
           }
          ],
          "scattergeo": [
           {
            "marker": {
             "colorbar": {
              "outlinewidth": 0,
              "ticks": ""
             }
            },
            "type": "scattergeo"
           }
          ],
          "scattergl": [
           {
            "marker": {
             "colorbar": {
              "outlinewidth": 0,
              "ticks": ""
             }
            },
            "type": "scattergl"
           }
          ],
          "scattermapbox": [
           {
            "marker": {
             "colorbar": {
              "outlinewidth": 0,
              "ticks": ""
             }
            },
            "type": "scattermapbox"
           }
          ],
          "scatterpolar": [
           {
            "marker": {
             "colorbar": {
              "outlinewidth": 0,
              "ticks": ""
             }
            },
            "type": "scatterpolar"
           }
          ],
          "scatterpolargl": [
           {
            "marker": {
             "colorbar": {
              "outlinewidth": 0,
              "ticks": ""
             }
            },
            "type": "scatterpolargl"
           }
          ],
          "scatterternary": [
           {
            "marker": {
             "colorbar": {
              "outlinewidth": 0,
              "ticks": ""
             }
            },
            "type": "scatterternary"
           }
          ],
          "surface": [
           {
            "colorbar": {
             "outlinewidth": 0,
             "ticks": ""
            },
            "colorscale": [
             [
              0,
              "#0d0887"
             ],
             [
              0.1111111111111111,
              "#46039f"
             ],
             [
              0.2222222222222222,
              "#7201a8"
             ],
             [
              0.3333333333333333,
              "#9c179e"
             ],
             [
              0.4444444444444444,
              "#bd3786"
             ],
             [
              0.5555555555555556,
              "#d8576b"
             ],
             [
              0.6666666666666666,
              "#ed7953"
             ],
             [
              0.7777777777777778,
              "#fb9f3a"
             ],
             [
              0.8888888888888888,
              "#fdca26"
             ],
             [
              1,
              "#f0f921"
             ]
            ],
            "type": "surface"
           }
          ],
          "table": [
           {
            "cells": {
             "fill": {
              "color": "#EBF0F8"
             },
             "line": {
              "color": "white"
             }
            },
            "header": {
             "fill": {
              "color": "#C8D4E3"
             },
             "line": {
              "color": "white"
             }
            },
            "type": "table"
           }
          ]
         },
         "layout": {
          "annotationdefaults": {
           "arrowcolor": "#2a3f5f",
           "arrowhead": 0,
           "arrowwidth": 1
          },
          "coloraxis": {
           "colorbar": {
            "outlinewidth": 0,
            "ticks": ""
           }
          },
          "colorscale": {
           "diverging": [
            [
             0,
             "#8e0152"
            ],
            [
             0.1,
             "#c51b7d"
            ],
            [
             0.2,
             "#de77ae"
            ],
            [
             0.3,
             "#f1b6da"
            ],
            [
             0.4,
             "#fde0ef"
            ],
            [
             0.5,
             "#f7f7f7"
            ],
            [
             0.6,
             "#e6f5d0"
            ],
            [
             0.7,
             "#b8e186"
            ],
            [
             0.8,
             "#7fbc41"
            ],
            [
             0.9,
             "#4d9221"
            ],
            [
             1,
             "#276419"
            ]
           ],
           "sequential": [
            [
             0,
             "#0d0887"
            ],
            [
             0.1111111111111111,
             "#46039f"
            ],
            [
             0.2222222222222222,
             "#7201a8"
            ],
            [
             0.3333333333333333,
             "#9c179e"
            ],
            [
             0.4444444444444444,
             "#bd3786"
            ],
            [
             0.5555555555555556,
             "#d8576b"
            ],
            [
             0.6666666666666666,
             "#ed7953"
            ],
            [
             0.7777777777777778,
             "#fb9f3a"
            ],
            [
             0.8888888888888888,
             "#fdca26"
            ],
            [
             1,
             "#f0f921"
            ]
           ],
           "sequentialminus": [
            [
             0,
             "#0d0887"
            ],
            [
             0.1111111111111111,
             "#46039f"
            ],
            [
             0.2222222222222222,
             "#7201a8"
            ],
            [
             0.3333333333333333,
             "#9c179e"
            ],
            [
             0.4444444444444444,
             "#bd3786"
            ],
            [
             0.5555555555555556,
             "#d8576b"
            ],
            [
             0.6666666666666666,
             "#ed7953"
            ],
            [
             0.7777777777777778,
             "#fb9f3a"
            ],
            [
             0.8888888888888888,
             "#fdca26"
            ],
            [
             1,
             "#f0f921"
            ]
           ]
          },
          "colorway": [
           "#636efa",
           "#EF553B",
           "#00cc96",
           "#ab63fa",
           "#FFA15A",
           "#19d3f3",
           "#FF6692",
           "#B6E880",
           "#FF97FF",
           "#FECB52"
          ],
          "font": {
           "color": "#2a3f5f"
          },
          "geo": {
           "bgcolor": "white",
           "lakecolor": "white",
           "landcolor": "#E5ECF6",
           "showlakes": true,
           "showland": true,
           "subunitcolor": "white"
          },
          "hoverlabel": {
           "align": "left"
          },
          "hovermode": "closest",
          "mapbox": {
           "style": "light"
          },
          "paper_bgcolor": "white",
          "plot_bgcolor": "#E5ECF6",
          "polar": {
           "angularaxis": {
            "gridcolor": "white",
            "linecolor": "white",
            "ticks": ""
           },
           "bgcolor": "#E5ECF6",
           "radialaxis": {
            "gridcolor": "white",
            "linecolor": "white",
            "ticks": ""
           }
          },
          "scene": {
           "xaxis": {
            "backgroundcolor": "#E5ECF6",
            "gridcolor": "white",
            "gridwidth": 2,
            "linecolor": "white",
            "showbackground": true,
            "ticks": "",
            "zerolinecolor": "white"
           },
           "yaxis": {
            "backgroundcolor": "#E5ECF6",
            "gridcolor": "white",
            "gridwidth": 2,
            "linecolor": "white",
            "showbackground": true,
            "ticks": "",
            "zerolinecolor": "white"
           },
           "zaxis": {
            "backgroundcolor": "#E5ECF6",
            "gridcolor": "white",
            "gridwidth": 2,
            "linecolor": "white",
            "showbackground": true,
            "ticks": "",
            "zerolinecolor": "white"
           }
          },
          "shapedefaults": {
           "line": {
            "color": "#2a3f5f"
           }
          },
          "ternary": {
           "aaxis": {
            "gridcolor": "white",
            "linecolor": "white",
            "ticks": ""
           },
           "baxis": {
            "gridcolor": "white",
            "linecolor": "white",
            "ticks": ""
           },
           "bgcolor": "#E5ECF6",
           "caxis": {
            "gridcolor": "white",
            "linecolor": "white",
            "ticks": ""
           }
          },
          "title": {
           "x": 0.05
          },
          "xaxis": {
           "automargin": true,
           "gridcolor": "white",
           "linecolor": "white",
           "ticks": "",
           "title": {
            "standoff": 15
           },
           "zerolinecolor": "white",
           "zerolinewidth": 2
          },
          "yaxis": {
           "automargin": true,
           "gridcolor": "white",
           "linecolor": "white",
           "ticks": "",
           "title": {
            "standoff": 15
           },
           "zerolinecolor": "white",
           "zerolinewidth": 2
          }
         }
        },
        "title": {
         "text": "Languages Histogram"
        },
        "xaxis": {
         "categoryorder": "total descending",
         "title": {
          "text": "Languages category"
         }
        },
        "yaxis": {
         "title": {
          "text": "Languages count"
         }
        }
       }
      },
      "text/html": [
       "<div>\n",
       "        \n",
       "        \n",
       "            <div id=\"4d7e298c-2930-49f4-9f8d-c8d716cce9df\" class=\"plotly-graph-div\" style=\"height:525px; width:100%;\"></div>\n",
       "            <script type=\"text/javascript\">\n",
       "                require([\"plotly\"], function(Plotly) {\n",
       "                    window.PLOTLYENV=window.PLOTLYENV || {};\n",
       "                    \n",
       "                if (document.getElementById(\"4d7e298c-2930-49f4-9f8d-c8d716cce9df\")) {\n",
       "                    Plotly.newPlot(\n",
       "                        '4d7e298c-2930-49f4-9f8d-c8d716cce9df',\n",
       "                        [{\"histfunc\": \"count\", \"type\": \"histogram\", \"x\": [\"Pashto,Uzbek,Turkmen\", \"Swedish\", \"Albanian\", \"Arabic\", \"English,Samoan\", \"Catalan\", \"Portuguese\", \"English\", \"English,Russian\", \"English\", \"Spanish,Guaran\\u00ed\", \"Armenian,Russian\", \"Dutch,(Eastern) Punjabi\", \"English\", \"German\", \"Azerbaijani\", \"English\", \"Arabic\", \"Bengali\", \"English\", \"Belarusian,Russian\", \"Dutch,French,German\", \"English,Spanish\", \"French\", \"English\", \"Dzongkha\", \"Spanish,Aymara,Quechua\", \"Dutch\", \"Bosnian,Croatian,Serbian\", \"English,Tswana\", \"Norwegian,Norwegian Bokm\\u00e5l,Norwegian Nynorsk\", \"Portuguese\", \"English\", \"English\", \"English\", \"English\", \"Malay\", \"Bulgarian\", \"French,Fula\", \"French,Kirundi\", \"Khmer\", \"English,French\", \"English,French\", \"Portuguese\", \"English\", \"French,Sango\", \"French,Arabic\", \"Spanish\", \"Chinese\", \"English\", \"English\", \"Spanish\", \"Arabic,French\", \"French,Lingala\", \"French,Lingala,Kongo,Swahili,Luba-Katanga\", \"English\", \"Spanish\", \"Croatian\", \"Spanish\", \"Dutch,(Eastern) Punjabi,English\", \"Greek (modern),Turkish,Armenian\", \"Czech,Slovak\", \"Danish\", \"French,Arabic\", \"English\", \"Spanish\", \"Spanish\", \"Arabic\", \"Spanish\", \"Spanish,French\", \"Tigrinya,Arabic,English\", \"Estonian\", \"Amharic\", \"English\", \"Faroese\", \"English,Fijian,Hindi,Urdu\", \"Finnish,Swedish\", \"French\", \"French\", \"French\", \"French\", \"French\", \"English\", \"Georgian\", \"German\", \"English\", \"English\", \"Greek (modern)\", \"Kalaallisut\", \"English\", \"French\", \"English,Chamorro,Spanish\", \"Spanish\", \"English,French\", \"French,Fula\", \"Portuguese\", \"English\", \"French,Haitian\", \"English\", \"Latin,Italian,French,German\", \"Spanish\", \"English,Chinese\", \"Hungarian\", \"Icelandic\", \"Hindi,English\", \"Indonesian\", \"French\", \"Persian (Farsi)\", \"Arabic,Kurdish\", \"Irish,English\", \"English,Manx\", \"Hebrew (modern),Arabic\", \"Italian\", \"English\", \"Japanese\", \"English,French\", \"Arabic\", \"Kazakh,Russian\", \"English,Swahili\", \"English\", \"Arabic\", \"Kyrgyz,Russian\", \"Lao\", \"Latvian\", \"Arabic,French\", \"English,Southern Sotho\", \"English\", \"Arabic\", \"German\", \"Lithuanian\", \"French,German,Luxembourgish\", \"Chinese,Portuguese\", \"Macedonian\", \"French,Malagasy\", \"English,Chichewa\", \"Malaysian\", \"Divehi\", \"French\", \"Maltese,English\", \"English,Marshallese\", \"French\", \"Arabic\", \"English\", \"French\", \"Spanish\", \"English\", \"Romanian\", \"French\", \"Mongolian\", \"Serbian,Bosnian,Albanian,Croatian\", \"English\", \"Arabic\", \"Portuguese\", \"Burmese\", \"English,Afrikaans\", \"English,Nauruan\", \"Nepali\", \"Dutch\", \"French\", \"English,M\\u0101ori\", \"Spanish\", \"French\", \"English\", \"English\", \"English\", \"Korean\", \"English,Chamorro\", \"Norwegian,Norwegian Bokm\\u00e5l,Norwegian Nynorsk\", \"Arabic\", \"English,Urdu\", \"English\", \"Arabic\", \"Spanish\", \"English\", \"Spanish,Guaran\\u00ed\", \"Spanish\", \"English\", \"English\", \"Polish\", \"Portuguese\", \"Spanish,English\", \"Arabic\", \"Albanian,Serbian\", \"French\", \"Romanian\", \"Russian\", \"Kinyarwanda,English,French\", \"French\", \"English\", \"English\", \"English\", \"English,French,Dutch\", \"French\", \"English\", \"Samoan,English\", \"Italian\", \"Portuguese\", \"Arabic\", \"French\", \"Serbian\", \"French,English\", \"English\", \"English,Malay,Tamil,Chinese\", \"Dutch,English\", \"Slovak\", \"Slovene\", \"English\", \"Somali,Arabic\", \"Afrikaans,English,Southern Ndebele,Southern Sotho,Swati,Tswana,Tsonga,Venda,Xhosa,Zulu\", \"English\", \"Korean\", \"English\", \"Spanish\", \"Sinhalese,Tamil\", \"Arabic,English\", \"Dutch\", \"Norwegian\", \"English,Swati\", \"Swedish\", \"German,French,Italian\", \"Arabic\", \"Chinese\", \"Tajik,Russian\", \"Swahili,English\", \"Thai\", \"Portuguese\", \"French\", \"English\", \"English,Tonga (Tonga Islands)\", \"English\", \"Arabic\", \"Turkish\", \"Turkmen,Russian\", \"English\", \"English\", \"English,Swahili\", \"Ukrainian\", \"Arabic\", \"English\", \"English\", \"Spanish\", \"Uzbek,Russian\", \"Bislama,English,French\", \"Spanish\", \"Vietnamese\", \"French\", \"Spanish\", \"Arabic\", \"English\", \"English,Shona,Northern Ndebele\"]}],\n",
       "                        {\"template\": {\"data\": {\"bar\": [{\"error_x\": {\"color\": \"#2a3f5f\"}, \"error_y\": {\"color\": \"#2a3f5f\"}, \"marker\": {\"line\": {\"color\": \"#E5ECF6\", \"width\": 0.5}}, \"type\": \"bar\"}], \"barpolar\": [{\"marker\": {\"line\": {\"color\": \"#E5ECF6\", \"width\": 0.5}}, \"type\": \"barpolar\"}], \"carpet\": [{\"aaxis\": {\"endlinecolor\": \"#2a3f5f\", \"gridcolor\": \"white\", \"linecolor\": \"white\", \"minorgridcolor\": \"white\", \"startlinecolor\": \"#2a3f5f\"}, \"baxis\": {\"endlinecolor\": \"#2a3f5f\", \"gridcolor\": \"white\", \"linecolor\": \"white\", \"minorgridcolor\": \"white\", \"startlinecolor\": \"#2a3f5f\"}, \"type\": \"carpet\"}], \"choropleth\": [{\"colorbar\": {\"outlinewidth\": 0, \"ticks\": \"\"}, \"type\": \"choropleth\"}], \"contour\": [{\"colorbar\": {\"outlinewidth\": 0, \"ticks\": \"\"}, \"colorscale\": [[0.0, \"#0d0887\"], [0.1111111111111111, \"#46039f\"], [0.2222222222222222, \"#7201a8\"], [0.3333333333333333, \"#9c179e\"], [0.4444444444444444, \"#bd3786\"], [0.5555555555555556, \"#d8576b\"], [0.6666666666666666, \"#ed7953\"], [0.7777777777777778, \"#fb9f3a\"], [0.8888888888888888, \"#fdca26\"], [1.0, \"#f0f921\"]], \"type\": \"contour\"}], \"contourcarpet\": [{\"colorbar\": {\"outlinewidth\": 0, \"ticks\": \"\"}, \"type\": \"contourcarpet\"}], \"heatmap\": [{\"colorbar\": {\"outlinewidth\": 0, \"ticks\": \"\"}, \"colorscale\": [[0.0, \"#0d0887\"], [0.1111111111111111, \"#46039f\"], [0.2222222222222222, \"#7201a8\"], [0.3333333333333333, \"#9c179e\"], [0.4444444444444444, \"#bd3786\"], [0.5555555555555556, \"#d8576b\"], [0.6666666666666666, \"#ed7953\"], [0.7777777777777778, \"#fb9f3a\"], [0.8888888888888888, \"#fdca26\"], [1.0, \"#f0f921\"]], \"type\": \"heatmap\"}], \"heatmapgl\": [{\"colorbar\": {\"outlinewidth\": 0, \"ticks\": \"\"}, \"colorscale\": [[0.0, \"#0d0887\"], [0.1111111111111111, \"#46039f\"], [0.2222222222222222, \"#7201a8\"], [0.3333333333333333, \"#9c179e\"], [0.4444444444444444, \"#bd3786\"], [0.5555555555555556, \"#d8576b\"], [0.6666666666666666, \"#ed7953\"], [0.7777777777777778, \"#fb9f3a\"], [0.8888888888888888, \"#fdca26\"], [1.0, \"#f0f921\"]], \"type\": \"heatmapgl\"}], \"histogram\": [{\"marker\": {\"colorbar\": {\"outlinewidth\": 0, \"ticks\": \"\"}}, \"type\": \"histogram\"}], \"histogram2d\": [{\"colorbar\": {\"outlinewidth\": 0, \"ticks\": \"\"}, \"colorscale\": [[0.0, \"#0d0887\"], [0.1111111111111111, \"#46039f\"], [0.2222222222222222, \"#7201a8\"], [0.3333333333333333, \"#9c179e\"], [0.4444444444444444, \"#bd3786\"], [0.5555555555555556, \"#d8576b\"], [0.6666666666666666, \"#ed7953\"], [0.7777777777777778, \"#fb9f3a\"], [0.8888888888888888, \"#fdca26\"], [1.0, \"#f0f921\"]], \"type\": \"histogram2d\"}], \"histogram2dcontour\": [{\"colorbar\": {\"outlinewidth\": 0, \"ticks\": \"\"}, \"colorscale\": [[0.0, \"#0d0887\"], [0.1111111111111111, \"#46039f\"], [0.2222222222222222, \"#7201a8\"], [0.3333333333333333, \"#9c179e\"], [0.4444444444444444, \"#bd3786\"], [0.5555555555555556, \"#d8576b\"], [0.6666666666666666, \"#ed7953\"], [0.7777777777777778, \"#fb9f3a\"], [0.8888888888888888, \"#fdca26\"], [1.0, \"#f0f921\"]], \"type\": \"histogram2dcontour\"}], \"mesh3d\": [{\"colorbar\": {\"outlinewidth\": 0, \"ticks\": \"\"}, \"type\": \"mesh3d\"}], \"parcoords\": [{\"line\": {\"colorbar\": {\"outlinewidth\": 0, \"ticks\": \"\"}}, \"type\": \"parcoords\"}], \"pie\": [{\"automargin\": true, \"type\": \"pie\"}], \"scatter\": [{\"marker\": {\"colorbar\": {\"outlinewidth\": 0, \"ticks\": \"\"}}, \"type\": \"scatter\"}], \"scatter3d\": [{\"line\": {\"colorbar\": {\"outlinewidth\": 0, \"ticks\": \"\"}}, \"marker\": {\"colorbar\": {\"outlinewidth\": 0, \"ticks\": \"\"}}, \"type\": \"scatter3d\"}], \"scattercarpet\": [{\"marker\": {\"colorbar\": {\"outlinewidth\": 0, \"ticks\": \"\"}}, \"type\": \"scattercarpet\"}], \"scattergeo\": [{\"marker\": {\"colorbar\": {\"outlinewidth\": 0, \"ticks\": \"\"}}, \"type\": \"scattergeo\"}], \"scattergl\": [{\"marker\": {\"colorbar\": {\"outlinewidth\": 0, \"ticks\": \"\"}}, \"type\": \"scattergl\"}], \"scattermapbox\": [{\"marker\": {\"colorbar\": {\"outlinewidth\": 0, \"ticks\": \"\"}}, \"type\": \"scattermapbox\"}], \"scatterpolar\": [{\"marker\": {\"colorbar\": {\"outlinewidth\": 0, \"ticks\": \"\"}}, \"type\": \"scatterpolar\"}], \"scatterpolargl\": [{\"marker\": {\"colorbar\": {\"outlinewidth\": 0, \"ticks\": \"\"}}, \"type\": \"scatterpolargl\"}], \"scatterternary\": [{\"marker\": {\"colorbar\": {\"outlinewidth\": 0, \"ticks\": \"\"}}, \"type\": \"scatterternary\"}], \"surface\": [{\"colorbar\": {\"outlinewidth\": 0, \"ticks\": \"\"}, \"colorscale\": [[0.0, \"#0d0887\"], [0.1111111111111111, \"#46039f\"], [0.2222222222222222, \"#7201a8\"], [0.3333333333333333, \"#9c179e\"], [0.4444444444444444, \"#bd3786\"], [0.5555555555555556, \"#d8576b\"], [0.6666666666666666, \"#ed7953\"], [0.7777777777777778, \"#fb9f3a\"], [0.8888888888888888, \"#fdca26\"], [1.0, \"#f0f921\"]], \"type\": \"surface\"}], \"table\": [{\"cells\": {\"fill\": {\"color\": \"#EBF0F8\"}, \"line\": {\"color\": \"white\"}}, \"header\": {\"fill\": {\"color\": \"#C8D4E3\"}, \"line\": {\"color\": \"white\"}}, \"type\": \"table\"}]}, \"layout\": {\"annotationdefaults\": {\"arrowcolor\": \"#2a3f5f\", \"arrowhead\": 0, \"arrowwidth\": 1}, \"coloraxis\": {\"colorbar\": {\"outlinewidth\": 0, \"ticks\": \"\"}}, \"colorscale\": {\"diverging\": [[0, \"#8e0152\"], [0.1, \"#c51b7d\"], [0.2, \"#de77ae\"], [0.3, \"#f1b6da\"], [0.4, \"#fde0ef\"], [0.5, \"#f7f7f7\"], [0.6, \"#e6f5d0\"], [0.7, \"#b8e186\"], [0.8, \"#7fbc41\"], [0.9, \"#4d9221\"], [1, \"#276419\"]], \"sequential\": [[0.0, \"#0d0887\"], [0.1111111111111111, \"#46039f\"], [0.2222222222222222, \"#7201a8\"], [0.3333333333333333, \"#9c179e\"], [0.4444444444444444, \"#bd3786\"], [0.5555555555555556, \"#d8576b\"], [0.6666666666666666, \"#ed7953\"], [0.7777777777777778, \"#fb9f3a\"], [0.8888888888888888, \"#fdca26\"], [1.0, \"#f0f921\"]], \"sequentialminus\": [[0.0, \"#0d0887\"], [0.1111111111111111, \"#46039f\"], [0.2222222222222222, \"#7201a8\"], [0.3333333333333333, \"#9c179e\"], [0.4444444444444444, \"#bd3786\"], [0.5555555555555556, \"#d8576b\"], [0.6666666666666666, \"#ed7953\"], [0.7777777777777778, \"#fb9f3a\"], [0.8888888888888888, \"#fdca26\"], [1.0, \"#f0f921\"]]}, \"colorway\": [\"#636efa\", \"#EF553B\", \"#00cc96\", \"#ab63fa\", \"#FFA15A\", \"#19d3f3\", \"#FF6692\", \"#B6E880\", \"#FF97FF\", \"#FECB52\"], \"font\": {\"color\": \"#2a3f5f\"}, \"geo\": {\"bgcolor\": \"white\", \"lakecolor\": \"white\", \"landcolor\": \"#E5ECF6\", \"showlakes\": true, \"showland\": true, \"subunitcolor\": \"white\"}, \"hoverlabel\": {\"align\": \"left\"}, \"hovermode\": \"closest\", \"mapbox\": {\"style\": \"light\"}, \"paper_bgcolor\": \"white\", \"plot_bgcolor\": \"#E5ECF6\", \"polar\": {\"angularaxis\": {\"gridcolor\": \"white\", \"linecolor\": \"white\", \"ticks\": \"\"}, \"bgcolor\": \"#E5ECF6\", \"radialaxis\": {\"gridcolor\": \"white\", \"linecolor\": \"white\", \"ticks\": \"\"}}, \"scene\": {\"xaxis\": {\"backgroundcolor\": \"#E5ECF6\", \"gridcolor\": \"white\", \"gridwidth\": 2, \"linecolor\": \"white\", \"showbackground\": true, \"ticks\": \"\", \"zerolinecolor\": \"white\"}, \"yaxis\": {\"backgroundcolor\": \"#E5ECF6\", \"gridcolor\": \"white\", \"gridwidth\": 2, \"linecolor\": \"white\", \"showbackground\": true, \"ticks\": \"\", \"zerolinecolor\": \"white\"}, \"zaxis\": {\"backgroundcolor\": \"#E5ECF6\", \"gridcolor\": \"white\", \"gridwidth\": 2, \"linecolor\": \"white\", \"showbackground\": true, \"ticks\": \"\", \"zerolinecolor\": \"white\"}}, \"shapedefaults\": {\"line\": {\"color\": \"#2a3f5f\"}}, \"ternary\": {\"aaxis\": {\"gridcolor\": \"white\", \"linecolor\": \"white\", \"ticks\": \"\"}, \"baxis\": {\"gridcolor\": \"white\", \"linecolor\": \"white\", \"ticks\": \"\"}, \"bgcolor\": \"#E5ECF6\", \"caxis\": {\"gridcolor\": \"white\", \"linecolor\": \"white\", \"ticks\": \"\"}}, \"title\": {\"x\": 0.05}, \"xaxis\": {\"automargin\": true, \"gridcolor\": \"white\", \"linecolor\": \"white\", \"ticks\": \"\", \"title\": {\"standoff\": 15}, \"zerolinecolor\": \"white\", \"zerolinewidth\": 2}, \"yaxis\": {\"automargin\": true, \"gridcolor\": \"white\", \"linecolor\": \"white\", \"ticks\": \"\", \"title\": {\"standoff\": 15}, \"zerolinecolor\": \"white\", \"zerolinewidth\": 2}}}, \"title\": {\"text\": \"Languages Histogram\"}, \"xaxis\": {\"categoryorder\": \"total descending\", \"title\": {\"text\": \"Languages category\"}}, \"yaxis\": {\"title\": {\"text\": \"Languages count\"}}},\n",
       "                        {\"responsive\": true}\n",
       "                    ).then(function(){\n",
       "                            \n",
       "var gd = document.getElementById('4d7e298c-2930-49f4-9f8d-c8d716cce9df');\n",
       "var x = new MutationObserver(function (mutations, observer) {{\n",
       "        var display = window.getComputedStyle(gd).display;\n",
       "        if (!display || display === 'none') {{\n",
       "            console.log([gd, 'removed!']);\n",
       "            Plotly.purge(gd);\n",
       "            observer.disconnect();\n",
       "        }}\n",
       "}});\n",
       "\n",
       "// Listen for the removal of the full notebook cells\n",
       "var notebookContainer = gd.closest('#notebook-container');\n",
       "if (notebookContainer) {{\n",
       "    x.observe(notebookContainer, {childList: true});\n",
       "}}\n",
       "\n",
       "// Listen for the clearing of the current output cell\n",
       "var outputEl = gd.closest('.output');\n",
       "if (outputEl) {{\n",
       "    x.observe(outputEl, {childList: true});\n",
       "}}\n",
       "\n",
       "                        })\n",
       "                };\n",
       "                });\n",
       "            </script>\n",
       "        </div>"
      ]
     },
     "metadata": {},
     "output_type": "display_data"
    }
   ],
   "source": [
    "fig = go.Figure(data=[go.Histogram(histfunc=\"count\", x=df['languages'])])\n",
    "\n",
    "fig.update_layout(\n",
    "    title_text='Languages Histogram', # title of plot\n",
    "    xaxis_title_text='Languages category', # xaxis label\n",
    "    yaxis_title_text='Languages count', # yaxis label\n",
    "#     xaxis={'categoryorder':'category ascending'},# xtitle axis sort\n",
    "    xaxis={'categoryorder':'total descending'}, # values on xaxis sort \n",
    "    # bargap=0.2, # gap between bars of adjacent location coordinates\n",
    "    #bargroupgap=0.1 # gap between bars of the same location coordinates\n",
    ")\n",
    "\n",
    "fig.show()\n",
    "\n",
    "#sort cao xuống thấp"
   ]
  },
  {
   "cell_type": "markdown",
   "metadata": {},
   "source": [
    "### regionalBloc column"
   ]
  },
  {
   "cell_type": "code",
   "execution_count": 83,
   "metadata": {},
   "outputs": [],
   "source": [
    "#Function to extract and unlist regionalBlocs column\n",
    "#Containing [] list of values\n",
    "bloc=[]   \n",
    "for i in range(0,250):\n",
    "    if len(df['regionalBlocs'][i]) > 0:\n",
    "        tab=pd.Series(df['regionalBlocs'][i])\n",
    "        tab=pd.json_normalize(tab)\n",
    "        name=tab['name'].tolist()\n",
    "        name=''.join(name)\n",
    "        bloc.append(name)\n",
    "    else:\n",
    "        bloc.append('None')\n",
    "\n",
    "\n",
    "df['regionalBlocs']=bloc"
   ]
  },
  {
   "cell_type": "code",
   "execution_count": 84,
   "metadata": {},
   "outputs": [
    {
     "data": {
      "text/plain": [
       "None                                                      75\n",
       "African Union                                             50\n",
       "European Union                                            32\n",
       "Arab League                                               12\n",
       "Caribbean Community                                       11\n",
       "African UnionArab League                                  10\n",
       "Association of Southeast Asian Nations                    10\n",
       "Union of South American Nations                            9\n",
       "South Asian Association for Regional Cooperation           8\n",
       "Central European Free Trade Agreement                      7\n",
       "Central American Integration System                        6\n",
       "Eurasian Economic Union                                    5\n",
       "European Free Trade Association                            4\n",
       "Pacific AllianceUnion of South American Nations            3\n",
       "Caribbean CommunityCentral American Integration System     2\n",
       "North American Free Trade Agreement                        2\n",
       "Caribbean CommunityUnion of South American Nations         2\n",
       "Pacific AllianceNorth American Free Trade Agreement        1\n",
       "Union of South American NationsEuropean Union              1\n",
       "Name: regionalBlocs, dtype: int64"
      ]
     },
     "execution_count": 84,
     "metadata": {},
     "output_type": "execute_result"
    }
   ],
   "source": [
    "df['regionalBlocs'].value_counts()"
   ]
  },
  {
   "cell_type": "code",
   "execution_count": 85,
   "metadata": {},
   "outputs": [
    {
     "data": {
      "application/vnd.plotly.v1+json": {
       "config": {
        "plotlyServerURL": "https://plot.ly"
       },
       "data": [
        {
         "histfunc": "count",
         "type": "histogram",
         "x": [
          "South Asian Association for Regional Cooperation",
          "European Union",
          "Central European Free Trade Agreement",
          "African UnionArab League",
          "None",
          "None",
          "African Union",
          "None",
          "None",
          "Caribbean Community",
          "Union of South American Nations",
          "Eurasian Economic Union",
          "None",
          "None",
          "European Union",
          "None",
          "Caribbean Community",
          "Arab League",
          "South Asian Association for Regional Cooperation",
          "Caribbean Community",
          "Eurasian Economic Union",
          "European Union",
          "Caribbean CommunityCentral American Integration System",
          "African Union",
          "None",
          "South Asian Association for Regional Cooperation",
          "Union of South American Nations",
          "None",
          "Central European Free Trade Agreement",
          "African Union",
          "None",
          "Union of South American Nations",
          "African Union",
          "None",
          "None",
          "None",
          "Association of Southeast Asian Nations",
          "European Union",
          "African Union",
          "African Union",
          "Association of Southeast Asian Nations",
          "African Union",
          "North American Free Trade Agreement",
          "African Union",
          "None",
          "African Union",
          "African Union",
          "Pacific AllianceUnion of South American Nations",
          "None",
          "None",
          "None",
          "Pacific AllianceUnion of South American Nations",
          "African UnionArab League",
          "African Union",
          "African Union",
          "None",
          "Central American Integration System",
          "European Union",
          "None",
          "None",
          "European Union",
          "European Union",
          "European Union",
          "African UnionArab League",
          "None",
          "Caribbean CommunityCentral American Integration System",
          "Union of South American Nations",
          "African UnionArab League",
          "Central American Integration System",
          "African Union",
          "African Union",
          "European Union",
          "African Union",
          "Union of South American Nations",
          "European Union",
          "None",
          "European Union",
          "European Union",
          "Union of South American NationsEuropean Union",
          "None",
          "African Union",
          "African Union",
          "African Union",
          "None",
          "European Union",
          "African Union",
          "European Union",
          "European Union",
          "None",
          "Caribbean Community",
          "None",
          "None",
          "Central American Integration System",
          "None",
          "African Union",
          "African Union",
          "Caribbean CommunityUnion of South American Nations",
          "Caribbean Community",
          "None",
          "None",
          "Central American Integration System",
          "None",
          "European Union",
          "European Free Trade Association",
          "South Asian Association for Regional Cooperation",
          "Association of Southeast Asian Nations",
          "African Union",
          "None",
          "Arab League",
          "European Union",
          "European Union",
          "None",
          "European Union",
          "Caribbean Community",
          "None",
          "None",
          "Arab League",
          "Eurasian Economic Union",
          "African Union",
          "None",
          "Arab League",
          "Eurasian Economic Union",
          "Association of Southeast Asian Nations",
          "European Union",
          "Arab League",
          "African Union",
          "African Union",
          "African UnionArab League",
          "European Free Trade Association",
          "European Union",
          "European Union",
          "None",
          "Central European Free Trade Agreement",
          "African Union",
          "African Union",
          "Association of Southeast Asian Nations",
          "South Asian Association for Regional Cooperation",
          "African Union",
          "European Union",
          "None",
          "None",
          "African UnionArab League",
          "African Union",
          "African Union",
          "Pacific AllianceNorth American Free Trade Agreement",
          "None",
          "Central European Free Trade Agreement",
          "None",
          "None",
          "Central European Free Trade Agreement",
          "Caribbean Community",
          "African UnionArab League",
          "African Union",
          "Association of Southeast Asian Nations",
          "African Union",
          "None",
          "South Asian Association for Regional Cooperation",
          "European Union",
          "None",
          "None",
          "Central American Integration System",
          "African Union",
          "African Union",
          "None",
          "None",
          "None",
          "None",
          "European Free Trade Association",
          "Arab League",
          "South Asian Association for Regional Cooperation",
          "None",
          "Arab League",
          "Central American Integration System",
          "None",
          "Union of South American Nations",
          "Pacific AllianceUnion of South American Nations",
          "Association of Southeast Asian Nations",
          "None",
          "European Union",
          "European Union",
          "None",
          "Arab League",
          "Central European Free Trade Agreement",
          "African Union",
          "European Union",
          "Eurasian Economic Union",
          "African Union",
          "None",
          "African Union",
          "Caribbean Community",
          "Caribbean Community",
          "None",
          "None",
          "Caribbean Community",
          "None",
          "None",
          "African Union",
          "Arab League",
          "African Union",
          "Central European Free Trade Agreement",
          "African Union",
          "African Union",
          "Association of Southeast Asian Nations",
          "None",
          "European Union",
          "European Union",
          "None",
          "African UnionArab League",
          "African Union",
          "Union of South American Nations",
          "None",
          "African Union",
          "European Union",
          "South Asian Association for Regional Cooperation",
          "African UnionArab League",
          "Caribbean CommunityUnion of South American Nations",
          "None",
          "African Union",
          "European Union",
          "European Free Trade Association",
          "Arab League",
          "None",
          "None",
          "African Union",
          "Association of Southeast Asian Nations",
          "None",
          "African Union",
          "None",
          "None",
          "Caribbean Community",
          "African UnionArab League",
          "None",
          "None",
          "None",
          "None",
          "African Union",
          "None",
          "Arab League",
          "European Union",
          "North American Free Trade Agreement",
          "Union of South American Nations",
          "None",
          "None",
          "Union of South American Nations",
          "Association of Southeast Asian Nations",
          "None",
          "African Union",
          "Arab League",
          "African Union",
          "African Union"
         ]
        }
       ],
       "layout": {
        "template": {
         "data": {
          "bar": [
           {
            "error_x": {
             "color": "#2a3f5f"
            },
            "error_y": {
             "color": "#2a3f5f"
            },
            "marker": {
             "line": {
              "color": "#E5ECF6",
              "width": 0.5
             }
            },
            "type": "bar"
           }
          ],
          "barpolar": [
           {
            "marker": {
             "line": {
              "color": "#E5ECF6",
              "width": 0.5
             }
            },
            "type": "barpolar"
           }
          ],
          "carpet": [
           {
            "aaxis": {
             "endlinecolor": "#2a3f5f",
             "gridcolor": "white",
             "linecolor": "white",
             "minorgridcolor": "white",
             "startlinecolor": "#2a3f5f"
            },
            "baxis": {
             "endlinecolor": "#2a3f5f",
             "gridcolor": "white",
             "linecolor": "white",
             "minorgridcolor": "white",
             "startlinecolor": "#2a3f5f"
            },
            "type": "carpet"
           }
          ],
          "choropleth": [
           {
            "colorbar": {
             "outlinewidth": 0,
             "ticks": ""
            },
            "type": "choropleth"
           }
          ],
          "contour": [
           {
            "colorbar": {
             "outlinewidth": 0,
             "ticks": ""
            },
            "colorscale": [
             [
              0,
              "#0d0887"
             ],
             [
              0.1111111111111111,
              "#46039f"
             ],
             [
              0.2222222222222222,
              "#7201a8"
             ],
             [
              0.3333333333333333,
              "#9c179e"
             ],
             [
              0.4444444444444444,
              "#bd3786"
             ],
             [
              0.5555555555555556,
              "#d8576b"
             ],
             [
              0.6666666666666666,
              "#ed7953"
             ],
             [
              0.7777777777777778,
              "#fb9f3a"
             ],
             [
              0.8888888888888888,
              "#fdca26"
             ],
             [
              1,
              "#f0f921"
             ]
            ],
            "type": "contour"
           }
          ],
          "contourcarpet": [
           {
            "colorbar": {
             "outlinewidth": 0,
             "ticks": ""
            },
            "type": "contourcarpet"
           }
          ],
          "heatmap": [
           {
            "colorbar": {
             "outlinewidth": 0,
             "ticks": ""
            },
            "colorscale": [
             [
              0,
              "#0d0887"
             ],
             [
              0.1111111111111111,
              "#46039f"
             ],
             [
              0.2222222222222222,
              "#7201a8"
             ],
             [
              0.3333333333333333,
              "#9c179e"
             ],
             [
              0.4444444444444444,
              "#bd3786"
             ],
             [
              0.5555555555555556,
              "#d8576b"
             ],
             [
              0.6666666666666666,
              "#ed7953"
             ],
             [
              0.7777777777777778,
              "#fb9f3a"
             ],
             [
              0.8888888888888888,
              "#fdca26"
             ],
             [
              1,
              "#f0f921"
             ]
            ],
            "type": "heatmap"
           }
          ],
          "heatmapgl": [
           {
            "colorbar": {
             "outlinewidth": 0,
             "ticks": ""
            },
            "colorscale": [
             [
              0,
              "#0d0887"
             ],
             [
              0.1111111111111111,
              "#46039f"
             ],
             [
              0.2222222222222222,
              "#7201a8"
             ],
             [
              0.3333333333333333,
              "#9c179e"
             ],
             [
              0.4444444444444444,
              "#bd3786"
             ],
             [
              0.5555555555555556,
              "#d8576b"
             ],
             [
              0.6666666666666666,
              "#ed7953"
             ],
             [
              0.7777777777777778,
              "#fb9f3a"
             ],
             [
              0.8888888888888888,
              "#fdca26"
             ],
             [
              1,
              "#f0f921"
             ]
            ],
            "type": "heatmapgl"
           }
          ],
          "histogram": [
           {
            "marker": {
             "colorbar": {
              "outlinewidth": 0,
              "ticks": ""
             }
            },
            "type": "histogram"
           }
          ],
          "histogram2d": [
           {
            "colorbar": {
             "outlinewidth": 0,
             "ticks": ""
            },
            "colorscale": [
             [
              0,
              "#0d0887"
             ],
             [
              0.1111111111111111,
              "#46039f"
             ],
             [
              0.2222222222222222,
              "#7201a8"
             ],
             [
              0.3333333333333333,
              "#9c179e"
             ],
             [
              0.4444444444444444,
              "#bd3786"
             ],
             [
              0.5555555555555556,
              "#d8576b"
             ],
             [
              0.6666666666666666,
              "#ed7953"
             ],
             [
              0.7777777777777778,
              "#fb9f3a"
             ],
             [
              0.8888888888888888,
              "#fdca26"
             ],
             [
              1,
              "#f0f921"
             ]
            ],
            "type": "histogram2d"
           }
          ],
          "histogram2dcontour": [
           {
            "colorbar": {
             "outlinewidth": 0,
             "ticks": ""
            },
            "colorscale": [
             [
              0,
              "#0d0887"
             ],
             [
              0.1111111111111111,
              "#46039f"
             ],
             [
              0.2222222222222222,
              "#7201a8"
             ],
             [
              0.3333333333333333,
              "#9c179e"
             ],
             [
              0.4444444444444444,
              "#bd3786"
             ],
             [
              0.5555555555555556,
              "#d8576b"
             ],
             [
              0.6666666666666666,
              "#ed7953"
             ],
             [
              0.7777777777777778,
              "#fb9f3a"
             ],
             [
              0.8888888888888888,
              "#fdca26"
             ],
             [
              1,
              "#f0f921"
             ]
            ],
            "type": "histogram2dcontour"
           }
          ],
          "mesh3d": [
           {
            "colorbar": {
             "outlinewidth": 0,
             "ticks": ""
            },
            "type": "mesh3d"
           }
          ],
          "parcoords": [
           {
            "line": {
             "colorbar": {
              "outlinewidth": 0,
              "ticks": ""
             }
            },
            "type": "parcoords"
           }
          ],
          "pie": [
           {
            "automargin": true,
            "type": "pie"
           }
          ],
          "scatter": [
           {
            "marker": {
             "colorbar": {
              "outlinewidth": 0,
              "ticks": ""
             }
            },
            "type": "scatter"
           }
          ],
          "scatter3d": [
           {
            "line": {
             "colorbar": {
              "outlinewidth": 0,
              "ticks": ""
             }
            },
            "marker": {
             "colorbar": {
              "outlinewidth": 0,
              "ticks": ""
             }
            },
            "type": "scatter3d"
           }
          ],
          "scattercarpet": [
           {
            "marker": {
             "colorbar": {
              "outlinewidth": 0,
              "ticks": ""
             }
            },
            "type": "scattercarpet"
           }
          ],
          "scattergeo": [
           {
            "marker": {
             "colorbar": {
              "outlinewidth": 0,
              "ticks": ""
             }
            },
            "type": "scattergeo"
           }
          ],
          "scattergl": [
           {
            "marker": {
             "colorbar": {
              "outlinewidth": 0,
              "ticks": ""
             }
            },
            "type": "scattergl"
           }
          ],
          "scattermapbox": [
           {
            "marker": {
             "colorbar": {
              "outlinewidth": 0,
              "ticks": ""
             }
            },
            "type": "scattermapbox"
           }
          ],
          "scatterpolar": [
           {
            "marker": {
             "colorbar": {
              "outlinewidth": 0,
              "ticks": ""
             }
            },
            "type": "scatterpolar"
           }
          ],
          "scatterpolargl": [
           {
            "marker": {
             "colorbar": {
              "outlinewidth": 0,
              "ticks": ""
             }
            },
            "type": "scatterpolargl"
           }
          ],
          "scatterternary": [
           {
            "marker": {
             "colorbar": {
              "outlinewidth": 0,
              "ticks": ""
             }
            },
            "type": "scatterternary"
           }
          ],
          "surface": [
           {
            "colorbar": {
             "outlinewidth": 0,
             "ticks": ""
            },
            "colorscale": [
             [
              0,
              "#0d0887"
             ],
             [
              0.1111111111111111,
              "#46039f"
             ],
             [
              0.2222222222222222,
              "#7201a8"
             ],
             [
              0.3333333333333333,
              "#9c179e"
             ],
             [
              0.4444444444444444,
              "#bd3786"
             ],
             [
              0.5555555555555556,
              "#d8576b"
             ],
             [
              0.6666666666666666,
              "#ed7953"
             ],
             [
              0.7777777777777778,
              "#fb9f3a"
             ],
             [
              0.8888888888888888,
              "#fdca26"
             ],
             [
              1,
              "#f0f921"
             ]
            ],
            "type": "surface"
           }
          ],
          "table": [
           {
            "cells": {
             "fill": {
              "color": "#EBF0F8"
             },
             "line": {
              "color": "white"
             }
            },
            "header": {
             "fill": {
              "color": "#C8D4E3"
             },
             "line": {
              "color": "white"
             }
            },
            "type": "table"
           }
          ]
         },
         "layout": {
          "annotationdefaults": {
           "arrowcolor": "#2a3f5f",
           "arrowhead": 0,
           "arrowwidth": 1
          },
          "coloraxis": {
           "colorbar": {
            "outlinewidth": 0,
            "ticks": ""
           }
          },
          "colorscale": {
           "diverging": [
            [
             0,
             "#8e0152"
            ],
            [
             0.1,
             "#c51b7d"
            ],
            [
             0.2,
             "#de77ae"
            ],
            [
             0.3,
             "#f1b6da"
            ],
            [
             0.4,
             "#fde0ef"
            ],
            [
             0.5,
             "#f7f7f7"
            ],
            [
             0.6,
             "#e6f5d0"
            ],
            [
             0.7,
             "#b8e186"
            ],
            [
             0.8,
             "#7fbc41"
            ],
            [
             0.9,
             "#4d9221"
            ],
            [
             1,
             "#276419"
            ]
           ],
           "sequential": [
            [
             0,
             "#0d0887"
            ],
            [
             0.1111111111111111,
             "#46039f"
            ],
            [
             0.2222222222222222,
             "#7201a8"
            ],
            [
             0.3333333333333333,
             "#9c179e"
            ],
            [
             0.4444444444444444,
             "#bd3786"
            ],
            [
             0.5555555555555556,
             "#d8576b"
            ],
            [
             0.6666666666666666,
             "#ed7953"
            ],
            [
             0.7777777777777778,
             "#fb9f3a"
            ],
            [
             0.8888888888888888,
             "#fdca26"
            ],
            [
             1,
             "#f0f921"
            ]
           ],
           "sequentialminus": [
            [
             0,
             "#0d0887"
            ],
            [
             0.1111111111111111,
             "#46039f"
            ],
            [
             0.2222222222222222,
             "#7201a8"
            ],
            [
             0.3333333333333333,
             "#9c179e"
            ],
            [
             0.4444444444444444,
             "#bd3786"
            ],
            [
             0.5555555555555556,
             "#d8576b"
            ],
            [
             0.6666666666666666,
             "#ed7953"
            ],
            [
             0.7777777777777778,
             "#fb9f3a"
            ],
            [
             0.8888888888888888,
             "#fdca26"
            ],
            [
             1,
             "#f0f921"
            ]
           ]
          },
          "colorway": [
           "#636efa",
           "#EF553B",
           "#00cc96",
           "#ab63fa",
           "#FFA15A",
           "#19d3f3",
           "#FF6692",
           "#B6E880",
           "#FF97FF",
           "#FECB52"
          ],
          "font": {
           "color": "#2a3f5f"
          },
          "geo": {
           "bgcolor": "white",
           "lakecolor": "white",
           "landcolor": "#E5ECF6",
           "showlakes": true,
           "showland": true,
           "subunitcolor": "white"
          },
          "hoverlabel": {
           "align": "left"
          },
          "hovermode": "closest",
          "mapbox": {
           "style": "light"
          },
          "paper_bgcolor": "white",
          "plot_bgcolor": "#E5ECF6",
          "polar": {
           "angularaxis": {
            "gridcolor": "white",
            "linecolor": "white",
            "ticks": ""
           },
           "bgcolor": "#E5ECF6",
           "radialaxis": {
            "gridcolor": "white",
            "linecolor": "white",
            "ticks": ""
           }
          },
          "scene": {
           "xaxis": {
            "backgroundcolor": "#E5ECF6",
            "gridcolor": "white",
            "gridwidth": 2,
            "linecolor": "white",
            "showbackground": true,
            "ticks": "",
            "zerolinecolor": "white"
           },
           "yaxis": {
            "backgroundcolor": "#E5ECF6",
            "gridcolor": "white",
            "gridwidth": 2,
            "linecolor": "white",
            "showbackground": true,
            "ticks": "",
            "zerolinecolor": "white"
           },
           "zaxis": {
            "backgroundcolor": "#E5ECF6",
            "gridcolor": "white",
            "gridwidth": 2,
            "linecolor": "white",
            "showbackground": true,
            "ticks": "",
            "zerolinecolor": "white"
           }
          },
          "shapedefaults": {
           "line": {
            "color": "#2a3f5f"
           }
          },
          "ternary": {
           "aaxis": {
            "gridcolor": "white",
            "linecolor": "white",
            "ticks": ""
           },
           "baxis": {
            "gridcolor": "white",
            "linecolor": "white",
            "ticks": ""
           },
           "bgcolor": "#E5ECF6",
           "caxis": {
            "gridcolor": "white",
            "linecolor": "white",
            "ticks": ""
           }
          },
          "title": {
           "x": 0.05
          },
          "xaxis": {
           "automargin": true,
           "gridcolor": "white",
           "linecolor": "white",
           "ticks": "",
           "title": {
            "standoff": 15
           },
           "zerolinecolor": "white",
           "zerolinewidth": 2
          },
          "yaxis": {
           "automargin": true,
           "gridcolor": "white",
           "linecolor": "white",
           "ticks": "",
           "title": {
            "standoff": 15
           },
           "zerolinecolor": "white",
           "zerolinewidth": 2
          }
         }
        },
        "title": {
         "text": "regionalBlocs Histogram"
        },
        "xaxis": {
         "categoryorder": "total descending",
         "title": {
          "text": "regionalBlocs category"
         }
        },
        "yaxis": {
         "title": {
          "text": "regionalBlocs count"
         }
        }
       }
      },
      "text/html": [
       "<div>\n",
       "        \n",
       "        \n",
       "            <div id=\"3332de30-8804-4ebf-9954-e6d8bf4102a7\" class=\"plotly-graph-div\" style=\"height:525px; width:100%;\"></div>\n",
       "            <script type=\"text/javascript\">\n",
       "                require([\"plotly\"], function(Plotly) {\n",
       "                    window.PLOTLYENV=window.PLOTLYENV || {};\n",
       "                    \n",
       "                if (document.getElementById(\"3332de30-8804-4ebf-9954-e6d8bf4102a7\")) {\n",
       "                    Plotly.newPlot(\n",
       "                        '3332de30-8804-4ebf-9954-e6d8bf4102a7',\n",
       "                        [{\"histfunc\": \"count\", \"type\": \"histogram\", \"x\": [\"South Asian Association for Regional Cooperation\", \"European Union\", \"Central European Free Trade Agreement\", \"African UnionArab League\", \"None\", \"None\", \"African Union\", \"None\", \"None\", \"Caribbean Community\", \"Union of South American Nations\", \"Eurasian Economic Union\", \"None\", \"None\", \"European Union\", \"None\", \"Caribbean Community\", \"Arab League\", \"South Asian Association for Regional Cooperation\", \"Caribbean Community\", \"Eurasian Economic Union\", \"European Union\", \"Caribbean CommunityCentral American Integration System\", \"African Union\", \"None\", \"South Asian Association for Regional Cooperation\", \"Union of South American Nations\", \"None\", \"Central European Free Trade Agreement\", \"African Union\", \"None\", \"Union of South American Nations\", \"African Union\", \"None\", \"None\", \"None\", \"Association of Southeast Asian Nations\", \"European Union\", \"African Union\", \"African Union\", \"Association of Southeast Asian Nations\", \"African Union\", \"North American Free Trade Agreement\", \"African Union\", \"None\", \"African Union\", \"African Union\", \"Pacific AllianceUnion of South American Nations\", \"None\", \"None\", \"None\", \"Pacific AllianceUnion of South American Nations\", \"African UnionArab League\", \"African Union\", \"African Union\", \"None\", \"Central American Integration System\", \"European Union\", \"None\", \"None\", \"European Union\", \"European Union\", \"European Union\", \"African UnionArab League\", \"None\", \"Caribbean CommunityCentral American Integration System\", \"Union of South American Nations\", \"African UnionArab League\", \"Central American Integration System\", \"African Union\", \"African Union\", \"European Union\", \"African Union\", \"Union of South American Nations\", \"European Union\", \"None\", \"European Union\", \"European Union\", \"Union of South American NationsEuropean Union\", \"None\", \"African Union\", \"African Union\", \"African Union\", \"None\", \"European Union\", \"African Union\", \"European Union\", \"European Union\", \"None\", \"Caribbean Community\", \"None\", \"None\", \"Central American Integration System\", \"None\", \"African Union\", \"African Union\", \"Caribbean CommunityUnion of South American Nations\", \"Caribbean Community\", \"None\", \"None\", \"Central American Integration System\", \"None\", \"European Union\", \"European Free Trade Association\", \"South Asian Association for Regional Cooperation\", \"Association of Southeast Asian Nations\", \"African Union\", \"None\", \"Arab League\", \"European Union\", \"European Union\", \"None\", \"European Union\", \"Caribbean Community\", \"None\", \"None\", \"Arab League\", \"Eurasian Economic Union\", \"African Union\", \"None\", \"Arab League\", \"Eurasian Economic Union\", \"Association of Southeast Asian Nations\", \"European Union\", \"Arab League\", \"African Union\", \"African Union\", \"African UnionArab League\", \"European Free Trade Association\", \"European Union\", \"European Union\", \"None\", \"Central European Free Trade Agreement\", \"African Union\", \"African Union\", \"Association of Southeast Asian Nations\", \"South Asian Association for Regional Cooperation\", \"African Union\", \"European Union\", \"None\", \"None\", \"African UnionArab League\", \"African Union\", \"African Union\", \"Pacific AllianceNorth American Free Trade Agreement\", \"None\", \"Central European Free Trade Agreement\", \"None\", \"None\", \"Central European Free Trade Agreement\", \"Caribbean Community\", \"African UnionArab League\", \"African Union\", \"Association of Southeast Asian Nations\", \"African Union\", \"None\", \"South Asian Association for Regional Cooperation\", \"European Union\", \"None\", \"None\", \"Central American Integration System\", \"African Union\", \"African Union\", \"None\", \"None\", \"None\", \"None\", \"European Free Trade Association\", \"Arab League\", \"South Asian Association for Regional Cooperation\", \"None\", \"Arab League\", \"Central American Integration System\", \"None\", \"Union of South American Nations\", \"Pacific AllianceUnion of South American Nations\", \"Association of Southeast Asian Nations\", \"None\", \"European Union\", \"European Union\", \"None\", \"Arab League\", \"Central European Free Trade Agreement\", \"African Union\", \"European Union\", \"Eurasian Economic Union\", \"African Union\", \"None\", \"African Union\", \"Caribbean Community\", \"Caribbean Community\", \"None\", \"None\", \"Caribbean Community\", \"None\", \"None\", \"African Union\", \"Arab League\", \"African Union\", \"Central European Free Trade Agreement\", \"African Union\", \"African Union\", \"Association of Southeast Asian Nations\", \"None\", \"European Union\", \"European Union\", \"None\", \"African UnionArab League\", \"African Union\", \"Union of South American Nations\", \"None\", \"African Union\", \"European Union\", \"South Asian Association for Regional Cooperation\", \"African UnionArab League\", \"Caribbean CommunityUnion of South American Nations\", \"None\", \"African Union\", \"European Union\", \"European Free Trade Association\", \"Arab League\", \"None\", \"None\", \"African Union\", \"Association of Southeast Asian Nations\", \"None\", \"African Union\", \"None\", \"None\", \"Caribbean Community\", \"African UnionArab League\", \"None\", \"None\", \"None\", \"None\", \"African Union\", \"None\", \"Arab League\", \"European Union\", \"North American Free Trade Agreement\", \"Union of South American Nations\", \"None\", \"None\", \"Union of South American Nations\", \"Association of Southeast Asian Nations\", \"None\", \"African Union\", \"Arab League\", \"African Union\", \"African Union\"]}],\n",
       "                        {\"template\": {\"data\": {\"bar\": [{\"error_x\": {\"color\": \"#2a3f5f\"}, \"error_y\": {\"color\": \"#2a3f5f\"}, \"marker\": {\"line\": {\"color\": \"#E5ECF6\", \"width\": 0.5}}, \"type\": \"bar\"}], \"barpolar\": [{\"marker\": {\"line\": {\"color\": \"#E5ECF6\", \"width\": 0.5}}, \"type\": \"barpolar\"}], \"carpet\": [{\"aaxis\": {\"endlinecolor\": \"#2a3f5f\", \"gridcolor\": \"white\", \"linecolor\": \"white\", \"minorgridcolor\": \"white\", \"startlinecolor\": \"#2a3f5f\"}, \"baxis\": {\"endlinecolor\": \"#2a3f5f\", \"gridcolor\": \"white\", \"linecolor\": \"white\", \"minorgridcolor\": \"white\", \"startlinecolor\": \"#2a3f5f\"}, \"type\": \"carpet\"}], \"choropleth\": [{\"colorbar\": {\"outlinewidth\": 0, \"ticks\": \"\"}, \"type\": \"choropleth\"}], \"contour\": [{\"colorbar\": {\"outlinewidth\": 0, \"ticks\": \"\"}, \"colorscale\": [[0.0, \"#0d0887\"], [0.1111111111111111, \"#46039f\"], [0.2222222222222222, \"#7201a8\"], [0.3333333333333333, \"#9c179e\"], [0.4444444444444444, \"#bd3786\"], [0.5555555555555556, \"#d8576b\"], [0.6666666666666666, \"#ed7953\"], [0.7777777777777778, \"#fb9f3a\"], [0.8888888888888888, \"#fdca26\"], [1.0, \"#f0f921\"]], \"type\": \"contour\"}], \"contourcarpet\": [{\"colorbar\": {\"outlinewidth\": 0, \"ticks\": \"\"}, \"type\": \"contourcarpet\"}], \"heatmap\": [{\"colorbar\": {\"outlinewidth\": 0, \"ticks\": \"\"}, \"colorscale\": [[0.0, \"#0d0887\"], [0.1111111111111111, \"#46039f\"], [0.2222222222222222, \"#7201a8\"], [0.3333333333333333, \"#9c179e\"], [0.4444444444444444, \"#bd3786\"], [0.5555555555555556, \"#d8576b\"], [0.6666666666666666, \"#ed7953\"], [0.7777777777777778, \"#fb9f3a\"], [0.8888888888888888, \"#fdca26\"], [1.0, \"#f0f921\"]], \"type\": \"heatmap\"}], \"heatmapgl\": [{\"colorbar\": {\"outlinewidth\": 0, \"ticks\": \"\"}, \"colorscale\": [[0.0, \"#0d0887\"], [0.1111111111111111, \"#46039f\"], [0.2222222222222222, \"#7201a8\"], [0.3333333333333333, \"#9c179e\"], [0.4444444444444444, \"#bd3786\"], [0.5555555555555556, \"#d8576b\"], [0.6666666666666666, \"#ed7953\"], [0.7777777777777778, \"#fb9f3a\"], [0.8888888888888888, \"#fdca26\"], [1.0, \"#f0f921\"]], \"type\": \"heatmapgl\"}], \"histogram\": [{\"marker\": {\"colorbar\": {\"outlinewidth\": 0, \"ticks\": \"\"}}, \"type\": \"histogram\"}], \"histogram2d\": [{\"colorbar\": {\"outlinewidth\": 0, \"ticks\": \"\"}, \"colorscale\": [[0.0, \"#0d0887\"], [0.1111111111111111, \"#46039f\"], [0.2222222222222222, \"#7201a8\"], [0.3333333333333333, \"#9c179e\"], [0.4444444444444444, \"#bd3786\"], [0.5555555555555556, \"#d8576b\"], [0.6666666666666666, \"#ed7953\"], [0.7777777777777778, \"#fb9f3a\"], [0.8888888888888888, \"#fdca26\"], [1.0, \"#f0f921\"]], \"type\": \"histogram2d\"}], \"histogram2dcontour\": [{\"colorbar\": {\"outlinewidth\": 0, \"ticks\": \"\"}, \"colorscale\": [[0.0, \"#0d0887\"], [0.1111111111111111, \"#46039f\"], [0.2222222222222222, \"#7201a8\"], [0.3333333333333333, \"#9c179e\"], [0.4444444444444444, \"#bd3786\"], [0.5555555555555556, \"#d8576b\"], [0.6666666666666666, \"#ed7953\"], [0.7777777777777778, \"#fb9f3a\"], [0.8888888888888888, \"#fdca26\"], [1.0, \"#f0f921\"]], \"type\": \"histogram2dcontour\"}], \"mesh3d\": [{\"colorbar\": {\"outlinewidth\": 0, \"ticks\": \"\"}, \"type\": \"mesh3d\"}], \"parcoords\": [{\"line\": {\"colorbar\": {\"outlinewidth\": 0, \"ticks\": \"\"}}, \"type\": \"parcoords\"}], \"pie\": [{\"automargin\": true, \"type\": \"pie\"}], \"scatter\": [{\"marker\": {\"colorbar\": {\"outlinewidth\": 0, \"ticks\": \"\"}}, \"type\": \"scatter\"}], \"scatter3d\": [{\"line\": {\"colorbar\": {\"outlinewidth\": 0, \"ticks\": \"\"}}, \"marker\": {\"colorbar\": {\"outlinewidth\": 0, \"ticks\": \"\"}}, \"type\": \"scatter3d\"}], \"scattercarpet\": [{\"marker\": {\"colorbar\": {\"outlinewidth\": 0, \"ticks\": \"\"}}, \"type\": \"scattercarpet\"}], \"scattergeo\": [{\"marker\": {\"colorbar\": {\"outlinewidth\": 0, \"ticks\": \"\"}}, \"type\": \"scattergeo\"}], \"scattergl\": [{\"marker\": {\"colorbar\": {\"outlinewidth\": 0, \"ticks\": \"\"}}, \"type\": \"scattergl\"}], \"scattermapbox\": [{\"marker\": {\"colorbar\": {\"outlinewidth\": 0, \"ticks\": \"\"}}, \"type\": \"scattermapbox\"}], \"scatterpolar\": [{\"marker\": {\"colorbar\": {\"outlinewidth\": 0, \"ticks\": \"\"}}, \"type\": \"scatterpolar\"}], \"scatterpolargl\": [{\"marker\": {\"colorbar\": {\"outlinewidth\": 0, \"ticks\": \"\"}}, \"type\": \"scatterpolargl\"}], \"scatterternary\": [{\"marker\": {\"colorbar\": {\"outlinewidth\": 0, \"ticks\": \"\"}}, \"type\": \"scatterternary\"}], \"surface\": [{\"colorbar\": {\"outlinewidth\": 0, \"ticks\": \"\"}, \"colorscale\": [[0.0, \"#0d0887\"], [0.1111111111111111, \"#46039f\"], [0.2222222222222222, \"#7201a8\"], [0.3333333333333333, \"#9c179e\"], [0.4444444444444444, \"#bd3786\"], [0.5555555555555556, \"#d8576b\"], [0.6666666666666666, \"#ed7953\"], [0.7777777777777778, \"#fb9f3a\"], [0.8888888888888888, \"#fdca26\"], [1.0, \"#f0f921\"]], \"type\": \"surface\"}], \"table\": [{\"cells\": {\"fill\": {\"color\": \"#EBF0F8\"}, \"line\": {\"color\": \"white\"}}, \"header\": {\"fill\": {\"color\": \"#C8D4E3\"}, \"line\": {\"color\": \"white\"}}, \"type\": \"table\"}]}, \"layout\": {\"annotationdefaults\": {\"arrowcolor\": \"#2a3f5f\", \"arrowhead\": 0, \"arrowwidth\": 1}, \"coloraxis\": {\"colorbar\": {\"outlinewidth\": 0, \"ticks\": \"\"}}, \"colorscale\": {\"diverging\": [[0, \"#8e0152\"], [0.1, \"#c51b7d\"], [0.2, \"#de77ae\"], [0.3, \"#f1b6da\"], [0.4, \"#fde0ef\"], [0.5, \"#f7f7f7\"], [0.6, \"#e6f5d0\"], [0.7, \"#b8e186\"], [0.8, \"#7fbc41\"], [0.9, \"#4d9221\"], [1, \"#276419\"]], \"sequential\": [[0.0, \"#0d0887\"], [0.1111111111111111, \"#46039f\"], [0.2222222222222222, \"#7201a8\"], [0.3333333333333333, \"#9c179e\"], [0.4444444444444444, \"#bd3786\"], [0.5555555555555556, \"#d8576b\"], [0.6666666666666666, \"#ed7953\"], [0.7777777777777778, \"#fb9f3a\"], [0.8888888888888888, \"#fdca26\"], [1.0, \"#f0f921\"]], \"sequentialminus\": [[0.0, \"#0d0887\"], [0.1111111111111111, \"#46039f\"], [0.2222222222222222, \"#7201a8\"], [0.3333333333333333, \"#9c179e\"], [0.4444444444444444, \"#bd3786\"], [0.5555555555555556, \"#d8576b\"], [0.6666666666666666, \"#ed7953\"], [0.7777777777777778, \"#fb9f3a\"], [0.8888888888888888, \"#fdca26\"], [1.0, \"#f0f921\"]]}, \"colorway\": [\"#636efa\", \"#EF553B\", \"#00cc96\", \"#ab63fa\", \"#FFA15A\", \"#19d3f3\", \"#FF6692\", \"#B6E880\", \"#FF97FF\", \"#FECB52\"], \"font\": {\"color\": \"#2a3f5f\"}, \"geo\": {\"bgcolor\": \"white\", \"lakecolor\": \"white\", \"landcolor\": \"#E5ECF6\", \"showlakes\": true, \"showland\": true, \"subunitcolor\": \"white\"}, \"hoverlabel\": {\"align\": \"left\"}, \"hovermode\": \"closest\", \"mapbox\": {\"style\": \"light\"}, \"paper_bgcolor\": \"white\", \"plot_bgcolor\": \"#E5ECF6\", \"polar\": {\"angularaxis\": {\"gridcolor\": \"white\", \"linecolor\": \"white\", \"ticks\": \"\"}, \"bgcolor\": \"#E5ECF6\", \"radialaxis\": {\"gridcolor\": \"white\", \"linecolor\": \"white\", \"ticks\": \"\"}}, \"scene\": {\"xaxis\": {\"backgroundcolor\": \"#E5ECF6\", \"gridcolor\": \"white\", \"gridwidth\": 2, \"linecolor\": \"white\", \"showbackground\": true, \"ticks\": \"\", \"zerolinecolor\": \"white\"}, \"yaxis\": {\"backgroundcolor\": \"#E5ECF6\", \"gridcolor\": \"white\", \"gridwidth\": 2, \"linecolor\": \"white\", \"showbackground\": true, \"ticks\": \"\", \"zerolinecolor\": \"white\"}, \"zaxis\": {\"backgroundcolor\": \"#E5ECF6\", \"gridcolor\": \"white\", \"gridwidth\": 2, \"linecolor\": \"white\", \"showbackground\": true, \"ticks\": \"\", \"zerolinecolor\": \"white\"}}, \"shapedefaults\": {\"line\": {\"color\": \"#2a3f5f\"}}, \"ternary\": {\"aaxis\": {\"gridcolor\": \"white\", \"linecolor\": \"white\", \"ticks\": \"\"}, \"baxis\": {\"gridcolor\": \"white\", \"linecolor\": \"white\", \"ticks\": \"\"}, \"bgcolor\": \"#E5ECF6\", \"caxis\": {\"gridcolor\": \"white\", \"linecolor\": \"white\", \"ticks\": \"\"}}, \"title\": {\"x\": 0.05}, \"xaxis\": {\"automargin\": true, \"gridcolor\": \"white\", \"linecolor\": \"white\", \"ticks\": \"\", \"title\": {\"standoff\": 15}, \"zerolinecolor\": \"white\", \"zerolinewidth\": 2}, \"yaxis\": {\"automargin\": true, \"gridcolor\": \"white\", \"linecolor\": \"white\", \"ticks\": \"\", \"title\": {\"standoff\": 15}, \"zerolinecolor\": \"white\", \"zerolinewidth\": 2}}}, \"title\": {\"text\": \"regionalBlocs Histogram\"}, \"xaxis\": {\"categoryorder\": \"total descending\", \"title\": {\"text\": \"regionalBlocs category\"}}, \"yaxis\": {\"title\": {\"text\": \"regionalBlocs count\"}}},\n",
       "                        {\"responsive\": true}\n",
       "                    ).then(function(){\n",
       "                            \n",
       "var gd = document.getElementById('3332de30-8804-4ebf-9954-e6d8bf4102a7');\n",
       "var x = new MutationObserver(function (mutations, observer) {{\n",
       "        var display = window.getComputedStyle(gd).display;\n",
       "        if (!display || display === 'none') {{\n",
       "            console.log([gd, 'removed!']);\n",
       "            Plotly.purge(gd);\n",
       "            observer.disconnect();\n",
       "        }}\n",
       "}});\n",
       "\n",
       "// Listen for the removal of the full notebook cells\n",
       "var notebookContainer = gd.closest('#notebook-container');\n",
       "if (notebookContainer) {{\n",
       "    x.observe(notebookContainer, {childList: true});\n",
       "}}\n",
       "\n",
       "// Listen for the clearing of the current output cell\n",
       "var outputEl = gd.closest('.output');\n",
       "if (outputEl) {{\n",
       "    x.observe(outputEl, {childList: true});\n",
       "}}\n",
       "\n",
       "                        })\n",
       "                };\n",
       "                });\n",
       "            </script>\n",
       "        </div>"
      ]
     },
     "metadata": {},
     "output_type": "display_data"
    }
   ],
   "source": [
    "fig = go.Figure(data=[go.Histogram(histfunc=\"count\", x=df['regionalBlocs'])])\n",
    "\n",
    "fig.update_layout(\n",
    "    title_text='regionalBlocs Histogram', # title of plot\n",
    "    xaxis_title_text='regionalBlocs category', # xaxis label\n",
    "    yaxis_title_text='regionalBlocs count', # yaxis label\n",
    "#     xaxis={'categoryorder':'category ascending'},# xtitle axis sort\n",
    "    xaxis={'categoryorder':'total descending'}, # values on xaxis sort \n",
    "    # bargap=0.2, # gap between bars of adjacent location coordinates\n",
    "    #bargroupgap=0.1 # gap between bars of the same location coordinates\n",
    ")\n",
    "\n",
    "\n",
    "fig.show()\n",
    "\n",
    "#sort column value"
   ]
  },
  {
   "cell_type": "markdown",
   "metadata": {},
   "source": [
    "## Quantitative variables"
   ]
  },
  {
   "cell_type": "markdown",
   "metadata": {},
   "source": [
    "### Missing values and fill_in"
   ]
  },
  {
   "cell_type": "code",
   "execution_count": 86,
   "metadata": {},
   "outputs": [
    {
     "data": {
      "image/png": "[encoded data removed]",
      "text/plain": [
       "<Figure size 432x288 with 1 Axes>"
      ]
     },
     "metadata": {
      "needs_background": "light"
     },
     "output_type": "display_data"
    }
   ],
   "source": [
    "quan_lst = ['population','area','gini','borders_count'\n",
    "#             ,'languages_count'\n",
    "           ]\n",
    "sns.heatmap(df[quan_lst].isnull(),cbar=False, cmap='magma', yticklabels=False)\n",
    "plt.title('Missing values in quantitative variables')\n",
    "plt.show()"
   ]
  },
  {
   "cell_type": "markdown",
   "metadata": {},
   "source": [
    "__area column__"
   ]
  },
  {
   "cell_type": "markdown",
   "metadata": {},
   "source": [
    "Fill missing area values."
   ]
  },
  {
   "cell_type": "code",
   "execution_count": 87,
   "metadata": {},
   "outputs": [],
   "source": [
    "df.loc[33,'area'] = 34.2\n",
    "df.loc[78,'area'] = 83534\n",
    "df.loc[90,'area'] = 1628\n",
    "df.loc[140,'area'] = 1128\n",
    "df.loc[143,'area'] = 374\n",
    "df.loc[171,'area'] = 6020\n",
    "df.loc[183,'area'] = 2511\n",
    "df.loc[188,'area'] = 394\n",
    "df.loc[209,'area'] = 3903\n",
    "df.loc[216,'area'] = 377"
   ]
  },
  {
   "cell_type": "markdown",
   "metadata": {},
   "source": [
    "__population and population density (popDensity)__"
   ]
  },
  {
   "cell_type": "markdown",
   "metadata": {},
   "source": [
    "Add population desensity columns (popDensity)"
   ]
  },
  {
   "cell_type": "code",
   "execution_count": 88,
   "metadata": {},
   "outputs": [
    {
     "data": {
      "text/plain": [
       "count      250.000000\n",
       "mean       407.082640\n",
       "std       1948.712907\n",
       "min          0.000000\n",
       "25%         27.840000\n",
       "50%         81.840000\n",
       "75%        209.047500\n",
       "max      21636.670000\n",
       "Name: popDensity, dtype: float64"
      ]
     },
     "execution_count": 88,
     "metadata": {},
     "output_type": "execute_result"
    }
   ],
   "source": [
    "df.insert(9, 'popDensity', round(df['population']/df['area'],2))\n",
    "df['popDensity'].describe()"
   ]
  },
  {
   "cell_type": "markdown",
   "metadata": {},
   "source": [
    "__Missing values heatmap__"
   ]
  },
  {
   "cell_type": "code",
   "execution_count": 89,
   "metadata": {},
   "outputs": [
    {
     "data": {
      "image/png": "[encoded data removed]",
      "text/plain": [
       "<Figure size 432x288 with 1 Axes>"
      ]
     },
     "metadata": {
      "needs_background": "light"
     },
     "output_type": "display_data"
    }
   ],
   "source": [
    "quan_lst = ['population','area','popDensity','gini','borders_count',\n",
    "#             'languages_count'\n",
    "           ]\n",
    "sns.heatmap(df[quan_lst].isnull(),cbar=False, cmap='magma', yticklabels=False)\n",
    "plt.title('Missing values in quantitative variables')\n",
    "plt.show()"
   ]
  },
  {
   "cell_type": "markdown",
   "metadata": {},
   "source": [
    "### EDA"
   ]
  },
  {
   "cell_type": "code",
   "execution_count": 90,
   "metadata": {},
   "outputs": [
    {
     "data": {
      "text/html": [
       "<div>\n",
       "<style scoped>\n",
       "    .dataframe tbody tr th:only-of-type {\n",
       "        vertical-align: middle;\n",
       "    }\n",
       "\n",
       "    .dataframe tbody tr th {\n",
       "        vertical-align: top;\n",
       "    }\n",
       "\n",
       "    .dataframe thead th {\n",
       "        text-align: right;\n",
       "    }\n",
       "</style>\n",
       "<table border=\"1\" class=\"dataframe\">\n",
       "  <thead>\n",
       "    <tr style=\"text-align: right;\">\n",
       "      <th></th>\n",
       "      <th>population</th>\n",
       "      <th>area</th>\n",
       "      <th>popDensity</th>\n",
       "      <th>gini</th>\n",
       "      <th>borders_count</th>\n",
       "      <th>count_lang</th>\n",
       "    </tr>\n",
       "  </thead>\n",
       "  <tbody>\n",
       "    <tr>\n",
       "      <th>count</th>\n",
       "      <td>2.500000e+02</td>\n",
       "      <td>2.500000e+02</td>\n",
       "      <td>250.000000</td>\n",
       "      <td>153.000000</td>\n",
       "      <td>250.000000</td>\n",
       "      <td>250.000000</td>\n",
       "    </tr>\n",
       "    <tr>\n",
       "      <th>mean</th>\n",
       "      <td>2.939655e+07</td>\n",
       "      <td>6.015619e+05</td>\n",
       "      <td>407.082640</td>\n",
       "      <td>40.177124</td>\n",
       "      <td>2.600000</td>\n",
       "      <td>1.472000</td>\n",
       "    </tr>\n",
       "    <tr>\n",
       "      <th>std</th>\n",
       "      <td>1.244578e+08</td>\n",
       "      <td>1.914304e+06</td>\n",
       "      <td>1948.712907</td>\n",
       "      <td>9.265119</td>\n",
       "      <td>2.675187</td>\n",
       "      <td>0.901369</td>\n",
       "    </tr>\n",
       "    <tr>\n",
       "      <th>min</th>\n",
       "      <td>0.000000e+00</td>\n",
       "      <td>4.400000e-01</td>\n",
       "      <td>0.000000</td>\n",
       "      <td>24.000000</td>\n",
       "      <td>0.000000</td>\n",
       "      <td>1.000000</td>\n",
       "    </tr>\n",
       "    <tr>\n",
       "      <th>25%</th>\n",
       "      <td>2.029030e+05</td>\n",
       "      <td>1.110000e+03</td>\n",
       "      <td>27.840000</td>\n",
       "      <td>33.700000</td>\n",
       "      <td>0.000000</td>\n",
       "      <td>1.000000</td>\n",
       "    </tr>\n",
       "    <tr>\n",
       "      <th>50%</th>\n",
       "      <td>4.648734e+06</td>\n",
       "      <td>6.492950e+04</td>\n",
       "      <td>81.840000</td>\n",
       "      <td>38.600000</td>\n",
       "      <td>2.000000</td>\n",
       "      <td>1.000000</td>\n",
       "    </tr>\n",
       "    <tr>\n",
       "      <th>75%</th>\n",
       "      <td>1.803955e+07</td>\n",
       "      <td>3.727260e+05</td>\n",
       "      <td>209.047500</td>\n",
       "      <td>46.200000</td>\n",
       "      <td>4.000000</td>\n",
       "      <td>2.000000</td>\n",
       "    </tr>\n",
       "    <tr>\n",
       "      <th>max</th>\n",
       "      <td>1.377422e+09</td>\n",
       "      <td>1.712444e+07</td>\n",
       "      <td>21636.670000</td>\n",
       "      <td>65.800000</td>\n",
       "      <td>15.000000</td>\n",
       "      <td>10.000000</td>\n",
       "    </tr>\n",
       "  </tbody>\n",
       "</table>\n",
       "</div>"
      ],
      "text/plain": [
       "         population          area    popDensity        gini  borders_count  \\\n",
       "count  2.500000e+02  2.500000e+02    250.000000  153.000000     250.000000   \n",
       "mean   2.939655e+07  6.015619e+05    407.082640   40.177124       2.600000   \n",
       "std    1.244578e+08  1.914304e+06   1948.712907    9.265119       2.675187   \n",
       "min    0.000000e+00  4.400000e-01      0.000000   24.000000       0.000000   \n",
       "25%    2.029030e+05  1.110000e+03     27.840000   33.700000       0.000000   \n",
       "50%    4.648734e+06  6.492950e+04     81.840000   38.600000       2.000000   \n",
       "75%    1.803955e+07  3.727260e+05    209.047500   46.200000       4.000000   \n",
       "max    1.377422e+09  1.712444e+07  21636.670000   65.800000      15.000000   \n",
       "\n",
       "       count_lang  \n",
       "count  250.000000  \n",
       "mean     1.472000  \n",
       "std      0.901369  \n",
       "min      1.000000  \n",
       "25%      1.000000  \n",
       "50%      1.000000  \n",
       "75%      2.000000  \n",
       "max     10.000000  "
      ]
     },
     "execution_count": 90,
     "metadata": {},
     "output_type": "execute_result"
    }
   ],
   "source": [
    "df.describe()"
   ]
  },
  {
   "cell_type": "code",
   "execution_count": 91,
   "metadata": {
    "code_folding": []
   },
   "outputs": [
    {
     "data": {
      "application/vnd.plotly.v1+json": {
       "config": {
        "plotlyServerURL": "https://plot.ly"
       },
       "data": [
        {
         "boxpoints": "outliers",
         "name": "population",
         "type": "box",
         "xaxis": "x",
         "y": [
          27657145,
          28875,
          2886026,
          40400000,
          57100,
          78014,
          25868000,
          13452,
          1000,
          86295,
          43590400,
          2994400,
          107394,
          24117360,
          8725931,
          9730500,
          378040,
          1404900,
          161006790,
          285000,
          9498700,
          11319511,
          370300,
          10653654,
          61954,
          775620,
          10985059,
          17408,
          3531159,
          2141206,
          0,
          206135893,
          3000,
          300,
          28514,
          114743,
          411900,
          7153784,
          19034397,
          10114505,
          15626444,
          22709892,
          36155487,
          531239,
          58238,
          4998000,
          14497000,
          18191900,
          1377422166,
          2072,
          550,
          48759958,
          806153,
          4741000,
          85026000,
          18100,
          4890379,
          4190669,
          11239004,
          154843,
          847000,
          10558524,
          5717014,
          900000,
          71293,
          10075045,
          16545799,
          91290000,
          6520675,
          1222442,
          5352000,
          1315944,
          92206005,
          2563,
          49376,
          867000,
          5491817,
          66710000,
          254541,
          271800,
          140,
          1802278,
          1882450,
          3720400,
          81770900,
          27670174,
          33140,
          10858018,
          55847,
          103328,
          400132,
          184200,
          16176133,
          62999,
          12947000,
          1547777,
          746900,
          11078033,
          0,
          451,
          8576532,
          7324300,
          9823000,
          334300,
          1295210000,
          258705000,
          22671331,
          79369900,
          37883543,
          6378000,
          84497,
          8527400,
          60665551,
          2723246,
          126960000,
          100800,
          9531712,
          17753200,
          47251000,
          113400,
          4183658,
          6047800,
          6492400,
          1961600,
          5988000,
          1894194,
          4615000,
          6385000,
          37623,
          2872294,
          576200,
          649100,
          2058539,
          22434363,
          16832910,
          31405416,
          344023,
          18135000,
          425384,
          54880,
          378243,
          3718678,
          1262879,
          226915,
          122273473,
          102800,
          3553100,
          38400,
          3093100,
          621810,
          4922,
          33337529,
          26423700,
          51419420,
          2324388,
          10084,
          28431500,
          17019800,
          268767,
          4697854,
          6262703,
          20715000,
          186988000,
          1470,
          2302,
          25281000,
          56940,
          5223256,
          4420133,
          194125062,
          17950,
          4682467,
          3814672,
          8083700,
          6854536,
          31488700,
          103279800,
          56,
          38437239,
          10374822,
          3474182,
          2587564,
          1733842,
          840974,
          19861408,
          146599183,
          11553188,
          9417,
          4255,
          46204,
          186000,
          36979,
          6069,
          109991,
          194899,
          33005,
          187356,
          32248200,
          14799859,
          7076372,
          91400,
          7075641,
          5535000,
          38247,
          5426252,
          2064188,
          642000,
          11079000,
          55653654,
          30,
          50801405,
          12131000,
          46438422,
          20966000,
          39598700,
          541638,
          2562,
          1132657,
          9894888,
          8341600,
          18564000,
          23503349,
          8593600,
          55155000,
          65327652,
          1167242,
          7143000,
          1411,
          103252,
          1349667,
          11154400,
          78741053,
          4751120,
          31458,
          10640,
          33860700,
          42692393,
          9856000,
          65110000,
          323947000,
          3480222,
          31576400,
          277500,
          31028700,
          92700000,
          11750,
          510713,
          27478000,
          15933883,
          14240168
         ],
         "yaxis": "y"
        },
        {
         "boxpoints": "outliers",
         "name": "area",
         "type": "box",
         "xaxis": "x2",
         "y": [
          652230,
          1580,
          28748,
          2381741,
          199,
          468,
          1246700,
          91,
          14000000,
          442,
          2780400,
          29743,
          180,
          7692024,
          83871,
          86600,
          13943,
          765,
          147570,
          430,
          207600,
          30528,
          22966,
          112622,
          54,
          38394,
          1098581,
          294,
          51209,
          582000,
          49,
          8515767,
          60,
          34.2,
          151,
          346.36,
          5765,
          110879,
          272967,
          27834,
          181035,
          475442,
          9984670,
          4033,
          264,
          622984,
          1284000,
          756102,
          9640011,
          135,
          14,
          1141748,
          1862,
          342000,
          2344858,
          236,
          51100,
          56594,
          109884,
          444,
          9251,
          78865,
          43094,
          23200,
          751,
          48671,
          276841,
          1002450,
          21041,
          28051,
          117600,
          45227,
          1104300,
          12173,
          1393,
          18272,
          338424,
          640679,
          83534,
          4167,
          7747,
          267668,
          11295,
          69700,
          357114,
          238533,
          6,
          131990,
          2166086,
          344,
          1628,
          549,
          108889,
          78,
          245857,
          36125,
          214969,
          27750,
          412,
          0.44,
          112492,
          1104,
          93028,
          103000,
          3287590,
          1904569,
          322463,
          1648195,
          438317,
          70273,
          572,
          20770,
          301336,
          10991,
          377930,
          116,
          89342,
          2724900,
          580367,
          811,
          17818,
          199951,
          236800,
          64559,
          10452,
          30355,
          111369,
          1759540,
          160,
          65300,
          2586,
          30,
          25713,
          587041,
          118484,
          330803,
          300,
          1240192,
          316,
          181,
          1128,
          1030700,
          2040,
          374,
          1964375,
          702,
          33846,
          2.02,
          1564110,
          13812,
          102,
          446550,
          801590,
          676578,
          825615,
          21,
          147181,
          41850,
          18575,
          270467,
          130373,
          1267000,
          923768,
          260,
          36,
          120538,
          464,
          323802,
          309500,
          881912,
          459,
          6020,
          75417,
          462840,
          406752,
          1285216,
          342353,
          47,
          312679,
          92090,
          8870,
          11586,
          10908,
          2511,
          238391,
          17124442,
          26338,
          21,
          394,
          261,
          616,
          53,
          242,
          389,
          2842,
          61,
          964,
          2149690,
          196722,
          88361,
          452,
          71740,
          710,
          34,
          49037,
          20273,
          28896,
          637657,
          1221037,
          3903,
          100210,
          619745,
          505992,
          65610,
          1886068,
          163820,
          377,
          17364,
          450295,
          41284,
          185180,
          36193,
          143100,
          945087,
          513120,
          14874,
          56785,
          12,
          747,
          5130,
          163610,
          783562,
          488100,
          948,
          26,
          241550,
          603700,
          83600,
          242900,
          9629091,
          181034,
          447400,
          12189,
          916445,
          331212,
          142,
          266000,
          527968,
          752612,
          390757
         ],
         "yaxis": "y2"
        },
        {
         "boxpoints": "outliers",
         "name": "popDensity",
         "type": "box",
         "xaxis": "x3",
         "y": [
          42.4,
          18.28,
          100.39,
          16.96,
          286.93,
          166.7,
          20.75,
          147.82,
          0,
          195.24,
          15.68,
          100.68,
          596.63,
          3.14,
          104.04,
          112.36,
          27.11,
          1836.47,
          1091.05,
          662.79,
          45.75,
          370.79,
          16.12,
          94.6,
          1147.3,
          20.2,
          10,
          59.21,
          68.96,
          3.68,
          0,
          24.21,
          50,
          8.77,
          188.83,
          331.28,
          71.45,
          64.52,
          69.73,
          363.39,
          86.32,
          47.77,
          3.62,
          131.72,
          220.6,
          8.02,
          11.29,
          24.06,
          142.89,
          15.35,
          39.29,
          42.71,
          432.95,
          13.86,
          36.26,
          76.69,
          95.7,
          74.05,
          102.28,
          348.75,
          91.56,
          133.88,
          132.66,
          38.79,
          94.93,
          207,
          59.77,
          91.07,
          309.9,
          43.58,
          45.51,
          29.1,
          83.5,
          0.21,
          35.45,
          47.45,
          16.23,
          104.12,
          3.05,
          65.23,
          0.02,
          6.73,
          166.66,
          53.38,
          228.98,
          116,
          5523.33,
          82.26,
          0.03,
          300.37,
          245.78,
          335.52,
          148.56,
          807.68,
          52.66,
          42.85,
          3.47,
          399.21,
          0,
          1025,
          76.24,
          6634.33,
          105.59,
          3.25,
          393.97,
          135.83,
          70.31,
          48.16,
          86.43,
          90.76,
          147.72,
          410.56,
          201.32,
          247.77,
          335.94,
          868.97,
          106.69,
          6.52,
          81.42,
          139.83,
          234.8,
          30.25,
          27.42,
          30.38,
          572.9,
          62.4,
          41.44,
          3.63,
          235.14,
          43.99,
          222.82,
          21636.67,
          80.06,
          38.22,
          142.07,
          94.94,
          1146.74,
          14.62,
          1346.15,
          303.2,
          335.32,
          3.61,
          619.06,
          606.72,
          62.25,
          146.44,
          104.98,
          19009.9,
          1.98,
          45.02,
          48.25,
          74.66,
          32.96,
          76,
          2.82,
          480.19,
          193.17,
          406.69,
          14.47,
          17.37,
          48.04,
          16.35,
          202.42,
          5.65,
          63.94,
          209.73,
          122.72,
          16.13,
          14.28,
          220.12,
          39.11,
          777.82,
          50.58,
          17.47,
          16.85,
          24.5,
          301.68,
          1.19,
          122.93,
          112.66,
          391.68,
          223.34,
          158.95,
          334.92,
          83.31,
          8.56,
          438.65,
          448.43,
          10.8,
          177.03,
          301.95,
          697.72,
          25.08,
          282.75,
          68.58,
          541.07,
          194.35,
          15,
          75.23,
          80.08,
          202.21,
          98.63,
          7795.77,
          1124.91,
          110.66,
          101.82,
          22.22,
          17.37,
          45.58,
          0.01,
          506.95,
          19.57,
          91.78,
          319.55,
          21,
          3.31,
          6.8,
          65.23,
          21.97,
          202.05,
          100.25,
          649.39,
          60.05,
          58.36,
          127.31,
          78.48,
          125.79,
          117.58,
          138.22,
          263.09,
          68.18,
          100.49,
          9.73,
          33.18,
          409.23,
          140.18,
          70.72,
          117.89,
          268.05,
          33.64,
          19.22,
          70.58,
          22.77,
          33.86,
          279.88,
          82.75,
          1.92,
          52.04,
          21.17,
          36.44
         ],
         "yaxis": "y3"
        },
        {
         "boxpoints": "outliers",
         "name": "gini",
         "type": "box",
         "xaxis": "x4",
         "y": [
          27.8,
          null,
          34.5,
          35.3,
          null,
          null,
          58.6,
          null,
          null,
          null,
          44.5,
          30.9,
          null,
          30.5,
          26,
          33.7,
          null,
          null,
          32.1,
          null,
          26.5,
          33,
          53.1,
          38.6,
          null,
          38.1,
          56.3,
          null,
          36.2,
          61,
          null,
          54.7,
          null,
          null,
          null,
          null,
          null,
          28.2,
          39.8,
          33.3,
          37.9,
          38.9,
          32.6,
          50.5,
          null,
          56.3,
          39.8,
          52.1,
          47,
          null,
          null,
          55.9,
          64.3,
          47.3,
          null,
          null,
          50.7,
          33.7,
          null,
          null,
          null,
          26,
          24,
          40,
          null,
          47.2,
          49.3,
          30.8,
          48.3,
          null,
          null,
          36,
          29.8,
          null,
          null,
          42.8,
          26.9,
          32.7,
          null,
          null,
          null,
          41.5,
          null,
          41.3,
          28.3,
          42.8,
          null,
          34.3,
          null,
          null,
          null,
          null,
          55.9,
          null,
          39.4,
          35.5,
          44.5,
          59.2,
          null,
          null,
          57,
          53.3,
          31.2,
          null,
          33.4,
          34,
          41.5,
          38.3,
          30.9,
          34.3,
          null,
          39.2,
          36,
          45.5,
          38.1,
          null,
          35.4,
          29,
          47.7,
          null,
          null,
          36.2,
          36.7,
          36.6,
          null,
          52.5,
          38.2,
          null,
          null,
          37.6,
          30.8,
          null,
          43.2,
          44.1,
          39,
          46.2,
          37.4,
          33,
          null,
          null,
          null,
          40.5,
          null,
          null,
          47,
          null,
          33,
          null,
          36.5,
          30,
          null,
          40.9,
          45.7,
          null,
          63.9,
          null,
          32.8,
          30.9,
          null,
          36.2,
          40.5,
          34.6,
          48.8,
          null,
          null,
          null,
          null,
          25.8,
          null,
          30,
          null,
          35.5,
          51.9,
          50.9,
          52.4,
          48.1,
          43,
          null,
          34.1,
          38.5,
          null,
          41.1,
          null,
          null,
          30,
          40.1,
          50.8,
          null,
          null,
          null,
          42.6,
          null,
          null,
          null,
          null,
          null,
          50.8,
          null,
          39.2,
          27.8,
          65.8,
          42.5,
          48.1,
          null,
          26,
          31.2,
          null,
          null,
          63.1,
          null,
          31.3,
          45.5,
          34.7,
          40.3,
          35.3,
          52.9,
          null,
          51.5,
          25,
          33.7,
          35.8,
          null,
          30.8,
          37.6,
          40,
          31.9,
          34.4,
          null,
          null,
          40.3,
          41.4,
          39,
          40.8,
          null,
          null,
          44.3,
          26.4,
          null,
          34,
          48,
          39.7,
          36.7,
          null,
          44.8,
          35.6,
          null,
          null,
          37.7,
          54.6,
          null
         ],
         "yaxis": "y4"
        },
        {
         "boxpoints": "outliers",
         "name": "borders_count",
         "type": "box",
         "xaxis": "x5",
         "y": [
          6,
          0,
          4,
          7,
          0,
          2,
          4,
          0,
          0,
          0,
          5,
          4,
          0,
          0,
          8,
          5,
          0,
          0,
          2,
          0,
          5,
          4,
          2,
          4,
          0,
          2,
          5,
          0,
          3,
          4,
          0,
          10,
          0,
          0,
          0,
          0,
          1,
          5,
          6,
          3,
          3,
          6,
          1,
          0,
          0,
          6,
          6,
          3,
          15,
          0,
          0,
          5,
          0,
          5,
          9,
          0,
          2,
          5,
          0,
          0,
          1,
          4,
          1,
          3,
          0,
          1,
          2,
          3,
          2,
          2,
          3,
          2,
          6,
          0,
          0,
          0,
          3,
          8,
          2,
          0,
          0,
          3,
          1,
          4,
          9,
          3,
          1,
          4,
          0,
          0,
          0,
          0,
          4,
          0,
          6,
          2,
          3,
          1,
          0,
          1,
          3,
          1,
          7,
          0,
          8,
          3,
          5,
          7,
          6,
          1,
          0,
          4,
          6,
          0,
          0,
          0,
          4,
          5,
          5,
          0,
          2,
          4,
          5,
          4,
          2,
          1,
          3,
          6,
          2,
          4,
          3,
          1,
          5,
          0,
          3,
          3,
          0,
          7,
          0,
          0,
          0,
          4,
          0,
          0,
          3,
          0,
          2,
          1,
          2,
          5,
          0,
          3,
          6,
          5,
          4,
          0,
          2,
          2,
          0,
          0,
          2,
          7,
          4,
          0,
          0,
          3,
          0,
          3,
          3,
          4,
          0,
          3,
          2,
          1,
          3,
          5,
          0,
          0,
          7,
          1,
          0,
          1,
          4,
          0,
          5,
          14,
          4,
          0,
          0,
          0,
          0,
          2,
          0,
          0,
          0,
          1,
          0,
          7,
          5,
          8,
          0,
          2,
          0,
          1,
          5,
          4,
          0,
          3,
          6,
          0,
          1,
          6,
          5,
          1,
          7,
          4,
          0,
          2,
          2,
          5,
          5,
          0,
          4,
          8,
          4,
          1,
          3,
          0,
          0,
          0,
          2,
          8,
          4,
          0,
          0,
          5,
          7,
          2,
          1,
          2,
          2,
          5,
          0,
          3,
          3,
          0,
          3,
          2,
          8,
          4
         ],
         "yaxis": "y5"
        },
        {
         "boxpoints": "outliers",
         "name": "count_lang",
         "type": "box",
         "xaxis": "x6",
         "y": [
          3,
          1,
          1,
          1,
          2,
          1,
          1,
          1,
          2,
          1,
          2,
          2,
          2,
          1,
          1,
          1,
          1,
          1,
          1,
          1,
          2,
          3,
          2,
          1,
          1,
          1,
          3,
          1,
          3,
          2,
          3,
          1,
          1,
          1,
          1,
          1,
          1,
          1,
          2,
          2,
          1,
          2,
          2,
          1,
          1,
          2,
          2,
          1,
          1,
          1,
          1,
          1,
          2,
          2,
          5,
          1,
          1,
          1,
          1,
          3,
          3,
          2,
          1,
          2,
          1,
          1,
          1,
          1,
          1,
          2,
          3,
          1,
          1,
          1,
          1,
          4,
          2,
          1,
          1,
          1,
          1,
          1,
          1,
          1,
          1,
          1,
          1,
          1,
          1,
          1,
          1,
          3,
          1,
          2,
          2,
          1,
          1,
          2,
          1,
          4,
          1,
          2,
          1,
          1,
          2,
          1,
          1,
          1,
          2,
          2,
          2,
          2,
          1,
          1,
          1,
          2,
          1,
          2,
          2,
          1,
          1,
          2,
          1,
          1,
          2,
          2,
          1,
          1,
          1,
          1,
          3,
          2,
          1,
          2,
          2,
          1,
          1,
          1,
          2,
          2,
          1,
          1,
          1,
          1,
          1,
          1,
          1,
          1,
          1,
          4,
          1,
          1,
          1,
          1,
          2,
          2,
          1,
          1,
          1,
          2,
          1,
          1,
          1,
          1,
          1,
          1,
          2,
          3,
          1,
          2,
          1,
          1,
          1,
          1,
          2,
          1,
          1,
          1,
          1,
          1,
          2,
          1,
          2,
          1,
          1,
          1,
          3,
          1,
          1,
          1,
          1,
          3,
          1,
          1,
          2,
          1,
          1,
          1,
          1,
          1,
          2,
          1,
          4,
          2,
          1,
          1,
          1,
          2,
          10,
          1,
          1,
          1,
          1,
          2,
          2,
          1,
          1,
          2,
          1,
          3,
          1,
          1,
          2,
          2,
          1,
          1,
          1,
          1,
          2,
          1,
          1,
          1,
          2,
          1,
          1,
          2,
          1,
          1,
          1,
          1,
          1,
          2,
          3,
          1,
          1,
          1,
          1,
          1,
          1,
          3
         ],
         "yaxis": "y6"
        }
       ],
       "layout": {
        "template": {
         "data": {
          "bar": [
           {
            "error_x": {
             "color": "#2a3f5f"
            },
            "error_y": {
             "color": "#2a3f5f"
            },
            "marker": {
             "line": {
              "color": "#E5ECF6",
              "width": 0.5
             }
            },
            "type": "bar"
           }
          ],
          "barpolar": [
           {
            "marker": {
             "line": {
              "color": "#E5ECF6",
              "width": 0.5
             }
            },
            "type": "barpolar"
           }
          ],
          "carpet": [
           {
            "aaxis": {
             "endlinecolor": "#2a3f5f",
             "gridcolor": "white",
             "linecolor": "white",
             "minorgridcolor": "white",
             "startlinecolor": "#2a3f5f"
            },
            "baxis": {
             "endlinecolor": "#2a3f5f",
             "gridcolor": "white",
             "linecolor": "white",
             "minorgridcolor": "white",
             "startlinecolor": "#2a3f5f"
            },
            "type": "carpet"
           }
          ],
          "choropleth": [
           {
            "colorbar": {
             "outlinewidth": 0,
             "ticks": ""
            },
            "type": "choropleth"
           }
          ],
          "contour": [
           {
            "colorbar": {
             "outlinewidth": 0,
             "ticks": ""
            },
            "colorscale": [
             [
              0,
              "#0d0887"
             ],
             [
              0.1111111111111111,
              "#46039f"
             ],
             [
              0.2222222222222222,
              "#7201a8"
             ],
             [
              0.3333333333333333,
              "#9c179e"
             ],
             [
              0.4444444444444444,
              "#bd3786"
             ],
             [
              0.5555555555555556,
              "#d8576b"
             ],
             [
              0.6666666666666666,
              "#ed7953"
             ],
             [
              0.7777777777777778,
              "#fb9f3a"
             ],
             [
              0.8888888888888888,
              "#fdca26"
             ],
             [
              1,
              "#f0f921"
             ]
            ],
            "type": "contour"
           }
          ],
          "contourcarpet": [
           {
            "colorbar": {
             "outlinewidth": 0,
             "ticks": ""
            },
            "type": "contourcarpet"
           }
          ],
          "heatmap": [
           {
            "colorbar": {
             "outlinewidth": 0,
             "ticks": ""
            },
            "colorscale": [
             [
              0,
              "#0d0887"
             ],
             [
              0.1111111111111111,
              "#46039f"
             ],
             [
              0.2222222222222222,
              "#7201a8"
             ],
             [
              0.3333333333333333,
              "#9c179e"
             ],
             [
              0.4444444444444444,
              "#bd3786"
             ],
             [
              0.5555555555555556,
              "#d8576b"
             ],
             [
              0.6666666666666666,
              "#ed7953"
             ],
             [
              0.7777777777777778,
              "#fb9f3a"
             ],
             [
              0.8888888888888888,
              "#fdca26"
             ],
             [
              1,
              "#f0f921"
             ]
            ],
            "type": "heatmap"
           }
          ],
          "heatmapgl": [
           {
            "colorbar": {
             "outlinewidth": 0,
             "ticks": ""
            },
            "colorscale": [
             [
              0,
              "#0d0887"
             ],
             [
              0.1111111111111111,
              "#46039f"
             ],
             [
              0.2222222222222222,
              "#7201a8"
             ],
             [
              0.3333333333333333,
              "#9c179e"
             ],
             [
              0.4444444444444444,
              "#bd3786"
             ],
             [
              0.5555555555555556,
              "#d8576b"
             ],
             [
              0.6666666666666666,
              "#ed7953"
             ],
             [
              0.7777777777777778,
              "#fb9f3a"
             ],
             [
              0.8888888888888888,
              "#fdca26"
             ],
             [
              1,
              "#f0f921"
             ]
            ],
            "type": "heatmapgl"
           }
          ],
          "histogram": [
           {
            "marker": {
             "colorbar": {
              "outlinewidth": 0,
              "ticks": ""
             }
            },
            "type": "histogram"
           }
          ],
          "histogram2d": [
           {
            "colorbar": {
             "outlinewidth": 0,
             "ticks": ""
            },
            "colorscale": [
             [
              0,
              "#0d0887"
             ],
             [
              0.1111111111111111,
              "#46039f"
             ],
             [
              0.2222222222222222,
              "#7201a8"
             ],
             [
              0.3333333333333333,
              "#9c179e"
             ],
             [
              0.4444444444444444,
              "#bd3786"
             ],
             [
              0.5555555555555556,
              "#d8576b"
             ],
             [
              0.6666666666666666,
              "#ed7953"
             ],
             [
              0.7777777777777778,
              "#fb9f3a"
             ],
             [
              0.8888888888888888,
              "#fdca26"
             ],
             [
              1,
              "#f0f921"
             ]
            ],
            "type": "histogram2d"
           }
          ],
          "histogram2dcontour": [
           {
            "colorbar": {
             "outlinewidth": 0,
             "ticks": ""
            },
            "colorscale": [
             [
              0,
              "#0d0887"
             ],
             [
              0.1111111111111111,
              "#46039f"
             ],
             [
              0.2222222222222222,
              "#7201a8"
             ],
             [
              0.3333333333333333,
              "#9c179e"
             ],
             [
              0.4444444444444444,
              "#bd3786"
             ],
             [
              0.5555555555555556,
              "#d8576b"
             ],
             [
              0.6666666666666666,
              "#ed7953"
             ],
             [
              0.7777777777777778,
              "#fb9f3a"
             ],
             [
              0.8888888888888888,
              "#fdca26"
             ],
             [
              1,
              "#f0f921"
             ]
            ],
            "type": "histogram2dcontour"
           }
          ],
          "mesh3d": [
           {
            "colorbar": {
             "outlinewidth": 0,
             "ticks": ""
            },
            "type": "mesh3d"
           }
          ],
          "parcoords": [
           {
            "line": {
             "colorbar": {
              "outlinewidth": 0,
              "ticks": ""
             }
            },
            "type": "parcoords"
           }
          ],
          "pie": [
           {
            "automargin": true,
            "type": "pie"
           }
          ],
          "scatter": [
           {
            "marker": {
             "colorbar": {
              "outlinewidth": 0,
              "ticks": ""
             }
            },
            "type": "scatter"
           }
          ],
          "scatter3d": [
           {
            "line": {
             "colorbar": {
              "outlinewidth": 0,
              "ticks": ""
             }
            },
            "marker": {
             "colorbar": {
              "outlinewidth": 0,
              "ticks": ""
             }
            },
            "type": "scatter3d"
           }
          ],
          "scattercarpet": [
           {
            "marker": {
             "colorbar": {
              "outlinewidth": 0,
              "ticks": ""
             }
            },
            "type": "scattercarpet"
           }
          ],
          "scattergeo": [
           {
            "marker": {
             "colorbar": {
              "outlinewidth": 0,
              "ticks": ""
             }
            },
            "type": "scattergeo"
           }
          ],
          "scattergl": [
           {
            "marker": {
             "colorbar": {
              "outlinewidth": 0,
              "ticks": ""
             }
            },
            "type": "scattergl"
           }
          ],
          "scattermapbox": [
           {
            "marker": {
             "colorbar": {
              "outlinewidth": 0,
              "ticks": ""
             }
            },
            "type": "scattermapbox"
           }
          ],
          "scatterpolar": [
           {
            "marker": {
             "colorbar": {
              "outlinewidth": 0,
              "ticks": ""
             }
            },
            "type": "scatterpolar"
           }
          ],
          "scatterpolargl": [
           {
            "marker": {
             "colorbar": {
              "outlinewidth": 0,
              "ticks": ""
             }
            },
            "type": "scatterpolargl"
           }
          ],
          "scatterternary": [
           {
            "marker": {
             "colorbar": {
              "outlinewidth": 0,
              "ticks": ""
             }
            },
            "type": "scatterternary"
           }
          ],
          "surface": [
           {
            "colorbar": {
             "outlinewidth": 0,
             "ticks": ""
            },
            "colorscale": [
             [
              0,
              "#0d0887"
             ],
             [
              0.1111111111111111,
              "#46039f"
             ],
             [
              0.2222222222222222,
              "#7201a8"
             ],
             [
              0.3333333333333333,
              "#9c179e"
             ],
             [
              0.4444444444444444,
              "#bd3786"
             ],
             [
              0.5555555555555556,
              "#d8576b"
             ],
             [
              0.6666666666666666,
              "#ed7953"
             ],
             [
              0.7777777777777778,
              "#fb9f3a"
             ],
             [
              0.8888888888888888,
              "#fdca26"
             ],
             [
              1,
              "#f0f921"
             ]
            ],
            "type": "surface"
           }
          ],
          "table": [
           {
            "cells": {
             "fill": {
              "color": "#EBF0F8"
             },
             "line": {
              "color": "white"
             }
            },
            "header": {
             "fill": {
              "color": "#C8D4E3"
             },
             "line": {
              "color": "white"
             }
            },
            "type": "table"
           }
          ]
         },
         "layout": {
          "annotationdefaults": {
           "arrowcolor": "#2a3f5f",
           "arrowhead": 0,
           "arrowwidth": 1
          },
          "coloraxis": {
           "colorbar": {
            "outlinewidth": 0,
            "ticks": ""
           }
          },
          "colorscale": {
           "diverging": [
            [
             0,
             "#8e0152"
            ],
            [
             0.1,
             "#c51b7d"
            ],
            [
             0.2,
             "#de77ae"
            ],
            [
             0.3,
             "#f1b6da"
            ],
            [
             0.4,
             "#fde0ef"
            ],
            [
             0.5,
             "#f7f7f7"
            ],
            [
             0.6,
             "#e6f5d0"
            ],
            [
             0.7,
             "#b8e186"
            ],
            [
             0.8,
             "#7fbc41"
            ],
            [
             0.9,
             "#4d9221"
            ],
            [
             1,
             "#276419"
            ]
           ],
           "sequential": [
            [
             0,
             "#0d0887"
            ],
            [
             0.1111111111111111,
             "#46039f"
            ],
            [
             0.2222222222222222,
             "#7201a8"
            ],
            [
             0.3333333333333333,
             "#9c179e"
            ],
            [
             0.4444444444444444,
             "#bd3786"
            ],
            [
             0.5555555555555556,
             "#d8576b"
            ],
            [
             0.6666666666666666,
             "#ed7953"
            ],
            [
             0.7777777777777778,
             "#fb9f3a"
            ],
            [
             0.8888888888888888,
             "#fdca26"
            ],
            [
             1,
             "#f0f921"
            ]
           ],
           "sequentialminus": [
            [
             0,
             "#0d0887"
            ],
            [
             0.1111111111111111,
             "#46039f"
            ],
            [
             0.2222222222222222,
             "#7201a8"
            ],
            [
             0.3333333333333333,
             "#9c179e"
            ],
            [
             0.4444444444444444,
             "#bd3786"
            ],
            [
             0.5555555555555556,
             "#d8576b"
            ],
            [
             0.6666666666666666,
             "#ed7953"
            ],
            [
             0.7777777777777778,
             "#fb9f3a"
            ],
            [
             0.8888888888888888,
             "#fdca26"
            ],
            [
             1,
             "#f0f921"
            ]
           ]
          },
          "colorway": [
           "#636efa",
           "#EF553B",
           "#00cc96",
           "#ab63fa",
           "#FFA15A",
           "#19d3f3",
           "#FF6692",
           "#B6E880",
           "#FF97FF",
           "#FECB52"
          ],
          "font": {
           "color": "#2a3f5f"
          },
          "geo": {
           "bgcolor": "white",
           "lakecolor": "white",
           "landcolor": "#E5ECF6",
           "showlakes": true,
           "showland": true,
           "subunitcolor": "white"
          },
          "hoverlabel": {
           "align": "left"
          },
          "hovermode": "closest",
          "mapbox": {
           "style": "light"
          },
          "paper_bgcolor": "white",
          "plot_bgcolor": "#E5ECF6",
          "polar": {
           "angularaxis": {
            "gridcolor": "white",
            "linecolor": "white",
            "ticks": ""
           },
           "bgcolor": "#E5ECF6",
           "radialaxis": {
            "gridcolor": "white",
            "linecolor": "white",
            "ticks": ""
           }
          },
          "scene": {
           "xaxis": {
            "backgroundcolor": "#E5ECF6",
            "gridcolor": "white",
            "gridwidth": 2,
            "linecolor": "white",
            "showbackground": true,
            "ticks": "",
            "zerolinecolor": "white"
           },
           "yaxis": {
            "backgroundcolor": "#E5ECF6",
            "gridcolor": "white",
            "gridwidth": 2,
            "linecolor": "white",
            "showbackground": true,
            "ticks": "",
            "zerolinecolor": "white"
           },
           "zaxis": {
            "backgroundcolor": "#E5ECF6",
            "gridcolor": "white",
            "gridwidth": 2,
            "linecolor": "white",
            "showbackground": true,
            "ticks": "",
            "zerolinecolor": "white"
           }
          },
          "shapedefaults": {
           "line": {
            "color": "#2a3f5f"
           }
          },
          "ternary": {
           "aaxis": {
            "gridcolor": "white",
            "linecolor": "white",
            "ticks": ""
           },
           "baxis": {
            "gridcolor": "white",
            "linecolor": "white",
            "ticks": ""
           },
           "bgcolor": "#E5ECF6",
           "caxis": {
            "gridcolor": "white",
            "linecolor": "white",
            "ticks": ""
           }
          },
          "title": {
           "x": 0.05
          },
          "xaxis": {
           "automargin": true,
           "gridcolor": "white",
           "linecolor": "white",
           "ticks": "",
           "title": {
            "standoff": 15
           },
           "zerolinecolor": "white",
           "zerolinewidth": 2
          },
          "yaxis": {
           "automargin": true,
           "gridcolor": "white",
           "linecolor": "white",
           "ticks": "",
           "title": {
            "standoff": 15
           },
           "zerolinecolor": "white",
           "zerolinewidth": 2
          }
         }
        },
        "title": {
         "text": "Box Plot Quantitative Variables"
        },
        "xaxis": {
         "anchor": "y",
         "domain": [
          0,
          0.1388888888888889
         ]
        },
        "xaxis2": {
         "anchor": "y2",
         "domain": [
          0.17222222222222222,
          0.3111111111111111
         ]
        },
        "xaxis3": {
         "anchor": "y3",
         "domain": [
          0.34444444444444444,
          0.48333333333333334
         ]
        },
        "xaxis4": {
         "anchor": "y4",
         "domain": [
          0.5166666666666667,
          0.6555555555555557
         ]
        },
        "xaxis5": {
         "anchor": "y5",
         "domain": [
          0.6888888888888889,
          0.8277777777777777
         ]
        },
        "xaxis6": {
         "anchor": "y6",
         "domain": [
          0.861111111111111,
          1
         ]
        },
        "yaxis": {
         "anchor": "x",
         "domain": [
          0,
          1
         ],
         "title": {
          "text": "Value Range"
         }
        },
        "yaxis2": {
         "anchor": "x2",
         "domain": [
          0,
          1
         ]
        },
        "yaxis3": {
         "anchor": "x3",
         "domain": [
          0,
          1
         ]
        },
        "yaxis4": {
         "anchor": "x4",
         "domain": [
          0,
          1
         ]
        },
        "yaxis5": {
         "anchor": "x5",
         "domain": [
          0,
          1
         ]
        },
        "yaxis6": {
         "anchor": "x6",
         "domain": [
          0,
          1
         ]
        }
       }
      },
      "text/html": [
       "<div>\n",
       "        \n",
       "        \n",
       "            <div id=\"3f216849-d54d-4e7b-9516-feb440e3491d\" class=\"plotly-graph-div\" style=\"height:525px; width:100%;\"></div>\n",
       "            <script type=\"text/javascript\">\n",
       "                require([\"plotly\"], function(Plotly) {\n",
       "                    window.PLOTLYENV=window.PLOTLYENV || {};\n",
       "                    \n",
       "                if (document.getElementById(\"3f216849-d54d-4e7b-9516-feb440e3491d\")) {\n",
       "                    Plotly.newPlot(\n",
       "                        '3f216849-d54d-4e7b-9516-feb440e3491d',\n",
       "                        [{\"boxpoints\": \"outliers\", \"name\": \"population\", \"type\": \"box\", \"xaxis\": \"x\", \"y\": [27657145, 28875, 2886026, 40400000, 57100, 78014, 25868000, 13452, 1000, 86295, 43590400, 2994400, 107394, 24117360, 8725931, 9730500, 378040, 1404900, 161006790, 285000, 9498700, 11319511, 370300, 10653654, 61954, 775620, 10985059, 17408, 3531159, 2141206, 0, 206135893, 3000, 300, 28514, 114743, 411900, 7153784, 19034397, 10114505, 15626444, 22709892, 36155487, 531239, 58238, 4998000, 14497000, 18191900, 1377422166, 2072, 550, 48759958, 806153, 4741000, 85026000, 18100, 4890379, 4190669, 11239004, 154843, 847000, 10558524, 5717014, 900000, 71293, 10075045, 16545799, 91290000, 6520675, 1222442, 5352000, 1315944, 92206005, 2563, 49376, 867000, 5491817, 66710000, 254541, 271800, 140, 1802278, 1882450, 3720400, 81770900, 27670174, 33140, 10858018, 55847, 103328, 400132, 184200, 16176133, 62999, 12947000, 1547777, 746900, 11078033, 0, 451, 8576532, 7324300, 9823000, 334300, 1295210000, 258705000, 22671331, 79369900, 37883543, 6378000, 84497, 8527400, 60665551, 2723246, 126960000, 100800, 9531712, 17753200, 47251000, 113400, 4183658, 6047800, 6492400, 1961600, 5988000, 1894194, 4615000, 6385000, 37623, 2872294, 576200, 649100, 2058539, 22434363, 16832910, 31405416, 344023, 18135000, 425384, 54880, 378243, 3718678, 1262879, 226915, 122273473, 102800, 3553100, 38400, 3093100, 621810, 4922, 33337529, 26423700, 51419420, 2324388, 10084, 28431500, 17019800, 268767, 4697854, 6262703, 20715000, 186988000, 1470, 2302, 25281000, 56940, 5223256, 4420133, 194125062, 17950, 4682467, 3814672, 8083700, 6854536, 31488700, 103279800, 56, 38437239, 10374822, 3474182, 2587564, 1733842, 840974, 19861408, 146599183, 11553188, 9417, 4255, 46204, 186000, 36979, 6069, 109991, 194899, 33005, 187356, 32248200, 14799859, 7076372, 91400, 7075641, 5535000, 38247, 5426252, 2064188, 642000, 11079000, 55653654, 30, 50801405, 12131000, 46438422, 20966000, 39598700, 541638, 2562, 1132657, 9894888, 8341600, 18564000, 23503349, 8593600, 55155000, 65327652, 1167242, 7143000, 1411, 103252, 1349667, 11154400, 78741053, 4751120, 31458, 10640, 33860700, 42692393, 9856000, 65110000, 323947000, 3480222, 31576400, 277500, 31028700, 92700000, 11750, 510713, 27478000, 15933883, 14240168], \"yaxis\": \"y\"}, {\"boxpoints\": \"outliers\", \"name\": \"area\", \"type\": \"box\", \"xaxis\": \"x2\", \"y\": [652230.0, 1580.0, 28748.0, 2381741.0, 199.0, 468.0, 1246700.0, 91.0, 14000000.0, 442.0, 2780400.0, 29743.0, 180.0, 7692024.0, 83871.0, 86600.0, 13943.0, 765.0, 147570.0, 430.0, 207600.0, 30528.0, 22966.0, 112622.0, 54.0, 38394.0, 1098581.0, 294.0, 51209.0, 582000.0, 49.0, 8515767.0, 60.0, 34.2, 151.0, 346.36, 5765.0, 110879.0, 272967.0, 27834.0, 181035.0, 475442.0, 9984670.0, 4033.0, 264.0, 622984.0, 1284000.0, 756102.0, 9640011.0, 135.0, 14.0, 1141748.0, 1862.0, 342000.0, 2344858.0, 236.0, 51100.0, 56594.0, 109884.0, 444.0, 9251.0, 78865.0, 43094.0, 23200.0, 751.0, 48671.0, 276841.0, 1002450.0, 21041.0, 28051.0, 117600.0, 45227.0, 1104300.0, 12173.0, 1393.0, 18272.0, 338424.0, 640679.0, 83534.0, 4167.0, 7747.0, 267668.0, 11295.0, 69700.0, 357114.0, 238533.0, 6.0, 131990.0, 2166086.0, 344.0, 1628.0, 549.0, 108889.0, 78.0, 245857.0, 36125.0, 214969.0, 27750.0, 412.0, 0.44, 112492.0, 1104.0, 93028.0, 103000.0, 3287590.0, 1904569.0, 322463.0, 1648195.0, 438317.0, 70273.0, 572.0, 20770.0, 301336.0, 10991.0, 377930.0, 116.0, 89342.0, 2724900.0, 580367.0, 811.0, 17818.0, 199951.0, 236800.0, 64559.0, 10452.0, 30355.0, 111369.0, 1759540.0, 160.0, 65300.0, 2586.0, 30.0, 25713.0, 587041.0, 118484.0, 330803.0, 300.0, 1240192.0, 316.0, 181.0, 1128.0, 1030700.0, 2040.0, 374.0, 1964375.0, 702.0, 33846.0, 2.02, 1564110.0, 13812.0, 102.0, 446550.0, 801590.0, 676578.0, 825615.0, 21.0, 147181.0, 41850.0, 18575.0, 270467.0, 130373.0, 1267000.0, 923768.0, 260.0, 36.0, 120538.0, 464.0, 323802.0, 309500.0, 881912.0, 459.0, 6020.0, 75417.0, 462840.0, 406752.0, 1285216.0, 342353.0, 47.0, 312679.0, 92090.0, 8870.0, 11586.0, 10908.0, 2511.0, 238391.0, 17124442.0, 26338.0, 21.0, 394.0, 261.0, 616.0, 53.0, 242.0, 389.0, 2842.0, 61.0, 964.0, 2149690.0, 196722.0, 88361.0, 452.0, 71740.0, 710.0, 34.0, 49037.0, 20273.0, 28896.0, 637657.0, 1221037.0, 3903.0, 100210.0, 619745.0, 505992.0, 65610.0, 1886068.0, 163820.0, 377.0, 17364.0, 450295.0, 41284.0, 185180.0, 36193.0, 143100.0, 945087.0, 513120.0, 14874.0, 56785.0, 12.0, 747.0, 5130.0, 163610.0, 783562.0, 488100.0, 948.0, 26.0, 241550.0, 603700.0, 83600.0, 242900.0, 9629091.0, 181034.0, 447400.0, 12189.0, 916445.0, 331212.0, 142.0, 266000.0, 527968.0, 752612.0, 390757.0], \"yaxis\": \"y2\"}, {\"boxpoints\": \"outliers\", \"name\": \"popDensity\", \"type\": \"box\", \"xaxis\": \"x3\", \"y\": [42.4, 18.28, 100.39, 16.96, 286.93, 166.7, 20.75, 147.82, 0.0, 195.24, 15.68, 100.68, 596.63, 3.14, 104.04, 112.36, 27.11, 1836.47, 1091.05, 662.79, 45.75, 370.79, 16.12, 94.6, 1147.3, 20.2, 10.0, 59.21, 68.96, 3.68, 0.0, 24.21, 50.0, 8.77, 188.83, 331.28, 71.45, 64.52, 69.73, 363.39, 86.32, 47.77, 3.62, 131.72, 220.6, 8.02, 11.29, 24.06, 142.89, 15.35, 39.29, 42.71, 432.95, 13.86, 36.26, 76.69, 95.7, 74.05, 102.28, 348.75, 91.56, 133.88, 132.66, 38.79, 94.93, 207.0, 59.77, 91.07, 309.9, 43.58, 45.51, 29.1, 83.5, 0.21, 35.45, 47.45, 16.23, 104.12, 3.05, 65.23, 0.02, 6.73, 166.66, 53.38, 228.98, 116.0, 5523.33, 82.26, 0.03, 300.37, 245.78, 335.52, 148.56, 807.68, 52.66, 42.85, 3.47, 399.21, 0.0, 1025.0, 76.24, 6634.33, 105.59, 3.25, 393.97, 135.83, 70.31, 48.16, 86.43, 90.76, 147.72, 410.56, 201.32, 247.77, 335.94, 868.97, 106.69, 6.52, 81.42, 139.83, 234.8, 30.25, 27.42, 30.38, 572.9, 62.4, 41.44, 3.63, 235.14, 43.99, 222.82, 21636.67, 80.06, 38.22, 142.07, 94.94, 1146.74, 14.62, 1346.15, 303.2, 335.32, 3.61, 619.06, 606.72, 62.25, 146.44, 104.98, 19009.9, 1.98, 45.02, 48.25, 74.66, 32.96, 76.0, 2.82, 480.19, 193.17, 406.69, 14.47, 17.37, 48.04, 16.35, 202.42, 5.65, 63.94, 209.73, 122.72, 16.13, 14.28, 220.12, 39.11, 777.82, 50.58, 17.47, 16.85, 24.5, 301.68, 1.19, 122.93, 112.66, 391.68, 223.34, 158.95, 334.92, 83.31, 8.56, 438.65, 448.43, 10.8, 177.03, 301.95, 697.72, 25.08, 282.75, 68.58, 541.07, 194.35, 15.0, 75.23, 80.08, 202.21, 98.63, 7795.77, 1124.91, 110.66, 101.82, 22.22, 17.37, 45.58, 0.01, 506.95, 19.57, 91.78, 319.55, 21.0, 3.31, 6.8, 65.23, 21.97, 202.05, 100.25, 649.39, 60.05, 58.36, 127.31, 78.48, 125.79, 117.58, 138.22, 263.09, 68.18, 100.49, 9.73, 33.18, 409.23, 140.18, 70.72, 117.89, 268.05, 33.64, 19.22, 70.58, 22.77, 33.86, 279.88, 82.75, 1.92, 52.04, 21.17, 36.44], \"yaxis\": \"y3\"}, {\"boxpoints\": \"outliers\", \"name\": \"gini\", \"type\": \"box\", \"xaxis\": \"x4\", \"y\": [27.8, null, 34.5, 35.3, null, null, 58.6, null, null, null, 44.5, 30.9, null, 30.5, 26.0, 33.7, null, null, 32.1, null, 26.5, 33.0, 53.1, 38.6, null, 38.1, 56.3, null, 36.2, 61.0, null, 54.7, null, null, null, null, null, 28.2, 39.8, 33.3, 37.9, 38.9, 32.6, 50.5, null, 56.3, 39.8, 52.1, 47.0, null, null, 55.9, 64.3, 47.3, null, null, 50.7, 33.7, null, null, null, 26.0, 24.0, 40.0, null, 47.2, 49.3, 30.8, 48.3, null, null, 36.0, 29.8, null, null, 42.8, 26.9, 32.7, null, null, null, 41.5, null, 41.3, 28.3, 42.8, null, 34.3, null, null, null, null, 55.9, null, 39.4, 35.5, 44.5, 59.2, null, null, 57.0, 53.3, 31.2, null, 33.4, 34.0, 41.5, 38.3, 30.9, 34.3, null, 39.2, 36.0, 45.5, 38.1, null, 35.4, 29.0, 47.7, null, null, 36.2, 36.7, 36.6, null, 52.5, 38.2, null, null, 37.6, 30.8, null, 43.2, 44.1, 39.0, 46.2, 37.4, 33.0, null, null, null, 40.5, null, null, 47.0, null, 33.0, null, 36.5, 30.0, null, 40.9, 45.7, null, 63.9, null, 32.8, 30.9, null, 36.2, 40.5, 34.6, 48.8, null, null, null, null, 25.8, null, 30.0, null, 35.5, 51.9, 50.9, 52.4, 48.1, 43.0, null, 34.1, 38.5, null, 41.1, null, null, 30.0, 40.1, 50.8, null, null, null, 42.6, null, null, null, null, null, 50.8, null, 39.2, 27.8, 65.8, 42.5, 48.1, null, 26.0, 31.2, null, null, 63.1, null, 31.3, 45.5, 34.7, 40.3, 35.3, 52.9, null, 51.5, 25.0, 33.7, 35.8, null, 30.8, 37.6, 40.0, 31.9, 34.4, null, null, 40.3, 41.4, 39.0, 40.8, null, null, 44.3, 26.4, null, 34.0, 48.0, 39.7, 36.7, null, 44.8, 35.6, null, null, 37.7, 54.6, null], \"yaxis\": \"y4\"}, {\"boxpoints\": \"outliers\", \"name\": \"borders_count\", \"type\": \"box\", \"xaxis\": \"x5\", \"y\": [6, 0, 4, 7, 0, 2, 4, 0, 0, 0, 5, 4, 0, 0, 8, 5, 0, 0, 2, 0, 5, 4, 2, 4, 0, 2, 5, 0, 3, 4, 0, 10, 0, 0, 0, 0, 1, 5, 6, 3, 3, 6, 1, 0, 0, 6, 6, 3, 15, 0, 0, 5, 0, 5, 9, 0, 2, 5, 0, 0, 1, 4, 1, 3, 0, 1, 2, 3, 2, 2, 3, 2, 6, 0, 0, 0, 3, 8, 2, 0, 0, 3, 1, 4, 9, 3, 1, 4, 0, 0, 0, 0, 4, 0, 6, 2, 3, 1, 0, 1, 3, 1, 7, 0, 8, 3, 5, 7, 6, 1, 0, 4, 6, 0, 0, 0, 4, 5, 5, 0, 2, 4, 5, 4, 2, 1, 3, 6, 2, 4, 3, 1, 5, 0, 3, 3, 0, 7, 0, 0, 0, 4, 0, 0, 3, 0, 2, 1, 2, 5, 0, 3, 6, 5, 4, 0, 2, 2, 0, 0, 2, 7, 4, 0, 0, 3, 0, 3, 3, 4, 0, 3, 2, 1, 3, 5, 0, 0, 7, 1, 0, 1, 4, 0, 5, 14, 4, 0, 0, 0, 0, 2, 0, 0, 0, 1, 0, 7, 5, 8, 0, 2, 0, 1, 5, 4, 0, 3, 6, 0, 1, 6, 5, 1, 7, 4, 0, 2, 2, 5, 5, 0, 4, 8, 4, 1, 3, 0, 0, 0, 2, 8, 4, 0, 0, 5, 7, 2, 1, 2, 2, 5, 0, 3, 3, 0, 3, 2, 8, 4], \"yaxis\": \"y5\"}, {\"boxpoints\": \"outliers\", \"name\": \"count_lang\", \"type\": \"box\", \"xaxis\": \"x6\", \"y\": [3, 1, 1, 1, 2, 1, 1, 1, 2, 1, 2, 2, 2, 1, 1, 1, 1, 1, 1, 1, 2, 3, 2, 1, 1, 1, 3, 1, 3, 2, 3, 1, 1, 1, 1, 1, 1, 1, 2, 2, 1, 2, 2, 1, 1, 2, 2, 1, 1, 1, 1, 1, 2, 2, 5, 1, 1, 1, 1, 3, 3, 2, 1, 2, 1, 1, 1, 1, 1, 2, 3, 1, 1, 1, 1, 4, 2, 1, 1, 1, 1, 1, 1, 1, 1, 1, 1, 1, 1, 1, 1, 3, 1, 2, 2, 1, 1, 2, 1, 4, 1, 2, 1, 1, 2, 1, 1, 1, 2, 2, 2, 2, 1, 1, 1, 2, 1, 2, 2, 1, 1, 2, 1, 1, 2, 2, 1, 1, 1, 1, 3, 2, 1, 2, 2, 1, 1, 1, 2, 2, 1, 1, 1, 1, 1, 1, 1, 1, 1, 4, 1, 1, 1, 1, 2, 2, 1, 1, 1, 2, 1, 1, 1, 1, 1, 1, 2, 3, 1, 2, 1, 1, 1, 1, 2, 1, 1, 1, 1, 1, 2, 1, 2, 1, 1, 1, 3, 1, 1, 1, 1, 3, 1, 1, 2, 1, 1, 1, 1, 1, 2, 1, 4, 2, 1, 1, 1, 2, 10, 1, 1, 1, 1, 2, 2, 1, 1, 2, 1, 3, 1, 1, 2, 2, 1, 1, 1, 1, 2, 1, 1, 1, 2, 1, 1, 2, 1, 1, 1, 1, 1, 2, 3, 1, 1, 1, 1, 1, 1, 3], \"yaxis\": \"y6\"}],\n",
       "                        {\"template\": {\"data\": {\"bar\": [{\"error_x\": {\"color\": \"#2a3f5f\"}, \"error_y\": {\"color\": \"#2a3f5f\"}, \"marker\": {\"line\": {\"color\": \"#E5ECF6\", \"width\": 0.5}}, \"type\": \"bar\"}], \"barpolar\": [{\"marker\": {\"line\": {\"color\": \"#E5ECF6\", \"width\": 0.5}}, \"type\": \"barpolar\"}], \"carpet\": [{\"aaxis\": {\"endlinecolor\": \"#2a3f5f\", \"gridcolor\": \"white\", \"linecolor\": \"white\", \"minorgridcolor\": \"white\", \"startlinecolor\": \"#2a3f5f\"}, \"baxis\": {\"endlinecolor\": \"#2a3f5f\", \"gridcolor\": \"white\", \"linecolor\": \"white\", \"minorgridcolor\": \"white\", \"startlinecolor\": \"#2a3f5f\"}, \"type\": \"carpet\"}], \"choropleth\": [{\"colorbar\": {\"outlinewidth\": 0, \"ticks\": \"\"}, \"type\": \"choropleth\"}], \"contour\": [{\"colorbar\": {\"outlinewidth\": 0, \"ticks\": \"\"}, \"colorscale\": [[0.0, \"#0d0887\"], [0.1111111111111111, \"#46039f\"], [0.2222222222222222, \"#7201a8\"], [0.3333333333333333, \"#9c179e\"], [0.4444444444444444, \"#bd3786\"], [0.5555555555555556, \"#d8576b\"], [0.6666666666666666, \"#ed7953\"], [0.7777777777777778, \"#fb9f3a\"], [0.8888888888888888, \"#fdca26\"], [1.0, \"#f0f921\"]], \"type\": \"contour\"}], \"contourcarpet\": [{\"colorbar\": {\"outlinewidth\": 0, \"ticks\": \"\"}, \"type\": \"contourcarpet\"}], \"heatmap\": [{\"colorbar\": {\"outlinewidth\": 0, \"ticks\": \"\"}, \"colorscale\": [[0.0, \"#0d0887\"], [0.1111111111111111, \"#46039f\"], [0.2222222222222222, \"#7201a8\"], [0.3333333333333333, \"#9c179e\"], [0.4444444444444444, \"#bd3786\"], [0.5555555555555556, \"#d8576b\"], [0.6666666666666666, \"#ed7953\"], [0.7777777777777778, \"#fb9f3a\"], [0.8888888888888888, \"#fdca26\"], [1.0, \"#f0f921\"]], \"type\": \"heatmap\"}], \"heatmapgl\": [{\"colorbar\": {\"outlinewidth\": 0, \"ticks\": \"\"}, \"colorscale\": [[0.0, \"#0d0887\"], [0.1111111111111111, \"#46039f\"], [0.2222222222222222, \"#7201a8\"], [0.3333333333333333, \"#9c179e\"], [0.4444444444444444, \"#bd3786\"], [0.5555555555555556, \"#d8576b\"], [0.6666666666666666, \"#ed7953\"], [0.7777777777777778, \"#fb9f3a\"], [0.8888888888888888, \"#fdca26\"], [1.0, \"#f0f921\"]], \"type\": \"heatmapgl\"}], \"histogram\": [{\"marker\": {\"colorbar\": {\"outlinewidth\": 0, \"ticks\": \"\"}}, \"type\": \"histogram\"}], \"histogram2d\": [{\"colorbar\": {\"outlinewidth\": 0, \"ticks\": \"\"}, \"colorscale\": [[0.0, \"#0d0887\"], [0.1111111111111111, \"#46039f\"], [0.2222222222222222, \"#7201a8\"], [0.3333333333333333, \"#9c179e\"], [0.4444444444444444, \"#bd3786\"], [0.5555555555555556, \"#d8576b\"], [0.6666666666666666, \"#ed7953\"], [0.7777777777777778, \"#fb9f3a\"], [0.8888888888888888, \"#fdca26\"], [1.0, \"#f0f921\"]], \"type\": \"histogram2d\"}], \"histogram2dcontour\": [{\"colorbar\": {\"outlinewidth\": 0, \"ticks\": \"\"}, \"colorscale\": [[0.0, \"#0d0887\"], [0.1111111111111111, \"#46039f\"], [0.2222222222222222, \"#7201a8\"], [0.3333333333333333, \"#9c179e\"], [0.4444444444444444, \"#bd3786\"], [0.5555555555555556, \"#d8576b\"], [0.6666666666666666, \"#ed7953\"], [0.7777777777777778, \"#fb9f3a\"], [0.8888888888888888, \"#fdca26\"], [1.0, \"#f0f921\"]], \"type\": \"histogram2dcontour\"}], \"mesh3d\": [{\"colorbar\": {\"outlinewidth\": 0, \"ticks\": \"\"}, \"type\": \"mesh3d\"}], \"parcoords\": [{\"line\": {\"colorbar\": {\"outlinewidth\": 0, \"ticks\": \"\"}}, \"type\": \"parcoords\"}], \"pie\": [{\"automargin\": true, \"type\": \"pie\"}], \"scatter\": [{\"marker\": {\"colorbar\": {\"outlinewidth\": 0, \"ticks\": \"\"}}, \"type\": \"scatter\"}], \"scatter3d\": [{\"line\": {\"colorbar\": {\"outlinewidth\": 0, \"ticks\": \"\"}}, \"marker\": {\"colorbar\": {\"outlinewidth\": 0, \"ticks\": \"\"}}, \"type\": \"scatter3d\"}], \"scattercarpet\": [{\"marker\": {\"colorbar\": {\"outlinewidth\": 0, \"ticks\": \"\"}}, \"type\": \"scattercarpet\"}], \"scattergeo\": [{\"marker\": {\"colorbar\": {\"outlinewidth\": 0, \"ticks\": \"\"}}, \"type\": \"scattergeo\"}], \"scattergl\": [{\"marker\": {\"colorbar\": {\"outlinewidth\": 0, \"ticks\": \"\"}}, \"type\": \"scattergl\"}], \"scattermapbox\": [{\"marker\": {\"colorbar\": {\"outlinewidth\": 0, \"ticks\": \"\"}}, \"type\": \"scattermapbox\"}], \"scatterpolar\": [{\"marker\": {\"colorbar\": {\"outlinewidth\": 0, \"ticks\": \"\"}}, \"type\": \"scatterpolar\"}], \"scatterpolargl\": [{\"marker\": {\"colorbar\": {\"outlinewidth\": 0, \"ticks\": \"\"}}, \"type\": \"scatterpolargl\"}], \"scatterternary\": [{\"marker\": {\"colorbar\": {\"outlinewidth\": 0, \"ticks\": \"\"}}, \"type\": \"scatterternary\"}], \"surface\": [{\"colorbar\": {\"outlinewidth\": 0, \"ticks\": \"\"}, \"colorscale\": [[0.0, \"#0d0887\"], [0.1111111111111111, \"#46039f\"], [0.2222222222222222, \"#7201a8\"], [0.3333333333333333, \"#9c179e\"], [0.4444444444444444, \"#bd3786\"], [0.5555555555555556, \"#d8576b\"], [0.6666666666666666, \"#ed7953\"], [0.7777777777777778, \"#fb9f3a\"], [0.8888888888888888, \"#fdca26\"], [1.0, \"#f0f921\"]], \"type\": \"surface\"}], \"table\": [{\"cells\": {\"fill\": {\"color\": \"#EBF0F8\"}, \"line\": {\"color\": \"white\"}}, \"header\": {\"fill\": {\"color\": \"#C8D4E3\"}, \"line\": {\"color\": \"white\"}}, \"type\": \"table\"}]}, \"layout\": {\"annotationdefaults\": {\"arrowcolor\": \"#2a3f5f\", \"arrowhead\": 0, \"arrowwidth\": 1}, \"coloraxis\": {\"colorbar\": {\"outlinewidth\": 0, \"ticks\": \"\"}}, \"colorscale\": {\"diverging\": [[0, \"#8e0152\"], [0.1, \"#c51b7d\"], [0.2, \"#de77ae\"], [0.3, \"#f1b6da\"], [0.4, \"#fde0ef\"], [0.5, \"#f7f7f7\"], [0.6, \"#e6f5d0\"], [0.7, \"#b8e186\"], [0.8, \"#7fbc41\"], [0.9, \"#4d9221\"], [1, \"#276419\"]], \"sequential\": [[0.0, \"#0d0887\"], [0.1111111111111111, \"#46039f\"], [0.2222222222222222, \"#7201a8\"], [0.3333333333333333, \"#9c179e\"], [0.4444444444444444, \"#bd3786\"], [0.5555555555555556, \"#d8576b\"], [0.6666666666666666, \"#ed7953\"], [0.7777777777777778, \"#fb9f3a\"], [0.8888888888888888, \"#fdca26\"], [1.0, \"#f0f921\"]], \"sequentialminus\": [[0.0, \"#0d0887\"], [0.1111111111111111, \"#46039f\"], [0.2222222222222222, \"#7201a8\"], [0.3333333333333333, \"#9c179e\"], [0.4444444444444444, \"#bd3786\"], [0.5555555555555556, \"#d8576b\"], [0.6666666666666666, \"#ed7953\"], [0.7777777777777778, \"#fb9f3a\"], [0.8888888888888888, \"#fdca26\"], [1.0, \"#f0f921\"]]}, \"colorway\": [\"#636efa\", \"#EF553B\", \"#00cc96\", \"#ab63fa\", \"#FFA15A\", \"#19d3f3\", \"#FF6692\", \"#B6E880\", \"#FF97FF\", \"#FECB52\"], \"font\": {\"color\": \"#2a3f5f\"}, \"geo\": {\"bgcolor\": \"white\", \"lakecolor\": \"white\", \"landcolor\": \"#E5ECF6\", \"showlakes\": true, \"showland\": true, \"subunitcolor\": \"white\"}, \"hoverlabel\": {\"align\": \"left\"}, \"hovermode\": \"closest\", \"mapbox\": {\"style\": \"light\"}, \"paper_bgcolor\": \"white\", \"plot_bgcolor\": \"#E5ECF6\", \"polar\": {\"angularaxis\": {\"gridcolor\": \"white\", \"linecolor\": \"white\", \"ticks\": \"\"}, \"bgcolor\": \"#E5ECF6\", \"radialaxis\": {\"gridcolor\": \"white\", \"linecolor\": \"white\", \"ticks\": \"\"}}, \"scene\": {\"xaxis\": {\"backgroundcolor\": \"#E5ECF6\", \"gridcolor\": \"white\", \"gridwidth\": 2, \"linecolor\": \"white\", \"showbackground\": true, \"ticks\": \"\", \"zerolinecolor\": \"white\"}, \"yaxis\": {\"backgroundcolor\": \"#E5ECF6\", \"gridcolor\": \"white\", \"gridwidth\": 2, \"linecolor\": \"white\", \"showbackground\": true, \"ticks\": \"\", \"zerolinecolor\": \"white\"}, \"zaxis\": {\"backgroundcolor\": \"#E5ECF6\", \"gridcolor\": \"white\", \"gridwidth\": 2, \"linecolor\": \"white\", \"showbackground\": true, \"ticks\": \"\", \"zerolinecolor\": \"white\"}}, \"shapedefaults\": {\"line\": {\"color\": \"#2a3f5f\"}}, \"ternary\": {\"aaxis\": {\"gridcolor\": \"white\", \"linecolor\": \"white\", \"ticks\": \"\"}, \"baxis\": {\"gridcolor\": \"white\", \"linecolor\": \"white\", \"ticks\": \"\"}, \"bgcolor\": \"#E5ECF6\", \"caxis\": {\"gridcolor\": \"white\", \"linecolor\": \"white\", \"ticks\": \"\"}}, \"title\": {\"x\": 0.05}, \"xaxis\": {\"automargin\": true, \"gridcolor\": \"white\", \"linecolor\": \"white\", \"ticks\": \"\", \"title\": {\"standoff\": 15}, \"zerolinecolor\": \"white\", \"zerolinewidth\": 2}, \"yaxis\": {\"automargin\": true, \"gridcolor\": \"white\", \"linecolor\": \"white\", \"ticks\": \"\", \"title\": {\"standoff\": 15}, \"zerolinecolor\": \"white\", \"zerolinewidth\": 2}}}, \"title\": {\"text\": \"Box Plot Quantitative Variables\"}, \"xaxis\": {\"anchor\": \"y\", \"domain\": [0.0, 0.1388888888888889]}, \"xaxis2\": {\"anchor\": \"y2\", \"domain\": [0.17222222222222222, 0.3111111111111111]}, \"xaxis3\": {\"anchor\": \"y3\", \"domain\": [0.34444444444444444, 0.48333333333333334]}, \"xaxis4\": {\"anchor\": \"y4\", \"domain\": [0.5166666666666667, 0.6555555555555557]}, \"xaxis5\": {\"anchor\": \"y5\", \"domain\": [0.6888888888888889, 0.8277777777777777]}, \"xaxis6\": {\"anchor\": \"y6\", \"domain\": [0.861111111111111, 1.0]}, \"yaxis\": {\"anchor\": \"x\", \"domain\": [0.0, 1.0], \"title\": {\"text\": \"Value Range\"}}, \"yaxis2\": {\"anchor\": \"x2\", \"domain\": [0.0, 1.0]}, \"yaxis3\": {\"anchor\": \"x3\", \"domain\": [0.0, 1.0]}, \"yaxis4\": {\"anchor\": \"x4\", \"domain\": [0.0, 1.0]}, \"yaxis5\": {\"anchor\": \"x5\", \"domain\": [0.0, 1.0]}, \"yaxis6\": {\"anchor\": \"x6\", \"domain\": [0.0, 1.0]}},\n",
       "                        {\"responsive\": true}\n",
       "                    ).then(function(){\n",
       "                            \n",
       "var gd = document.getElementById('3f216849-d54d-4e7b-9516-feb440e3491d');\n",
       "var x = new MutationObserver(function (mutations, observer) {{\n",
       "        var display = window.getComputedStyle(gd).display;\n",
       "        if (!display || display === 'none') {{\n",
       "            console.log([gd, 'removed!']);\n",
       "            Plotly.purge(gd);\n",
       "            observer.disconnect();\n",
       "        }}\n",
       "}});\n",
       "\n",
       "// Listen for the removal of the full notebook cells\n",
       "var notebookContainer = gd.closest('#notebook-container');\n",
       "if (notebookContainer) {{\n",
       "    x.observe(notebookContainer, {childList: true});\n",
       "}}\n",
       "\n",
       "// Listen for the clearing of the current output cell\n",
       "var outputEl = gd.closest('.output');\n",
       "if (outputEl) {{\n",
       "    x.observe(outputEl, {childList: true});\n",
       "}}\n",
       "\n",
       "                        })\n",
       "                };\n",
       "                });\n",
       "            </script>\n",
       "        </div>"
      ]
     },
     "metadata": {},
     "output_type": "display_data"
    }
   ],
   "source": [
    "lst = df.describe().columns\n",
    "\n",
    "fig = make_subplots(rows=1, cols=len(lst))\n",
    "\n",
    "for i in range(len(lst)):\n",
    "    fig.add_trace(go.Box(y=df[lst[i]],\n",
    "                         name=lst[i],\n",
    "                         boxpoints='outliers'\n",
    "                        ), row=1, col=i+1)\n",
    "\n",
    "fig.update_layout(title_text=\"Box Plot Quantitative Variables\",\n",
    "                  yaxis_title_text='Value Range')\n",
    "fig.show()"
   ]
  },
  {
   "cell_type": "code",
   "execution_count": 92,
   "metadata": {},
   "outputs": [
    {
     "data": {
      "application/vnd.plotly.v1+json": {
       "config": {
        "plotlyServerURL": "https://plot.ly"
       },
       "data": [
        {
         "histnorm": "probability",
         "name": "population",
         "type": "histogram",
         "x": [
          27657145,
          28875,
          2886026,
          40400000,
          57100,
          78014,
          25868000,
          13452,
          1000,
          86295,
          43590400,
          2994400,
          107394,
          24117360,
          8725931,
          9730500,
          378040,
          1404900,
          161006790,
          285000,
          9498700,
          11319511,
          370300,
          10653654,
          61954,
          775620,
          10985059,
          17408,
          3531159,
          2141206,
          0,
          206135893,
          3000,
          300,
          28514,
          114743,
          411900,
          7153784,
          19034397,
          10114505,
          15626444,
          22709892,
          36155487,
          531239,
          58238,
          4998000,
          14497000,
          18191900,
          1377422166,
          2072,
          550,
          48759958,
          806153,
          4741000,
          85026000,
          18100,
          4890379,
          4190669,
          11239004,
          154843,
          847000,
          10558524,
          5717014,
          900000,
          71293,
          10075045,
          16545799,
          91290000,
          6520675,
          1222442,
          5352000,
          1315944,
          92206005,
          2563,
          49376,
          867000,
          5491817,
          66710000,
          254541,
          271800,
          140,
          1802278,
          1882450,
          3720400,
          81770900,
          27670174,
          33140,
          10858018,
          55847,
          103328,
          400132,
          184200,
          16176133,
          62999,
          12947000,
          1547777,
          746900,
          11078033,
          0,
          451,
          8576532,
          7324300,
          9823000,
          334300,
          1295210000,
          258705000,
          22671331,
          79369900,
          37883543,
          6378000,
          84497,
          8527400,
          60665551,
          2723246,
          126960000,
          100800,
          9531712,
          17753200,
          47251000,
          113400,
          4183658,
          6047800,
          6492400,
          1961600,
          5988000,
          1894194,
          4615000,
          6385000,
          37623,
          2872294,
          576200,
          649100,
          2058539,
          22434363,
          16832910,
          31405416,
          344023,
          18135000,
          425384,
          54880,
          378243,
          3718678,
          1262879,
          226915,
          122273473,
          102800,
          3553100,
          38400,
          3093100,
          621810,
          4922,
          33337529,
          26423700,
          51419420,
          2324388,
          10084,
          28431500,
          17019800,
          268767,
          4697854,
          6262703,
          20715000,
          186988000,
          1470,
          2302,
          25281000,
          56940,
          5223256,
          4420133,
          194125062,
          17950,
          4682467,
          3814672,
          8083700,
          6854536,
          31488700,
          103279800,
          56,
          38437239,
          10374822,
          3474182,
          2587564,
          1733842,
          840974,
          19861408,
          146599183,
          11553188,
          9417,
          4255,
          46204,
          186000,
          36979,
          6069,
          109991,
          194899,
          33005,
          187356,
          32248200,
          14799859,
          7076372,
          91400,
          7075641,
          5535000,
          38247,
          5426252,
          2064188,
          642000,
          11079000,
          55653654,
          30,
          50801405,
          12131000,
          46438422,
          20966000,
          39598700,
          541638,
          2562,
          1132657,
          9894888,
          8341600,
          18564000,
          23503349,
          8593600,
          55155000,
          65327652,
          1167242,
          7143000,
          1411,
          103252,
          1349667,
          11154400,
          78741053,
          4751120,
          31458,
          10640,
          33860700,
          42692393,
          9856000,
          65110000,
          323947000,
          3480222,
          31576400,
          277500,
          31028700,
          92700000,
          11750,
          510713,
          27478000,
          15933883,
          14240168
         ],
         "xaxis": "x",
         "yaxis": "y"
        },
        {
         "histnorm": "probability",
         "name": "area",
         "type": "histogram",
         "x": [
          652230,
          1580,
          28748,
          2381741,
          199,
          468,
          1246700,
          91,
          14000000,
          442,
          2780400,
          29743,
          180,
          7692024,
          83871,
          86600,
          13943,
          765,
          147570,
          430,
          207600,
          30528,
          22966,
          112622,
          54,
          38394,
          1098581,
          294,
          51209,
          582000,
          49,
          8515767,
          60,
          34.2,
          151,
          346.36,
          5765,
          110879,
          272967,
          27834,
          181035,
          475442,
          9984670,
          4033,
          264,
          622984,
          1284000,
          756102,
          9640011,
          135,
          14,
          1141748,
          1862,
          342000,
          2344858,
          236,
          51100,
          56594,
          109884,
          444,
          9251,
          78865,
          43094,
          23200,
          751,
          48671,
          276841,
          1002450,
          21041,
          28051,
          117600,
          45227,
          1104300,
          12173,
          1393,
          18272,
          338424,
          640679,
          83534,
          4167,
          7747,
          267668,
          11295,
          69700,
          357114,
          238533,
          6,
          131990,
          2166086,
          344,
          1628,
          549,
          108889,
          78,
          245857,
          36125,
          214969,
          27750,
          412,
          0.44,
          112492,
          1104,
          93028,
          103000,
          3287590,
          1904569,
          322463,
          1648195,
          438317,
          70273,
          572,
          20770,
          301336,
          10991,
          377930,
          116,
          89342,
          2724900,
          580367,
          811,
          17818,
          199951,
          236800,
          64559,
          10452,
          30355,
          111369,
          1759540,
          160,
          65300,
          2586,
          30,
          25713,
          587041,
          118484,
          330803,
          300,
          1240192,
          316,
          181,
          1128,
          1030700,
          2040,
          374,
          1964375,
          702,
          33846,
          2.02,
          1564110,
          13812,
          102,
          446550,
          801590,
          676578,
          825615,
          21,
          147181,
          41850,
          18575,
          270467,
          130373,
          1267000,
          923768,
          260,
          36,
          120538,
          464,
          323802,
          309500,
          881912,
          459,
          6020,
          75417,
          462840,
          406752,
          1285216,
          342353,
          47,
          312679,
          92090,
          8870,
          11586,
          10908,
          2511,
          238391,
          17124442,
          26338,
          21,
          394,
          261,
          616,
          53,
          242,
          389,
          2842,
          61,
          964,
          2149690,
          196722,
          88361,
          452,
          71740,
          710,
          34,
          49037,
          20273,
          28896,
          637657,
          1221037,
          3903,
          100210,
          619745,
          505992,
          65610,
          1886068,
          163820,
          377,
          17364,
          450295,
          41284,
          185180,
          36193,
          143100,
          945087,
          513120,
          14874,
          56785,
          12,
          747,
          5130,
          163610,
          783562,
          488100,
          948,
          26,
          241550,
          603700,
          83600,
          242900,
          9629091,
          181034,
          447400,
          12189,
          916445,
          331212,
          142,
          266000,
          527968,
          752612,
          390757
         ],
         "xaxis": "x2",
         "yaxis": "y2"
        },
        {
         "histnorm": "probability",
         "name": "popDensity",
         "type": "histogram",
         "x": [
          42.4,
          18.28,
          100.39,
          16.96,
          286.93,
          166.7,
          20.75,
          147.82,
          0,
          195.24,
          15.68,
          100.68,
          596.63,
          3.14,
          104.04,
          112.36,
          27.11,
          1836.47,
          1091.05,
          662.79,
          45.75,
          370.79,
          16.12,
          94.6,
          1147.3,
          20.2,
          10,
          59.21,
          68.96,
          3.68,
          0,
          24.21,
          50,
          8.77,
          188.83,
          331.28,
          71.45,
          64.52,
          69.73,
          363.39,
          86.32,
          47.77,
          3.62,
          131.72,
          220.6,
          8.02,
          11.29,
          24.06,
          142.89,
          15.35,
          39.29,
          42.71,
          432.95,
          13.86,
          36.26,
          76.69,
          95.7,
          74.05,
          102.28,
          348.75,
          91.56,
          133.88,
          132.66,
          38.79,
          94.93,
          207,
          59.77,
          91.07,
          309.9,
          43.58,
          45.51,
          29.1,
          83.5,
          0.21,
          35.45,
          47.45,
          16.23,
          104.12,
          3.05,
          65.23,
          0.02,
          6.73,
          166.66,
          53.38,
          228.98,
          116,
          5523.33,
          82.26,
          0.03,
          300.37,
          245.78,
          335.52,
          148.56,
          807.68,
          52.66,
          42.85,
          3.47,
          399.21,
          0,
          1025,
          76.24,
          6634.33,
          105.59,
          3.25,
          393.97,
          135.83,
          70.31,
          48.16,
          86.43,
          90.76,
          147.72,
          410.56,
          201.32,
          247.77,
          335.94,
          868.97,
          106.69,
          6.52,
          81.42,
          139.83,
          234.8,
          30.25,
          27.42,
          30.38,
          572.9,
          62.4,
          41.44,
          3.63,
          235.14,
          43.99,
          222.82,
          21636.67,
          80.06,
          38.22,
          142.07,
          94.94,
          1146.74,
          14.62,
          1346.15,
          303.2,
          335.32,
          3.61,
          619.06,
          606.72,
          62.25,
          146.44,
          104.98,
          19009.9,
          1.98,
          45.02,
          48.25,
          74.66,
          32.96,
          76,
          2.82,
          480.19,
          193.17,
          406.69,
          14.47,
          17.37,
          48.04,
          16.35,
          202.42,
          5.65,
          63.94,
          209.73,
          122.72,
          16.13,
          14.28,
          220.12,
          39.11,
          777.82,
          50.58,
          17.47,
          16.85,
          24.5,
          301.68,
          1.19,
          122.93,
          112.66,
          391.68,
          223.34,
          158.95,
          334.92,
          83.31,
          8.56,
          438.65,
          448.43,
          10.8,
          177.03,
          301.95,
          697.72,
          25.08,
          282.75,
          68.58,
          541.07,
          194.35,
          15,
          75.23,
          80.08,
          202.21,
          98.63,
          7795.77,
          1124.91,
          110.66,
          101.82,
          22.22,
          17.37,
          45.58,
          0.01,
          506.95,
          19.57,
          91.78,
          319.55,
          21,
          3.31,
          6.8,
          65.23,
          21.97,
          202.05,
          100.25,
          649.39,
          60.05,
          58.36,
          127.31,
          78.48,
          125.79,
          117.58,
          138.22,
          263.09,
          68.18,
          100.49,
          9.73,
          33.18,
          409.23,
          140.18,
          70.72,
          117.89,
          268.05,
          33.64,
          19.22,
          70.58,
          22.77,
          33.86,
          279.88,
          82.75,
          1.92,
          52.04,
          21.17,
          36.44
         ],
         "xaxis": "x3",
         "yaxis": "y3"
        },
        {
         "histnorm": "probability",
         "name": "gini",
         "type": "histogram",
         "x": [
          27.8,
          null,
          34.5,
          35.3,
          null,
          null,
          58.6,
          null,
          null,
          null,
          44.5,
          30.9,
          null,
          30.5,
          26,
          33.7,
          null,
          null,
          32.1,
          null,
          26.5,
          33,
          53.1,
          38.6,
          null,
          38.1,
          56.3,
          null,
          36.2,
          61,
          null,
          54.7,
          null,
          null,
          null,
          null,
          null,
          28.2,
          39.8,
          33.3,
          37.9,
          38.9,
          32.6,
          50.5,
          null,
          56.3,
          39.8,
          52.1,
          47,
          null,
          null,
          55.9,
          64.3,
          47.3,
          null,
          null,
          50.7,
          33.7,
          null,
          null,
          null,
          26,
          24,
          40,
          null,
          47.2,
          49.3,
          30.8,
          48.3,
          null,
          null,
          36,
          29.8,
          null,
          null,
          42.8,
          26.9,
          32.7,
          null,
          null,
          null,
          41.5,
          null,
          41.3,
          28.3,
          42.8,
          null,
          34.3,
          null,
          null,
          null,
          null,
          55.9,
          null,
          39.4,
          35.5,
          44.5,
          59.2,
          null,
          null,
          57,
          53.3,
          31.2,
          null,
          33.4,
          34,
          41.5,
          38.3,
          30.9,
          34.3,
          null,
          39.2,
          36,
          45.5,
          38.1,
          null,
          35.4,
          29,
          47.7,
          null,
          null,
          36.2,
          36.7,
          36.6,
          null,
          52.5,
          38.2,
          null,
          null,
          37.6,
          30.8,
          null,
          43.2,
          44.1,
          39,
          46.2,
          37.4,
          33,
          null,
          null,
          null,
          40.5,
          null,
          null,
          47,
          null,
          33,
          null,
          36.5,
          30,
          null,
          40.9,
          45.7,
          null,
          63.9,
          null,
          32.8,
          30.9,
          null,
          36.2,
          40.5,
          34.6,
          48.8,
          null,
          null,
          null,
          null,
          25.8,
          null,
          30,
          null,
          35.5,
          51.9,
          50.9,
          52.4,
          48.1,
          43,
          null,
          34.1,
          38.5,
          null,
          41.1,
          null,
          null,
          30,
          40.1,
          50.8,
          null,
          null,
          null,
          42.6,
          null,
          null,
          null,
          null,
          null,
          50.8,
          null,
          39.2,
          27.8,
          65.8,
          42.5,
          48.1,
          null,
          26,
          31.2,
          null,
          null,
          63.1,
          null,
          31.3,
          45.5,
          34.7,
          40.3,
          35.3,
          52.9,
          null,
          51.5,
          25,
          33.7,
          35.8,
          null,
          30.8,
          37.6,
          40,
          31.9,
          34.4,
          null,
          null,
          40.3,
          41.4,
          39,
          40.8,
          null,
          null,
          44.3,
          26.4,
          null,
          34,
          48,
          39.7,
          36.7,
          null,
          44.8,
          35.6,
          null,
          null,
          37.7,
          54.6,
          null
         ],
         "xaxis": "x4",
         "yaxis": "y4"
        },
        {
         "histnorm": "probability",
         "name": "borders_count",
         "type": "histogram",
         "x": [
          6,
          0,
          4,
          7,
          0,
          2,
          4,
          0,
          0,
          0,
          5,
          4,
          0,
          0,
          8,
          5,
          0,
          0,
          2,
          0,
          5,
          4,
          2,
          4,
          0,
          2,
          5,
          0,
          3,
          4,
          0,
          10,
          0,
          0,
          0,
          0,
          1,
          5,
          6,
          3,
          3,
          6,
          1,
          0,
          0,
          6,
          6,
          3,
          15,
          0,
          0,
          5,
          0,
          5,
          9,
          0,
          2,
          5,
          0,
          0,
          1,
          4,
          1,
          3,
          0,
          1,
          2,
          3,
          2,
          2,
          3,
          2,
          6,
          0,
          0,
          0,
          3,
          8,
          2,
          0,
          0,
          3,
          1,
          4,
          9,
          3,
          1,
          4,
          0,
          0,
          0,
          0,
          4,
          0,
          6,
          2,
          3,
          1,
          0,
          1,
          3,
          1,
          7,
          0,
          8,
          3,
          5,
          7,
          6,
          1,
          0,
          4,
          6,
          0,
          0,
          0,
          4,
          5,
          5,
          0,
          2,
          4,
          5,
          4,
          2,
          1,
          3,
          6,
          2,
          4,
          3,
          1,
          5,
          0,
          3,
          3,
          0,
          7,
          0,
          0,
          0,
          4,
          0,
          0,
          3,
          0,
          2,
          1,
          2,
          5,
          0,
          3,
          6,
          5,
          4,
          0,
          2,
          2,
          0,
          0,
          2,
          7,
          4,
          0,
          0,
          3,
          0,
          3,
          3,
          4,
          0,
          3,
          2,
          1,
          3,
          5,
          0,
          0,
          7,
          1,
          0,
          1,
          4,
          0,
          5,
          14,
          4,
          0,
          0,
          0,
          0,
          2,
          0,
          0,
          0,
          1,
          0,
          7,
          5,
          8,
          0,
          2,
          0,
          1,
          5,
          4,
          0,
          3,
          6,
          0,
          1,
          6,
          5,
          1,
          7,
          4,
          0,
          2,
          2,
          5,
          5,
          0,
          4,
          8,
          4,
          1,
          3,
          0,
          0,
          0,
          2,
          8,
          4,
          0,
          0,
          5,
          7,
          2,
          1,
          2,
          2,
          5,
          0,
          3,
          3,
          0,
          3,
          2,
          8,
          4
         ],
         "xaxis": "x5",
         "yaxis": "y5"
        },
        {
         "histnorm": "probability",
         "name": "count_lang",
         "type": "histogram",
         "x": [
          3,
          1,
          1,
          1,
          2,
          1,
          1,
          1,
          2,
          1,
          2,
          2,
          2,
          1,
          1,
          1,
          1,
          1,
          1,
          1,
          2,
          3,
          2,
          1,
          1,
          1,
          3,
          1,
          3,
          2,
          3,
          1,
          1,
          1,
          1,
          1,
          1,
          1,
          2,
          2,
          1,
          2,
          2,
          1,
          1,
          2,
          2,
          1,
          1,
          1,
          1,
          1,
          2,
          2,
          5,
          1,
          1,
          1,
          1,
          3,
          3,
          2,
          1,
          2,
          1,
          1,
          1,
          1,
          1,
          2,
          3,
          1,
          1,
          1,
          1,
          4,
          2,
          1,
          1,
          1,
          1,
          1,
          1,
          1,
          1,
          1,
          1,
          1,
          1,
          1,
          1,
          3,
          1,
          2,
          2,
          1,
          1,
          2,
          1,
          4,
          1,
          2,
          1,
          1,
          2,
          1,
          1,
          1,
          2,
          2,
          2,
          2,
          1,
          1,
          1,
          2,
          1,
          2,
          2,
          1,
          1,
          2,
          1,
          1,
          2,
          2,
          1,
          1,
          1,
          1,
          3,
          2,
          1,
          2,
          2,
          1,
          1,
          1,
          2,
          2,
          1,
          1,
          1,
          1,
          1,
          1,
          1,
          1,
          1,
          4,
          1,
          1,
          1,
          1,
          2,
          2,
          1,
          1,
          1,
          2,
          1,
          1,
          1,
          1,
          1,
          1,
          2,
          3,
          1,
          2,
          1,
          1,
          1,
          1,
          2,
          1,
          1,
          1,
          1,
          1,
          2,
          1,
          2,
          1,
          1,
          1,
          3,
          1,
          1,
          1,
          1,
          3,
          1,
          1,
          2,
          1,
          1,
          1,
          1,
          1,
          2,
          1,
          4,
          2,
          1,
          1,
          1,
          2,
          10,
          1,
          1,
          1,
          1,
          2,
          2,
          1,
          1,
          2,
          1,
          3,
          1,
          1,
          2,
          2,
          1,
          1,
          1,
          1,
          2,
          1,
          1,
          1,
          2,
          1,
          1,
          2,
          1,
          1,
          1,
          1,
          1,
          2,
          3,
          1,
          1,
          1,
          1,
          1,
          1,
          3
         ],
         "xaxis": "x6",
         "yaxis": "y6"
        }
       ],
       "layout": {
        "bargap": 0.2,
        "bargroupgap": 0.1,
        "template": {
         "data": {
          "bar": [
           {
            "error_x": {
             "color": "#2a3f5f"
            },
            "error_y": {
             "color": "#2a3f5f"
            },
            "marker": {
             "line": {
              "color": "#E5ECF6",
              "width": 0.5
             }
            },
            "type": "bar"
           }
          ],
          "barpolar": [
           {
            "marker": {
             "line": {
              "color": "#E5ECF6",
              "width": 0.5
             }
            },
            "type": "barpolar"
           }
          ],
          "carpet": [
           {
            "aaxis": {
             "endlinecolor": "#2a3f5f",
             "gridcolor": "white",
             "linecolor": "white",
             "minorgridcolor": "white",
             "startlinecolor": "#2a3f5f"
            },
            "baxis": {
             "endlinecolor": "#2a3f5f",
             "gridcolor": "white",
             "linecolor": "white",
             "minorgridcolor": "white",
             "startlinecolor": "#2a3f5f"
            },
            "type": "carpet"
           }
          ],
          "choropleth": [
           {
            "colorbar": {
             "outlinewidth": 0,
             "ticks": ""
            },
            "type": "choropleth"
           }
          ],
          "contour": [
           {
            "colorbar": {
             "outlinewidth": 0,
             "ticks": ""
            },
            "colorscale": [
             [
              0,
              "#0d0887"
             ],
             [
              0.1111111111111111,
              "#46039f"
             ],
             [
              0.2222222222222222,
              "#7201a8"
             ],
             [
              0.3333333333333333,
              "#9c179e"
             ],
             [
              0.4444444444444444,
              "#bd3786"
             ],
             [
              0.5555555555555556,
              "#d8576b"
             ],
             [
              0.6666666666666666,
              "#ed7953"
             ],
             [
              0.7777777777777778,
              "#fb9f3a"
             ],
             [
              0.8888888888888888,
              "#fdca26"
             ],
             [
              1,
              "#f0f921"
             ]
            ],
            "type": "contour"
           }
          ],
          "contourcarpet": [
           {
            "colorbar": {
             "outlinewidth": 0,
             "ticks": ""
            },
            "type": "contourcarpet"
           }
          ],
          "heatmap": [
           {
            "colorbar": {
             "outlinewidth": 0,
             "ticks": ""
            },
            "colorscale": [
             [
              0,
              "#0d0887"
             ],
             [
              0.1111111111111111,
              "#46039f"
             ],
             [
              0.2222222222222222,
              "#7201a8"
             ],
             [
              0.3333333333333333,
              "#9c179e"
             ],
             [
              0.4444444444444444,
              "#bd3786"
             ],
             [
              0.5555555555555556,
              "#d8576b"
             ],
             [
              0.6666666666666666,
              "#ed7953"
             ],
             [
              0.7777777777777778,
              "#fb9f3a"
             ],
             [
              0.8888888888888888,
              "#fdca26"
             ],
             [
              1,
              "#f0f921"
             ]
            ],
            "type": "heatmap"
           }
          ],
          "heatmapgl": [
           {
            "colorbar": {
             "outlinewidth": 0,
             "ticks": ""
            },
            "colorscale": [
             [
              0,
              "#0d0887"
             ],
             [
              0.1111111111111111,
              "#46039f"
             ],
             [
              0.2222222222222222,
              "#7201a8"
             ],
             [
              0.3333333333333333,
              "#9c179e"
             ],
             [
              0.4444444444444444,
              "#bd3786"
             ],
             [
              0.5555555555555556,
              "#d8576b"
             ],
             [
              0.6666666666666666,
              "#ed7953"
             ],
             [
              0.7777777777777778,
              "#fb9f3a"
             ],
             [
              0.8888888888888888,
              "#fdca26"
             ],
             [
              1,
              "#f0f921"
             ]
            ],
            "type": "heatmapgl"
           }
          ],
          "histogram": [
           {
            "marker": {
             "colorbar": {
              "outlinewidth": 0,
              "ticks": ""
             }
            },
            "type": "histogram"
           }
          ],
          "histogram2d": [
           {
            "colorbar": {
             "outlinewidth": 0,
             "ticks": ""
            },
            "colorscale": [
             [
              0,
              "#0d0887"
             ],
             [
              0.1111111111111111,
              "#46039f"
             ],
             [
              0.2222222222222222,
              "#7201a8"
             ],
             [
              0.3333333333333333,
              "#9c179e"
             ],
             [
              0.4444444444444444,
              "#bd3786"
             ],
             [
              0.5555555555555556,
              "#d8576b"
             ],
             [
              0.6666666666666666,
              "#ed7953"
             ],
             [
              0.7777777777777778,
              "#fb9f3a"
             ],
             [
              0.8888888888888888,
              "#fdca26"
             ],
             [
              1,
              "#f0f921"
             ]
            ],
            "type": "histogram2d"
           }
          ],
          "histogram2dcontour": [
           {
            "colorbar": {
             "outlinewidth": 0,
             "ticks": ""
            },
            "colorscale": [
             [
              0,
              "#0d0887"
             ],
             [
              0.1111111111111111,
              "#46039f"
             ],
             [
              0.2222222222222222,
              "#7201a8"
             ],
             [
              0.3333333333333333,
              "#9c179e"
             ],
             [
              0.4444444444444444,
              "#bd3786"
             ],
             [
              0.5555555555555556,
              "#d8576b"
             ],
             [
              0.6666666666666666,
              "#ed7953"
             ],
             [
              0.7777777777777778,
              "#fb9f3a"
             ],
             [
              0.8888888888888888,
              "#fdca26"
             ],
             [
              1,
              "#f0f921"
             ]
            ],
            "type": "histogram2dcontour"
           }
          ],
          "mesh3d": [
           {
            "colorbar": {
             "outlinewidth": 0,
             "ticks": ""
            },
            "type": "mesh3d"
           }
          ],
          "parcoords": [
           {
            "line": {
             "colorbar": {
              "outlinewidth": 0,
              "ticks": ""
             }
            },
            "type": "parcoords"
           }
          ],
          "pie": [
           {
            "automargin": true,
            "type": "pie"
           }
          ],
          "scatter": [
           {
            "marker": {
             "colorbar": {
              "outlinewidth": 0,
              "ticks": ""
             }
            },
            "type": "scatter"
           }
          ],
          "scatter3d": [
           {
            "line": {
             "colorbar": {
              "outlinewidth": 0,
              "ticks": ""
             }
            },
            "marker": {
             "colorbar": {
              "outlinewidth": 0,
              "ticks": ""
             }
            },
            "type": "scatter3d"
           }
          ],
          "scattercarpet": [
           {
            "marker": {
             "colorbar": {
              "outlinewidth": 0,
              "ticks": ""
             }
            },
            "type": "scattercarpet"
           }
          ],
          "scattergeo": [
           {
            "marker": {
             "colorbar": {
              "outlinewidth": 0,
              "ticks": ""
             }
            },
            "type": "scattergeo"
           }
          ],
          "scattergl": [
           {
            "marker": {
             "colorbar": {
              "outlinewidth": 0,
              "ticks": ""
             }
            },
            "type": "scattergl"
           }
          ],
          "scattermapbox": [
           {
            "marker": {
             "colorbar": {
              "outlinewidth": 0,
              "ticks": ""
             }
            },
            "type": "scattermapbox"
           }
          ],
          "scatterpolar": [
           {
            "marker": {
             "colorbar": {
              "outlinewidth": 0,
              "ticks": ""
             }
            },
            "type": "scatterpolar"
           }
          ],
          "scatterpolargl": [
           {
            "marker": {
             "colorbar": {
              "outlinewidth": 0,
              "ticks": ""
             }
            },
            "type": "scatterpolargl"
           }
          ],
          "scatterternary": [
           {
            "marker": {
             "colorbar": {
              "outlinewidth": 0,
              "ticks": ""
             }
            },
            "type": "scatterternary"
           }
          ],
          "surface": [
           {
            "colorbar": {
             "outlinewidth": 0,
             "ticks": ""
            },
            "colorscale": [
             [
              0,
              "#0d0887"
             ],
             [
              0.1111111111111111,
              "#46039f"
             ],
             [
              0.2222222222222222,
              "#7201a8"
             ],
             [
              0.3333333333333333,
              "#9c179e"
             ],
             [
              0.4444444444444444,
              "#bd3786"
             ],
             [
              0.5555555555555556,
              "#d8576b"
             ],
             [
              0.6666666666666666,
              "#ed7953"
             ],
             [
              0.7777777777777778,
              "#fb9f3a"
             ],
             [
              0.8888888888888888,
              "#fdca26"
             ],
             [
              1,
              "#f0f921"
             ]
            ],
            "type": "surface"
           }
          ],
          "table": [
           {
            "cells": {
             "fill": {
              "color": "#EBF0F8"
             },
             "line": {
              "color": "white"
             }
            },
            "header": {
             "fill": {
              "color": "#C8D4E3"
             },
             "line": {
              "color": "white"
             }
            },
            "type": "table"
           }
          ]
         },
         "layout": {
          "annotationdefaults": {
           "arrowcolor": "#2a3f5f",
           "arrowhead": 0,
           "arrowwidth": 1
          },
          "coloraxis": {
           "colorbar": {
            "outlinewidth": 0,
            "ticks": ""
           }
          },
          "colorscale": {
           "diverging": [
            [
             0,
             "#8e0152"
            ],
            [
             0.1,
             "#c51b7d"
            ],
            [
             0.2,
             "#de77ae"
            ],
            [
             0.3,
             "#f1b6da"
            ],
            [
             0.4,
             "#fde0ef"
            ],
            [
             0.5,
             "#f7f7f7"
            ],
            [
             0.6,
             "#e6f5d0"
            ],
            [
             0.7,
             "#b8e186"
            ],
            [
             0.8,
             "#7fbc41"
            ],
            [
             0.9,
             "#4d9221"
            ],
            [
             1,
             "#276419"
            ]
           ],
           "sequential": [
            [
             0,
             "#0d0887"
            ],
            [
             0.1111111111111111,
             "#46039f"
            ],
            [
             0.2222222222222222,
             "#7201a8"
            ],
            [
             0.3333333333333333,
             "#9c179e"
            ],
            [
             0.4444444444444444,
             "#bd3786"
            ],
            [
             0.5555555555555556,
             "#d8576b"
            ],
            [
             0.6666666666666666,
             "#ed7953"
            ],
            [
             0.7777777777777778,
             "#fb9f3a"
            ],
            [
             0.8888888888888888,
             "#fdca26"
            ],
            [
             1,
             "#f0f921"
            ]
           ],
           "sequentialminus": [
            [
             0,
             "#0d0887"
            ],
            [
             0.1111111111111111,
             "#46039f"
            ],
            [
             0.2222222222222222,
             "#7201a8"
            ],
            [
             0.3333333333333333,
             "#9c179e"
            ],
            [
             0.4444444444444444,
             "#bd3786"
            ],
            [
             0.5555555555555556,
             "#d8576b"
            ],
            [
             0.6666666666666666,
             "#ed7953"
            ],
            [
             0.7777777777777778,
             "#fb9f3a"
            ],
            [
             0.8888888888888888,
             "#fdca26"
            ],
            [
             1,
             "#f0f921"
            ]
           ]
          },
          "colorway": [
           "#636efa",
           "#EF553B",
           "#00cc96",
           "#ab63fa",
           "#FFA15A",
           "#19d3f3",
           "#FF6692",
           "#B6E880",
           "#FF97FF",
           "#FECB52"
          ],
          "font": {
           "color": "#2a3f5f"
          },
          "geo": {
           "bgcolor": "white",
           "lakecolor": "white",
           "landcolor": "#E5ECF6",
           "showlakes": true,
           "showland": true,
           "subunitcolor": "white"
          },
          "hoverlabel": {
           "align": "left"
          },
          "hovermode": "closest",
          "mapbox": {
           "style": "light"
          },
          "paper_bgcolor": "white",
          "plot_bgcolor": "#E5ECF6",
          "polar": {
           "angularaxis": {
            "gridcolor": "white",
            "linecolor": "white",
            "ticks": ""
           },
           "bgcolor": "#E5ECF6",
           "radialaxis": {
            "gridcolor": "white",
            "linecolor": "white",
            "ticks": ""
           }
          },
          "scene": {
           "xaxis": {
            "backgroundcolor": "#E5ECF6",
            "gridcolor": "white",
            "gridwidth": 2,
            "linecolor": "white",
            "showbackground": true,
            "ticks": "",
            "zerolinecolor": "white"
           },
           "yaxis": {
            "backgroundcolor": "#E5ECF6",
            "gridcolor": "white",
            "gridwidth": 2,
            "linecolor": "white",
            "showbackground": true,
            "ticks": "",
            "zerolinecolor": "white"
           },
           "zaxis": {
            "backgroundcolor": "#E5ECF6",
            "gridcolor": "white",
            "gridwidth": 2,
            "linecolor": "white",
            "showbackground": true,
            "ticks": "",
            "zerolinecolor": "white"
           }
          },
          "shapedefaults": {
           "line": {
            "color": "#2a3f5f"
           }
          },
          "ternary": {
           "aaxis": {
            "gridcolor": "white",
            "linecolor": "white",
            "ticks": ""
           },
           "baxis": {
            "gridcolor": "white",
            "linecolor": "white",
            "ticks": ""
           },
           "bgcolor": "#E5ECF6",
           "caxis": {
            "gridcolor": "white",
            "linecolor": "white",
            "ticks": ""
           }
          },
          "title": {
           "x": 0.05
          },
          "xaxis": {
           "automargin": true,
           "gridcolor": "white",
           "linecolor": "white",
           "ticks": "",
           "title": {
            "standoff": 15
           },
           "zerolinecolor": "white",
           "zerolinewidth": 2
          },
          "yaxis": {
           "automargin": true,
           "gridcolor": "white",
           "linecolor": "white",
           "ticks": "",
           "title": {
            "standoff": 15
           },
           "zerolinecolor": "white",
           "zerolinewidth": 2
          }
         }
        },
        "title": {
         "text": "Histogram Quantitative Variables"
        },
        "xaxis": {
         "anchor": "y",
         "domain": [
          0,
          0.1388888888888889
         ]
        },
        "xaxis2": {
         "anchor": "y2",
         "domain": [
          0.17222222222222222,
          0.3111111111111111
         ]
        },
        "xaxis3": {
         "anchor": "y3",
         "domain": [
          0.34444444444444444,
          0.48333333333333334
         ]
        },
        "xaxis4": {
         "anchor": "y4",
         "domain": [
          0.5166666666666667,
          0.6555555555555557
         ]
        },
        "xaxis5": {
         "anchor": "y5",
         "domain": [
          0.6888888888888889,
          0.8277777777777777
         ]
        },
        "xaxis6": {
         "anchor": "y6",
         "domain": [
          0.861111111111111,
          1
         ]
        },
        "yaxis": {
         "anchor": "x",
         "domain": [
          0,
          1
         ],
         "title": {
          "text": "Count Percentage"
         }
        },
        "yaxis2": {
         "anchor": "x2",
         "domain": [
          0,
          1
         ]
        },
        "yaxis3": {
         "anchor": "x3",
         "domain": [
          0,
          1
         ]
        },
        "yaxis4": {
         "anchor": "x4",
         "domain": [
          0,
          1
         ]
        },
        "yaxis5": {
         "anchor": "x5",
         "domain": [
          0,
          1
         ]
        },
        "yaxis6": {
         "anchor": "x6",
         "domain": [
          0,
          1
         ]
        }
       }
      },
      "text/html": [
       "<div>\n",
       "        \n",
       "        \n",
       "            <div id=\"51fbf25e-f701-4e14-a16a-47955a931450\" class=\"plotly-graph-div\" style=\"height:525px; width:100%;\"></div>\n",
       "            <script type=\"text/javascript\">\n",
       "                require([\"plotly\"], function(Plotly) {\n",
       "                    window.PLOTLYENV=window.PLOTLYENV || {};\n",
       "                    \n",
       "                if (document.getElementById(\"51fbf25e-f701-4e14-a16a-47955a931450\")) {\n",
       "                    Plotly.newPlot(\n",
       "                        '51fbf25e-f701-4e14-a16a-47955a931450',\n",
       "                        [{\"histnorm\": \"probability\", \"name\": \"population\", \"type\": \"histogram\", \"x\": [27657145, 28875, 2886026, 40400000, 57100, 78014, 25868000, 13452, 1000, 86295, 43590400, 2994400, 107394, 24117360, 8725931, 9730500, 378040, 1404900, 161006790, 285000, 9498700, 11319511, 370300, 10653654, 61954, 775620, 10985059, 17408, 3531159, 2141206, 0, 206135893, 3000, 300, 28514, 114743, 411900, 7153784, 19034397, 10114505, 15626444, 22709892, 36155487, 531239, 58238, 4998000, 14497000, 18191900, 1377422166, 2072, 550, 48759958, 806153, 4741000, 85026000, 18100, 4890379, 4190669, 11239004, 154843, 847000, 10558524, 5717014, 900000, 71293, 10075045, 16545799, 91290000, 6520675, 1222442, 5352000, 1315944, 92206005, 2563, 49376, 867000, 5491817, 66710000, 254541, 271800, 140, 1802278, 1882450, 3720400, 81770900, 27670174, 33140, 10858018, 55847, 103328, 400132, 184200, 16176133, 62999, 12947000, 1547777, 746900, 11078033, 0, 451, 8576532, 7324300, 9823000, 334300, 1295210000, 258705000, 22671331, 79369900, 37883543, 6378000, 84497, 8527400, 60665551, 2723246, 126960000, 100800, 9531712, 17753200, 47251000, 113400, 4183658, 6047800, 6492400, 1961600, 5988000, 1894194, 4615000, 6385000, 37623, 2872294, 576200, 649100, 2058539, 22434363, 16832910, 31405416, 344023, 18135000, 425384, 54880, 378243, 3718678, 1262879, 226915, 122273473, 102800, 3553100, 38400, 3093100, 621810, 4922, 33337529, 26423700, 51419420, 2324388, 10084, 28431500, 17019800, 268767, 4697854, 6262703, 20715000, 186988000, 1470, 2302, 25281000, 56940, 5223256, 4420133, 194125062, 17950, 4682467, 3814672, 8083700, 6854536, 31488700, 103279800, 56, 38437239, 10374822, 3474182, 2587564, 1733842, 840974, 19861408, 146599183, 11553188, 9417, 4255, 46204, 186000, 36979, 6069, 109991, 194899, 33005, 187356, 32248200, 14799859, 7076372, 91400, 7075641, 5535000, 38247, 5426252, 2064188, 642000, 11079000, 55653654, 30, 50801405, 12131000, 46438422, 20966000, 39598700, 541638, 2562, 1132657, 9894888, 8341600, 18564000, 23503349, 8593600, 55155000, 65327652, 1167242, 7143000, 1411, 103252, 1349667, 11154400, 78741053, 4751120, 31458, 10640, 33860700, 42692393, 9856000, 65110000, 323947000, 3480222, 31576400, 277500, 31028700, 92700000, 11750, 510713, 27478000, 15933883, 14240168], \"xaxis\": \"x\", \"yaxis\": \"y\"}, {\"histnorm\": \"probability\", \"name\": \"area\", \"type\": \"histogram\", \"x\": [652230.0, 1580.0, 28748.0, 2381741.0, 199.0, 468.0, 1246700.0, 91.0, 14000000.0, 442.0, 2780400.0, 29743.0, 180.0, 7692024.0, 83871.0, 86600.0, 13943.0, 765.0, 147570.0, 430.0, 207600.0, 30528.0, 22966.0, 112622.0, 54.0, 38394.0, 1098581.0, 294.0, 51209.0, 582000.0, 49.0, 8515767.0, 60.0, 34.2, 151.0, 346.36, 5765.0, 110879.0, 272967.0, 27834.0, 181035.0, 475442.0, 9984670.0, 4033.0, 264.0, 622984.0, 1284000.0, 756102.0, 9640011.0, 135.0, 14.0, 1141748.0, 1862.0, 342000.0, 2344858.0, 236.0, 51100.0, 56594.0, 109884.0, 444.0, 9251.0, 78865.0, 43094.0, 23200.0, 751.0, 48671.0, 276841.0, 1002450.0, 21041.0, 28051.0, 117600.0, 45227.0, 1104300.0, 12173.0, 1393.0, 18272.0, 338424.0, 640679.0, 83534.0, 4167.0, 7747.0, 267668.0, 11295.0, 69700.0, 357114.0, 238533.0, 6.0, 131990.0, 2166086.0, 344.0, 1628.0, 549.0, 108889.0, 78.0, 245857.0, 36125.0, 214969.0, 27750.0, 412.0, 0.44, 112492.0, 1104.0, 93028.0, 103000.0, 3287590.0, 1904569.0, 322463.0, 1648195.0, 438317.0, 70273.0, 572.0, 20770.0, 301336.0, 10991.0, 377930.0, 116.0, 89342.0, 2724900.0, 580367.0, 811.0, 17818.0, 199951.0, 236800.0, 64559.0, 10452.0, 30355.0, 111369.0, 1759540.0, 160.0, 65300.0, 2586.0, 30.0, 25713.0, 587041.0, 118484.0, 330803.0, 300.0, 1240192.0, 316.0, 181.0, 1128.0, 1030700.0, 2040.0, 374.0, 1964375.0, 702.0, 33846.0, 2.02, 1564110.0, 13812.0, 102.0, 446550.0, 801590.0, 676578.0, 825615.0, 21.0, 147181.0, 41850.0, 18575.0, 270467.0, 130373.0, 1267000.0, 923768.0, 260.0, 36.0, 120538.0, 464.0, 323802.0, 309500.0, 881912.0, 459.0, 6020.0, 75417.0, 462840.0, 406752.0, 1285216.0, 342353.0, 47.0, 312679.0, 92090.0, 8870.0, 11586.0, 10908.0, 2511.0, 238391.0, 17124442.0, 26338.0, 21.0, 394.0, 261.0, 616.0, 53.0, 242.0, 389.0, 2842.0, 61.0, 964.0, 2149690.0, 196722.0, 88361.0, 452.0, 71740.0, 710.0, 34.0, 49037.0, 20273.0, 28896.0, 637657.0, 1221037.0, 3903.0, 100210.0, 619745.0, 505992.0, 65610.0, 1886068.0, 163820.0, 377.0, 17364.0, 450295.0, 41284.0, 185180.0, 36193.0, 143100.0, 945087.0, 513120.0, 14874.0, 56785.0, 12.0, 747.0, 5130.0, 163610.0, 783562.0, 488100.0, 948.0, 26.0, 241550.0, 603700.0, 83600.0, 242900.0, 9629091.0, 181034.0, 447400.0, 12189.0, 916445.0, 331212.0, 142.0, 266000.0, 527968.0, 752612.0, 390757.0], \"xaxis\": \"x2\", \"yaxis\": \"y2\"}, {\"histnorm\": \"probability\", \"name\": \"popDensity\", \"type\": \"histogram\", \"x\": [42.4, 18.28, 100.39, 16.96, 286.93, 166.7, 20.75, 147.82, 0.0, 195.24, 15.68, 100.68, 596.63, 3.14, 104.04, 112.36, 27.11, 1836.47, 1091.05, 662.79, 45.75, 370.79, 16.12, 94.6, 1147.3, 20.2, 10.0, 59.21, 68.96, 3.68, 0.0, 24.21, 50.0, 8.77, 188.83, 331.28, 71.45, 64.52, 69.73, 363.39, 86.32, 47.77, 3.62, 131.72, 220.6, 8.02, 11.29, 24.06, 142.89, 15.35, 39.29, 42.71, 432.95, 13.86, 36.26, 76.69, 95.7, 74.05, 102.28, 348.75, 91.56, 133.88, 132.66, 38.79, 94.93, 207.0, 59.77, 91.07, 309.9, 43.58, 45.51, 29.1, 83.5, 0.21, 35.45, 47.45, 16.23, 104.12, 3.05, 65.23, 0.02, 6.73, 166.66, 53.38, 228.98, 116.0, 5523.33, 82.26, 0.03, 300.37, 245.78, 335.52, 148.56, 807.68, 52.66, 42.85, 3.47, 399.21, 0.0, 1025.0, 76.24, 6634.33, 105.59, 3.25, 393.97, 135.83, 70.31, 48.16, 86.43, 90.76, 147.72, 410.56, 201.32, 247.77, 335.94, 868.97, 106.69, 6.52, 81.42, 139.83, 234.8, 30.25, 27.42, 30.38, 572.9, 62.4, 41.44, 3.63, 235.14, 43.99, 222.82, 21636.67, 80.06, 38.22, 142.07, 94.94, 1146.74, 14.62, 1346.15, 303.2, 335.32, 3.61, 619.06, 606.72, 62.25, 146.44, 104.98, 19009.9, 1.98, 45.02, 48.25, 74.66, 32.96, 76.0, 2.82, 480.19, 193.17, 406.69, 14.47, 17.37, 48.04, 16.35, 202.42, 5.65, 63.94, 209.73, 122.72, 16.13, 14.28, 220.12, 39.11, 777.82, 50.58, 17.47, 16.85, 24.5, 301.68, 1.19, 122.93, 112.66, 391.68, 223.34, 158.95, 334.92, 83.31, 8.56, 438.65, 448.43, 10.8, 177.03, 301.95, 697.72, 25.08, 282.75, 68.58, 541.07, 194.35, 15.0, 75.23, 80.08, 202.21, 98.63, 7795.77, 1124.91, 110.66, 101.82, 22.22, 17.37, 45.58, 0.01, 506.95, 19.57, 91.78, 319.55, 21.0, 3.31, 6.8, 65.23, 21.97, 202.05, 100.25, 649.39, 60.05, 58.36, 127.31, 78.48, 125.79, 117.58, 138.22, 263.09, 68.18, 100.49, 9.73, 33.18, 409.23, 140.18, 70.72, 117.89, 268.05, 33.64, 19.22, 70.58, 22.77, 33.86, 279.88, 82.75, 1.92, 52.04, 21.17, 36.44], \"xaxis\": \"x3\", \"yaxis\": \"y3\"}, {\"histnorm\": \"probability\", \"name\": \"gini\", \"type\": \"histogram\", \"x\": [27.8, null, 34.5, 35.3, null, null, 58.6, null, null, null, 44.5, 30.9, null, 30.5, 26.0, 33.7, null, null, 32.1, null, 26.5, 33.0, 53.1, 38.6, null, 38.1, 56.3, null, 36.2, 61.0, null, 54.7, null, null, null, null, null, 28.2, 39.8, 33.3, 37.9, 38.9, 32.6, 50.5, null, 56.3, 39.8, 52.1, 47.0, null, null, 55.9, 64.3, 47.3, null, null, 50.7, 33.7, null, null, null, 26.0, 24.0, 40.0, null, 47.2, 49.3, 30.8, 48.3, null, null, 36.0, 29.8, null, null, 42.8, 26.9, 32.7, null, null, null, 41.5, null, 41.3, 28.3, 42.8, null, 34.3, null, null, null, null, 55.9, null, 39.4, 35.5, 44.5, 59.2, null, null, 57.0, 53.3, 31.2, null, 33.4, 34.0, 41.5, 38.3, 30.9, 34.3, null, 39.2, 36.0, 45.5, 38.1, null, 35.4, 29.0, 47.7, null, null, 36.2, 36.7, 36.6, null, 52.5, 38.2, null, null, 37.6, 30.8, null, 43.2, 44.1, 39.0, 46.2, 37.4, 33.0, null, null, null, 40.5, null, null, 47.0, null, 33.0, null, 36.5, 30.0, null, 40.9, 45.7, null, 63.9, null, 32.8, 30.9, null, 36.2, 40.5, 34.6, 48.8, null, null, null, null, 25.8, null, 30.0, null, 35.5, 51.9, 50.9, 52.4, 48.1, 43.0, null, 34.1, 38.5, null, 41.1, null, null, 30.0, 40.1, 50.8, null, null, null, 42.6, null, null, null, null, null, 50.8, null, 39.2, 27.8, 65.8, 42.5, 48.1, null, 26.0, 31.2, null, null, 63.1, null, 31.3, 45.5, 34.7, 40.3, 35.3, 52.9, null, 51.5, 25.0, 33.7, 35.8, null, 30.8, 37.6, 40.0, 31.9, 34.4, null, null, 40.3, 41.4, 39.0, 40.8, null, null, 44.3, 26.4, null, 34.0, 48.0, 39.7, 36.7, null, 44.8, 35.6, null, null, 37.7, 54.6, null], \"xaxis\": \"x4\", \"yaxis\": \"y4\"}, {\"histnorm\": \"probability\", \"name\": \"borders_count\", \"type\": \"histogram\", \"x\": [6, 0, 4, 7, 0, 2, 4, 0, 0, 0, 5, 4, 0, 0, 8, 5, 0, 0, 2, 0, 5, 4, 2, 4, 0, 2, 5, 0, 3, 4, 0, 10, 0, 0, 0, 0, 1, 5, 6, 3, 3, 6, 1, 0, 0, 6, 6, 3, 15, 0, 0, 5, 0, 5, 9, 0, 2, 5, 0, 0, 1, 4, 1, 3, 0, 1, 2, 3, 2, 2, 3, 2, 6, 0, 0, 0, 3, 8, 2, 0, 0, 3, 1, 4, 9, 3, 1, 4, 0, 0, 0, 0, 4, 0, 6, 2, 3, 1, 0, 1, 3, 1, 7, 0, 8, 3, 5, 7, 6, 1, 0, 4, 6, 0, 0, 0, 4, 5, 5, 0, 2, 4, 5, 4, 2, 1, 3, 6, 2, 4, 3, 1, 5, 0, 3, 3, 0, 7, 0, 0, 0, 4, 0, 0, 3, 0, 2, 1, 2, 5, 0, 3, 6, 5, 4, 0, 2, 2, 0, 0, 2, 7, 4, 0, 0, 3, 0, 3, 3, 4, 0, 3, 2, 1, 3, 5, 0, 0, 7, 1, 0, 1, 4, 0, 5, 14, 4, 0, 0, 0, 0, 2, 0, 0, 0, 1, 0, 7, 5, 8, 0, 2, 0, 1, 5, 4, 0, 3, 6, 0, 1, 6, 5, 1, 7, 4, 0, 2, 2, 5, 5, 0, 4, 8, 4, 1, 3, 0, 0, 0, 2, 8, 4, 0, 0, 5, 7, 2, 1, 2, 2, 5, 0, 3, 3, 0, 3, 2, 8, 4], \"xaxis\": \"x5\", \"yaxis\": \"y5\"}, {\"histnorm\": \"probability\", \"name\": \"count_lang\", \"type\": \"histogram\", \"x\": [3, 1, 1, 1, 2, 1, 1, 1, 2, 1, 2, 2, 2, 1, 1, 1, 1, 1, 1, 1, 2, 3, 2, 1, 1, 1, 3, 1, 3, 2, 3, 1, 1, 1, 1, 1, 1, 1, 2, 2, 1, 2, 2, 1, 1, 2, 2, 1, 1, 1, 1, 1, 2, 2, 5, 1, 1, 1, 1, 3, 3, 2, 1, 2, 1, 1, 1, 1, 1, 2, 3, 1, 1, 1, 1, 4, 2, 1, 1, 1, 1, 1, 1, 1, 1, 1, 1, 1, 1, 1, 1, 3, 1, 2, 2, 1, 1, 2, 1, 4, 1, 2, 1, 1, 2, 1, 1, 1, 2, 2, 2, 2, 1, 1, 1, 2, 1, 2, 2, 1, 1, 2, 1, 1, 2, 2, 1, 1, 1, 1, 3, 2, 1, 2, 2, 1, 1, 1, 2, 2, 1, 1, 1, 1, 1, 1, 1, 1, 1, 4, 1, 1, 1, 1, 2, 2, 1, 1, 1, 2, 1, 1, 1, 1, 1, 1, 2, 3, 1, 2, 1, 1, 1, 1, 2, 1, 1, 1, 1, 1, 2, 1, 2, 1, 1, 1, 3, 1, 1, 1, 1, 3, 1, 1, 2, 1, 1, 1, 1, 1, 2, 1, 4, 2, 1, 1, 1, 2, 10, 1, 1, 1, 1, 2, 2, 1, 1, 2, 1, 3, 1, 1, 2, 2, 1, 1, 1, 1, 2, 1, 1, 1, 2, 1, 1, 2, 1, 1, 1, 1, 1, 2, 3, 1, 1, 1, 1, 1, 1, 3], \"xaxis\": \"x6\", \"yaxis\": \"y6\"}],\n",
       "                        {\"bargap\": 0.2, \"bargroupgap\": 0.1, \"template\": {\"data\": {\"bar\": [{\"error_x\": {\"color\": \"#2a3f5f\"}, \"error_y\": {\"color\": \"#2a3f5f\"}, \"marker\": {\"line\": {\"color\": \"#E5ECF6\", \"width\": 0.5}}, \"type\": \"bar\"}], \"barpolar\": [{\"marker\": {\"line\": {\"color\": \"#E5ECF6\", \"width\": 0.5}}, \"type\": \"barpolar\"}], \"carpet\": [{\"aaxis\": {\"endlinecolor\": \"#2a3f5f\", \"gridcolor\": \"white\", \"linecolor\": \"white\", \"minorgridcolor\": \"white\", \"startlinecolor\": \"#2a3f5f\"}, \"baxis\": {\"endlinecolor\": \"#2a3f5f\", \"gridcolor\": \"white\", \"linecolor\": \"white\", \"minorgridcolor\": \"white\", \"startlinecolor\": \"#2a3f5f\"}, \"type\": \"carpet\"}], \"choropleth\": [{\"colorbar\": {\"outlinewidth\": 0, \"ticks\": \"\"}, \"type\": \"choropleth\"}], \"contour\": [{\"colorbar\": {\"outlinewidth\": 0, \"ticks\": \"\"}, \"colorscale\": [[0.0, \"#0d0887\"], [0.1111111111111111, \"#46039f\"], [0.2222222222222222, \"#7201a8\"], [0.3333333333333333, \"#9c179e\"], [0.4444444444444444, \"#bd3786\"], [0.5555555555555556, \"#d8576b\"], [0.6666666666666666, \"#ed7953\"], [0.7777777777777778, \"#fb9f3a\"], [0.8888888888888888, \"#fdca26\"], [1.0, \"#f0f921\"]], \"type\": \"contour\"}], \"contourcarpet\": [{\"colorbar\": {\"outlinewidth\": 0, \"ticks\": \"\"}, \"type\": \"contourcarpet\"}], \"heatmap\": [{\"colorbar\": {\"outlinewidth\": 0, \"ticks\": \"\"}, \"colorscale\": [[0.0, \"#0d0887\"], [0.1111111111111111, \"#46039f\"], [0.2222222222222222, \"#7201a8\"], [0.3333333333333333, \"#9c179e\"], [0.4444444444444444, \"#bd3786\"], [0.5555555555555556, \"#d8576b\"], [0.6666666666666666, \"#ed7953\"], [0.7777777777777778, \"#fb9f3a\"], [0.8888888888888888, \"#fdca26\"], [1.0, \"#f0f921\"]], \"type\": \"heatmap\"}], \"heatmapgl\": [{\"colorbar\": {\"outlinewidth\": 0, \"ticks\": \"\"}, \"colorscale\": [[0.0, \"#0d0887\"], [0.1111111111111111, \"#46039f\"], [0.2222222222222222, \"#7201a8\"], [0.3333333333333333, \"#9c179e\"], [0.4444444444444444, \"#bd3786\"], [0.5555555555555556, \"#d8576b\"], [0.6666666666666666, \"#ed7953\"], [0.7777777777777778, \"#fb9f3a\"], [0.8888888888888888, \"#fdca26\"], [1.0, \"#f0f921\"]], \"type\": \"heatmapgl\"}], \"histogram\": [{\"marker\": {\"colorbar\": {\"outlinewidth\": 0, \"ticks\": \"\"}}, \"type\": \"histogram\"}], \"histogram2d\": [{\"colorbar\": {\"outlinewidth\": 0, \"ticks\": \"\"}, \"colorscale\": [[0.0, \"#0d0887\"], [0.1111111111111111, \"#46039f\"], [0.2222222222222222, \"#7201a8\"], [0.3333333333333333, \"#9c179e\"], [0.4444444444444444, \"#bd3786\"], [0.5555555555555556, \"#d8576b\"], [0.6666666666666666, \"#ed7953\"], [0.7777777777777778, \"#fb9f3a\"], [0.8888888888888888, \"#fdca26\"], [1.0, \"#f0f921\"]], \"type\": \"histogram2d\"}], \"histogram2dcontour\": [{\"colorbar\": {\"outlinewidth\": 0, \"ticks\": \"\"}, \"colorscale\": [[0.0, \"#0d0887\"], [0.1111111111111111, \"#46039f\"], [0.2222222222222222, \"#7201a8\"], [0.3333333333333333, \"#9c179e\"], [0.4444444444444444, \"#bd3786\"], [0.5555555555555556, \"#d8576b\"], [0.6666666666666666, \"#ed7953\"], [0.7777777777777778, \"#fb9f3a\"], [0.8888888888888888, \"#fdca26\"], [1.0, \"#f0f921\"]], \"type\": \"histogram2dcontour\"}], \"mesh3d\": [{\"colorbar\": {\"outlinewidth\": 0, \"ticks\": \"\"}, \"type\": \"mesh3d\"}], \"parcoords\": [{\"line\": {\"colorbar\": {\"outlinewidth\": 0, \"ticks\": \"\"}}, \"type\": \"parcoords\"}], \"pie\": [{\"automargin\": true, \"type\": \"pie\"}], \"scatter\": [{\"marker\": {\"colorbar\": {\"outlinewidth\": 0, \"ticks\": \"\"}}, \"type\": \"scatter\"}], \"scatter3d\": [{\"line\": {\"colorbar\": {\"outlinewidth\": 0, \"ticks\": \"\"}}, \"marker\": {\"colorbar\": {\"outlinewidth\": 0, \"ticks\": \"\"}}, \"type\": \"scatter3d\"}], \"scattercarpet\": [{\"marker\": {\"colorbar\": {\"outlinewidth\": 0, \"ticks\": \"\"}}, \"type\": \"scattercarpet\"}], \"scattergeo\": [{\"marker\": {\"colorbar\": {\"outlinewidth\": 0, \"ticks\": \"\"}}, \"type\": \"scattergeo\"}], \"scattergl\": [{\"marker\": {\"colorbar\": {\"outlinewidth\": 0, \"ticks\": \"\"}}, \"type\": \"scattergl\"}], \"scattermapbox\": [{\"marker\": {\"colorbar\": {\"outlinewidth\": 0, \"ticks\": \"\"}}, \"type\": \"scattermapbox\"}], \"scatterpolar\": [{\"marker\": {\"colorbar\": {\"outlinewidth\": 0, \"ticks\": \"\"}}, \"type\": \"scatterpolar\"}], \"scatterpolargl\": [{\"marker\": {\"colorbar\": {\"outlinewidth\": 0, \"ticks\": \"\"}}, \"type\": \"scatterpolargl\"}], \"scatterternary\": [{\"marker\": {\"colorbar\": {\"outlinewidth\": 0, \"ticks\": \"\"}}, \"type\": \"scatterternary\"}], \"surface\": [{\"colorbar\": {\"outlinewidth\": 0, \"ticks\": \"\"}, \"colorscale\": [[0.0, \"#0d0887\"], [0.1111111111111111, \"#46039f\"], [0.2222222222222222, \"#7201a8\"], [0.3333333333333333, \"#9c179e\"], [0.4444444444444444, \"#bd3786\"], [0.5555555555555556, \"#d8576b\"], [0.6666666666666666, \"#ed7953\"], [0.7777777777777778, \"#fb9f3a\"], [0.8888888888888888, \"#fdca26\"], [1.0, \"#f0f921\"]], \"type\": \"surface\"}], \"table\": [{\"cells\": {\"fill\": {\"color\": \"#EBF0F8\"}, \"line\": {\"color\": \"white\"}}, \"header\": {\"fill\": {\"color\": \"#C8D4E3\"}, \"line\": {\"color\": \"white\"}}, \"type\": \"table\"}]}, \"layout\": {\"annotationdefaults\": {\"arrowcolor\": \"#2a3f5f\", \"arrowhead\": 0, \"arrowwidth\": 1}, \"coloraxis\": {\"colorbar\": {\"outlinewidth\": 0, \"ticks\": \"\"}}, \"colorscale\": {\"diverging\": [[0, \"#8e0152\"], [0.1, \"#c51b7d\"], [0.2, \"#de77ae\"], [0.3, \"#f1b6da\"], [0.4, \"#fde0ef\"], [0.5, \"#f7f7f7\"], [0.6, \"#e6f5d0\"], [0.7, \"#b8e186\"], [0.8, \"#7fbc41\"], [0.9, \"#4d9221\"], [1, \"#276419\"]], \"sequential\": [[0.0, \"#0d0887\"], [0.1111111111111111, \"#46039f\"], [0.2222222222222222, \"#7201a8\"], [0.3333333333333333, \"#9c179e\"], [0.4444444444444444, \"#bd3786\"], [0.5555555555555556, \"#d8576b\"], [0.6666666666666666, \"#ed7953\"], [0.7777777777777778, \"#fb9f3a\"], [0.8888888888888888, \"#fdca26\"], [1.0, \"#f0f921\"]], \"sequentialminus\": [[0.0, \"#0d0887\"], [0.1111111111111111, \"#46039f\"], [0.2222222222222222, \"#7201a8\"], [0.3333333333333333, \"#9c179e\"], [0.4444444444444444, \"#bd3786\"], [0.5555555555555556, \"#d8576b\"], [0.6666666666666666, \"#ed7953\"], [0.7777777777777778, \"#fb9f3a\"], [0.8888888888888888, \"#fdca26\"], [1.0, \"#f0f921\"]]}, \"colorway\": [\"#636efa\", \"#EF553B\", \"#00cc96\", \"#ab63fa\", \"#FFA15A\", \"#19d3f3\", \"#FF6692\", \"#B6E880\", \"#FF97FF\", \"#FECB52\"], \"font\": {\"color\": \"#2a3f5f\"}, \"geo\": {\"bgcolor\": \"white\", \"lakecolor\": \"white\", \"landcolor\": \"#E5ECF6\", \"showlakes\": true, \"showland\": true, \"subunitcolor\": \"white\"}, \"hoverlabel\": {\"align\": \"left\"}, \"hovermode\": \"closest\", \"mapbox\": {\"style\": \"light\"}, \"paper_bgcolor\": \"white\", \"plot_bgcolor\": \"#E5ECF6\", \"polar\": {\"angularaxis\": {\"gridcolor\": \"white\", \"linecolor\": \"white\", \"ticks\": \"\"}, \"bgcolor\": \"#E5ECF6\", \"radialaxis\": {\"gridcolor\": \"white\", \"linecolor\": \"white\", \"ticks\": \"\"}}, \"scene\": {\"xaxis\": {\"backgroundcolor\": \"#E5ECF6\", \"gridcolor\": \"white\", \"gridwidth\": 2, \"linecolor\": \"white\", \"showbackground\": true, \"ticks\": \"\", \"zerolinecolor\": \"white\"}, \"yaxis\": {\"backgroundcolor\": \"#E5ECF6\", \"gridcolor\": \"white\", \"gridwidth\": 2, \"linecolor\": \"white\", \"showbackground\": true, \"ticks\": \"\", \"zerolinecolor\": \"white\"}, \"zaxis\": {\"backgroundcolor\": \"#E5ECF6\", \"gridcolor\": \"white\", \"gridwidth\": 2, \"linecolor\": \"white\", \"showbackground\": true, \"ticks\": \"\", \"zerolinecolor\": \"white\"}}, \"shapedefaults\": {\"line\": {\"color\": \"#2a3f5f\"}}, \"ternary\": {\"aaxis\": {\"gridcolor\": \"white\", \"linecolor\": \"white\", \"ticks\": \"\"}, \"baxis\": {\"gridcolor\": \"white\", \"linecolor\": \"white\", \"ticks\": \"\"}, \"bgcolor\": \"#E5ECF6\", \"caxis\": {\"gridcolor\": \"white\", \"linecolor\": \"white\", \"ticks\": \"\"}}, \"title\": {\"x\": 0.05}, \"xaxis\": {\"automargin\": true, \"gridcolor\": \"white\", \"linecolor\": \"white\", \"ticks\": \"\", \"title\": {\"standoff\": 15}, \"zerolinecolor\": \"white\", \"zerolinewidth\": 2}, \"yaxis\": {\"automargin\": true, \"gridcolor\": \"white\", \"linecolor\": \"white\", \"ticks\": \"\", \"title\": {\"standoff\": 15}, \"zerolinecolor\": \"white\", \"zerolinewidth\": 2}}}, \"title\": {\"text\": \"Histogram Quantitative Variables\"}, \"xaxis\": {\"anchor\": \"y\", \"domain\": [0.0, 0.1388888888888889]}, \"xaxis2\": {\"anchor\": \"y2\", \"domain\": [0.17222222222222222, 0.3111111111111111]}, \"xaxis3\": {\"anchor\": \"y3\", \"domain\": [0.34444444444444444, 0.48333333333333334]}, \"xaxis4\": {\"anchor\": \"y4\", \"domain\": [0.5166666666666667, 0.6555555555555557]}, \"xaxis5\": {\"anchor\": \"y5\", \"domain\": [0.6888888888888889, 0.8277777777777777]}, \"xaxis6\": {\"anchor\": \"y6\", \"domain\": [0.861111111111111, 1.0]}, \"yaxis\": {\"anchor\": \"x\", \"domain\": [0.0, 1.0], \"title\": {\"text\": \"Count Percentage\"}}, \"yaxis2\": {\"anchor\": \"x2\", \"domain\": [0.0, 1.0]}, \"yaxis3\": {\"anchor\": \"x3\", \"domain\": [0.0, 1.0]}, \"yaxis4\": {\"anchor\": \"x4\", \"domain\": [0.0, 1.0]}, \"yaxis5\": {\"anchor\": \"x5\", \"domain\": [0.0, 1.0]}, \"yaxis6\": {\"anchor\": \"x6\", \"domain\": [0.0, 1.0]}},\n",
       "                        {\"responsive\": true}\n",
       "                    ).then(function(){\n",
       "                            \n",
       "var gd = document.getElementById('51fbf25e-f701-4e14-a16a-47955a931450');\n",
       "var x = new MutationObserver(function (mutations, observer) {{\n",
       "        var display = window.getComputedStyle(gd).display;\n",
       "        if (!display || display === 'none') {{\n",
       "            console.log([gd, 'removed!']);\n",
       "            Plotly.purge(gd);\n",
       "            observer.disconnect();\n",
       "        }}\n",
       "}});\n",
       "\n",
       "// Listen for the removal of the full notebook cells\n",
       "var notebookContainer = gd.closest('#notebook-container');\n",
       "if (notebookContainer) {{\n",
       "    x.observe(notebookContainer, {childList: true});\n",
       "}}\n",
       "\n",
       "// Listen for the clearing of the current output cell\n",
       "var outputEl = gd.closest('.output');\n",
       "if (outputEl) {{\n",
       "    x.observe(outputEl, {childList: true});\n",
       "}}\n",
       "\n",
       "                        })\n",
       "                };\n",
       "                });\n",
       "            </script>\n",
       "        </div>"
      ]
     },
     "metadata": {},
     "output_type": "display_data"
    }
   ],
   "source": [
    "\n",
    "fig = make_subplots(rows=1, cols=len(lst))\n",
    "\n",
    "for i in range(len(lst)):\n",
    "    fig.add_trace(go.Histogram(x= df[lst[i]],\n",
    "                               name=lst[i],\n",
    "                               histnorm='probability', \n",
    "                               ), col=i+1, row=1)\n",
    "\n",
    "fig.update_layout(\n",
    "    title_text='Histogram Quantitative Variables', # title of plot\n",
    "#     xaxis_title_text='Value Range', # xaxis label\n",
    "    yaxis_title_text='Count Percentage', # yaxis label\n",
    "    bargap=0.2, # gap between bars of adjacent location coordinates\n",
    "    bargroupgap=0.1 # gap between bars of the same location coordinates\n",
    ")\n",
    "    \n",
    "fig.show()"
   ]
  },
  {
   "cell_type": "markdown",
   "metadata": {},
   "source": [
    "Quantitative variables of population and area columns are positive skew. \n",
    "\n",
    "Values in gini column is normally distributed."
   ]
  },
  {
   "cell_type": "markdown",
   "metadata": {},
   "source": [
    "## Other varibales"
   ]
  },
  {
   "cell_type": "markdown",
   "metadata": {},
   "source": [
    "### latlng column"
   ]
  },
  {
   "cell_type": "code",
   "execution_count": 93,
   "metadata": {},
   "outputs": [],
   "source": [
    "#Create lat and lon columns:\n",
    "lat=[]\n",
    "lon=[]\n",
    "for i in range(250):\n",
    "    if len(df['latlng'][i]) > 0:\n",
    "        la=df['latlng'][i][0]\n",
    "        lo=df['latlng'][i][1]\n",
    "        lat.append(la)\n",
    "        lon.append(lo)\n",
    "    else:\n",
    "        lat.append(np.nan)\n",
    "        lon.append(np.nan)\n",
    "df['lat']=lat\n",
    "df['lon']=lon\n",
    "\n",
    "# df.drop('latlng',axis=1,inplace=True)"
   ]
  },
  {
   "cell_type": "markdown",
   "metadata": {},
   "source": [
    "# Organize sub-datasets and Questions "
   ]
  },
  {
   "cell_type": "code",
   "execution_count": 94,
   "metadata": {},
   "outputs": [],
   "source": [
    "info_lst = ['country','alphaCode', 'flag', 'capital', \n",
    "#             'latlng', \n",
    "            'population',  'area','borders', 'region', 'subregion', 'demonym','languages']\n",
    "# language = ['nativeName','languages_iso639_1', 'languages_iso639_2', \n",
    "#             'languages_nativeName','region', 'subregion','latlng','translations.de',\n",
    "#             'translations.es', 'translations.fr', 'translations.ja',\n",
    "#             'translations.it', 'translations.br', 'translations.pt',\n",
    "#             'translations.nl', 'translations.hr', 'translations.fa']\n",
    "economic = ['country','alphaCode',\n",
    "#             'latlng',  \n",
    "            'gini', 'borders','currencies','regionalBlocs']\n",
    "\n",
    "# demonym: nhóm ng, tộc người, nhóm dân tộc\n",
    "# gini: độ chênh lệch giàu nghèo"
   ]
  },
  {
   "cell_type": "code",
   "execution_count": 95,
   "metadata": {},
   "outputs": [
    {
     "data": {
      "text/plain": [
       "Index(['country', 'alphaCode', 'capital', 'region', 'subregion', 'population',\n",
       "       'latlng', 'demonym', 'area', 'popDensity', 'gini', 'timezones',\n",
       "       'borders', 'borders_count', 'nativeName', 'currencies', 'languages',\n",
       "       'regionalBlocs', 'count_lang', 'lat', 'lon'],\n",
       "      dtype='object')"
      ]
     },
     "execution_count": 95,
     "metadata": {},
     "output_type": "execute_result"
    }
   ],
   "source": [
    "df.columns"
   ]
  },
  {
   "cell_type": "markdown",
   "metadata": {},
   "source": [
    "## Regional and population"
   ]
  },
  {
   "cell_type": "markdown",
   "metadata": {},
   "source": [
    "__population__\n",
    "Map 1:\n",
    "\n",
    "Population density Vs. Gini\n",
    "\n",
    "Map scatter chia 4 phần. \n",
    "\n",
    "Cột y : population density\n",
    "Cột x: gini (check missinh value gini)\n",
    "color marker: màu của continent\n",
    "\n",
    "Độ lớn của marker: population size#\n",
    "\n",
    "\n",
    "submap1:loại outliner, vẽ geomap thể hiện độ tăng dần theo color scale của popDen\n",
    "submap2: vẽ geo map theo color scale cho gini"
   ]
  },
  {
   "cell_type": "code",
   "execution_count": 96,
   "metadata": {},
   "outputs": [
    {
     "data": {
      "application/vnd.plotly.v1+json": {
       "config": {
        "plotlyServerURL": "https://plot.ly"
       },
       "data": [
        {
         "marker": {
          "size": [
           42.4,
           100.68,
           112.36,
           1091.05,
           20.2,
           86.32,
           142.89,
           53.38,
           6634.33,
           393.97,
           135.83,
           48.16,
           86.43,
           410.56,
           335.94,
           106.69,
           6.52,
           30.25,
           27.42,
           94.94,
           1146.74,
           1.98,
           193.17,
           220.12,
           777.82,
           301.68,
           223.34,
           7795.77,
           506.95,
           319.55,
           100.25,
           60.05,
           127.31,
           78.48,
           100.49,
           9.73,
           70.58,
           279.88,
           52.04
          ],
          "sizemode": "area"
         },
         "mode": "markers",
         "name": "Asia",
         "text": [
          "Country: Afghanistan<br>Population: 27657145<br>Population density: 42.4<br>Wealth difference: 27.8",
          "Country: Armenia<br>Population: 2994400<br>Population density: 100.68<br>Wealth difference: 30.9",
          "Country: Azerbaijan<br>Population: 9730500<br>Population density: 112.36<br>Wealth difference: 33.7",
          "Country: Bangladesh<br>Population: 161006790<br>Population density: 1091.05<br>Wealth difference: 32.1",
          "Country: Bhutan<br>Population: 775620<br>Population density: 20.2<br>Wealth difference: 38.1",
          "Country: Cambodia<br>Population: 15626444<br>Population density: 86.32<br>Wealth difference: 37.9",
          "Country: China<br>Population: 1377422166<br>Population density: 142.89<br>Wealth difference: 47.0",
          "Country: Georgia<br>Population: 3720400<br>Population density: 53.38<br>Wealth difference: 41.3",
          "Country: Hong Kong<br>Population: 7324300<br>Population density: 6634.33<br>Wealth difference: 53.3",
          "Country: India<br>Population: 1295210000<br>Population density: 393.97<br>Wealth difference: 33.4",
          "Country: Indonesia<br>Population: 258705000<br>Population density: 135.83<br>Wealth difference: 34.0",
          "Country: Iran (Islamic Republic of)<br>Population: 79369900<br>Population density: 48.16<br>Wealth difference: 38.3",
          "Country: Iraq<br>Population: 37883543<br>Population density: 86.43<br>Wealth difference: 30.9",
          "Country: Israel<br>Population: 8527400<br>Population density: 410.56<br>Wealth difference: 39.2",
          "Country: Japan<br>Population: 126960000<br>Population density: 335.94<br>Wealth difference: 38.1",
          "Country: Jordan<br>Population: 9531712<br>Population density: 106.69<br>Wealth difference: 35.4",
          "Country: Kazakhstan<br>Population: 17753200<br>Population density: 6.52<br>Wealth difference: 29.0",
          "Country: Kyrgyzstan<br>Population: 6047800<br>Population density: 30.25<br>Wealth difference: 36.2",
          "Country: Lao People's Democratic Republic<br>Population: 6492400<br>Population density: 27.42<br>Wealth difference: 36.7",
          "Country: Malaysia<br>Population: 31405416<br>Population density: 94.94<br>Wealth difference: 46.2",
          "Country: Maldives<br>Population: 344023<br>Population density: 1146.74<br>Wealth difference: 37.4",
          "Country: Mongolia<br>Population: 3093100<br>Population density: 1.98<br>Wealth difference: 36.5",
          "Country: Nepal<br>Population: 28431500<br>Population density: 193.17<br>Wealth difference: 32.8",
          "Country: Pakistan<br>Population: 194125062<br>Population density: 220.12<br>Wealth difference: 30.0",
          "Country: Palestine, State of<br>Population: 4682467<br>Population density: 777.82<br>Wealth difference: 35.5",
          "Country: Philippines<br>Population: 103279800<br>Population density: 301.68<br>Wealth difference: 43.0",
          "Country: Qatar<br>Population: 2587564<br>Population density: 223.34<br>Wealth difference: 41.1",
          "Country: Singapore<br>Population: 5535000<br>Population density: 7795.77<br>Wealth difference: 48.1",
          "Country: Korea (Republic of)<br>Population: 50801405<br>Population density: 506.95<br>Wealth difference: 31.3",
          "Country: Sri Lanka<br>Population: 20966000<br>Population density: 319.55<br>Wealth difference: 40.3",
          "Country: Syrian Arab Republic<br>Population: 18564000<br>Population density: 100.25<br>Wealth difference: 35.8",
          "Country: Tajikistan<br>Population: 8593600<br>Population density: 60.05<br>Wealth difference: 30.8",
          "Country: Thailand<br>Population: 65327652<br>Population density: 127.31<br>Wealth difference: 40.0",
          "Country: Timor-Leste<br>Population: 1167242<br>Population density: 78.48<br>Wealth difference: 31.9",
          "Country: Turkey<br>Population: 78741053<br>Population density: 100.49<br>Wealth difference: 39.0",
          "Country: Turkmenistan<br>Population: 4751120<br>Population density: 9.73<br>Wealth difference: 40.8",
          "Country: Uzbekistan<br>Population: 31576400<br>Population density: 70.58<br>Wealth difference: 36.7",
          "Country: Viet Nam<br>Population: 92700000<br>Population density: 279.88<br>Wealth difference: 35.6",
          "Country: Yemen<br>Population: 27478000<br>Population density: 52.04<br>Wealth difference: 37.7"
         ],
         "type": "scatter",
         "x": [
          27657145,
          2994400,
          9730500,
          161006790,
          775620,
          15626444,
          1377422166,
          3720400,
          7324300,
          1295210000,
          258705000,
          79369900,
          37883543,
          8527400,
          126960000,
          9531712,
          17753200,
          6047800,
          6492400,
          31405416,
          344023,
          3093100,
          28431500,
          194125062,
          4682467,
          103279800,
          2587564,
          5535000,
          50801405,
          20966000,
          18564000,
          8593600,
          65327652,
          1167242,
          78741053,
          4751120,
          31576400,
          92700000,
          27478000
         ],
         "y": [
          27.8,
          30.9,
          33.7,
          32.1,
          38.1,
          37.9,
          47,
          41.3,
          53.3,
          33.4,
          34,
          38.3,
          30.9,
          39.2,
          38.1,
          35.4,
          29,
          36.2,
          36.7,
          46.2,
          37.4,
          36.5,
          32.8,
          30,
          35.5,
          43,
          41.1,
          48.1,
          31.3,
          40.3,
          35.8,
          30.8,
          40,
          31.9,
          39,
          40.8,
          36.7,
          35.6,
          37.7
         ]
        },
        {
         "marker": {
          "size": [
           100.39,
           104.04,
           45.75,
           370.79,
           68.96,
           64.52,
           74.05,
           133.88,
           132.66,
           29.1,
           16.23,
           104.12,
           228.98,
           82.26,
           105.59,
           90.76,
           201.32,
           30.38,
           43.99,
           222.82,
           80.06,
           104.98,
           45.02,
           406.69,
           16.13,
           122.93,
           112.66,
           83.31,
           8.56,
           80.08,
           110.66,
           101.82,
           91.78,
           21.97,
           202.05,
           70.72,
           268.05
          ],
          "sizemode": "area"
         },
         "mode": "markers",
         "name": "Europe",
         "text": [
          "Country: Albania<br>Population: 2886026<br>Population density: 100.39<br>Wealth difference: 34.5",
          "Country: Austria<br>Population: 8725931<br>Population density: 104.04<br>Wealth difference: 26.0",
          "Country: Belarus<br>Population: 9498700<br>Population density: 45.75<br>Wealth difference: 26.5",
          "Country: Belgium<br>Population: 11319511<br>Population density: 370.79<br>Wealth difference: 33.0",
          "Country: Bosnia and Herzegovina<br>Population: 3531159<br>Population density: 68.96<br>Wealth difference: 36.2",
          "Country: Bulgaria<br>Population: 7153784<br>Population density: 64.52<br>Wealth difference: 28.2",
          "Country: Croatia<br>Population: 4190669<br>Population density: 74.05<br>Wealth difference: 33.7",
          "Country: Czech Republic<br>Population: 10558524<br>Population density: 133.88<br>Wealth difference: 26.0",
          "Country: Denmark<br>Population: 5717014<br>Population density: 132.66<br>Wealth difference: 24.0",
          "Country: Estonia<br>Population: 1315944<br>Population density: 29.1<br>Wealth difference: 36.0",
          "Country: Finland<br>Population: 5491817<br>Population density: 16.23<br>Wealth difference: 26.9",
          "Country: France<br>Population: 66710000<br>Population density: 104.12<br>Wealth difference: 32.7",
          "Country: Germany<br>Population: 81770900<br>Population density: 228.98<br>Wealth difference: 28.3",
          "Country: Greece<br>Population: 10858018<br>Population density: 82.26<br>Wealth difference: 34.3",
          "Country: Hungary<br>Population: 9823000<br>Population density: 105.59<br>Wealth difference: 31.2",
          "Country: Ireland<br>Population: 6378000<br>Population density: 90.76<br>Wealth difference: 34.3",
          "Country: Italy<br>Population: 60665551<br>Population density: 201.32<br>Wealth difference: 36.0",
          "Country: Latvia<br>Population: 1961600<br>Population density: 30.38<br>Wealth difference: 36.6",
          "Country: Lithuania<br>Population: 2872294<br>Population density: 43.99<br>Wealth difference: 37.6",
          "Country: Luxembourg<br>Population: 576200<br>Population density: 222.82<br>Wealth difference: 30.8",
          "Country: Macedonia (the former Yugoslav Republic of)<br>Population: 2058539<br>Population density: 80.06<br>Wealth difference: 43.2",
          "Country: Moldova (Republic of)<br>Population: 3553100<br>Population density: 104.98<br>Wealth difference: 33.0",
          "Country: Montenegro<br>Population: 621810<br>Population density: 45.02<br>Wealth difference: 30.0",
          "Country: Netherlands<br>Population: 17019800<br>Population density: 406.69<br>Wealth difference: 30.9",
          "Country: Norway<br>Population: 5223256<br>Population density: 16.13<br>Wealth difference: 25.8",
          "Country: Poland<br>Population: 38437239<br>Population density: 122.93<br>Wealth difference: 34.1",
          "Country: Portugal<br>Population: 10374822<br>Population density: 112.66<br>Wealth difference: 38.5",
          "Country: Romania<br>Population: 19861408<br>Population density: 83.31<br>Wealth difference: 30.0",
          "Country: Russian Federation<br>Population: 146599183<br>Population density: 8.56<br>Wealth difference: 40.1",
          "Country: Serbia<br>Population: 7076372<br>Population density: 80.08<br>Wealth difference: 27.8",
          "Country: Slovakia<br>Population: 5426252<br>Population density: 110.66<br>Wealth difference: 26.0",
          "Country: Slovenia<br>Population: 2064188<br>Population density: 101.82<br>Wealth difference: 31.2",
          "Country: Spain<br>Population: 46438422<br>Population density: 91.78<br>Wealth difference: 34.7",
          "Country: Sweden<br>Population: 9894888<br>Population density: 21.97<br>Wealth difference: 25.0",
          "Country: Switzerland<br>Population: 8341600<br>Population density: 202.05<br>Wealth difference: 33.7",
          "Country: Ukraine<br>Population: 42692393<br>Population density: 70.72<br>Wealth difference: 26.4",
          "Country: United Kingdom of Great Britain and Northern Ireland<br>Population: 65110000<br>Population density: 268.05<br>Wealth difference: 34.0"
         ],
         "type": "scatter",
         "x": [
          2886026,
          8725931,
          9498700,
          11319511,
          3531159,
          7153784,
          4190669,
          10558524,
          5717014,
          1315944,
          5491817,
          66710000,
          81770900,
          10858018,
          9823000,
          6378000,
          60665551,
          1961600,
          2872294,
          576200,
          2058539,
          3553100,
          621810,
          17019800,
          5223256,
          38437239,
          10374822,
          19861408,
          146599183,
          7076372,
          5426252,
          2064188,
          46438422,
          9894888,
          8341600,
          42692393,
          65110000
         ],
         "y": [
          34.5,
          26,
          26.5,
          33,
          36.2,
          28.2,
          33.7,
          26,
          24,
          36,
          26.9,
          32.7,
          28.3,
          34.3,
          31.2,
          34.3,
          36,
          36.6,
          37.6,
          30.8,
          43.2,
          33,
          30,
          30.9,
          25.8,
          34.1,
          38.5,
          30,
          40.1,
          27.8,
          26,
          31.2,
          34.7,
          25,
          33.7,
          26.4,
          34
         ]
        },
        {
         "marker": {
          "size": [
           16.96,
           20.75,
           94.6,
           3.68,
           69.73,
           363.39,
           47.77,
           131.72,
           8.02,
           11.29,
           432.95,
           13.86,
           38.79,
           91.07,
           83.5,
           6.73,
           116,
           52.66,
           42.85,
           70.31,
           81.42,
           62.4,
           41.44,
           38.22,
           142.07,
           14.62,
           3.61,
           74.66,
           32.96,
           2.82,
           16.35,
           202.42,
           438.65,
           194.35,
           75.23,
           202.21,
           98.63,
           45.58,
           19.57,
           21,
           65.23,
           58.36,
           125.79,
           68.18,
           140.18,
           21.17
          ],
          "sizemode": "area"
         },
         "mode": "markers",
         "name": "Africa",
         "text": [
          "Country: Algeria<br>Population: 40400000<br>Population density: 16.96<br>Wealth difference: 35.3",
          "Country: Angola<br>Population: 25868000<br>Population density: 20.75<br>Wealth difference: 58.6",
          "Country: Benin<br>Population: 10653654<br>Population density: 94.6<br>Wealth difference: 38.6",
          "Country: Botswana<br>Population: 2141206<br>Population density: 3.68<br>Wealth difference: 61.0",
          "Country: Burkina Faso<br>Population: 19034397<br>Population density: 69.73<br>Wealth difference: 39.8",
          "Country: Burundi<br>Population: 10114505<br>Population density: 363.39<br>Wealth difference: 33.3",
          "Country: Cameroon<br>Population: 22709892<br>Population density: 47.77<br>Wealth difference: 38.9",
          "Country: Cabo Verde<br>Population: 531239<br>Population density: 131.72<br>Wealth difference: 50.5",
          "Country: Central African Republic<br>Population: 4998000<br>Population density: 8.02<br>Wealth difference: 56.3",
          "Country: Chad<br>Population: 14497000<br>Population density: 11.29<br>Wealth difference: 39.8",
          "Country: Comoros<br>Population: 806153<br>Population density: 432.95<br>Wealth difference: 64.3",
          "Country: Congo<br>Population: 4741000<br>Population density: 13.86<br>Wealth difference: 47.3",
          "Country: Djibouti<br>Population: 900000<br>Population density: 38.79<br>Wealth difference: 40.0",
          "Country: Egypt<br>Population: 91290000<br>Population density: 91.07<br>Wealth difference: 30.8",
          "Country: Ethiopia<br>Population: 92206005<br>Population density: 83.5<br>Wealth difference: 29.8",
          "Country: Gabon<br>Population: 1802278<br>Population density: 6.73<br>Wealth difference: 41.5",
          "Country: Ghana<br>Population: 27670174<br>Population density: 116.0<br>Wealth difference: 42.8",
          "Country: Guinea<br>Population: 12947000<br>Population density: 52.66<br>Wealth difference: 39.4",
          "Country: Guinea-Bissau<br>Population: 1547777<br>Population density: 42.85<br>Wealth difference: 35.5",
          "Country: Côte d'Ivoire<br>Population: 22671331<br>Population density: 70.31<br>Wealth difference: 41.5",
          "Country: Kenya<br>Population: 47251000<br>Population density: 81.42<br>Wealth difference: 47.7",
          "Country: Lesotho<br>Population: 1894194<br>Population density: 62.4<br>Wealth difference: 52.5",
          "Country: Liberia<br>Population: 4615000<br>Population density: 41.44<br>Wealth difference: 38.2",
          "Country: Madagascar<br>Population: 22434363<br>Population density: 38.22<br>Wealth difference: 44.1",
          "Country: Malawi<br>Population: 16832910<br>Population density: 142.07<br>Wealth difference: 39.0",
          "Country: Mali<br>Population: 18135000<br>Population density: 14.62<br>Wealth difference: 33.0",
          "Country: Mauritania<br>Population: 3718678<br>Population density: 3.61<br>Wealth difference: 40.5",
          "Country: Morocco<br>Population: 33337529<br>Population density: 74.66<br>Wealth difference: 40.9",
          "Country: Mozambique<br>Population: 26423700<br>Population density: 32.96<br>Wealth difference: 45.7",
          "Country: Namibia<br>Population: 2324388<br>Population density: 2.82<br>Wealth difference: 63.9",
          "Country: Niger<br>Population: 20715000<br>Population density: 16.35<br>Wealth difference: 34.6",
          "Country: Nigeria<br>Population: 186988000<br>Population density: 202.42<br>Wealth difference: 48.8",
          "Country: Rwanda<br>Population: 11553188<br>Population density: 438.65<br>Wealth difference: 50.8",
          "Country: Sao Tome and Principe<br>Population: 187356<br>Population density: 194.35<br>Wealth difference: 50.8",
          "Country: Senegal<br>Population: 14799859<br>Population density: 75.23<br>Wealth difference: 39.2",
          "Country: Seychelles<br>Population: 91400<br>Population density: 202.21<br>Wealth difference: 65.8",
          "Country: Sierra Leone<br>Population: 7075641<br>Population density: 98.63<br>Wealth difference: 42.5",
          "Country: South Africa<br>Population: 55653654<br>Population density: 45.58<br>Wealth difference: 63.1",
          "Country: South Sudan<br>Population: 12131000<br>Population density: 19.57<br>Wealth difference: 45.5",
          "Country: Sudan<br>Population: 39598700<br>Population density: 21.0<br>Wealth difference: 35.3",
          "Country: Swaziland<br>Population: 1132657<br>Population density: 65.23<br>Wealth difference: 51.5",
          "Country: Tanzania, United Republic of<br>Population: 55155000<br>Population density: 58.36<br>Wealth difference: 37.6",
          "Country: Togo<br>Population: 7143000<br>Population density: 125.79<br>Wealth difference: 34.4",
          "Country: Tunisia<br>Population: 11154400<br>Population density: 68.18<br>Wealth difference: 41.4",
          "Country: Uganda<br>Population: 33860700<br>Population density: 140.18<br>Wealth difference: 44.3",
          "Country: Zambia<br>Population: 15933883<br>Population density: 21.17<br>Wealth difference: 54.6"
         ],
         "type": "scatter",
         "x": [
          40400000,
          25868000,
          10653654,
          2141206,
          19034397,
          10114505,
          22709892,
          531239,
          4998000,
          14497000,
          806153,
          4741000,
          900000,
          91290000,
          92206005,
          1802278,
          27670174,
          12947000,
          1547777,
          22671331,
          47251000,
          1894194,
          4615000,
          22434363,
          16832910,
          18135000,
          3718678,
          33337529,
          26423700,
          2324388,
          20715000,
          186988000,
          11553188,
          187356,
          14799859,
          91400,
          7075641,
          55653654,
          12131000,
          39598700,
          1132657,
          55155000,
          7143000,
          11154400,
          33860700,
          15933883
         ],
         "y": [
          35.3,
          58.6,
          38.6,
          61,
          39.8,
          33.3,
          38.9,
          50.5,
          56.3,
          39.8,
          64.3,
          47.3,
          40,
          30.8,
          29.8,
          41.5,
          42.8,
          39.4,
          35.5,
          41.5,
          47.7,
          52.5,
          38.2,
          44.1,
          39,
          33,
          40.5,
          40.9,
          45.7,
          63.9,
          34.6,
          48.8,
          50.8,
          50.8,
          39.2,
          65.8,
          42.5,
          63.1,
          45.5,
          35.3,
          51.5,
          37.6,
          34.4,
          41.4,
          44.3,
          54.6
         ]
        },
        {
         "marker": {
          "size": [
           3.14,
           47.45,
           17.37,
           17.47
          ],
          "sizemode": "area"
         },
         "mode": "markers",
         "name": "Oceania",
         "text": [
          "Country: Australia<br>Population: 24117360<br>Population density: 3.14<br>Wealth difference: 30.5",
          "Country: Fiji<br>Population: 867000<br>Population density: 47.45<br>Wealth difference: 42.8",
          "Country: New Zealand<br>Population: 4697854<br>Population density: 17.37<br>Wealth difference: 36.2",
          "Country: Papua New Guinea<br>Population: 8083700<br>Population density: 17.47<br>Wealth difference: 50.9"
         ],
         "type": "scatter",
         "x": [
          24117360,
          867000,
          4697854,
          8083700
         ],
         "y": [
          30.5,
          42.8,
          36.2,
          50.9
         ]
        },
        {
         "marker": {
          "size": [
           15.68,
           16.12,
           10,
           24.21,
           3.62,
           24.06,
           42.71,
           95.7,
           207,
           59.77,
           309.9,
           148.56,
           3.47,
           399.21,
           76.24,
           247.77,
           62.25,
           48.04,
           50.58,
           16.85,
           24.5,
           301.95,
           3.31,
           263.09,
           33.64,
           19.22,
           33.86
          ],
          "sizemode": "area"
         },
         "mode": "markers",
         "name": "Americas",
         "text": [
          "Country: Argentina<br>Population: 43590400<br>Population density: 15.68<br>Wealth difference: 44.5",
          "Country: Belize<br>Population: 370300<br>Population density: 16.12<br>Wealth difference: 53.1",
          "Country: Bolivia (Plurinational State of)<br>Population: 10985059<br>Population density: 10.0<br>Wealth difference: 56.3",
          "Country: Brazil<br>Population: 206135893<br>Population density: 24.21<br>Wealth difference: 54.7",
          "Country: Canada<br>Population: 36155487<br>Population density: 3.62<br>Wealth difference: 32.6",
          "Country: Chile<br>Population: 18191900<br>Population density: 24.06<br>Wealth difference: 52.1",
          "Country: Colombia<br>Population: 48759958<br>Population density: 42.71<br>Wealth difference: 55.9",
          "Country: Costa Rica<br>Population: 4890379<br>Population density: 95.7<br>Wealth difference: 50.7",
          "Country: Dominican Republic<br>Population: 10075045<br>Population density: 207.0<br>Wealth difference: 47.2",
          "Country: Ecuador<br>Population: 16545799<br>Population density: 59.77<br>Wealth difference: 49.3",
          "Country: El Salvador<br>Population: 6520675<br>Population density: 309.9<br>Wealth difference: 48.3",
          "Country: Guatemala<br>Population: 16176133<br>Population density: 148.56<br>Wealth difference: 55.9",
          "Country: Guyana<br>Population: 746900<br>Population density: 3.47<br>Wealth difference: 44.5",
          "Country: Haiti<br>Population: 11078033<br>Population density: 399.21<br>Wealth difference: 59.2",
          "Country: Honduras<br>Population: 8576532<br>Population density: 76.24<br>Wealth difference: 57.0",
          "Country: Jamaica<br>Population: 2723246<br>Population density: 247.77<br>Wealth difference: 45.5",
          "Country: Mexico<br>Population: 122273473<br>Population density: 62.25<br>Wealth difference: 47.0",
          "Country: Nicaragua<br>Population: 6262703<br>Population density: 48.04<br>Wealth difference: 40.5",
          "Country: Panama<br>Population: 3814672<br>Population density: 50.58<br>Wealth difference: 51.9",
          "Country: Paraguay<br>Population: 6854536<br>Population density: 16.85<br>Wealth difference: 52.4",
          "Country: Peru<br>Population: 31488700<br>Population density: 24.5<br>Wealth difference: 48.1",
          "Country: Saint Lucia<br>Population: 186000<br>Population density: 301.95<br>Wealth difference: 42.6",
          "Country: Suriname<br>Population: 541638<br>Population density: 3.31<br>Wealth difference: 52.9",
          "Country: Trinidad and Tobago<br>Population: 1349667<br>Population density: 263.09<br>Wealth difference: 40.3",
          "Country: United States of America<br>Population: 323947000<br>Population density: 33.64<br>Wealth difference: 48.0",
          "Country: Uruguay<br>Population: 3480222<br>Population density: 19.22<br>Wealth difference: 39.7",
          "Country: Venezuela (Bolivarian Republic of)<br>Population: 31028700<br>Population density: 33.86<br>Wealth difference: 44.8"
         ],
         "type": "scatter",
         "x": [
          43590400,
          370300,
          10985059,
          206135893,
          36155487,
          18191900,
          48759958,
          4890379,
          10075045,
          16545799,
          6520675,
          16176133,
          746900,
          11078033,
          8576532,
          2723246,
          122273473,
          6262703,
          3814672,
          6854536,
          31488700,
          186000,
          541638,
          1349667,
          323947000,
          3480222,
          31028700
         ],
         "y": [
          44.5,
          53.1,
          56.3,
          54.7,
          32.6,
          52.1,
          55.9,
          50.7,
          47.2,
          49.3,
          48.3,
          55.9,
          44.5,
          59.2,
          57,
          45.5,
          47,
          40.5,
          51.9,
          52.4,
          48.1,
          42.6,
          52.9,
          40.3,
          48,
          39.7,
          44.8
         ]
        },
        {
         "marker": {
          "size": [],
          "sizemode": "area"
         },
         "mode": "markers",
         "name": "Polar",
         "text": [],
         "type": "scatter",
         "x": [],
         "y": []
        }
       ],
       "layout": {
        "paper_bgcolor": "rgb(243, 243, 243)",
        "plot_bgcolor": "rgb(243, 243, 243)",
        "template": {
         "data": {
          "bar": [
           {
            "error_x": {
             "color": "#2a3f5f"
            },
            "error_y": {
             "color": "#2a3f5f"
            },
            "marker": {
             "line": {
              "color": "#E5ECF6",
              "width": 0.5
             }
            },
            "type": "bar"
           }
          ],
          "barpolar": [
           {
            "marker": {
             "line": {
              "color": "#E5ECF6",
              "width": 0.5
             }
            },
            "type": "barpolar"
           }
          ],
          "carpet": [
           {
            "aaxis": {
             "endlinecolor": "#2a3f5f",
             "gridcolor": "white",
             "linecolor": "white",
             "minorgridcolor": "white",
             "startlinecolor": "#2a3f5f"
            },
            "baxis": {
             "endlinecolor": "#2a3f5f",
             "gridcolor": "white",
             "linecolor": "white",
             "minorgridcolor": "white",
             "startlinecolor": "#2a3f5f"
            },
            "type": "carpet"
           }
          ],
          "choropleth": [
           {
            "colorbar": {
             "outlinewidth": 0,
             "ticks": ""
            },
            "type": "choropleth"
           }
          ],
          "contour": [
           {
            "colorbar": {
             "outlinewidth": 0,
             "ticks": ""
            },
            "colorscale": [
             [
              0,
              "#0d0887"
             ],
             [
              0.1111111111111111,
              "#46039f"
             ],
             [
              0.2222222222222222,
              "#7201a8"
             ],
             [
              0.3333333333333333,
              "#9c179e"
             ],
             [
              0.4444444444444444,
              "#bd3786"
             ],
             [
              0.5555555555555556,
              "#d8576b"
             ],
             [
              0.6666666666666666,
              "#ed7953"
             ],
             [
              0.7777777777777778,
              "#fb9f3a"
             ],
             [
              0.8888888888888888,
              "#fdca26"
             ],
             [
              1,
              "#f0f921"
             ]
            ],
            "type": "contour"
           }
          ],
          "contourcarpet": [
           {
            "colorbar": {
             "outlinewidth": 0,
             "ticks": ""
            },
            "type": "contourcarpet"
           }
          ],
          "heatmap": [
           {
            "colorbar": {
             "outlinewidth": 0,
             "ticks": ""
            },
            "colorscale": [
             [
              0,
              "#0d0887"
             ],
             [
              0.1111111111111111,
              "#46039f"
             ],
             [
              0.2222222222222222,
              "#7201a8"
             ],
             [
              0.3333333333333333,
              "#9c179e"
             ],
             [
              0.4444444444444444,
              "#bd3786"
             ],
             [
              0.5555555555555556,
              "#d8576b"
             ],
             [
              0.6666666666666666,
              "#ed7953"
             ],
             [
              0.7777777777777778,
              "#fb9f3a"
             ],
             [
              0.8888888888888888,
              "#fdca26"
             ],
             [
              1,
              "#f0f921"
             ]
            ],
            "type": "heatmap"
           }
          ],
          "heatmapgl": [
           {
            "colorbar": {
             "outlinewidth": 0,
             "ticks": ""
            },
            "colorscale": [
             [
              0,
              "#0d0887"
             ],
             [
              0.1111111111111111,
              "#46039f"
             ],
             [
              0.2222222222222222,
              "#7201a8"
             ],
             [
              0.3333333333333333,
              "#9c179e"
             ],
             [
              0.4444444444444444,
              "#bd3786"
             ],
             [
              0.5555555555555556,
              "#d8576b"
             ],
             [
              0.6666666666666666,
              "#ed7953"
             ],
             [
              0.7777777777777778,
              "#fb9f3a"
             ],
             [
              0.8888888888888888,
              "#fdca26"
             ],
             [
              1,
              "#f0f921"
             ]
            ],
            "type": "heatmapgl"
           }
          ],
          "histogram": [
           {
            "marker": {
             "colorbar": {
              "outlinewidth": 0,
              "ticks": ""
             }
            },
            "type": "histogram"
           }
          ],
          "histogram2d": [
           {
            "colorbar": {
             "outlinewidth": 0,
             "ticks": ""
            },
            "colorscale": [
             [
              0,
              "#0d0887"
             ],
             [
              0.1111111111111111,
              "#46039f"
             ],
             [
              0.2222222222222222,
              "#7201a8"
             ],
             [
              0.3333333333333333,
              "#9c179e"
             ],
             [
              0.4444444444444444,
              "#bd3786"
             ],
             [
              0.5555555555555556,
              "#d8576b"
             ],
             [
              0.6666666666666666,
              "#ed7953"
             ],
             [
              0.7777777777777778,
              "#fb9f3a"
             ],
             [
              0.8888888888888888,
              "#fdca26"
             ],
             [
              1,
              "#f0f921"
             ]
            ],
            "type": "histogram2d"
           }
          ],
          "histogram2dcontour": [
           {
            "colorbar": {
             "outlinewidth": 0,
             "ticks": ""
            },
            "colorscale": [
             [
              0,
              "#0d0887"
             ],
             [
              0.1111111111111111,
              "#46039f"
             ],
             [
              0.2222222222222222,
              "#7201a8"
             ],
             [
              0.3333333333333333,
              "#9c179e"
             ],
             [
              0.4444444444444444,
              "#bd3786"
             ],
             [
              0.5555555555555556,
              "#d8576b"
             ],
             [
              0.6666666666666666,
              "#ed7953"
             ],
             [
              0.7777777777777778,
              "#fb9f3a"
             ],
             [
              0.8888888888888888,
              "#fdca26"
             ],
             [
              1,
              "#f0f921"
             ]
            ],
            "type": "histogram2dcontour"
           }
          ],
          "mesh3d": [
           {
            "colorbar": {
             "outlinewidth": 0,
             "ticks": ""
            },
            "type": "mesh3d"
           }
          ],
          "parcoords": [
           {
            "line": {
             "colorbar": {
              "outlinewidth": 0,
              "ticks": ""
             }
            },
            "type": "parcoords"
           }
          ],
          "pie": [
           {
            "automargin": true,
            "type": "pie"
           }
          ],
          "scatter": [
           {
            "marker": {
             "colorbar": {
              "outlinewidth": 0,
              "ticks": ""
             }
            },
            "type": "scatter"
           }
          ],
          "scatter3d": [
           {
            "line": {
             "colorbar": {
              "outlinewidth": 0,
              "ticks": ""
             }
            },
            "marker": {
             "colorbar": {
              "outlinewidth": 0,
              "ticks": ""
             }
            },
            "type": "scatter3d"
           }
          ],
          "scattercarpet": [
           {
            "marker": {
             "colorbar": {
              "outlinewidth": 0,
              "ticks": ""
             }
            },
            "type": "scattercarpet"
           }
          ],
          "scattergeo": [
           {
            "marker": {
             "colorbar": {
              "outlinewidth": 0,
              "ticks": ""
             }
            },
            "type": "scattergeo"
           }
          ],
          "scattergl": [
           {
            "marker": {
             "colorbar": {
              "outlinewidth": 0,
              "ticks": ""
             }
            },
            "type": "scattergl"
           }
          ],
          "scattermapbox": [
           {
            "marker": {
             "colorbar": {
              "outlinewidth": 0,
              "ticks": ""
             }
            },
            "type": "scattermapbox"
           }
          ],
          "scatterpolar": [
           {
            "marker": {
             "colorbar": {
              "outlinewidth": 0,
              "ticks": ""
             }
            },
            "type": "scatterpolar"
           }
          ],
          "scatterpolargl": [
           {
            "marker": {
             "colorbar": {
              "outlinewidth": 0,
              "ticks": ""
             }
            },
            "type": "scatterpolargl"
           }
          ],
          "scatterternary": [
           {
            "marker": {
             "colorbar": {
              "outlinewidth": 0,
              "ticks": ""
             }
            },
            "type": "scatterternary"
           }
          ],
          "surface": [
           {
            "colorbar": {
             "outlinewidth": 0,
             "ticks": ""
            },
            "colorscale": [
             [
              0,
              "#0d0887"
             ],
             [
              0.1111111111111111,
              "#46039f"
             ],
             [
              0.2222222222222222,
              "#7201a8"
             ],
             [
              0.3333333333333333,
              "#9c179e"
             ],
             [
              0.4444444444444444,
              "#bd3786"
             ],
             [
              0.5555555555555556,
              "#d8576b"
             ],
             [
              0.6666666666666666,
              "#ed7953"
             ],
             [
              0.7777777777777778,
              "#fb9f3a"
             ],
             [
              0.8888888888888888,
              "#fdca26"
             ],
             [
              1,
              "#f0f921"
             ]
            ],
            "type": "surface"
           }
          ],
          "table": [
           {
            "cells": {
             "fill": {
              "color": "#EBF0F8"
             },
             "line": {
              "color": "white"
             }
            },
            "header": {
             "fill": {
              "color": "#C8D4E3"
             },
             "line": {
              "color": "white"
             }
            },
            "type": "table"
           }
          ]
         },
         "layout": {
          "annotationdefaults": {
           "arrowcolor": "#2a3f5f",
           "arrowhead": 0,
           "arrowwidth": 1
          },
          "coloraxis": {
           "colorbar": {
            "outlinewidth": 0,
            "ticks": ""
           }
          },
          "colorscale": {
           "diverging": [
            [
             0,
             "#8e0152"
            ],
            [
             0.1,
             "#c51b7d"
            ],
            [
             0.2,
             "#de77ae"
            ],
            [
             0.3,
             "#f1b6da"
            ],
            [
             0.4,
             "#fde0ef"
            ],
            [
             0.5,
             "#f7f7f7"
            ],
            [
             0.6,
             "#e6f5d0"
            ],
            [
             0.7,
             "#b8e186"
            ],
            [
             0.8,
             "#7fbc41"
            ],
            [
             0.9,
             "#4d9221"
            ],
            [
             1,
             "#276419"
            ]
           ],
           "sequential": [
            [
             0,
             "#0d0887"
            ],
            [
             0.1111111111111111,
             "#46039f"
            ],
            [
             0.2222222222222222,
             "#7201a8"
            ],
            [
             0.3333333333333333,
             "#9c179e"
            ],
            [
             0.4444444444444444,
             "#bd3786"
            ],
            [
             0.5555555555555556,
             "#d8576b"
            ],
            [
             0.6666666666666666,
             "#ed7953"
            ],
            [
             0.7777777777777778,
             "#fb9f3a"
            ],
            [
             0.8888888888888888,
             "#fdca26"
            ],
            [
             1,
             "#f0f921"
            ]
           ],
           "sequentialminus": [
            [
             0,
             "#0d0887"
            ],
            [
             0.1111111111111111,
             "#46039f"
            ],
            [
             0.2222222222222222,
             "#7201a8"
            ],
            [
             0.3333333333333333,
             "#9c179e"
            ],
            [
             0.4444444444444444,
             "#bd3786"
            ],
            [
             0.5555555555555556,
             "#d8576b"
            ],
            [
             0.6666666666666666,
             "#ed7953"
            ],
            [
             0.7777777777777778,
             "#fb9f3a"
            ],
            [
             0.8888888888888888,
             "#fdca26"
            ],
            [
             1,
             "#f0f921"
            ]
           ]
          },
          "colorway": [
           "#636efa",
           "#EF553B",
           "#00cc96",
           "#ab63fa",
           "#FFA15A",
           "#19d3f3",
           "#FF6692",
           "#B6E880",
           "#FF97FF",
           "#FECB52"
          ],
          "font": {
           "color": "#2a3f5f"
          },
          "geo": {
           "bgcolor": "white",
           "lakecolor": "white",
           "landcolor": "#E5ECF6",
           "showlakes": true,
           "showland": true,
           "subunitcolor": "white"
          },
          "hoverlabel": {
           "align": "left"
          },
          "hovermode": "closest",
          "mapbox": {
           "style": "light"
          },
          "paper_bgcolor": "white",
          "plot_bgcolor": "#E5ECF6",
          "polar": {
           "angularaxis": {
            "gridcolor": "white",
            "linecolor": "white",
            "ticks": ""
           },
           "bgcolor": "#E5ECF6",
           "radialaxis": {
            "gridcolor": "white",
            "linecolor": "white",
            "ticks": ""
           }
          },
          "scene": {
           "xaxis": {
            "backgroundcolor": "#E5ECF6",
            "gridcolor": "white",
            "gridwidth": 2,
            "linecolor": "white",
            "showbackground": true,
            "ticks": "",
            "zerolinecolor": "white"
           },
           "yaxis": {
            "backgroundcolor": "#E5ECF6",
            "gridcolor": "white",
            "gridwidth": 2,
            "linecolor": "white",
            "showbackground": true,
            "ticks": "",
            "zerolinecolor": "white"
           },
           "zaxis": {
            "backgroundcolor": "#E5ECF6",
            "gridcolor": "white",
            "gridwidth": 2,
            "linecolor": "white",
            "showbackground": true,
            "ticks": "",
            "zerolinecolor": "white"
           }
          },
          "shapedefaults": {
           "line": {
            "color": "#2a3f5f"
           }
          },
          "ternary": {
           "aaxis": {
            "gridcolor": "white",
            "linecolor": "white",
            "ticks": ""
           },
           "baxis": {
            "gridcolor": "white",
            "linecolor": "white",
            "ticks": ""
           },
           "bgcolor": "#E5ECF6",
           "caxis": {
            "gridcolor": "white",
            "linecolor": "white",
            "ticks": ""
           }
          },
          "title": {
           "x": 0.05
          },
          "xaxis": {
           "automargin": true,
           "gridcolor": "white",
           "linecolor": "white",
           "ticks": "",
           "title": {
            "standoff": 15
           },
           "zerolinecolor": "white",
           "zerolinewidth": 2
          },
          "yaxis": {
           "automargin": true,
           "gridcolor": "white",
           "linecolor": "white",
           "ticks": "",
           "title": {
            "standoff": 15
           },
           "zerolinecolor": "white",
           "zerolinewidth": 2
          }
         }
        },
        "title": {
         "text": "Population v. Wealth difference"
        },
        "xaxis": {
         "gridcolor": "white",
         "gridwidth": 2,
         "title": {
          "text": "Country population"
         },
         "type": "log"
        },
        "yaxis": {
         "gridcolor": "white",
         "gridwidth": 2,
         "title": {
          "text": "Gini index"
         }
        }
       }
      },
      "text/html": [
       "<div>\n",
       "        \n",
       "        \n",
       "            <div id=\"f79f9341-b497-432c-95ff-5ed1da17b255\" class=\"plotly-graph-div\" style=\"height:525px; width:100%;\"></div>\n",
       "            <script type=\"text/javascript\">\n",
       "                require([\"plotly\"], function(Plotly) {\n",
       "                    window.PLOTLYENV=window.PLOTLYENV || {};\n",
       "                    \n",
       "                if (document.getElementById(\"f79f9341-b497-432c-95ff-5ed1da17b255\")) {\n",
       "                    Plotly.newPlot(\n",
       "                        'f79f9341-b497-432c-95ff-5ed1da17b255',\n",
       "                        [{\"marker\": {\"size\": [42.4, 100.68, 112.36, 1091.05, 20.2, 86.32, 142.89, 53.38, 6634.33, 393.97, 135.83, 48.16, 86.43, 410.56, 335.94, 106.69, 6.52, 30.25, 27.42, 94.94, 1146.74, 1.98, 193.17, 220.12, 777.82, 301.68, 223.34, 7795.77, 506.95, 319.55, 100.25, 60.05, 127.31, 78.48, 100.49, 9.73, 70.58, 279.88, 52.04], \"sizemode\": \"area\"}, \"mode\": \"markers\", \"name\": \"Asia\", \"text\": [\"Country: Afghanistan<br>Population: 27657145<br>Population density: 42.4<br>Wealth difference: 27.8\", \"Country: Armenia<br>Population: 2994400<br>Population density: 100.68<br>Wealth difference: 30.9\", \"Country: Azerbaijan<br>Population: 9730500<br>Population density: 112.36<br>Wealth difference: 33.7\", \"Country: Bangladesh<br>Population: 161006790<br>Population density: 1091.05<br>Wealth difference: 32.1\", \"Country: Bhutan<br>Population: 775620<br>Population density: 20.2<br>Wealth difference: 38.1\", \"Country: Cambodia<br>Population: 15626444<br>Population density: 86.32<br>Wealth difference: 37.9\", \"Country: China<br>Population: 1377422166<br>Population density: 142.89<br>Wealth difference: 47.0\", \"Country: Georgia<br>Population: 3720400<br>Population density: 53.38<br>Wealth difference: 41.3\", \"Country: Hong Kong<br>Population: 7324300<br>Population density: 6634.33<br>Wealth difference: 53.3\", \"Country: India<br>Population: 1295210000<br>Population density: 393.97<br>Wealth difference: 33.4\", \"Country: Indonesia<br>Population: 258705000<br>Population density: 135.83<br>Wealth difference: 34.0\", \"Country: Iran (Islamic Republic of)<br>Population: 79369900<br>Population density: 48.16<br>Wealth difference: 38.3\", \"Country: Iraq<br>Population: 37883543<br>Population density: 86.43<br>Wealth difference: 30.9\", \"Country: Israel<br>Population: 8527400<br>Population density: 410.56<br>Wealth difference: 39.2\", \"Country: Japan<br>Population: 126960000<br>Population density: 335.94<br>Wealth difference: 38.1\", \"Country: Jordan<br>Population: 9531712<br>Population density: 106.69<br>Wealth difference: 35.4\", \"Country: Kazakhstan<br>Population: 17753200<br>Population density: 6.52<br>Wealth difference: 29.0\", \"Country: Kyrgyzstan<br>Population: 6047800<br>Population density: 30.25<br>Wealth difference: 36.2\", \"Country: Lao People's Democratic Republic<br>Population: 6492400<br>Population density: 27.42<br>Wealth difference: 36.7\", \"Country: Malaysia<br>Population: 31405416<br>Population density: 94.94<br>Wealth difference: 46.2\", \"Country: Maldives<br>Population: 344023<br>Population density: 1146.74<br>Wealth difference: 37.4\", \"Country: Mongolia<br>Population: 3093100<br>Population density: 1.98<br>Wealth difference: 36.5\", \"Country: Nepal<br>Population: 28431500<br>Population density: 193.17<br>Wealth difference: 32.8\", \"Country: Pakistan<br>Population: 194125062<br>Population density: 220.12<br>Wealth difference: 30.0\", \"Country: Palestine, State of<br>Population: 4682467<br>Population density: 777.82<br>Wealth difference: 35.5\", \"Country: Philippines<br>Population: 103279800<br>Population density: 301.68<br>Wealth difference: 43.0\", \"Country: Qatar<br>Population: 2587564<br>Population density: 223.34<br>Wealth difference: 41.1\", \"Country: Singapore<br>Population: 5535000<br>Population density: 7795.77<br>Wealth difference: 48.1\", \"Country: Korea (Republic of)<br>Population: 50801405<br>Population density: 506.95<br>Wealth difference: 31.3\", \"Country: Sri Lanka<br>Population: 20966000<br>Population density: 319.55<br>Wealth difference: 40.3\", \"Country: Syrian Arab Republic<br>Population: 18564000<br>Population density: 100.25<br>Wealth difference: 35.8\", \"Country: Tajikistan<br>Population: 8593600<br>Population density: 60.05<br>Wealth difference: 30.8\", \"Country: Thailand<br>Population: 65327652<br>Population density: 127.31<br>Wealth difference: 40.0\", \"Country: Timor-Leste<br>Population: 1167242<br>Population density: 78.48<br>Wealth difference: 31.9\", \"Country: Turkey<br>Population: 78741053<br>Population density: 100.49<br>Wealth difference: 39.0\", \"Country: Turkmenistan<br>Population: 4751120<br>Population density: 9.73<br>Wealth difference: 40.8\", \"Country: Uzbekistan<br>Population: 31576400<br>Population density: 70.58<br>Wealth difference: 36.7\", \"Country: Viet Nam<br>Population: 92700000<br>Population density: 279.88<br>Wealth difference: 35.6\", \"Country: Yemen<br>Population: 27478000<br>Population density: 52.04<br>Wealth difference: 37.7\"], \"type\": \"scatter\", \"x\": [27657145, 2994400, 9730500, 161006790, 775620, 15626444, 1377422166, 3720400, 7324300, 1295210000, 258705000, 79369900, 37883543, 8527400, 126960000, 9531712, 17753200, 6047800, 6492400, 31405416, 344023, 3093100, 28431500, 194125062, 4682467, 103279800, 2587564, 5535000, 50801405, 20966000, 18564000, 8593600, 65327652, 1167242, 78741053, 4751120, 31576400, 92700000, 27478000], \"y\": [27.8, 30.9, 33.7, 32.1, 38.1, 37.9, 47.0, 41.3, 53.3, 33.4, 34.0, 38.3, 30.9, 39.2, 38.1, 35.4, 29.0, 36.2, 36.7, 46.2, 37.4, 36.5, 32.8, 30.0, 35.5, 43.0, 41.1, 48.1, 31.3, 40.3, 35.8, 30.8, 40.0, 31.9, 39.0, 40.8, 36.7, 35.6, 37.7]}, {\"marker\": {\"size\": [100.39, 104.04, 45.75, 370.79, 68.96, 64.52, 74.05, 133.88, 132.66, 29.1, 16.23, 104.12, 228.98, 82.26, 105.59, 90.76, 201.32, 30.38, 43.99, 222.82, 80.06, 104.98, 45.02, 406.69, 16.13, 122.93, 112.66, 83.31, 8.56, 80.08, 110.66, 101.82, 91.78, 21.97, 202.05, 70.72, 268.05], \"sizemode\": \"area\"}, \"mode\": \"markers\", \"name\": \"Europe\", \"text\": [\"Country: Albania<br>Population: 2886026<br>Population density: 100.39<br>Wealth difference: 34.5\", \"Country: Austria<br>Population: 8725931<br>Population density: 104.04<br>Wealth difference: 26.0\", \"Country: Belarus<br>Population: 9498700<br>Population density: 45.75<br>Wealth difference: 26.5\", \"Country: Belgium<br>Population: 11319511<br>Population density: 370.79<br>Wealth difference: 33.0\", \"Country: Bosnia and Herzegovina<br>Population: 3531159<br>Population density: 68.96<br>Wealth difference: 36.2\", \"Country: Bulgaria<br>Population: 7153784<br>Population density: 64.52<br>Wealth difference: 28.2\", \"Country: Croatia<br>Population: 4190669<br>Population density: 74.05<br>Wealth difference: 33.7\", \"Country: Czech Republic<br>Population: 10558524<br>Population density: 133.88<br>Wealth difference: 26.0\", \"Country: Denmark<br>Population: 5717014<br>Population density: 132.66<br>Wealth difference: 24.0\", \"Country: Estonia<br>Population: 1315944<br>Population density: 29.1<br>Wealth difference: 36.0\", \"Country: Finland<br>Population: 5491817<br>Population density: 16.23<br>Wealth difference: 26.9\", \"Country: France<br>Population: 66710000<br>Population density: 104.12<br>Wealth difference: 32.7\", \"Country: Germany<br>Population: 81770900<br>Population density: 228.98<br>Wealth difference: 28.3\", \"Country: Greece<br>Population: 10858018<br>Population density: 82.26<br>Wealth difference: 34.3\", \"Country: Hungary<br>Population: 9823000<br>Population density: 105.59<br>Wealth difference: 31.2\", \"Country: Ireland<br>Population: 6378000<br>Population density: 90.76<br>Wealth difference: 34.3\", \"Country: Italy<br>Population: 60665551<br>Population density: 201.32<br>Wealth difference: 36.0\", \"Country: Latvia<br>Population: 1961600<br>Population density: 30.38<br>Wealth difference: 36.6\", \"Country: Lithuania<br>Population: 2872294<br>Population density: 43.99<br>Wealth difference: 37.6\", \"Country: Luxembourg<br>Population: 576200<br>Population density: 222.82<br>Wealth difference: 30.8\", \"Country: Macedonia (the former Yugoslav Republic of)<br>Population: 2058539<br>Population density: 80.06<br>Wealth difference: 43.2\", \"Country: Moldova (Republic of)<br>Population: 3553100<br>Population density: 104.98<br>Wealth difference: 33.0\", \"Country: Montenegro<br>Population: 621810<br>Population density: 45.02<br>Wealth difference: 30.0\", \"Country: Netherlands<br>Population: 17019800<br>Population density: 406.69<br>Wealth difference: 30.9\", \"Country: Norway<br>Population: 5223256<br>Population density: 16.13<br>Wealth difference: 25.8\", \"Country: Poland<br>Population: 38437239<br>Population density: 122.93<br>Wealth difference: 34.1\", \"Country: Portugal<br>Population: 10374822<br>Population density: 112.66<br>Wealth difference: 38.5\", \"Country: Romania<br>Population: 19861408<br>Population density: 83.31<br>Wealth difference: 30.0\", \"Country: Russian Federation<br>Population: 146599183<br>Population density: 8.56<br>Wealth difference: 40.1\", \"Country: Serbia<br>Population: 7076372<br>Population density: 80.08<br>Wealth difference: 27.8\", \"Country: Slovakia<br>Population: 5426252<br>Population density: 110.66<br>Wealth difference: 26.0\", \"Country: Slovenia<br>Population: 2064188<br>Population density: 101.82<br>Wealth difference: 31.2\", \"Country: Spain<br>Population: 46438422<br>Population density: 91.78<br>Wealth difference: 34.7\", \"Country: Sweden<br>Population: 9894888<br>Population density: 21.97<br>Wealth difference: 25.0\", \"Country: Switzerland<br>Population: 8341600<br>Population density: 202.05<br>Wealth difference: 33.7\", \"Country: Ukraine<br>Population: 42692393<br>Population density: 70.72<br>Wealth difference: 26.4\", \"Country: United Kingdom of Great Britain and Northern Ireland<br>Population: 65110000<br>Population density: 268.05<br>Wealth difference: 34.0\"], \"type\": \"scatter\", \"x\": [2886026, 8725931, 9498700, 11319511, 3531159, 7153784, 4190669, 10558524, 5717014, 1315944, 5491817, 66710000, 81770900, 10858018, 9823000, 6378000, 60665551, 1961600, 2872294, 576200, 2058539, 3553100, 621810, 17019800, 5223256, 38437239, 10374822, 19861408, 146599183, 7076372, 5426252, 2064188, 46438422, 9894888, 8341600, 42692393, 65110000], \"y\": [34.5, 26.0, 26.5, 33.0, 36.2, 28.2, 33.7, 26.0, 24.0, 36.0, 26.9, 32.7, 28.3, 34.3, 31.2, 34.3, 36.0, 36.6, 37.6, 30.8, 43.2, 33.0, 30.0, 30.9, 25.8, 34.1, 38.5, 30.0, 40.1, 27.8, 26.0, 31.2, 34.7, 25.0, 33.7, 26.4, 34.0]}, {\"marker\": {\"size\": [16.96, 20.75, 94.6, 3.68, 69.73, 363.39, 47.77, 131.72, 8.02, 11.29, 432.95, 13.86, 38.79, 91.07, 83.5, 6.73, 116.0, 52.66, 42.85, 70.31, 81.42, 62.4, 41.44, 38.22, 142.07, 14.62, 3.61, 74.66, 32.96, 2.82, 16.35, 202.42, 438.65, 194.35, 75.23, 202.21, 98.63, 45.58, 19.57, 21.0, 65.23, 58.36, 125.79, 68.18, 140.18, 21.17], \"sizemode\": \"area\"}, \"mode\": \"markers\", \"name\": \"Africa\", \"text\": [\"Country: Algeria<br>Population: 40400000<br>Population density: 16.96<br>Wealth difference: 35.3\", \"Country: Angola<br>Population: 25868000<br>Population density: 20.75<br>Wealth difference: 58.6\", \"Country: Benin<br>Population: 10653654<br>Population density: 94.6<br>Wealth difference: 38.6\", \"Country: Botswana<br>Population: 2141206<br>Population density: 3.68<br>Wealth difference: 61.0\", \"Country: Burkina Faso<br>Population: 19034397<br>Population density: 69.73<br>Wealth difference: 39.8\", \"Country: Burundi<br>Population: 10114505<br>Population density: 363.39<br>Wealth difference: 33.3\", \"Country: Cameroon<br>Population: 22709892<br>Population density: 47.77<br>Wealth difference: 38.9\", \"Country: Cabo Verde<br>Population: 531239<br>Population density: 131.72<br>Wealth difference: 50.5\", \"Country: Central African Republic<br>Population: 4998000<br>Population density: 8.02<br>Wealth difference: 56.3\", \"Country: Chad<br>Population: 14497000<br>Population density: 11.29<br>Wealth difference: 39.8\", \"Country: Comoros<br>Population: 806153<br>Population density: 432.95<br>Wealth difference: 64.3\", \"Country: Congo<br>Population: 4741000<br>Population density: 13.86<br>Wealth difference: 47.3\", \"Country: Djibouti<br>Population: 900000<br>Population density: 38.79<br>Wealth difference: 40.0\", \"Country: Egypt<br>Population: 91290000<br>Population density: 91.07<br>Wealth difference: 30.8\", \"Country: Ethiopia<br>Population: 92206005<br>Population density: 83.5<br>Wealth difference: 29.8\", \"Country: Gabon<br>Population: 1802278<br>Population density: 6.73<br>Wealth difference: 41.5\", \"Country: Ghana<br>Population: 27670174<br>Population density: 116.0<br>Wealth difference: 42.8\", \"Country: Guinea<br>Population: 12947000<br>Population density: 52.66<br>Wealth difference: 39.4\", \"Country: Guinea-Bissau<br>Population: 1547777<br>Population density: 42.85<br>Wealth difference: 35.5\", \"Country: C\\u00f4te d'Ivoire<br>Population: 22671331<br>Population density: 70.31<br>Wealth difference: 41.5\", \"Country: Kenya<br>Population: 47251000<br>Population density: 81.42<br>Wealth difference: 47.7\", \"Country: Lesotho<br>Population: 1894194<br>Population density: 62.4<br>Wealth difference: 52.5\", \"Country: Liberia<br>Population: 4615000<br>Population density: 41.44<br>Wealth difference: 38.2\", \"Country: Madagascar<br>Population: 22434363<br>Population density: 38.22<br>Wealth difference: 44.1\", \"Country: Malawi<br>Population: 16832910<br>Population density: 142.07<br>Wealth difference: 39.0\", \"Country: Mali<br>Population: 18135000<br>Population density: 14.62<br>Wealth difference: 33.0\", \"Country: Mauritania<br>Population: 3718678<br>Population density: 3.61<br>Wealth difference: 40.5\", \"Country: Morocco<br>Population: 33337529<br>Population density: 74.66<br>Wealth difference: 40.9\", \"Country: Mozambique<br>Population: 26423700<br>Population density: 32.96<br>Wealth difference: 45.7\", \"Country: Namibia<br>Population: 2324388<br>Population density: 2.82<br>Wealth difference: 63.9\", \"Country: Niger<br>Population: 20715000<br>Population density: 16.35<br>Wealth difference: 34.6\", \"Country: Nigeria<br>Population: 186988000<br>Population density: 202.42<br>Wealth difference: 48.8\", \"Country: Rwanda<br>Population: 11553188<br>Population density: 438.65<br>Wealth difference: 50.8\", \"Country: Sao Tome and Principe<br>Population: 187356<br>Population density: 194.35<br>Wealth difference: 50.8\", \"Country: Senegal<br>Population: 14799859<br>Population density: 75.23<br>Wealth difference: 39.2\", \"Country: Seychelles<br>Population: 91400<br>Population density: 202.21<br>Wealth difference: 65.8\", \"Country: Sierra Leone<br>Population: 7075641<br>Population density: 98.63<br>Wealth difference: 42.5\", \"Country: South Africa<br>Population: 55653654<br>Population density: 45.58<br>Wealth difference: 63.1\", \"Country: South Sudan<br>Population: 12131000<br>Population density: 19.57<br>Wealth difference: 45.5\", \"Country: Sudan<br>Population: 39598700<br>Population density: 21.0<br>Wealth difference: 35.3\", \"Country: Swaziland<br>Population: 1132657<br>Population density: 65.23<br>Wealth difference: 51.5\", \"Country: Tanzania, United Republic of<br>Population: 55155000<br>Population density: 58.36<br>Wealth difference: 37.6\", \"Country: Togo<br>Population: 7143000<br>Population density: 125.79<br>Wealth difference: 34.4\", \"Country: Tunisia<br>Population: 11154400<br>Population density: 68.18<br>Wealth difference: 41.4\", \"Country: Uganda<br>Population: 33860700<br>Population density: 140.18<br>Wealth difference: 44.3\", \"Country: Zambia<br>Population: 15933883<br>Population density: 21.17<br>Wealth difference: 54.6\"], \"type\": \"scatter\", \"x\": [40400000, 25868000, 10653654, 2141206, 19034397, 10114505, 22709892, 531239, 4998000, 14497000, 806153, 4741000, 900000, 91290000, 92206005, 1802278, 27670174, 12947000, 1547777, 22671331, 47251000, 1894194, 4615000, 22434363, 16832910, 18135000, 3718678, 33337529, 26423700, 2324388, 20715000, 186988000, 11553188, 187356, 14799859, 91400, 7075641, 55653654, 12131000, 39598700, 1132657, 55155000, 7143000, 11154400, 33860700, 15933883], \"y\": [35.3, 58.6, 38.6, 61.0, 39.8, 33.3, 38.9, 50.5, 56.3, 39.8, 64.3, 47.3, 40.0, 30.8, 29.8, 41.5, 42.8, 39.4, 35.5, 41.5, 47.7, 52.5, 38.2, 44.1, 39.0, 33.0, 40.5, 40.9, 45.7, 63.9, 34.6, 48.8, 50.8, 50.8, 39.2, 65.8, 42.5, 63.1, 45.5, 35.3, 51.5, 37.6, 34.4, 41.4, 44.3, 54.6]}, {\"marker\": {\"size\": [3.14, 47.45, 17.37, 17.47], \"sizemode\": \"area\"}, \"mode\": \"markers\", \"name\": \"Oceania\", \"text\": [\"Country: Australia<br>Population: 24117360<br>Population density: 3.14<br>Wealth difference: 30.5\", \"Country: Fiji<br>Population: 867000<br>Population density: 47.45<br>Wealth difference: 42.8\", \"Country: New Zealand<br>Population: 4697854<br>Population density: 17.37<br>Wealth difference: 36.2\", \"Country: Papua New Guinea<br>Population: 8083700<br>Population density: 17.47<br>Wealth difference: 50.9\"], \"type\": \"scatter\", \"x\": [24117360, 867000, 4697854, 8083700], \"y\": [30.5, 42.8, 36.2, 50.9]}, {\"marker\": {\"size\": [15.68, 16.12, 10.0, 24.21, 3.62, 24.06, 42.71, 95.7, 207.0, 59.77, 309.9, 148.56, 3.47, 399.21, 76.24, 247.77, 62.25, 48.04, 50.58, 16.85, 24.5, 301.95, 3.31, 263.09, 33.64, 19.22, 33.86], \"sizemode\": \"area\"}, \"mode\": \"markers\", \"name\": \"Americas\", \"text\": [\"Country: Argentina<br>Population: 43590400<br>Population density: 15.68<br>Wealth difference: 44.5\", \"Country: Belize<br>Population: 370300<br>Population density: 16.12<br>Wealth difference: 53.1\", \"Country: Bolivia (Plurinational State of)<br>Population: 10985059<br>Population density: 10.0<br>Wealth difference: 56.3\", \"Country: Brazil<br>Population: 206135893<br>Population density: 24.21<br>Wealth difference: 54.7\", \"Country: Canada<br>Population: 36155487<br>Population density: 3.62<br>Wealth difference: 32.6\", \"Country: Chile<br>Population: 18191900<br>Population density: 24.06<br>Wealth difference: 52.1\", \"Country: Colombia<br>Population: 48759958<br>Population density: 42.71<br>Wealth difference: 55.9\", \"Country: Costa Rica<br>Population: 4890379<br>Population density: 95.7<br>Wealth difference: 50.7\", \"Country: Dominican Republic<br>Population: 10075045<br>Population density: 207.0<br>Wealth difference: 47.2\", \"Country: Ecuador<br>Population: 16545799<br>Population density: 59.77<br>Wealth difference: 49.3\", \"Country: El Salvador<br>Population: 6520675<br>Population density: 309.9<br>Wealth difference: 48.3\", \"Country: Guatemala<br>Population: 16176133<br>Population density: 148.56<br>Wealth difference: 55.9\", \"Country: Guyana<br>Population: 746900<br>Population density: 3.47<br>Wealth difference: 44.5\", \"Country: Haiti<br>Population: 11078033<br>Population density: 399.21<br>Wealth difference: 59.2\", \"Country: Honduras<br>Population: 8576532<br>Population density: 76.24<br>Wealth difference: 57.0\", \"Country: Jamaica<br>Population: 2723246<br>Population density: 247.77<br>Wealth difference: 45.5\", \"Country: Mexico<br>Population: 122273473<br>Population density: 62.25<br>Wealth difference: 47.0\", \"Country: Nicaragua<br>Population: 6262703<br>Population density: 48.04<br>Wealth difference: 40.5\", \"Country: Panama<br>Population: 3814672<br>Population density: 50.58<br>Wealth difference: 51.9\", \"Country: Paraguay<br>Population: 6854536<br>Population density: 16.85<br>Wealth difference: 52.4\", \"Country: Peru<br>Population: 31488700<br>Population density: 24.5<br>Wealth difference: 48.1\", \"Country: Saint Lucia<br>Population: 186000<br>Population density: 301.95<br>Wealth difference: 42.6\", \"Country: Suriname<br>Population: 541638<br>Population density: 3.31<br>Wealth difference: 52.9\", \"Country: Trinidad and Tobago<br>Population: 1349667<br>Population density: 263.09<br>Wealth difference: 40.3\", \"Country: United States of America<br>Population: 323947000<br>Population density: 33.64<br>Wealth difference: 48.0\", \"Country: Uruguay<br>Population: 3480222<br>Population density: 19.22<br>Wealth difference: 39.7\", \"Country: Venezuela (Bolivarian Republic of)<br>Population: 31028700<br>Population density: 33.86<br>Wealth difference: 44.8\"], \"type\": \"scatter\", \"x\": [43590400, 370300, 10985059, 206135893, 36155487, 18191900, 48759958, 4890379, 10075045, 16545799, 6520675, 16176133, 746900, 11078033, 8576532, 2723246, 122273473, 6262703, 3814672, 6854536, 31488700, 186000, 541638, 1349667, 323947000, 3480222, 31028700], \"y\": [44.5, 53.1, 56.3, 54.7, 32.6, 52.1, 55.9, 50.7, 47.2, 49.3, 48.3, 55.9, 44.5, 59.2, 57.0, 45.5, 47.0, 40.5, 51.9, 52.4, 48.1, 42.6, 52.9, 40.3, 48.0, 39.7, 44.8]}, {\"marker\": {\"size\": [], \"sizemode\": \"area\"}, \"mode\": \"markers\", \"name\": \"Polar\", \"text\": [], \"type\": \"scatter\", \"x\": [], \"y\": []}],\n",
       "                        {\"paper_bgcolor\": \"rgb(243, 243, 243)\", \"plot_bgcolor\": \"rgb(243, 243, 243)\", \"template\": {\"data\": {\"bar\": [{\"error_x\": {\"color\": \"#2a3f5f\"}, \"error_y\": {\"color\": \"#2a3f5f\"}, \"marker\": {\"line\": {\"color\": \"#E5ECF6\", \"width\": 0.5}}, \"type\": \"bar\"}], \"barpolar\": [{\"marker\": {\"line\": {\"color\": \"#E5ECF6\", \"width\": 0.5}}, \"type\": \"barpolar\"}], \"carpet\": [{\"aaxis\": {\"endlinecolor\": \"#2a3f5f\", \"gridcolor\": \"white\", \"linecolor\": \"white\", \"minorgridcolor\": \"white\", \"startlinecolor\": \"#2a3f5f\"}, \"baxis\": {\"endlinecolor\": \"#2a3f5f\", \"gridcolor\": \"white\", \"linecolor\": \"white\", \"minorgridcolor\": \"white\", \"startlinecolor\": \"#2a3f5f\"}, \"type\": \"carpet\"}], \"choropleth\": [{\"colorbar\": {\"outlinewidth\": 0, \"ticks\": \"\"}, \"type\": \"choropleth\"}], \"contour\": [{\"colorbar\": {\"outlinewidth\": 0, \"ticks\": \"\"}, \"colorscale\": [[0.0, \"#0d0887\"], [0.1111111111111111, \"#46039f\"], [0.2222222222222222, \"#7201a8\"], [0.3333333333333333, \"#9c179e\"], [0.4444444444444444, \"#bd3786\"], [0.5555555555555556, \"#d8576b\"], [0.6666666666666666, \"#ed7953\"], [0.7777777777777778, \"#fb9f3a\"], [0.8888888888888888, \"#fdca26\"], [1.0, \"#f0f921\"]], \"type\": \"contour\"}], \"contourcarpet\": [{\"colorbar\": {\"outlinewidth\": 0, \"ticks\": \"\"}, \"type\": \"contourcarpet\"}], \"heatmap\": [{\"colorbar\": {\"outlinewidth\": 0, \"ticks\": \"\"}, \"colorscale\": [[0.0, \"#0d0887\"], [0.1111111111111111, \"#46039f\"], [0.2222222222222222, \"#7201a8\"], [0.3333333333333333, \"#9c179e\"], [0.4444444444444444, \"#bd3786\"], [0.5555555555555556, \"#d8576b\"], [0.6666666666666666, \"#ed7953\"], [0.7777777777777778, \"#fb9f3a\"], [0.8888888888888888, \"#fdca26\"], [1.0, \"#f0f921\"]], \"type\": \"heatmap\"}], \"heatmapgl\": [{\"colorbar\": {\"outlinewidth\": 0, \"ticks\": \"\"}, \"colorscale\": [[0.0, \"#0d0887\"], [0.1111111111111111, \"#46039f\"], [0.2222222222222222, \"#7201a8\"], [0.3333333333333333, \"#9c179e\"], [0.4444444444444444, \"#bd3786\"], [0.5555555555555556, \"#d8576b\"], [0.6666666666666666, \"#ed7953\"], [0.7777777777777778, \"#fb9f3a\"], [0.8888888888888888, \"#fdca26\"], [1.0, \"#f0f921\"]], \"type\": \"heatmapgl\"}], \"histogram\": [{\"marker\": {\"colorbar\": {\"outlinewidth\": 0, \"ticks\": \"\"}}, \"type\": \"histogram\"}], \"histogram2d\": [{\"colorbar\": {\"outlinewidth\": 0, \"ticks\": \"\"}, \"colorscale\": [[0.0, \"#0d0887\"], [0.1111111111111111, \"#46039f\"], [0.2222222222222222, \"#7201a8\"], [0.3333333333333333, \"#9c179e\"], [0.4444444444444444, \"#bd3786\"], [0.5555555555555556, \"#d8576b\"], [0.6666666666666666, \"#ed7953\"], [0.7777777777777778, \"#fb9f3a\"], [0.8888888888888888, \"#fdca26\"], [1.0, \"#f0f921\"]], \"type\": \"histogram2d\"}], \"histogram2dcontour\": [{\"colorbar\": {\"outlinewidth\": 0, \"ticks\": \"\"}, \"colorscale\": [[0.0, \"#0d0887\"], [0.1111111111111111, \"#46039f\"], [0.2222222222222222, \"#7201a8\"], [0.3333333333333333, \"#9c179e\"], [0.4444444444444444, \"#bd3786\"], [0.5555555555555556, \"#d8576b\"], [0.6666666666666666, \"#ed7953\"], [0.7777777777777778, \"#fb9f3a\"], [0.8888888888888888, \"#fdca26\"], [1.0, \"#f0f921\"]], \"type\": \"histogram2dcontour\"}], \"mesh3d\": [{\"colorbar\": {\"outlinewidth\": 0, \"ticks\": \"\"}, \"type\": \"mesh3d\"}], \"parcoords\": [{\"line\": {\"colorbar\": {\"outlinewidth\": 0, \"ticks\": \"\"}}, \"type\": \"parcoords\"}], \"pie\": [{\"automargin\": true, \"type\": \"pie\"}], \"scatter\": [{\"marker\": {\"colorbar\": {\"outlinewidth\": 0, \"ticks\": \"\"}}, \"type\": \"scatter\"}], \"scatter3d\": [{\"line\": {\"colorbar\": {\"outlinewidth\": 0, \"ticks\": \"\"}}, \"marker\": {\"colorbar\": {\"outlinewidth\": 0, \"ticks\": \"\"}}, \"type\": \"scatter3d\"}], \"scattercarpet\": [{\"marker\": {\"colorbar\": {\"outlinewidth\": 0, \"ticks\": \"\"}}, \"type\": \"scattercarpet\"}], \"scattergeo\": [{\"marker\": {\"colorbar\": {\"outlinewidth\": 0, \"ticks\": \"\"}}, \"type\": \"scattergeo\"}], \"scattergl\": [{\"marker\": {\"colorbar\": {\"outlinewidth\": 0, \"ticks\": \"\"}}, \"type\": \"scattergl\"}], \"scattermapbox\": [{\"marker\": {\"colorbar\": {\"outlinewidth\": 0, \"ticks\": \"\"}}, \"type\": \"scattermapbox\"}], \"scatterpolar\": [{\"marker\": {\"colorbar\": {\"outlinewidth\": 0, \"ticks\": \"\"}}, \"type\": \"scatterpolar\"}], \"scatterpolargl\": [{\"marker\": {\"colorbar\": {\"outlinewidth\": 0, \"ticks\": \"\"}}, \"type\": \"scatterpolargl\"}], \"scatterternary\": [{\"marker\": {\"colorbar\": {\"outlinewidth\": 0, \"ticks\": \"\"}}, \"type\": \"scatterternary\"}], \"surface\": [{\"colorbar\": {\"outlinewidth\": 0, \"ticks\": \"\"}, \"colorscale\": [[0.0, \"#0d0887\"], [0.1111111111111111, \"#46039f\"], [0.2222222222222222, \"#7201a8\"], [0.3333333333333333, \"#9c179e\"], [0.4444444444444444, \"#bd3786\"], [0.5555555555555556, \"#d8576b\"], [0.6666666666666666, \"#ed7953\"], [0.7777777777777778, \"#fb9f3a\"], [0.8888888888888888, \"#fdca26\"], [1.0, \"#f0f921\"]], \"type\": \"surface\"}], \"table\": [{\"cells\": {\"fill\": {\"color\": \"#EBF0F8\"}, \"line\": {\"color\": \"white\"}}, \"header\": {\"fill\": {\"color\": \"#C8D4E3\"}, \"line\": {\"color\": \"white\"}}, \"type\": \"table\"}]}, \"layout\": {\"annotationdefaults\": {\"arrowcolor\": \"#2a3f5f\", \"arrowhead\": 0, \"arrowwidth\": 1}, \"coloraxis\": {\"colorbar\": {\"outlinewidth\": 0, \"ticks\": \"\"}}, \"colorscale\": {\"diverging\": [[0, \"#8e0152\"], [0.1, \"#c51b7d\"], [0.2, \"#de77ae\"], [0.3, \"#f1b6da\"], [0.4, \"#fde0ef\"], [0.5, \"#f7f7f7\"], [0.6, \"#e6f5d0\"], [0.7, \"#b8e186\"], [0.8, \"#7fbc41\"], [0.9, \"#4d9221\"], [1, \"#276419\"]], \"sequential\": [[0.0, \"#0d0887\"], [0.1111111111111111, \"#46039f\"], [0.2222222222222222, \"#7201a8\"], [0.3333333333333333, \"#9c179e\"], [0.4444444444444444, \"#bd3786\"], [0.5555555555555556, \"#d8576b\"], [0.6666666666666666, \"#ed7953\"], [0.7777777777777778, \"#fb9f3a\"], [0.8888888888888888, \"#fdca26\"], [1.0, \"#f0f921\"]], \"sequentialminus\": [[0.0, \"#0d0887\"], [0.1111111111111111, \"#46039f\"], [0.2222222222222222, \"#7201a8\"], [0.3333333333333333, \"#9c179e\"], [0.4444444444444444, \"#bd3786\"], [0.5555555555555556, \"#d8576b\"], [0.6666666666666666, \"#ed7953\"], [0.7777777777777778, \"#fb9f3a\"], [0.8888888888888888, \"#fdca26\"], [1.0, \"#f0f921\"]]}, \"colorway\": [\"#636efa\", \"#EF553B\", \"#00cc96\", \"#ab63fa\", \"#FFA15A\", \"#19d3f3\", \"#FF6692\", \"#B6E880\", \"#FF97FF\", \"#FECB52\"], \"font\": {\"color\": \"#2a3f5f\"}, \"geo\": {\"bgcolor\": \"white\", \"lakecolor\": \"white\", \"landcolor\": \"#E5ECF6\", \"showlakes\": true, \"showland\": true, \"subunitcolor\": \"white\"}, \"hoverlabel\": {\"align\": \"left\"}, \"hovermode\": \"closest\", \"mapbox\": {\"style\": \"light\"}, \"paper_bgcolor\": \"white\", \"plot_bgcolor\": \"#E5ECF6\", \"polar\": {\"angularaxis\": {\"gridcolor\": \"white\", \"linecolor\": \"white\", \"ticks\": \"\"}, \"bgcolor\": \"#E5ECF6\", \"radialaxis\": {\"gridcolor\": \"white\", \"linecolor\": \"white\", \"ticks\": \"\"}}, \"scene\": {\"xaxis\": {\"backgroundcolor\": \"#E5ECF6\", \"gridcolor\": \"white\", \"gridwidth\": 2, \"linecolor\": \"white\", \"showbackground\": true, \"ticks\": \"\", \"zerolinecolor\": \"white\"}, \"yaxis\": {\"backgroundcolor\": \"#E5ECF6\", \"gridcolor\": \"white\", \"gridwidth\": 2, \"linecolor\": \"white\", \"showbackground\": true, \"ticks\": \"\", \"zerolinecolor\": \"white\"}, \"zaxis\": {\"backgroundcolor\": \"#E5ECF6\", \"gridcolor\": \"white\", \"gridwidth\": 2, \"linecolor\": \"white\", \"showbackground\": true, \"ticks\": \"\", \"zerolinecolor\": \"white\"}}, \"shapedefaults\": {\"line\": {\"color\": \"#2a3f5f\"}}, \"ternary\": {\"aaxis\": {\"gridcolor\": \"white\", \"linecolor\": \"white\", \"ticks\": \"\"}, \"baxis\": {\"gridcolor\": \"white\", \"linecolor\": \"white\", \"ticks\": \"\"}, \"bgcolor\": \"#E5ECF6\", \"caxis\": {\"gridcolor\": \"white\", \"linecolor\": \"white\", \"ticks\": \"\"}}, \"title\": {\"x\": 0.05}, \"xaxis\": {\"automargin\": true, \"gridcolor\": \"white\", \"linecolor\": \"white\", \"ticks\": \"\", \"title\": {\"standoff\": 15}, \"zerolinecolor\": \"white\", \"zerolinewidth\": 2}, \"yaxis\": {\"automargin\": true, \"gridcolor\": \"white\", \"linecolor\": \"white\", \"ticks\": \"\", \"title\": {\"standoff\": 15}, \"zerolinecolor\": \"white\", \"zerolinewidth\": 2}}}, \"title\": {\"text\": \"Population v. Wealth difference\"}, \"xaxis\": {\"gridcolor\": \"white\", \"gridwidth\": 2, \"title\": {\"text\": \"Country population\"}, \"type\": \"log\"}, \"yaxis\": {\"gridcolor\": \"white\", \"gridwidth\": 2, \"title\": {\"text\": \"Gini index\"}}},\n",
       "                        {\"responsive\": true}\n",
       "                    ).then(function(){\n",
       "                            \n",
       "var gd = document.getElementById('f79f9341-b497-432c-95ff-5ed1da17b255');\n",
       "var x = new MutationObserver(function (mutations, observer) {{\n",
       "        var display = window.getComputedStyle(gd).display;\n",
       "        if (!display || display === 'none') {{\n",
       "            console.log([gd, 'removed!']);\n",
       "            Plotly.purge(gd);\n",
       "            observer.disconnect();\n",
       "        }}\n",
       "}});\n",
       "\n",
       "// Listen for the removal of the full notebook cells\n",
       "var notebookContainer = gd.closest('#notebook-container');\n",
       "if (notebookContainer) {{\n",
       "    x.observe(notebookContainer, {childList: true});\n",
       "}}\n",
       "\n",
       "// Listen for the clearing of the current output cell\n",
       "var outputEl = gd.closest('.output');\n",
       "if (outputEl) {{\n",
       "    x.observe(outputEl, {childList: true});\n",
       "}}\n",
       "\n",
       "                        })\n",
       "                };\n",
       "                });\n",
       "            </script>\n",
       "        </div>"
      ]
     },
     "metadata": {},
     "output_type": "display_data"
    },
    {
     "name": "stdout",
     "output_type": "stream",
     "text": [
      "Y-axis: Wealth difference within each country. The higher the Gini index is, the higher is difference between the rich and the poor.\n",
      "X-axis: Population of each country.\n",
      "Dot size: Population density of each country.\n"
     ]
    }
   ],
   "source": [
    "reg = df['region'].unique()\n",
    "\n",
    "# Load data, define hover text and bubble size\n",
    "\n",
    "hover_text = []\n",
    "\n",
    "for index, row in df.iterrows():\n",
    "    hover_text.append(('Country: {country}<br>'+\n",
    "                      'Population: {population}<br>'+\n",
    "                      'Population density: {popDensity}<br>'+\n",
    "                      'Wealth difference: {gini}').format(country=row['country'],\n",
    "                                                          population=row['population'],\n",
    "                                                          popDensity=row['popDensity'],\n",
    "                                                          gini=row['gini']))\n",
    "    \n",
    "\n",
    "df['text_pop'] = hover_text\n",
    "\n",
    "fig = go.Figure()\n",
    "\n",
    "# lst = ['Singapore','Hong Kong','India','China']    \n",
    "# cond = (df['region']=='Asia') & (df['gini'].isnull() == False) & (df['country'].isin(lst) == False)\n",
    "# fig.add_trace(go.Scatter(x=df[cond]['population'],\n",
    "#                          y=df[cond]['gini'],\n",
    "#                          name='Asia - no outliners', \n",
    "#                          text=df[cond]['text'],\n",
    "#                          mode='markers',\n",
    "#                          marker=dict(size=df[cond]['popDensity'],\n",
    "#                                      sizemode='area',\n",
    "# #                                      sizeref=2.*max(size)/(40.**2),\n",
    "# #                                      sizemin=4,\n",
    "# #                                      color = df['region']\n",
    "#                                     )))\n",
    "\n",
    "for i in reg:\n",
    "    cond=(df['region']==i) & (df['gini'].isnull() == False)\n",
    "    fig.add_trace(go.Scatter(x=df[cond]['population'],\n",
    "                            y=df[cond]['gini'],\n",
    "                            name=i, \n",
    "                            text=df[cond]['text_pop'],\n",
    "                            mode='markers',\n",
    "                            marker=dict(\n",
    "                            size=df[cond]['popDensity'],\n",
    "                            sizemode='area',\n",
    "#                             sizeref=2.*max(size)/(40.**2),\n",
    "#                             sizemin=4,\n",
    "#                             color = df['region']\n",
    "                            )))\n",
    "\n",
    "fig.update_layout(\n",
    "    title='Population v. Wealth difference',\n",
    "    xaxis=dict(\n",
    "        title='Country population',\n",
    "        gridcolor='white',\n",
    "        type='log',\n",
    "        gridwidth=2,\n",
    "    ),\n",
    "    yaxis=dict(\n",
    "        title='Gini index',\n",
    "        gridcolor='white',\n",
    "        gridwidth=2,\n",
    "    ),\n",
    "    paper_bgcolor='rgb(243, 243, 243)',\n",
    "    plot_bgcolor='rgb(243, 243, 243)',\n",
    ")    \n",
    "\n",
    "fig.show()\n",
    "print('Y-axis: Wealth difference within each country. The higher the Gini index is, the higher is difference between the rich and the poor.')\n",
    "print('X-axis: Population of each country.')\n",
    "print('Dot size: Population density of each country.')\n",
    "\n",
    "\n"
   ]
  },
  {
   "cell_type": "code",
   "execution_count": 97,
   "metadata": {
    "scrolled": false
   },
   "outputs": [
    {
     "data": {
      "application/vnd.plotly.v1+json": {
       "config": {
        "plotlyServerURL": "https://plot.ly"
       },
       "data": [
        {
         "colorbar": {
          "title": {
           "text": "World Wealth<br>Difference"
          }
         },
         "colorscale": [
          [
           0,
           "rgb(255,245,240)"
          ],
          [
           0.125,
           "rgb(254,224,210)"
          ],
          [
           0.25,
           "rgb(252,187,161)"
          ],
          [
           0.375,
           "rgb(252,146,114)"
          ],
          [
           0.5,
           "rgb(251,106,74)"
          ],
          [
           0.625,
           "rgb(239,59,44)"
          ],
          [
           0.75,
           "rgb(203,24,29)"
          ],
          [
           0.875,
           "rgb(165,15,21)"
          ],
          [
           1,
           "rgb(103,0,13)"
          ]
         ],
         "locations": [
          "AFG",
          "ALA",
          "ALB",
          "DZA",
          "ASM",
          "AND",
          "AGO",
          "AIA",
          "ATA",
          "ATG",
          "ARG",
          "ARM",
          "ABW",
          "AUS",
          "AUT",
          "AZE",
          "BHS",
          "BHR",
          "BGD",
          "BRB",
          "BLR",
          "BEL",
          "BLZ",
          "BEN",
          "BMU",
          "BTN",
          "BOL",
          "BES",
          "BIH",
          "BWA",
          "BVT",
          "BRA",
          "IOT",
          "UMI",
          "VGB",
          "VIR",
          "BRN",
          "BGR",
          "BFA",
          "BDI",
          "KHM",
          "CMR",
          "CAN",
          "CPV",
          "CYM",
          "CAF",
          "TCD",
          "CHL",
          "CHN",
          "CXR",
          "CCK",
          "COL",
          "COM",
          "COG",
          "COD",
          "COK",
          "CRI",
          "HRV",
          "CUB",
          "CUW",
          "CYP",
          "CZE",
          "DNK",
          "DJI",
          "DMA",
          "DOM",
          "ECU",
          "EGY",
          "SLV",
          "GNQ",
          "ERI",
          "EST",
          "ETH",
          "FLK",
          "FRO",
          "FJI",
          "FIN",
          "FRA",
          "GUF",
          "PYF",
          "ATF",
          "GAB",
          "GMB",
          "GEO",
          "DEU",
          "GHA",
          "GIB",
          "GRC",
          "GRL",
          "GRD",
          "GLP",
          "GUM",
          "GTM",
          "GGY",
          "GIN",
          "GNB",
          "GUY",
          "HTI",
          "HMD",
          "VAT",
          "HND",
          "HKG",
          "HUN",
          "ISL",
          "IND",
          "IDN",
          "CIV",
          "IRN",
          "IRQ",
          "IRL",
          "IMN",
          "ISR",
          "ITA",
          "JAM",
          "JPN",
          "JEY",
          "JOR",
          "KAZ",
          "KEN",
          "KIR",
          "KWT",
          "KGZ",
          "LAO",
          "LVA",
          "LBN",
          "LSO",
          "LBR",
          "LBY",
          "LIE",
          "LTU",
          "LUX",
          "MAC",
          "MKD",
          "MDG",
          "MWI",
          "MYS",
          "MDV",
          "MLI",
          "MLT",
          "MHL",
          "MTQ",
          "MRT",
          "MUS",
          "MYT",
          "MEX",
          "FSM",
          "MDA",
          "MCO",
          "MNG",
          "MNE",
          "MSR",
          "MAR",
          "MOZ",
          "MMR",
          "NAM",
          "NRU",
          "NPL",
          "NLD",
          "NCL",
          "NZL",
          "NIC",
          "NER",
          "NGA",
          "NIU",
          "NFK",
          "PRK",
          "MNP",
          "NOR",
          "OMN",
          "PAK",
          "PLW",
          "PSE",
          "PAN",
          "PNG",
          "PRY",
          "PER",
          "PHL",
          "PCN",
          "POL",
          "PRT",
          "PRI",
          "QAT",
          "KOS",
          "REU",
          "ROU",
          "RUS",
          "RWA",
          "BLM",
          "SHN",
          "KNA",
          "LCA",
          "MAF",
          "SPM",
          "VCT",
          "WSM",
          "SMR",
          "STP",
          "SAU",
          "SEN",
          "SRB",
          "SYC",
          "SLE",
          "SGP",
          "SXM",
          "SVK",
          "SVN",
          "SLB",
          "SOM",
          "ZAF",
          "SGS",
          "KOR",
          "SSD",
          "ESP",
          "LKA",
          "SDN",
          "SUR",
          "SJM",
          "SWZ",
          "SWE",
          "CHE",
          "SYR",
          "TWN",
          "TJK",
          "TZA",
          "THA",
          "TLS",
          "TGO",
          "TKL",
          "TON",
          "TTO",
          "TUN",
          "TUR",
          "TKM",
          "TCA",
          "TUV",
          "UGA",
          "UKR",
          "ARE",
          "GBR",
          "USA",
          "URY",
          "UZB",
          "VUT",
          "VEN",
          "VNM",
          "WLF",
          "ESH",
          "YEM",
          "ZMB",
          "ZWE"
         ],
         "marker": {
          "line": {
           "color": "darkgray",
           "width": 0.5
          }
         },
         "reversescale": false,
         "text": [
          "Afghanistan",
          "Åland Islands",
          "Albania",
          "Algeria",
          "American Samoa",
          "Andorra",
          "Angola",
          "Anguilla",
          "Antarctica",
          "Antigua and Barbuda",
          "Argentina",
          "Armenia",
          "Aruba",
          "Australia",
          "Austria",
          "Azerbaijan",
          "Bahamas",
          "Bahrain",
          "Bangladesh",
          "Barbados",
          "Belarus",
          "Belgium",
          "Belize",
          "Benin",
          "Bermuda",
          "Bhutan",
          "Bolivia (Plurinational State of)",
          "Bonaire, Sint Eustatius and Saba",
          "Bosnia and Herzegovina",
          "Botswana",
          "Bouvet Island",
          "Brazil",
          "British Indian Ocean Territory",
          "United States Minor Outlying Islands",
          "Virgin Islands (British)",
          "Virgin Islands (U.S.)",
          "Brunei Darussalam",
          "Bulgaria",
          "Burkina Faso",
          "Burundi",
          "Cambodia",
          "Cameroon",
          "Canada",
          "Cabo Verde",
          "Cayman Islands",
          "Central African Republic",
          "Chad",
          "Chile",
          "China",
          "Christmas Island",
          "Cocos (Keeling) Islands",
          "Colombia",
          "Comoros",
          "Congo",
          "Congo (Democratic Republic of the)",
          "Cook Islands",
          "Costa Rica",
          "Croatia",
          "Cuba",
          "Curaçao",
          "Cyprus",
          "Czech Republic",
          "Denmark",
          "Djibouti",
          "Dominica",
          "Dominican Republic",
          "Ecuador",
          "Egypt",
          "El Salvador",
          "Equatorial Guinea",
          "Eritrea",
          "Estonia",
          "Ethiopia",
          "Falkland Islands (Malvinas)",
          "Faroe Islands",
          "Fiji",
          "Finland",
          "France",
          "French Guiana",
          "French Polynesia",
          "French Southern Territories",
          "Gabon",
          "Gambia",
          "Georgia",
          "Germany",
          "Ghana",
          "Gibraltar",
          "Greece",
          "Greenland",
          "Grenada",
          "Guadeloupe",
          "Guam",
          "Guatemala",
          "Guernsey",
          "Guinea",
          "Guinea-Bissau",
          "Guyana",
          "Haiti",
          "Heard Island and McDonald Islands",
          "Holy See",
          "Honduras",
          "Hong Kong",
          "Hungary",
          "Iceland",
          "India",
          "Indonesia",
          "Côte d'Ivoire",
          "Iran (Islamic Republic of)",
          "Iraq",
          "Ireland",
          "Isle of Man",
          "Israel",
          "Italy",
          "Jamaica",
          "Japan",
          "Jersey",
          "Jordan",
          "Kazakhstan",
          "Kenya",
          "Kiribati",
          "Kuwait",
          "Kyrgyzstan",
          "Lao People's Democratic Republic",
          "Latvia",
          "Lebanon",
          "Lesotho",
          "Liberia",
          "Libya",
          "Liechtenstein",
          "Lithuania",
          "Luxembourg",
          "Macao",
          "Macedonia (the former Yugoslav Republic of)",
          "Madagascar",
          "Malawi",
          "Malaysia",
          "Maldives",
          "Mali",
          "Malta",
          "Marshall Islands",
          "Martinique",
          "Mauritania",
          "Mauritius",
          "Mayotte",
          "Mexico",
          "Micronesia (Federated States of)",
          "Moldova (Republic of)",
          "Monaco",
          "Mongolia",
          "Montenegro",
          "Montserrat",
          "Morocco",
          "Mozambique",
          "Myanmar",
          "Namibia",
          "Nauru",
          "Nepal",
          "Netherlands",
          "New Caledonia",
          "New Zealand",
          "Nicaragua",
          "Niger",
          "Nigeria",
          "Niue",
          "Norfolk Island",
          "Korea (Democratic People's Republic of)",
          "Northern Mariana Islands",
          "Norway",
          "Oman",
          "Pakistan",
          "Palau",
          "Palestine, State of",
          "Panama",
          "Papua New Guinea",
          "Paraguay",
          "Peru",
          "Philippines",
          "Pitcairn",
          "Poland",
          "Portugal",
          "Puerto Rico",
          "Qatar",
          "Republic of Kosovo",
          "Réunion",
          "Romania",
          "Russian Federation",
          "Rwanda",
          "Saint Barthélemy",
          "Saint Helena, Ascension and Tristan da Cunha",
          "Saint Kitts and Nevis",
          "Saint Lucia",
          "Saint Martin (French part)",
          "Saint Pierre and Miquelon",
          "Saint Vincent and the Grenadines",
          "Samoa",
          "San Marino",
          "Sao Tome and Principe",
          "Saudi Arabia",
          "Senegal",
          "Serbia",
          "Seychelles",
          "Sierra Leone",
          "Singapore",
          "Sint Maarten (Dutch part)",
          "Slovakia",
          "Slovenia",
          "Solomon Islands",
          "Somalia",
          "South Africa",
          "South Georgia and the South Sandwich Islands",
          "Korea (Republic of)",
          "South Sudan",
          "Spain",
          "Sri Lanka",
          "Sudan",
          "Suriname",
          "Svalbard and Jan Mayen",
          "Swaziland",
          "Sweden",
          "Switzerland",
          "Syrian Arab Republic",
          "Taiwan",
          "Tajikistan",
          "Tanzania, United Republic of",
          "Thailand",
          "Timor-Leste",
          "Togo",
          "Tokelau",
          "Tonga",
          "Trinidad and Tobago",
          "Tunisia",
          "Turkey",
          "Turkmenistan",
          "Turks and Caicos Islands",
          "Tuvalu",
          "Uganda",
          "Ukraine",
          "United Arab Emirates",
          "United Kingdom of Great Britain and Northern Ireland",
          "United States of America",
          "Uruguay",
          "Uzbekistan",
          "Vanuatu",
          "Venezuela (Bolivarian Republic of)",
          "Viet Nam",
          "Wallis and Futuna",
          "Western Sahara",
          "Yemen",
          "Zambia",
          "Zimbabwe"
         ],
         "type": "choropleth",
         "z": [
          27.8,
          null,
          34.5,
          35.3,
          null,
          null,
          58.6,
          null,
          null,
          null,
          44.5,
          30.9,
          null,
          30.5,
          26,
          33.7,
          null,
          null,
          32.1,
          null,
          26.5,
          33,
          53.1,
          38.6,
          null,
          38.1,
          56.3,
          null,
          36.2,
          61,
          null,
          54.7,
          null,
          null,
          null,
          null,
          null,
          28.2,
          39.8,
          33.3,
          37.9,
          38.9,
          32.6,
          50.5,
          null,
          56.3,
          39.8,
          52.1,
          47,
          null,
          null,
          55.9,
          64.3,
          47.3,
          null,
          null,
          50.7,
          33.7,
          null,
          null,
          null,
          26,
          24,
          40,
          null,
          47.2,
          49.3,
          30.8,
          48.3,
          null,
          null,
          36,
          29.8,
          null,
          null,
          42.8,
          26.9,
          32.7,
          null,
          null,
          null,
          41.5,
          null,
          41.3,
          28.3,
          42.8,
          null,
          34.3,
          null,
          null,
          null,
          null,
          55.9,
          null,
          39.4,
          35.5,
          44.5,
          59.2,
          null,
          null,
          57,
          53.3,
          31.2,
          null,
          33.4,
          34,
          41.5,
          38.3,
          30.9,
          34.3,
          null,
          39.2,
          36,
          45.5,
          38.1,
          null,
          35.4,
          29,
          47.7,
          null,
          null,
          36.2,
          36.7,
          36.6,
          null,
          52.5,
          38.2,
          null,
          null,
          37.6,
          30.8,
          null,
          43.2,
          44.1,
          39,
          46.2,
          37.4,
          33,
          null,
          null,
          null,
          40.5,
          null,
          null,
          47,
          null,
          33,
          null,
          36.5,
          30,
          null,
          40.9,
          45.7,
          null,
          63.9,
          null,
          32.8,
          30.9,
          null,
          36.2,
          40.5,
          34.6,
          48.8,
          null,
          null,
          null,
          null,
          25.8,
          null,
          30,
          null,
          35.5,
          51.9,
          50.9,
          52.4,
          48.1,
          43,
          null,
          34.1,
          38.5,
          null,
          41.1,
          null,
          null,
          30,
          40.1,
          50.8,
          null,
          null,
          null,
          42.6,
          null,
          null,
          null,
          null,
          null,
          50.8,
          null,
          39.2,
          27.8,
          65.8,
          42.5,
          48.1,
          null,
          26,
          31.2,
          null,
          null,
          63.1,
          null,
          31.3,
          45.5,
          34.7,
          40.3,
          35.3,
          52.9,
          null,
          51.5,
          25,
          33.7,
          35.8,
          null,
          30.8,
          37.6,
          40,
          31.9,
          34.4,
          null,
          null,
          40.3,
          41.4,
          39,
          40.8,
          null,
          null,
          44.3,
          26.4,
          null,
          34,
          48,
          39.7,
          36.7,
          null,
          44.8,
          35.6,
          null,
          null,
          37.7,
          54.6,
          null
         ],
         "zmax": 65.8,
         "zmin": 0
        }
       ],
       "layout": {
        "geo": {
         "projection": {
          "type": "equirectangular"
         },
         "showcoastlines": false,
         "showframe": false
        },
        "template": {
         "data": {
          "bar": [
           {
            "error_x": {
             "color": "#2a3f5f"
            },
            "error_y": {
             "color": "#2a3f5f"
            },
            "marker": {
             "line": {
              "color": "#E5ECF6",
              "width": 0.5
             }
            },
            "type": "bar"
           }
          ],
          "barpolar": [
           {
            "marker": {
             "line": {
              "color": "#E5ECF6",
              "width": 0.5
             }
            },
            "type": "barpolar"
           }
          ],
          "carpet": [
           {
            "aaxis": {
             "endlinecolor": "#2a3f5f",
             "gridcolor": "white",
             "linecolor": "white",
             "minorgridcolor": "white",
             "startlinecolor": "#2a3f5f"
            },
            "baxis": {
             "endlinecolor": "#2a3f5f",
             "gridcolor": "white",
             "linecolor": "white",
             "minorgridcolor": "white",
             "startlinecolor": "#2a3f5f"
            },
            "type": "carpet"
           }
          ],
          "choropleth": [
           {
            "colorbar": {
             "outlinewidth": 0,
             "ticks": ""
            },
            "type": "choropleth"
           }
          ],
          "contour": [
           {
            "colorbar": {
             "outlinewidth": 0,
             "ticks": ""
            },
            "colorscale": [
             [
              0,
              "#0d0887"
             ],
             [
              0.1111111111111111,
              "#46039f"
             ],
             [
              0.2222222222222222,
              "#7201a8"
             ],
             [
              0.3333333333333333,
              "#9c179e"
             ],
             [
              0.4444444444444444,
              "#bd3786"
             ],
             [
              0.5555555555555556,
              "#d8576b"
             ],
             [
              0.6666666666666666,
              "#ed7953"
             ],
             [
              0.7777777777777778,
              "#fb9f3a"
             ],
             [
              0.8888888888888888,
              "#fdca26"
             ],
             [
              1,
              "#f0f921"
             ]
            ],
            "type": "contour"
           }
          ],
          "contourcarpet": [
           {
            "colorbar": {
             "outlinewidth": 0,
             "ticks": ""
            },
            "type": "contourcarpet"
           }
          ],
          "heatmap": [
           {
            "colorbar": {
             "outlinewidth": 0,
             "ticks": ""
            },
            "colorscale": [
             [
              0,
              "#0d0887"
             ],
             [
              0.1111111111111111,
              "#46039f"
             ],
             [
              0.2222222222222222,
              "#7201a8"
             ],
             [
              0.3333333333333333,
              "#9c179e"
             ],
             [
              0.4444444444444444,
              "#bd3786"
             ],
             [
              0.5555555555555556,
              "#d8576b"
             ],
             [
              0.6666666666666666,
              "#ed7953"
             ],
             [
              0.7777777777777778,
              "#fb9f3a"
             ],
             [
              0.8888888888888888,
              "#fdca26"
             ],
             [
              1,
              "#f0f921"
             ]
            ],
            "type": "heatmap"
           }
          ],
          "heatmapgl": [
           {
            "colorbar": {
             "outlinewidth": 0,
             "ticks": ""
            },
            "colorscale": [
             [
              0,
              "#0d0887"
             ],
             [
              0.1111111111111111,
              "#46039f"
             ],
             [
              0.2222222222222222,
              "#7201a8"
             ],
             [
              0.3333333333333333,
              "#9c179e"
             ],
             [
              0.4444444444444444,
              "#bd3786"
             ],
             [
              0.5555555555555556,
              "#d8576b"
             ],
             [
              0.6666666666666666,
              "#ed7953"
             ],
             [
              0.7777777777777778,
              "#fb9f3a"
             ],
             [
              0.8888888888888888,
              "#fdca26"
             ],
             [
              1,
              "#f0f921"
             ]
            ],
            "type": "heatmapgl"
           }
          ],
          "histogram": [
           {
            "marker": {
             "colorbar": {
              "outlinewidth": 0,
              "ticks": ""
             }
            },
            "type": "histogram"
           }
          ],
          "histogram2d": [
           {
            "colorbar": {
             "outlinewidth": 0,
             "ticks": ""
            },
            "colorscale": [
             [
              0,
              "#0d0887"
             ],
             [
              0.1111111111111111,
              "#46039f"
             ],
             [
              0.2222222222222222,
              "#7201a8"
             ],
             [
              0.3333333333333333,
              "#9c179e"
             ],
             [
              0.4444444444444444,
              "#bd3786"
             ],
             [
              0.5555555555555556,
              "#d8576b"
             ],
             [
              0.6666666666666666,
              "#ed7953"
             ],
             [
              0.7777777777777778,
              "#fb9f3a"
             ],
             [
              0.8888888888888888,
              "#fdca26"
             ],
             [
              1,
              "#f0f921"
             ]
            ],
            "type": "histogram2d"
           }
          ],
          "histogram2dcontour": [
           {
            "colorbar": {
             "outlinewidth": 0,
             "ticks": ""
            },
            "colorscale": [
             [
              0,
              "#0d0887"
             ],
             [
              0.1111111111111111,
              "#46039f"
             ],
             [
              0.2222222222222222,
              "#7201a8"
             ],
             [
              0.3333333333333333,
              "#9c179e"
             ],
             [
              0.4444444444444444,
              "#bd3786"
             ],
             [
              0.5555555555555556,
              "#d8576b"
             ],
             [
              0.6666666666666666,
              "#ed7953"
             ],
             [
              0.7777777777777778,
              "#fb9f3a"
             ],
             [
              0.8888888888888888,
              "#fdca26"
             ],
             [
              1,
              "#f0f921"
             ]
            ],
            "type": "histogram2dcontour"
           }
          ],
          "mesh3d": [
           {
            "colorbar": {
             "outlinewidth": 0,
             "ticks": ""
            },
            "type": "mesh3d"
           }
          ],
          "parcoords": [
           {
            "line": {
             "colorbar": {
              "outlinewidth": 0,
              "ticks": ""
             }
            },
            "type": "parcoords"
           }
          ],
          "pie": [
           {
            "automargin": true,
            "type": "pie"
           }
          ],
          "scatter": [
           {
            "marker": {
             "colorbar": {
              "outlinewidth": 0,
              "ticks": ""
             }
            },
            "type": "scatter"
           }
          ],
          "scatter3d": [
           {
            "line": {
             "colorbar": {
              "outlinewidth": 0,
              "ticks": ""
             }
            },
            "marker": {
             "colorbar": {
              "outlinewidth": 0,
              "ticks": ""
             }
            },
            "type": "scatter3d"
           }
          ],
          "scattercarpet": [
           {
            "marker": {
             "colorbar": {
              "outlinewidth": 0,
              "ticks": ""
             }
            },
            "type": "scattercarpet"
           }
          ],
          "scattergeo": [
           {
            "marker": {
             "colorbar": {
              "outlinewidth": 0,
              "ticks": ""
             }
            },
            "type": "scattergeo"
           }
          ],
          "scattergl": [
           {
            "marker": {
             "colorbar": {
              "outlinewidth": 0,
              "ticks": ""
             }
            },
            "type": "scattergl"
           }
          ],
          "scattermapbox": [
           {
            "marker": {
             "colorbar": {
              "outlinewidth": 0,
              "ticks": ""
             }
            },
            "type": "scattermapbox"
           }
          ],
          "scatterpolar": [
           {
            "marker": {
             "colorbar": {
              "outlinewidth": 0,
              "ticks": ""
             }
            },
            "type": "scatterpolar"
           }
          ],
          "scatterpolargl": [
           {
            "marker": {
             "colorbar": {
              "outlinewidth": 0,
              "ticks": ""
             }
            },
            "type": "scatterpolargl"
           }
          ],
          "scatterternary": [
           {
            "marker": {
             "colorbar": {
              "outlinewidth": 0,
              "ticks": ""
             }
            },
            "type": "scatterternary"
           }
          ],
          "surface": [
           {
            "colorbar": {
             "outlinewidth": 0,
             "ticks": ""
            },
            "colorscale": [
             [
              0,
              "#0d0887"
             ],
             [
              0.1111111111111111,
              "#46039f"
             ],
             [
              0.2222222222222222,
              "#7201a8"
             ],
             [
              0.3333333333333333,
              "#9c179e"
             ],
             [
              0.4444444444444444,
              "#bd3786"
             ],
             [
              0.5555555555555556,
              "#d8576b"
             ],
             [
              0.6666666666666666,
              "#ed7953"
             ],
             [
              0.7777777777777778,
              "#fb9f3a"
             ],
             [
              0.8888888888888888,
              "#fdca26"
             ],
             [
              1,
              "#f0f921"
             ]
            ],
            "type": "surface"
           }
          ],
          "table": [
           {
            "cells": {
             "fill": {
              "color": "#EBF0F8"
             },
             "line": {
              "color": "white"
             }
            },
            "header": {
             "fill": {
              "color": "#C8D4E3"
             },
             "line": {
              "color": "white"
             }
            },
            "type": "table"
           }
          ]
         },
         "layout": {
          "annotationdefaults": {
           "arrowcolor": "#2a3f5f",
           "arrowhead": 0,
           "arrowwidth": 1
          },
          "coloraxis": {
           "colorbar": {
            "outlinewidth": 0,
            "ticks": ""
           }
          },
          "colorscale": {
           "diverging": [
            [
             0,
             "#8e0152"
            ],
            [
             0.1,
             "#c51b7d"
            ],
            [
             0.2,
             "#de77ae"
            ],
            [
             0.3,
             "#f1b6da"
            ],
            [
             0.4,
             "#fde0ef"
            ],
            [
             0.5,
             "#f7f7f7"
            ],
            [
             0.6,
             "#e6f5d0"
            ],
            [
             0.7,
             "#b8e186"
            ],
            [
             0.8,
             "#7fbc41"
            ],
            [
             0.9,
             "#4d9221"
            ],
            [
             1,
             "#276419"
            ]
           ],
           "sequential": [
            [
             0,
             "#0d0887"
            ],
            [
             0.1111111111111111,
             "#46039f"
            ],
            [
             0.2222222222222222,
             "#7201a8"
            ],
            [
             0.3333333333333333,
             "#9c179e"
            ],
            [
             0.4444444444444444,
             "#bd3786"
            ],
            [
             0.5555555555555556,
             "#d8576b"
            ],
            [
             0.6666666666666666,
             "#ed7953"
            ],
            [
             0.7777777777777778,
             "#fb9f3a"
            ],
            [
             0.8888888888888888,
             "#fdca26"
            ],
            [
             1,
             "#f0f921"
            ]
           ],
           "sequentialminus": [
            [
             0,
             "#0d0887"
            ],
            [
             0.1111111111111111,
             "#46039f"
            ],
            [
             0.2222222222222222,
             "#7201a8"
            ],
            [
             0.3333333333333333,
             "#9c179e"
            ],
            [
             0.4444444444444444,
             "#bd3786"
            ],
            [
             0.5555555555555556,
             "#d8576b"
            ],
            [
             0.6666666666666666,
             "#ed7953"
            ],
            [
             0.7777777777777778,
             "#fb9f3a"
            ],
            [
             0.8888888888888888,
             "#fdca26"
            ],
            [
             1,
             "#f0f921"
            ]
           ]
          },
          "colorway": [
           "#636efa",
           "#EF553B",
           "#00cc96",
           "#ab63fa",
           "#FFA15A",
           "#19d3f3",
           "#FF6692",
           "#B6E880",
           "#FF97FF",
           "#FECB52"
          ],
          "font": {
           "color": "#2a3f5f"
          },
          "geo": {
           "bgcolor": "white",
           "lakecolor": "white",
           "landcolor": "#E5ECF6",
           "showlakes": true,
           "showland": true,
           "subunitcolor": "white"
          },
          "hoverlabel": {
           "align": "left"
          },
          "hovermode": "closest",
          "mapbox": {
           "style": "light"
          },
          "paper_bgcolor": "white",
          "plot_bgcolor": "#E5ECF6",
          "polar": {
           "angularaxis": {
            "gridcolor": "white",
            "linecolor": "white",
            "ticks": ""
           },
           "bgcolor": "#E5ECF6",
           "radialaxis": {
            "gridcolor": "white",
            "linecolor": "white",
            "ticks": ""
           }
          },
          "scene": {
           "xaxis": {
            "backgroundcolor": "#E5ECF6",
            "gridcolor": "white",
            "gridwidth": 2,
            "linecolor": "white",
            "showbackground": true,
            "ticks": "",
            "zerolinecolor": "white"
           },
           "yaxis": {
            "backgroundcolor": "#E5ECF6",
            "gridcolor": "white",
            "gridwidth": 2,
            "linecolor": "white",
            "showbackground": true,
            "ticks": "",
            "zerolinecolor": "white"
           },
           "zaxis": {
            "backgroundcolor": "#E5ECF6",
            "gridcolor": "white",
            "gridwidth": 2,
            "linecolor": "white",
            "showbackground": true,
            "ticks": "",
            "zerolinecolor": "white"
           }
          },
          "shapedefaults": {
           "line": {
            "color": "#2a3f5f"
           }
          },
          "ternary": {
           "aaxis": {
            "gridcolor": "white",
            "linecolor": "white",
            "ticks": ""
           },
           "baxis": {
            "gridcolor": "white",
            "linecolor": "white",
            "ticks": ""
           },
           "bgcolor": "#E5ECF6",
           "caxis": {
            "gridcolor": "white",
            "linecolor": "white",
            "ticks": ""
           }
          },
          "title": {
           "x": 0.05
          },
          "xaxis": {
           "automargin": true,
           "gridcolor": "white",
           "linecolor": "white",
           "ticks": "",
           "title": {
            "standoff": 15
           },
           "zerolinecolor": "white",
           "zerolinewidth": 2
          },
          "yaxis": {
           "automargin": true,
           "gridcolor": "white",
           "linecolor": "white",
           "ticks": "",
           "title": {
            "standoff": 15
           },
           "zerolinecolor": "white",
           "zerolinewidth": 2
          }
         }
        },
        "title": {
         "text": "World Wealth Difference"
        }
       }
      },
      "text/html": [
       "<div>\n",
       "        \n",
       "        \n",
       "            <div id=\"b52268c3-6d7d-42fe-a1cc-7e99dbb872db\" class=\"plotly-graph-div\" style=\"height:525px; width:100%;\"></div>\n",
       "            <script type=\"text/javascript\">\n",
       "                require([\"plotly\"], function(Plotly) {\n",
       "                    window.PLOTLYENV=window.PLOTLYENV || {};\n",
       "                    \n",
       "                if (document.getElementById(\"b52268c3-6d7d-42fe-a1cc-7e99dbb872db\")) {\n",
       "                    Plotly.newPlot(\n",
       "                        'b52268c3-6d7d-42fe-a1cc-7e99dbb872db',\n",
       "                        [{\"colorbar\": {\"title\": {\"text\": \"World Wealth<br>Difference\"}}, \"colorscale\": [[0.0, \"rgb(255,245,240)\"], [0.125, \"rgb(254,224,210)\"], [0.25, \"rgb(252,187,161)\"], [0.375, \"rgb(252,146,114)\"], [0.5, \"rgb(251,106,74)\"], [0.625, \"rgb(239,59,44)\"], [0.75, \"rgb(203,24,29)\"], [0.875, \"rgb(165,15,21)\"], [1.0, \"rgb(103,0,13)\"]], \"locations\": [\"AFG\", \"ALA\", \"ALB\", \"DZA\", \"ASM\", \"AND\", \"AGO\", \"AIA\", \"ATA\", \"ATG\", \"ARG\", \"ARM\", \"ABW\", \"AUS\", \"AUT\", \"AZE\", \"BHS\", \"BHR\", \"BGD\", \"BRB\", \"BLR\", \"BEL\", \"BLZ\", \"BEN\", \"BMU\", \"BTN\", \"BOL\", \"BES\", \"BIH\", \"BWA\", \"BVT\", \"BRA\", \"IOT\", \"UMI\", \"VGB\", \"VIR\", \"BRN\", \"BGR\", \"BFA\", \"BDI\", \"KHM\", \"CMR\", \"CAN\", \"CPV\", \"CYM\", \"CAF\", \"TCD\", \"CHL\", \"CHN\", \"CXR\", \"CCK\", \"COL\", \"COM\", \"COG\", \"COD\", \"COK\", \"CRI\", \"HRV\", \"CUB\", \"CUW\", \"CYP\", \"CZE\", \"DNK\", \"DJI\", \"DMA\", \"DOM\", \"ECU\", \"EGY\", \"SLV\", \"GNQ\", \"ERI\", \"EST\", \"ETH\", \"FLK\", \"FRO\", \"FJI\", \"FIN\", \"FRA\", \"GUF\", \"PYF\", \"ATF\", \"GAB\", \"GMB\", \"GEO\", \"DEU\", \"GHA\", \"GIB\", \"GRC\", \"GRL\", \"GRD\", \"GLP\", \"GUM\", \"GTM\", \"GGY\", \"GIN\", \"GNB\", \"GUY\", \"HTI\", \"HMD\", \"VAT\", \"HND\", \"HKG\", \"HUN\", \"ISL\", \"IND\", \"IDN\", \"CIV\", \"IRN\", \"IRQ\", \"IRL\", \"IMN\", \"ISR\", \"ITA\", \"JAM\", \"JPN\", \"JEY\", \"JOR\", \"KAZ\", \"KEN\", \"KIR\", \"KWT\", \"KGZ\", \"LAO\", \"LVA\", \"LBN\", \"LSO\", \"LBR\", \"LBY\", \"LIE\", \"LTU\", \"LUX\", \"MAC\", \"MKD\", \"MDG\", \"MWI\", \"MYS\", \"MDV\", \"MLI\", \"MLT\", \"MHL\", \"MTQ\", \"MRT\", \"MUS\", \"MYT\", \"MEX\", \"FSM\", \"MDA\", \"MCO\", \"MNG\", \"MNE\", \"MSR\", \"MAR\", \"MOZ\", \"MMR\", \"NAM\", \"NRU\", \"NPL\", \"NLD\", \"NCL\", \"NZL\", \"NIC\", \"NER\", \"NGA\", \"NIU\", \"NFK\", \"PRK\", \"MNP\", \"NOR\", \"OMN\", \"PAK\", \"PLW\", \"PSE\", \"PAN\", \"PNG\", \"PRY\", \"PER\", \"PHL\", \"PCN\", \"POL\", \"PRT\", \"PRI\", \"QAT\", \"KOS\", \"REU\", \"ROU\", \"RUS\", \"RWA\", \"BLM\", \"SHN\", \"KNA\", \"LCA\", \"MAF\", \"SPM\", \"VCT\", \"WSM\", \"SMR\", \"STP\", \"SAU\", \"SEN\", \"SRB\", \"SYC\", \"SLE\", \"SGP\", \"SXM\", \"SVK\", \"SVN\", \"SLB\", \"SOM\", \"ZAF\", \"SGS\", \"KOR\", \"SSD\", \"ESP\", \"LKA\", \"SDN\", \"SUR\", \"SJM\", \"SWZ\", \"SWE\", \"CHE\", \"SYR\", \"TWN\", \"TJK\", \"TZA\", \"THA\", \"TLS\", \"TGO\", \"TKL\", \"TON\", \"TTO\", \"TUN\", \"TUR\", \"TKM\", \"TCA\", \"TUV\", \"UGA\", \"UKR\", \"ARE\", \"GBR\", \"USA\", \"URY\", \"UZB\", \"VUT\", \"VEN\", \"VNM\", \"WLF\", \"ESH\", \"YEM\", \"ZMB\", \"ZWE\"], \"marker\": {\"line\": {\"color\": \"darkgray\", \"width\": 0.5}}, \"reversescale\": false, \"text\": [\"Afghanistan\", \"\\u00c5land Islands\", \"Albania\", \"Algeria\", \"American Samoa\", \"Andorra\", \"Angola\", \"Anguilla\", \"Antarctica\", \"Antigua and Barbuda\", \"Argentina\", \"Armenia\", \"Aruba\", \"Australia\", \"Austria\", \"Azerbaijan\", \"Bahamas\", \"Bahrain\", \"Bangladesh\", \"Barbados\", \"Belarus\", \"Belgium\", \"Belize\", \"Benin\", \"Bermuda\", \"Bhutan\", \"Bolivia (Plurinational State of)\", \"Bonaire, Sint Eustatius and Saba\", \"Bosnia and Herzegovina\", \"Botswana\", \"Bouvet Island\", \"Brazil\", \"British Indian Ocean Territory\", \"United States Minor Outlying Islands\", \"Virgin Islands (British)\", \"Virgin Islands (U.S.)\", \"Brunei Darussalam\", \"Bulgaria\", \"Burkina Faso\", \"Burundi\", \"Cambodia\", \"Cameroon\", \"Canada\", \"Cabo Verde\", \"Cayman Islands\", \"Central African Republic\", \"Chad\", \"Chile\", \"China\", \"Christmas Island\", \"Cocos (Keeling) Islands\", \"Colombia\", \"Comoros\", \"Congo\", \"Congo (Democratic Republic of the)\", \"Cook Islands\", \"Costa Rica\", \"Croatia\", \"Cuba\", \"Cura\\u00e7ao\", \"Cyprus\", \"Czech Republic\", \"Denmark\", \"Djibouti\", \"Dominica\", \"Dominican Republic\", \"Ecuador\", \"Egypt\", \"El Salvador\", \"Equatorial Guinea\", \"Eritrea\", \"Estonia\", \"Ethiopia\", \"Falkland Islands (Malvinas)\", \"Faroe Islands\", \"Fiji\", \"Finland\", \"France\", \"French Guiana\", \"French Polynesia\", \"French Southern Territories\", \"Gabon\", \"Gambia\", \"Georgia\", \"Germany\", \"Ghana\", \"Gibraltar\", \"Greece\", \"Greenland\", \"Grenada\", \"Guadeloupe\", \"Guam\", \"Guatemala\", \"Guernsey\", \"Guinea\", \"Guinea-Bissau\", \"Guyana\", \"Haiti\", \"Heard Island and McDonald Islands\", \"Holy See\", \"Honduras\", \"Hong Kong\", \"Hungary\", \"Iceland\", \"India\", \"Indonesia\", \"C\\u00f4te d'Ivoire\", \"Iran (Islamic Republic of)\", \"Iraq\", \"Ireland\", \"Isle of Man\", \"Israel\", \"Italy\", \"Jamaica\", \"Japan\", \"Jersey\", \"Jordan\", \"Kazakhstan\", \"Kenya\", \"Kiribati\", \"Kuwait\", \"Kyrgyzstan\", \"Lao People's Democratic Republic\", \"Latvia\", \"Lebanon\", \"Lesotho\", \"Liberia\", \"Libya\", \"Liechtenstein\", \"Lithuania\", \"Luxembourg\", \"Macao\", \"Macedonia (the former Yugoslav Republic of)\", \"Madagascar\", \"Malawi\", \"Malaysia\", \"Maldives\", \"Mali\", \"Malta\", \"Marshall Islands\", \"Martinique\", \"Mauritania\", \"Mauritius\", \"Mayotte\", \"Mexico\", \"Micronesia (Federated States of)\", \"Moldova (Republic of)\", \"Monaco\", \"Mongolia\", \"Montenegro\", \"Montserrat\", \"Morocco\", \"Mozambique\", \"Myanmar\", \"Namibia\", \"Nauru\", \"Nepal\", \"Netherlands\", \"New Caledonia\", \"New Zealand\", \"Nicaragua\", \"Niger\", \"Nigeria\", \"Niue\", \"Norfolk Island\", \"Korea (Democratic People's Republic of)\", \"Northern Mariana Islands\", \"Norway\", \"Oman\", \"Pakistan\", \"Palau\", \"Palestine, State of\", \"Panama\", \"Papua New Guinea\", \"Paraguay\", \"Peru\", \"Philippines\", \"Pitcairn\", \"Poland\", \"Portugal\", \"Puerto Rico\", \"Qatar\", \"Republic of Kosovo\", \"R\\u00e9union\", \"Romania\", \"Russian Federation\", \"Rwanda\", \"Saint Barth\\u00e9lemy\", \"Saint Helena, Ascension and Tristan da Cunha\", \"Saint Kitts and Nevis\", \"Saint Lucia\", \"Saint Martin (French part)\", \"Saint Pierre and Miquelon\", \"Saint Vincent and the Grenadines\", \"Samoa\", \"San Marino\", \"Sao Tome and Principe\", \"Saudi Arabia\", \"Senegal\", \"Serbia\", \"Seychelles\", \"Sierra Leone\", \"Singapore\", \"Sint Maarten (Dutch part)\", \"Slovakia\", \"Slovenia\", \"Solomon Islands\", \"Somalia\", \"South Africa\", \"South Georgia and the South Sandwich Islands\", \"Korea (Republic of)\", \"South Sudan\", \"Spain\", \"Sri Lanka\", \"Sudan\", \"Suriname\", \"Svalbard and Jan Mayen\", \"Swaziland\", \"Sweden\", \"Switzerland\", \"Syrian Arab Republic\", \"Taiwan\", \"Tajikistan\", \"Tanzania, United Republic of\", \"Thailand\", \"Timor-Leste\", \"Togo\", \"Tokelau\", \"Tonga\", \"Trinidad and Tobago\", \"Tunisia\", \"Turkey\", \"Turkmenistan\", \"Turks and Caicos Islands\", \"Tuvalu\", \"Uganda\", \"Ukraine\", \"United Arab Emirates\", \"United Kingdom of Great Britain and Northern Ireland\", \"United States of America\", \"Uruguay\", \"Uzbekistan\", \"Vanuatu\", \"Venezuela (Bolivarian Republic of)\", \"Viet Nam\", \"Wallis and Futuna\", \"Western Sahara\", \"Yemen\", \"Zambia\", \"Zimbabwe\"], \"type\": \"choropleth\", \"z\": [27.8, null, 34.5, 35.3, null, null, 58.6, null, null, null, 44.5, 30.9, null, 30.5, 26.0, 33.7, null, null, 32.1, null, 26.5, 33.0, 53.1, 38.6, null, 38.1, 56.3, null, 36.2, 61.0, null, 54.7, null, null, null, null, null, 28.2, 39.8, 33.3, 37.9, 38.9, 32.6, 50.5, null, 56.3, 39.8, 52.1, 47.0, null, null, 55.9, 64.3, 47.3, null, null, 50.7, 33.7, null, null, null, 26.0, 24.0, 40.0, null, 47.2, 49.3, 30.8, 48.3, null, null, 36.0, 29.8, null, null, 42.8, 26.9, 32.7, null, null, null, 41.5, null, 41.3, 28.3, 42.8, null, 34.3, null, null, null, null, 55.9, null, 39.4, 35.5, 44.5, 59.2, null, null, 57.0, 53.3, 31.2, null, 33.4, 34.0, 41.5, 38.3, 30.9, 34.3, null, 39.2, 36.0, 45.5, 38.1, null, 35.4, 29.0, 47.7, null, null, 36.2, 36.7, 36.6, null, 52.5, 38.2, null, null, 37.6, 30.8, null, 43.2, 44.1, 39.0, 46.2, 37.4, 33.0, null, null, null, 40.5, null, null, 47.0, null, 33.0, null, 36.5, 30.0, null, 40.9, 45.7, null, 63.9, null, 32.8, 30.9, null, 36.2, 40.5, 34.6, 48.8, null, null, null, null, 25.8, null, 30.0, null, 35.5, 51.9, 50.9, 52.4, 48.1, 43.0, null, 34.1, 38.5, null, 41.1, null, null, 30.0, 40.1, 50.8, null, null, null, 42.6, null, null, null, null, null, 50.8, null, 39.2, 27.8, 65.8, 42.5, 48.1, null, 26.0, 31.2, null, null, 63.1, null, 31.3, 45.5, 34.7, 40.3, 35.3, 52.9, null, 51.5, 25.0, 33.7, 35.8, null, 30.8, 37.6, 40.0, 31.9, 34.4, null, null, 40.3, 41.4, 39.0, 40.8, null, null, 44.3, 26.4, null, 34.0, 48.0, 39.7, 36.7, null, 44.8, 35.6, null, null, 37.7, 54.6, null], \"zmax\": 65.8, \"zmin\": 0}],\n",
       "                        {\"geo\": {\"projection\": {\"type\": \"equirectangular\"}, \"showcoastlines\": false, \"showframe\": false}, \"template\": {\"data\": {\"bar\": [{\"error_x\": {\"color\": \"#2a3f5f\"}, \"error_y\": {\"color\": \"#2a3f5f\"}, \"marker\": {\"line\": {\"color\": \"#E5ECF6\", \"width\": 0.5}}, \"type\": \"bar\"}], \"barpolar\": [{\"marker\": {\"line\": {\"color\": \"#E5ECF6\", \"width\": 0.5}}, \"type\": \"barpolar\"}], \"carpet\": [{\"aaxis\": {\"endlinecolor\": \"#2a3f5f\", \"gridcolor\": \"white\", \"linecolor\": \"white\", \"minorgridcolor\": \"white\", \"startlinecolor\": \"#2a3f5f\"}, \"baxis\": {\"endlinecolor\": \"#2a3f5f\", \"gridcolor\": \"white\", \"linecolor\": \"white\", \"minorgridcolor\": \"white\", \"startlinecolor\": \"#2a3f5f\"}, \"type\": \"carpet\"}], \"choropleth\": [{\"colorbar\": {\"outlinewidth\": 0, \"ticks\": \"\"}, \"type\": \"choropleth\"}], \"contour\": [{\"colorbar\": {\"outlinewidth\": 0, \"ticks\": \"\"}, \"colorscale\": [[0.0, \"#0d0887\"], [0.1111111111111111, \"#46039f\"], [0.2222222222222222, \"#7201a8\"], [0.3333333333333333, \"#9c179e\"], [0.4444444444444444, \"#bd3786\"], [0.5555555555555556, \"#d8576b\"], [0.6666666666666666, \"#ed7953\"], [0.7777777777777778, \"#fb9f3a\"], [0.8888888888888888, \"#fdca26\"], [1.0, \"#f0f921\"]], \"type\": \"contour\"}], \"contourcarpet\": [{\"colorbar\": {\"outlinewidth\": 0, \"ticks\": \"\"}, \"type\": \"contourcarpet\"}], \"heatmap\": [{\"colorbar\": {\"outlinewidth\": 0, \"ticks\": \"\"}, \"colorscale\": [[0.0, \"#0d0887\"], [0.1111111111111111, \"#46039f\"], [0.2222222222222222, \"#7201a8\"], [0.3333333333333333, \"#9c179e\"], [0.4444444444444444, \"#bd3786\"], [0.5555555555555556, \"#d8576b\"], [0.6666666666666666, \"#ed7953\"], [0.7777777777777778, \"#fb9f3a\"], [0.8888888888888888, \"#fdca26\"], [1.0, \"#f0f921\"]], \"type\": \"heatmap\"}], \"heatmapgl\": [{\"colorbar\": {\"outlinewidth\": 0, \"ticks\": \"\"}, \"colorscale\": [[0.0, \"#0d0887\"], [0.1111111111111111, \"#46039f\"], [0.2222222222222222, \"#7201a8\"], [0.3333333333333333, \"#9c179e\"], [0.4444444444444444, \"#bd3786\"], [0.5555555555555556, \"#d8576b\"], [0.6666666666666666, \"#ed7953\"], [0.7777777777777778, \"#fb9f3a\"], [0.8888888888888888, \"#fdca26\"], [1.0, \"#f0f921\"]], \"type\": \"heatmapgl\"}], \"histogram\": [{\"marker\": {\"colorbar\": {\"outlinewidth\": 0, \"ticks\": \"\"}}, \"type\": \"histogram\"}], \"histogram2d\": [{\"colorbar\": {\"outlinewidth\": 0, \"ticks\": \"\"}, \"colorscale\": [[0.0, \"#0d0887\"], [0.1111111111111111, \"#46039f\"], [0.2222222222222222, \"#7201a8\"], [0.3333333333333333, \"#9c179e\"], [0.4444444444444444, \"#bd3786\"], [0.5555555555555556, \"#d8576b\"], [0.6666666666666666, \"#ed7953\"], [0.7777777777777778, \"#fb9f3a\"], [0.8888888888888888, \"#fdca26\"], [1.0, \"#f0f921\"]], \"type\": \"histogram2d\"}], \"histogram2dcontour\": [{\"colorbar\": {\"outlinewidth\": 0, \"ticks\": \"\"}, \"colorscale\": [[0.0, \"#0d0887\"], [0.1111111111111111, \"#46039f\"], [0.2222222222222222, \"#7201a8\"], [0.3333333333333333, \"#9c179e\"], [0.4444444444444444, \"#bd3786\"], [0.5555555555555556, \"#d8576b\"], [0.6666666666666666, \"#ed7953\"], [0.7777777777777778, \"#fb9f3a\"], [0.8888888888888888, \"#fdca26\"], [1.0, \"#f0f921\"]], \"type\": \"histogram2dcontour\"}], \"mesh3d\": [{\"colorbar\": {\"outlinewidth\": 0, \"ticks\": \"\"}, \"type\": \"mesh3d\"}], \"parcoords\": [{\"line\": {\"colorbar\": {\"outlinewidth\": 0, \"ticks\": \"\"}}, \"type\": \"parcoords\"}], \"pie\": [{\"automargin\": true, \"type\": \"pie\"}], \"scatter\": [{\"marker\": {\"colorbar\": {\"outlinewidth\": 0, \"ticks\": \"\"}}, \"type\": \"scatter\"}], \"scatter3d\": [{\"line\": {\"colorbar\": {\"outlinewidth\": 0, \"ticks\": \"\"}}, \"marker\": {\"colorbar\": {\"outlinewidth\": 0, \"ticks\": \"\"}}, \"type\": \"scatter3d\"}], \"scattercarpet\": [{\"marker\": {\"colorbar\": {\"outlinewidth\": 0, \"ticks\": \"\"}}, \"type\": \"scattercarpet\"}], \"scattergeo\": [{\"marker\": {\"colorbar\": {\"outlinewidth\": 0, \"ticks\": \"\"}}, \"type\": \"scattergeo\"}], \"scattergl\": [{\"marker\": {\"colorbar\": {\"outlinewidth\": 0, \"ticks\": \"\"}}, \"type\": \"scattergl\"}], \"scattermapbox\": [{\"marker\": {\"colorbar\": {\"outlinewidth\": 0, \"ticks\": \"\"}}, \"type\": \"scattermapbox\"}], \"scatterpolar\": [{\"marker\": {\"colorbar\": {\"outlinewidth\": 0, \"ticks\": \"\"}}, \"type\": \"scatterpolar\"}], \"scatterpolargl\": [{\"marker\": {\"colorbar\": {\"outlinewidth\": 0, \"ticks\": \"\"}}, \"type\": \"scatterpolargl\"}], \"scatterternary\": [{\"marker\": {\"colorbar\": {\"outlinewidth\": 0, \"ticks\": \"\"}}, \"type\": \"scatterternary\"}], \"surface\": [{\"colorbar\": {\"outlinewidth\": 0, \"ticks\": \"\"}, \"colorscale\": [[0.0, \"#0d0887\"], [0.1111111111111111, \"#46039f\"], [0.2222222222222222, \"#7201a8\"], [0.3333333333333333, \"#9c179e\"], [0.4444444444444444, \"#bd3786\"], [0.5555555555555556, \"#d8576b\"], [0.6666666666666666, \"#ed7953\"], [0.7777777777777778, \"#fb9f3a\"], [0.8888888888888888, \"#fdca26\"], [1.0, \"#f0f921\"]], \"type\": \"surface\"}], \"table\": [{\"cells\": {\"fill\": {\"color\": \"#EBF0F8\"}, \"line\": {\"color\": \"white\"}}, \"header\": {\"fill\": {\"color\": \"#C8D4E3\"}, \"line\": {\"color\": \"white\"}}, \"type\": \"table\"}]}, \"layout\": {\"annotationdefaults\": {\"arrowcolor\": \"#2a3f5f\", \"arrowhead\": 0, \"arrowwidth\": 1}, \"coloraxis\": {\"colorbar\": {\"outlinewidth\": 0, \"ticks\": \"\"}}, \"colorscale\": {\"diverging\": [[0, \"#8e0152\"], [0.1, \"#c51b7d\"], [0.2, \"#de77ae\"], [0.3, \"#f1b6da\"], [0.4, \"#fde0ef\"], [0.5, \"#f7f7f7\"], [0.6, \"#e6f5d0\"], [0.7, \"#b8e186\"], [0.8, \"#7fbc41\"], [0.9, \"#4d9221\"], [1, \"#276419\"]], \"sequential\": [[0.0, \"#0d0887\"], [0.1111111111111111, \"#46039f\"], [0.2222222222222222, \"#7201a8\"], [0.3333333333333333, \"#9c179e\"], [0.4444444444444444, \"#bd3786\"], [0.5555555555555556, \"#d8576b\"], [0.6666666666666666, \"#ed7953\"], [0.7777777777777778, \"#fb9f3a\"], [0.8888888888888888, \"#fdca26\"], [1.0, \"#f0f921\"]], \"sequentialminus\": [[0.0, \"#0d0887\"], [0.1111111111111111, \"#46039f\"], [0.2222222222222222, \"#7201a8\"], [0.3333333333333333, \"#9c179e\"], [0.4444444444444444, \"#bd3786\"], [0.5555555555555556, \"#d8576b\"], [0.6666666666666666, \"#ed7953\"], [0.7777777777777778, \"#fb9f3a\"], [0.8888888888888888, \"#fdca26\"], [1.0, \"#f0f921\"]]}, \"colorway\": [\"#636efa\", \"#EF553B\", \"#00cc96\", \"#ab63fa\", \"#FFA15A\", \"#19d3f3\", \"#FF6692\", \"#B6E880\", \"#FF97FF\", \"#FECB52\"], \"font\": {\"color\": \"#2a3f5f\"}, \"geo\": {\"bgcolor\": \"white\", \"lakecolor\": \"white\", \"landcolor\": \"#E5ECF6\", \"showlakes\": true, \"showland\": true, \"subunitcolor\": \"white\"}, \"hoverlabel\": {\"align\": \"left\"}, \"hovermode\": \"closest\", \"mapbox\": {\"style\": \"light\"}, \"paper_bgcolor\": \"white\", \"plot_bgcolor\": \"#E5ECF6\", \"polar\": {\"angularaxis\": {\"gridcolor\": \"white\", \"linecolor\": \"white\", \"ticks\": \"\"}, \"bgcolor\": \"#E5ECF6\", \"radialaxis\": {\"gridcolor\": \"white\", \"linecolor\": \"white\", \"ticks\": \"\"}}, \"scene\": {\"xaxis\": {\"backgroundcolor\": \"#E5ECF6\", \"gridcolor\": \"white\", \"gridwidth\": 2, \"linecolor\": \"white\", \"showbackground\": true, \"ticks\": \"\", \"zerolinecolor\": \"white\"}, \"yaxis\": {\"backgroundcolor\": \"#E5ECF6\", \"gridcolor\": \"white\", \"gridwidth\": 2, \"linecolor\": \"white\", \"showbackground\": true, \"ticks\": \"\", \"zerolinecolor\": \"white\"}, \"zaxis\": {\"backgroundcolor\": \"#E5ECF6\", \"gridcolor\": \"white\", \"gridwidth\": 2, \"linecolor\": \"white\", \"showbackground\": true, \"ticks\": \"\", \"zerolinecolor\": \"white\"}}, \"shapedefaults\": {\"line\": {\"color\": \"#2a3f5f\"}}, \"ternary\": {\"aaxis\": {\"gridcolor\": \"white\", \"linecolor\": \"white\", \"ticks\": \"\"}, \"baxis\": {\"gridcolor\": \"white\", \"linecolor\": \"white\", \"ticks\": \"\"}, \"bgcolor\": \"#E5ECF6\", \"caxis\": {\"gridcolor\": \"white\", \"linecolor\": \"white\", \"ticks\": \"\"}}, \"title\": {\"x\": 0.05}, \"xaxis\": {\"automargin\": true, \"gridcolor\": \"white\", \"linecolor\": \"white\", \"ticks\": \"\", \"title\": {\"standoff\": 15}, \"zerolinecolor\": \"white\", \"zerolinewidth\": 2}, \"yaxis\": {\"automargin\": true, \"gridcolor\": \"white\", \"linecolor\": \"white\", \"ticks\": \"\", \"title\": {\"standoff\": 15}, \"zerolinecolor\": \"white\", \"zerolinewidth\": 2}}}, \"title\": {\"text\": \"World Wealth Difference\"}},\n",
       "                        {\"responsive\": true}\n",
       "                    ).then(function(){\n",
       "                            \n",
       "var gd = document.getElementById('b52268c3-6d7d-42fe-a1cc-7e99dbb872db');\n",
       "var x = new MutationObserver(function (mutations, observer) {{\n",
       "        var display = window.getComputedStyle(gd).display;\n",
       "        if (!display || display === 'none') {{\n",
       "            console.log([gd, 'removed!']);\n",
       "            Plotly.purge(gd);\n",
       "            observer.disconnect();\n",
       "        }}\n",
       "}});\n",
       "\n",
       "// Listen for the removal of the full notebook cells\n",
       "var notebookContainer = gd.closest('#notebook-container');\n",
       "if (notebookContainer) {{\n",
       "    x.observe(notebookContainer, {childList: true});\n",
       "}}\n",
       "\n",
       "// Listen for the clearing of the current output cell\n",
       "var outputEl = gd.closest('.output');\n",
       "if (outputEl) {{\n",
       "    x.observe(outputEl, {childList: true});\n",
       "}}\n",
       "\n",
       "                        })\n",
       "                };\n",
       "                });\n",
       "            </script>\n",
       "        </div>"
      ]
     },
     "metadata": {},
     "output_type": "display_data"
    },
    {
     "name": "stdout",
     "output_type": "stream",
     "text": [
      "The higher is Gini index is, the higher is difference between the rich and the poor.\n"
     ]
    }
   ],
   "source": [
    "fig = go.Figure()\n",
    "\n",
    "fig.add_trace(go.Choropleth(\n",
    "    locations = df['alphaCode'],\n",
    "    z = df['gini'],\n",
    "    text = df['country'],\n",
    "    colorscale = 'reds',\n",
    "#     autocolorscale=True,\n",
    "    reversescale=False,\n",
    "    zmin=0, \n",
    "    zmax=df['gini'].max(),\n",
    "    marker_line_color='darkgray',\n",
    "    marker_line_width=0.5,\n",
    "#     colorbar_tickprefix = '/km2',\n",
    "#     colorbar_ticksuffix = '/km2',\n",
    "    colorbar_title = 'World Wealth<br>Difference',\n",
    "))\n",
    "\n",
    "fig.update_layout(\n",
    "    title_text='World Wealth Difference',\n",
    "    geo=dict(\n",
    "#         scope='europe', #limit area to be showed on map\n",
    "        showframe=False,\n",
    "        showcoastlines=False,\n",
    "        projection_type='equirectangular'\n",
    "    ))\n",
    "\n",
    "fig.show()\n",
    "\n",
    "print('The higher is Gini index is, the higher is difference between the rich and the poor.')"
   ]
  },
  {
   "cell_type": "code",
   "execution_count": 98,
   "metadata": {
    "scrolled": false
   },
   "outputs": [
    {
     "data": {
      "application/vnd.plotly.v1+json": {
       "config": {
        "plotlyServerURL": "https://plot.ly"
       },
       "data": [
        {
         "colorbar": {
          "ticksuffix": "/km2",
          "title": {
           "text": "World Population<br>Density"
          }
         },
         "colorscale": [
          [
           0,
           "rgb(247,251,255)"
          ],
          [
           0.125,
           "rgb(222,235,247)"
          ],
          [
           0.25,
           "rgb(198,219,239)"
          ],
          [
           0.375,
           "rgb(158,202,225)"
          ],
          [
           0.5,
           "rgb(107,174,214)"
          ],
          [
           0.625,
           "rgb(66,146,198)"
          ],
          [
           0.75,
           "rgb(33,113,181)"
          ],
          [
           0.875,
           "rgb(8,81,156)"
          ],
          [
           1,
           "rgb(8,48,107)"
          ]
         ],
         "locations": [
          "AFG",
          "ALA",
          "ALB",
          "DZA",
          "ASM",
          "AND",
          "AGO",
          "AIA",
          "ATA",
          "ATG",
          "ARG",
          "ARM",
          "ABW",
          "AUS",
          "AUT",
          "AZE",
          "BHS",
          "BLR",
          "BEL",
          "BLZ",
          "BEN",
          "BTN",
          "BOL",
          "BES",
          "BIH",
          "BWA",
          "BVT",
          "BRA",
          "IOT",
          "UMI",
          "VGB",
          "VIR",
          "BRN",
          "BGR",
          "BFA",
          "BDI",
          "KHM",
          "CMR",
          "CAN",
          "CPV",
          "CYM",
          "CAF",
          "TCD",
          "CHL",
          "CHN",
          "CXR",
          "CCK",
          "COL",
          "COM",
          "COG",
          "COD",
          "COK",
          "CRI",
          "HRV",
          "CUB",
          "CUW",
          "CYP",
          "CZE",
          "DNK",
          "DJI",
          "DMA",
          "DOM",
          "ECU",
          "EGY",
          "SLV",
          "GNQ",
          "ERI",
          "EST",
          "ETH",
          "FLK",
          "FRO",
          "FJI",
          "FIN",
          "FRA",
          "GUF",
          "PYF",
          "ATF",
          "GAB",
          "GMB",
          "GEO",
          "DEU",
          "GHA",
          "GRC",
          "GRL",
          "GRD",
          "GLP",
          "GUM",
          "GTM",
          "GIN",
          "GNB",
          "GUY",
          "HTI",
          "HMD",
          "HND",
          "HUN",
          "ISL",
          "IND",
          "IDN",
          "CIV",
          "IRN",
          "IRQ",
          "IRL",
          "IMN",
          "ISR",
          "ITA",
          "JAM",
          "JPN",
          "JOR",
          "KAZ",
          "KEN",
          "KIR",
          "KWT",
          "KGZ",
          "LAO",
          "LVA",
          "LBN",
          "LSO",
          "LBR",
          "LBY",
          "LIE",
          "LTU",
          "LUX",
          "MKD",
          "MDG",
          "MWI",
          "MYS",
          "MLI",
          "MHL",
          "MTQ",
          "MRT",
          "MUS",
          "MYT",
          "MEX",
          "FSM",
          "MDA",
          "MNG",
          "MNE",
          "MSR",
          "MAR",
          "MOZ",
          "MMR",
          "NAM",
          "NRU",
          "NPL",
          "NLD",
          "NCL",
          "NZL",
          "NIC",
          "NER",
          "NGA",
          "NIU",
          "NFK",
          "PRK",
          "MNP",
          "NOR",
          "OMN",
          "PAK",
          "PLW",
          "PAN",
          "PNG",
          "PRY",
          "PER",
          "PHL",
          "PCN",
          "POL",
          "PRT",
          "PRI",
          "QAT",
          "KOS",
          "REU",
          "ROU",
          "RUS",
          "RWA",
          "BLM",
          "SHN",
          "KNA",
          "LCA",
          "SPM",
          "VCT",
          "WSM",
          "SMR",
          "STP",
          "SAU",
          "SEN",
          "SRB",
          "SYC",
          "SLE",
          "SVK",
          "SVN",
          "SLB",
          "SOM",
          "ZAF",
          "SGS",
          "KOR",
          "SSD",
          "ESP",
          "LKA",
          "SDN",
          "SUR",
          "SJM",
          "SWZ",
          "SWE",
          "CHE",
          "SYR",
          "TJK",
          "TZA",
          "THA",
          "TLS",
          "TGO",
          "TKL",
          "TON",
          "TTO",
          "TUN",
          "TUR",
          "TKM",
          "TCA",
          "TUV",
          "UGA",
          "UKR",
          "ARE",
          "GBR",
          "USA",
          "URY",
          "UZB",
          "VUT",
          "VEN",
          "VNM",
          "WLF",
          "ESH",
          "YEM",
          "ZMB",
          "ZWE"
         ],
         "marker": {
          "line": {
           "color": "darkgray",
           "width": 0.5
          }
         },
         "reversescale": false,
         "text": [
          "Afghanistan",
          "Åland Islands",
          "Albania",
          "Algeria",
          "American Samoa",
          "Andorra",
          "Angola",
          "Anguilla",
          "Antarctica",
          "Antigua and Barbuda",
          "Argentina",
          "Armenia",
          "Aruba",
          "Australia",
          "Austria",
          "Azerbaijan",
          "Bahamas",
          "Belarus",
          "Belgium",
          "Belize",
          "Benin",
          "Bhutan",
          "Bolivia (Plurinational State of)",
          "Bonaire, Sint Eustatius and Saba",
          "Bosnia and Herzegovina",
          "Botswana",
          "Bouvet Island",
          "Brazil",
          "British Indian Ocean Territory",
          "United States Minor Outlying Islands",
          "Virgin Islands (British)",
          "Virgin Islands (U.S.)",
          "Brunei Darussalam",
          "Bulgaria",
          "Burkina Faso",
          "Burundi",
          "Cambodia",
          "Cameroon",
          "Canada",
          "Cabo Verde",
          "Cayman Islands",
          "Central African Republic",
          "Chad",
          "Chile",
          "China",
          "Christmas Island",
          "Cocos (Keeling) Islands",
          "Colombia",
          "Comoros",
          "Congo",
          "Congo (Democratic Republic of the)",
          "Cook Islands",
          "Costa Rica",
          "Croatia",
          "Cuba",
          "Curaçao",
          "Cyprus",
          "Czech Republic",
          "Denmark",
          "Djibouti",
          "Dominica",
          "Dominican Republic",
          "Ecuador",
          "Egypt",
          "El Salvador",
          "Equatorial Guinea",
          "Eritrea",
          "Estonia",
          "Ethiopia",
          "Falkland Islands (Malvinas)",
          "Faroe Islands",
          "Fiji",
          "Finland",
          "France",
          "French Guiana",
          "French Polynesia",
          "French Southern Territories",
          "Gabon",
          "Gambia",
          "Georgia",
          "Germany",
          "Ghana",
          "Greece",
          "Greenland",
          "Grenada",
          "Guadeloupe",
          "Guam",
          "Guatemala",
          "Guinea",
          "Guinea-Bissau",
          "Guyana",
          "Haiti",
          "Heard Island and McDonald Islands",
          "Honduras",
          "Hungary",
          "Iceland",
          "India",
          "Indonesia",
          "Côte d'Ivoire",
          "Iran (Islamic Republic of)",
          "Iraq",
          "Ireland",
          "Isle of Man",
          "Israel",
          "Italy",
          "Jamaica",
          "Japan",
          "Jordan",
          "Kazakhstan",
          "Kenya",
          "Kiribati",
          "Kuwait",
          "Kyrgyzstan",
          "Lao People's Democratic Republic",
          "Latvia",
          "Lebanon",
          "Lesotho",
          "Liberia",
          "Libya",
          "Liechtenstein",
          "Lithuania",
          "Luxembourg",
          "Macedonia (the former Yugoslav Republic of)",
          "Madagascar",
          "Malawi",
          "Malaysia",
          "Mali",
          "Marshall Islands",
          "Martinique",
          "Mauritania",
          "Mauritius",
          "Mayotte",
          "Mexico",
          "Micronesia (Federated States of)",
          "Moldova (Republic of)",
          "Mongolia",
          "Montenegro",
          "Montserrat",
          "Morocco",
          "Mozambique",
          "Myanmar",
          "Namibia",
          "Nauru",
          "Nepal",
          "Netherlands",
          "New Caledonia",
          "New Zealand",
          "Nicaragua",
          "Niger",
          "Nigeria",
          "Niue",
          "Norfolk Island",
          "Korea (Democratic People's Republic of)",
          "Northern Mariana Islands",
          "Norway",
          "Oman",
          "Pakistan",
          "Palau",
          "Panama",
          "Papua New Guinea",
          "Paraguay",
          "Peru",
          "Philippines",
          "Pitcairn",
          "Poland",
          "Portugal",
          "Puerto Rico",
          "Qatar",
          "Republic of Kosovo",
          "Réunion",
          "Romania",
          "Russian Federation",
          "Rwanda",
          "Saint Barthélemy",
          "Saint Helena, Ascension and Tristan da Cunha",
          "Saint Kitts and Nevis",
          "Saint Lucia",
          "Saint Pierre and Miquelon",
          "Saint Vincent and the Grenadines",
          "Samoa",
          "San Marino",
          "Sao Tome and Principe",
          "Saudi Arabia",
          "Senegal",
          "Serbia",
          "Seychelles",
          "Sierra Leone",
          "Slovakia",
          "Slovenia",
          "Solomon Islands",
          "Somalia",
          "South Africa",
          "South Georgia and the South Sandwich Islands",
          "Korea (Republic of)",
          "South Sudan",
          "Spain",
          "Sri Lanka",
          "Sudan",
          "Suriname",
          "Svalbard and Jan Mayen",
          "Swaziland",
          "Sweden",
          "Switzerland",
          "Syrian Arab Republic",
          "Tajikistan",
          "Tanzania, United Republic of",
          "Thailand",
          "Timor-Leste",
          "Togo",
          "Tokelau",
          "Tonga",
          "Trinidad and Tobago",
          "Tunisia",
          "Turkey",
          "Turkmenistan",
          "Turks and Caicos Islands",
          "Tuvalu",
          "Uganda",
          "Ukraine",
          "United Arab Emirates",
          "United Kingdom of Great Britain and Northern Ireland",
          "United States of America",
          "Uruguay",
          "Uzbekistan",
          "Vanuatu",
          "Venezuela (Bolivarian Republic of)",
          "Viet Nam",
          "Wallis and Futuna",
          "Western Sahara",
          "Yemen",
          "Zambia",
          "Zimbabwe"
         ],
         "type": "choropleth",
         "z": [
          42.4,
          18.28,
          100.39,
          16.96,
          286.93,
          166.7,
          20.75,
          147.82,
          0,
          195.24,
          15.68,
          100.68,
          596.63,
          3.14,
          104.04,
          112.36,
          27.11,
          45.75,
          370.79,
          16.12,
          94.6,
          20.2,
          10,
          59.21,
          68.96,
          3.68,
          0,
          24.21,
          50,
          8.77,
          188.83,
          331.28,
          71.45,
          64.52,
          69.73,
          363.39,
          86.32,
          47.77,
          3.62,
          131.72,
          220.6,
          8.02,
          11.29,
          24.06,
          142.89,
          15.35,
          39.29,
          42.71,
          432.95,
          13.86,
          36.26,
          76.69,
          95.7,
          74.05,
          102.28,
          348.75,
          91.56,
          133.88,
          132.66,
          38.79,
          94.93,
          207,
          59.77,
          91.07,
          309.9,
          43.58,
          45.51,
          29.1,
          83.5,
          0.21,
          35.45,
          47.45,
          16.23,
          104.12,
          3.05,
          65.23,
          0.02,
          6.73,
          166.66,
          53.38,
          228.98,
          116,
          82.26,
          0.03,
          300.37,
          245.78,
          335.52,
          148.56,
          52.66,
          42.85,
          3.47,
          399.21,
          0,
          76.24,
          105.59,
          3.25,
          393.97,
          135.83,
          70.31,
          48.16,
          86.43,
          90.76,
          147.72,
          410.56,
          201.32,
          247.77,
          335.94,
          106.69,
          6.52,
          81.42,
          139.83,
          234.8,
          30.25,
          27.42,
          30.38,
          572.9,
          62.4,
          41.44,
          3.63,
          235.14,
          43.99,
          222.82,
          80.06,
          38.22,
          142.07,
          94.94,
          14.62,
          303.2,
          335.32,
          3.61,
          619.06,
          606.72,
          62.25,
          146.44,
          104.98,
          1.98,
          45.02,
          48.25,
          74.66,
          32.96,
          76,
          2.82,
          480.19,
          193.17,
          406.69,
          14.47,
          17.37,
          48.04,
          16.35,
          202.42,
          5.65,
          63.94,
          209.73,
          122.72,
          16.13,
          14.28,
          220.12,
          39.11,
          50.58,
          17.47,
          16.85,
          24.5,
          301.68,
          1.19,
          122.93,
          112.66,
          391.68,
          223.34,
          158.95,
          334.92,
          83.31,
          8.56,
          438.65,
          448.43,
          10.8,
          177.03,
          301.95,
          25.08,
          282.75,
          68.58,
          541.07,
          194.35,
          15,
          75.23,
          80.08,
          202.21,
          98.63,
          110.66,
          101.82,
          22.22,
          17.37,
          45.58,
          0.01,
          506.95,
          19.57,
          91.78,
          319.55,
          21,
          3.31,
          6.8,
          65.23,
          21.97,
          202.05,
          100.25,
          60.05,
          58.36,
          127.31,
          78.48,
          125.79,
          117.58,
          138.22,
          263.09,
          68.18,
          100.49,
          9.73,
          33.18,
          409.23,
          140.18,
          70.72,
          117.89,
          268.05,
          33.64,
          19.22,
          70.58,
          22.77,
          33.86,
          279.88,
          82.75,
          1.92,
          52.04,
          21.17,
          36.44
         ],
         "zmax": 619.06,
         "zmin": 0
        }
       ],
       "layout": {
        "geo": {
         "projection": {
          "type": "equirectangular"
         },
         "showcoastlines": false,
         "showframe": false
        },
        "template": {
         "data": {
          "bar": [
           {
            "error_x": {
             "color": "#2a3f5f"
            },
            "error_y": {
             "color": "#2a3f5f"
            },
            "marker": {
             "line": {
              "color": "#E5ECF6",
              "width": 0.5
             }
            },
            "type": "bar"
           }
          ],
          "barpolar": [
           {
            "marker": {
             "line": {
              "color": "#E5ECF6",
              "width": 0.5
             }
            },
            "type": "barpolar"
           }
          ],
          "carpet": [
           {
            "aaxis": {
             "endlinecolor": "#2a3f5f",
             "gridcolor": "white",
             "linecolor": "white",
             "minorgridcolor": "white",
             "startlinecolor": "#2a3f5f"
            },
            "baxis": {
             "endlinecolor": "#2a3f5f",
             "gridcolor": "white",
             "linecolor": "white",
             "minorgridcolor": "white",
             "startlinecolor": "#2a3f5f"
            },
            "type": "carpet"
           }
          ],
          "choropleth": [
           {
            "colorbar": {
             "outlinewidth": 0,
             "ticks": ""
            },
            "type": "choropleth"
           }
          ],
          "contour": [
           {
            "colorbar": {
             "outlinewidth": 0,
             "ticks": ""
            },
            "colorscale": [
             [
              0,
              "#0d0887"
             ],
             [
              0.1111111111111111,
              "#46039f"
             ],
             [
              0.2222222222222222,
              "#7201a8"
             ],
             [
              0.3333333333333333,
              "#9c179e"
             ],
             [
              0.4444444444444444,
              "#bd3786"
             ],
             [
              0.5555555555555556,
              "#d8576b"
             ],
             [
              0.6666666666666666,
              "#ed7953"
             ],
             [
              0.7777777777777778,
              "#fb9f3a"
             ],
             [
              0.8888888888888888,
              "#fdca26"
             ],
             [
              1,
              "#f0f921"
             ]
            ],
            "type": "contour"
           }
          ],
          "contourcarpet": [
           {
            "colorbar": {
             "outlinewidth": 0,
             "ticks": ""
            },
            "type": "contourcarpet"
           }
          ],
          "heatmap": [
           {
            "colorbar": {
             "outlinewidth": 0,
             "ticks": ""
            },
            "colorscale": [
             [
              0,
              "#0d0887"
             ],
             [
              0.1111111111111111,
              "#46039f"
             ],
             [
              0.2222222222222222,
              "#7201a8"
             ],
             [
              0.3333333333333333,
              "#9c179e"
             ],
             [
              0.4444444444444444,
              "#bd3786"
             ],
             [
              0.5555555555555556,
              "#d8576b"
             ],
             [
              0.6666666666666666,
              "#ed7953"
             ],
             [
              0.7777777777777778,
              "#fb9f3a"
             ],
             [
              0.8888888888888888,
              "#fdca26"
             ],
             [
              1,
              "#f0f921"
             ]
            ],
            "type": "heatmap"
           }
          ],
          "heatmapgl": [
           {
            "colorbar": {
             "outlinewidth": 0,
             "ticks": ""
            },
            "colorscale": [
             [
              0,
              "#0d0887"
             ],
             [
              0.1111111111111111,
              "#46039f"
             ],
             [
              0.2222222222222222,
              "#7201a8"
             ],
             [
              0.3333333333333333,
              "#9c179e"
             ],
             [
              0.4444444444444444,
              "#bd3786"
             ],
             [
              0.5555555555555556,
              "#d8576b"
             ],
             [
              0.6666666666666666,
              "#ed7953"
             ],
             [
              0.7777777777777778,
              "#fb9f3a"
             ],
             [
              0.8888888888888888,
              "#fdca26"
             ],
             [
              1,
              "#f0f921"
             ]
            ],
            "type": "heatmapgl"
           }
          ],
          "histogram": [
           {
            "marker": {
             "colorbar": {
              "outlinewidth": 0,
              "ticks": ""
             }
            },
            "type": "histogram"
           }
          ],
          "histogram2d": [
           {
            "colorbar": {
             "outlinewidth": 0,
             "ticks": ""
            },
            "colorscale": [
             [
              0,
              "#0d0887"
             ],
             [
              0.1111111111111111,
              "#46039f"
             ],
             [
              0.2222222222222222,
              "#7201a8"
             ],
             [
              0.3333333333333333,
              "#9c179e"
             ],
             [
              0.4444444444444444,
              "#bd3786"
             ],
             [
              0.5555555555555556,
              "#d8576b"
             ],
             [
              0.6666666666666666,
              "#ed7953"
             ],
             [
              0.7777777777777778,
              "#fb9f3a"
             ],
             [
              0.8888888888888888,
              "#fdca26"
             ],
             [
              1,
              "#f0f921"
             ]
            ],
            "type": "histogram2d"
           }
          ],
          "histogram2dcontour": [
           {
            "colorbar": {
             "outlinewidth": 0,
             "ticks": ""
            },
            "colorscale": [
             [
              0,
              "#0d0887"
             ],
             [
              0.1111111111111111,
              "#46039f"
             ],
             [
              0.2222222222222222,
              "#7201a8"
             ],
             [
              0.3333333333333333,
              "#9c179e"
             ],
             [
              0.4444444444444444,
              "#bd3786"
             ],
             [
              0.5555555555555556,
              "#d8576b"
             ],
             [
              0.6666666666666666,
              "#ed7953"
             ],
             [
              0.7777777777777778,
              "#fb9f3a"
             ],
             [
              0.8888888888888888,
              "#fdca26"
             ],
             [
              1,
              "#f0f921"
             ]
            ],
            "type": "histogram2dcontour"
           }
          ],
          "mesh3d": [
           {
            "colorbar": {
             "outlinewidth": 0,
             "ticks": ""
            },
            "type": "mesh3d"
           }
          ],
          "parcoords": [
           {
            "line": {
             "colorbar": {
              "outlinewidth": 0,
              "ticks": ""
             }
            },
            "type": "parcoords"
           }
          ],
          "pie": [
           {
            "automargin": true,
            "type": "pie"
           }
          ],
          "scatter": [
           {
            "marker": {
             "colorbar": {
              "outlinewidth": 0,
              "ticks": ""
             }
            },
            "type": "scatter"
           }
          ],
          "scatter3d": [
           {
            "line": {
             "colorbar": {
              "outlinewidth": 0,
              "ticks": ""
             }
            },
            "marker": {
             "colorbar": {
              "outlinewidth": 0,
              "ticks": ""
             }
            },
            "type": "scatter3d"
           }
          ],
          "scattercarpet": [
           {
            "marker": {
             "colorbar": {
              "outlinewidth": 0,
              "ticks": ""
             }
            },
            "type": "scattercarpet"
           }
          ],
          "scattergeo": [
           {
            "marker": {
             "colorbar": {
              "outlinewidth": 0,
              "ticks": ""
             }
            },
            "type": "scattergeo"
           }
          ],
          "scattergl": [
           {
            "marker": {
             "colorbar": {
              "outlinewidth": 0,
              "ticks": ""
             }
            },
            "type": "scattergl"
           }
          ],
          "scattermapbox": [
           {
            "marker": {
             "colorbar": {
              "outlinewidth": 0,
              "ticks": ""
             }
            },
            "type": "scattermapbox"
           }
          ],
          "scatterpolar": [
           {
            "marker": {
             "colorbar": {
              "outlinewidth": 0,
              "ticks": ""
             }
            },
            "type": "scatterpolar"
           }
          ],
          "scatterpolargl": [
           {
            "marker": {
             "colorbar": {
              "outlinewidth": 0,
              "ticks": ""
             }
            },
            "type": "scatterpolargl"
           }
          ],
          "scatterternary": [
           {
            "marker": {
             "colorbar": {
              "outlinewidth": 0,
              "ticks": ""
             }
            },
            "type": "scatterternary"
           }
          ],
          "surface": [
           {
            "colorbar": {
             "outlinewidth": 0,
             "ticks": ""
            },
            "colorscale": [
             [
              0,
              "#0d0887"
             ],
             [
              0.1111111111111111,
              "#46039f"
             ],
             [
              0.2222222222222222,
              "#7201a8"
             ],
             [
              0.3333333333333333,
              "#9c179e"
             ],
             [
              0.4444444444444444,
              "#bd3786"
             ],
             [
              0.5555555555555556,
              "#d8576b"
             ],
             [
              0.6666666666666666,
              "#ed7953"
             ],
             [
              0.7777777777777778,
              "#fb9f3a"
             ],
             [
              0.8888888888888888,
              "#fdca26"
             ],
             [
              1,
              "#f0f921"
             ]
            ],
            "type": "surface"
           }
          ],
          "table": [
           {
            "cells": {
             "fill": {
              "color": "#EBF0F8"
             },
             "line": {
              "color": "white"
             }
            },
            "header": {
             "fill": {
              "color": "#C8D4E3"
             },
             "line": {
              "color": "white"
             }
            },
            "type": "table"
           }
          ]
         },
         "layout": {
          "annotationdefaults": {
           "arrowcolor": "#2a3f5f",
           "arrowhead": 0,
           "arrowwidth": 1
          },
          "coloraxis": {
           "colorbar": {
            "outlinewidth": 0,
            "ticks": ""
           }
          },
          "colorscale": {
           "diverging": [
            [
             0,
             "#8e0152"
            ],
            [
             0.1,
             "#c51b7d"
            ],
            [
             0.2,
             "#de77ae"
            ],
            [
             0.3,
             "#f1b6da"
            ],
            [
             0.4,
             "#fde0ef"
            ],
            [
             0.5,
             "#f7f7f7"
            ],
            [
             0.6,
             "#e6f5d0"
            ],
            [
             0.7,
             "#b8e186"
            ],
            [
             0.8,
             "#7fbc41"
            ],
            [
             0.9,
             "#4d9221"
            ],
            [
             1,
             "#276419"
            ]
           ],
           "sequential": [
            [
             0,
             "#0d0887"
            ],
            [
             0.1111111111111111,
             "#46039f"
            ],
            [
             0.2222222222222222,
             "#7201a8"
            ],
            [
             0.3333333333333333,
             "#9c179e"
            ],
            [
             0.4444444444444444,
             "#bd3786"
            ],
            [
             0.5555555555555556,
             "#d8576b"
            ],
            [
             0.6666666666666666,
             "#ed7953"
            ],
            [
             0.7777777777777778,
             "#fb9f3a"
            ],
            [
             0.8888888888888888,
             "#fdca26"
            ],
            [
             1,
             "#f0f921"
            ]
           ],
           "sequentialminus": [
            [
             0,
             "#0d0887"
            ],
            [
             0.1111111111111111,
             "#46039f"
            ],
            [
             0.2222222222222222,
             "#7201a8"
            ],
            [
             0.3333333333333333,
             "#9c179e"
            ],
            [
             0.4444444444444444,
             "#bd3786"
            ],
            [
             0.5555555555555556,
             "#d8576b"
            ],
            [
             0.6666666666666666,
             "#ed7953"
            ],
            [
             0.7777777777777778,
             "#fb9f3a"
            ],
            [
             0.8888888888888888,
             "#fdca26"
            ],
            [
             1,
             "#f0f921"
            ]
           ]
          },
          "colorway": [
           "#636efa",
           "#EF553B",
           "#00cc96",
           "#ab63fa",
           "#FFA15A",
           "#19d3f3",
           "#FF6692",
           "#B6E880",
           "#FF97FF",
           "#FECB52"
          ],
          "font": {
           "color": "#2a3f5f"
          },
          "geo": {
           "bgcolor": "white",
           "lakecolor": "white",
           "landcolor": "#E5ECF6",
           "showlakes": true,
           "showland": true,
           "subunitcolor": "white"
          },
          "hoverlabel": {
           "align": "left"
          },
          "hovermode": "closest",
          "mapbox": {
           "style": "light"
          },
          "paper_bgcolor": "white",
          "plot_bgcolor": "#E5ECF6",
          "polar": {
           "angularaxis": {
            "gridcolor": "white",
            "linecolor": "white",
            "ticks": ""
           },
           "bgcolor": "#E5ECF6",
           "radialaxis": {
            "gridcolor": "white",
            "linecolor": "white",
            "ticks": ""
           }
          },
          "scene": {
           "xaxis": {
            "backgroundcolor": "#E5ECF6",
            "gridcolor": "white",
            "gridwidth": 2,
            "linecolor": "white",
            "showbackground": true,
            "ticks": "",
            "zerolinecolor": "white"
           },
           "yaxis": {
            "backgroundcolor": "#E5ECF6",
            "gridcolor": "white",
            "gridwidth": 2,
            "linecolor": "white",
            "showbackground": true,
            "ticks": "",
            "zerolinecolor": "white"
           },
           "zaxis": {
            "backgroundcolor": "#E5ECF6",
            "gridcolor": "white",
            "gridwidth": 2,
            "linecolor": "white",
            "showbackground": true,
            "ticks": "",
            "zerolinecolor": "white"
           }
          },
          "shapedefaults": {
           "line": {
            "color": "#2a3f5f"
           }
          },
          "ternary": {
           "aaxis": {
            "gridcolor": "white",
            "linecolor": "white",
            "ticks": ""
           },
           "baxis": {
            "gridcolor": "white",
            "linecolor": "white",
            "ticks": ""
           },
           "bgcolor": "#E5ECF6",
           "caxis": {
            "gridcolor": "white",
            "linecolor": "white",
            "ticks": ""
           }
          },
          "title": {
           "x": 0.05
          },
          "xaxis": {
           "automargin": true,
           "gridcolor": "white",
           "linecolor": "white",
           "ticks": "",
           "title": {
            "standoff": 15
           },
           "zerolinecolor": "white",
           "zerolinewidth": 2
          },
          "yaxis": {
           "automargin": true,
           "gridcolor": "white",
           "linecolor": "white",
           "ticks": "",
           "title": {
            "standoff": 15
           },
           "zerolinecolor": "white",
           "zerolinewidth": 2
          }
         }
        },
        "title": {
         "text": "World Population Density"
        }
       }
      },
      "text/html": [
       "<div>\n",
       "        \n",
       "        \n",
       "            <div id=\"bc7424ce-347a-4330-aa33-ec41a9918f5f\" class=\"plotly-graph-div\" style=\"height:525px; width:100%;\"></div>\n",
       "            <script type=\"text/javascript\">\n",
       "                require([\"plotly\"], function(Plotly) {\n",
       "                    window.PLOTLYENV=window.PLOTLYENV || {};\n",
       "                    \n",
       "                if (document.getElementById(\"bc7424ce-347a-4330-aa33-ec41a9918f5f\")) {\n",
       "                    Plotly.newPlot(\n",
       "                        'bc7424ce-347a-4330-aa33-ec41a9918f5f',\n",
       "                        [{\"colorbar\": {\"ticksuffix\": \"/km2\", \"title\": {\"text\": \"World Population<br>Density\"}}, \"colorscale\": [[0.0, \"rgb(247,251,255)\"], [0.125, \"rgb(222,235,247)\"], [0.25, \"rgb(198,219,239)\"], [0.375, \"rgb(158,202,225)\"], [0.5, \"rgb(107,174,214)\"], [0.625, \"rgb(66,146,198)\"], [0.75, \"rgb(33,113,181)\"], [0.875, \"rgb(8,81,156)\"], [1.0, \"rgb(8,48,107)\"]], \"locations\": [\"AFG\", \"ALA\", \"ALB\", \"DZA\", \"ASM\", \"AND\", \"AGO\", \"AIA\", \"ATA\", \"ATG\", \"ARG\", \"ARM\", \"ABW\", \"AUS\", \"AUT\", \"AZE\", \"BHS\", \"BLR\", \"BEL\", \"BLZ\", \"BEN\", \"BTN\", \"BOL\", \"BES\", \"BIH\", \"BWA\", \"BVT\", \"BRA\", \"IOT\", \"UMI\", \"VGB\", \"VIR\", \"BRN\", \"BGR\", \"BFA\", \"BDI\", \"KHM\", \"CMR\", \"CAN\", \"CPV\", \"CYM\", \"CAF\", \"TCD\", \"CHL\", \"CHN\", \"CXR\", \"CCK\", \"COL\", \"COM\", \"COG\", \"COD\", \"COK\", \"CRI\", \"HRV\", \"CUB\", \"CUW\", \"CYP\", \"CZE\", \"DNK\", \"DJI\", \"DMA\", \"DOM\", \"ECU\", \"EGY\", \"SLV\", \"GNQ\", \"ERI\", \"EST\", \"ETH\", \"FLK\", \"FRO\", \"FJI\", \"FIN\", \"FRA\", \"GUF\", \"PYF\", \"ATF\", \"GAB\", \"GMB\", \"GEO\", \"DEU\", \"GHA\", \"GRC\", \"GRL\", \"GRD\", \"GLP\", \"GUM\", \"GTM\", \"GIN\", \"GNB\", \"GUY\", \"HTI\", \"HMD\", \"HND\", \"HUN\", \"ISL\", \"IND\", \"IDN\", \"CIV\", \"IRN\", \"IRQ\", \"IRL\", \"IMN\", \"ISR\", \"ITA\", \"JAM\", \"JPN\", \"JOR\", \"KAZ\", \"KEN\", \"KIR\", \"KWT\", \"KGZ\", \"LAO\", \"LVA\", \"LBN\", \"LSO\", \"LBR\", \"LBY\", \"LIE\", \"LTU\", \"LUX\", \"MKD\", \"MDG\", \"MWI\", \"MYS\", \"MLI\", \"MHL\", \"MTQ\", \"MRT\", \"MUS\", \"MYT\", \"MEX\", \"FSM\", \"MDA\", \"MNG\", \"MNE\", \"MSR\", \"MAR\", \"MOZ\", \"MMR\", \"NAM\", \"NRU\", \"NPL\", \"NLD\", \"NCL\", \"NZL\", \"NIC\", \"NER\", \"NGA\", \"NIU\", \"NFK\", \"PRK\", \"MNP\", \"NOR\", \"OMN\", \"PAK\", \"PLW\", \"PAN\", \"PNG\", \"PRY\", \"PER\", \"PHL\", \"PCN\", \"POL\", \"PRT\", \"PRI\", \"QAT\", \"KOS\", \"REU\", \"ROU\", \"RUS\", \"RWA\", \"BLM\", \"SHN\", \"KNA\", \"LCA\", \"SPM\", \"VCT\", \"WSM\", \"SMR\", \"STP\", \"SAU\", \"SEN\", \"SRB\", \"SYC\", \"SLE\", \"SVK\", \"SVN\", \"SLB\", \"SOM\", \"ZAF\", \"SGS\", \"KOR\", \"SSD\", \"ESP\", \"LKA\", \"SDN\", \"SUR\", \"SJM\", \"SWZ\", \"SWE\", \"CHE\", \"SYR\", \"TJK\", \"TZA\", \"THA\", \"TLS\", \"TGO\", \"TKL\", \"TON\", \"TTO\", \"TUN\", \"TUR\", \"TKM\", \"TCA\", \"TUV\", \"UGA\", \"UKR\", \"ARE\", \"GBR\", \"USA\", \"URY\", \"UZB\", \"VUT\", \"VEN\", \"VNM\", \"WLF\", \"ESH\", \"YEM\", \"ZMB\", \"ZWE\"], \"marker\": {\"line\": {\"color\": \"darkgray\", \"width\": 0.5}}, \"reversescale\": false, \"text\": [\"Afghanistan\", \"\\u00c5land Islands\", \"Albania\", \"Algeria\", \"American Samoa\", \"Andorra\", \"Angola\", \"Anguilla\", \"Antarctica\", \"Antigua and Barbuda\", \"Argentina\", \"Armenia\", \"Aruba\", \"Australia\", \"Austria\", \"Azerbaijan\", \"Bahamas\", \"Belarus\", \"Belgium\", \"Belize\", \"Benin\", \"Bhutan\", \"Bolivia (Plurinational State of)\", \"Bonaire, Sint Eustatius and Saba\", \"Bosnia and Herzegovina\", \"Botswana\", \"Bouvet Island\", \"Brazil\", \"British Indian Ocean Territory\", \"United States Minor Outlying Islands\", \"Virgin Islands (British)\", \"Virgin Islands (U.S.)\", \"Brunei Darussalam\", \"Bulgaria\", \"Burkina Faso\", \"Burundi\", \"Cambodia\", \"Cameroon\", \"Canada\", \"Cabo Verde\", \"Cayman Islands\", \"Central African Republic\", \"Chad\", \"Chile\", \"China\", \"Christmas Island\", \"Cocos (Keeling) Islands\", \"Colombia\", \"Comoros\", \"Congo\", \"Congo (Democratic Republic of the)\", \"Cook Islands\", \"Costa Rica\", \"Croatia\", \"Cuba\", \"Cura\\u00e7ao\", \"Cyprus\", \"Czech Republic\", \"Denmark\", \"Djibouti\", \"Dominica\", \"Dominican Republic\", \"Ecuador\", \"Egypt\", \"El Salvador\", \"Equatorial Guinea\", \"Eritrea\", \"Estonia\", \"Ethiopia\", \"Falkland Islands (Malvinas)\", \"Faroe Islands\", \"Fiji\", \"Finland\", \"France\", \"French Guiana\", \"French Polynesia\", \"French Southern Territories\", \"Gabon\", \"Gambia\", \"Georgia\", \"Germany\", \"Ghana\", \"Greece\", \"Greenland\", \"Grenada\", \"Guadeloupe\", \"Guam\", \"Guatemala\", \"Guinea\", \"Guinea-Bissau\", \"Guyana\", \"Haiti\", \"Heard Island and McDonald Islands\", \"Honduras\", \"Hungary\", \"Iceland\", \"India\", \"Indonesia\", \"C\\u00f4te d'Ivoire\", \"Iran (Islamic Republic of)\", \"Iraq\", \"Ireland\", \"Isle of Man\", \"Israel\", \"Italy\", \"Jamaica\", \"Japan\", \"Jordan\", \"Kazakhstan\", \"Kenya\", \"Kiribati\", \"Kuwait\", \"Kyrgyzstan\", \"Lao People's Democratic Republic\", \"Latvia\", \"Lebanon\", \"Lesotho\", \"Liberia\", \"Libya\", \"Liechtenstein\", \"Lithuania\", \"Luxembourg\", \"Macedonia (the former Yugoslav Republic of)\", \"Madagascar\", \"Malawi\", \"Malaysia\", \"Mali\", \"Marshall Islands\", \"Martinique\", \"Mauritania\", \"Mauritius\", \"Mayotte\", \"Mexico\", \"Micronesia (Federated States of)\", \"Moldova (Republic of)\", \"Mongolia\", \"Montenegro\", \"Montserrat\", \"Morocco\", \"Mozambique\", \"Myanmar\", \"Namibia\", \"Nauru\", \"Nepal\", \"Netherlands\", \"New Caledonia\", \"New Zealand\", \"Nicaragua\", \"Niger\", \"Nigeria\", \"Niue\", \"Norfolk Island\", \"Korea (Democratic People's Republic of)\", \"Northern Mariana Islands\", \"Norway\", \"Oman\", \"Pakistan\", \"Palau\", \"Panama\", \"Papua New Guinea\", \"Paraguay\", \"Peru\", \"Philippines\", \"Pitcairn\", \"Poland\", \"Portugal\", \"Puerto Rico\", \"Qatar\", \"Republic of Kosovo\", \"R\\u00e9union\", \"Romania\", \"Russian Federation\", \"Rwanda\", \"Saint Barth\\u00e9lemy\", \"Saint Helena, Ascension and Tristan da Cunha\", \"Saint Kitts and Nevis\", \"Saint Lucia\", \"Saint Pierre and Miquelon\", \"Saint Vincent and the Grenadines\", \"Samoa\", \"San Marino\", \"Sao Tome and Principe\", \"Saudi Arabia\", \"Senegal\", \"Serbia\", \"Seychelles\", \"Sierra Leone\", \"Slovakia\", \"Slovenia\", \"Solomon Islands\", \"Somalia\", \"South Africa\", \"South Georgia and the South Sandwich Islands\", \"Korea (Republic of)\", \"South Sudan\", \"Spain\", \"Sri Lanka\", \"Sudan\", \"Suriname\", \"Svalbard and Jan Mayen\", \"Swaziland\", \"Sweden\", \"Switzerland\", \"Syrian Arab Republic\", \"Tajikistan\", \"Tanzania, United Republic of\", \"Thailand\", \"Timor-Leste\", \"Togo\", \"Tokelau\", \"Tonga\", \"Trinidad and Tobago\", \"Tunisia\", \"Turkey\", \"Turkmenistan\", \"Turks and Caicos Islands\", \"Tuvalu\", \"Uganda\", \"Ukraine\", \"United Arab Emirates\", \"United Kingdom of Great Britain and Northern Ireland\", \"United States of America\", \"Uruguay\", \"Uzbekistan\", \"Vanuatu\", \"Venezuela (Bolivarian Republic of)\", \"Viet Nam\", \"Wallis and Futuna\", \"Western Sahara\", \"Yemen\", \"Zambia\", \"Zimbabwe\"], \"type\": \"choropleth\", \"z\": [42.4, 18.28, 100.39, 16.96, 286.93, 166.7, 20.75, 147.82, 0.0, 195.24, 15.68, 100.68, 596.63, 3.14, 104.04, 112.36, 27.11, 45.75, 370.79, 16.12, 94.6, 20.2, 10.0, 59.21, 68.96, 3.68, 0.0, 24.21, 50.0, 8.77, 188.83, 331.28, 71.45, 64.52, 69.73, 363.39, 86.32, 47.77, 3.62, 131.72, 220.6, 8.02, 11.29, 24.06, 142.89, 15.35, 39.29, 42.71, 432.95, 13.86, 36.26, 76.69, 95.7, 74.05, 102.28, 348.75, 91.56, 133.88, 132.66, 38.79, 94.93, 207.0, 59.77, 91.07, 309.9, 43.58, 45.51, 29.1, 83.5, 0.21, 35.45, 47.45, 16.23, 104.12, 3.05, 65.23, 0.02, 6.73, 166.66, 53.38, 228.98, 116.0, 82.26, 0.03, 300.37, 245.78, 335.52, 148.56, 52.66, 42.85, 3.47, 399.21, 0.0, 76.24, 105.59, 3.25, 393.97, 135.83, 70.31, 48.16, 86.43, 90.76, 147.72, 410.56, 201.32, 247.77, 335.94, 106.69, 6.52, 81.42, 139.83, 234.8, 30.25, 27.42, 30.38, 572.9, 62.4, 41.44, 3.63, 235.14, 43.99, 222.82, 80.06, 38.22, 142.07, 94.94, 14.62, 303.2, 335.32, 3.61, 619.06, 606.72, 62.25, 146.44, 104.98, 1.98, 45.02, 48.25, 74.66, 32.96, 76.0, 2.82, 480.19, 193.17, 406.69, 14.47, 17.37, 48.04, 16.35, 202.42, 5.65, 63.94, 209.73, 122.72, 16.13, 14.28, 220.12, 39.11, 50.58, 17.47, 16.85, 24.5, 301.68, 1.19, 122.93, 112.66, 391.68, 223.34, 158.95, 334.92, 83.31, 8.56, 438.65, 448.43, 10.8, 177.03, 301.95, 25.08, 282.75, 68.58, 541.07, 194.35, 15.0, 75.23, 80.08, 202.21, 98.63, 110.66, 101.82, 22.22, 17.37, 45.58, 0.01, 506.95, 19.57, 91.78, 319.55, 21.0, 3.31, 6.8, 65.23, 21.97, 202.05, 100.25, 60.05, 58.36, 127.31, 78.48, 125.79, 117.58, 138.22, 263.09, 68.18, 100.49, 9.73, 33.18, 409.23, 140.18, 70.72, 117.89, 268.05, 33.64, 19.22, 70.58, 22.77, 33.86, 279.88, 82.75, 1.92, 52.04, 21.17, 36.44], \"zmax\": 619.06, \"zmin\": 0}],\n",
       "                        {\"geo\": {\"projection\": {\"type\": \"equirectangular\"}, \"showcoastlines\": false, \"showframe\": false}, \"template\": {\"data\": {\"bar\": [{\"error_x\": {\"color\": \"#2a3f5f\"}, \"error_y\": {\"color\": \"#2a3f5f\"}, \"marker\": {\"line\": {\"color\": \"#E5ECF6\", \"width\": 0.5}}, \"type\": \"bar\"}], \"barpolar\": [{\"marker\": {\"line\": {\"color\": \"#E5ECF6\", \"width\": 0.5}}, \"type\": \"barpolar\"}], \"carpet\": [{\"aaxis\": {\"endlinecolor\": \"#2a3f5f\", \"gridcolor\": \"white\", \"linecolor\": \"white\", \"minorgridcolor\": \"white\", \"startlinecolor\": \"#2a3f5f\"}, \"baxis\": {\"endlinecolor\": \"#2a3f5f\", \"gridcolor\": \"white\", \"linecolor\": \"white\", \"minorgridcolor\": \"white\", \"startlinecolor\": \"#2a3f5f\"}, \"type\": \"carpet\"}], \"choropleth\": [{\"colorbar\": {\"outlinewidth\": 0, \"ticks\": \"\"}, \"type\": \"choropleth\"}], \"contour\": [{\"colorbar\": {\"outlinewidth\": 0, \"ticks\": \"\"}, \"colorscale\": [[0.0, \"#0d0887\"], [0.1111111111111111, \"#46039f\"], [0.2222222222222222, \"#7201a8\"], [0.3333333333333333, \"#9c179e\"], [0.4444444444444444, \"#bd3786\"], [0.5555555555555556, \"#d8576b\"], [0.6666666666666666, \"#ed7953\"], [0.7777777777777778, \"#fb9f3a\"], [0.8888888888888888, \"#fdca26\"], [1.0, \"#f0f921\"]], \"type\": \"contour\"}], \"contourcarpet\": [{\"colorbar\": {\"outlinewidth\": 0, \"ticks\": \"\"}, \"type\": \"contourcarpet\"}], \"heatmap\": [{\"colorbar\": {\"outlinewidth\": 0, \"ticks\": \"\"}, \"colorscale\": [[0.0, \"#0d0887\"], [0.1111111111111111, \"#46039f\"], [0.2222222222222222, \"#7201a8\"], [0.3333333333333333, \"#9c179e\"], [0.4444444444444444, \"#bd3786\"], [0.5555555555555556, \"#d8576b\"], [0.6666666666666666, \"#ed7953\"], [0.7777777777777778, \"#fb9f3a\"], [0.8888888888888888, \"#fdca26\"], [1.0, \"#f0f921\"]], \"type\": \"heatmap\"}], \"heatmapgl\": [{\"colorbar\": {\"outlinewidth\": 0, \"ticks\": \"\"}, \"colorscale\": [[0.0, \"#0d0887\"], [0.1111111111111111, \"#46039f\"], [0.2222222222222222, \"#7201a8\"], [0.3333333333333333, \"#9c179e\"], [0.4444444444444444, \"#bd3786\"], [0.5555555555555556, \"#d8576b\"], [0.6666666666666666, \"#ed7953\"], [0.7777777777777778, \"#fb9f3a\"], [0.8888888888888888, \"#fdca26\"], [1.0, \"#f0f921\"]], \"type\": \"heatmapgl\"}], \"histogram\": [{\"marker\": {\"colorbar\": {\"outlinewidth\": 0, \"ticks\": \"\"}}, \"type\": \"histogram\"}], \"histogram2d\": [{\"colorbar\": {\"outlinewidth\": 0, \"ticks\": \"\"}, \"colorscale\": [[0.0, \"#0d0887\"], [0.1111111111111111, \"#46039f\"], [0.2222222222222222, \"#7201a8\"], [0.3333333333333333, \"#9c179e\"], [0.4444444444444444, \"#bd3786\"], [0.5555555555555556, \"#d8576b\"], [0.6666666666666666, \"#ed7953\"], [0.7777777777777778, \"#fb9f3a\"], [0.8888888888888888, \"#fdca26\"], [1.0, \"#f0f921\"]], \"type\": \"histogram2d\"}], \"histogram2dcontour\": [{\"colorbar\": {\"outlinewidth\": 0, \"ticks\": \"\"}, \"colorscale\": [[0.0, \"#0d0887\"], [0.1111111111111111, \"#46039f\"], [0.2222222222222222, \"#7201a8\"], [0.3333333333333333, \"#9c179e\"], [0.4444444444444444, \"#bd3786\"], [0.5555555555555556, \"#d8576b\"], [0.6666666666666666, \"#ed7953\"], [0.7777777777777778, \"#fb9f3a\"], [0.8888888888888888, \"#fdca26\"], [1.0, \"#f0f921\"]], \"type\": \"histogram2dcontour\"}], \"mesh3d\": [{\"colorbar\": {\"outlinewidth\": 0, \"ticks\": \"\"}, \"type\": \"mesh3d\"}], \"parcoords\": [{\"line\": {\"colorbar\": {\"outlinewidth\": 0, \"ticks\": \"\"}}, \"type\": \"parcoords\"}], \"pie\": [{\"automargin\": true, \"type\": \"pie\"}], \"scatter\": [{\"marker\": {\"colorbar\": {\"outlinewidth\": 0, \"ticks\": \"\"}}, \"type\": \"scatter\"}], \"scatter3d\": [{\"line\": {\"colorbar\": {\"outlinewidth\": 0, \"ticks\": \"\"}}, \"marker\": {\"colorbar\": {\"outlinewidth\": 0, \"ticks\": \"\"}}, \"type\": \"scatter3d\"}], \"scattercarpet\": [{\"marker\": {\"colorbar\": {\"outlinewidth\": 0, \"ticks\": \"\"}}, \"type\": \"scattercarpet\"}], \"scattergeo\": [{\"marker\": {\"colorbar\": {\"outlinewidth\": 0, \"ticks\": \"\"}}, \"type\": \"scattergeo\"}], \"scattergl\": [{\"marker\": {\"colorbar\": {\"outlinewidth\": 0, \"ticks\": \"\"}}, \"type\": \"scattergl\"}], \"scattermapbox\": [{\"marker\": {\"colorbar\": {\"outlinewidth\": 0, \"ticks\": \"\"}}, \"type\": \"scattermapbox\"}], \"scatterpolar\": [{\"marker\": {\"colorbar\": {\"outlinewidth\": 0, \"ticks\": \"\"}}, \"type\": \"scatterpolar\"}], \"scatterpolargl\": [{\"marker\": {\"colorbar\": {\"outlinewidth\": 0, \"ticks\": \"\"}}, \"type\": \"scatterpolargl\"}], \"scatterternary\": [{\"marker\": {\"colorbar\": {\"outlinewidth\": 0, \"ticks\": \"\"}}, \"type\": \"scatterternary\"}], \"surface\": [{\"colorbar\": {\"outlinewidth\": 0, \"ticks\": \"\"}, \"colorscale\": [[0.0, \"#0d0887\"], [0.1111111111111111, \"#46039f\"], [0.2222222222222222, \"#7201a8\"], [0.3333333333333333, \"#9c179e\"], [0.4444444444444444, \"#bd3786\"], [0.5555555555555556, \"#d8576b\"], [0.6666666666666666, \"#ed7953\"], [0.7777777777777778, \"#fb9f3a\"], [0.8888888888888888, \"#fdca26\"], [1.0, \"#f0f921\"]], \"type\": \"surface\"}], \"table\": [{\"cells\": {\"fill\": {\"color\": \"#EBF0F8\"}, \"line\": {\"color\": \"white\"}}, \"header\": {\"fill\": {\"color\": \"#C8D4E3\"}, \"line\": {\"color\": \"white\"}}, \"type\": \"table\"}]}, \"layout\": {\"annotationdefaults\": {\"arrowcolor\": \"#2a3f5f\", \"arrowhead\": 0, \"arrowwidth\": 1}, \"coloraxis\": {\"colorbar\": {\"outlinewidth\": 0, \"ticks\": \"\"}}, \"colorscale\": {\"diverging\": [[0, \"#8e0152\"], [0.1, \"#c51b7d\"], [0.2, \"#de77ae\"], [0.3, \"#f1b6da\"], [0.4, \"#fde0ef\"], [0.5, \"#f7f7f7\"], [0.6, \"#e6f5d0\"], [0.7, \"#b8e186\"], [0.8, \"#7fbc41\"], [0.9, \"#4d9221\"], [1, \"#276419\"]], \"sequential\": [[0.0, \"#0d0887\"], [0.1111111111111111, \"#46039f\"], [0.2222222222222222, \"#7201a8\"], [0.3333333333333333, \"#9c179e\"], [0.4444444444444444, \"#bd3786\"], [0.5555555555555556, \"#d8576b\"], [0.6666666666666666, \"#ed7953\"], [0.7777777777777778, \"#fb9f3a\"], [0.8888888888888888, \"#fdca26\"], [1.0, \"#f0f921\"]], \"sequentialminus\": [[0.0, \"#0d0887\"], [0.1111111111111111, \"#46039f\"], [0.2222222222222222, \"#7201a8\"], [0.3333333333333333, \"#9c179e\"], [0.4444444444444444, \"#bd3786\"], [0.5555555555555556, \"#d8576b\"], [0.6666666666666666, \"#ed7953\"], [0.7777777777777778, \"#fb9f3a\"], [0.8888888888888888, \"#fdca26\"], [1.0, \"#f0f921\"]]}, \"colorway\": [\"#636efa\", \"#EF553B\", \"#00cc96\", \"#ab63fa\", \"#FFA15A\", \"#19d3f3\", \"#FF6692\", \"#B6E880\", \"#FF97FF\", \"#FECB52\"], \"font\": {\"color\": \"#2a3f5f\"}, \"geo\": {\"bgcolor\": \"white\", \"lakecolor\": \"white\", \"landcolor\": \"#E5ECF6\", \"showlakes\": true, \"showland\": true, \"subunitcolor\": \"white\"}, \"hoverlabel\": {\"align\": \"left\"}, \"hovermode\": \"closest\", \"mapbox\": {\"style\": \"light\"}, \"paper_bgcolor\": \"white\", \"plot_bgcolor\": \"#E5ECF6\", \"polar\": {\"angularaxis\": {\"gridcolor\": \"white\", \"linecolor\": \"white\", \"ticks\": \"\"}, \"bgcolor\": \"#E5ECF6\", \"radialaxis\": {\"gridcolor\": \"white\", \"linecolor\": \"white\", \"ticks\": \"\"}}, \"scene\": {\"xaxis\": {\"backgroundcolor\": \"#E5ECF6\", \"gridcolor\": \"white\", \"gridwidth\": 2, \"linecolor\": \"white\", \"showbackground\": true, \"ticks\": \"\", \"zerolinecolor\": \"white\"}, \"yaxis\": {\"backgroundcolor\": \"#E5ECF6\", \"gridcolor\": \"white\", \"gridwidth\": 2, \"linecolor\": \"white\", \"showbackground\": true, \"ticks\": \"\", \"zerolinecolor\": \"white\"}, \"zaxis\": {\"backgroundcolor\": \"#E5ECF6\", \"gridcolor\": \"white\", \"gridwidth\": 2, \"linecolor\": \"white\", \"showbackground\": true, \"ticks\": \"\", \"zerolinecolor\": \"white\"}}, \"shapedefaults\": {\"line\": {\"color\": \"#2a3f5f\"}}, \"ternary\": {\"aaxis\": {\"gridcolor\": \"white\", \"linecolor\": \"white\", \"ticks\": \"\"}, \"baxis\": {\"gridcolor\": \"white\", \"linecolor\": \"white\", \"ticks\": \"\"}, \"bgcolor\": \"#E5ECF6\", \"caxis\": {\"gridcolor\": \"white\", \"linecolor\": \"white\", \"ticks\": \"\"}}, \"title\": {\"x\": 0.05}, \"xaxis\": {\"automargin\": true, \"gridcolor\": \"white\", \"linecolor\": \"white\", \"ticks\": \"\", \"title\": {\"standoff\": 15}, \"zerolinecolor\": \"white\", \"zerolinewidth\": 2}, \"yaxis\": {\"automargin\": true, \"gridcolor\": \"white\", \"linecolor\": \"white\", \"ticks\": \"\", \"title\": {\"standoff\": 15}, \"zerolinecolor\": \"white\", \"zerolinewidth\": 2}}}, \"title\": {\"text\": \"World Population Density\"}},\n",
       "                        {\"responsive\": true}\n",
       "                    ).then(function(){\n",
       "                            \n",
       "var gd = document.getElementById('bc7424ce-347a-4330-aa33-ec41a9918f5f');\n",
       "var x = new MutationObserver(function (mutations, observer) {{\n",
       "        var display = window.getComputedStyle(gd).display;\n",
       "        if (!display || display === 'none') {{\n",
       "            console.log([gd, 'removed!']);\n",
       "            Plotly.purge(gd);\n",
       "            observer.disconnect();\n",
       "        }}\n",
       "}});\n",
       "\n",
       "// Listen for the removal of the full notebook cells\n",
       "var notebookContainer = gd.closest('#notebook-container');\n",
       "if (notebookContainer) {{\n",
       "    x.observe(notebookContainer, {childList: true});\n",
       "}}\n",
       "\n",
       "// Listen for the clearing of the current output cell\n",
       "var outputEl = gd.closest('.output');\n",
       "if (outputEl) {{\n",
       "    x.observe(outputEl, {childList: true});\n",
       "}}\n",
       "\n",
       "                        })\n",
       "                };\n",
       "                });\n",
       "            </script>\n",
       "        </div>"
      ]
     },
     "metadata": {},
     "output_type": "display_data"
    },
    {
     "name": "stdout",
     "output_type": "stream",
     "text": [
      "Country not display in World Population Density graph:\n",
      "                        country  popDensity\n",
      "131                       Macao    21636.67\n",
      "147                      Monaco    19009.90\n",
      "202                   Singapore     7795.77\n",
      "101                   Hong Kong     6634.33\n",
      "86                    Gibraltar     5523.33\n",
      "17                      Bahrain     1836.47\n",
      "138                       Malta     1346.15\n",
      "24                      Bermuda     1147.30\n",
      "136                    Maldives     1146.74\n",
      "203   Sint Maarten (Dutch part)     1124.91\n",
      "18                   Bangladesh     1091.05\n",
      "99                     Holy See     1025.00\n",
      "115                      Jersey      868.97\n",
      "93                     Guernsey      807.68\n",
      "171         Palestine, State of      777.82\n",
      "191  Saint Martin (French part)      697.72\n",
      "19                     Barbados      662.79\n",
      "221                      Taiwan      649.39\n"
     ]
    }
   ],
   "source": [
    "lst = df['popDensity'].sort_values(ascending = False).head(int(len(df)*0.075)).index\n",
    "# lst = []\n",
    "cond = df.index.isin(lst) == False\n",
    "\n",
    "fig = go.Figure()\n",
    "\n",
    "fig.add_trace(go.Choropleth(\n",
    "    locations = df[cond]['alphaCode'],\n",
    "    z = df[cond]['popDensity'],\n",
    "    text = df[cond]['country'],\n",
    "    colorscale = 'Blues',\n",
    "#     autocolorscale=True,\n",
    "    reversescale=False,\n",
    "    zmin=0, \n",
    "    zmax=df[cond]['popDensity'].max(),\n",
    "    marker_line_color='darkgray',\n",
    "    marker_line_width=0.5,\n",
    "#     colorbar_tickprefix = '/km2',\n",
    "    colorbar_ticksuffix = '/km2',\n",
    "    colorbar_title = 'World Population<br>Density',\n",
    "))\n",
    "\n",
    "fig.update_layout(\n",
    "    title_text='World Population Density',\n",
    "    geo=dict(\n",
    "#         scope='europe', #limit area to be showed on map\n",
    "        showframe=False,\n",
    "        showcoastlines=False,\n",
    "        projection_type='equirectangular'\n",
    "    ))\n",
    "\n",
    "fig.show()\n",
    "\n",
    "#  The 'scope' property is an enumeration that may be specified as:\n",
    "#       - One of the following enumeration values:\n",
    "#             ['world', 'usa', 'europe', 'asia', 'africa', 'north\n",
    "#             america', 'south america']\n",
    "\n",
    "print('Country not display in World Population Density graph:')\n",
    "print(df.loc[lst,['country','popDensity']])"
   ]
  },
  {
   "cell_type": "markdown",
   "metadata": {},
   "source": [
    "## languages\n",
    "\n",
    "Map2: \n",
    "\n",
    "Map represent geographic region/sub-regions VS languages groups => map color phân màu những nước nào nói nhiều loại ngôn ngữ nhất + scatter lot show (y:  số nước nói ngôn ngữ,\n",
    "                                    x = population nói ngôn ngữ đó, \n",
    "                                    size = gini\n",
    "                                    color = phân loại ngôn ngữ, \n",
    "subplot (1 row 2 cols)"
   ]
  },
  {
   "cell_type": "code",
   "execution_count": 99,
   "metadata": {},
   "outputs": [
    {
     "data": {
      "application/vnd.plotly.v1+json": {
       "config": {
        "plotlyServerURL": "https://plot.ly"
       },
       "data": [
        {
         "autocolorscale": true,
         "colorbar": {
          "title": {
           "text": "Official Languages<br>Count"
          }
         },
         "locations": [
          "AFG",
          "ALA",
          "ALB",
          "DZA",
          "ASM",
          "AND",
          "AGO",
          "AIA",
          "ATA",
          "ATG",
          "ARG",
          "ARM",
          "ABW",
          "AUS",
          "AUT",
          "AZE",
          "BHS",
          "BHR",
          "BGD",
          "BRB",
          "BLR",
          "BEL",
          "BLZ",
          "BEN",
          "BMU",
          "BTN",
          "BOL",
          "BES",
          "BIH",
          "BWA",
          "BVT",
          "BRA",
          "IOT",
          "UMI",
          "VGB",
          "VIR",
          "BRN",
          "BGR",
          "BFA",
          "BDI",
          "KHM",
          "CMR",
          "CAN",
          "CPV",
          "CYM",
          "CAF",
          "TCD",
          "CHL",
          "CHN",
          "CXR",
          "CCK",
          "COL",
          "COM",
          "COG",
          "COD",
          "COK",
          "CRI",
          "HRV",
          "CUB",
          "CUW",
          "CYP",
          "CZE",
          "DNK",
          "DJI",
          "DMA",
          "DOM",
          "ECU",
          "EGY",
          "SLV",
          "GNQ",
          "ERI",
          "EST",
          "ETH",
          "FLK",
          "FRO",
          "FJI",
          "FIN",
          "FRA",
          "GUF",
          "PYF",
          "ATF",
          "GAB",
          "GMB",
          "GEO",
          "DEU",
          "GHA",
          "GIB",
          "GRC",
          "GRL",
          "GRD",
          "GLP",
          "GUM",
          "GTM",
          "GGY",
          "GIN",
          "GNB",
          "GUY",
          "HTI",
          "HMD",
          "VAT",
          "HND",
          "HKG",
          "HUN",
          "ISL",
          "IND",
          "IDN",
          "CIV",
          "IRN",
          "IRQ",
          "IRL",
          "IMN",
          "ISR",
          "ITA",
          "JAM",
          "JPN",
          "JEY",
          "JOR",
          "KAZ",
          "KEN",
          "KIR",
          "KWT",
          "KGZ",
          "LAO",
          "LVA",
          "LBN",
          "LSO",
          "LBR",
          "LBY",
          "LIE",
          "LTU",
          "LUX",
          "MAC",
          "MKD",
          "MDG",
          "MWI",
          "MYS",
          "MDV",
          "MLI",
          "MLT",
          "MHL",
          "MTQ",
          "MRT",
          "MUS",
          "MYT",
          "MEX",
          "FSM",
          "MDA",
          "MCO",
          "MNG",
          "MNE",
          "MSR",
          "MAR",
          "MOZ",
          "MMR",
          "NAM",
          "NRU",
          "NPL",
          "NLD",
          "NCL",
          "NZL",
          "NIC",
          "NER",
          "NGA",
          "NIU",
          "NFK",
          "PRK",
          "MNP",
          "NOR",
          "OMN",
          "PAK",
          "PLW",
          "PSE",
          "PAN",
          "PNG",
          "PRY",
          "PER",
          "PHL",
          "PCN",
          "POL",
          "PRT",
          "PRI",
          "QAT",
          "KOS",
          "REU",
          "ROU",
          "RUS",
          "RWA",
          "BLM",
          "SHN",
          "KNA",
          "LCA",
          "MAF",
          "SPM",
          "VCT",
          "WSM",
          "SMR",
          "STP",
          "SAU",
          "SEN",
          "SRB",
          "SYC",
          "SLE",
          "SGP",
          "SXM",
          "SVK",
          "SVN",
          "SLB",
          "SOM",
          "ZAF",
          "SGS",
          "KOR",
          "SSD",
          "ESP",
          "LKA",
          "SDN",
          "SUR",
          "SJM",
          "SWZ",
          "SWE",
          "CHE",
          "SYR",
          "TWN",
          "TJK",
          "TZA",
          "THA",
          "TLS",
          "TGO",
          "TKL",
          "TON",
          "TTO",
          "TUN",
          "TUR",
          "TKM",
          "TCA",
          "TUV",
          "UGA",
          "UKR",
          "ARE",
          "GBR",
          "USA",
          "URY",
          "UZB",
          "VUT",
          "VEN",
          "VNM",
          "WLF",
          "ESH",
          "YEM",
          "ZMB",
          "ZWE"
         ],
         "marker": {
          "line": {
           "color": "darkgray",
           "width": 0.5
          }
         },
         "reversescale": true,
         "text": [
          "Afghanistan",
          "Åland Islands",
          "Albania",
          "Algeria",
          "American Samoa",
          "Andorra",
          "Angola",
          "Anguilla",
          "Antarctica",
          "Antigua and Barbuda",
          "Argentina",
          "Armenia",
          "Aruba",
          "Australia",
          "Austria",
          "Azerbaijan",
          "Bahamas",
          "Bahrain",
          "Bangladesh",
          "Barbados",
          "Belarus",
          "Belgium",
          "Belize",
          "Benin",
          "Bermuda",
          "Bhutan",
          "Bolivia (Plurinational State of)",
          "Bonaire, Sint Eustatius and Saba",
          "Bosnia and Herzegovina",
          "Botswana",
          "Bouvet Island",
          "Brazil",
          "British Indian Ocean Territory",
          "United States Minor Outlying Islands",
          "Virgin Islands (British)",
          "Virgin Islands (U.S.)",
          "Brunei Darussalam",
          "Bulgaria",
          "Burkina Faso",
          "Burundi",
          "Cambodia",
          "Cameroon",
          "Canada",
          "Cabo Verde",
          "Cayman Islands",
          "Central African Republic",
          "Chad",
          "Chile",
          "China",
          "Christmas Island",
          "Cocos (Keeling) Islands",
          "Colombia",
          "Comoros",
          "Congo",
          "Congo (Democratic Republic of the)",
          "Cook Islands",
          "Costa Rica",
          "Croatia",
          "Cuba",
          "Curaçao",
          "Cyprus",
          "Czech Republic",
          "Denmark",
          "Djibouti",
          "Dominica",
          "Dominican Republic",
          "Ecuador",
          "Egypt",
          "El Salvador",
          "Equatorial Guinea",
          "Eritrea",
          "Estonia",
          "Ethiopia",
          "Falkland Islands (Malvinas)",
          "Faroe Islands",
          "Fiji",
          "Finland",
          "France",
          "French Guiana",
          "French Polynesia",
          "French Southern Territories",
          "Gabon",
          "Gambia",
          "Georgia",
          "Germany",
          "Ghana",
          "Gibraltar",
          "Greece",
          "Greenland",
          "Grenada",
          "Guadeloupe",
          "Guam",
          "Guatemala",
          "Guernsey",
          "Guinea",
          "Guinea-Bissau",
          "Guyana",
          "Haiti",
          "Heard Island and McDonald Islands",
          "Holy See",
          "Honduras",
          "Hong Kong",
          "Hungary",
          "Iceland",
          "India",
          "Indonesia",
          "Côte d'Ivoire",
          "Iran (Islamic Republic of)",
          "Iraq",
          "Ireland",
          "Isle of Man",
          "Israel",
          "Italy",
          "Jamaica",
          "Japan",
          "Jersey",
          "Jordan",
          "Kazakhstan",
          "Kenya",
          "Kiribati",
          "Kuwait",
          "Kyrgyzstan",
          "Lao People's Democratic Republic",
          "Latvia",
          "Lebanon",
          "Lesotho",
          "Liberia",
          "Libya",
          "Liechtenstein",
          "Lithuania",
          "Luxembourg",
          "Macao",
          "Macedonia (the former Yugoslav Republic of)",
          "Madagascar",
          "Malawi",
          "Malaysia",
          "Maldives",
          "Mali",
          "Malta",
          "Marshall Islands",
          "Martinique",
          "Mauritania",
          "Mauritius",
          "Mayotte",
          "Mexico",
          "Micronesia (Federated States of)",
          "Moldova (Republic of)",
          "Monaco",
          "Mongolia",
          "Montenegro",
          "Montserrat",
          "Morocco",
          "Mozambique",
          "Myanmar",
          "Namibia",
          "Nauru",
          "Nepal",
          "Netherlands",
          "New Caledonia",
          "New Zealand",
          "Nicaragua",
          "Niger",
          "Nigeria",
          "Niue",
          "Norfolk Island",
          "Korea (Democratic People's Republic of)",
          "Northern Mariana Islands",
          "Norway",
          "Oman",
          "Pakistan",
          "Palau",
          "Palestine, State of",
          "Panama",
          "Papua New Guinea",
          "Paraguay",
          "Peru",
          "Philippines",
          "Pitcairn",
          "Poland",
          "Portugal",
          "Puerto Rico",
          "Qatar",
          "Republic of Kosovo",
          "Réunion",
          "Romania",
          "Russian Federation",
          "Rwanda",
          "Saint Barthélemy",
          "Saint Helena, Ascension and Tristan da Cunha",
          "Saint Kitts and Nevis",
          "Saint Lucia",
          "Saint Martin (French part)",
          "Saint Pierre and Miquelon",
          "Saint Vincent and the Grenadines",
          "Samoa",
          "San Marino",
          "Sao Tome and Principe",
          "Saudi Arabia",
          "Senegal",
          "Serbia",
          "Seychelles",
          "Sierra Leone",
          "Singapore",
          "Sint Maarten (Dutch part)",
          "Slovakia",
          "Slovenia",
          "Solomon Islands",
          "Somalia",
          "South Africa",
          "South Georgia and the South Sandwich Islands",
          "Korea (Republic of)",
          "South Sudan",
          "Spain",
          "Sri Lanka",
          "Sudan",
          "Suriname",
          "Svalbard and Jan Mayen",
          "Swaziland",
          "Sweden",
          "Switzerland",
          "Syrian Arab Republic",
          "Taiwan",
          "Tajikistan",
          "Tanzania, United Republic of",
          "Thailand",
          "Timor-Leste",
          "Togo",
          "Tokelau",
          "Tonga",
          "Trinidad and Tobago",
          "Tunisia",
          "Turkey",
          "Turkmenistan",
          "Turks and Caicos Islands",
          "Tuvalu",
          "Uganda",
          "Ukraine",
          "United Arab Emirates",
          "United Kingdom of Great Britain and Northern Ireland",
          "United States of America",
          "Uruguay",
          "Uzbekistan",
          "Vanuatu",
          "Venezuela (Bolivarian Republic of)",
          "Viet Nam",
          "Wallis and Futuna",
          "Western Sahara",
          "Yemen",
          "Zambia",
          "Zimbabwe"
         ],
         "type": "choropleth",
         "z": [
          3,
          1,
          1,
          1,
          2,
          1,
          1,
          1,
          2,
          1,
          2,
          2,
          2,
          1,
          1,
          1,
          1,
          1,
          1,
          1,
          2,
          3,
          2,
          1,
          1,
          1,
          3,
          1,
          3,
          2,
          3,
          1,
          1,
          1,
          1,
          1,
          1,
          1,
          2,
          2,
          1,
          2,
          2,
          1,
          1,
          2,
          2,
          1,
          1,
          1,
          1,
          1,
          2,
          2,
          5,
          1,
          1,
          1,
          1,
          3,
          3,
          2,
          1,
          2,
          1,
          1,
          1,
          1,
          1,
          2,
          3,
          1,
          1,
          1,
          1,
          4,
          2,
          1,
          1,
          1,
          1,
          1,
          1,
          1,
          1,
          1,
          1,
          1,
          1,
          1,
          1,
          3,
          1,
          2,
          2,
          1,
          1,
          2,
          1,
          4,
          1,
          2,
          1,
          1,
          2,
          1,
          1,
          1,
          2,
          2,
          2,
          2,
          1,
          1,
          1,
          2,
          1,
          2,
          2,
          1,
          1,
          2,
          1,
          1,
          2,
          2,
          1,
          1,
          1,
          1,
          3,
          2,
          1,
          2,
          2,
          1,
          1,
          1,
          2,
          2,
          1,
          1,
          1,
          1,
          1,
          1,
          1,
          1,
          1,
          4,
          1,
          1,
          1,
          1,
          2,
          2,
          1,
          1,
          1,
          2,
          1,
          1,
          1,
          1,
          1,
          1,
          2,
          3,
          1,
          2,
          1,
          1,
          1,
          1,
          2,
          1,
          1,
          1,
          1,
          1,
          2,
          1,
          2,
          1,
          1,
          1,
          3,
          1,
          1,
          1,
          1,
          3,
          1,
          1,
          2,
          1,
          1,
          1,
          1,
          1,
          2,
          1,
          4,
          2,
          1,
          1,
          1,
          2,
          10,
          1,
          1,
          1,
          1,
          2,
          2,
          1,
          1,
          2,
          1,
          3,
          1,
          1,
          2,
          2,
          1,
          1,
          1,
          1,
          2,
          1,
          1,
          1,
          2,
          1,
          1,
          2,
          1,
          1,
          1,
          1,
          1,
          2,
          3,
          1,
          1,
          1,
          1,
          1,
          1,
          3
         ],
         "zmax": 10,
         "zmin": 0
        }
       ],
       "layout": {
        "geo": {
         "projection": {
          "type": "equirectangular"
         },
         "showcoastlines": false,
         "showframe": false
        },
        "template": {
         "data": {
          "bar": [
           {
            "error_x": {
             "color": "#2a3f5f"
            },
            "error_y": {
             "color": "#2a3f5f"
            },
            "marker": {
             "line": {
              "color": "#E5ECF6",
              "width": 0.5
             }
            },
            "type": "bar"
           }
          ],
          "barpolar": [
           {
            "marker": {
             "line": {
              "color": "#E5ECF6",
              "width": 0.5
             }
            },
            "type": "barpolar"
           }
          ],
          "carpet": [
           {
            "aaxis": {
             "endlinecolor": "#2a3f5f",
             "gridcolor": "white",
             "linecolor": "white",
             "minorgridcolor": "white",
             "startlinecolor": "#2a3f5f"
            },
            "baxis": {
             "endlinecolor": "#2a3f5f",
             "gridcolor": "white",
             "linecolor": "white",
             "minorgridcolor": "white",
             "startlinecolor": "#2a3f5f"
            },
            "type": "carpet"
           }
          ],
          "choropleth": [
           {
            "colorbar": {
             "outlinewidth": 0,
             "ticks": ""
            },
            "type": "choropleth"
           }
          ],
          "contour": [
           {
            "colorbar": {
             "outlinewidth": 0,
             "ticks": ""
            },
            "colorscale": [
             [
              0,
              "#0d0887"
             ],
             [
              0.1111111111111111,
              "#46039f"
             ],
             [
              0.2222222222222222,
              "#7201a8"
             ],
             [
              0.3333333333333333,
              "#9c179e"
             ],
             [
              0.4444444444444444,
              "#bd3786"
             ],
             [
              0.5555555555555556,
              "#d8576b"
             ],
             [
              0.6666666666666666,
              "#ed7953"
             ],
             [
              0.7777777777777778,
              "#fb9f3a"
             ],
             [
              0.8888888888888888,
              "#fdca26"
             ],
             [
              1,
              "#f0f921"
             ]
            ],
            "type": "contour"
           }
          ],
          "contourcarpet": [
           {
            "colorbar": {
             "outlinewidth": 0,
             "ticks": ""
            },
            "type": "contourcarpet"
           }
          ],
          "heatmap": [
           {
            "colorbar": {
             "outlinewidth": 0,
             "ticks": ""
            },
            "colorscale": [
             [
              0,
              "#0d0887"
             ],
             [
              0.1111111111111111,
              "#46039f"
             ],
             [
              0.2222222222222222,
              "#7201a8"
             ],
             [
              0.3333333333333333,
              "#9c179e"
             ],
             [
              0.4444444444444444,
              "#bd3786"
             ],
             [
              0.5555555555555556,
              "#d8576b"
             ],
             [
              0.6666666666666666,
              "#ed7953"
             ],
             [
              0.7777777777777778,
              "#fb9f3a"
             ],
             [
              0.8888888888888888,
              "#fdca26"
             ],
             [
              1,
              "#f0f921"
             ]
            ],
            "type": "heatmap"
           }
          ],
          "heatmapgl": [
           {
            "colorbar": {
             "outlinewidth": 0,
             "ticks": ""
            },
            "colorscale": [
             [
              0,
              "#0d0887"
             ],
             [
              0.1111111111111111,
              "#46039f"
             ],
             [
              0.2222222222222222,
              "#7201a8"
             ],
             [
              0.3333333333333333,
              "#9c179e"
             ],
             [
              0.4444444444444444,
              "#bd3786"
             ],
             [
              0.5555555555555556,
              "#d8576b"
             ],
             [
              0.6666666666666666,
              "#ed7953"
             ],
             [
              0.7777777777777778,
              "#fb9f3a"
             ],
             [
              0.8888888888888888,
              "#fdca26"
             ],
             [
              1,
              "#f0f921"
             ]
            ],
            "type": "heatmapgl"
           }
          ],
          "histogram": [
           {
            "marker": {
             "colorbar": {
              "outlinewidth": 0,
              "ticks": ""
             }
            },
            "type": "histogram"
           }
          ],
          "histogram2d": [
           {
            "colorbar": {
             "outlinewidth": 0,
             "ticks": ""
            },
            "colorscale": [
             [
              0,
              "#0d0887"
             ],
             [
              0.1111111111111111,
              "#46039f"
             ],
             [
              0.2222222222222222,
              "#7201a8"
             ],
             [
              0.3333333333333333,
              "#9c179e"
             ],
             [
              0.4444444444444444,
              "#bd3786"
             ],
             [
              0.5555555555555556,
              "#d8576b"
             ],
             [
              0.6666666666666666,
              "#ed7953"
             ],
             [
              0.7777777777777778,
              "#fb9f3a"
             ],
             [
              0.8888888888888888,
              "#fdca26"
             ],
             [
              1,
              "#f0f921"
             ]
            ],
            "type": "histogram2d"
           }
          ],
          "histogram2dcontour": [
           {
            "colorbar": {
             "outlinewidth": 0,
             "ticks": ""
            },
            "colorscale": [
             [
              0,
              "#0d0887"
             ],
             [
              0.1111111111111111,
              "#46039f"
             ],
             [
              0.2222222222222222,
              "#7201a8"
             ],
             [
              0.3333333333333333,
              "#9c179e"
             ],
             [
              0.4444444444444444,
              "#bd3786"
             ],
             [
              0.5555555555555556,
              "#d8576b"
             ],
             [
              0.6666666666666666,
              "#ed7953"
             ],
             [
              0.7777777777777778,
              "#fb9f3a"
             ],
             [
              0.8888888888888888,
              "#fdca26"
             ],
             [
              1,
              "#f0f921"
             ]
            ],
            "type": "histogram2dcontour"
           }
          ],
          "mesh3d": [
           {
            "colorbar": {
             "outlinewidth": 0,
             "ticks": ""
            },
            "type": "mesh3d"
           }
          ],
          "parcoords": [
           {
            "line": {
             "colorbar": {
              "outlinewidth": 0,
              "ticks": ""
             }
            },
            "type": "parcoords"
           }
          ],
          "pie": [
           {
            "automargin": true,
            "type": "pie"
           }
          ],
          "scatter": [
           {
            "marker": {
             "colorbar": {
              "outlinewidth": 0,
              "ticks": ""
             }
            },
            "type": "scatter"
           }
          ],
          "scatter3d": [
           {
            "line": {
             "colorbar": {
              "outlinewidth": 0,
              "ticks": ""
             }
            },
            "marker": {
             "colorbar": {
              "outlinewidth": 0,
              "ticks": ""
             }
            },
            "type": "scatter3d"
           }
          ],
          "scattercarpet": [
           {
            "marker": {
             "colorbar": {
              "outlinewidth": 0,
              "ticks": ""
             }
            },
            "type": "scattercarpet"
           }
          ],
          "scattergeo": [
           {
            "marker": {
             "colorbar": {
              "outlinewidth": 0,
              "ticks": ""
             }
            },
            "type": "scattergeo"
           }
          ],
          "scattergl": [
           {
            "marker": {
             "colorbar": {
              "outlinewidth": 0,
              "ticks": ""
             }
            },
            "type": "scattergl"
           }
          ],
          "scattermapbox": [
           {
            "marker": {
             "colorbar": {
              "outlinewidth": 0,
              "ticks": ""
             }
            },
            "type": "scattermapbox"
           }
          ],
          "scatterpolar": [
           {
            "marker": {
             "colorbar": {
              "outlinewidth": 0,
              "ticks": ""
             }
            },
            "type": "scatterpolar"
           }
          ],
          "scatterpolargl": [
           {
            "marker": {
             "colorbar": {
              "outlinewidth": 0,
              "ticks": ""
             }
            },
            "type": "scatterpolargl"
           }
          ],
          "scatterternary": [
           {
            "marker": {
             "colorbar": {
              "outlinewidth": 0,
              "ticks": ""
             }
            },
            "type": "scatterternary"
           }
          ],
          "surface": [
           {
            "colorbar": {
             "outlinewidth": 0,
             "ticks": ""
            },
            "colorscale": [
             [
              0,
              "#0d0887"
             ],
             [
              0.1111111111111111,
              "#46039f"
             ],
             [
              0.2222222222222222,
              "#7201a8"
             ],
             [
              0.3333333333333333,
              "#9c179e"
             ],
             [
              0.4444444444444444,
              "#bd3786"
             ],
             [
              0.5555555555555556,
              "#d8576b"
             ],
             [
              0.6666666666666666,
              "#ed7953"
             ],
             [
              0.7777777777777778,
              "#fb9f3a"
             ],
             [
              0.8888888888888888,
              "#fdca26"
             ],
             [
              1,
              "#f0f921"
             ]
            ],
            "type": "surface"
           }
          ],
          "table": [
           {
            "cells": {
             "fill": {
              "color": "#EBF0F8"
             },
             "line": {
              "color": "white"
             }
            },
            "header": {
             "fill": {
              "color": "#C8D4E3"
             },
             "line": {
              "color": "white"
             }
            },
            "type": "table"
           }
          ]
         },
         "layout": {
          "annotationdefaults": {
           "arrowcolor": "#2a3f5f",
           "arrowhead": 0,
           "arrowwidth": 1
          },
          "coloraxis": {
           "colorbar": {
            "outlinewidth": 0,
            "ticks": ""
           }
          },
          "colorscale": {
           "diverging": [
            [
             0,
             "#8e0152"
            ],
            [
             0.1,
             "#c51b7d"
            ],
            [
             0.2,
             "#de77ae"
            ],
            [
             0.3,
             "#f1b6da"
            ],
            [
             0.4,
             "#fde0ef"
            ],
            [
             0.5,
             "#f7f7f7"
            ],
            [
             0.6,
             "#e6f5d0"
            ],
            [
             0.7,
             "#b8e186"
            ],
            [
             0.8,
             "#7fbc41"
            ],
            [
             0.9,
             "#4d9221"
            ],
            [
             1,
             "#276419"
            ]
           ],
           "sequential": [
            [
             0,
             "#0d0887"
            ],
            [
             0.1111111111111111,
             "#46039f"
            ],
            [
             0.2222222222222222,
             "#7201a8"
            ],
            [
             0.3333333333333333,
             "#9c179e"
            ],
            [
             0.4444444444444444,
             "#bd3786"
            ],
            [
             0.5555555555555556,
             "#d8576b"
            ],
            [
             0.6666666666666666,
             "#ed7953"
            ],
            [
             0.7777777777777778,
             "#fb9f3a"
            ],
            [
             0.8888888888888888,
             "#fdca26"
            ],
            [
             1,
             "#f0f921"
            ]
           ],
           "sequentialminus": [
            [
             0,
             "#0d0887"
            ],
            [
             0.1111111111111111,
             "#46039f"
            ],
            [
             0.2222222222222222,
             "#7201a8"
            ],
            [
             0.3333333333333333,
             "#9c179e"
            ],
            [
             0.4444444444444444,
             "#bd3786"
            ],
            [
             0.5555555555555556,
             "#d8576b"
            ],
            [
             0.6666666666666666,
             "#ed7953"
            ],
            [
             0.7777777777777778,
             "#fb9f3a"
            ],
            [
             0.8888888888888888,
             "#fdca26"
            ],
            [
             1,
             "#f0f921"
            ]
           ]
          },
          "colorway": [
           "#636efa",
           "#EF553B",
           "#00cc96",
           "#ab63fa",
           "#FFA15A",
           "#19d3f3",
           "#FF6692",
           "#B6E880",
           "#FF97FF",
           "#FECB52"
          ],
          "font": {
           "color": "#2a3f5f"
          },
          "geo": {
           "bgcolor": "white",
           "lakecolor": "white",
           "landcolor": "#E5ECF6",
           "showlakes": true,
           "showland": true,
           "subunitcolor": "white"
          },
          "hoverlabel": {
           "align": "left"
          },
          "hovermode": "closest",
          "mapbox": {
           "style": "light"
          },
          "paper_bgcolor": "white",
          "plot_bgcolor": "#E5ECF6",
          "polar": {
           "angularaxis": {
            "gridcolor": "white",
            "linecolor": "white",
            "ticks": ""
           },
           "bgcolor": "#E5ECF6",
           "radialaxis": {
            "gridcolor": "white",
            "linecolor": "white",
            "ticks": ""
           }
          },
          "scene": {
           "xaxis": {
            "backgroundcolor": "#E5ECF6",
            "gridcolor": "white",
            "gridwidth": 2,
            "linecolor": "white",
            "showbackground": true,
            "ticks": "",
            "zerolinecolor": "white"
           },
           "yaxis": {
            "backgroundcolor": "#E5ECF6",
            "gridcolor": "white",
            "gridwidth": 2,
            "linecolor": "white",
            "showbackground": true,
            "ticks": "",
            "zerolinecolor": "white"
           },
           "zaxis": {
            "backgroundcolor": "#E5ECF6",
            "gridcolor": "white",
            "gridwidth": 2,
            "linecolor": "white",
            "showbackground": true,
            "ticks": "",
            "zerolinecolor": "white"
           }
          },
          "shapedefaults": {
           "line": {
            "color": "#2a3f5f"
           }
          },
          "ternary": {
           "aaxis": {
            "gridcolor": "white",
            "linecolor": "white",
            "ticks": ""
           },
           "baxis": {
            "gridcolor": "white",
            "linecolor": "white",
            "ticks": ""
           },
           "bgcolor": "#E5ECF6",
           "caxis": {
            "gridcolor": "white",
            "linecolor": "white",
            "ticks": ""
           }
          },
          "title": {
           "x": 0.05
          },
          "xaxis": {
           "automargin": true,
           "gridcolor": "white",
           "linecolor": "white",
           "ticks": "",
           "title": {
            "standoff": 15
           },
           "zerolinecolor": "white",
           "zerolinewidth": 2
          },
          "yaxis": {
           "automargin": true,
           "gridcolor": "white",
           "linecolor": "white",
           "ticks": "",
           "title": {
            "standoff": 15
           },
           "zerolinecolor": "white",
           "zerolinewidth": 2
          }
         }
        },
        "title": {
         "text": "World Official Languages Count For Each Country"
        }
       }
      },
      "text/html": [
       "<div>\n",
       "        \n",
       "        \n",
       "            <div id=\"ba05b586-97a8-4cd4-8411-459ae3dd46c7\" class=\"plotly-graph-div\" style=\"height:525px; width:100%;\"></div>\n",
       "            <script type=\"text/javascript\">\n",
       "                require([\"plotly\"], function(Plotly) {\n",
       "                    window.PLOTLYENV=window.PLOTLYENV || {};\n",
       "                    \n",
       "                if (document.getElementById(\"ba05b586-97a8-4cd4-8411-459ae3dd46c7\")) {\n",
       "                    Plotly.newPlot(\n",
       "                        'ba05b586-97a8-4cd4-8411-459ae3dd46c7',\n",
       "                        [{\"autocolorscale\": true, \"colorbar\": {\"title\": {\"text\": \"Official Languages<br>Count\"}}, \"locations\": [\"AFG\", \"ALA\", \"ALB\", \"DZA\", \"ASM\", \"AND\", \"AGO\", \"AIA\", \"ATA\", \"ATG\", \"ARG\", \"ARM\", \"ABW\", \"AUS\", \"AUT\", \"AZE\", \"BHS\", \"BHR\", \"BGD\", \"BRB\", \"BLR\", \"BEL\", \"BLZ\", \"BEN\", \"BMU\", \"BTN\", \"BOL\", \"BES\", \"BIH\", \"BWA\", \"BVT\", \"BRA\", \"IOT\", \"UMI\", \"VGB\", \"VIR\", \"BRN\", \"BGR\", \"BFA\", \"BDI\", \"KHM\", \"CMR\", \"CAN\", \"CPV\", \"CYM\", \"CAF\", \"TCD\", \"CHL\", \"CHN\", \"CXR\", \"CCK\", \"COL\", \"COM\", \"COG\", \"COD\", \"COK\", \"CRI\", \"HRV\", \"CUB\", \"CUW\", \"CYP\", \"CZE\", \"DNK\", \"DJI\", \"DMA\", \"DOM\", \"ECU\", \"EGY\", \"SLV\", \"GNQ\", \"ERI\", \"EST\", \"ETH\", \"FLK\", \"FRO\", \"FJI\", \"FIN\", \"FRA\", \"GUF\", \"PYF\", \"ATF\", \"GAB\", \"GMB\", \"GEO\", \"DEU\", \"GHA\", \"GIB\", \"GRC\", \"GRL\", \"GRD\", \"GLP\", \"GUM\", \"GTM\", \"GGY\", \"GIN\", \"GNB\", \"GUY\", \"HTI\", \"HMD\", \"VAT\", \"HND\", \"HKG\", \"HUN\", \"ISL\", \"IND\", \"IDN\", \"CIV\", \"IRN\", \"IRQ\", \"IRL\", \"IMN\", \"ISR\", \"ITA\", \"JAM\", \"JPN\", \"JEY\", \"JOR\", \"KAZ\", \"KEN\", \"KIR\", \"KWT\", \"KGZ\", \"LAO\", \"LVA\", \"LBN\", \"LSO\", \"LBR\", \"LBY\", \"LIE\", \"LTU\", \"LUX\", \"MAC\", \"MKD\", \"MDG\", \"MWI\", \"MYS\", \"MDV\", \"MLI\", \"MLT\", \"MHL\", \"MTQ\", \"MRT\", \"MUS\", \"MYT\", \"MEX\", \"FSM\", \"MDA\", \"MCO\", \"MNG\", \"MNE\", \"MSR\", \"MAR\", \"MOZ\", \"MMR\", \"NAM\", \"NRU\", \"NPL\", \"NLD\", \"NCL\", \"NZL\", \"NIC\", \"NER\", \"NGA\", \"NIU\", \"NFK\", \"PRK\", \"MNP\", \"NOR\", \"OMN\", \"PAK\", \"PLW\", \"PSE\", \"PAN\", \"PNG\", \"PRY\", \"PER\", \"PHL\", \"PCN\", \"POL\", \"PRT\", \"PRI\", \"QAT\", \"KOS\", \"REU\", \"ROU\", \"RUS\", \"RWA\", \"BLM\", \"SHN\", \"KNA\", \"LCA\", \"MAF\", \"SPM\", \"VCT\", \"WSM\", \"SMR\", \"STP\", \"SAU\", \"SEN\", \"SRB\", \"SYC\", \"SLE\", \"SGP\", \"SXM\", \"SVK\", \"SVN\", \"SLB\", \"SOM\", \"ZAF\", \"SGS\", \"KOR\", \"SSD\", \"ESP\", \"LKA\", \"SDN\", \"SUR\", \"SJM\", \"SWZ\", \"SWE\", \"CHE\", \"SYR\", \"TWN\", \"TJK\", \"TZA\", \"THA\", \"TLS\", \"TGO\", \"TKL\", \"TON\", \"TTO\", \"TUN\", \"TUR\", \"TKM\", \"TCA\", \"TUV\", \"UGA\", \"UKR\", \"ARE\", \"GBR\", \"USA\", \"URY\", \"UZB\", \"VUT\", \"VEN\", \"VNM\", \"WLF\", \"ESH\", \"YEM\", \"ZMB\", \"ZWE\"], \"marker\": {\"line\": {\"color\": \"darkgray\", \"width\": 0.5}}, \"reversescale\": true, \"text\": [\"Afghanistan\", \"\\u00c5land Islands\", \"Albania\", \"Algeria\", \"American Samoa\", \"Andorra\", \"Angola\", \"Anguilla\", \"Antarctica\", \"Antigua and Barbuda\", \"Argentina\", \"Armenia\", \"Aruba\", \"Australia\", \"Austria\", \"Azerbaijan\", \"Bahamas\", \"Bahrain\", \"Bangladesh\", \"Barbados\", \"Belarus\", \"Belgium\", \"Belize\", \"Benin\", \"Bermuda\", \"Bhutan\", \"Bolivia (Plurinational State of)\", \"Bonaire, Sint Eustatius and Saba\", \"Bosnia and Herzegovina\", \"Botswana\", \"Bouvet Island\", \"Brazil\", \"British Indian Ocean Territory\", \"United States Minor Outlying Islands\", \"Virgin Islands (British)\", \"Virgin Islands (U.S.)\", \"Brunei Darussalam\", \"Bulgaria\", \"Burkina Faso\", \"Burundi\", \"Cambodia\", \"Cameroon\", \"Canada\", \"Cabo Verde\", \"Cayman Islands\", \"Central African Republic\", \"Chad\", \"Chile\", \"China\", \"Christmas Island\", \"Cocos (Keeling) Islands\", \"Colombia\", \"Comoros\", \"Congo\", \"Congo (Democratic Republic of the)\", \"Cook Islands\", \"Costa Rica\", \"Croatia\", \"Cuba\", \"Cura\\u00e7ao\", \"Cyprus\", \"Czech Republic\", \"Denmark\", \"Djibouti\", \"Dominica\", \"Dominican Republic\", \"Ecuador\", \"Egypt\", \"El Salvador\", \"Equatorial Guinea\", \"Eritrea\", \"Estonia\", \"Ethiopia\", \"Falkland Islands (Malvinas)\", \"Faroe Islands\", \"Fiji\", \"Finland\", \"France\", \"French Guiana\", \"French Polynesia\", \"French Southern Territories\", \"Gabon\", \"Gambia\", \"Georgia\", \"Germany\", \"Ghana\", \"Gibraltar\", \"Greece\", \"Greenland\", \"Grenada\", \"Guadeloupe\", \"Guam\", \"Guatemala\", \"Guernsey\", \"Guinea\", \"Guinea-Bissau\", \"Guyana\", \"Haiti\", \"Heard Island and McDonald Islands\", \"Holy See\", \"Honduras\", \"Hong Kong\", \"Hungary\", \"Iceland\", \"India\", \"Indonesia\", \"C\\u00f4te d'Ivoire\", \"Iran (Islamic Republic of)\", \"Iraq\", \"Ireland\", \"Isle of Man\", \"Israel\", \"Italy\", \"Jamaica\", \"Japan\", \"Jersey\", \"Jordan\", \"Kazakhstan\", \"Kenya\", \"Kiribati\", \"Kuwait\", \"Kyrgyzstan\", \"Lao People's Democratic Republic\", \"Latvia\", \"Lebanon\", \"Lesotho\", \"Liberia\", \"Libya\", \"Liechtenstein\", \"Lithuania\", \"Luxembourg\", \"Macao\", \"Macedonia (the former Yugoslav Republic of)\", \"Madagascar\", \"Malawi\", \"Malaysia\", \"Maldives\", \"Mali\", \"Malta\", \"Marshall Islands\", \"Martinique\", \"Mauritania\", \"Mauritius\", \"Mayotte\", \"Mexico\", \"Micronesia (Federated States of)\", \"Moldova (Republic of)\", \"Monaco\", \"Mongolia\", \"Montenegro\", \"Montserrat\", \"Morocco\", \"Mozambique\", \"Myanmar\", \"Namibia\", \"Nauru\", \"Nepal\", \"Netherlands\", \"New Caledonia\", \"New Zealand\", \"Nicaragua\", \"Niger\", \"Nigeria\", \"Niue\", \"Norfolk Island\", \"Korea (Democratic People's Republic of)\", \"Northern Mariana Islands\", \"Norway\", \"Oman\", \"Pakistan\", \"Palau\", \"Palestine, State of\", \"Panama\", \"Papua New Guinea\", \"Paraguay\", \"Peru\", \"Philippines\", \"Pitcairn\", \"Poland\", \"Portugal\", \"Puerto Rico\", \"Qatar\", \"Republic of Kosovo\", \"R\\u00e9union\", \"Romania\", \"Russian Federation\", \"Rwanda\", \"Saint Barth\\u00e9lemy\", \"Saint Helena, Ascension and Tristan da Cunha\", \"Saint Kitts and Nevis\", \"Saint Lucia\", \"Saint Martin (French part)\", \"Saint Pierre and Miquelon\", \"Saint Vincent and the Grenadines\", \"Samoa\", \"San Marino\", \"Sao Tome and Principe\", \"Saudi Arabia\", \"Senegal\", \"Serbia\", \"Seychelles\", \"Sierra Leone\", \"Singapore\", \"Sint Maarten (Dutch part)\", \"Slovakia\", \"Slovenia\", \"Solomon Islands\", \"Somalia\", \"South Africa\", \"South Georgia and the South Sandwich Islands\", \"Korea (Republic of)\", \"South Sudan\", \"Spain\", \"Sri Lanka\", \"Sudan\", \"Suriname\", \"Svalbard and Jan Mayen\", \"Swaziland\", \"Sweden\", \"Switzerland\", \"Syrian Arab Republic\", \"Taiwan\", \"Tajikistan\", \"Tanzania, United Republic of\", \"Thailand\", \"Timor-Leste\", \"Togo\", \"Tokelau\", \"Tonga\", \"Trinidad and Tobago\", \"Tunisia\", \"Turkey\", \"Turkmenistan\", \"Turks and Caicos Islands\", \"Tuvalu\", \"Uganda\", \"Ukraine\", \"United Arab Emirates\", \"United Kingdom of Great Britain and Northern Ireland\", \"United States of America\", \"Uruguay\", \"Uzbekistan\", \"Vanuatu\", \"Venezuela (Bolivarian Republic of)\", \"Viet Nam\", \"Wallis and Futuna\", \"Western Sahara\", \"Yemen\", \"Zambia\", \"Zimbabwe\"], \"type\": \"choropleth\", \"z\": [3, 1, 1, 1, 2, 1, 1, 1, 2, 1, 2, 2, 2, 1, 1, 1, 1, 1, 1, 1, 2, 3, 2, 1, 1, 1, 3, 1, 3, 2, 3, 1, 1, 1, 1, 1, 1, 1, 2, 2, 1, 2, 2, 1, 1, 2, 2, 1, 1, 1, 1, 1, 2, 2, 5, 1, 1, 1, 1, 3, 3, 2, 1, 2, 1, 1, 1, 1, 1, 2, 3, 1, 1, 1, 1, 4, 2, 1, 1, 1, 1, 1, 1, 1, 1, 1, 1, 1, 1, 1, 1, 3, 1, 2, 2, 1, 1, 2, 1, 4, 1, 2, 1, 1, 2, 1, 1, 1, 2, 2, 2, 2, 1, 1, 1, 2, 1, 2, 2, 1, 1, 2, 1, 1, 2, 2, 1, 1, 1, 1, 3, 2, 1, 2, 2, 1, 1, 1, 2, 2, 1, 1, 1, 1, 1, 1, 1, 1, 1, 4, 1, 1, 1, 1, 2, 2, 1, 1, 1, 2, 1, 1, 1, 1, 1, 1, 2, 3, 1, 2, 1, 1, 1, 1, 2, 1, 1, 1, 1, 1, 2, 1, 2, 1, 1, 1, 3, 1, 1, 1, 1, 3, 1, 1, 2, 1, 1, 1, 1, 1, 2, 1, 4, 2, 1, 1, 1, 2, 10, 1, 1, 1, 1, 2, 2, 1, 1, 2, 1, 3, 1, 1, 2, 2, 1, 1, 1, 1, 2, 1, 1, 1, 2, 1, 1, 2, 1, 1, 1, 1, 1, 2, 3, 1, 1, 1, 1, 1, 1, 3], \"zmax\": 10, \"zmin\": 0}],\n",
       "                        {\"geo\": {\"projection\": {\"type\": \"equirectangular\"}, \"showcoastlines\": false, \"showframe\": false}, \"template\": {\"data\": {\"bar\": [{\"error_x\": {\"color\": \"#2a3f5f\"}, \"error_y\": {\"color\": \"#2a3f5f\"}, \"marker\": {\"line\": {\"color\": \"#E5ECF6\", \"width\": 0.5}}, \"type\": \"bar\"}], \"barpolar\": [{\"marker\": {\"line\": {\"color\": \"#E5ECF6\", \"width\": 0.5}}, \"type\": \"barpolar\"}], \"carpet\": [{\"aaxis\": {\"endlinecolor\": \"#2a3f5f\", \"gridcolor\": \"white\", \"linecolor\": \"white\", \"minorgridcolor\": \"white\", \"startlinecolor\": \"#2a3f5f\"}, \"baxis\": {\"endlinecolor\": \"#2a3f5f\", \"gridcolor\": \"white\", \"linecolor\": \"white\", \"minorgridcolor\": \"white\", \"startlinecolor\": \"#2a3f5f\"}, \"type\": \"carpet\"}], \"choropleth\": [{\"colorbar\": {\"outlinewidth\": 0, \"ticks\": \"\"}, \"type\": \"choropleth\"}], \"contour\": [{\"colorbar\": {\"outlinewidth\": 0, \"ticks\": \"\"}, \"colorscale\": [[0.0, \"#0d0887\"], [0.1111111111111111, \"#46039f\"], [0.2222222222222222, \"#7201a8\"], [0.3333333333333333, \"#9c179e\"], [0.4444444444444444, \"#bd3786\"], [0.5555555555555556, \"#d8576b\"], [0.6666666666666666, \"#ed7953\"], [0.7777777777777778, \"#fb9f3a\"], [0.8888888888888888, \"#fdca26\"], [1.0, \"#f0f921\"]], \"type\": \"contour\"}], \"contourcarpet\": [{\"colorbar\": {\"outlinewidth\": 0, \"ticks\": \"\"}, \"type\": \"contourcarpet\"}], \"heatmap\": [{\"colorbar\": {\"outlinewidth\": 0, \"ticks\": \"\"}, \"colorscale\": [[0.0, \"#0d0887\"], [0.1111111111111111, \"#46039f\"], [0.2222222222222222, \"#7201a8\"], [0.3333333333333333, \"#9c179e\"], [0.4444444444444444, \"#bd3786\"], [0.5555555555555556, \"#d8576b\"], [0.6666666666666666, \"#ed7953\"], [0.7777777777777778, \"#fb9f3a\"], [0.8888888888888888, \"#fdca26\"], [1.0, \"#f0f921\"]], \"type\": \"heatmap\"}], \"heatmapgl\": [{\"colorbar\": {\"outlinewidth\": 0, \"ticks\": \"\"}, \"colorscale\": [[0.0, \"#0d0887\"], [0.1111111111111111, \"#46039f\"], [0.2222222222222222, \"#7201a8\"], [0.3333333333333333, \"#9c179e\"], [0.4444444444444444, \"#bd3786\"], [0.5555555555555556, \"#d8576b\"], [0.6666666666666666, \"#ed7953\"], [0.7777777777777778, \"#fb9f3a\"], [0.8888888888888888, \"#fdca26\"], [1.0, \"#f0f921\"]], \"type\": \"heatmapgl\"}], \"histogram\": [{\"marker\": {\"colorbar\": {\"outlinewidth\": 0, \"ticks\": \"\"}}, \"type\": \"histogram\"}], \"histogram2d\": [{\"colorbar\": {\"outlinewidth\": 0, \"ticks\": \"\"}, \"colorscale\": [[0.0, \"#0d0887\"], [0.1111111111111111, \"#46039f\"], [0.2222222222222222, \"#7201a8\"], [0.3333333333333333, \"#9c179e\"], [0.4444444444444444, \"#bd3786\"], [0.5555555555555556, \"#d8576b\"], [0.6666666666666666, \"#ed7953\"], [0.7777777777777778, \"#fb9f3a\"], [0.8888888888888888, \"#fdca26\"], [1.0, \"#f0f921\"]], \"type\": \"histogram2d\"}], \"histogram2dcontour\": [{\"colorbar\": {\"outlinewidth\": 0, \"ticks\": \"\"}, \"colorscale\": [[0.0, \"#0d0887\"], [0.1111111111111111, \"#46039f\"], [0.2222222222222222, \"#7201a8\"], [0.3333333333333333, \"#9c179e\"], [0.4444444444444444, \"#bd3786\"], [0.5555555555555556, \"#d8576b\"], [0.6666666666666666, \"#ed7953\"], [0.7777777777777778, \"#fb9f3a\"], [0.8888888888888888, \"#fdca26\"], [1.0, \"#f0f921\"]], \"type\": \"histogram2dcontour\"}], \"mesh3d\": [{\"colorbar\": {\"outlinewidth\": 0, \"ticks\": \"\"}, \"type\": \"mesh3d\"}], \"parcoords\": [{\"line\": {\"colorbar\": {\"outlinewidth\": 0, \"ticks\": \"\"}}, \"type\": \"parcoords\"}], \"pie\": [{\"automargin\": true, \"type\": \"pie\"}], \"scatter\": [{\"marker\": {\"colorbar\": {\"outlinewidth\": 0, \"ticks\": \"\"}}, \"type\": \"scatter\"}], \"scatter3d\": [{\"line\": {\"colorbar\": {\"outlinewidth\": 0, \"ticks\": \"\"}}, \"marker\": {\"colorbar\": {\"outlinewidth\": 0, \"ticks\": \"\"}}, \"type\": \"scatter3d\"}], \"scattercarpet\": [{\"marker\": {\"colorbar\": {\"outlinewidth\": 0, \"ticks\": \"\"}}, \"type\": \"scattercarpet\"}], \"scattergeo\": [{\"marker\": {\"colorbar\": {\"outlinewidth\": 0, \"ticks\": \"\"}}, \"type\": \"scattergeo\"}], \"scattergl\": [{\"marker\": {\"colorbar\": {\"outlinewidth\": 0, \"ticks\": \"\"}}, \"type\": \"scattergl\"}], \"scattermapbox\": [{\"marker\": {\"colorbar\": {\"outlinewidth\": 0, \"ticks\": \"\"}}, \"type\": \"scattermapbox\"}], \"scatterpolar\": [{\"marker\": {\"colorbar\": {\"outlinewidth\": 0, \"ticks\": \"\"}}, \"type\": \"scatterpolar\"}], \"scatterpolargl\": [{\"marker\": {\"colorbar\": {\"outlinewidth\": 0, \"ticks\": \"\"}}, \"type\": \"scatterpolargl\"}], \"scatterternary\": [{\"marker\": {\"colorbar\": {\"outlinewidth\": 0, \"ticks\": \"\"}}, \"type\": \"scatterternary\"}], \"surface\": [{\"colorbar\": {\"outlinewidth\": 0, \"ticks\": \"\"}, \"colorscale\": [[0.0, \"#0d0887\"], [0.1111111111111111, \"#46039f\"], [0.2222222222222222, \"#7201a8\"], [0.3333333333333333, \"#9c179e\"], [0.4444444444444444, \"#bd3786\"], [0.5555555555555556, \"#d8576b\"], [0.6666666666666666, \"#ed7953\"], [0.7777777777777778, \"#fb9f3a\"], [0.8888888888888888, \"#fdca26\"], [1.0, \"#f0f921\"]], \"type\": \"surface\"}], \"table\": [{\"cells\": {\"fill\": {\"color\": \"#EBF0F8\"}, \"line\": {\"color\": \"white\"}}, \"header\": {\"fill\": {\"color\": \"#C8D4E3\"}, \"line\": {\"color\": \"white\"}}, \"type\": \"table\"}]}, \"layout\": {\"annotationdefaults\": {\"arrowcolor\": \"#2a3f5f\", \"arrowhead\": 0, \"arrowwidth\": 1}, \"coloraxis\": {\"colorbar\": {\"outlinewidth\": 0, \"ticks\": \"\"}}, \"colorscale\": {\"diverging\": [[0, \"#8e0152\"], [0.1, \"#c51b7d\"], [0.2, \"#de77ae\"], [0.3, \"#f1b6da\"], [0.4, \"#fde0ef\"], [0.5, \"#f7f7f7\"], [0.6, \"#e6f5d0\"], [0.7, \"#b8e186\"], [0.8, \"#7fbc41\"], [0.9, \"#4d9221\"], [1, \"#276419\"]], \"sequential\": [[0.0, \"#0d0887\"], [0.1111111111111111, \"#46039f\"], [0.2222222222222222, \"#7201a8\"], [0.3333333333333333, \"#9c179e\"], [0.4444444444444444, \"#bd3786\"], [0.5555555555555556, \"#d8576b\"], [0.6666666666666666, \"#ed7953\"], [0.7777777777777778, \"#fb9f3a\"], [0.8888888888888888, \"#fdca26\"], [1.0, \"#f0f921\"]], \"sequentialminus\": [[0.0, \"#0d0887\"], [0.1111111111111111, \"#46039f\"], [0.2222222222222222, \"#7201a8\"], [0.3333333333333333, \"#9c179e\"], [0.4444444444444444, \"#bd3786\"], [0.5555555555555556, \"#d8576b\"], [0.6666666666666666, \"#ed7953\"], [0.7777777777777778, \"#fb9f3a\"], [0.8888888888888888, \"#fdca26\"], [1.0, \"#f0f921\"]]}, \"colorway\": [\"#636efa\", \"#EF553B\", \"#00cc96\", \"#ab63fa\", \"#FFA15A\", \"#19d3f3\", \"#FF6692\", \"#B6E880\", \"#FF97FF\", \"#FECB52\"], \"font\": {\"color\": \"#2a3f5f\"}, \"geo\": {\"bgcolor\": \"white\", \"lakecolor\": \"white\", \"landcolor\": \"#E5ECF6\", \"showlakes\": true, \"showland\": true, \"subunitcolor\": \"white\"}, \"hoverlabel\": {\"align\": \"left\"}, \"hovermode\": \"closest\", \"mapbox\": {\"style\": \"light\"}, \"paper_bgcolor\": \"white\", \"plot_bgcolor\": \"#E5ECF6\", \"polar\": {\"angularaxis\": {\"gridcolor\": \"white\", \"linecolor\": \"white\", \"ticks\": \"\"}, \"bgcolor\": \"#E5ECF6\", \"radialaxis\": {\"gridcolor\": \"white\", \"linecolor\": \"white\", \"ticks\": \"\"}}, \"scene\": {\"xaxis\": {\"backgroundcolor\": \"#E5ECF6\", \"gridcolor\": \"white\", \"gridwidth\": 2, \"linecolor\": \"white\", \"showbackground\": true, \"ticks\": \"\", \"zerolinecolor\": \"white\"}, \"yaxis\": {\"backgroundcolor\": \"#E5ECF6\", \"gridcolor\": \"white\", \"gridwidth\": 2, \"linecolor\": \"white\", \"showbackground\": true, \"ticks\": \"\", \"zerolinecolor\": \"white\"}, \"zaxis\": {\"backgroundcolor\": \"#E5ECF6\", \"gridcolor\": \"white\", \"gridwidth\": 2, \"linecolor\": \"white\", \"showbackground\": true, \"ticks\": \"\", \"zerolinecolor\": \"white\"}}, \"shapedefaults\": {\"line\": {\"color\": \"#2a3f5f\"}}, \"ternary\": {\"aaxis\": {\"gridcolor\": \"white\", \"linecolor\": \"white\", \"ticks\": \"\"}, \"baxis\": {\"gridcolor\": \"white\", \"linecolor\": \"white\", \"ticks\": \"\"}, \"bgcolor\": \"#E5ECF6\", \"caxis\": {\"gridcolor\": \"white\", \"linecolor\": \"white\", \"ticks\": \"\"}}, \"title\": {\"x\": 0.05}, \"xaxis\": {\"automargin\": true, \"gridcolor\": \"white\", \"linecolor\": \"white\", \"ticks\": \"\", \"title\": {\"standoff\": 15}, \"zerolinecolor\": \"white\", \"zerolinewidth\": 2}, \"yaxis\": {\"automargin\": true, \"gridcolor\": \"white\", \"linecolor\": \"white\", \"ticks\": \"\", \"title\": {\"standoff\": 15}, \"zerolinecolor\": \"white\", \"zerolinewidth\": 2}}}, \"title\": {\"text\": \"World Official Languages Count For Each Country\"}},\n",
       "                        {\"responsive\": true}\n",
       "                    ).then(function(){\n",
       "                            \n",
       "var gd = document.getElementById('ba05b586-97a8-4cd4-8411-459ae3dd46c7');\n",
       "var x = new MutationObserver(function (mutations, observer) {{\n",
       "        var display = window.getComputedStyle(gd).display;\n",
       "        if (!display || display === 'none') {{\n",
       "            console.log([gd, 'removed!']);\n",
       "            Plotly.purge(gd);\n",
       "            observer.disconnect();\n",
       "        }}\n",
       "}});\n",
       "\n",
       "// Listen for the removal of the full notebook cells\n",
       "var notebookContainer = gd.closest('#notebook-container');\n",
       "if (notebookContainer) {{\n",
       "    x.observe(notebookContainer, {childList: true});\n",
       "}}\n",
       "\n",
       "// Listen for the clearing of the current output cell\n",
       "var outputEl = gd.closest('.output');\n",
       "if (outputEl) {{\n",
       "    x.observe(outputEl, {childList: true});\n",
       "}}\n",
       "\n",
       "                        })\n",
       "                };\n",
       "                });\n",
       "            </script>\n",
       "        </div>"
      ]
     },
     "metadata": {},
     "output_type": "display_data"
    },
    {
     "data": {
      "application/vnd.plotly.v1+json": {
       "config": {
        "plotlyServerURL": "https://plot.ly"
       },
       "data": [
        {
         "type": "bar",
         "x": [
          "English",
          "French",
          "Arabic",
          "Spanish",
          "Portuguese",
          "Dutch",
          "German",
          "Chinese",
          "Italian"
         ],
         "y": [
          91,
          45,
          25,
          24,
          9,
          8,
          7,
          5,
          4
         ]
        }
       ],
       "layout": {
        "template": {
         "data": {
          "bar": [
           {
            "error_x": {
             "color": "#2a3f5f"
            },
            "error_y": {
             "color": "#2a3f5f"
            },
            "marker": {
             "line": {
              "color": "#E5ECF6",
              "width": 0.5
             }
            },
            "type": "bar"
           }
          ],
          "barpolar": [
           {
            "marker": {
             "line": {
              "color": "#E5ECF6",
              "width": 0.5
             }
            },
            "type": "barpolar"
           }
          ],
          "carpet": [
           {
            "aaxis": {
             "endlinecolor": "#2a3f5f",
             "gridcolor": "white",
             "linecolor": "white",
             "minorgridcolor": "white",
             "startlinecolor": "#2a3f5f"
            },
            "baxis": {
             "endlinecolor": "#2a3f5f",
             "gridcolor": "white",
             "linecolor": "white",
             "minorgridcolor": "white",
             "startlinecolor": "#2a3f5f"
            },
            "type": "carpet"
           }
          ],
          "choropleth": [
           {
            "colorbar": {
             "outlinewidth": 0,
             "ticks": ""
            },
            "type": "choropleth"
           }
          ],
          "contour": [
           {
            "colorbar": {
             "outlinewidth": 0,
             "ticks": ""
            },
            "colorscale": [
             [
              0,
              "#0d0887"
             ],
             [
              0.1111111111111111,
              "#46039f"
             ],
             [
              0.2222222222222222,
              "#7201a8"
             ],
             [
              0.3333333333333333,
              "#9c179e"
             ],
             [
              0.4444444444444444,
              "#bd3786"
             ],
             [
              0.5555555555555556,
              "#d8576b"
             ],
             [
              0.6666666666666666,
              "#ed7953"
             ],
             [
              0.7777777777777778,
              "#fb9f3a"
             ],
             [
              0.8888888888888888,
              "#fdca26"
             ],
             [
              1,
              "#f0f921"
             ]
            ],
            "type": "contour"
           }
          ],
          "contourcarpet": [
           {
            "colorbar": {
             "outlinewidth": 0,
             "ticks": ""
            },
            "type": "contourcarpet"
           }
          ],
          "heatmap": [
           {
            "colorbar": {
             "outlinewidth": 0,
             "ticks": ""
            },
            "colorscale": [
             [
              0,
              "#0d0887"
             ],
             [
              0.1111111111111111,
              "#46039f"
             ],
             [
              0.2222222222222222,
              "#7201a8"
             ],
             [
              0.3333333333333333,
              "#9c179e"
             ],
             [
              0.4444444444444444,
              "#bd3786"
             ],
             [
              0.5555555555555556,
              "#d8576b"
             ],
             [
              0.6666666666666666,
              "#ed7953"
             ],
             [
              0.7777777777777778,
              "#fb9f3a"
             ],
             [
              0.8888888888888888,
              "#fdca26"
             ],
             [
              1,
              "#f0f921"
             ]
            ],
            "type": "heatmap"
           }
          ],
          "heatmapgl": [
           {
            "colorbar": {
             "outlinewidth": 0,
             "ticks": ""
            },
            "colorscale": [
             [
              0,
              "#0d0887"
             ],
             [
              0.1111111111111111,
              "#46039f"
             ],
             [
              0.2222222222222222,
              "#7201a8"
             ],
             [
              0.3333333333333333,
              "#9c179e"
             ],
             [
              0.4444444444444444,
              "#bd3786"
             ],
             [
              0.5555555555555556,
              "#d8576b"
             ],
             [
              0.6666666666666666,
              "#ed7953"
             ],
             [
              0.7777777777777778,
              "#fb9f3a"
             ],
             [
              0.8888888888888888,
              "#fdca26"
             ],
             [
              1,
              "#f0f921"
             ]
            ],
            "type": "heatmapgl"
           }
          ],
          "histogram": [
           {
            "marker": {
             "colorbar": {
              "outlinewidth": 0,
              "ticks": ""
             }
            },
            "type": "histogram"
           }
          ],
          "histogram2d": [
           {
            "colorbar": {
             "outlinewidth": 0,
             "ticks": ""
            },
            "colorscale": [
             [
              0,
              "#0d0887"
             ],
             [
              0.1111111111111111,
              "#46039f"
             ],
             [
              0.2222222222222222,
              "#7201a8"
             ],
             [
              0.3333333333333333,
              "#9c179e"
             ],
             [
              0.4444444444444444,
              "#bd3786"
             ],
             [
              0.5555555555555556,
              "#d8576b"
             ],
             [
              0.6666666666666666,
              "#ed7953"
             ],
             [
              0.7777777777777778,
              "#fb9f3a"
             ],
             [
              0.8888888888888888,
              "#fdca26"
             ],
             [
              1,
              "#f0f921"
             ]
            ],
            "type": "histogram2d"
           }
          ],
          "histogram2dcontour": [
           {
            "colorbar": {
             "outlinewidth": 0,
             "ticks": ""
            },
            "colorscale": [
             [
              0,
              "#0d0887"
             ],
             [
              0.1111111111111111,
              "#46039f"
             ],
             [
              0.2222222222222222,
              "#7201a8"
             ],
             [
              0.3333333333333333,
              "#9c179e"
             ],
             [
              0.4444444444444444,
              "#bd3786"
             ],
             [
              0.5555555555555556,
              "#d8576b"
             ],
             [
              0.6666666666666666,
              "#ed7953"
             ],
             [
              0.7777777777777778,
              "#fb9f3a"
             ],
             [
              0.8888888888888888,
              "#fdca26"
             ],
             [
              1,
              "#f0f921"
             ]
            ],
            "type": "histogram2dcontour"
           }
          ],
          "mesh3d": [
           {
            "colorbar": {
             "outlinewidth": 0,
             "ticks": ""
            },
            "type": "mesh3d"
           }
          ],
          "parcoords": [
           {
            "line": {
             "colorbar": {
              "outlinewidth": 0,
              "ticks": ""
             }
            },
            "type": "parcoords"
           }
          ],
          "pie": [
           {
            "automargin": true,
            "type": "pie"
           }
          ],
          "scatter": [
           {
            "marker": {
             "colorbar": {
              "outlinewidth": 0,
              "ticks": ""
             }
            },
            "type": "scatter"
           }
          ],
          "scatter3d": [
           {
            "line": {
             "colorbar": {
              "outlinewidth": 0,
              "ticks": ""
             }
            },
            "marker": {
             "colorbar": {
              "outlinewidth": 0,
              "ticks": ""
             }
            },
            "type": "scatter3d"
           }
          ],
          "scattercarpet": [
           {
            "marker": {
             "colorbar": {
              "outlinewidth": 0,
              "ticks": ""
             }
            },
            "type": "scattercarpet"
           }
          ],
          "scattergeo": [
           {
            "marker": {
             "colorbar": {
              "outlinewidth": 0,
              "ticks": ""
             }
            },
            "type": "scattergeo"
           }
          ],
          "scattergl": [
           {
            "marker": {
             "colorbar": {
              "outlinewidth": 0,
              "ticks": ""
             }
            },
            "type": "scattergl"
           }
          ],
          "scattermapbox": [
           {
            "marker": {
             "colorbar": {
              "outlinewidth": 0,
              "ticks": ""
             }
            },
            "type": "scattermapbox"
           }
          ],
          "scatterpolar": [
           {
            "marker": {
             "colorbar": {
              "outlinewidth": 0,
              "ticks": ""
             }
            },
            "type": "scatterpolar"
           }
          ],
          "scatterpolargl": [
           {
            "marker": {
             "colorbar": {
              "outlinewidth": 0,
              "ticks": ""
             }
            },
            "type": "scatterpolargl"
           }
          ],
          "scatterternary": [
           {
            "marker": {
             "colorbar": {
              "outlinewidth": 0,
              "ticks": ""
             }
            },
            "type": "scatterternary"
           }
          ],
          "surface": [
           {
            "colorbar": {
             "outlinewidth": 0,
             "ticks": ""
            },
            "colorscale": [
             [
              0,
              "#0d0887"
             ],
             [
              0.1111111111111111,
              "#46039f"
             ],
             [
              0.2222222222222222,
              "#7201a8"
             ],
             [
              0.3333333333333333,
              "#9c179e"
             ],
             [
              0.4444444444444444,
              "#bd3786"
             ],
             [
              0.5555555555555556,
              "#d8576b"
             ],
             [
              0.6666666666666666,
              "#ed7953"
             ],
             [
              0.7777777777777778,
              "#fb9f3a"
             ],
             [
              0.8888888888888888,
              "#fdca26"
             ],
             [
              1,
              "#f0f921"
             ]
            ],
            "type": "surface"
           }
          ],
          "table": [
           {
            "cells": {
             "fill": {
              "color": "#EBF0F8"
             },
             "line": {
              "color": "white"
             }
            },
            "header": {
             "fill": {
              "color": "#C8D4E3"
             },
             "line": {
              "color": "white"
             }
            },
            "type": "table"
           }
          ]
         },
         "layout": {
          "annotationdefaults": {
           "arrowcolor": "#2a3f5f",
           "arrowhead": 0,
           "arrowwidth": 1
          },
          "coloraxis": {
           "colorbar": {
            "outlinewidth": 0,
            "ticks": ""
           }
          },
          "colorscale": {
           "diverging": [
            [
             0,
             "#8e0152"
            ],
            [
             0.1,
             "#c51b7d"
            ],
            [
             0.2,
             "#de77ae"
            ],
            [
             0.3,
             "#f1b6da"
            ],
            [
             0.4,
             "#fde0ef"
            ],
            [
             0.5,
             "#f7f7f7"
            ],
            [
             0.6,
             "#e6f5d0"
            ],
            [
             0.7,
             "#b8e186"
            ],
            [
             0.8,
             "#7fbc41"
            ],
            [
             0.9,
             "#4d9221"
            ],
            [
             1,
             "#276419"
            ]
           ],
           "sequential": [
            [
             0,
             "#0d0887"
            ],
            [
             0.1111111111111111,
             "#46039f"
            ],
            [
             0.2222222222222222,
             "#7201a8"
            ],
            [
             0.3333333333333333,
             "#9c179e"
            ],
            [
             0.4444444444444444,
             "#bd3786"
            ],
            [
             0.5555555555555556,
             "#d8576b"
            ],
            [
             0.6666666666666666,
             "#ed7953"
            ],
            [
             0.7777777777777778,
             "#fb9f3a"
            ],
            [
             0.8888888888888888,
             "#fdca26"
            ],
            [
             1,
             "#f0f921"
            ]
           ],
           "sequentialminus": [
            [
             0,
             "#0d0887"
            ],
            [
             0.1111111111111111,
             "#46039f"
            ],
            [
             0.2222222222222222,
             "#7201a8"
            ],
            [
             0.3333333333333333,
             "#9c179e"
            ],
            [
             0.4444444444444444,
             "#bd3786"
            ],
            [
             0.5555555555555556,
             "#d8576b"
            ],
            [
             0.6666666666666666,
             "#ed7953"
            ],
            [
             0.7777777777777778,
             "#fb9f3a"
            ],
            [
             0.8888888888888888,
             "#fdca26"
            ],
            [
             1,
             "#f0f921"
            ]
           ]
          },
          "colorway": [
           "#636efa",
           "#EF553B",
           "#00cc96",
           "#ab63fa",
           "#FFA15A",
           "#19d3f3",
           "#FF6692",
           "#B6E880",
           "#FF97FF",
           "#FECB52"
          ],
          "font": {
           "color": "#2a3f5f"
          },
          "geo": {
           "bgcolor": "white",
           "lakecolor": "white",
           "landcolor": "#E5ECF6",
           "showlakes": true,
           "showland": true,
           "subunitcolor": "white"
          },
          "hoverlabel": {
           "align": "left"
          },
          "hovermode": "closest",
          "mapbox": {
           "style": "light"
          },
          "paper_bgcolor": "white",
          "plot_bgcolor": "#E5ECF6",
          "polar": {
           "angularaxis": {
            "gridcolor": "white",
            "linecolor": "white",
            "ticks": ""
           },
           "bgcolor": "#E5ECF6",
           "radialaxis": {
            "gridcolor": "white",
            "linecolor": "white",
            "ticks": ""
           }
          },
          "scene": {
           "xaxis": {
            "backgroundcolor": "#E5ECF6",
            "gridcolor": "white",
            "gridwidth": 2,
            "linecolor": "white",
            "showbackground": true,
            "ticks": "",
            "zerolinecolor": "white"
           },
           "yaxis": {
            "backgroundcolor": "#E5ECF6",
            "gridcolor": "white",
            "gridwidth": 2,
            "linecolor": "white",
            "showbackground": true,
            "ticks": "",
            "zerolinecolor": "white"
           },
           "zaxis": {
            "backgroundcolor": "#E5ECF6",
            "gridcolor": "white",
            "gridwidth": 2,
            "linecolor": "white",
            "showbackground": true,
            "ticks": "",
            "zerolinecolor": "white"
           }
          },
          "shapedefaults": {
           "line": {
            "color": "#2a3f5f"
           }
          },
          "ternary": {
           "aaxis": {
            "gridcolor": "white",
            "linecolor": "white",
            "ticks": ""
           },
           "baxis": {
            "gridcolor": "white",
            "linecolor": "white",
            "ticks": ""
           },
           "bgcolor": "#E5ECF6",
           "caxis": {
            "gridcolor": "white",
            "linecolor": "white",
            "ticks": ""
           }
          },
          "title": {
           "x": 0.05
          },
          "xaxis": {
           "automargin": true,
           "gridcolor": "white",
           "linecolor": "white",
           "ticks": "",
           "title": {
            "standoff": 15
           },
           "zerolinecolor": "white",
           "zerolinewidth": 2
          },
          "yaxis": {
           "automargin": true,
           "gridcolor": "white",
           "linecolor": "white",
           "ticks": "",
           "title": {
            "standoff": 15
           },
           "zerolinecolor": "white",
           "zerolinewidth": 2
          }
         }
        },
        "title": {
         "text": "Top spoken languages in the world"
        },
        "xaxis": {
         "title": {
          "text": "Languages"
         }
        },
        "yaxis": {
         "title": {
          "text": "Amount of countries"
         }
        }
       }
      },
      "text/html": [
       "<div>\n",
       "        \n",
       "        \n",
       "            <div id=\"0385aee8-d508-4042-914a-f5de239b0e2a\" class=\"plotly-graph-div\" style=\"height:525px; width:100%;\"></div>\n",
       "            <script type=\"text/javascript\">\n",
       "                require([\"plotly\"], function(Plotly) {\n",
       "                    window.PLOTLYENV=window.PLOTLYENV || {};\n",
       "                    \n",
       "                if (document.getElementById(\"0385aee8-d508-4042-914a-f5de239b0e2a\")) {\n",
       "                    Plotly.newPlot(\n",
       "                        '0385aee8-d508-4042-914a-f5de239b0e2a',\n",
       "                        [{\"type\": \"bar\", \"x\": [\"English\", \"French\", \"Arabic\", \"Spanish\", \"Portuguese\", \"Dutch\", \"German\", \"Chinese\", \"Italian\"], \"y\": [91, 45, 25, 24, 9, 8, 7, 5, 4]}],\n",
       "                        {\"template\": {\"data\": {\"bar\": [{\"error_x\": {\"color\": \"#2a3f5f\"}, \"error_y\": {\"color\": \"#2a3f5f\"}, \"marker\": {\"line\": {\"color\": \"#E5ECF6\", \"width\": 0.5}}, \"type\": \"bar\"}], \"barpolar\": [{\"marker\": {\"line\": {\"color\": \"#E5ECF6\", \"width\": 0.5}}, \"type\": \"barpolar\"}], \"carpet\": [{\"aaxis\": {\"endlinecolor\": \"#2a3f5f\", \"gridcolor\": \"white\", \"linecolor\": \"white\", \"minorgridcolor\": \"white\", \"startlinecolor\": \"#2a3f5f\"}, \"baxis\": {\"endlinecolor\": \"#2a3f5f\", \"gridcolor\": \"white\", \"linecolor\": \"white\", \"minorgridcolor\": \"white\", \"startlinecolor\": \"#2a3f5f\"}, \"type\": \"carpet\"}], \"choropleth\": [{\"colorbar\": {\"outlinewidth\": 0, \"ticks\": \"\"}, \"type\": \"choropleth\"}], \"contour\": [{\"colorbar\": {\"outlinewidth\": 0, \"ticks\": \"\"}, \"colorscale\": [[0.0, \"#0d0887\"], [0.1111111111111111, \"#46039f\"], [0.2222222222222222, \"#7201a8\"], [0.3333333333333333, \"#9c179e\"], [0.4444444444444444, \"#bd3786\"], [0.5555555555555556, \"#d8576b\"], [0.6666666666666666, \"#ed7953\"], [0.7777777777777778, \"#fb9f3a\"], [0.8888888888888888, \"#fdca26\"], [1.0, \"#f0f921\"]], \"type\": \"contour\"}], \"contourcarpet\": [{\"colorbar\": {\"outlinewidth\": 0, \"ticks\": \"\"}, \"type\": \"contourcarpet\"}], \"heatmap\": [{\"colorbar\": {\"outlinewidth\": 0, \"ticks\": \"\"}, \"colorscale\": [[0.0, \"#0d0887\"], [0.1111111111111111, \"#46039f\"], [0.2222222222222222, \"#7201a8\"], [0.3333333333333333, \"#9c179e\"], [0.4444444444444444, \"#bd3786\"], [0.5555555555555556, \"#d8576b\"], [0.6666666666666666, \"#ed7953\"], [0.7777777777777778, \"#fb9f3a\"], [0.8888888888888888, \"#fdca26\"], [1.0, \"#f0f921\"]], \"type\": \"heatmap\"}], \"heatmapgl\": [{\"colorbar\": {\"outlinewidth\": 0, \"ticks\": \"\"}, \"colorscale\": [[0.0, \"#0d0887\"], [0.1111111111111111, \"#46039f\"], [0.2222222222222222, \"#7201a8\"], [0.3333333333333333, \"#9c179e\"], [0.4444444444444444, \"#bd3786\"], [0.5555555555555556, \"#d8576b\"], [0.6666666666666666, \"#ed7953\"], [0.7777777777777778, \"#fb9f3a\"], [0.8888888888888888, \"#fdca26\"], [1.0, \"#f0f921\"]], \"type\": \"heatmapgl\"}], \"histogram\": [{\"marker\": {\"colorbar\": {\"outlinewidth\": 0, \"ticks\": \"\"}}, \"type\": \"histogram\"}], \"histogram2d\": [{\"colorbar\": {\"outlinewidth\": 0, \"ticks\": \"\"}, \"colorscale\": [[0.0, \"#0d0887\"], [0.1111111111111111, \"#46039f\"], [0.2222222222222222, \"#7201a8\"], [0.3333333333333333, \"#9c179e\"], [0.4444444444444444, \"#bd3786\"], [0.5555555555555556, \"#d8576b\"], [0.6666666666666666, \"#ed7953\"], [0.7777777777777778, \"#fb9f3a\"], [0.8888888888888888, \"#fdca26\"], [1.0, \"#f0f921\"]], \"type\": \"histogram2d\"}], \"histogram2dcontour\": [{\"colorbar\": {\"outlinewidth\": 0, \"ticks\": \"\"}, \"colorscale\": [[0.0, \"#0d0887\"], [0.1111111111111111, \"#46039f\"], [0.2222222222222222, \"#7201a8\"], [0.3333333333333333, \"#9c179e\"], [0.4444444444444444, \"#bd3786\"], [0.5555555555555556, \"#d8576b\"], [0.6666666666666666, \"#ed7953\"], [0.7777777777777778, \"#fb9f3a\"], [0.8888888888888888, \"#fdca26\"], [1.0, \"#f0f921\"]], \"type\": \"histogram2dcontour\"}], \"mesh3d\": [{\"colorbar\": {\"outlinewidth\": 0, \"ticks\": \"\"}, \"type\": \"mesh3d\"}], \"parcoords\": [{\"line\": {\"colorbar\": {\"outlinewidth\": 0, \"ticks\": \"\"}}, \"type\": \"parcoords\"}], \"pie\": [{\"automargin\": true, \"type\": \"pie\"}], \"scatter\": [{\"marker\": {\"colorbar\": {\"outlinewidth\": 0, \"ticks\": \"\"}}, \"type\": \"scatter\"}], \"scatter3d\": [{\"line\": {\"colorbar\": {\"outlinewidth\": 0, \"ticks\": \"\"}}, \"marker\": {\"colorbar\": {\"outlinewidth\": 0, \"ticks\": \"\"}}, \"type\": \"scatter3d\"}], \"scattercarpet\": [{\"marker\": {\"colorbar\": {\"outlinewidth\": 0, \"ticks\": \"\"}}, \"type\": \"scattercarpet\"}], \"scattergeo\": [{\"marker\": {\"colorbar\": {\"outlinewidth\": 0, \"ticks\": \"\"}}, \"type\": \"scattergeo\"}], \"scattergl\": [{\"marker\": {\"colorbar\": {\"outlinewidth\": 0, \"ticks\": \"\"}}, \"type\": \"scattergl\"}], \"scattermapbox\": [{\"marker\": {\"colorbar\": {\"outlinewidth\": 0, \"ticks\": \"\"}}, \"type\": \"scattermapbox\"}], \"scatterpolar\": [{\"marker\": {\"colorbar\": {\"outlinewidth\": 0, \"ticks\": \"\"}}, \"type\": \"scatterpolar\"}], \"scatterpolargl\": [{\"marker\": {\"colorbar\": {\"outlinewidth\": 0, \"ticks\": \"\"}}, \"type\": \"scatterpolargl\"}], \"scatterternary\": [{\"marker\": {\"colorbar\": {\"outlinewidth\": 0, \"ticks\": \"\"}}, \"type\": \"scatterternary\"}], \"surface\": [{\"colorbar\": {\"outlinewidth\": 0, \"ticks\": \"\"}, \"colorscale\": [[0.0, \"#0d0887\"], [0.1111111111111111, \"#46039f\"], [0.2222222222222222, \"#7201a8\"], [0.3333333333333333, \"#9c179e\"], [0.4444444444444444, \"#bd3786\"], [0.5555555555555556, \"#d8576b\"], [0.6666666666666666, \"#ed7953\"], [0.7777777777777778, \"#fb9f3a\"], [0.8888888888888888, \"#fdca26\"], [1.0, \"#f0f921\"]], \"type\": \"surface\"}], \"table\": [{\"cells\": {\"fill\": {\"color\": \"#EBF0F8\"}, \"line\": {\"color\": \"white\"}}, \"header\": {\"fill\": {\"color\": \"#C8D4E3\"}, \"line\": {\"color\": \"white\"}}, \"type\": \"table\"}]}, \"layout\": {\"annotationdefaults\": {\"arrowcolor\": \"#2a3f5f\", \"arrowhead\": 0, \"arrowwidth\": 1}, \"coloraxis\": {\"colorbar\": {\"outlinewidth\": 0, \"ticks\": \"\"}}, \"colorscale\": {\"diverging\": [[0, \"#8e0152\"], [0.1, \"#c51b7d\"], [0.2, \"#de77ae\"], [0.3, \"#f1b6da\"], [0.4, \"#fde0ef\"], [0.5, \"#f7f7f7\"], [0.6, \"#e6f5d0\"], [0.7, \"#b8e186\"], [0.8, \"#7fbc41\"], [0.9, \"#4d9221\"], [1, \"#276419\"]], \"sequential\": [[0.0, \"#0d0887\"], [0.1111111111111111, \"#46039f\"], [0.2222222222222222, \"#7201a8\"], [0.3333333333333333, \"#9c179e\"], [0.4444444444444444, \"#bd3786\"], [0.5555555555555556, \"#d8576b\"], [0.6666666666666666, \"#ed7953\"], [0.7777777777777778, \"#fb9f3a\"], [0.8888888888888888, \"#fdca26\"], [1.0, \"#f0f921\"]], \"sequentialminus\": [[0.0, \"#0d0887\"], [0.1111111111111111, \"#46039f\"], [0.2222222222222222, \"#7201a8\"], [0.3333333333333333, \"#9c179e\"], [0.4444444444444444, \"#bd3786\"], [0.5555555555555556, \"#d8576b\"], [0.6666666666666666, \"#ed7953\"], [0.7777777777777778, \"#fb9f3a\"], [0.8888888888888888, \"#fdca26\"], [1.0, \"#f0f921\"]]}, \"colorway\": [\"#636efa\", \"#EF553B\", \"#00cc96\", \"#ab63fa\", \"#FFA15A\", \"#19d3f3\", \"#FF6692\", \"#B6E880\", \"#FF97FF\", \"#FECB52\"], \"font\": {\"color\": \"#2a3f5f\"}, \"geo\": {\"bgcolor\": \"white\", \"lakecolor\": \"white\", \"landcolor\": \"#E5ECF6\", \"showlakes\": true, \"showland\": true, \"subunitcolor\": \"white\"}, \"hoverlabel\": {\"align\": \"left\"}, \"hovermode\": \"closest\", \"mapbox\": {\"style\": \"light\"}, \"paper_bgcolor\": \"white\", \"plot_bgcolor\": \"#E5ECF6\", \"polar\": {\"angularaxis\": {\"gridcolor\": \"white\", \"linecolor\": \"white\", \"ticks\": \"\"}, \"bgcolor\": \"#E5ECF6\", \"radialaxis\": {\"gridcolor\": \"white\", \"linecolor\": \"white\", \"ticks\": \"\"}}, \"scene\": {\"xaxis\": {\"backgroundcolor\": \"#E5ECF6\", \"gridcolor\": \"white\", \"gridwidth\": 2, \"linecolor\": \"white\", \"showbackground\": true, \"ticks\": \"\", \"zerolinecolor\": \"white\"}, \"yaxis\": {\"backgroundcolor\": \"#E5ECF6\", \"gridcolor\": \"white\", \"gridwidth\": 2, \"linecolor\": \"white\", \"showbackground\": true, \"ticks\": \"\", \"zerolinecolor\": \"white\"}, \"zaxis\": {\"backgroundcolor\": \"#E5ECF6\", \"gridcolor\": \"white\", \"gridwidth\": 2, \"linecolor\": \"white\", \"showbackground\": true, \"ticks\": \"\", \"zerolinecolor\": \"white\"}}, \"shapedefaults\": {\"line\": {\"color\": \"#2a3f5f\"}}, \"ternary\": {\"aaxis\": {\"gridcolor\": \"white\", \"linecolor\": \"white\", \"ticks\": \"\"}, \"baxis\": {\"gridcolor\": \"white\", \"linecolor\": \"white\", \"ticks\": \"\"}, \"bgcolor\": \"#E5ECF6\", \"caxis\": {\"gridcolor\": \"white\", \"linecolor\": \"white\", \"ticks\": \"\"}}, \"title\": {\"x\": 0.05}, \"xaxis\": {\"automargin\": true, \"gridcolor\": \"white\", \"linecolor\": \"white\", \"ticks\": \"\", \"title\": {\"standoff\": 15}, \"zerolinecolor\": \"white\", \"zerolinewidth\": 2}, \"yaxis\": {\"automargin\": true, \"gridcolor\": \"white\", \"linecolor\": \"white\", \"ticks\": \"\", \"title\": {\"standoff\": 15}, \"zerolinecolor\": \"white\", \"zerolinewidth\": 2}}}, \"title\": {\"text\": \"Top spoken languages in the world\"}, \"xaxis\": {\"title\": {\"text\": \"Languages\"}}, \"yaxis\": {\"title\": {\"text\": \"Amount of countries\"}}},\n",
       "                        {\"responsive\": true}\n",
       "                    ).then(function(){\n",
       "                            \n",
       "var gd = document.getElementById('0385aee8-d508-4042-914a-f5de239b0e2a');\n",
       "var x = new MutationObserver(function (mutations, observer) {{\n",
       "        var display = window.getComputedStyle(gd).display;\n",
       "        if (!display || display === 'none') {{\n",
       "            console.log([gd, 'removed!']);\n",
       "            Plotly.purge(gd);\n",
       "            observer.disconnect();\n",
       "        }}\n",
       "}});\n",
       "\n",
       "// Listen for the removal of the full notebook cells\n",
       "var notebookContainer = gd.closest('#notebook-container');\n",
       "if (notebookContainer) {{\n",
       "    x.observe(notebookContainer, {childList: true});\n",
       "}}\n",
       "\n",
       "// Listen for the clearing of the current output cell\n",
       "var outputEl = gd.closest('.output');\n",
       "if (outputEl) {{\n",
       "    x.observe(outputEl, {childList: true});\n",
       "}}\n",
       "\n",
       "                        })\n",
       "                };\n",
       "                });\n",
       "            </script>\n",
       "        </div>"
      ]
     },
     "metadata": {},
     "output_type": "display_data"
    }
   ],
   "source": [
    "fig = go.Figure()\n",
    "\n",
    "fig.add_trace(go.Choropleth(\n",
    "    locations = df['alphaCode'],\n",
    "    z = df['count_lang'],\n",
    "    text = df['country'],\n",
    "#     colorscale = 'Blues',\n",
    "    autocolorscale=True,\n",
    "    reversescale=True,\n",
    "    zmin=0, \n",
    "    zmax=df['count_lang'].max(),\n",
    "    marker_line_color='darkgray',\n",
    "    marker_line_width=0.5,\n",
    "#     colorbar_tickprefix = '/km2',\n",
    "#     colorbar_ticksuffix = '/km2',\n",
    "    colorbar_title = 'Official Languages<br>Count',\n",
    "))\n",
    "\n",
    "fig.update_layout(\n",
    "    title_text='World Official Languages Count For Each Country',\n",
    "    geo=dict(\n",
    "#         scope='europe', #limit area to be showed on map\n",
    "        showframe=False,\n",
    "        showcoastlines=False,\n",
    "        projection_type='equirectangular'\n",
    "    ))\n",
    "\n",
    "fig.show()\n",
    "\n",
    "\n",
    "lang = ['English', 'French', 'Spanish', 'Arabic', 'Portuguese','German', 'Dutch', 'Chinese', 'Italian']\n",
    "count_lang=[]\n",
    "for c in lang:\n",
    "    count=df[df['languages'].str.contains(c)].shape[0]\n",
    "    count_lang.append(count)\n",
    "\n",
    "count=pd.DataFrame(count_lang,index=lang,columns=['count'])\n",
    "\n",
    "count=count.sort_values('count',ascending=False)\n",
    "\n",
    "fig = go.Figure([go.Bar(x=count.index, y=count['count'])])\n",
    "\n",
    "fig.update_layout(title='Top spoken languages in the world',\n",
    "                  xaxis=dict(title = 'Languages'),\n",
    "                  yaxis=dict(title='Amount of countries'))\n",
    "        \n",
    "fig.show()"
   ]
  },
  {
   "cell_type": "markdown",
   "metadata": {},
   "source": [
    "## currencies\n",
    "\n",
    "geomap cho mỗi loai currrencies - color = correncies \n",
    "\n",
    "Map 3: \n",
    "\n",
    " Map represent geographic region/sub-regions VS currency groups\n",
    "vẽ geo map thế giới:\n",
    "-color = Currency groups\n",
    "=> vẫn nên lọc lấy 1 loại most popular currency ở những nc chọn 2 như trên\n",
    "\n",
    "submap1: map 10 loại currenci thông dụng nhất tính trên user counts:  scatter y = số nước chấp nhận, x = population - users count, size = gini"
   ]
  },
  {
   "cell_type": "code",
   "execution_count": 100,
   "metadata": {},
   "outputs": [
    {
     "data": {
      "application/vnd.plotly.v1+json": {
       "config": {
        "plotlyServerURL": "https://plot.ly"
       },
       "data": [
        {
         "type": "bar",
         "x": [
          "EUR",
          "USD",
          "XOF",
          "XCD",
          "AUD",
          "XAF",
          "NZD",
          "XPF",
          "DKK",
          "GBP"
         ],
         "y": [
          35,
          17,
          8,
          8,
          7,
          6,
          4,
          3,
          3,
          3
         ]
        }
       ],
       "layout": {
        "template": {
         "data": {
          "bar": [
           {
            "error_x": {
             "color": "#2a3f5f"
            },
            "error_y": {
             "color": "#2a3f5f"
            },
            "marker": {
             "line": {
              "color": "#E5ECF6",
              "width": 0.5
             }
            },
            "type": "bar"
           }
          ],
          "barpolar": [
           {
            "marker": {
             "line": {
              "color": "#E5ECF6",
              "width": 0.5
             }
            },
            "type": "barpolar"
           }
          ],
          "carpet": [
           {
            "aaxis": {
             "endlinecolor": "#2a3f5f",
             "gridcolor": "white",
             "linecolor": "white",
             "minorgridcolor": "white",
             "startlinecolor": "#2a3f5f"
            },
            "baxis": {
             "endlinecolor": "#2a3f5f",
             "gridcolor": "white",
             "linecolor": "white",
             "minorgridcolor": "white",
             "startlinecolor": "#2a3f5f"
            },
            "type": "carpet"
           }
          ],
          "choropleth": [
           {
            "colorbar": {
             "outlinewidth": 0,
             "ticks": ""
            },
            "type": "choropleth"
           }
          ],
          "contour": [
           {
            "colorbar": {
             "outlinewidth": 0,
             "ticks": ""
            },
            "colorscale": [
             [
              0,
              "#0d0887"
             ],
             [
              0.1111111111111111,
              "#46039f"
             ],
             [
              0.2222222222222222,
              "#7201a8"
             ],
             [
              0.3333333333333333,
              "#9c179e"
             ],
             [
              0.4444444444444444,
              "#bd3786"
             ],
             [
              0.5555555555555556,
              "#d8576b"
             ],
             [
              0.6666666666666666,
              "#ed7953"
             ],
             [
              0.7777777777777778,
              "#fb9f3a"
             ],
             [
              0.8888888888888888,
              "#fdca26"
             ],
             [
              1,
              "#f0f921"
             ]
            ],
            "type": "contour"
           }
          ],
          "contourcarpet": [
           {
            "colorbar": {
             "outlinewidth": 0,
             "ticks": ""
            },
            "type": "contourcarpet"
           }
          ],
          "heatmap": [
           {
            "colorbar": {
             "outlinewidth": 0,
             "ticks": ""
            },
            "colorscale": [
             [
              0,
              "#0d0887"
             ],
             [
              0.1111111111111111,
              "#46039f"
             ],
             [
              0.2222222222222222,
              "#7201a8"
             ],
             [
              0.3333333333333333,
              "#9c179e"
             ],
             [
              0.4444444444444444,
              "#bd3786"
             ],
             [
              0.5555555555555556,
              "#d8576b"
             ],
             [
              0.6666666666666666,
              "#ed7953"
             ],
             [
              0.7777777777777778,
              "#fb9f3a"
             ],
             [
              0.8888888888888888,
              "#fdca26"
             ],
             [
              1,
              "#f0f921"
             ]
            ],
            "type": "heatmap"
           }
          ],
          "heatmapgl": [
           {
            "colorbar": {
             "outlinewidth": 0,
             "ticks": ""
            },
            "colorscale": [
             [
              0,
              "#0d0887"
             ],
             [
              0.1111111111111111,
              "#46039f"
             ],
             [
              0.2222222222222222,
              "#7201a8"
             ],
             [
              0.3333333333333333,
              "#9c179e"
             ],
             [
              0.4444444444444444,
              "#bd3786"
             ],
             [
              0.5555555555555556,
              "#d8576b"
             ],
             [
              0.6666666666666666,
              "#ed7953"
             ],
             [
              0.7777777777777778,
              "#fb9f3a"
             ],
             [
              0.8888888888888888,
              "#fdca26"
             ],
             [
              1,
              "#f0f921"
             ]
            ],
            "type": "heatmapgl"
           }
          ],
          "histogram": [
           {
            "marker": {
             "colorbar": {
              "outlinewidth": 0,
              "ticks": ""
             }
            },
            "type": "histogram"
           }
          ],
          "histogram2d": [
           {
            "colorbar": {
             "outlinewidth": 0,
             "ticks": ""
            },
            "colorscale": [
             [
              0,
              "#0d0887"
             ],
             [
              0.1111111111111111,
              "#46039f"
             ],
             [
              0.2222222222222222,
              "#7201a8"
             ],
             [
              0.3333333333333333,
              "#9c179e"
             ],
             [
              0.4444444444444444,
              "#bd3786"
             ],
             [
              0.5555555555555556,
              "#d8576b"
             ],
             [
              0.6666666666666666,
              "#ed7953"
             ],
             [
              0.7777777777777778,
              "#fb9f3a"
             ],
             [
              0.8888888888888888,
              "#fdca26"
             ],
             [
              1,
              "#f0f921"
             ]
            ],
            "type": "histogram2d"
           }
          ],
          "histogram2dcontour": [
           {
            "colorbar": {
             "outlinewidth": 0,
             "ticks": ""
            },
            "colorscale": [
             [
              0,
              "#0d0887"
             ],
             [
              0.1111111111111111,
              "#46039f"
             ],
             [
              0.2222222222222222,
              "#7201a8"
             ],
             [
              0.3333333333333333,
              "#9c179e"
             ],
             [
              0.4444444444444444,
              "#bd3786"
             ],
             [
              0.5555555555555556,
              "#d8576b"
             ],
             [
              0.6666666666666666,
              "#ed7953"
             ],
             [
              0.7777777777777778,
              "#fb9f3a"
             ],
             [
              0.8888888888888888,
              "#fdca26"
             ],
             [
              1,
              "#f0f921"
             ]
            ],
            "type": "histogram2dcontour"
           }
          ],
          "mesh3d": [
           {
            "colorbar": {
             "outlinewidth": 0,
             "ticks": ""
            },
            "type": "mesh3d"
           }
          ],
          "parcoords": [
           {
            "line": {
             "colorbar": {
              "outlinewidth": 0,
              "ticks": ""
             }
            },
            "type": "parcoords"
           }
          ],
          "pie": [
           {
            "automargin": true,
            "type": "pie"
           }
          ],
          "scatter": [
           {
            "marker": {
             "colorbar": {
              "outlinewidth": 0,
              "ticks": ""
             }
            },
            "type": "scatter"
           }
          ],
          "scatter3d": [
           {
            "line": {
             "colorbar": {
              "outlinewidth": 0,
              "ticks": ""
             }
            },
            "marker": {
             "colorbar": {
              "outlinewidth": 0,
              "ticks": ""
             }
            },
            "type": "scatter3d"
           }
          ],
          "scattercarpet": [
           {
            "marker": {
             "colorbar": {
              "outlinewidth": 0,
              "ticks": ""
             }
            },
            "type": "scattercarpet"
           }
          ],
          "scattergeo": [
           {
            "marker": {
             "colorbar": {
              "outlinewidth": 0,
              "ticks": ""
             }
            },
            "type": "scattergeo"
           }
          ],
          "scattergl": [
           {
            "marker": {
             "colorbar": {
              "outlinewidth": 0,
              "ticks": ""
             }
            },
            "type": "scattergl"
           }
          ],
          "scattermapbox": [
           {
            "marker": {
             "colorbar": {
              "outlinewidth": 0,
              "ticks": ""
             }
            },
            "type": "scattermapbox"
           }
          ],
          "scatterpolar": [
           {
            "marker": {
             "colorbar": {
              "outlinewidth": 0,
              "ticks": ""
             }
            },
            "type": "scatterpolar"
           }
          ],
          "scatterpolargl": [
           {
            "marker": {
             "colorbar": {
              "outlinewidth": 0,
              "ticks": ""
             }
            },
            "type": "scatterpolargl"
           }
          ],
          "scatterternary": [
           {
            "marker": {
             "colorbar": {
              "outlinewidth": 0,
              "ticks": ""
             }
            },
            "type": "scatterternary"
           }
          ],
          "surface": [
           {
            "colorbar": {
             "outlinewidth": 0,
             "ticks": ""
            },
            "colorscale": [
             [
              0,
              "#0d0887"
             ],
             [
              0.1111111111111111,
              "#46039f"
             ],
             [
              0.2222222222222222,
              "#7201a8"
             ],
             [
              0.3333333333333333,
              "#9c179e"
             ],
             [
              0.4444444444444444,
              "#bd3786"
             ],
             [
              0.5555555555555556,
              "#d8576b"
             ],
             [
              0.6666666666666666,
              "#ed7953"
             ],
             [
              0.7777777777777778,
              "#fb9f3a"
             ],
             [
              0.8888888888888888,
              "#fdca26"
             ],
             [
              1,
              "#f0f921"
             ]
            ],
            "type": "surface"
           }
          ],
          "table": [
           {
            "cells": {
             "fill": {
              "color": "#EBF0F8"
             },
             "line": {
              "color": "white"
             }
            },
            "header": {
             "fill": {
              "color": "#C8D4E3"
             },
             "line": {
              "color": "white"
             }
            },
            "type": "table"
           }
          ]
         },
         "layout": {
          "annotationdefaults": {
           "arrowcolor": "#2a3f5f",
           "arrowhead": 0,
           "arrowwidth": 1
          },
          "coloraxis": {
           "colorbar": {
            "outlinewidth": 0,
            "ticks": ""
           }
          },
          "colorscale": {
           "diverging": [
            [
             0,
             "#8e0152"
            ],
            [
             0.1,
             "#c51b7d"
            ],
            [
             0.2,
             "#de77ae"
            ],
            [
             0.3,
             "#f1b6da"
            ],
            [
             0.4,
             "#fde0ef"
            ],
            [
             0.5,
             "#f7f7f7"
            ],
            [
             0.6,
             "#e6f5d0"
            ],
            [
             0.7,
             "#b8e186"
            ],
            [
             0.8,
             "#7fbc41"
            ],
            [
             0.9,
             "#4d9221"
            ],
            [
             1,
             "#276419"
            ]
           ],
           "sequential": [
            [
             0,
             "#0d0887"
            ],
            [
             0.1111111111111111,
             "#46039f"
            ],
            [
             0.2222222222222222,
             "#7201a8"
            ],
            [
             0.3333333333333333,
             "#9c179e"
            ],
            [
             0.4444444444444444,
             "#bd3786"
            ],
            [
             0.5555555555555556,
             "#d8576b"
            ],
            [
             0.6666666666666666,
             "#ed7953"
            ],
            [
             0.7777777777777778,
             "#fb9f3a"
            ],
            [
             0.8888888888888888,
             "#fdca26"
            ],
            [
             1,
             "#f0f921"
            ]
           ],
           "sequentialminus": [
            [
             0,
             "#0d0887"
            ],
            [
             0.1111111111111111,
             "#46039f"
            ],
            [
             0.2222222222222222,
             "#7201a8"
            ],
            [
             0.3333333333333333,
             "#9c179e"
            ],
            [
             0.4444444444444444,
             "#bd3786"
            ],
            [
             0.5555555555555556,
             "#d8576b"
            ],
            [
             0.6666666666666666,
             "#ed7953"
            ],
            [
             0.7777777777777778,
             "#fb9f3a"
            ],
            [
             0.8888888888888888,
             "#fdca26"
            ],
            [
             1,
             "#f0f921"
            ]
           ]
          },
          "colorway": [
           "#636efa",
           "#EF553B",
           "#00cc96",
           "#ab63fa",
           "#FFA15A",
           "#19d3f3",
           "#FF6692",
           "#B6E880",
           "#FF97FF",
           "#FECB52"
          ],
          "font": {
           "color": "#2a3f5f"
          },
          "geo": {
           "bgcolor": "white",
           "lakecolor": "white",
           "landcolor": "#E5ECF6",
           "showlakes": true,
           "showland": true,
           "subunitcolor": "white"
          },
          "hoverlabel": {
           "align": "left"
          },
          "hovermode": "closest",
          "mapbox": {
           "style": "light"
          },
          "paper_bgcolor": "white",
          "plot_bgcolor": "#E5ECF6",
          "polar": {
           "angularaxis": {
            "gridcolor": "white",
            "linecolor": "white",
            "ticks": ""
           },
           "bgcolor": "#E5ECF6",
           "radialaxis": {
            "gridcolor": "white",
            "linecolor": "white",
            "ticks": ""
           }
          },
          "scene": {
           "xaxis": {
            "backgroundcolor": "#E5ECF6",
            "gridcolor": "white",
            "gridwidth": 2,
            "linecolor": "white",
            "showbackground": true,
            "ticks": "",
            "zerolinecolor": "white"
           },
           "yaxis": {
            "backgroundcolor": "#E5ECF6",
            "gridcolor": "white",
            "gridwidth": 2,
            "linecolor": "white",
            "showbackground": true,
            "ticks": "",
            "zerolinecolor": "white"
           },
           "zaxis": {
            "backgroundcolor": "#E5ECF6",
            "gridcolor": "white",
            "gridwidth": 2,
            "linecolor": "white",
            "showbackground": true,
            "ticks": "",
            "zerolinecolor": "white"
           }
          },
          "shapedefaults": {
           "line": {
            "color": "#2a3f5f"
           }
          },
          "ternary": {
           "aaxis": {
            "gridcolor": "white",
            "linecolor": "white",
            "ticks": ""
           },
           "baxis": {
            "gridcolor": "white",
            "linecolor": "white",
            "ticks": ""
           },
           "bgcolor": "#E5ECF6",
           "caxis": {
            "gridcolor": "white",
            "linecolor": "white",
            "ticks": ""
           }
          },
          "title": {
           "x": 0.05
          },
          "xaxis": {
           "automargin": true,
           "gridcolor": "white",
           "linecolor": "white",
           "ticks": "",
           "title": {
            "standoff": 15
           },
           "zerolinecolor": "white",
           "zerolinewidth": 2
          },
          "yaxis": {
           "automargin": true,
           "gridcolor": "white",
           "linecolor": "white",
           "ticks": "",
           "title": {
            "standoff": 15
           },
           "zerolinecolor": "white",
           "zerolinewidth": 2
          }
         }
        },
        "title": {
         "text": "Most popular currencies in the world"
        },
        "xaxis": {
         "title": {
          "text": "Currencies"
         }
        },
        "yaxis": {
         "title": {
          "text": "Amount of countries"
         }
        }
       }
      },
      "text/html": [
       "<div>\n",
       "        \n",
       "        \n",
       "            <div id=\"a5cf5d35-3ac8-40c2-bd6d-8259a1772024\" class=\"plotly-graph-div\" style=\"height:525px; width:100%;\"></div>\n",
       "            <script type=\"text/javascript\">\n",
       "                require([\"plotly\"], function(Plotly) {\n",
       "                    window.PLOTLYENV=window.PLOTLYENV || {};\n",
       "                    \n",
       "                if (document.getElementById(\"a5cf5d35-3ac8-40c2-bd6d-8259a1772024\")) {\n",
       "                    Plotly.newPlot(\n",
       "                        'a5cf5d35-3ac8-40c2-bd6d-8259a1772024',\n",
       "                        [{\"type\": \"bar\", \"x\": [\"EUR\", \"USD\", \"XOF\", \"XCD\", \"AUD\", \"XAF\", \"NZD\", \"XPF\", \"DKK\", \"GBP\"], \"y\": [35, 17, 8, 8, 7, 6, 4, 3, 3, 3]}],\n",
       "                        {\"template\": {\"data\": {\"bar\": [{\"error_x\": {\"color\": \"#2a3f5f\"}, \"error_y\": {\"color\": \"#2a3f5f\"}, \"marker\": {\"line\": {\"color\": \"#E5ECF6\", \"width\": 0.5}}, \"type\": \"bar\"}], \"barpolar\": [{\"marker\": {\"line\": {\"color\": \"#E5ECF6\", \"width\": 0.5}}, \"type\": \"barpolar\"}], \"carpet\": [{\"aaxis\": {\"endlinecolor\": \"#2a3f5f\", \"gridcolor\": \"white\", \"linecolor\": \"white\", \"minorgridcolor\": \"white\", \"startlinecolor\": \"#2a3f5f\"}, \"baxis\": {\"endlinecolor\": \"#2a3f5f\", \"gridcolor\": \"white\", \"linecolor\": \"white\", \"minorgridcolor\": \"white\", \"startlinecolor\": \"#2a3f5f\"}, \"type\": \"carpet\"}], \"choropleth\": [{\"colorbar\": {\"outlinewidth\": 0, \"ticks\": \"\"}, \"type\": \"choropleth\"}], \"contour\": [{\"colorbar\": {\"outlinewidth\": 0, \"ticks\": \"\"}, \"colorscale\": [[0.0, \"#0d0887\"], [0.1111111111111111, \"#46039f\"], [0.2222222222222222, \"#7201a8\"], [0.3333333333333333, \"#9c179e\"], [0.4444444444444444, \"#bd3786\"], [0.5555555555555556, \"#d8576b\"], [0.6666666666666666, \"#ed7953\"], [0.7777777777777778, \"#fb9f3a\"], [0.8888888888888888, \"#fdca26\"], [1.0, \"#f0f921\"]], \"type\": \"contour\"}], \"contourcarpet\": [{\"colorbar\": {\"outlinewidth\": 0, \"ticks\": \"\"}, \"type\": \"contourcarpet\"}], \"heatmap\": [{\"colorbar\": {\"outlinewidth\": 0, \"ticks\": \"\"}, \"colorscale\": [[0.0, \"#0d0887\"], [0.1111111111111111, \"#46039f\"], [0.2222222222222222, \"#7201a8\"], [0.3333333333333333, \"#9c179e\"], [0.4444444444444444, \"#bd3786\"], [0.5555555555555556, \"#d8576b\"], [0.6666666666666666, \"#ed7953\"], [0.7777777777777778, \"#fb9f3a\"], [0.8888888888888888, \"#fdca26\"], [1.0, \"#f0f921\"]], \"type\": \"heatmap\"}], \"heatmapgl\": [{\"colorbar\": {\"outlinewidth\": 0, \"ticks\": \"\"}, \"colorscale\": [[0.0, \"#0d0887\"], [0.1111111111111111, \"#46039f\"], [0.2222222222222222, \"#7201a8\"], [0.3333333333333333, \"#9c179e\"], [0.4444444444444444, \"#bd3786\"], [0.5555555555555556, \"#d8576b\"], [0.6666666666666666, \"#ed7953\"], [0.7777777777777778, \"#fb9f3a\"], [0.8888888888888888, \"#fdca26\"], [1.0, \"#f0f921\"]], \"type\": \"heatmapgl\"}], \"histogram\": [{\"marker\": {\"colorbar\": {\"outlinewidth\": 0, \"ticks\": \"\"}}, \"type\": \"histogram\"}], \"histogram2d\": [{\"colorbar\": {\"outlinewidth\": 0, \"ticks\": \"\"}, \"colorscale\": [[0.0, \"#0d0887\"], [0.1111111111111111, \"#46039f\"], [0.2222222222222222, \"#7201a8\"], [0.3333333333333333, \"#9c179e\"], [0.4444444444444444, \"#bd3786\"], [0.5555555555555556, \"#d8576b\"], [0.6666666666666666, \"#ed7953\"], [0.7777777777777778, \"#fb9f3a\"], [0.8888888888888888, \"#fdca26\"], [1.0, \"#f0f921\"]], \"type\": \"histogram2d\"}], \"histogram2dcontour\": [{\"colorbar\": {\"outlinewidth\": 0, \"ticks\": \"\"}, \"colorscale\": [[0.0, \"#0d0887\"], [0.1111111111111111, \"#46039f\"], [0.2222222222222222, \"#7201a8\"], [0.3333333333333333, \"#9c179e\"], [0.4444444444444444, \"#bd3786\"], [0.5555555555555556, \"#d8576b\"], [0.6666666666666666, \"#ed7953\"], [0.7777777777777778, \"#fb9f3a\"], [0.8888888888888888, \"#fdca26\"], [1.0, \"#f0f921\"]], \"type\": \"histogram2dcontour\"}], \"mesh3d\": [{\"colorbar\": {\"outlinewidth\": 0, \"ticks\": \"\"}, \"type\": \"mesh3d\"}], \"parcoords\": [{\"line\": {\"colorbar\": {\"outlinewidth\": 0, \"ticks\": \"\"}}, \"type\": \"parcoords\"}], \"pie\": [{\"automargin\": true, \"type\": \"pie\"}], \"scatter\": [{\"marker\": {\"colorbar\": {\"outlinewidth\": 0, \"ticks\": \"\"}}, \"type\": \"scatter\"}], \"scatter3d\": [{\"line\": {\"colorbar\": {\"outlinewidth\": 0, \"ticks\": \"\"}}, \"marker\": {\"colorbar\": {\"outlinewidth\": 0, \"ticks\": \"\"}}, \"type\": \"scatter3d\"}], \"scattercarpet\": [{\"marker\": {\"colorbar\": {\"outlinewidth\": 0, \"ticks\": \"\"}}, \"type\": \"scattercarpet\"}], \"scattergeo\": [{\"marker\": {\"colorbar\": {\"outlinewidth\": 0, \"ticks\": \"\"}}, \"type\": \"scattergeo\"}], \"scattergl\": [{\"marker\": {\"colorbar\": {\"outlinewidth\": 0, \"ticks\": \"\"}}, \"type\": \"scattergl\"}], \"scattermapbox\": [{\"marker\": {\"colorbar\": {\"outlinewidth\": 0, \"ticks\": \"\"}}, \"type\": \"scattermapbox\"}], \"scatterpolar\": [{\"marker\": {\"colorbar\": {\"outlinewidth\": 0, \"ticks\": \"\"}}, \"type\": \"scatterpolar\"}], \"scatterpolargl\": [{\"marker\": {\"colorbar\": {\"outlinewidth\": 0, \"ticks\": \"\"}}, \"type\": \"scatterpolargl\"}], \"scatterternary\": [{\"marker\": {\"colorbar\": {\"outlinewidth\": 0, \"ticks\": \"\"}}, \"type\": \"scatterternary\"}], \"surface\": [{\"colorbar\": {\"outlinewidth\": 0, \"ticks\": \"\"}, \"colorscale\": [[0.0, \"#0d0887\"], [0.1111111111111111, \"#46039f\"], [0.2222222222222222, \"#7201a8\"], [0.3333333333333333, \"#9c179e\"], [0.4444444444444444, \"#bd3786\"], [0.5555555555555556, \"#d8576b\"], [0.6666666666666666, \"#ed7953\"], [0.7777777777777778, \"#fb9f3a\"], [0.8888888888888888, \"#fdca26\"], [1.0, \"#f0f921\"]], \"type\": \"surface\"}], \"table\": [{\"cells\": {\"fill\": {\"color\": \"#EBF0F8\"}, \"line\": {\"color\": \"white\"}}, \"header\": {\"fill\": {\"color\": \"#C8D4E3\"}, \"line\": {\"color\": \"white\"}}, \"type\": \"table\"}]}, \"layout\": {\"annotationdefaults\": {\"arrowcolor\": \"#2a3f5f\", \"arrowhead\": 0, \"arrowwidth\": 1}, \"coloraxis\": {\"colorbar\": {\"outlinewidth\": 0, \"ticks\": \"\"}}, \"colorscale\": {\"diverging\": [[0, \"#8e0152\"], [0.1, \"#c51b7d\"], [0.2, \"#de77ae\"], [0.3, \"#f1b6da\"], [0.4, \"#fde0ef\"], [0.5, \"#f7f7f7\"], [0.6, \"#e6f5d0\"], [0.7, \"#b8e186\"], [0.8, \"#7fbc41\"], [0.9, \"#4d9221\"], [1, \"#276419\"]], \"sequential\": [[0.0, \"#0d0887\"], [0.1111111111111111, \"#46039f\"], [0.2222222222222222, \"#7201a8\"], [0.3333333333333333, \"#9c179e\"], [0.4444444444444444, \"#bd3786\"], [0.5555555555555556, \"#d8576b\"], [0.6666666666666666, \"#ed7953\"], [0.7777777777777778, \"#fb9f3a\"], [0.8888888888888888, \"#fdca26\"], [1.0, \"#f0f921\"]], \"sequentialminus\": [[0.0, \"#0d0887\"], [0.1111111111111111, \"#46039f\"], [0.2222222222222222, \"#7201a8\"], [0.3333333333333333, \"#9c179e\"], [0.4444444444444444, \"#bd3786\"], [0.5555555555555556, \"#d8576b\"], [0.6666666666666666, \"#ed7953\"], [0.7777777777777778, \"#fb9f3a\"], [0.8888888888888888, \"#fdca26\"], [1.0, \"#f0f921\"]]}, \"colorway\": [\"#636efa\", \"#EF553B\", \"#00cc96\", \"#ab63fa\", \"#FFA15A\", \"#19d3f3\", \"#FF6692\", \"#B6E880\", \"#FF97FF\", \"#FECB52\"], \"font\": {\"color\": \"#2a3f5f\"}, \"geo\": {\"bgcolor\": \"white\", \"lakecolor\": \"white\", \"landcolor\": \"#E5ECF6\", \"showlakes\": true, \"showland\": true, \"subunitcolor\": \"white\"}, \"hoverlabel\": {\"align\": \"left\"}, \"hovermode\": \"closest\", \"mapbox\": {\"style\": \"light\"}, \"paper_bgcolor\": \"white\", \"plot_bgcolor\": \"#E5ECF6\", \"polar\": {\"angularaxis\": {\"gridcolor\": \"white\", \"linecolor\": \"white\", \"ticks\": \"\"}, \"bgcolor\": \"#E5ECF6\", \"radialaxis\": {\"gridcolor\": \"white\", \"linecolor\": \"white\", \"ticks\": \"\"}}, \"scene\": {\"xaxis\": {\"backgroundcolor\": \"#E5ECF6\", \"gridcolor\": \"white\", \"gridwidth\": 2, \"linecolor\": \"white\", \"showbackground\": true, \"ticks\": \"\", \"zerolinecolor\": \"white\"}, \"yaxis\": {\"backgroundcolor\": \"#E5ECF6\", \"gridcolor\": \"white\", \"gridwidth\": 2, \"linecolor\": \"white\", \"showbackground\": true, \"ticks\": \"\", \"zerolinecolor\": \"white\"}, \"zaxis\": {\"backgroundcolor\": \"#E5ECF6\", \"gridcolor\": \"white\", \"gridwidth\": 2, \"linecolor\": \"white\", \"showbackground\": true, \"ticks\": \"\", \"zerolinecolor\": \"white\"}}, \"shapedefaults\": {\"line\": {\"color\": \"#2a3f5f\"}}, \"ternary\": {\"aaxis\": {\"gridcolor\": \"white\", \"linecolor\": \"white\", \"ticks\": \"\"}, \"baxis\": {\"gridcolor\": \"white\", \"linecolor\": \"white\", \"ticks\": \"\"}, \"bgcolor\": \"#E5ECF6\", \"caxis\": {\"gridcolor\": \"white\", \"linecolor\": \"white\", \"ticks\": \"\"}}, \"title\": {\"x\": 0.05}, \"xaxis\": {\"automargin\": true, \"gridcolor\": \"white\", \"linecolor\": \"white\", \"ticks\": \"\", \"title\": {\"standoff\": 15}, \"zerolinecolor\": \"white\", \"zerolinewidth\": 2}, \"yaxis\": {\"automargin\": true, \"gridcolor\": \"white\", \"linecolor\": \"white\", \"ticks\": \"\", \"title\": {\"standoff\": 15}, \"zerolinecolor\": \"white\", \"zerolinewidth\": 2}}}, \"title\": {\"text\": \"Most popular currencies in the world\"}, \"xaxis\": {\"title\": {\"text\": \"Currencies\"}}, \"yaxis\": {\"title\": {\"text\": \"Amount of countries\"}}},\n",
       "                        {\"responsive\": true}\n",
       "                    ).then(function(){\n",
       "                            \n",
       "var gd = document.getElementById('a5cf5d35-3ac8-40c2-bd6d-8259a1772024');\n",
       "var x = new MutationObserver(function (mutations, observer) {{\n",
       "        var display = window.getComputedStyle(gd).display;\n",
       "        if (!display || display === 'none') {{\n",
       "            console.log([gd, 'removed!']);\n",
       "            Plotly.purge(gd);\n",
       "            observer.disconnect();\n",
       "        }}\n",
       "}});\n",
       "\n",
       "// Listen for the removal of the full notebook cells\n",
       "var notebookContainer = gd.closest('#notebook-container');\n",
       "if (notebookContainer) {{\n",
       "    x.observe(notebookContainer, {childList: true});\n",
       "}}\n",
       "\n",
       "// Listen for the clearing of the current output cell\n",
       "var outputEl = gd.closest('.output');\n",
       "if (outputEl) {{\n",
       "    x.observe(outputEl, {childList: true});\n",
       "}}\n",
       "\n",
       "                        })\n",
       "                };\n",
       "                });\n",
       "            </script>\n",
       "        </div>"
      ]
     },
     "metadata": {},
     "output_type": "display_data"
    }
   ],
   "source": [
    "currency = df['currencies'].value_counts().head(10)\n",
    "currency\n",
    "\n",
    "fig = go.Figure([go.Bar(x=currency.index, y=currency)])\n",
    "\n",
    "fig.update_layout(title='Most popular currencies in the world',\n",
    "                  xaxis=dict(title = 'Currencies'),\n",
    "                  yaxis=dict(title='Amount of countries'))\n",
    "        \n",
    "fig.show()\n"
   ]
  },
  {
   "cell_type": "markdown",
   "metadata": {},
   "source": [
    "## regional blocs\n",
    "\n",
    "Map 4: 2 subplots:\n",
    "subplot1:Map represent geographic region/sub-regions Vs.regionalBlocs  (pie charts)\n",
    "-color = mỗi blocs\n",
    "-marker = currencies (in name)\n",
    "    \n",
    "subplot2:violin or boxplot phân cấp giàu nghèo trên mỗi blocs\n",
    "\n"
   ]
  },
  {
   "cell_type": "code",
   "execution_count": 101,
   "metadata": {},
   "outputs": [
    {
     "data": {
      "application/vnd.plotly.v1+json": {
       "config": {
        "plotlyServerURL": "https://plot.ly"
       },
       "data": [
        {
         "colorscale": [
          [
           0,
           "#FD3216"
          ],
          [
           1,
           "#FD3216"
          ]
         ],
         "geo": "geo",
         "hovertemplate": "<b>%{hovertext}</b><br><br>color=South Asian Association for Regional Cooperation<br>locations=%{location}<extra></extra>",
         "hovertext": [
          "Afghanistan",
          "Bangladesh",
          "Bhutan",
          "India",
          "Maldives",
          "Nepal",
          "Pakistan",
          "Sri Lanka"
         ],
         "locations": [
          "AFG",
          "BGD",
          "BTN",
          "IND",
          "MDV",
          "NPL",
          "PAK",
          "LKA"
         ],
         "name": "South Asian Association for Regional Cooperation",
         "showlegend": true,
         "showscale": false,
         "type": "choropleth",
         "z": [
          1,
          1,
          1,
          1,
          1,
          1,
          1,
          1
         ]
        },
        {
         "colorscale": [
          [
           0,
           "#00FE35"
          ],
          [
           1,
           "#00FE35"
          ]
         ],
         "geo": "geo",
         "hovertemplate": "<b>%{hovertext}</b><br><br>color=European Union<br>locations=%{location}<extra></extra>",
         "hovertext": [
          "Åland Islands",
          "Austria",
          "Belgium",
          "Bulgaria",
          "Croatia",
          "Cyprus",
          "Czech Republic",
          "Denmark",
          "Estonia",
          "Faroe Islands",
          "Finland",
          "France",
          "Germany",
          "Gibraltar",
          "Greece",
          "Hungary",
          "Ireland",
          "Isle of Man",
          "Italy",
          "Latvia",
          "Lithuania",
          "Luxembourg",
          "Malta",
          "Netherlands",
          "Poland",
          "Portugal",
          "Romania",
          "Slovakia",
          "Slovenia",
          "Spain",
          "Sweden",
          "United Kingdom of Great Britain and Northern Ireland"
         ],
         "locations": [
          "ALA",
          "AUT",
          "BEL",
          "BGR",
          "HRV",
          "CYP",
          "CZE",
          "DNK",
          "EST",
          "FRO",
          "FIN",
          "FRA",
          "DEU",
          "GIB",
          "GRC",
          "HUN",
          "IRL",
          "IMN",
          "ITA",
          "LVA",
          "LTU",
          "LUX",
          "MLT",
          "NLD",
          "POL",
          "PRT",
          "ROU",
          "SVK",
          "SVN",
          "ESP",
          "SWE",
          "GBR"
         ],
         "name": "European Union",
         "showlegend": true,
         "showscale": false,
         "type": "choropleth",
         "z": [
          1,
          1,
          1,
          1,
          1,
          1,
          1,
          1,
          1,
          1,
          1,
          1,
          1,
          1,
          1,
          1,
          1,
          1,
          1,
          1,
          1,
          1,
          1,
          1,
          1,
          1,
          1,
          1,
          1,
          1,
          1,
          1
         ]
        },
        {
         "colorscale": [
          [
           0,
           "#6A76FC"
          ],
          [
           1,
           "#6A76FC"
          ]
         ],
         "geo": "geo",
         "hovertemplate": "<b>%{hovertext}</b><br><br>color=Central European Free Trade Agreement<br>locations=%{location}<extra></extra>",
         "hovertext": [
          "Albania",
          "Bosnia and Herzegovina",
          "Macedonia (the former Yugoslav Republic of)",
          "Moldova (Republic of)",
          "Montenegro",
          "Republic of Kosovo",
          "Serbia"
         ],
         "locations": [
          "ALB",
          "BIH",
          "MKD",
          "MDA",
          "MNE",
          "KOS",
          "SRB"
         ],
         "name": "Central European Free Trade Agreement",
         "showlegend": true,
         "showscale": false,
         "type": "choropleth",
         "z": [
          1,
          1,
          1,
          1,
          1,
          1,
          1
         ]
        },
        {
         "colorscale": [
          [
           0,
           "#FED4C4"
          ],
          [
           1,
           "#FED4C4"
          ]
         ],
         "geo": "geo",
         "hovertemplate": "<b>%{hovertext}</b><br><br>color=African UnionArab League<br>locations=%{location}<extra></extra>",
         "hovertext": [
          "Algeria",
          "Comoros",
          "Djibouti",
          "Egypt",
          "Libya",
          "Mauritania",
          "Morocco",
          "Somalia",
          "Sudan",
          "Tunisia"
         ],
         "locations": [
          "DZA",
          "COM",
          "DJI",
          "EGY",
          "LBY",
          "MRT",
          "MAR",
          "SOM",
          "SDN",
          "TUN"
         ],
         "name": "African UnionArab League",
         "showlegend": true,
         "showscale": false,
         "type": "choropleth",
         "z": [
          1,
          1,
          1,
          1,
          1,
          1,
          1,
          1,
          1,
          1
         ]
        },
        {
         "colorscale": [
          [
           0,
           "#FE00CE"
          ],
          [
           1,
           "#FE00CE"
          ]
         ],
         "geo": "geo",
         "hovertemplate": "<b>%{hovertext}</b><br><br>color=African Union<br>locations=%{location}<extra></extra>",
         "hovertext": [
          "Angola",
          "Benin",
          "Botswana",
          "British Indian Ocean Territory",
          "Burkina Faso",
          "Burundi",
          "Cameroon",
          "Cabo Verde",
          "Central African Republic",
          "Chad",
          "Congo",
          "Congo (Democratic Republic of the)",
          "Equatorial Guinea",
          "Eritrea",
          "Ethiopia",
          "French Southern Territories",
          "Gabon",
          "Gambia",
          "Ghana",
          "Guinea",
          "Guinea-Bissau",
          "Côte d'Ivoire",
          "Kenya",
          "Lesotho",
          "Liberia",
          "Madagascar",
          "Malawi",
          "Mali",
          "Mauritius",
          "Mayotte",
          "Mozambique",
          "Namibia",
          "Niger",
          "Nigeria",
          "Réunion",
          "Rwanda",
          "Saint Helena, Ascension and Tristan da Cunha",
          "Sao Tome and Principe",
          "Senegal",
          "Seychelles",
          "Sierra Leone",
          "South Africa",
          "South Sudan",
          "Swaziland",
          "Tanzania, United Republic of",
          "Togo",
          "Uganda",
          "Western Sahara",
          "Zambia",
          "Zimbabwe"
         ],
         "locations": [
          "AGO",
          "BEN",
          "BWA",
          "IOT",
          "BFA",
          "BDI",
          "CMR",
          "CPV",
          "CAF",
          "TCD",
          "COG",
          "COD",
          "GNQ",
          "ERI",
          "ETH",
          "ATF",
          "GAB",
          "GMB",
          "GHA",
          "GIN",
          "GNB",
          "CIV",
          "KEN",
          "LSO",
          "LBR",
          "MDG",
          "MWI",
          "MLI",
          "MUS",
          "MYT",
          "MOZ",
          "NAM",
          "NER",
          "NGA",
          "REU",
          "RWA",
          "SHN",
          "STP",
          "SEN",
          "SYC",
          "SLE",
          "ZAF",
          "SSD",
          "SWZ",
          "TZA",
          "TGO",
          "UGA",
          "ESH",
          "ZMB",
          "ZWE"
         ],
         "name": "African Union",
         "showlegend": true,
         "showscale": false,
         "type": "choropleth",
         "z": [
          1,
          1,
          1,
          1,
          1,
          1,
          1,
          1,
          1,
          1,
          1,
          1,
          1,
          1,
          1,
          1,
          1,
          1,
          1,
          1,
          1,
          1,
          1,
          1,
          1,
          1,
          1,
          1,
          1,
          1,
          1,
          1,
          1,
          1,
          1,
          1,
          1,
          1,
          1,
          1,
          1,
          1,
          1,
          1,
          1,
          1,
          1,
          1,
          1,
          1
         ]
        },
        {
         "colorscale": [
          [
           0,
           "#0DF9FF"
          ],
          [
           1,
           "#0DF9FF"
          ]
         ],
         "geo": "geo",
         "hovertemplate": "<b>%{hovertext}</b><br><br>color=Caribbean Community<br>locations=%{location}<extra></extra>",
         "hovertext": [
          "Antigua and Barbuda",
          "Bahamas",
          "Barbados",
          "Grenada",
          "Haiti",
          "Jamaica",
          "Montserrat",
          "Saint Kitts and Nevis",
          "Saint Lucia",
          "Saint Vincent and the Grenadines",
          "Trinidad and Tobago"
         ],
         "locations": [
          "ATG",
          "BHS",
          "BRB",
          "GRD",
          "HTI",
          "JAM",
          "MSR",
          "KNA",
          "LCA",
          "VCT",
          "TTO"
         ],
         "name": "Caribbean Community",
         "showlegend": true,
         "showscale": false,
         "type": "choropleth",
         "z": [
          1,
          1,
          1,
          1,
          1,
          1,
          1,
          1,
          1,
          1,
          1
         ]
        },
        {
         "colorscale": [
          [
           0,
           "#F6F926"
          ],
          [
           1,
           "#F6F926"
          ]
         ],
         "geo": "geo",
         "hovertemplate": "<b>%{hovertext}</b><br><br>color=Union of South American Nations<br>locations=%{location}<extra></extra>",
         "hovertext": [
          "Argentina",
          "Bolivia (Plurinational State of)",
          "Brazil",
          "Ecuador",
          "Falkland Islands (Malvinas)",
          "Paraguay",
          "South Georgia and the South Sandwich Islands",
          "Uruguay",
          "Venezuela (Bolivarian Republic of)"
         ],
         "locations": [
          "ARG",
          "BOL",
          "BRA",
          "ECU",
          "FLK",
          "PRY",
          "SGS",
          "URY",
          "VEN"
         ],
         "name": "Union of South American Nations",
         "showlegend": true,
         "showscale": false,
         "type": "choropleth",
         "z": [
          1,
          1,
          1,
          1,
          1,
          1,
          1,
          1,
          1
         ]
        },
        {
         "colorscale": [
          [
           0,
           "#FF9616"
          ],
          [
           1,
           "#FF9616"
          ]
         ],
         "geo": "geo",
         "hovertemplate": "<b>%{hovertext}</b><br><br>color=Eurasian Economic Union<br>locations=%{location}<extra></extra>",
         "hovertext": [
          "Armenia",
          "Belarus",
          "Kazakhstan",
          "Kyrgyzstan",
          "Russian Federation"
         ],
         "locations": [
          "ARM",
          "BLR",
          "KAZ",
          "KGZ",
          "RUS"
         ],
         "name": "Eurasian Economic Union",
         "showlegend": true,
         "showscale": false,
         "type": "choropleth",
         "z": [
          1,
          1,
          1,
          1,
          1
         ]
        },
        {
         "colorscale": [
          [
           0,
           "#479B55"
          ],
          [
           1,
           "#479B55"
          ]
         ],
         "geo": "geo",
         "hovertemplate": "<b>%{hovertext}</b><br><br>color=Arab League<br>locations=%{location}<extra></extra>",
         "hovertext": [
          "Bahrain",
          "Iraq",
          "Jordan",
          "Kuwait",
          "Lebanon",
          "Oman",
          "Palestine, State of",
          "Qatar",
          "Saudi Arabia",
          "Syrian Arab Republic",
          "United Arab Emirates",
          "Yemen"
         ],
         "locations": [
          "BHR",
          "IRQ",
          "JOR",
          "KWT",
          "LBN",
          "OMN",
          "PSE",
          "QAT",
          "SAU",
          "SYR",
          "ARE",
          "YEM"
         ],
         "name": "Arab League",
         "showlegend": true,
         "showscale": false,
         "type": "choropleth",
         "z": [
          1,
          1,
          1,
          1,
          1,
          1,
          1,
          1,
          1,
          1,
          1,
          1
         ]
        },
        {
         "colorscale": [
          [
           0,
           "#EEA6FB"
          ],
          [
           1,
           "#EEA6FB"
          ]
         ],
         "geo": "geo",
         "hovertemplate": "<b>%{hovertext}</b><br><br>color=Caribbean CommunityCentral American Integration System<br>locations=%{location}<extra></extra>",
         "hovertext": [
          "Belize",
          "Dominican Republic"
         ],
         "locations": [
          "BLZ",
          "DOM"
         ],
         "name": "Caribbean CommunityCentral American Integration System",
         "showlegend": true,
         "showscale": false,
         "type": "choropleth",
         "z": [
          1,
          1
         ]
        },
        {
         "colorscale": [
          [
           0,
           "#DC587D"
          ],
          [
           1,
           "#DC587D"
          ]
         ],
         "geo": "geo",
         "hovertemplate": "<b>%{hovertext}</b><br><br>color=Association of Southeast Asian Nations<br>locations=%{location}<extra></extra>",
         "hovertext": [
          "Brunei Darussalam",
          "Cambodia",
          "Indonesia",
          "Lao People's Democratic Republic",
          "Malaysia",
          "Myanmar",
          "Philippines",
          "Singapore",
          "Thailand",
          "Viet Nam"
         ],
         "locations": [
          "BRN",
          "KHM",
          "IDN",
          "LAO",
          "MYS",
          "MMR",
          "PHL",
          "SGP",
          "THA",
          "VNM"
         ],
         "name": "Association of Southeast Asian Nations",
         "showlegend": true,
         "showscale": false,
         "type": "choropleth",
         "z": [
          1,
          1,
          1,
          1,
          1,
          1,
          1,
          1,
          1,
          1
         ]
        },
        {
         "colorscale": [
          [
           0,
           "#D626FF"
          ],
          [
           1,
           "#D626FF"
          ]
         ],
         "geo": "geo",
         "hovertemplate": "<b>%{hovertext}</b><br><br>color=North American Free Trade Agreement<br>locations=%{location}<extra></extra>",
         "hovertext": [
          "Canada",
          "United States of America"
         ],
         "locations": [
          "CAN",
          "USA"
         ],
         "name": "North American Free Trade Agreement",
         "showlegend": true,
         "showscale": false,
         "type": "choropleth",
         "z": [
          1,
          1
         ]
        },
        {
         "colorscale": [
          [
           0,
           "#6E899C"
          ],
          [
           1,
           "#6E899C"
          ]
         ],
         "geo": "geo",
         "hovertemplate": "<b>%{hovertext}</b><br><br>color=Pacific AllianceUnion of South American Nations<br>locations=%{location}<extra></extra>",
         "hovertext": [
          "Chile",
          "Colombia",
          "Peru"
         ],
         "locations": [
          "CHL",
          "COL",
          "PER"
         ],
         "name": "Pacific AllianceUnion of South American Nations",
         "showlegend": true,
         "showscale": false,
         "type": "choropleth",
         "z": [
          1,
          1,
          1
         ]
        },
        {
         "colorscale": [
          [
           0,
           "#00B5F7"
          ],
          [
           1,
           "#00B5F7"
          ]
         ],
         "geo": "geo",
         "hovertemplate": "<b>%{hovertext}</b><br><br>color=Central American Integration System<br>locations=%{location}<extra></extra>",
         "hovertext": [
          "Costa Rica",
          "El Salvador",
          "Guatemala",
          "Honduras",
          "Nicaragua",
          "Panama"
         ],
         "locations": [
          "CRI",
          "SLV",
          "GTM",
          "HND",
          "NIC",
          "PAN"
         ],
         "name": "Central American Integration System",
         "showlegend": true,
         "showscale": false,
         "type": "choropleth",
         "z": [
          1,
          1,
          1,
          1,
          1,
          1
         ]
        },
        {
         "colorscale": [
          [
           0,
           "#B68E00"
          ],
          [
           1,
           "#B68E00"
          ]
         ],
         "geo": "geo",
         "hovertemplate": "<b>%{hovertext}</b><br><br>color=Union of South American NationsEuropean Union<br>locations=%{location}<extra></extra>",
         "hovertext": [
          "French Guiana"
         ],
         "locations": [
          "GUF"
         ],
         "name": "Union of South American NationsEuropean Union",
         "showlegend": true,
         "showscale": false,
         "type": "choropleth",
         "z": [
          1
         ]
        },
        {
         "colorscale": [
          [
           0,
           "#C9FBE5"
          ],
          [
           1,
           "#C9FBE5"
          ]
         ],
         "geo": "geo",
         "hovertemplate": "<b>%{hovertext}</b><br><br>color=Caribbean CommunityUnion of South American Nations<br>locations=%{location}<extra></extra>",
         "hovertext": [
          "Guyana",
          "Suriname"
         ],
         "locations": [
          "GUY",
          "SUR"
         ],
         "name": "Caribbean CommunityUnion of South American Nations",
         "showlegend": true,
         "showscale": false,
         "type": "choropleth",
         "z": [
          1,
          1
         ]
        },
        {
         "colorscale": [
          [
           0,
           "#FF0092"
          ],
          [
           1,
           "#FF0092"
          ]
         ],
         "geo": "geo",
         "hovertemplate": "<b>%{hovertext}</b><br><br>color=European Free Trade Association<br>locations=%{location}<extra></extra>",
         "hovertext": [
          "Iceland",
          "Liechtenstein",
          "Norway",
          "Switzerland"
         ],
         "locations": [
          "ISL",
          "LIE",
          "NOR",
          "CHE"
         ],
         "name": "European Free Trade Association",
         "showlegend": true,
         "showscale": false,
         "type": "choropleth",
         "z": [
          1,
          1,
          1,
          1
         ]
        },
        {
         "colorscale": [
          [
           0,
           "#22FFA7"
          ],
          [
           1,
           "#22FFA7"
          ]
         ],
         "geo": "geo",
         "hovertemplate": "<b>%{hovertext}</b><br><br>color=Pacific AllianceNorth American Free Trade Agreement<br>locations=%{location}<extra></extra>",
         "hovertext": [
          "Mexico"
         ],
         "locations": [
          "MEX"
         ],
         "name": "Pacific AllianceNorth American Free Trade Agreement",
         "showlegend": true,
         "showscale": false,
         "type": "choropleth",
         "z": [
          1
         ]
        }
       ],
       "layout": {
        "geo": {
         "center": {},
         "domain": {
          "x": [
           0,
           1
          ],
          "y": [
           0,
           1
          ]
         },
         "projection": {
          "type": "equirectangular"
         },
         "showcoastlines": false,
         "showframe": false
        },
        "legend": {
         "title": {
          "text": "color"
         },
         "tracegroupgap": 0
        },
        "margin": {
         "t": 60
        },
        "template": {
         "data": {
          "bar": [
           {
            "error_x": {
             "color": "#2a3f5f"
            },
            "error_y": {
             "color": "#2a3f5f"
            },
            "marker": {
             "line": {
              "color": "#E5ECF6",
              "width": 0.5
             }
            },
            "type": "bar"
           }
          ],
          "barpolar": [
           {
            "marker": {
             "line": {
              "color": "#E5ECF6",
              "width": 0.5
             }
            },
            "type": "barpolar"
           }
          ],
          "carpet": [
           {
            "aaxis": {
             "endlinecolor": "#2a3f5f",
             "gridcolor": "white",
             "linecolor": "white",
             "minorgridcolor": "white",
             "startlinecolor": "#2a3f5f"
            },
            "baxis": {
             "endlinecolor": "#2a3f5f",
             "gridcolor": "white",
             "linecolor": "white",
             "minorgridcolor": "white",
             "startlinecolor": "#2a3f5f"
            },
            "type": "carpet"
           }
          ],
          "choropleth": [
           {
            "colorbar": {
             "outlinewidth": 0,
             "ticks": ""
            },
            "type": "choropleth"
           }
          ],
          "contour": [
           {
            "colorbar": {
             "outlinewidth": 0,
             "ticks": ""
            },
            "colorscale": [
             [
              0,
              "#0d0887"
             ],
             [
              0.1111111111111111,
              "#46039f"
             ],
             [
              0.2222222222222222,
              "#7201a8"
             ],
             [
              0.3333333333333333,
              "#9c179e"
             ],
             [
              0.4444444444444444,
              "#bd3786"
             ],
             [
              0.5555555555555556,
              "#d8576b"
             ],
             [
              0.6666666666666666,
              "#ed7953"
             ],
             [
              0.7777777777777778,
              "#fb9f3a"
             ],
             [
              0.8888888888888888,
              "#fdca26"
             ],
             [
              1,
              "#f0f921"
             ]
            ],
            "type": "contour"
           }
          ],
          "contourcarpet": [
           {
            "colorbar": {
             "outlinewidth": 0,
             "ticks": ""
            },
            "type": "contourcarpet"
           }
          ],
          "heatmap": [
           {
            "colorbar": {
             "outlinewidth": 0,
             "ticks": ""
            },
            "colorscale": [
             [
              0,
              "#0d0887"
             ],
             [
              0.1111111111111111,
              "#46039f"
             ],
             [
              0.2222222222222222,
              "#7201a8"
             ],
             [
              0.3333333333333333,
              "#9c179e"
             ],
             [
              0.4444444444444444,
              "#bd3786"
             ],
             [
              0.5555555555555556,
              "#d8576b"
             ],
             [
              0.6666666666666666,
              "#ed7953"
             ],
             [
              0.7777777777777778,
              "#fb9f3a"
             ],
             [
              0.8888888888888888,
              "#fdca26"
             ],
             [
              1,
              "#f0f921"
             ]
            ],
            "type": "heatmap"
           }
          ],
          "heatmapgl": [
           {
            "colorbar": {
             "outlinewidth": 0,
             "ticks": ""
            },
            "colorscale": [
             [
              0,
              "#0d0887"
             ],
             [
              0.1111111111111111,
              "#46039f"
             ],
             [
              0.2222222222222222,
              "#7201a8"
             ],
             [
              0.3333333333333333,
              "#9c179e"
             ],
             [
              0.4444444444444444,
              "#bd3786"
             ],
             [
              0.5555555555555556,
              "#d8576b"
             ],
             [
              0.6666666666666666,
              "#ed7953"
             ],
             [
              0.7777777777777778,
              "#fb9f3a"
             ],
             [
              0.8888888888888888,
              "#fdca26"
             ],
             [
              1,
              "#f0f921"
             ]
            ],
            "type": "heatmapgl"
           }
          ],
          "histogram": [
           {
            "marker": {
             "colorbar": {
              "outlinewidth": 0,
              "ticks": ""
             }
            },
            "type": "histogram"
           }
          ],
          "histogram2d": [
           {
            "colorbar": {
             "outlinewidth": 0,
             "ticks": ""
            },
            "colorscale": [
             [
              0,
              "#0d0887"
             ],
             [
              0.1111111111111111,
              "#46039f"
             ],
             [
              0.2222222222222222,
              "#7201a8"
             ],
             [
              0.3333333333333333,
              "#9c179e"
             ],
             [
              0.4444444444444444,
              "#bd3786"
             ],
             [
              0.5555555555555556,
              "#d8576b"
             ],
             [
              0.6666666666666666,
              "#ed7953"
             ],
             [
              0.7777777777777778,
              "#fb9f3a"
             ],
             [
              0.8888888888888888,
              "#fdca26"
             ],
             [
              1,
              "#f0f921"
             ]
            ],
            "type": "histogram2d"
           }
          ],
          "histogram2dcontour": [
           {
            "colorbar": {
             "outlinewidth": 0,
             "ticks": ""
            },
            "colorscale": [
             [
              0,
              "#0d0887"
             ],
             [
              0.1111111111111111,
              "#46039f"
             ],
             [
              0.2222222222222222,
              "#7201a8"
             ],
             [
              0.3333333333333333,
              "#9c179e"
             ],
             [
              0.4444444444444444,
              "#bd3786"
             ],
             [
              0.5555555555555556,
              "#d8576b"
             ],
             [
              0.6666666666666666,
              "#ed7953"
             ],
             [
              0.7777777777777778,
              "#fb9f3a"
             ],
             [
              0.8888888888888888,
              "#fdca26"
             ],
             [
              1,
              "#f0f921"
             ]
            ],
            "type": "histogram2dcontour"
           }
          ],
          "mesh3d": [
           {
            "colorbar": {
             "outlinewidth": 0,
             "ticks": ""
            },
            "type": "mesh3d"
           }
          ],
          "parcoords": [
           {
            "line": {
             "colorbar": {
              "outlinewidth": 0,
              "ticks": ""
             }
            },
            "type": "parcoords"
           }
          ],
          "pie": [
           {
            "automargin": true,
            "type": "pie"
           }
          ],
          "scatter": [
           {
            "marker": {
             "colorbar": {
              "outlinewidth": 0,
              "ticks": ""
             }
            },
            "type": "scatter"
           }
          ],
          "scatter3d": [
           {
            "line": {
             "colorbar": {
              "outlinewidth": 0,
              "ticks": ""
             }
            },
            "marker": {
             "colorbar": {
              "outlinewidth": 0,
              "ticks": ""
             }
            },
            "type": "scatter3d"
           }
          ],
          "scattercarpet": [
           {
            "marker": {
             "colorbar": {
              "outlinewidth": 0,
              "ticks": ""
             }
            },
            "type": "scattercarpet"
           }
          ],
          "scattergeo": [
           {
            "marker": {
             "colorbar": {
              "outlinewidth": 0,
              "ticks": ""
             }
            },
            "type": "scattergeo"
           }
          ],
          "scattergl": [
           {
            "marker": {
             "colorbar": {
              "outlinewidth": 0,
              "ticks": ""
             }
            },
            "type": "scattergl"
           }
          ],
          "scattermapbox": [
           {
            "marker": {
             "colorbar": {
              "outlinewidth": 0,
              "ticks": ""
             }
            },
            "type": "scattermapbox"
           }
          ],
          "scatterpolar": [
           {
            "marker": {
             "colorbar": {
              "outlinewidth": 0,
              "ticks": ""
             }
            },
            "type": "scatterpolar"
           }
          ],
          "scatterpolargl": [
           {
            "marker": {
             "colorbar": {
              "outlinewidth": 0,
              "ticks": ""
             }
            },
            "type": "scatterpolargl"
           }
          ],
          "scatterternary": [
           {
            "marker": {
             "colorbar": {
              "outlinewidth": 0,
              "ticks": ""
             }
            },
            "type": "scatterternary"
           }
          ],
          "surface": [
           {
            "colorbar": {
             "outlinewidth": 0,
             "ticks": ""
            },
            "colorscale": [
             [
              0,
              "#0d0887"
             ],
             [
              0.1111111111111111,
              "#46039f"
             ],
             [
              0.2222222222222222,
              "#7201a8"
             ],
             [
              0.3333333333333333,
              "#9c179e"
             ],
             [
              0.4444444444444444,
              "#bd3786"
             ],
             [
              0.5555555555555556,
              "#d8576b"
             ],
             [
              0.6666666666666666,
              "#ed7953"
             ],
             [
              0.7777777777777778,
              "#fb9f3a"
             ],
             [
              0.8888888888888888,
              "#fdca26"
             ],
             [
              1,
              "#f0f921"
             ]
            ],
            "type": "surface"
           }
          ],
          "table": [
           {
            "cells": {
             "fill": {
              "color": "#EBF0F8"
             },
             "line": {
              "color": "white"
             }
            },
            "header": {
             "fill": {
              "color": "#C8D4E3"
             },
             "line": {
              "color": "white"
             }
            },
            "type": "table"
           }
          ]
         },
         "layout": {
          "annotationdefaults": {
           "arrowcolor": "#2a3f5f",
           "arrowhead": 0,
           "arrowwidth": 1
          },
          "coloraxis": {
           "colorbar": {
            "outlinewidth": 0,
            "ticks": ""
           }
          },
          "colorscale": {
           "diverging": [
            [
             0,
             "#8e0152"
            ],
            [
             0.1,
             "#c51b7d"
            ],
            [
             0.2,
             "#de77ae"
            ],
            [
             0.3,
             "#f1b6da"
            ],
            [
             0.4,
             "#fde0ef"
            ],
            [
             0.5,
             "#f7f7f7"
            ],
            [
             0.6,
             "#e6f5d0"
            ],
            [
             0.7,
             "#b8e186"
            ],
            [
             0.8,
             "#7fbc41"
            ],
            [
             0.9,
             "#4d9221"
            ],
            [
             1,
             "#276419"
            ]
           ],
           "sequential": [
            [
             0,
             "#0d0887"
            ],
            [
             0.1111111111111111,
             "#46039f"
            ],
            [
             0.2222222222222222,
             "#7201a8"
            ],
            [
             0.3333333333333333,
             "#9c179e"
            ],
            [
             0.4444444444444444,
             "#bd3786"
            ],
            [
             0.5555555555555556,
             "#d8576b"
            ],
            [
             0.6666666666666666,
             "#ed7953"
            ],
            [
             0.7777777777777778,
             "#fb9f3a"
            ],
            [
             0.8888888888888888,
             "#fdca26"
            ],
            [
             1,
             "#f0f921"
            ]
           ],
           "sequentialminus": [
            [
             0,
             "#0d0887"
            ],
            [
             0.1111111111111111,
             "#46039f"
            ],
            [
             0.2222222222222222,
             "#7201a8"
            ],
            [
             0.3333333333333333,
             "#9c179e"
            ],
            [
             0.4444444444444444,
             "#bd3786"
            ],
            [
             0.5555555555555556,
             "#d8576b"
            ],
            [
             0.6666666666666666,
             "#ed7953"
            ],
            [
             0.7777777777777778,
             "#fb9f3a"
            ],
            [
             0.8888888888888888,
             "#fdca26"
            ],
            [
             1,
             "#f0f921"
            ]
           ]
          },
          "colorway": [
           "#636efa",
           "#EF553B",
           "#00cc96",
           "#ab63fa",
           "#FFA15A",
           "#19d3f3",
           "#FF6692",
           "#B6E880",
           "#FF97FF",
           "#FECB52"
          ],
          "font": {
           "color": "#2a3f5f"
          },
          "geo": {
           "bgcolor": "white",
           "lakecolor": "white",
           "landcolor": "#E5ECF6",
           "showlakes": true,
           "showland": true,
           "subunitcolor": "white"
          },
          "hoverlabel": {
           "align": "left"
          },
          "hovermode": "closest",
          "mapbox": {
           "style": "light"
          },
          "paper_bgcolor": "white",
          "plot_bgcolor": "#E5ECF6",
          "polar": {
           "angularaxis": {
            "gridcolor": "white",
            "linecolor": "white",
            "ticks": ""
           },
           "bgcolor": "#E5ECF6",
           "radialaxis": {
            "gridcolor": "white",
            "linecolor": "white",
            "ticks": ""
           }
          },
          "scene": {
           "xaxis": {
            "backgroundcolor": "#E5ECF6",
            "gridcolor": "white",
            "gridwidth": 2,
            "linecolor": "white",
            "showbackground": true,
            "ticks": "",
            "zerolinecolor": "white"
           },
           "yaxis": {
            "backgroundcolor": "#E5ECF6",
            "gridcolor": "white",
            "gridwidth": 2,
            "linecolor": "white",
            "showbackground": true,
            "ticks": "",
            "zerolinecolor": "white"
           },
           "zaxis": {
            "backgroundcolor": "#E5ECF6",
            "gridcolor": "white",
            "gridwidth": 2,
            "linecolor": "white",
            "showbackground": true,
            "ticks": "",
            "zerolinecolor": "white"
           }
          },
          "shapedefaults": {
           "line": {
            "color": "#2a3f5f"
           }
          },
          "ternary": {
           "aaxis": {
            "gridcolor": "white",
            "linecolor": "white",
            "ticks": ""
           },
           "baxis": {
            "gridcolor": "white",
            "linecolor": "white",
            "ticks": ""
           },
           "bgcolor": "#E5ECF6",
           "caxis": {
            "gridcolor": "white",
            "linecolor": "white",
            "ticks": ""
           }
          },
          "title": {
           "x": 0.05
          },
          "xaxis": {
           "automargin": true,
           "gridcolor": "white",
           "linecolor": "white",
           "ticks": "",
           "title": {
            "standoff": 15
           },
           "zerolinecolor": "white",
           "zerolinewidth": 2
          },
          "yaxis": {
           "automargin": true,
           "gridcolor": "white",
           "linecolor": "white",
           "ticks": "",
           "title": {
            "standoff": 15
           },
           "zerolinecolor": "white",
           "zerolinewidth": 2
          }
         }
        },
        "title": {
         "text": "Regional Blocs"
        }
       }
      },
      "text/html": [
       "<div>\n",
       "        \n",
       "        \n",
       "            <div id=\"9cfda1d2-ebcf-431b-a6b4-46e9a2750d50\" class=\"plotly-graph-div\" style=\"height:525px; width:100%;\"></div>\n",
       "            <script type=\"text/javascript\">\n",
       "                require([\"plotly\"], function(Plotly) {\n",
       "                    window.PLOTLYENV=window.PLOTLYENV || {};\n",
       "                    \n",
       "                if (document.getElementById(\"9cfda1d2-ebcf-431b-a6b4-46e9a2750d50\")) {\n",
       "                    Plotly.newPlot(\n",
       "                        '9cfda1d2-ebcf-431b-a6b4-46e9a2750d50',\n",
       "                        [{\"colorscale\": [[0.0, \"#FD3216\"], [1.0, \"#FD3216\"]], \"geo\": \"geo\", \"hovertemplate\": \"<b>%{hovertext}</b><br><br>color=South Asian Association for Regional Cooperation<br>locations=%{location}<extra></extra>\", \"hovertext\": [\"Afghanistan\", \"Bangladesh\", \"Bhutan\", \"India\", \"Maldives\", \"Nepal\", \"Pakistan\", \"Sri Lanka\"], \"locations\": [\"AFG\", \"BGD\", \"BTN\", \"IND\", \"MDV\", \"NPL\", \"PAK\", \"LKA\"], \"name\": \"South Asian Association for Regional Cooperation\", \"showlegend\": true, \"showscale\": false, \"type\": \"choropleth\", \"z\": [1, 1, 1, 1, 1, 1, 1, 1]}, {\"colorscale\": [[0.0, \"#00FE35\"], [1.0, \"#00FE35\"]], \"geo\": \"geo\", \"hovertemplate\": \"<b>%{hovertext}</b><br><br>color=European Union<br>locations=%{location}<extra></extra>\", \"hovertext\": [\"\\u00c5land Islands\", \"Austria\", \"Belgium\", \"Bulgaria\", \"Croatia\", \"Cyprus\", \"Czech Republic\", \"Denmark\", \"Estonia\", \"Faroe Islands\", \"Finland\", \"France\", \"Germany\", \"Gibraltar\", \"Greece\", \"Hungary\", \"Ireland\", \"Isle of Man\", \"Italy\", \"Latvia\", \"Lithuania\", \"Luxembourg\", \"Malta\", \"Netherlands\", \"Poland\", \"Portugal\", \"Romania\", \"Slovakia\", \"Slovenia\", \"Spain\", \"Sweden\", \"United Kingdom of Great Britain and Northern Ireland\"], \"locations\": [\"ALA\", \"AUT\", \"BEL\", \"BGR\", \"HRV\", \"CYP\", \"CZE\", \"DNK\", \"EST\", \"FRO\", \"FIN\", \"FRA\", \"DEU\", \"GIB\", \"GRC\", \"HUN\", \"IRL\", \"IMN\", \"ITA\", \"LVA\", \"LTU\", \"LUX\", \"MLT\", \"NLD\", \"POL\", \"PRT\", \"ROU\", \"SVK\", \"SVN\", \"ESP\", \"SWE\", \"GBR\"], \"name\": \"European Union\", \"showlegend\": true, \"showscale\": false, \"type\": \"choropleth\", \"z\": [1, 1, 1, 1, 1, 1, 1, 1, 1, 1, 1, 1, 1, 1, 1, 1, 1, 1, 1, 1, 1, 1, 1, 1, 1, 1, 1, 1, 1, 1, 1, 1]}, {\"colorscale\": [[0.0, \"#6A76FC\"], [1.0, \"#6A76FC\"]], \"geo\": \"geo\", \"hovertemplate\": \"<b>%{hovertext}</b><br><br>color=Central European Free Trade Agreement<br>locations=%{location}<extra></extra>\", \"hovertext\": [\"Albania\", \"Bosnia and Herzegovina\", \"Macedonia (the former Yugoslav Republic of)\", \"Moldova (Republic of)\", \"Montenegro\", \"Republic of Kosovo\", \"Serbia\"], \"locations\": [\"ALB\", \"BIH\", \"MKD\", \"MDA\", \"MNE\", \"KOS\", \"SRB\"], \"name\": \"Central European Free Trade Agreement\", \"showlegend\": true, \"showscale\": false, \"type\": \"choropleth\", \"z\": [1, 1, 1, 1, 1, 1, 1]}, {\"colorscale\": [[0.0, \"#FED4C4\"], [1.0, \"#FED4C4\"]], \"geo\": \"geo\", \"hovertemplate\": \"<b>%{hovertext}</b><br><br>color=African UnionArab League<br>locations=%{location}<extra></extra>\", \"hovertext\": [\"Algeria\", \"Comoros\", \"Djibouti\", \"Egypt\", \"Libya\", \"Mauritania\", \"Morocco\", \"Somalia\", \"Sudan\", \"Tunisia\"], \"locations\": [\"DZA\", \"COM\", \"DJI\", \"EGY\", \"LBY\", \"MRT\", \"MAR\", \"SOM\", \"SDN\", \"TUN\"], \"name\": \"African UnionArab League\", \"showlegend\": true, \"showscale\": false, \"type\": \"choropleth\", \"z\": [1, 1, 1, 1, 1, 1, 1, 1, 1, 1]}, {\"colorscale\": [[0.0, \"#FE00CE\"], [1.0, \"#FE00CE\"]], \"geo\": \"geo\", \"hovertemplate\": \"<b>%{hovertext}</b><br><br>color=African Union<br>locations=%{location}<extra></extra>\", \"hovertext\": [\"Angola\", \"Benin\", \"Botswana\", \"British Indian Ocean Territory\", \"Burkina Faso\", \"Burundi\", \"Cameroon\", \"Cabo Verde\", \"Central African Republic\", \"Chad\", \"Congo\", \"Congo (Democratic Republic of the)\", \"Equatorial Guinea\", \"Eritrea\", \"Ethiopia\", \"French Southern Territories\", \"Gabon\", \"Gambia\", \"Ghana\", \"Guinea\", \"Guinea-Bissau\", \"C\\u00f4te d'Ivoire\", \"Kenya\", \"Lesotho\", \"Liberia\", \"Madagascar\", \"Malawi\", \"Mali\", \"Mauritius\", \"Mayotte\", \"Mozambique\", \"Namibia\", \"Niger\", \"Nigeria\", \"R\\u00e9union\", \"Rwanda\", \"Saint Helena, Ascension and Tristan da Cunha\", \"Sao Tome and Principe\", \"Senegal\", \"Seychelles\", \"Sierra Leone\", \"South Africa\", \"South Sudan\", \"Swaziland\", \"Tanzania, United Republic of\", \"Togo\", \"Uganda\", \"Western Sahara\", \"Zambia\", \"Zimbabwe\"], \"locations\": [\"AGO\", \"BEN\", \"BWA\", \"IOT\", \"BFA\", \"BDI\", \"CMR\", \"CPV\", \"CAF\", \"TCD\", \"COG\", \"COD\", \"GNQ\", \"ERI\", \"ETH\", \"ATF\", \"GAB\", \"GMB\", \"GHA\", \"GIN\", \"GNB\", \"CIV\", \"KEN\", \"LSO\", \"LBR\", \"MDG\", \"MWI\", \"MLI\", \"MUS\", \"MYT\", \"MOZ\", \"NAM\", \"NER\", \"NGA\", \"REU\", \"RWA\", \"SHN\", \"STP\", \"SEN\", \"SYC\", \"SLE\", \"ZAF\", \"SSD\", \"SWZ\", \"TZA\", \"TGO\", \"UGA\", \"ESH\", \"ZMB\", \"ZWE\"], \"name\": \"African Union\", \"showlegend\": true, \"showscale\": false, \"type\": \"choropleth\", \"z\": [1, 1, 1, 1, 1, 1, 1, 1, 1, 1, 1, 1, 1, 1, 1, 1, 1, 1, 1, 1, 1, 1, 1, 1, 1, 1, 1, 1, 1, 1, 1, 1, 1, 1, 1, 1, 1, 1, 1, 1, 1, 1, 1, 1, 1, 1, 1, 1, 1, 1]}, {\"colorscale\": [[0.0, \"#0DF9FF\"], [1.0, \"#0DF9FF\"]], \"geo\": \"geo\", \"hovertemplate\": \"<b>%{hovertext}</b><br><br>color=Caribbean Community<br>locations=%{location}<extra></extra>\", \"hovertext\": [\"Antigua and Barbuda\", \"Bahamas\", \"Barbados\", \"Grenada\", \"Haiti\", \"Jamaica\", \"Montserrat\", \"Saint Kitts and Nevis\", \"Saint Lucia\", \"Saint Vincent and the Grenadines\", \"Trinidad and Tobago\"], \"locations\": [\"ATG\", \"BHS\", \"BRB\", \"GRD\", \"HTI\", \"JAM\", \"MSR\", \"KNA\", \"LCA\", \"VCT\", \"TTO\"], \"name\": \"Caribbean Community\", \"showlegend\": true, \"showscale\": false, \"type\": \"choropleth\", \"z\": [1, 1, 1, 1, 1, 1, 1, 1, 1, 1, 1]}, {\"colorscale\": [[0.0, \"#F6F926\"], [1.0, \"#F6F926\"]], \"geo\": \"geo\", \"hovertemplate\": \"<b>%{hovertext}</b><br><br>color=Union of South American Nations<br>locations=%{location}<extra></extra>\", \"hovertext\": [\"Argentina\", \"Bolivia (Plurinational State of)\", \"Brazil\", \"Ecuador\", \"Falkland Islands (Malvinas)\", \"Paraguay\", \"South Georgia and the South Sandwich Islands\", \"Uruguay\", \"Venezuela (Bolivarian Republic of)\"], \"locations\": [\"ARG\", \"BOL\", \"BRA\", \"ECU\", \"FLK\", \"PRY\", \"SGS\", \"URY\", \"VEN\"], \"name\": \"Union of South American Nations\", \"showlegend\": true, \"showscale\": false, \"type\": \"choropleth\", \"z\": [1, 1, 1, 1, 1, 1, 1, 1, 1]}, {\"colorscale\": [[0.0, \"#FF9616\"], [1.0, \"#FF9616\"]], \"geo\": \"geo\", \"hovertemplate\": \"<b>%{hovertext}</b><br><br>color=Eurasian Economic Union<br>locations=%{location}<extra></extra>\", \"hovertext\": [\"Armenia\", \"Belarus\", \"Kazakhstan\", \"Kyrgyzstan\", \"Russian Federation\"], \"locations\": [\"ARM\", \"BLR\", \"KAZ\", \"KGZ\", \"RUS\"], \"name\": \"Eurasian Economic Union\", \"showlegend\": true, \"showscale\": false, \"type\": \"choropleth\", \"z\": [1, 1, 1, 1, 1]}, {\"colorscale\": [[0.0, \"#479B55\"], [1.0, \"#479B55\"]], \"geo\": \"geo\", \"hovertemplate\": \"<b>%{hovertext}</b><br><br>color=Arab League<br>locations=%{location}<extra></extra>\", \"hovertext\": [\"Bahrain\", \"Iraq\", \"Jordan\", \"Kuwait\", \"Lebanon\", \"Oman\", \"Palestine, State of\", \"Qatar\", \"Saudi Arabia\", \"Syrian Arab Republic\", \"United Arab Emirates\", \"Yemen\"], \"locations\": [\"BHR\", \"IRQ\", \"JOR\", \"KWT\", \"LBN\", \"OMN\", \"PSE\", \"QAT\", \"SAU\", \"SYR\", \"ARE\", \"YEM\"], \"name\": \"Arab League\", \"showlegend\": true, \"showscale\": false, \"type\": \"choropleth\", \"z\": [1, 1, 1, 1, 1, 1, 1, 1, 1, 1, 1, 1]}, {\"colorscale\": [[0.0, \"#EEA6FB\"], [1.0, \"#EEA6FB\"]], \"geo\": \"geo\", \"hovertemplate\": \"<b>%{hovertext}</b><br><br>color=Caribbean CommunityCentral American Integration System<br>locations=%{location}<extra></extra>\", \"hovertext\": [\"Belize\", \"Dominican Republic\"], \"locations\": [\"BLZ\", \"DOM\"], \"name\": \"Caribbean CommunityCentral American Integration System\", \"showlegend\": true, \"showscale\": false, \"type\": \"choropleth\", \"z\": [1, 1]}, {\"colorscale\": [[0.0, \"#DC587D\"], [1.0, \"#DC587D\"]], \"geo\": \"geo\", \"hovertemplate\": \"<b>%{hovertext}</b><br><br>color=Association of Southeast Asian Nations<br>locations=%{location}<extra></extra>\", \"hovertext\": [\"Brunei Darussalam\", \"Cambodia\", \"Indonesia\", \"Lao People's Democratic Republic\", \"Malaysia\", \"Myanmar\", \"Philippines\", \"Singapore\", \"Thailand\", \"Viet Nam\"], \"locations\": [\"BRN\", \"KHM\", \"IDN\", \"LAO\", \"MYS\", \"MMR\", \"PHL\", \"SGP\", \"THA\", \"VNM\"], \"name\": \"Association of Southeast Asian Nations\", \"showlegend\": true, \"showscale\": false, \"type\": \"choropleth\", \"z\": [1, 1, 1, 1, 1, 1, 1, 1, 1, 1]}, {\"colorscale\": [[0.0, \"#D626FF\"], [1.0, \"#D626FF\"]], \"geo\": \"geo\", \"hovertemplate\": \"<b>%{hovertext}</b><br><br>color=North American Free Trade Agreement<br>locations=%{location}<extra></extra>\", \"hovertext\": [\"Canada\", \"United States of America\"], \"locations\": [\"CAN\", \"USA\"], \"name\": \"North American Free Trade Agreement\", \"showlegend\": true, \"showscale\": false, \"type\": \"choropleth\", \"z\": [1, 1]}, {\"colorscale\": [[0.0, \"#6E899C\"], [1.0, \"#6E899C\"]], \"geo\": \"geo\", \"hovertemplate\": \"<b>%{hovertext}</b><br><br>color=Pacific AllianceUnion of South American Nations<br>locations=%{location}<extra></extra>\", \"hovertext\": [\"Chile\", \"Colombia\", \"Peru\"], \"locations\": [\"CHL\", \"COL\", \"PER\"], \"name\": \"Pacific AllianceUnion of South American Nations\", \"showlegend\": true, \"showscale\": false, \"type\": \"choropleth\", \"z\": [1, 1, 1]}, {\"colorscale\": [[0.0, \"#00B5F7\"], [1.0, \"#00B5F7\"]], \"geo\": \"geo\", \"hovertemplate\": \"<b>%{hovertext}</b><br><br>color=Central American Integration System<br>locations=%{location}<extra></extra>\", \"hovertext\": [\"Costa Rica\", \"El Salvador\", \"Guatemala\", \"Honduras\", \"Nicaragua\", \"Panama\"], \"locations\": [\"CRI\", \"SLV\", \"GTM\", \"HND\", \"NIC\", \"PAN\"], \"name\": \"Central American Integration System\", \"showlegend\": true, \"showscale\": false, \"type\": \"choropleth\", \"z\": [1, 1, 1, 1, 1, 1]}, {\"colorscale\": [[0.0, \"#B68E00\"], [1.0, \"#B68E00\"]], \"geo\": \"geo\", \"hovertemplate\": \"<b>%{hovertext}</b><br><br>color=Union of South American NationsEuropean Union<br>locations=%{location}<extra></extra>\", \"hovertext\": [\"French Guiana\"], \"locations\": [\"GUF\"], \"name\": \"Union of South American NationsEuropean Union\", \"showlegend\": true, \"showscale\": false, \"type\": \"choropleth\", \"z\": [1]}, {\"colorscale\": [[0.0, \"#C9FBE5\"], [1.0, \"#C9FBE5\"]], \"geo\": \"geo\", \"hovertemplate\": \"<b>%{hovertext}</b><br><br>color=Caribbean CommunityUnion of South American Nations<br>locations=%{location}<extra></extra>\", \"hovertext\": [\"Guyana\", \"Suriname\"], \"locations\": [\"GUY\", \"SUR\"], \"name\": \"Caribbean CommunityUnion of South American Nations\", \"showlegend\": true, \"showscale\": false, \"type\": \"choropleth\", \"z\": [1, 1]}, {\"colorscale\": [[0.0, \"#FF0092\"], [1.0, \"#FF0092\"]], \"geo\": \"geo\", \"hovertemplate\": \"<b>%{hovertext}</b><br><br>color=European Free Trade Association<br>locations=%{location}<extra></extra>\", \"hovertext\": [\"Iceland\", \"Liechtenstein\", \"Norway\", \"Switzerland\"], \"locations\": [\"ISL\", \"LIE\", \"NOR\", \"CHE\"], \"name\": \"European Free Trade Association\", \"showlegend\": true, \"showscale\": false, \"type\": \"choropleth\", \"z\": [1, 1, 1, 1]}, {\"colorscale\": [[0.0, \"#22FFA7\"], [1.0, \"#22FFA7\"]], \"geo\": \"geo\", \"hovertemplate\": \"<b>%{hovertext}</b><br><br>color=Pacific AllianceNorth American Free Trade Agreement<br>locations=%{location}<extra></extra>\", \"hovertext\": [\"Mexico\"], \"locations\": [\"MEX\"], \"name\": \"Pacific AllianceNorth American Free Trade Agreement\", \"showlegend\": true, \"showscale\": false, \"type\": \"choropleth\", \"z\": [1]}],\n",
       "                        {\"geo\": {\"center\": {}, \"domain\": {\"x\": [0.0, 1.0], \"y\": [0.0, 1.0]}, \"projection\": {\"type\": \"equirectangular\"}, \"showcoastlines\": false, \"showframe\": false}, \"legend\": {\"title\": {\"text\": \"color\"}, \"tracegroupgap\": 0}, \"margin\": {\"t\": 60}, \"template\": {\"data\": {\"bar\": [{\"error_x\": {\"color\": \"#2a3f5f\"}, \"error_y\": {\"color\": \"#2a3f5f\"}, \"marker\": {\"line\": {\"color\": \"#E5ECF6\", \"width\": 0.5}}, \"type\": \"bar\"}], \"barpolar\": [{\"marker\": {\"line\": {\"color\": \"#E5ECF6\", \"width\": 0.5}}, \"type\": \"barpolar\"}], \"carpet\": [{\"aaxis\": {\"endlinecolor\": \"#2a3f5f\", \"gridcolor\": \"white\", \"linecolor\": \"white\", \"minorgridcolor\": \"white\", \"startlinecolor\": \"#2a3f5f\"}, \"baxis\": {\"endlinecolor\": \"#2a3f5f\", \"gridcolor\": \"white\", \"linecolor\": \"white\", \"minorgridcolor\": \"white\", \"startlinecolor\": \"#2a3f5f\"}, \"type\": \"carpet\"}], \"choropleth\": [{\"colorbar\": {\"outlinewidth\": 0, \"ticks\": \"\"}, \"type\": \"choropleth\"}], \"contour\": [{\"colorbar\": {\"outlinewidth\": 0, \"ticks\": \"\"}, \"colorscale\": [[0.0, \"#0d0887\"], [0.1111111111111111, \"#46039f\"], [0.2222222222222222, \"#7201a8\"], [0.3333333333333333, \"#9c179e\"], [0.4444444444444444, \"#bd3786\"], [0.5555555555555556, \"#d8576b\"], [0.6666666666666666, \"#ed7953\"], [0.7777777777777778, \"#fb9f3a\"], [0.8888888888888888, \"#fdca26\"], [1.0, \"#f0f921\"]], \"type\": \"contour\"}], \"contourcarpet\": [{\"colorbar\": {\"outlinewidth\": 0, \"ticks\": \"\"}, \"type\": \"contourcarpet\"}], \"heatmap\": [{\"colorbar\": {\"outlinewidth\": 0, \"ticks\": \"\"}, \"colorscale\": [[0.0, \"#0d0887\"], [0.1111111111111111, \"#46039f\"], [0.2222222222222222, \"#7201a8\"], [0.3333333333333333, \"#9c179e\"], [0.4444444444444444, \"#bd3786\"], [0.5555555555555556, \"#d8576b\"], [0.6666666666666666, \"#ed7953\"], [0.7777777777777778, \"#fb9f3a\"], [0.8888888888888888, \"#fdca26\"], [1.0, \"#f0f921\"]], \"type\": \"heatmap\"}], \"heatmapgl\": [{\"colorbar\": {\"outlinewidth\": 0, \"ticks\": \"\"}, \"colorscale\": [[0.0, \"#0d0887\"], [0.1111111111111111, \"#46039f\"], [0.2222222222222222, \"#7201a8\"], [0.3333333333333333, \"#9c179e\"], [0.4444444444444444, \"#bd3786\"], [0.5555555555555556, \"#d8576b\"], [0.6666666666666666, \"#ed7953\"], [0.7777777777777778, \"#fb9f3a\"], [0.8888888888888888, \"#fdca26\"], [1.0, \"#f0f921\"]], \"type\": \"heatmapgl\"}], \"histogram\": [{\"marker\": {\"colorbar\": {\"outlinewidth\": 0, \"ticks\": \"\"}}, \"type\": \"histogram\"}], \"histogram2d\": [{\"colorbar\": {\"outlinewidth\": 0, \"ticks\": \"\"}, \"colorscale\": [[0.0, \"#0d0887\"], [0.1111111111111111, \"#46039f\"], [0.2222222222222222, \"#7201a8\"], [0.3333333333333333, \"#9c179e\"], [0.4444444444444444, \"#bd3786\"], [0.5555555555555556, \"#d8576b\"], [0.6666666666666666, \"#ed7953\"], [0.7777777777777778, \"#fb9f3a\"], [0.8888888888888888, \"#fdca26\"], [1.0, \"#f0f921\"]], \"type\": \"histogram2d\"}], \"histogram2dcontour\": [{\"colorbar\": {\"outlinewidth\": 0, \"ticks\": \"\"}, \"colorscale\": [[0.0, \"#0d0887\"], [0.1111111111111111, \"#46039f\"], [0.2222222222222222, \"#7201a8\"], [0.3333333333333333, \"#9c179e\"], [0.4444444444444444, \"#bd3786\"], [0.5555555555555556, \"#d8576b\"], [0.6666666666666666, \"#ed7953\"], [0.7777777777777778, \"#fb9f3a\"], [0.8888888888888888, \"#fdca26\"], [1.0, \"#f0f921\"]], \"type\": \"histogram2dcontour\"}], \"mesh3d\": [{\"colorbar\": {\"outlinewidth\": 0, \"ticks\": \"\"}, \"type\": \"mesh3d\"}], \"parcoords\": [{\"line\": {\"colorbar\": {\"outlinewidth\": 0, \"ticks\": \"\"}}, \"type\": \"parcoords\"}], \"pie\": [{\"automargin\": true, \"type\": \"pie\"}], \"scatter\": [{\"marker\": {\"colorbar\": {\"outlinewidth\": 0, \"ticks\": \"\"}}, \"type\": \"scatter\"}], \"scatter3d\": [{\"line\": {\"colorbar\": {\"outlinewidth\": 0, \"ticks\": \"\"}}, \"marker\": {\"colorbar\": {\"outlinewidth\": 0, \"ticks\": \"\"}}, \"type\": \"scatter3d\"}], \"scattercarpet\": [{\"marker\": {\"colorbar\": {\"outlinewidth\": 0, \"ticks\": \"\"}}, \"type\": \"scattercarpet\"}], \"scattergeo\": [{\"marker\": {\"colorbar\": {\"outlinewidth\": 0, \"ticks\": \"\"}}, \"type\": \"scattergeo\"}], \"scattergl\": [{\"marker\": {\"colorbar\": {\"outlinewidth\": 0, \"ticks\": \"\"}}, \"type\": \"scattergl\"}], \"scattermapbox\": [{\"marker\": {\"colorbar\": {\"outlinewidth\": 0, \"ticks\": \"\"}}, \"type\": \"scattermapbox\"}], \"scatterpolar\": [{\"marker\": {\"colorbar\": {\"outlinewidth\": 0, \"ticks\": \"\"}}, \"type\": \"scatterpolar\"}], \"scatterpolargl\": [{\"marker\": {\"colorbar\": {\"outlinewidth\": 0, \"ticks\": \"\"}}, \"type\": \"scatterpolargl\"}], \"scatterternary\": [{\"marker\": {\"colorbar\": {\"outlinewidth\": 0, \"ticks\": \"\"}}, \"type\": \"scatterternary\"}], \"surface\": [{\"colorbar\": {\"outlinewidth\": 0, \"ticks\": \"\"}, \"colorscale\": [[0.0, \"#0d0887\"], [0.1111111111111111, \"#46039f\"], [0.2222222222222222, \"#7201a8\"], [0.3333333333333333, \"#9c179e\"], [0.4444444444444444, \"#bd3786\"], [0.5555555555555556, \"#d8576b\"], [0.6666666666666666, \"#ed7953\"], [0.7777777777777778, \"#fb9f3a\"], [0.8888888888888888, \"#fdca26\"], [1.0, \"#f0f921\"]], \"type\": \"surface\"}], \"table\": [{\"cells\": {\"fill\": {\"color\": \"#EBF0F8\"}, \"line\": {\"color\": \"white\"}}, \"header\": {\"fill\": {\"color\": \"#C8D4E3\"}, \"line\": {\"color\": \"white\"}}, \"type\": \"table\"}]}, \"layout\": {\"annotationdefaults\": {\"arrowcolor\": \"#2a3f5f\", \"arrowhead\": 0, \"arrowwidth\": 1}, \"coloraxis\": {\"colorbar\": {\"outlinewidth\": 0, \"ticks\": \"\"}}, \"colorscale\": {\"diverging\": [[0, \"#8e0152\"], [0.1, \"#c51b7d\"], [0.2, \"#de77ae\"], [0.3, \"#f1b6da\"], [0.4, \"#fde0ef\"], [0.5, \"#f7f7f7\"], [0.6, \"#e6f5d0\"], [0.7, \"#b8e186\"], [0.8, \"#7fbc41\"], [0.9, \"#4d9221\"], [1, \"#276419\"]], \"sequential\": [[0.0, \"#0d0887\"], [0.1111111111111111, \"#46039f\"], [0.2222222222222222, \"#7201a8\"], [0.3333333333333333, \"#9c179e\"], [0.4444444444444444, \"#bd3786\"], [0.5555555555555556, \"#d8576b\"], [0.6666666666666666, \"#ed7953\"], [0.7777777777777778, \"#fb9f3a\"], [0.8888888888888888, \"#fdca26\"], [1.0, \"#f0f921\"]], \"sequentialminus\": [[0.0, \"#0d0887\"], [0.1111111111111111, \"#46039f\"], [0.2222222222222222, \"#7201a8\"], [0.3333333333333333, \"#9c179e\"], [0.4444444444444444, \"#bd3786\"], [0.5555555555555556, \"#d8576b\"], [0.6666666666666666, \"#ed7953\"], [0.7777777777777778, \"#fb9f3a\"], [0.8888888888888888, \"#fdca26\"], [1.0, \"#f0f921\"]]}, \"colorway\": [\"#636efa\", \"#EF553B\", \"#00cc96\", \"#ab63fa\", \"#FFA15A\", \"#19d3f3\", \"#FF6692\", \"#B6E880\", \"#FF97FF\", \"#FECB52\"], \"font\": {\"color\": \"#2a3f5f\"}, \"geo\": {\"bgcolor\": \"white\", \"lakecolor\": \"white\", \"landcolor\": \"#E5ECF6\", \"showlakes\": true, \"showland\": true, \"subunitcolor\": \"white\"}, \"hoverlabel\": {\"align\": \"left\"}, \"hovermode\": \"closest\", \"mapbox\": {\"style\": \"light\"}, \"paper_bgcolor\": \"white\", \"plot_bgcolor\": \"#E5ECF6\", \"polar\": {\"angularaxis\": {\"gridcolor\": \"white\", \"linecolor\": \"white\", \"ticks\": \"\"}, \"bgcolor\": \"#E5ECF6\", \"radialaxis\": {\"gridcolor\": \"white\", \"linecolor\": \"white\", \"ticks\": \"\"}}, \"scene\": {\"xaxis\": {\"backgroundcolor\": \"#E5ECF6\", \"gridcolor\": \"white\", \"gridwidth\": 2, \"linecolor\": \"white\", \"showbackground\": true, \"ticks\": \"\", \"zerolinecolor\": \"white\"}, \"yaxis\": {\"backgroundcolor\": \"#E5ECF6\", \"gridcolor\": \"white\", \"gridwidth\": 2, \"linecolor\": \"white\", \"showbackground\": true, \"ticks\": \"\", \"zerolinecolor\": \"white\"}, \"zaxis\": {\"backgroundcolor\": \"#E5ECF6\", \"gridcolor\": \"white\", \"gridwidth\": 2, \"linecolor\": \"white\", \"showbackground\": true, \"ticks\": \"\", \"zerolinecolor\": \"white\"}}, \"shapedefaults\": {\"line\": {\"color\": \"#2a3f5f\"}}, \"ternary\": {\"aaxis\": {\"gridcolor\": \"white\", \"linecolor\": \"white\", \"ticks\": \"\"}, \"baxis\": {\"gridcolor\": \"white\", \"linecolor\": \"white\", \"ticks\": \"\"}, \"bgcolor\": \"#E5ECF6\", \"caxis\": {\"gridcolor\": \"white\", \"linecolor\": \"white\", \"ticks\": \"\"}}, \"title\": {\"x\": 0.05}, \"xaxis\": {\"automargin\": true, \"gridcolor\": \"white\", \"linecolor\": \"white\", \"ticks\": \"\", \"title\": {\"standoff\": 15}, \"zerolinecolor\": \"white\", \"zerolinewidth\": 2}, \"yaxis\": {\"automargin\": true, \"gridcolor\": \"white\", \"linecolor\": \"white\", \"ticks\": \"\", \"title\": {\"standoff\": 15}, \"zerolinecolor\": \"white\", \"zerolinewidth\": 2}}}, \"title\": {\"text\": \"Regional Blocs\"}},\n",
       "                        {\"responsive\": true}\n",
       "                    ).then(function(){\n",
       "                            \n",
       "var gd = document.getElementById('9cfda1d2-ebcf-431b-a6b4-46e9a2750d50');\n",
       "var x = new MutationObserver(function (mutations, observer) {{\n",
       "        var display = window.getComputedStyle(gd).display;\n",
       "        if (!display || display === 'none') {{\n",
       "            console.log([gd, 'removed!']);\n",
       "            Plotly.purge(gd);\n",
       "            observer.disconnect();\n",
       "        }}\n",
       "}});\n",
       "\n",
       "// Listen for the removal of the full notebook cells\n",
       "var notebookContainer = gd.closest('#notebook-container');\n",
       "if (notebookContainer) {{\n",
       "    x.observe(notebookContainer, {childList: true});\n",
       "}}\n",
       "\n",
       "// Listen for the clearing of the current output cell\n",
       "var outputEl = gd.closest('.output');\n",
       "if (outputEl) {{\n",
       "    x.observe(outputEl, {childList: true});\n",
       "}}\n",
       "\n",
       "                        })\n",
       "                };\n",
       "                });\n",
       "            </script>\n",
       "        </div>"
      ]
     },
     "metadata": {},
     "output_type": "display_data"
    },
    {
     "data": {
      "application/vnd.plotly.v1+json": {
       "config": {
        "plotlyServerURL": "https://plot.ly"
       },
       "data": [
        {
         "boxpoints": "outliers",
         "marker": {
          "color": "#FD3216"
         },
         "name": "South Asian Association for Regional Cooperation",
         "type": "box",
         "y": [
          27.8,
          32.1,
          38.1,
          33.4,
          37.4,
          32.8,
          30,
          40.3
         ]
        },
        {
         "boxpoints": "outliers",
         "marker": {
          "color": "#00FE35"
         },
         "name": "European Union",
         "type": "box",
         "y": [
          null,
          26,
          33,
          28.2,
          33.7,
          null,
          26,
          24,
          36,
          null,
          26.9,
          32.7,
          28.3,
          null,
          34.3,
          31.2,
          34.3,
          null,
          36,
          36.6,
          37.6,
          30.8,
          null,
          30.9,
          34.1,
          38.5,
          30,
          26,
          31.2,
          34.7,
          25,
          34
         ]
        },
        {
         "boxpoints": "outliers",
         "marker": {
          "color": "#6A76FC"
         },
         "name": "Central European Free Trade Agreement",
         "type": "box",
         "y": [
          34.5,
          36.2,
          43.2,
          33,
          30,
          null,
          27.8
         ]
        },
        {
         "boxpoints": "outliers",
         "marker": {
          "color": "#FED4C4"
         },
         "name": "African UnionArab League",
         "type": "box",
         "y": [
          35.3,
          64.3,
          40,
          30.8,
          null,
          40.5,
          40.9,
          null,
          35.3,
          41.4
         ]
        },
        {
         "boxpoints": "outliers",
         "marker": {
          "color": "#FE00CE"
         },
         "name": "African Union",
         "type": "box",
         "y": [
          58.6,
          38.6,
          61,
          null,
          39.8,
          33.3,
          38.9,
          50.5,
          56.3,
          39.8,
          47.3,
          null,
          null,
          null,
          29.8,
          null,
          41.5,
          null,
          42.8,
          39.4,
          35.5,
          41.5,
          47.7,
          52.5,
          38.2,
          44.1,
          39,
          33,
          null,
          null,
          45.7,
          63.9,
          34.6,
          48.8,
          null,
          50.8,
          null,
          50.8,
          39.2,
          65.8,
          42.5,
          63.1,
          45.5,
          51.5,
          37.6,
          34.4,
          44.3,
          null,
          54.6,
          null
         ]
        },
        {
         "boxpoints": "outliers",
         "marker": {
          "color": "#0DF9FF"
         },
         "name": "Caribbean Community",
         "type": "box",
         "y": [
          null,
          null,
          null,
          null,
          59.2,
          45.5,
          null,
          null,
          42.6,
          null,
          40.3
         ]
        },
        {
         "boxpoints": "outliers",
         "marker": {
          "color": "#F6F926"
         },
         "name": "Union of South American Nations",
         "type": "box",
         "y": [
          44.5,
          56.3,
          54.7,
          49.3,
          null,
          52.4,
          null,
          39.7,
          44.8
         ]
        },
        {
         "boxpoints": "outliers",
         "marker": {
          "color": "#FF9616"
         },
         "name": "Eurasian Economic Union",
         "type": "box",
         "y": [
          30.9,
          26.5,
          29,
          36.2,
          40.1
         ]
        },
        {
         "boxpoints": "outliers",
         "marker": {
          "color": "#479B55"
         },
         "name": "Arab League",
         "type": "box",
         "y": [
          null,
          30.9,
          35.4,
          null,
          null,
          null,
          35.5,
          41.1,
          null,
          35.8,
          null,
          37.7
         ]
        },
        {
         "boxpoints": "outliers",
         "marker": {
          "color": "#EEA6FB"
         },
         "name": "Caribbean CommunityCentral American Integration System",
         "type": "box",
         "y": [
          53.1,
          47.2
         ]
        },
        {
         "boxpoints": "outliers",
         "marker": {
          "color": "#DC587D"
         },
         "name": "Association of Southeast Asian Nations",
         "type": "box",
         "y": [
          null,
          37.9,
          34,
          36.7,
          46.2,
          null,
          43,
          48.1,
          40,
          35.6
         ]
        },
        {
         "boxpoints": "outliers",
         "marker": {
          "color": "#D626FF"
         },
         "name": "North American Free Trade Agreement",
         "type": "box",
         "y": [
          32.6,
          48
         ]
        },
        {
         "boxpoints": "outliers",
         "marker": {
          "color": "#6E899C"
         },
         "name": "Pacific AllianceUnion of South American Nations",
         "type": "box",
         "y": [
          52.1,
          55.9,
          48.1
         ]
        },
        {
         "boxpoints": "outliers",
         "marker": {
          "color": "#00B5F7"
         },
         "name": "Central American Integration System",
         "type": "box",
         "y": [
          50.7,
          48.3,
          55.9,
          57,
          40.5,
          51.9
         ]
        },
        {
         "boxpoints": "outliers",
         "marker": {
          "color": "#B68E00"
         },
         "name": "Union of South American NationsEuropean Union",
         "type": "box",
         "y": [
          null
         ]
        },
        {
         "boxpoints": "outliers",
         "marker": {
          "color": "#C9FBE5"
         },
         "name": "Caribbean CommunityUnion of South American Nations",
         "type": "box",
         "y": [
          44.5,
          52.9
         ]
        },
        {
         "boxpoints": "outliers",
         "marker": {
          "color": "#FF0092"
         },
         "name": "European Free Trade Association",
         "type": "box",
         "y": [
          null,
          null,
          25.8,
          33.7
         ]
        },
        {
         "boxpoints": "outliers",
         "marker": {
          "color": "#22FFA7"
         },
         "name": "Pacific AllianceNorth American Free Trade Agreement",
         "type": "box",
         "y": [
          47
         ]
        }
       ],
       "layout": {
        "autosize": false,
        "height": 600,
        "template": {
         "data": {
          "bar": [
           {
            "error_x": {
             "color": "#2a3f5f"
            },
            "error_y": {
             "color": "#2a3f5f"
            },
            "marker": {
             "line": {
              "color": "#E5ECF6",
              "width": 0.5
             }
            },
            "type": "bar"
           }
          ],
          "barpolar": [
           {
            "marker": {
             "line": {
              "color": "#E5ECF6",
              "width": 0.5
             }
            },
            "type": "barpolar"
           }
          ],
          "carpet": [
           {
            "aaxis": {
             "endlinecolor": "#2a3f5f",
             "gridcolor": "white",
             "linecolor": "white",
             "minorgridcolor": "white",
             "startlinecolor": "#2a3f5f"
            },
            "baxis": {
             "endlinecolor": "#2a3f5f",
             "gridcolor": "white",
             "linecolor": "white",
             "minorgridcolor": "white",
             "startlinecolor": "#2a3f5f"
            },
            "type": "carpet"
           }
          ],
          "choropleth": [
           {
            "colorbar": {
             "outlinewidth": 0,
             "ticks": ""
            },
            "type": "choropleth"
           }
          ],
          "contour": [
           {
            "colorbar": {
             "outlinewidth": 0,
             "ticks": ""
            },
            "colorscale": [
             [
              0,
              "#0d0887"
             ],
             [
              0.1111111111111111,
              "#46039f"
             ],
             [
              0.2222222222222222,
              "#7201a8"
             ],
             [
              0.3333333333333333,
              "#9c179e"
             ],
             [
              0.4444444444444444,
              "#bd3786"
             ],
             [
              0.5555555555555556,
              "#d8576b"
             ],
             [
              0.6666666666666666,
              "#ed7953"
             ],
             [
              0.7777777777777778,
              "#fb9f3a"
             ],
             [
              0.8888888888888888,
              "#fdca26"
             ],
             [
              1,
              "#f0f921"
             ]
            ],
            "type": "contour"
           }
          ],
          "contourcarpet": [
           {
            "colorbar": {
             "outlinewidth": 0,
             "ticks": ""
            },
            "type": "contourcarpet"
           }
          ],
          "heatmap": [
           {
            "colorbar": {
             "outlinewidth": 0,
             "ticks": ""
            },
            "colorscale": [
             [
              0,
              "#0d0887"
             ],
             [
              0.1111111111111111,
              "#46039f"
             ],
             [
              0.2222222222222222,
              "#7201a8"
             ],
             [
              0.3333333333333333,
              "#9c179e"
             ],
             [
              0.4444444444444444,
              "#bd3786"
             ],
             [
              0.5555555555555556,
              "#d8576b"
             ],
             [
              0.6666666666666666,
              "#ed7953"
             ],
             [
              0.7777777777777778,
              "#fb9f3a"
             ],
             [
              0.8888888888888888,
              "#fdca26"
             ],
             [
              1,
              "#f0f921"
             ]
            ],
            "type": "heatmap"
           }
          ],
          "heatmapgl": [
           {
            "colorbar": {
             "outlinewidth": 0,
             "ticks": ""
            },
            "colorscale": [
             [
              0,
              "#0d0887"
             ],
             [
              0.1111111111111111,
              "#46039f"
             ],
             [
              0.2222222222222222,
              "#7201a8"
             ],
             [
              0.3333333333333333,
              "#9c179e"
             ],
             [
              0.4444444444444444,
              "#bd3786"
             ],
             [
              0.5555555555555556,
              "#d8576b"
             ],
             [
              0.6666666666666666,
              "#ed7953"
             ],
             [
              0.7777777777777778,
              "#fb9f3a"
             ],
             [
              0.8888888888888888,
              "#fdca26"
             ],
             [
              1,
              "#f0f921"
             ]
            ],
            "type": "heatmapgl"
           }
          ],
          "histogram": [
           {
            "marker": {
             "colorbar": {
              "outlinewidth": 0,
              "ticks": ""
             }
            },
            "type": "histogram"
           }
          ],
          "histogram2d": [
           {
            "colorbar": {
             "outlinewidth": 0,
             "ticks": ""
            },
            "colorscale": [
             [
              0,
              "#0d0887"
             ],
             [
              0.1111111111111111,
              "#46039f"
             ],
             [
              0.2222222222222222,
              "#7201a8"
             ],
             [
              0.3333333333333333,
              "#9c179e"
             ],
             [
              0.4444444444444444,
              "#bd3786"
             ],
             [
              0.5555555555555556,
              "#d8576b"
             ],
             [
              0.6666666666666666,
              "#ed7953"
             ],
             [
              0.7777777777777778,
              "#fb9f3a"
             ],
             [
              0.8888888888888888,
              "#fdca26"
             ],
             [
              1,
              "#f0f921"
             ]
            ],
            "type": "histogram2d"
           }
          ],
          "histogram2dcontour": [
           {
            "colorbar": {
             "outlinewidth": 0,
             "ticks": ""
            },
            "colorscale": [
             [
              0,
              "#0d0887"
             ],
             [
              0.1111111111111111,
              "#46039f"
             ],
             [
              0.2222222222222222,
              "#7201a8"
             ],
             [
              0.3333333333333333,
              "#9c179e"
             ],
             [
              0.4444444444444444,
              "#bd3786"
             ],
             [
              0.5555555555555556,
              "#d8576b"
             ],
             [
              0.6666666666666666,
              "#ed7953"
             ],
             [
              0.7777777777777778,
              "#fb9f3a"
             ],
             [
              0.8888888888888888,
              "#fdca26"
             ],
             [
              1,
              "#f0f921"
             ]
            ],
            "type": "histogram2dcontour"
           }
          ],
          "mesh3d": [
           {
            "colorbar": {
             "outlinewidth": 0,
             "ticks": ""
            },
            "type": "mesh3d"
           }
          ],
          "parcoords": [
           {
            "line": {
             "colorbar": {
              "outlinewidth": 0,
              "ticks": ""
             }
            },
            "type": "parcoords"
           }
          ],
          "pie": [
           {
            "automargin": true,
            "type": "pie"
           }
          ],
          "scatter": [
           {
            "marker": {
             "colorbar": {
              "outlinewidth": 0,
              "ticks": ""
             }
            },
            "type": "scatter"
           }
          ],
          "scatter3d": [
           {
            "line": {
             "colorbar": {
              "outlinewidth": 0,
              "ticks": ""
             }
            },
            "marker": {
             "colorbar": {
              "outlinewidth": 0,
              "ticks": ""
             }
            },
            "type": "scatter3d"
           }
          ],
          "scattercarpet": [
           {
            "marker": {
             "colorbar": {
              "outlinewidth": 0,
              "ticks": ""
             }
            },
            "type": "scattercarpet"
           }
          ],
          "scattergeo": [
           {
            "marker": {
             "colorbar": {
              "outlinewidth": 0,
              "ticks": ""
             }
            },
            "type": "scattergeo"
           }
          ],
          "scattergl": [
           {
            "marker": {
             "colorbar": {
              "outlinewidth": 0,
              "ticks": ""
             }
            },
            "type": "scattergl"
           }
          ],
          "scattermapbox": [
           {
            "marker": {
             "colorbar": {
              "outlinewidth": 0,
              "ticks": ""
             }
            },
            "type": "scattermapbox"
           }
          ],
          "scatterpolar": [
           {
            "marker": {
             "colorbar": {
              "outlinewidth": 0,
              "ticks": ""
             }
            },
            "type": "scatterpolar"
           }
          ],
          "scatterpolargl": [
           {
            "marker": {
             "colorbar": {
              "outlinewidth": 0,
              "ticks": ""
             }
            },
            "type": "scatterpolargl"
           }
          ],
          "scatterternary": [
           {
            "marker": {
             "colorbar": {
              "outlinewidth": 0,
              "ticks": ""
             }
            },
            "type": "scatterternary"
           }
          ],
          "surface": [
           {
            "colorbar": {
             "outlinewidth": 0,
             "ticks": ""
            },
            "colorscale": [
             [
              0,
              "#0d0887"
             ],
             [
              0.1111111111111111,
              "#46039f"
             ],
             [
              0.2222222222222222,
              "#7201a8"
             ],
             [
              0.3333333333333333,
              "#9c179e"
             ],
             [
              0.4444444444444444,
              "#bd3786"
             ],
             [
              0.5555555555555556,
              "#d8576b"
             ],
             [
              0.6666666666666666,
              "#ed7953"
             ],
             [
              0.7777777777777778,
              "#fb9f3a"
             ],
             [
              0.8888888888888888,
              "#fdca26"
             ],
             [
              1,
              "#f0f921"
             ]
            ],
            "type": "surface"
           }
          ],
          "table": [
           {
            "cells": {
             "fill": {
              "color": "#EBF0F8"
             },
             "line": {
              "color": "white"
             }
            },
            "header": {
             "fill": {
              "color": "#C8D4E3"
             },
             "line": {
              "color": "white"
             }
            },
            "type": "table"
           }
          ]
         },
         "layout": {
          "annotationdefaults": {
           "arrowcolor": "#2a3f5f",
           "arrowhead": 0,
           "arrowwidth": 1
          },
          "coloraxis": {
           "colorbar": {
            "outlinewidth": 0,
            "ticks": ""
           }
          },
          "colorscale": {
           "diverging": [
            [
             0,
             "#8e0152"
            ],
            [
             0.1,
             "#c51b7d"
            ],
            [
             0.2,
             "#de77ae"
            ],
            [
             0.3,
             "#f1b6da"
            ],
            [
             0.4,
             "#fde0ef"
            ],
            [
             0.5,
             "#f7f7f7"
            ],
            [
             0.6,
             "#e6f5d0"
            ],
            [
             0.7,
             "#b8e186"
            ],
            [
             0.8,
             "#7fbc41"
            ],
            [
             0.9,
             "#4d9221"
            ],
            [
             1,
             "#276419"
            ]
           ],
           "sequential": [
            [
             0,
             "#0d0887"
            ],
            [
             0.1111111111111111,
             "#46039f"
            ],
            [
             0.2222222222222222,
             "#7201a8"
            ],
            [
             0.3333333333333333,
             "#9c179e"
            ],
            [
             0.4444444444444444,
             "#bd3786"
            ],
            [
             0.5555555555555556,
             "#d8576b"
            ],
            [
             0.6666666666666666,
             "#ed7953"
            ],
            [
             0.7777777777777778,
             "#fb9f3a"
            ],
            [
             0.8888888888888888,
             "#fdca26"
            ],
            [
             1,
             "#f0f921"
            ]
           ],
           "sequentialminus": [
            [
             0,
             "#0d0887"
            ],
            [
             0.1111111111111111,
             "#46039f"
            ],
            [
             0.2222222222222222,
             "#7201a8"
            ],
            [
             0.3333333333333333,
             "#9c179e"
            ],
            [
             0.4444444444444444,
             "#bd3786"
            ],
            [
             0.5555555555555556,
             "#d8576b"
            ],
            [
             0.6666666666666666,
             "#ed7953"
            ],
            [
             0.7777777777777778,
             "#fb9f3a"
            ],
            [
             0.8888888888888888,
             "#fdca26"
            ],
            [
             1,
             "#f0f921"
            ]
           ]
          },
          "colorway": [
           "#636efa",
           "#EF553B",
           "#00cc96",
           "#ab63fa",
           "#FFA15A",
           "#19d3f3",
           "#FF6692",
           "#B6E880",
           "#FF97FF",
           "#FECB52"
          ],
          "font": {
           "color": "#2a3f5f"
          },
          "geo": {
           "bgcolor": "white",
           "lakecolor": "white",
           "landcolor": "#E5ECF6",
           "showlakes": true,
           "showland": true,
           "subunitcolor": "white"
          },
          "hoverlabel": {
           "align": "left"
          },
          "hovermode": "closest",
          "mapbox": {
           "style": "light"
          },
          "paper_bgcolor": "white",
          "plot_bgcolor": "#E5ECF6",
          "polar": {
           "angularaxis": {
            "gridcolor": "white",
            "linecolor": "white",
            "ticks": ""
           },
           "bgcolor": "#E5ECF6",
           "radialaxis": {
            "gridcolor": "white",
            "linecolor": "white",
            "ticks": ""
           }
          },
          "scene": {
           "xaxis": {
            "backgroundcolor": "#E5ECF6",
            "gridcolor": "white",
            "gridwidth": 2,
            "linecolor": "white",
            "showbackground": true,
            "ticks": "",
            "zerolinecolor": "white"
           },
           "yaxis": {
            "backgroundcolor": "#E5ECF6",
            "gridcolor": "white",
            "gridwidth": 2,
            "linecolor": "white",
            "showbackground": true,
            "ticks": "",
            "zerolinecolor": "white"
           },
           "zaxis": {
            "backgroundcolor": "#E5ECF6",
            "gridcolor": "white",
            "gridwidth": 2,
            "linecolor": "white",
            "showbackground": true,
            "ticks": "",
            "zerolinecolor": "white"
           }
          },
          "shapedefaults": {
           "line": {
            "color": "#2a3f5f"
           }
          },
          "ternary": {
           "aaxis": {
            "gridcolor": "white",
            "linecolor": "white",
            "ticks": ""
           },
           "baxis": {
            "gridcolor": "white",
            "linecolor": "white",
            "ticks": ""
           },
           "bgcolor": "#E5ECF6",
           "caxis": {
            "gridcolor": "white",
            "linecolor": "white",
            "ticks": ""
           }
          },
          "title": {
           "x": 0.05
          },
          "xaxis": {
           "automargin": true,
           "gridcolor": "white",
           "linecolor": "white",
           "ticks": "",
           "title": {
            "standoff": 15
           },
           "zerolinecolor": "white",
           "zerolinewidth": 2
          },
          "yaxis": {
           "automargin": true,
           "gridcolor": "white",
           "linecolor": "white",
           "ticks": "",
           "title": {
            "standoff": 15
           },
           "zerolinecolor": "white",
           "zerolinewidth": 2
          }
         }
        },
        "title": {
         "text": "Wealth Difference according to Regional Blocs"
        },
        "width": 950,
        "yaxis": {
         "title": {
          "text": "Value Range"
         }
        }
       }
      },
      "text/html": [
       "<div>\n",
       "        \n",
       "        \n",
       "            <div id=\"ad61a651-8cd0-47dd-ab93-ca723584abae\" class=\"plotly-graph-div\" style=\"height:600px; width:950px;\"></div>\n",
       "            <script type=\"text/javascript\">\n",
       "                require([\"plotly\"], function(Plotly) {\n",
       "                    window.PLOTLYENV=window.PLOTLYENV || {};\n",
       "                    \n",
       "                if (document.getElementById(\"ad61a651-8cd0-47dd-ab93-ca723584abae\")) {\n",
       "                    Plotly.newPlot(\n",
       "                        'ad61a651-8cd0-47dd-ab93-ca723584abae',\n",
       "                        [{\"boxpoints\": \"outliers\", \"marker\": {\"color\": \"#FD3216\"}, \"name\": \"South Asian Association for Regional Cooperation\", \"type\": \"box\", \"y\": [27.8, 32.1, 38.1, 33.4, 37.4, 32.8, 30.0, 40.3]}, {\"boxpoints\": \"outliers\", \"marker\": {\"color\": \"#00FE35\"}, \"name\": \"European Union\", \"type\": \"box\", \"y\": [null, 26.0, 33.0, 28.2, 33.7, null, 26.0, 24.0, 36.0, null, 26.9, 32.7, 28.3, null, 34.3, 31.2, 34.3, null, 36.0, 36.6, 37.6, 30.8, null, 30.9, 34.1, 38.5, 30.0, 26.0, 31.2, 34.7, 25.0, 34.0]}, {\"boxpoints\": \"outliers\", \"marker\": {\"color\": \"#6A76FC\"}, \"name\": \"Central European Free Trade Agreement\", \"type\": \"box\", \"y\": [34.5, 36.2, 43.2, 33.0, 30.0, null, 27.8]}, {\"boxpoints\": \"outliers\", \"marker\": {\"color\": \"#FED4C4\"}, \"name\": \"African UnionArab League\", \"type\": \"box\", \"y\": [35.3, 64.3, 40.0, 30.8, null, 40.5, 40.9, null, 35.3, 41.4]}, {\"boxpoints\": \"outliers\", \"marker\": {\"color\": \"#FE00CE\"}, \"name\": \"African Union\", \"type\": \"box\", \"y\": [58.6, 38.6, 61.0, null, 39.8, 33.3, 38.9, 50.5, 56.3, 39.8, 47.3, null, null, null, 29.8, null, 41.5, null, 42.8, 39.4, 35.5, 41.5, 47.7, 52.5, 38.2, 44.1, 39.0, 33.0, null, null, 45.7, 63.9, 34.6, 48.8, null, 50.8, null, 50.8, 39.2, 65.8, 42.5, 63.1, 45.5, 51.5, 37.6, 34.4, 44.3, null, 54.6, null]}, {\"boxpoints\": \"outliers\", \"marker\": {\"color\": \"#0DF9FF\"}, \"name\": \"Caribbean Community\", \"type\": \"box\", \"y\": [null, null, null, null, 59.2, 45.5, null, null, 42.6, null, 40.3]}, {\"boxpoints\": \"outliers\", \"marker\": {\"color\": \"#F6F926\"}, \"name\": \"Union of South American Nations\", \"type\": \"box\", \"y\": [44.5, 56.3, 54.7, 49.3, null, 52.4, null, 39.7, 44.8]}, {\"boxpoints\": \"outliers\", \"marker\": {\"color\": \"#FF9616\"}, \"name\": \"Eurasian Economic Union\", \"type\": \"box\", \"y\": [30.9, 26.5, 29.0, 36.2, 40.1]}, {\"boxpoints\": \"outliers\", \"marker\": {\"color\": \"#479B55\"}, \"name\": \"Arab League\", \"type\": \"box\", \"y\": [null, 30.9, 35.4, null, null, null, 35.5, 41.1, null, 35.8, null, 37.7]}, {\"boxpoints\": \"outliers\", \"marker\": {\"color\": \"#EEA6FB\"}, \"name\": \"Caribbean CommunityCentral American Integration System\", \"type\": \"box\", \"y\": [53.1, 47.2]}, {\"boxpoints\": \"outliers\", \"marker\": {\"color\": \"#DC587D\"}, \"name\": \"Association of Southeast Asian Nations\", \"type\": \"box\", \"y\": [null, 37.9, 34.0, 36.7, 46.2, null, 43.0, 48.1, 40.0, 35.6]}, {\"boxpoints\": \"outliers\", \"marker\": {\"color\": \"#D626FF\"}, \"name\": \"North American Free Trade Agreement\", \"type\": \"box\", \"y\": [32.6, 48.0]}, {\"boxpoints\": \"outliers\", \"marker\": {\"color\": \"#6E899C\"}, \"name\": \"Pacific AllianceUnion of South American Nations\", \"type\": \"box\", \"y\": [52.1, 55.9, 48.1]}, {\"boxpoints\": \"outliers\", \"marker\": {\"color\": \"#00B5F7\"}, \"name\": \"Central American Integration System\", \"type\": \"box\", \"y\": [50.7, 48.3, 55.9, 57.0, 40.5, 51.9]}, {\"boxpoints\": \"outliers\", \"marker\": {\"color\": \"#B68E00\"}, \"name\": \"Union of South American NationsEuropean Union\", \"type\": \"box\", \"y\": [null]}, {\"boxpoints\": \"outliers\", \"marker\": {\"color\": \"#C9FBE5\"}, \"name\": \"Caribbean CommunityUnion of South American Nations\", \"type\": \"box\", \"y\": [44.5, 52.9]}, {\"boxpoints\": \"outliers\", \"marker\": {\"color\": \"#FF0092\"}, \"name\": \"European Free Trade Association\", \"type\": \"box\", \"y\": [null, null, 25.8, 33.7]}, {\"boxpoints\": \"outliers\", \"marker\": {\"color\": \"#22FFA7\"}, \"name\": \"Pacific AllianceNorth American Free Trade Agreement\", \"type\": \"box\", \"y\": [47.0]}],\n",
       "                        {\"autosize\": false, \"height\": 600, \"template\": {\"data\": {\"bar\": [{\"error_x\": {\"color\": \"#2a3f5f\"}, \"error_y\": {\"color\": \"#2a3f5f\"}, \"marker\": {\"line\": {\"color\": \"#E5ECF6\", \"width\": 0.5}}, \"type\": \"bar\"}], \"barpolar\": [{\"marker\": {\"line\": {\"color\": \"#E5ECF6\", \"width\": 0.5}}, \"type\": \"barpolar\"}], \"carpet\": [{\"aaxis\": {\"endlinecolor\": \"#2a3f5f\", \"gridcolor\": \"white\", \"linecolor\": \"white\", \"minorgridcolor\": \"white\", \"startlinecolor\": \"#2a3f5f\"}, \"baxis\": {\"endlinecolor\": \"#2a3f5f\", \"gridcolor\": \"white\", \"linecolor\": \"white\", \"minorgridcolor\": \"white\", \"startlinecolor\": \"#2a3f5f\"}, \"type\": \"carpet\"}], \"choropleth\": [{\"colorbar\": {\"outlinewidth\": 0, \"ticks\": \"\"}, \"type\": \"choropleth\"}], \"contour\": [{\"colorbar\": {\"outlinewidth\": 0, \"ticks\": \"\"}, \"colorscale\": [[0.0, \"#0d0887\"], [0.1111111111111111, \"#46039f\"], [0.2222222222222222, \"#7201a8\"], [0.3333333333333333, \"#9c179e\"], [0.4444444444444444, \"#bd3786\"], [0.5555555555555556, \"#d8576b\"], [0.6666666666666666, \"#ed7953\"], [0.7777777777777778, \"#fb9f3a\"], [0.8888888888888888, \"#fdca26\"], [1.0, \"#f0f921\"]], \"type\": \"contour\"}], \"contourcarpet\": [{\"colorbar\": {\"outlinewidth\": 0, \"ticks\": \"\"}, \"type\": \"contourcarpet\"}], \"heatmap\": [{\"colorbar\": {\"outlinewidth\": 0, \"ticks\": \"\"}, \"colorscale\": [[0.0, \"#0d0887\"], [0.1111111111111111, \"#46039f\"], [0.2222222222222222, \"#7201a8\"], [0.3333333333333333, \"#9c179e\"], [0.4444444444444444, \"#bd3786\"], [0.5555555555555556, \"#d8576b\"], [0.6666666666666666, \"#ed7953\"], [0.7777777777777778, \"#fb9f3a\"], [0.8888888888888888, \"#fdca26\"], [1.0, \"#f0f921\"]], \"type\": \"heatmap\"}], \"heatmapgl\": [{\"colorbar\": {\"outlinewidth\": 0, \"ticks\": \"\"}, \"colorscale\": [[0.0, \"#0d0887\"], [0.1111111111111111, \"#46039f\"], [0.2222222222222222, \"#7201a8\"], [0.3333333333333333, \"#9c179e\"], [0.4444444444444444, \"#bd3786\"], [0.5555555555555556, \"#d8576b\"], [0.6666666666666666, \"#ed7953\"], [0.7777777777777778, \"#fb9f3a\"], [0.8888888888888888, \"#fdca26\"], [1.0, \"#f0f921\"]], \"type\": \"heatmapgl\"}], \"histogram\": [{\"marker\": {\"colorbar\": {\"outlinewidth\": 0, \"ticks\": \"\"}}, \"type\": \"histogram\"}], \"histogram2d\": [{\"colorbar\": {\"outlinewidth\": 0, \"ticks\": \"\"}, \"colorscale\": [[0.0, \"#0d0887\"], [0.1111111111111111, \"#46039f\"], [0.2222222222222222, \"#7201a8\"], [0.3333333333333333, \"#9c179e\"], [0.4444444444444444, \"#bd3786\"], [0.5555555555555556, \"#d8576b\"], [0.6666666666666666, \"#ed7953\"], [0.7777777777777778, \"#fb9f3a\"], [0.8888888888888888, \"#fdca26\"], [1.0, \"#f0f921\"]], \"type\": \"histogram2d\"}], \"histogram2dcontour\": [{\"colorbar\": {\"outlinewidth\": 0, \"ticks\": \"\"}, \"colorscale\": [[0.0, \"#0d0887\"], [0.1111111111111111, \"#46039f\"], [0.2222222222222222, \"#7201a8\"], [0.3333333333333333, \"#9c179e\"], [0.4444444444444444, \"#bd3786\"], [0.5555555555555556, \"#d8576b\"], [0.6666666666666666, \"#ed7953\"], [0.7777777777777778, \"#fb9f3a\"], [0.8888888888888888, \"#fdca26\"], [1.0, \"#f0f921\"]], \"type\": \"histogram2dcontour\"}], \"mesh3d\": [{\"colorbar\": {\"outlinewidth\": 0, \"ticks\": \"\"}, \"type\": \"mesh3d\"}], \"parcoords\": [{\"line\": {\"colorbar\": {\"outlinewidth\": 0, \"ticks\": \"\"}}, \"type\": \"parcoords\"}], \"pie\": [{\"automargin\": true, \"type\": \"pie\"}], \"scatter\": [{\"marker\": {\"colorbar\": {\"outlinewidth\": 0, \"ticks\": \"\"}}, \"type\": \"scatter\"}], \"scatter3d\": [{\"line\": {\"colorbar\": {\"outlinewidth\": 0, \"ticks\": \"\"}}, \"marker\": {\"colorbar\": {\"outlinewidth\": 0, \"ticks\": \"\"}}, \"type\": \"scatter3d\"}], \"scattercarpet\": [{\"marker\": {\"colorbar\": {\"outlinewidth\": 0, \"ticks\": \"\"}}, \"type\": \"scattercarpet\"}], \"scattergeo\": [{\"marker\": {\"colorbar\": {\"outlinewidth\": 0, \"ticks\": \"\"}}, \"type\": \"scattergeo\"}], \"scattergl\": [{\"marker\": {\"colorbar\": {\"outlinewidth\": 0, \"ticks\": \"\"}}, \"type\": \"scattergl\"}], \"scattermapbox\": [{\"marker\": {\"colorbar\": {\"outlinewidth\": 0, \"ticks\": \"\"}}, \"type\": \"scattermapbox\"}], \"scatterpolar\": [{\"marker\": {\"colorbar\": {\"outlinewidth\": 0, \"ticks\": \"\"}}, \"type\": \"scatterpolar\"}], \"scatterpolargl\": [{\"marker\": {\"colorbar\": {\"outlinewidth\": 0, \"ticks\": \"\"}}, \"type\": \"scatterpolargl\"}], \"scatterternary\": [{\"marker\": {\"colorbar\": {\"outlinewidth\": 0, \"ticks\": \"\"}}, \"type\": \"scatterternary\"}], \"surface\": [{\"colorbar\": {\"outlinewidth\": 0, \"ticks\": \"\"}, \"colorscale\": [[0.0, \"#0d0887\"], [0.1111111111111111, \"#46039f\"], [0.2222222222222222, \"#7201a8\"], [0.3333333333333333, \"#9c179e\"], [0.4444444444444444, \"#bd3786\"], [0.5555555555555556, \"#d8576b\"], [0.6666666666666666, \"#ed7953\"], [0.7777777777777778, \"#fb9f3a\"], [0.8888888888888888, \"#fdca26\"], [1.0, \"#f0f921\"]], \"type\": \"surface\"}], \"table\": [{\"cells\": {\"fill\": {\"color\": \"#EBF0F8\"}, \"line\": {\"color\": \"white\"}}, \"header\": {\"fill\": {\"color\": \"#C8D4E3\"}, \"line\": {\"color\": \"white\"}}, \"type\": \"table\"}]}, \"layout\": {\"annotationdefaults\": {\"arrowcolor\": \"#2a3f5f\", \"arrowhead\": 0, \"arrowwidth\": 1}, \"coloraxis\": {\"colorbar\": {\"outlinewidth\": 0, \"ticks\": \"\"}}, \"colorscale\": {\"diverging\": [[0, \"#8e0152\"], [0.1, \"#c51b7d\"], [0.2, \"#de77ae\"], [0.3, \"#f1b6da\"], [0.4, \"#fde0ef\"], [0.5, \"#f7f7f7\"], [0.6, \"#e6f5d0\"], [0.7, \"#b8e186\"], [0.8, \"#7fbc41\"], [0.9, \"#4d9221\"], [1, \"#276419\"]], \"sequential\": [[0.0, \"#0d0887\"], [0.1111111111111111, \"#46039f\"], [0.2222222222222222, \"#7201a8\"], [0.3333333333333333, \"#9c179e\"], [0.4444444444444444, \"#bd3786\"], [0.5555555555555556, \"#d8576b\"], [0.6666666666666666, \"#ed7953\"], [0.7777777777777778, \"#fb9f3a\"], [0.8888888888888888, \"#fdca26\"], [1.0, \"#f0f921\"]], \"sequentialminus\": [[0.0, \"#0d0887\"], [0.1111111111111111, \"#46039f\"], [0.2222222222222222, \"#7201a8\"], [0.3333333333333333, \"#9c179e\"], [0.4444444444444444, \"#bd3786\"], [0.5555555555555556, \"#d8576b\"], [0.6666666666666666, \"#ed7953\"], [0.7777777777777778, \"#fb9f3a\"], [0.8888888888888888, \"#fdca26\"], [1.0, \"#f0f921\"]]}, \"colorway\": [\"#636efa\", \"#EF553B\", \"#00cc96\", \"#ab63fa\", \"#FFA15A\", \"#19d3f3\", \"#FF6692\", \"#B6E880\", \"#FF97FF\", \"#FECB52\"], \"font\": {\"color\": \"#2a3f5f\"}, \"geo\": {\"bgcolor\": \"white\", \"lakecolor\": \"white\", \"landcolor\": \"#E5ECF6\", \"showlakes\": true, \"showland\": true, \"subunitcolor\": \"white\"}, \"hoverlabel\": {\"align\": \"left\"}, \"hovermode\": \"closest\", \"mapbox\": {\"style\": \"light\"}, \"paper_bgcolor\": \"white\", \"plot_bgcolor\": \"#E5ECF6\", \"polar\": {\"angularaxis\": {\"gridcolor\": \"white\", \"linecolor\": \"white\", \"ticks\": \"\"}, \"bgcolor\": \"#E5ECF6\", \"radialaxis\": {\"gridcolor\": \"white\", \"linecolor\": \"white\", \"ticks\": \"\"}}, \"scene\": {\"xaxis\": {\"backgroundcolor\": \"#E5ECF6\", \"gridcolor\": \"white\", \"gridwidth\": 2, \"linecolor\": \"white\", \"showbackground\": true, \"ticks\": \"\", \"zerolinecolor\": \"white\"}, \"yaxis\": {\"backgroundcolor\": \"#E5ECF6\", \"gridcolor\": \"white\", \"gridwidth\": 2, \"linecolor\": \"white\", \"showbackground\": true, \"ticks\": \"\", \"zerolinecolor\": \"white\"}, \"zaxis\": {\"backgroundcolor\": \"#E5ECF6\", \"gridcolor\": \"white\", \"gridwidth\": 2, \"linecolor\": \"white\", \"showbackground\": true, \"ticks\": \"\", \"zerolinecolor\": \"white\"}}, \"shapedefaults\": {\"line\": {\"color\": \"#2a3f5f\"}}, \"ternary\": {\"aaxis\": {\"gridcolor\": \"white\", \"linecolor\": \"white\", \"ticks\": \"\"}, \"baxis\": {\"gridcolor\": \"white\", \"linecolor\": \"white\", \"ticks\": \"\"}, \"bgcolor\": \"#E5ECF6\", \"caxis\": {\"gridcolor\": \"white\", \"linecolor\": \"white\", \"ticks\": \"\"}}, \"title\": {\"x\": 0.05}, \"xaxis\": {\"automargin\": true, \"gridcolor\": \"white\", \"linecolor\": \"white\", \"ticks\": \"\", \"title\": {\"standoff\": 15}, \"zerolinecolor\": \"white\", \"zerolinewidth\": 2}, \"yaxis\": {\"automargin\": true, \"gridcolor\": \"white\", \"linecolor\": \"white\", \"ticks\": \"\", \"title\": {\"standoff\": 15}, \"zerolinecolor\": \"white\", \"zerolinewidth\": 2}}}, \"title\": {\"text\": \"Wealth Difference according to Regional Blocs\"}, \"width\": 950, \"yaxis\": {\"title\": {\"text\": \"Value Range\"}}},\n",
       "                        {\"responsive\": true}\n",
       "                    ).then(function(){\n",
       "                            \n",
       "var gd = document.getElementById('ad61a651-8cd0-47dd-ab93-ca723584abae');\n",
       "var x = new MutationObserver(function (mutations, observer) {{\n",
       "        var display = window.getComputedStyle(gd).display;\n",
       "        if (!display || display === 'none') {{\n",
       "            console.log([gd, 'removed!']);\n",
       "            Plotly.purge(gd);\n",
       "            observer.disconnect();\n",
       "        }}\n",
       "}});\n",
       "\n",
       "// Listen for the removal of the full notebook cells\n",
       "var notebookContainer = gd.closest('#notebook-container');\n",
       "if (notebookContainer) {{\n",
       "    x.observe(notebookContainer, {childList: true});\n",
       "}}\n",
       "\n",
       "// Listen for the clearing of the current output cell\n",
       "var outputEl = gd.closest('.output');\n",
       "if (outputEl) {{\n",
       "    x.observe(outputEl, {childList: true});\n",
       "}}\n",
       "\n",
       "                        })\n",
       "                };\n",
       "                });\n",
       "            </script>\n",
       "        </div>"
      ]
     },
     "metadata": {},
     "output_type": "display_data"
    }
   ],
   "source": [
    "lst = df['regionalBlocs'].unique()\n",
    "lst=lst[lst!='None']\n",
    "color = px.colors.qualitative.Light24[:len(lst)]\n",
    "\n",
    "cor_dic = {}\n",
    "\n",
    "for i in range(len(lst)):\n",
    "    cor_dic[lst[i]] = color[i]\n",
    "\n",
    "cond = df['regionalBlocs'] != 'None'\n",
    "\n",
    "fig = px.choropleth(df, \n",
    "#                     color_discrete_sequence=px.colors.qualitative.Light24[:19],\n",
    "                    color_discrete_map=cor_dic,\n",
    "                    color = df[cond]['regionalBlocs'],\n",
    "                    locations=df[cond]['alphaCode'], \n",
    "                    hover_name=df[cond]['country']\n",
    "                   )\n",
    "# fig.update_geos(fitbounds=\"locations\", visible=False)\n",
    "# fig.update_layout(margin={\"r\":0,\"t\":0,\"l\":0,\"b\":0})\n",
    "\n",
    "fig.update_layout(title={'text': \"Regional Blocs\",\n",
    "#                          'xanchor': 'center',\n",
    "#                          'yanchor': 'top'\n",
    "                        },\n",
    "                  geo=dict(showframe=False,\n",
    "                           showcoastlines=False,\n",
    "                           projection_type='equirectangular'),\n",
    "                  )\n",
    "\n",
    "fig.show()\n",
    "\n",
    "\n",
    "\n",
    "color = px.colors.qualitative.Light24[:19]\n",
    "\n",
    "fig = go.Figure()\n",
    "\n",
    "for i in range(len(lst)):\n",
    "    cond = (df['regionalBlocs'] == lst[i]) & (df['regionalBlocs'] != 'None')\n",
    "    fig.add_trace(go.Box(y=df[cond]['gini'],\n",
    "                         name=lst[i],\n",
    "                         boxpoints='outliers',\n",
    "                         marker_color = color[i]\n",
    "                        ))\n",
    "\n",
    "fig.update_layout(title_text=\"Wealth Difference according to Regional Blocs\",\n",
    "                  yaxis_title_text='Value Range',\n",
    "                  autosize=False,\n",
    "                  width=950,\n",
    "                  height=600,\n",
    "                 )\n",
    "\n",
    "fig.show()"
   ]
  },
  {
   "cell_type": "code",
   "execution_count": null,
   "metadata": {},
   "outputs": [],
   "source": []
  }
 ],
 "metadata": {
  "kernelspec": {
   "display_name": "Python 3",
   "language": "python",
   "name": "python3"
  },
  "language_info": {
   "codemirror_mode": {
    "name": "ipython",
    "version": 3
   },
   "file_extension": ".py",
   "mimetype": "text/x-python",
   "name": "python",
   "nbconvert_exporter": "python",
   "pygments_lexer": "ipython3",
   "version": "3.6.9"
  },
  "toc": {
   "base_numbering": 1,
   "nav_menu": {},
   "number_sections": true,
   "sideBar": true,
   "skip_h1_title": false,
   "title_cell": "Table of Contents",
   "title_sidebar": "Contents",
   "toc_cell": false,
   "toc_position": {
    "height": "calc(100% - 180px)",
    "left": "10px",
    "top": "150px",
    "width": "249px"
   },
   "toc_section_display": true,
   "toc_window_display": true
  },
  "varInspector": {
   "cols": {
    "lenName": 16,
    "lenType": 16,
    "lenVar": 40
   },
   "kernels_config": {
    "python": {
     "delete_cmd_postfix": "",
     "delete_cmd_prefix": "del ",
     "library": "var_list.py",
     "varRefreshCmd": "print(var_dic_list())"
    },
    "r": {
     "delete_cmd_postfix": ") ",
     "delete_cmd_prefix": "rm(",
     "library": "var_list.r",
     "varRefreshCmd": "cat(var_dic_list()) "
    }
   },
   "types_to_exclude": [
    "module",
    "function",
    "builtin_function_or_method",
    "instance",
    "_Feature"
   ],
   "window_display": false
  }
 },
 "nbformat": 4,
 "nbformat_minor": 4
}
