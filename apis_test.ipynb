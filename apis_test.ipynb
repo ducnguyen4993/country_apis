{
 "cells": [
  {
   "cell_type": "code",
   "execution_count": 1,
   "metadata": {
    "ExecuteTime": {
     "end_time": "2020-07-06T06:51:08.105660Z",
     "start_time": "2020-07-06T06:51:06.423556Z"
    }
   },
   "outputs": [],
   "source": [
    "import requests\n",
    "import pandas as pd\n",
    "import json\n",
    "import matplotlib.pyplot as plt\n",
    "%matplotlib inline\n",
    "import seaborn as sns\n",
    "from PIL import Image\n",
    "from io import BytesIO\n",
    "from pandas.io.json import json_normalize\n",
    "import numpy as np"
   ]
  },
  {
   "cell_type": "code",
   "execution_count": 2,
   "metadata": {
    "ExecuteTime": {
     "end_time": "2020-07-06T06:51:08.436797Z",
     "start_time": "2020-07-06T06:51:08.107654Z"
    }
   },
   "outputs": [],
   "source": [
    "response=requests.get('https://restcountries.eu/rest/v2/all')"
   ]
  },
  {
   "cell_type": "code",
   "execution_count": 3,
   "metadata": {
    "ExecuteTime": {
     "end_time": "2020-07-06T06:51:08.444807Z",
     "start_time": "2020-07-06T06:51:08.438793Z"
    }
   },
   "outputs": [
    {
     "data": {
      "text/plain": [
       "200"
      ]
     },
     "execution_count": 3,
     "metadata": {},
     "output_type": "execute_result"
    }
   ],
   "source": [
    "status=response.status_code\n",
    "status"
   ]
  },
  {
   "cell_type": "code",
   "execution_count": 4,
   "metadata": {
    "ExecuteTime": {
     "end_time": "2020-07-06T06:51:08.462610Z",
     "start_time": "2020-07-06T06:51:08.445803Z"
    }
   },
   "outputs": [],
   "source": [
    "d=response.json()"
   ]
  },
  {
   "cell_type": "code",
   "execution_count": 5,
   "metadata": {
    "ExecuteTime": {
     "end_time": "2020-07-06T06:51:08.511510Z",
     "start_time": "2020-07-06T06:51:08.466600Z"
    }
   },
   "outputs": [
    {
     "data": {
      "text/plain": [
       "250"
      ]
     },
     "execution_count": 5,
     "metadata": {},
     "output_type": "execute_result"
    }
   ],
   "source": [
    "df=json_normalize(d)\n",
    "df.shape[0]"
   ]
  },
  {
   "cell_type": "code",
   "execution_count": 6,
   "metadata": {
    "ExecuteTime": {
     "end_time": "2020-07-06T06:51:08.521459Z",
     "start_time": "2020-07-06T06:51:08.514472Z"
    }
   },
   "outputs": [],
   "source": [
    "df.rename(columns={'name':'country','alpha3Code':'alphaCode'},inplace=True)\n",
    "df.drop(['topLevelDomain','alpha2Code','altSpellings','callingCodes','numericCode','translations.de', 'translations.es',\n",
    "       'translations.fr', 'translations.ja', 'translations.it',\n",
    "       'translations.br', 'translations.pt', 'translations.nl',\n",
    "       'translations.hr', 'translations.fa'],axis=1,inplace=True)"
   ]
  },
  {
   "cell_type": "code",
   "execution_count": 7,
   "metadata": {
    "ExecuteTime": {
     "end_time": "2020-07-06T06:51:08.561172Z",
     "start_time": "2020-07-06T06:51:08.523449Z"
    }
   },
   "outputs": [
    {
     "data": {
      "text/html": [
       "<div>\n",
       "<style scoped>\n",
       "    .dataframe tbody tr th:only-of-type {\n",
       "        vertical-align: middle;\n",
       "    }\n",
       "\n",
       "    .dataframe tbody tr th {\n",
       "        vertical-align: top;\n",
       "    }\n",
       "\n",
       "    .dataframe thead th {\n",
       "        text-align: right;\n",
       "    }\n",
       "</style>\n",
       "<table border=\"1\" class=\"dataframe\">\n",
       "  <thead>\n",
       "    <tr style=\"text-align: right;\">\n",
       "      <th></th>\n",
       "      <th>country</th>\n",
       "      <th>alphaCode</th>\n",
       "      <th>capital</th>\n",
       "      <th>region</th>\n",
       "      <th>subregion</th>\n",
       "      <th>population</th>\n",
       "      <th>latlng</th>\n",
       "      <th>demonym</th>\n",
       "      <th>area</th>\n",
       "      <th>gini</th>\n",
       "      <th>timezones</th>\n",
       "      <th>borders</th>\n",
       "      <th>nativeName</th>\n",
       "      <th>currencies</th>\n",
       "      <th>languages</th>\n",
       "      <th>flag</th>\n",
       "      <th>regionalBlocs</th>\n",
       "      <th>cioc</th>\n",
       "    </tr>\n",
       "  </thead>\n",
       "  <tbody>\n",
       "    <tr>\n",
       "      <th>0</th>\n",
       "      <td>Afghanistan</td>\n",
       "      <td>AFG</td>\n",
       "      <td>Kabul</td>\n",
       "      <td>Asia</td>\n",
       "      <td>Southern Asia</td>\n",
       "      <td>27657145</td>\n",
       "      <td>[33.0, 65.0]</td>\n",
       "      <td>Afghan</td>\n",
       "      <td>652230.0</td>\n",
       "      <td>27.8</td>\n",
       "      <td>[UTC+04:30]</td>\n",
       "      <td>[IRN, PAK, TKM, UZB, TJK, CHN]</td>\n",
       "      <td>افغانستان</td>\n",
       "      <td>[{'code': 'AFN', 'name': 'Afghan afghani', 'sy...</td>\n",
       "      <td>[{'iso639_1': 'ps', 'iso639_2': 'pus', 'name':...</td>\n",
       "      <td>https://restcountries.eu/data/afg.svg</td>\n",
       "      <td>[{'acronym': 'SAARC', 'name': 'South Asian Ass...</td>\n",
       "      <td>AFG</td>\n",
       "    </tr>\n",
       "    <tr>\n",
       "      <th>1</th>\n",
       "      <td>Åland Islands</td>\n",
       "      <td>ALA</td>\n",
       "      <td>Mariehamn</td>\n",
       "      <td>Europe</td>\n",
       "      <td>Northern Europe</td>\n",
       "      <td>28875</td>\n",
       "      <td>[60.116667, 19.9]</td>\n",
       "      <td>Ålandish</td>\n",
       "      <td>1580.0</td>\n",
       "      <td>NaN</td>\n",
       "      <td>[UTC+02:00]</td>\n",
       "      <td>[]</td>\n",
       "      <td>Åland</td>\n",
       "      <td>[{'code': 'EUR', 'name': 'Euro', 'symbol': '€'}]</td>\n",
       "      <td>[{'iso639_1': 'sv', 'iso639_2': 'swe', 'name':...</td>\n",
       "      <td>https://restcountries.eu/data/ala.svg</td>\n",
       "      <td>[{'acronym': 'EU', 'name': 'European Union', '...</td>\n",
       "      <td></td>\n",
       "    </tr>\n",
       "    <tr>\n",
       "      <th>2</th>\n",
       "      <td>Albania</td>\n",
       "      <td>ALB</td>\n",
       "      <td>Tirana</td>\n",
       "      <td>Europe</td>\n",
       "      <td>Southern Europe</td>\n",
       "      <td>2886026</td>\n",
       "      <td>[41.0, 20.0]</td>\n",
       "      <td>Albanian</td>\n",
       "      <td>28748.0</td>\n",
       "      <td>34.5</td>\n",
       "      <td>[UTC+01:00]</td>\n",
       "      <td>[MNE, GRC, MKD, KOS]</td>\n",
       "      <td>Shqipëria</td>\n",
       "      <td>[{'code': 'ALL', 'name': 'Albanian lek', 'symb...</td>\n",
       "      <td>[{'iso639_1': 'sq', 'iso639_2': 'sqi', 'name':...</td>\n",
       "      <td>https://restcountries.eu/data/alb.svg</td>\n",
       "      <td>[{'acronym': 'CEFTA', 'name': 'Central Europea...</td>\n",
       "      <td>ALB</td>\n",
       "    </tr>\n",
       "    <tr>\n",
       "      <th>3</th>\n",
       "      <td>Algeria</td>\n",
       "      <td>DZA</td>\n",
       "      <td>Algiers</td>\n",
       "      <td>Africa</td>\n",
       "      <td>Northern Africa</td>\n",
       "      <td>40400000</td>\n",
       "      <td>[28.0, 3.0]</td>\n",
       "      <td>Algerian</td>\n",
       "      <td>2381741.0</td>\n",
       "      <td>35.3</td>\n",
       "      <td>[UTC+01:00]</td>\n",
       "      <td>[TUN, LBY, NER, ESH, MRT, MLI, MAR]</td>\n",
       "      <td>الجزائر</td>\n",
       "      <td>[{'code': 'DZD', 'name': 'Algerian dinar', 'sy...</td>\n",
       "      <td>[{'iso639_1': 'ar', 'iso639_2': 'ara', 'name':...</td>\n",
       "      <td>https://restcountries.eu/data/dza.svg</td>\n",
       "      <td>[{'acronym': 'AU', 'name': 'African Union', 'o...</td>\n",
       "      <td>ALG</td>\n",
       "    </tr>\n",
       "    <tr>\n",
       "      <th>4</th>\n",
       "      <td>American Samoa</td>\n",
       "      <td>ASM</td>\n",
       "      <td>Pago Pago</td>\n",
       "      <td>Oceania</td>\n",
       "      <td>Polynesia</td>\n",
       "      <td>57100</td>\n",
       "      <td>[-14.33333333, -170.0]</td>\n",
       "      <td>American Samoan</td>\n",
       "      <td>199.0</td>\n",
       "      <td>NaN</td>\n",
       "      <td>[UTC-11:00]</td>\n",
       "      <td>[]</td>\n",
       "      <td>American Samoa</td>\n",
       "      <td>[{'code': 'USD', 'name': 'United State Dollar'...</td>\n",
       "      <td>[{'iso639_1': 'en', 'iso639_2': 'eng', 'name':...</td>\n",
       "      <td>https://restcountries.eu/data/asm.svg</td>\n",
       "      <td>[]</td>\n",
       "      <td>ASA</td>\n",
       "    </tr>\n",
       "  </tbody>\n",
       "</table>\n",
       "</div>"
      ],
      "text/plain": [
       "          country alphaCode    capital   region        subregion  population  \\\n",
       "0     Afghanistan       AFG      Kabul     Asia    Southern Asia    27657145   \n",
       "1   Åland Islands       ALA  Mariehamn   Europe  Northern Europe       28875   \n",
       "2         Albania       ALB     Tirana   Europe  Southern Europe     2886026   \n",
       "3         Algeria       DZA    Algiers   Africa  Northern Africa    40400000   \n",
       "4  American Samoa       ASM  Pago Pago  Oceania        Polynesia       57100   \n",
       "\n",
       "                   latlng          demonym       area  gini    timezones  \\\n",
       "0            [33.0, 65.0]           Afghan   652230.0  27.8  [UTC+04:30]   \n",
       "1       [60.116667, 19.9]         Ålandish     1580.0   NaN  [UTC+02:00]   \n",
       "2            [41.0, 20.0]         Albanian    28748.0  34.5  [UTC+01:00]   \n",
       "3             [28.0, 3.0]         Algerian  2381741.0  35.3  [UTC+01:00]   \n",
       "4  [-14.33333333, -170.0]  American Samoan      199.0   NaN  [UTC-11:00]   \n",
       "\n",
       "                               borders      nativeName  \\\n",
       "0       [IRN, PAK, TKM, UZB, TJK, CHN]       افغانستان   \n",
       "1                                   []           Åland   \n",
       "2                 [MNE, GRC, MKD, KOS]       Shqipëria   \n",
       "3  [TUN, LBY, NER, ESH, MRT, MLI, MAR]         الجزائر   \n",
       "4                                   []  American Samoa   \n",
       "\n",
       "                                          currencies  \\\n",
       "0  [{'code': 'AFN', 'name': 'Afghan afghani', 'sy...   \n",
       "1   [{'code': 'EUR', 'name': 'Euro', 'symbol': '€'}]   \n",
       "2  [{'code': 'ALL', 'name': 'Albanian lek', 'symb...   \n",
       "3  [{'code': 'DZD', 'name': 'Algerian dinar', 'sy...   \n",
       "4  [{'code': 'USD', 'name': 'United State Dollar'...   \n",
       "\n",
       "                                           languages  \\\n",
       "0  [{'iso639_1': 'ps', 'iso639_2': 'pus', 'name':...   \n",
       "1  [{'iso639_1': 'sv', 'iso639_2': 'swe', 'name':...   \n",
       "2  [{'iso639_1': 'sq', 'iso639_2': 'sqi', 'name':...   \n",
       "3  [{'iso639_1': 'ar', 'iso639_2': 'ara', 'name':...   \n",
       "4  [{'iso639_1': 'en', 'iso639_2': 'eng', 'name':...   \n",
       "\n",
       "                                    flag  \\\n",
       "0  https://restcountries.eu/data/afg.svg   \n",
       "1  https://restcountries.eu/data/ala.svg   \n",
       "2  https://restcountries.eu/data/alb.svg   \n",
       "3  https://restcountries.eu/data/dza.svg   \n",
       "4  https://restcountries.eu/data/asm.svg   \n",
       "\n",
       "                                       regionalBlocs cioc  \n",
       "0  [{'acronym': 'SAARC', 'name': 'South Asian Ass...  AFG  \n",
       "1  [{'acronym': 'EU', 'name': 'European Union', '...       \n",
       "2  [{'acronym': 'CEFTA', 'name': 'Central Europea...  ALB  \n",
       "3  [{'acronym': 'AU', 'name': 'African Union', 'o...  ALG  \n",
       "4                                                 []  ASA  "
      ]
     },
     "execution_count": 7,
     "metadata": {},
     "output_type": "execute_result"
    }
   ],
   "source": [
    "df.head()"
   ]
  },
  {
   "cell_type": "code",
   "execution_count": 8,
   "metadata": {
    "ExecuteTime": {
     "end_time": "2020-07-06T06:51:08.567133Z",
     "start_time": "2020-07-06T06:51:08.562153Z"
    }
   },
   "outputs": [
    {
     "data": {
      "text/plain": [
       "Index(['country', 'alphaCode', 'capital', 'region', 'subregion', 'population',\n",
       "       'latlng', 'demonym', 'area', 'gini', 'timezones', 'borders',\n",
       "       'nativeName', 'currencies', 'languages', 'flag', 'regionalBlocs',\n",
       "       'cioc'],\n",
       "      dtype='object')"
      ]
     },
     "execution_count": 8,
     "metadata": {},
     "output_type": "execute_result"
    }
   ],
   "source": [
    "df.columns"
   ]
  },
  {
   "cell_type": "code",
   "execution_count": 9,
   "metadata": {
    "ExecuteTime": {
     "end_time": "2020-07-06T06:51:08.575105Z",
     "start_time": "2020-07-06T06:51:08.569119Z"
    }
   },
   "outputs": [],
   "source": [
    "#Change area and gini into float type\n",
    "df['area']=df['area'].astype(float)\n",
    "df['gini']=df['gini'].astype(float)"
   ]
  },
  {
   "cell_type": "code",
   "execution_count": 10,
   "metadata": {
    "ExecuteTime": {
     "end_time": "2020-07-06T06:51:08.584110Z",
     "start_time": "2020-07-06T06:51:08.577100Z"
    }
   },
   "outputs": [
    {
     "data": {
      "text/plain": [
       "country           object\n",
       "alphaCode         object\n",
       "capital           object\n",
       "region            object\n",
       "subregion         object\n",
       "population         int64\n",
       "latlng            object\n",
       "demonym           object\n",
       "area             float64\n",
       "gini             float64\n",
       "timezones         object\n",
       "borders           object\n",
       "nativeName        object\n",
       "currencies        object\n",
       "languages         object\n",
       "flag              object\n",
       "regionalBlocs     object\n",
       "cioc              object\n",
       "dtype: object"
      ]
     },
     "execution_count": 10,
     "metadata": {},
     "output_type": "execute_result"
    }
   ],
   "source": [
    "df.dtypes"
   ]
  },
  {
   "cell_type": "code",
   "execution_count": 11,
   "metadata": {
    "ExecuteTime": {
     "end_time": "2020-07-06T06:51:08.912668Z",
     "start_time": "2020-07-06T06:51:08.586105Z"
    }
   },
   "outputs": [],
   "source": [
    "#Function to extract and unlist languages column\n",
    "lang=[]\n",
    "for i in range(0,250):\n",
    "    tab=pd.Series(df['languages'][i])\n",
    "    tab=json_normalize(tab)\n",
    "    name=tab['name'].tolist()\n",
    "    name=','.join(name)\n",
    "    lang.append(name)\n",
    "\n",
    "df['languages']=lang"
   ]
  },
  {
   "cell_type": "code",
   "execution_count": 12,
   "metadata": {
    "ExecuteTime": {
     "end_time": "2020-07-06T06:51:09.389392Z",
     "start_time": "2020-07-06T06:51:08.914662Z"
    }
   },
   "outputs": [],
   "source": [
    "#Function to extract and unlist currencies column\n",
    "curr=[]\n",
    "for i in range(0,250):\n",
    "    tab=pd.Series(df['currencies'][i])\n",
    "    tab=json_normalize(tab)\n",
    "    name=tab['name'].to_string()\n",
    "    name=''.join(name)\n",
    "    name=name.replace('0','').replace('\\n1',',')\n",
    "    curr.append(name)\n",
    "    \n",
    "df['currencies']=curr"
   ]
  },
  {
   "cell_type": "code",
   "execution_count": 13,
   "metadata": {
    "ExecuteTime": {
     "end_time": "2020-07-06T06:51:09.653694Z",
     "start_time": "2020-07-06T06:51:09.391387Z"
    }
   },
   "outputs": [],
   "source": [
    "#Function to extract and unlist regionalBlocs column\n",
    "#Containing [] list of values\n",
    "bloc=[]   \n",
    "for i in range(0,250):\n",
    "    if len(df['regionalBlocs'][i]) > 0:\n",
    "        tab=pd.Series(df['regionalBlocs'][i])\n",
    "        tab=json_normalize(tab)\n",
    "        name=tab['name'].tolist()\n",
    "        name=''.join(name)\n",
    "        bloc.append(name)\n",
    "    else:\n",
    "        bloc.append('None')\n",
    "\n",
    "\n",
    "df['regionalBlocs']=bloc"
   ]
  },
  {
   "cell_type": "code",
   "execution_count": 14,
   "metadata": {
    "ExecuteTime": {
     "end_time": "2020-07-06T06:51:09.671642Z",
     "start_time": "2020-07-06T06:51:09.655681Z"
    }
   },
   "outputs": [],
   "source": [
    "#Unlist borders column and fill empty value with None string\n",
    "border=[]\n",
    "for i in range(250):\n",
    "    if len(df['borders'][i]) > 0:\n",
    "        a=df['borders'][i]\n",
    "        a=','.join(a)\n",
    "        border.append(a)\n",
    "    else:\n",
    "        border.append('None')\n",
    "df['borders']=border"
   ]
  },
  {
   "cell_type": "code",
   "execution_count": 15,
   "metadata": {
    "ExecuteTime": {
     "end_time": "2020-07-06T06:51:09.688593Z",
     "start_time": "2020-07-06T06:51:09.673633Z"
    }
   },
   "outputs": [],
   "source": [
    "#Unlist timezones column\n",
    "time=[]\n",
    "for i in range(0,250):\n",
    "    a=df['timezones'][i]\n",
    "    a=','.join(a)\n",
    "    time.append(a)\n",
    "df['timezones']=time"
   ]
  },
  {
   "cell_type": "code",
   "execution_count": 16,
   "metadata": {
    "ExecuteTime": {
     "end_time": "2020-07-06T06:51:09.732475Z",
     "start_time": "2020-07-06T06:51:09.693580Z"
    }
   },
   "outputs": [],
   "source": [
    "#Create lat and lon columns:\n",
    "lat=[]\n",
    "lon=[]\n",
    "for i in range(250):\n",
    "    if len(df['latlng'][i]) > 0:\n",
    "        la=df['latlng'][i][0]\n",
    "        lo=df['latlng'][i][1]\n",
    "        lat.append(la)\n",
    "        lon.append(lo)\n",
    "    else:\n",
    "        lat.append(np.nan)\n",
    "        lon.append(np.nan)\n",
    "df['lat']=lat\n",
    "df['lon']=lon"
   ]
  },
  {
   "cell_type": "code",
   "execution_count": 17,
   "metadata": {
    "ExecuteTime": {
     "end_time": "2020-07-06T06:51:09.748444Z",
     "start_time": "2020-07-06T06:51:09.735468Z"
    }
   },
   "outputs": [],
   "source": [
    "df.drop('latlng',axis=1,inplace=True)"
   ]
  },
  {
   "cell_type": "code",
   "execution_count": 18,
   "metadata": {
    "ExecuteTime": {
     "end_time": "2020-07-06T06:51:09.759915Z",
     "start_time": "2020-07-06T06:51:09.752421Z"
    },
    "scrolled": true
   },
   "outputs": [],
   "source": [
    "#There are 3 values presented as Nan in cioc column\n",
    "#Besides there are some columns shown with empty values not NaN\n",
    "df['cioc'].fillna('Unknown',inplace=True)"
   ]
  },
  {
   "cell_type": "code",
   "execution_count": 19,
   "metadata": {
    "ExecuteTime": {
     "end_time": "2020-07-06T06:51:09.776869Z",
     "start_time": "2020-07-06T06:51:09.762916Z"
    }
   },
   "outputs": [],
   "source": [
    "#There are some columns with empty string values which are not shown as NaN\n",
    "#Fill all those with Unknown string\n",
    "def fill_empty(col):\n",
    "    new=[]\n",
    "    for i in col:\n",
    "        if i == '':\n",
    "            new.append('Unknown')\n",
    "        else:\n",
    "            new.append(i)\n",
    "    return new\n",
    "\n",
    "df['subregion']=fill_empty(df['subregion'])\n",
    "df['region']=fill_empty(df['region'])\n",
    "df['demonym']=fill_empty(df['demonym'])\n",
    "df['cioc']=fill_empty(df['cioc'])\n",
    "df['capital']=fill_empty(df['capital'])"
   ]
  },
  {
   "cell_type": "code",
   "execution_count": 20,
   "metadata": {
    "ExecuteTime": {
     "end_time": "2020-07-06T06:51:09.812774Z",
     "start_time": "2020-07-06T06:51:09.779861Z"
    }
   },
   "outputs": [
    {
     "data": {
      "text/html": [
       "<div>\n",
       "<style scoped>\n",
       "    .dataframe tbody tr th:only-of-type {\n",
       "        vertical-align: middle;\n",
       "    }\n",
       "\n",
       "    .dataframe tbody tr th {\n",
       "        vertical-align: top;\n",
       "    }\n",
       "\n",
       "    .dataframe thead th {\n",
       "        text-align: right;\n",
       "    }\n",
       "</style>\n",
       "<table border=\"1\" class=\"dataframe\">\n",
       "  <thead>\n",
       "    <tr style=\"text-align: right;\">\n",
       "      <th></th>\n",
       "      <th>country</th>\n",
       "      <th>alphaCode</th>\n",
       "      <th>capital</th>\n",
       "      <th>region</th>\n",
       "      <th>subregion</th>\n",
       "      <th>population</th>\n",
       "      <th>demonym</th>\n",
       "      <th>area</th>\n",
       "      <th>gini</th>\n",
       "      <th>timezones</th>\n",
       "      <th>borders</th>\n",
       "      <th>nativeName</th>\n",
       "      <th>currencies</th>\n",
       "      <th>languages</th>\n",
       "      <th>flag</th>\n",
       "      <th>regionalBlocs</th>\n",
       "      <th>cioc</th>\n",
       "      <th>lat</th>\n",
       "      <th>lon</th>\n",
       "      <th>popDensity</th>\n",
       "    </tr>\n",
       "  </thead>\n",
       "  <tbody>\n",
       "    <tr>\n",
       "      <th>0</th>\n",
       "      <td>Afghanistan</td>\n",
       "      <td>AFG</td>\n",
       "      <td>Kabul</td>\n",
       "      <td>Asia</td>\n",
       "      <td>Southern Asia</td>\n",
       "      <td>27657145</td>\n",
       "      <td>Afghan</td>\n",
       "      <td>652230.0</td>\n",
       "      <td>27.8</td>\n",
       "      <td>UTC+04:30</td>\n",
       "      <td>IRN,PAK,TKM,UZB,TJK,CHN</td>\n",
       "      <td>افغانستان</td>\n",
       "      <td>Afghan afghani</td>\n",
       "      <td>Pashto,Uzbek,Turkmen</td>\n",
       "      <td>https://restcountries.eu/data/afg.svg</td>\n",
       "      <td>South Asian Association for Regional Cooperation</td>\n",
       "      <td>AFG</td>\n",
       "      <td>33.000000</td>\n",
       "      <td>65.0</td>\n",
       "      <td>42.40</td>\n",
       "    </tr>\n",
       "    <tr>\n",
       "      <th>1</th>\n",
       "      <td>Åland Islands</td>\n",
       "      <td>ALA</td>\n",
       "      <td>Mariehamn</td>\n",
       "      <td>Europe</td>\n",
       "      <td>Northern Europe</td>\n",
       "      <td>28875</td>\n",
       "      <td>Ålandish</td>\n",
       "      <td>1580.0</td>\n",
       "      <td>NaN</td>\n",
       "      <td>UTC+02:00</td>\n",
       "      <td>None</td>\n",
       "      <td>Åland</td>\n",
       "      <td>Euro</td>\n",
       "      <td>Swedish</td>\n",
       "      <td>https://restcountries.eu/data/ala.svg</td>\n",
       "      <td>European Union</td>\n",
       "      <td>Unknown</td>\n",
       "      <td>60.116667</td>\n",
       "      <td>19.9</td>\n",
       "      <td>18.28</td>\n",
       "    </tr>\n",
       "    <tr>\n",
       "      <th>2</th>\n",
       "      <td>Albania</td>\n",
       "      <td>ALB</td>\n",
       "      <td>Tirana</td>\n",
       "      <td>Europe</td>\n",
       "      <td>Southern Europe</td>\n",
       "      <td>2886026</td>\n",
       "      <td>Albanian</td>\n",
       "      <td>28748.0</td>\n",
       "      <td>34.5</td>\n",
       "      <td>UTC+01:00</td>\n",
       "      <td>MNE,GRC,MKD,KOS</td>\n",
       "      <td>Shqipëria</td>\n",
       "      <td>Albanian lek</td>\n",
       "      <td>Albanian</td>\n",
       "      <td>https://restcountries.eu/data/alb.svg</td>\n",
       "      <td>Central European Free Trade Agreement</td>\n",
       "      <td>ALB</td>\n",
       "      <td>41.000000</td>\n",
       "      <td>20.0</td>\n",
       "      <td>100.39</td>\n",
       "    </tr>\n",
       "    <tr>\n",
       "      <th>3</th>\n",
       "      <td>Algeria</td>\n",
       "      <td>DZA</td>\n",
       "      <td>Algiers</td>\n",
       "      <td>Africa</td>\n",
       "      <td>Northern Africa</td>\n",
       "      <td>40400000</td>\n",
       "      <td>Algerian</td>\n",
       "      <td>2381741.0</td>\n",
       "      <td>35.3</td>\n",
       "      <td>UTC+01:00</td>\n",
       "      <td>TUN,LBY,NER,ESH,MRT,MLI,MAR</td>\n",
       "      <td>الجزائر</td>\n",
       "      <td>Algerian dinar</td>\n",
       "      <td>Arabic</td>\n",
       "      <td>https://restcountries.eu/data/dza.svg</td>\n",
       "      <td>African UnionArab League</td>\n",
       "      <td>ALG</td>\n",
       "      <td>28.000000</td>\n",
       "      <td>3.0</td>\n",
       "      <td>16.96</td>\n",
       "    </tr>\n",
       "    <tr>\n",
       "      <th>4</th>\n",
       "      <td>American Samoa</td>\n",
       "      <td>ASM</td>\n",
       "      <td>Pago Pago</td>\n",
       "      <td>Oceania</td>\n",
       "      <td>Polynesia</td>\n",
       "      <td>57100</td>\n",
       "      <td>American Samoan</td>\n",
       "      <td>199.0</td>\n",
       "      <td>NaN</td>\n",
       "      <td>UTC-11:00</td>\n",
       "      <td>None</td>\n",
       "      <td>American Samoa</td>\n",
       "      <td>United State Dollar</td>\n",
       "      <td>English,Samoan</td>\n",
       "      <td>https://restcountries.eu/data/asm.svg</td>\n",
       "      <td>None</td>\n",
       "      <td>ASA</td>\n",
       "      <td>-14.333333</td>\n",
       "      <td>-170.0</td>\n",
       "      <td>286.93</td>\n",
       "    </tr>\n",
       "  </tbody>\n",
       "</table>\n",
       "</div>"
      ],
      "text/plain": [
       "          country alphaCode    capital   region        subregion  population  \\\n",
       "0     Afghanistan       AFG      Kabul     Asia    Southern Asia    27657145   \n",
       "1   Åland Islands       ALA  Mariehamn   Europe  Northern Europe       28875   \n",
       "2         Albania       ALB     Tirana   Europe  Southern Europe     2886026   \n",
       "3         Algeria       DZA    Algiers   Africa  Northern Africa    40400000   \n",
       "4  American Samoa       ASM  Pago Pago  Oceania        Polynesia       57100   \n",
       "\n",
       "           demonym       area  gini  timezones                      borders  \\\n",
       "0           Afghan   652230.0  27.8  UTC+04:30      IRN,PAK,TKM,UZB,TJK,CHN   \n",
       "1         Ålandish     1580.0   NaN  UTC+02:00                         None   \n",
       "2         Albanian    28748.0  34.5  UTC+01:00              MNE,GRC,MKD,KOS   \n",
       "3         Algerian  2381741.0  35.3  UTC+01:00  TUN,LBY,NER,ESH,MRT,MLI,MAR   \n",
       "4  American Samoan      199.0   NaN  UTC-11:00                         None   \n",
       "\n",
       "       nativeName               currencies             languages  \\\n",
       "0       افغانستان           Afghan afghani  Pashto,Uzbek,Turkmen   \n",
       "1           Åland                     Euro               Swedish   \n",
       "2       Shqipëria             Albanian lek              Albanian   \n",
       "3         الجزائر           Algerian dinar                Arabic   \n",
       "4  American Samoa      United State Dollar        English,Samoan   \n",
       "\n",
       "                                    flag  \\\n",
       "0  https://restcountries.eu/data/afg.svg   \n",
       "1  https://restcountries.eu/data/ala.svg   \n",
       "2  https://restcountries.eu/data/alb.svg   \n",
       "3  https://restcountries.eu/data/dza.svg   \n",
       "4  https://restcountries.eu/data/asm.svg   \n",
       "\n",
       "                                      regionalBlocs     cioc        lat  \\\n",
       "0  South Asian Association for Regional Cooperation      AFG  33.000000   \n",
       "1                                    European Union  Unknown  60.116667   \n",
       "2             Central European Free Trade Agreement      ALB  41.000000   \n",
       "3                          African UnionArab League      ALG  28.000000   \n",
       "4                                              None      ASA -14.333333   \n",
       "\n",
       "     lon  popDensity  \n",
       "0   65.0       42.40  \n",
       "1   19.9       18.28  \n",
       "2   20.0      100.39  \n",
       "3    3.0       16.96  \n",
       "4 -170.0      286.93  "
      ]
     },
     "execution_count": 20,
     "metadata": {},
     "output_type": "execute_result"
    }
   ],
   "source": [
    "df['popDensity']=round(df['population']/df['area'],2)\n",
    "df.head()"
   ]
  },
  {
   "cell_type": "code",
   "execution_count": 21,
   "metadata": {
    "ExecuteTime": {
     "end_time": "2020-07-06T06:51:09.826736Z",
     "start_time": "2020-07-06T06:51:09.814768Z"
    }
   },
   "outputs": [
    {
     "data": {
      "text/plain": [
       "country           0\n",
       "alphaCode         0\n",
       "capital           0\n",
       "region            0\n",
       "subregion         0\n",
       "population        0\n",
       "demonym           0\n",
       "area             10\n",
       "gini             97\n",
       "timezones         0\n",
       "borders           0\n",
       "nativeName        0\n",
       "currencies        0\n",
       "languages         0\n",
       "flag              0\n",
       "regionalBlocs     0\n",
       "cioc              0\n",
       "lat               1\n",
       "lon               1\n",
       "popDensity       10\n",
       "dtype: int64"
      ]
     },
     "execution_count": 21,
     "metadata": {},
     "output_type": "execute_result"
    }
   ],
   "source": [
    "#Keep NaN values in area, gini, lat, lon and popDensity columns due to no related information to fill in  \n",
    "df.isnull().sum()"
   ]
  },
  {
   "cell_type": "code",
   "execution_count": 22,
   "metadata": {
    "ExecuteTime": {
     "end_time": "2020-07-06T06:51:09.834714Z",
     "start_time": "2020-07-06T06:51:09.828731Z"
    }
   },
   "outputs": [],
   "source": [
    "dff=df.copy()"
   ]
  },
  {
   "cell_type": "code",
   "execution_count": 23,
   "metadata": {
    "ExecuteTime": {
     "end_time": "2020-07-06T06:51:09.845685Z",
     "start_time": "2020-07-06T06:51:09.836709Z"
    }
   },
   "outputs": [
    {
     "data": {
      "text/plain": [
       "Africa      60\n",
       "Americas    57\n",
       "Europe      53\n",
       "Asia        50\n",
       "Oceania     27\n",
       "Unknown      2\n",
       "Polar        1\n",
       "Name: region, dtype: int64"
      ]
     },
     "execution_count": 23,
     "metadata": {},
     "output_type": "execute_result"
    }
   ],
   "source": [
    "#Check each region has how many countries\n",
    "dff['region'].value_counts()"
   ]
  },
  {
   "cell_type": "markdown",
   "metadata": {},
   "source": [
    "### Analyzing asia countries"
   ]
  },
  {
   "cell_type": "code",
   "execution_count": 30,
   "metadata": {
    "ExecuteTime": {
     "end_time": "2020-07-06T06:51:39.565862Z",
     "start_time": "2020-07-06T06:51:39.539933Z"
    }
   },
   "outputs": [
    {
     "data": {
      "text/html": [
       "<div>\n",
       "<style scoped>\n",
       "    .dataframe tbody tr th:only-of-type {\n",
       "        vertical-align: middle;\n",
       "    }\n",
       "\n",
       "    .dataframe tbody tr th {\n",
       "        vertical-align: top;\n",
       "    }\n",
       "\n",
       "    .dataframe thead th {\n",
       "        text-align: right;\n",
       "    }\n",
       "</style>\n",
       "<table border=\"1\" class=\"dataframe\">\n",
       "  <thead>\n",
       "    <tr style=\"text-align: right;\">\n",
       "      <th></th>\n",
       "      <th>country</th>\n",
       "      <th>alphaCode</th>\n",
       "      <th>capital</th>\n",
       "      <th>region</th>\n",
       "      <th>subregion</th>\n",
       "      <th>population</th>\n",
       "      <th>demonym</th>\n",
       "      <th>area</th>\n",
       "      <th>gini</th>\n",
       "      <th>timezones</th>\n",
       "      <th>borders</th>\n",
       "      <th>nativeName</th>\n",
       "      <th>currencies</th>\n",
       "      <th>languages</th>\n",
       "      <th>flag</th>\n",
       "      <th>regionalBlocs</th>\n",
       "      <th>cioc</th>\n",
       "      <th>lat</th>\n",
       "      <th>lon</th>\n",
       "      <th>popDensity</th>\n",
       "    </tr>\n",
       "  </thead>\n",
       "  <tbody>\n",
       "    <tr>\n",
       "      <th>0</th>\n",
       "      <td>Afghanistan</td>\n",
       "      <td>AFG</td>\n",
       "      <td>Kabul</td>\n",
       "      <td>Asia</td>\n",
       "      <td>Southern Asia</td>\n",
       "      <td>27657145</td>\n",
       "      <td>Afghan</td>\n",
       "      <td>652230.0</td>\n",
       "      <td>27.8</td>\n",
       "      <td>UTC+04:30</td>\n",
       "      <td>IRN,PAK,TKM,UZB,TJK,CHN</td>\n",
       "      <td>افغانستان</td>\n",
       "      <td>Afghan afghani</td>\n",
       "      <td>Pashto,Uzbek,Turkmen</td>\n",
       "      <td>https://restcountries.eu/data/afg.svg</td>\n",
       "      <td>South Asian Association for Regional Cooperation</td>\n",
       "      <td>AFG</td>\n",
       "      <td>33.0</td>\n",
       "      <td>65.00</td>\n",
       "      <td>42.40</td>\n",
       "    </tr>\n",
       "    <tr>\n",
       "      <th>1</th>\n",
       "      <td>Armenia</td>\n",
       "      <td>ARM</td>\n",
       "      <td>Yerevan</td>\n",
       "      <td>Asia</td>\n",
       "      <td>Western Asia</td>\n",
       "      <td>2994400</td>\n",
       "      <td>Armenian</td>\n",
       "      <td>29743.0</td>\n",
       "      <td>30.9</td>\n",
       "      <td>UTC+04:00</td>\n",
       "      <td>AZE,GEO,IRN,TUR</td>\n",
       "      <td>Հայաստան</td>\n",
       "      <td>Armenian dram</td>\n",
       "      <td>Armenian,Russian</td>\n",
       "      <td>https://restcountries.eu/data/arm.svg</td>\n",
       "      <td>Eurasian Economic Union</td>\n",
       "      <td>ARM</td>\n",
       "      <td>40.0</td>\n",
       "      <td>45.00</td>\n",
       "      <td>100.68</td>\n",
       "    </tr>\n",
       "    <tr>\n",
       "      <th>2</th>\n",
       "      <td>Azerbaijan</td>\n",
       "      <td>AZE</td>\n",
       "      <td>Baku</td>\n",
       "      <td>Asia</td>\n",
       "      <td>Western Asia</td>\n",
       "      <td>9730500</td>\n",
       "      <td>Azerbaijani</td>\n",
       "      <td>86600.0</td>\n",
       "      <td>33.7</td>\n",
       "      <td>UTC+04:00</td>\n",
       "      <td>ARM,GEO,IRN,RUS,TUR</td>\n",
       "      <td>Azərbaycan</td>\n",
       "      <td>Azerbaijani manat</td>\n",
       "      <td>Azerbaijani</td>\n",
       "      <td>https://restcountries.eu/data/aze.svg</td>\n",
       "      <td>None</td>\n",
       "      <td>AZE</td>\n",
       "      <td>40.5</td>\n",
       "      <td>47.50</td>\n",
       "      <td>112.36</td>\n",
       "    </tr>\n",
       "    <tr>\n",
       "      <th>3</th>\n",
       "      <td>Bahrain</td>\n",
       "      <td>BHR</td>\n",
       "      <td>Manama</td>\n",
       "      <td>Asia</td>\n",
       "      <td>Western Asia</td>\n",
       "      <td>1404900</td>\n",
       "      <td>Bahraini</td>\n",
       "      <td>765.0</td>\n",
       "      <td>NaN</td>\n",
       "      <td>UTC+03:00</td>\n",
       "      <td>None</td>\n",
       "      <td>‏البحرين</td>\n",
       "      <td>Bahraini dinar</td>\n",
       "      <td>Arabic</td>\n",
       "      <td>https://restcountries.eu/data/bhr.svg</td>\n",
       "      <td>Arab League</td>\n",
       "      <td>BRN</td>\n",
       "      <td>26.0</td>\n",
       "      <td>50.55</td>\n",
       "      <td>1836.47</td>\n",
       "    </tr>\n",
       "    <tr>\n",
       "      <th>4</th>\n",
       "      <td>Bangladesh</td>\n",
       "      <td>BGD</td>\n",
       "      <td>Dhaka</td>\n",
       "      <td>Asia</td>\n",
       "      <td>Southern Asia</td>\n",
       "      <td>161006790</td>\n",
       "      <td>Bangladeshi</td>\n",
       "      <td>147570.0</td>\n",
       "      <td>32.1</td>\n",
       "      <td>UTC+06:00</td>\n",
       "      <td>MMR,IND</td>\n",
       "      <td>Bangladesh</td>\n",
       "      <td>Bangladeshi taka</td>\n",
       "      <td>Bengali</td>\n",
       "      <td>https://restcountries.eu/data/bgd.svg</td>\n",
       "      <td>South Asian Association for Regional Cooperation</td>\n",
       "      <td>BAN</td>\n",
       "      <td>24.0</td>\n",
       "      <td>90.00</td>\n",
       "      <td>1091.05</td>\n",
       "    </tr>\n",
       "  </tbody>\n",
       "</table>\n",
       "</div>"
      ],
      "text/plain": [
       "       country alphaCode  capital region      subregion  population  \\\n",
       "0  Afghanistan       AFG    Kabul   Asia  Southern Asia    27657145   \n",
       "1      Armenia       ARM  Yerevan   Asia   Western Asia     2994400   \n",
       "2   Azerbaijan       AZE     Baku   Asia   Western Asia     9730500   \n",
       "3      Bahrain       BHR   Manama   Asia   Western Asia     1404900   \n",
       "4   Bangladesh       BGD    Dhaka   Asia  Southern Asia   161006790   \n",
       "\n",
       "       demonym      area  gini  timezones                  borders  \\\n",
       "0       Afghan  652230.0  27.8  UTC+04:30  IRN,PAK,TKM,UZB,TJK,CHN   \n",
       "1     Armenian   29743.0  30.9  UTC+04:00          AZE,GEO,IRN,TUR   \n",
       "2  Azerbaijani   86600.0  33.7  UTC+04:00      ARM,GEO,IRN,RUS,TUR   \n",
       "3     Bahraini     765.0   NaN  UTC+03:00                     None   \n",
       "4  Bangladeshi  147570.0  32.1  UTC+06:00                  MMR,IND   \n",
       "\n",
       "   nativeName             currencies             languages  \\\n",
       "0   افغانستان         Afghan afghani  Pashto,Uzbek,Turkmen   \n",
       "1    Հայաստան          Armenian dram      Armenian,Russian   \n",
       "2  Azərbaycan      Azerbaijani manat           Azerbaijani   \n",
       "3    ‏البحرين         Bahraini dinar                Arabic   \n",
       "4  Bangladesh       Bangladeshi taka               Bengali   \n",
       "\n",
       "                                    flag  \\\n",
       "0  https://restcountries.eu/data/afg.svg   \n",
       "1  https://restcountries.eu/data/arm.svg   \n",
       "2  https://restcountries.eu/data/aze.svg   \n",
       "3  https://restcountries.eu/data/bhr.svg   \n",
       "4  https://restcountries.eu/data/bgd.svg   \n",
       "\n",
       "                                      regionalBlocs cioc   lat    lon  \\\n",
       "0  South Asian Association for Regional Cooperation  AFG  33.0  65.00   \n",
       "1                           Eurasian Economic Union  ARM  40.0  45.00   \n",
       "2                                              None  AZE  40.5  47.50   \n",
       "3                                       Arab League  BRN  26.0  50.55   \n",
       "4  South Asian Association for Regional Cooperation  BAN  24.0  90.00   \n",
       "\n",
       "   popDensity  \n",
       "0       42.40  \n",
       "1      100.68  \n",
       "2      112.36  \n",
       "3     1836.47  \n",
       "4     1091.05  "
      ]
     },
     "execution_count": 30,
     "metadata": {},
     "output_type": "execute_result"
    }
   ],
   "source": [
    "asia=dff[dff['region']=='Asia'].reset_index(drop=True)\n",
    "asia.head()"
   ]
  },
  {
   "cell_type": "code",
   "execution_count": 25,
   "metadata": {
    "ExecuteTime": {
     "end_time": "2020-07-06T06:51:09.946415Z",
     "start_time": "2020-07-06T06:51:09.933451Z"
    }
   },
   "outputs": [
    {
     "data": {
      "text/plain": [
       "Western Asia          17\n",
       "South-Eastern Asia    11\n",
       "Southern Asia          9\n",
       "Eastern Asia           8\n",
       "Central Asia           5\n",
       "Name: subregion, dtype: int64"
      ]
     },
     "execution_count": 25,
     "metadata": {},
     "output_type": "execute_result"
    }
   ],
   "source": [
    "asia['subregion'].value_counts()"
   ]
  },
  {
   "cell_type": "code",
   "execution_count": 26,
   "metadata": {
    "ExecuteTime": {
     "end_time": "2020-07-06T06:51:09.963158Z",
     "start_time": "2020-07-06T06:51:09.950405Z"
    }
   },
   "outputs": [
    {
     "data": {
      "text/plain": [
       "subregion\n",
       "Southern Asia         1807886040\n",
       "Eastern Asia          1615034420\n",
       "South-Eastern Asia     632070274\n",
       "Western Asia           262541930\n",
       "Central Asia            68722120\n",
       "Name: population, dtype: int64"
      ]
     },
     "execution_count": 26,
     "metadata": {},
     "output_type": "execute_result"
    }
   ],
   "source": [
    "total_population=asia.groupby('subregion')['population'].sum().sort_values(ascending=False)\n",
    "total_population"
   ]
  },
  {
   "cell_type": "code",
   "execution_count": 43,
   "metadata": {
    "ExecuteTime": {
     "end_time": "2020-07-06T06:56:35.649844Z",
     "start_time": "2020-07-06T06:56:35.428955Z"
    }
   },
   "outputs": [
    {
     "data": {
      "text/plain": [
       "<matplotlib.axes._subplots.AxesSubplot at 0x1a99f79d108>"
      ]
     },
     "execution_count": 43,
     "metadata": {},
     "output_type": "execute_result"
    },
    {
     "data": {
      "image/png": "[encoded data removed]",
      "text/plain": [
       "<Figure size 432x288 with 1 Axes>"
      ]
     },
     "metadata": {
      "needs_background": "light"
     },
     "output_type": "display_data"
    }
   ],
   "source": [
    "total_population.plot.bar(rot=45,title='Total population in each subregion')"
   ]
  },
  {
   "cell_type": "code",
   "execution_count": 31,
   "metadata": {
    "ExecuteTime": {
     "end_time": "2020-07-06T06:51:56.406161Z",
     "start_time": "2020-07-06T06:51:56.376242Z"
    }
   },
   "outputs": [
    {
     "data": {
      "text/html": [
       "<div>\n",
       "<style scoped>\n",
       "    .dataframe tbody tr th:only-of-type {\n",
       "        vertical-align: middle;\n",
       "    }\n",
       "\n",
       "    .dataframe tbody tr th {\n",
       "        vertical-align: top;\n",
       "    }\n",
       "\n",
       "    .dataframe thead th {\n",
       "        text-align: right;\n",
       "    }\n",
       "</style>\n",
       "<table border=\"1\" class=\"dataframe\">\n",
       "  <thead>\n",
       "    <tr style=\"text-align: right;\">\n",
       "      <th></th>\n",
       "      <th>country</th>\n",
       "      <th>alphaCode</th>\n",
       "      <th>capital</th>\n",
       "      <th>region</th>\n",
       "      <th>subregion</th>\n",
       "      <th>population</th>\n",
       "      <th>demonym</th>\n",
       "      <th>area</th>\n",
       "      <th>gini</th>\n",
       "      <th>timezones</th>\n",
       "      <th>borders</th>\n",
       "      <th>nativeName</th>\n",
       "      <th>currencies</th>\n",
       "      <th>languages</th>\n",
       "      <th>flag</th>\n",
       "      <th>regionalBlocs</th>\n",
       "      <th>cioc</th>\n",
       "      <th>lat</th>\n",
       "      <th>lon</th>\n",
       "      <th>popDensity</th>\n",
       "    </tr>\n",
       "  </thead>\n",
       "  <tbody>\n",
       "    <tr>\n",
       "      <th>0</th>\n",
       "      <td>Brunei Darussalam</td>\n",
       "      <td>BRN</td>\n",
       "      <td>Bandar Seri Begawan</td>\n",
       "      <td>Asia</td>\n",
       "      <td>South-Eastern Asia</td>\n",
       "      <td>411900</td>\n",
       "      <td>Bruneian</td>\n",
       "      <td>5765.0</td>\n",
       "      <td>NaN</td>\n",
       "      <td>UTC+08:00</td>\n",
       "      <td>MYS</td>\n",
       "      <td>Negara Brunei Darussalam</td>\n",
       "      <td>Brunei dollar,    Singapore dollar</td>\n",
       "      <td>Malay</td>\n",
       "      <td>https://restcountries.eu/data/brn.svg</td>\n",
       "      <td>Association of Southeast Asian Nations</td>\n",
       "      <td>BRU</td>\n",
       "      <td>4.5</td>\n",
       "      <td>114.666667</td>\n",
       "      <td>71.45</td>\n",
       "    </tr>\n",
       "    <tr>\n",
       "      <th>1</th>\n",
       "      <td>Cambodia</td>\n",
       "      <td>KHM</td>\n",
       "      <td>Phnom Penh</td>\n",
       "      <td>Asia</td>\n",
       "      <td>South-Eastern Asia</td>\n",
       "      <td>15626444</td>\n",
       "      <td>Cambodian</td>\n",
       "      <td>181035.0</td>\n",
       "      <td>37.9</td>\n",
       "      <td>UTC+07:00</td>\n",
       "      <td>LAO,THA,VNM</td>\n",
       "      <td>Kâmpŭchéa</td>\n",
       "      <td>Cambodian riel,    United States dollar</td>\n",
       "      <td>Khmer</td>\n",
       "      <td>https://restcountries.eu/data/khm.svg</td>\n",
       "      <td>Association of Southeast Asian Nations</td>\n",
       "      <td>CAM</td>\n",
       "      <td>13.0</td>\n",
       "      <td>105.000000</td>\n",
       "      <td>86.32</td>\n",
       "    </tr>\n",
       "    <tr>\n",
       "      <th>2</th>\n",
       "      <td>Indonesia</td>\n",
       "      <td>IDN</td>\n",
       "      <td>Jakarta</td>\n",
       "      <td>Asia</td>\n",
       "      <td>South-Eastern Asia</td>\n",
       "      <td>258705000</td>\n",
       "      <td>Indonesian</td>\n",
       "      <td>1904569.0</td>\n",
       "      <td>34.0</td>\n",
       "      <td>UTC+07:00,UTC+08:00,UTC+09:00</td>\n",
       "      <td>TLS,MYS,PNG</td>\n",
       "      <td>Indonesia</td>\n",
       "      <td>Indonesian rupiah</td>\n",
       "      <td>Indonesian</td>\n",
       "      <td>https://restcountries.eu/data/idn.svg</td>\n",
       "      <td>Association of Southeast Asian Nations</td>\n",
       "      <td>INA</td>\n",
       "      <td>-5.0</td>\n",
       "      <td>120.000000</td>\n",
       "      <td>135.83</td>\n",
       "    </tr>\n",
       "    <tr>\n",
       "      <th>3</th>\n",
       "      <td>Lao People's Democratic Republic</td>\n",
       "      <td>LAO</td>\n",
       "      <td>Vientiane</td>\n",
       "      <td>Asia</td>\n",
       "      <td>South-Eastern Asia</td>\n",
       "      <td>6492400</td>\n",
       "      <td>Laotian</td>\n",
       "      <td>236800.0</td>\n",
       "      <td>36.7</td>\n",
       "      <td>UTC+07:00</td>\n",
       "      <td>MMR,KHM,CHN,THA,VNM</td>\n",
       "      <td>ສປປລາວ</td>\n",
       "      <td>Lao kip</td>\n",
       "      <td>Lao</td>\n",
       "      <td>https://restcountries.eu/data/lao.svg</td>\n",
       "      <td>Association of Southeast Asian Nations</td>\n",
       "      <td>LAO</td>\n",
       "      <td>18.0</td>\n",
       "      <td>105.000000</td>\n",
       "      <td>27.42</td>\n",
       "    </tr>\n",
       "    <tr>\n",
       "      <th>4</th>\n",
       "      <td>Malaysia</td>\n",
       "      <td>MYS</td>\n",
       "      <td>Kuala Lumpur</td>\n",
       "      <td>Asia</td>\n",
       "      <td>South-Eastern Asia</td>\n",
       "      <td>31405416</td>\n",
       "      <td>Malaysian</td>\n",
       "      <td>330803.0</td>\n",
       "      <td>46.2</td>\n",
       "      <td>UTC+08:00</td>\n",
       "      <td>BRN,IDN,THA</td>\n",
       "      <td>Malaysia</td>\n",
       "      <td>Malaysian ringgit</td>\n",
       "      <td>Malaysian</td>\n",
       "      <td>https://restcountries.eu/data/mys.svg</td>\n",
       "      <td>Association of Southeast Asian Nations</td>\n",
       "      <td>MAS</td>\n",
       "      <td>2.5</td>\n",
       "      <td>112.500000</td>\n",
       "      <td>94.94</td>\n",
       "    </tr>\n",
       "  </tbody>\n",
       "</table>\n",
       "</div>"
      ],
      "text/plain": [
       "                            country alphaCode              capital region  \\\n",
       "0                 Brunei Darussalam       BRN  Bandar Seri Begawan   Asia   \n",
       "1                          Cambodia       KHM           Phnom Penh   Asia   \n",
       "2                         Indonesia       IDN              Jakarta   Asia   \n",
       "3  Lao People's Democratic Republic       LAO            Vientiane   Asia   \n",
       "4                          Malaysia       MYS         Kuala Lumpur   Asia   \n",
       "\n",
       "            subregion  population     demonym       area  gini  \\\n",
       "0  South-Eastern Asia      411900    Bruneian     5765.0   NaN   \n",
       "1  South-Eastern Asia    15626444   Cambodian   181035.0  37.9   \n",
       "2  South-Eastern Asia   258705000  Indonesian  1904569.0  34.0   \n",
       "3  South-Eastern Asia     6492400     Laotian   236800.0  36.7   \n",
       "4  South-Eastern Asia    31405416   Malaysian   330803.0  46.2   \n",
       "\n",
       "                       timezones              borders  \\\n",
       "0                      UTC+08:00                  MYS   \n",
       "1                      UTC+07:00          LAO,THA,VNM   \n",
       "2  UTC+07:00,UTC+08:00,UTC+09:00          TLS,MYS,PNG   \n",
       "3                      UTC+07:00  MMR,KHM,CHN,THA,VNM   \n",
       "4                      UTC+08:00          BRN,IDN,THA   \n",
       "\n",
       "                 nativeName  \\\n",
       "0  Negara Brunei Darussalam   \n",
       "1                 Kâmpŭchéa   \n",
       "2                 Indonesia   \n",
       "3                    ສປປລາວ   \n",
       "4                  Malaysia   \n",
       "\n",
       "                                          currencies   languages  \\\n",
       "0                 Brunei dollar,    Singapore dollar       Malay   \n",
       "1            Cambodian riel,    United States dollar       Khmer   \n",
       "2                                  Indonesian rupiah  Indonesian   \n",
       "3                                            Lao kip         Lao   \n",
       "4                                  Malaysian ringgit   Malaysian   \n",
       "\n",
       "                                    flag  \\\n",
       "0  https://restcountries.eu/data/brn.svg   \n",
       "1  https://restcountries.eu/data/khm.svg   \n",
       "2  https://restcountries.eu/data/idn.svg   \n",
       "3  https://restcountries.eu/data/lao.svg   \n",
       "4  https://restcountries.eu/data/mys.svg   \n",
       "\n",
       "                            regionalBlocs cioc   lat         lon  popDensity  \n",
       "0  Association of Southeast Asian Nations  BRU   4.5  114.666667       71.45  \n",
       "1  Association of Southeast Asian Nations  CAM  13.0  105.000000       86.32  \n",
       "2  Association of Southeast Asian Nations  INA  -5.0  120.000000      135.83  \n",
       "3  Association of Southeast Asian Nations  LAO  18.0  105.000000       27.42  \n",
       "4  Association of Southeast Asian Nations  MAS   2.5  112.500000       94.94  "
      ]
     },
     "execution_count": 31,
     "metadata": {},
     "output_type": "execute_result"
    }
   ],
   "source": [
    "sea=asia[asia['subregion']=='South-Eastern Asia'].reset_index(drop=True)\n",
    "sea.head()"
   ]
  },
  {
   "cell_type": "code",
   "execution_count": 28,
   "metadata": {
    "ExecuteTime": {
     "end_time": "2020-07-06T06:51:10.028982Z",
     "start_time": "2020-07-06T06:51:10.008039Z"
    }
   },
   "outputs": [
    {
     "data": {
      "text/html": [
       "<div>\n",
       "<style scoped>\n",
       "    .dataframe tbody tr th:only-of-type {\n",
       "        vertical-align: middle;\n",
       "    }\n",
       "\n",
       "    .dataframe tbody tr th {\n",
       "        vertical-align: top;\n",
       "    }\n",
       "\n",
       "    .dataframe thead th {\n",
       "        text-align: right;\n",
       "    }\n",
       "</style>\n",
       "<table border=\"1\" class=\"dataframe\">\n",
       "  <thead>\n",
       "    <tr style=\"text-align: right;\">\n",
       "      <th></th>\n",
       "      <th>country</th>\n",
       "      <th>alphaCode</th>\n",
       "      <th>capital</th>\n",
       "      <th>region</th>\n",
       "      <th>subregion</th>\n",
       "      <th>population</th>\n",
       "      <th>demonym</th>\n",
       "      <th>area</th>\n",
       "      <th>gini</th>\n",
       "      <th>timezones</th>\n",
       "      <th>borders</th>\n",
       "      <th>nativeName</th>\n",
       "      <th>currencies</th>\n",
       "      <th>languages</th>\n",
       "      <th>flag</th>\n",
       "      <th>regionalBlocs</th>\n",
       "      <th>cioc</th>\n",
       "      <th>lat</th>\n",
       "      <th>lon</th>\n",
       "      <th>popDensity</th>\n",
       "    </tr>\n",
       "  </thead>\n",
       "  <tbody>\n",
       "    <tr>\n",
       "      <th>2</th>\n",
       "      <td>Indonesia</td>\n",
       "      <td>IDN</td>\n",
       "      <td>Jakarta</td>\n",
       "      <td>Asia</td>\n",
       "      <td>South-Eastern Asia</td>\n",
       "      <td>258705000</td>\n",
       "      <td>Indonesian</td>\n",
       "      <td>1904569.0</td>\n",
       "      <td>34.0</td>\n",
       "      <td>UTC+07:00,UTC+08:00,UTC+09:00</td>\n",
       "      <td>TLS,MYS,PNG</td>\n",
       "      <td>Indonesia</td>\n",
       "      <td>Indonesian rupiah</td>\n",
       "      <td>Indonesian</td>\n",
       "      <td>https://restcountries.eu/data/idn.svg</td>\n",
       "      <td>Association of Southeast Asian Nations</td>\n",
       "      <td>INA</td>\n",
       "      <td>-5.0</td>\n",
       "      <td>120.0</td>\n",
       "      <td>135.83</td>\n",
       "    </tr>\n",
       "  </tbody>\n",
       "</table>\n",
       "</div>"
      ],
      "text/plain": [
       "     country alphaCode  capital region           subregion  population  \\\n",
       "2  Indonesia       IDN  Jakarta   Asia  South-Eastern Asia   258705000   \n",
       "\n",
       "      demonym       area  gini                      timezones      borders  \\\n",
       "2  Indonesian  1904569.0  34.0  UTC+07:00,UTC+08:00,UTC+09:00  TLS,MYS,PNG   \n",
       "\n",
       "  nativeName             currencies   languages  \\\n",
       "2  Indonesia      Indonesian rupiah  Indonesian   \n",
       "\n",
       "                                    flag  \\\n",
       "2  https://restcountries.eu/data/idn.svg   \n",
       "\n",
       "                            regionalBlocs cioc  lat    lon  popDensity  \n",
       "2  Association of Southeast Asian Nations  INA -5.0  120.0      135.83  "
      ]
     },
     "execution_count": 28,
     "metadata": {},
     "output_type": "execute_result"
    }
   ],
   "source": [
    "#The most populous country in South-Eastern Asia\n",
    "sea[sea['population']==sea['population'].max()]"
   ]
  },
  {
   "cell_type": "code",
   "execution_count": 29,
   "metadata": {
    "ExecuteTime": {
     "end_time": "2020-07-06T06:51:10.056908Z",
     "start_time": "2020-07-06T06:51:10.031976Z"
    }
   },
   "outputs": [
    {
     "data": {
      "text/html": [
       "<div>\n",
       "<style scoped>\n",
       "    .dataframe tbody tr th:only-of-type {\n",
       "        vertical-align: middle;\n",
       "    }\n",
       "\n",
       "    .dataframe tbody tr th {\n",
       "        vertical-align: top;\n",
       "    }\n",
       "\n",
       "    .dataframe thead th {\n",
       "        text-align: right;\n",
       "    }\n",
       "</style>\n",
       "<table border=\"1\" class=\"dataframe\">\n",
       "  <thead>\n",
       "    <tr style=\"text-align: right;\">\n",
       "      <th></th>\n",
       "      <th>country</th>\n",
       "      <th>alphaCode</th>\n",
       "      <th>capital</th>\n",
       "      <th>region</th>\n",
       "      <th>subregion</th>\n",
       "      <th>population</th>\n",
       "      <th>demonym</th>\n",
       "      <th>area</th>\n",
       "      <th>gini</th>\n",
       "      <th>timezones</th>\n",
       "      <th>borders</th>\n",
       "      <th>nativeName</th>\n",
       "      <th>currencies</th>\n",
       "      <th>languages</th>\n",
       "      <th>flag</th>\n",
       "      <th>regionalBlocs</th>\n",
       "      <th>cioc</th>\n",
       "      <th>lat</th>\n",
       "      <th>lon</th>\n",
       "      <th>popDensity</th>\n",
       "    </tr>\n",
       "  </thead>\n",
       "  <tbody>\n",
       "    <tr>\n",
       "      <th>0</th>\n",
       "      <td>Brunei Darussalam</td>\n",
       "      <td>BRN</td>\n",
       "      <td>Bandar Seri Begawan</td>\n",
       "      <td>Asia</td>\n",
       "      <td>South-Eastern Asia</td>\n",
       "      <td>411900</td>\n",
       "      <td>Bruneian</td>\n",
       "      <td>5765.0</td>\n",
       "      <td>NaN</td>\n",
       "      <td>UTC+08:00</td>\n",
       "      <td>MYS</td>\n",
       "      <td>Negara Brunei Darussalam</td>\n",
       "      <td>Brunei dollar,    Singapore dollar</td>\n",
       "      <td>Malay</td>\n",
       "      <td>https://restcountries.eu/data/brn.svg</td>\n",
       "      <td>Association of Southeast Asian Nations</td>\n",
       "      <td>BRU</td>\n",
       "      <td>4.5</td>\n",
       "      <td>114.666667</td>\n",
       "      <td>71.45</td>\n",
       "    </tr>\n",
       "  </tbody>\n",
       "</table>\n",
       "</div>"
      ],
      "text/plain": [
       "             country alphaCode              capital region  \\\n",
       "0  Brunei Darussalam       BRN  Bandar Seri Begawan   Asia   \n",
       "\n",
       "            subregion  population   demonym    area  gini  timezones borders  \\\n",
       "0  South-Eastern Asia      411900  Bruneian  5765.0   NaN  UTC+08:00     MYS   \n",
       "\n",
       "                 nativeName                                 currencies  \\\n",
       "0  Negara Brunei Darussalam         Brunei dollar,    Singapore dollar   \n",
       "\n",
       "  languages                                   flag  \\\n",
       "0     Malay  https://restcountries.eu/data/brn.svg   \n",
       "\n",
       "                            regionalBlocs cioc  lat         lon  popDensity  \n",
       "0  Association of Southeast Asian Nations  BRU  4.5  114.666667       71.45  "
      ]
     },
     "execution_count": 29,
     "metadata": {},
     "output_type": "execute_result"
    }
   ],
   "source": [
    "#The least populous country\n",
    "sea[sea['population']==sea['population'].min()]"
   ]
  },
  {
   "cell_type": "code",
   "execution_count": null,
   "metadata": {},
   "outputs": [],
   "source": []
  }
 ],
 "metadata": {
  "kernelspec": {
   "display_name": "Python 3",
   "language": "python",
   "name": "python3"
  },
  "language_info": {
   "codemirror_mode": {
    "name": "ipython",
    "version": 3
   },
   "file_extension": ".py",
   "mimetype": "text/x-python",
   "name": "python",
   "nbconvert_exporter": "python",
   "pygments_lexer": "ipython3",
   "version": "3.7.6"
  },
  "varInspector": {
   "cols": {
    "lenName": 16,
    "lenType": 16,
    "lenVar": 40
   },
   "kernels_config": {
    "python": {
     "delete_cmd_postfix": "",
     "delete_cmd_prefix": "del ",
     "library": "var_list.py",
     "varRefreshCmd": "print(var_dic_list())"
    },
    "r": {
     "delete_cmd_postfix": ") ",
     "delete_cmd_prefix": "rm(",
     "library": "var_list.r",
     "varRefreshCmd": "cat(var_dic_list()) "
    }
   },
   "types_to_exclude": [
    "module",
    "function",
    "builtin_function_or_method",
    "instance",
    "_Feature"
   ],
   "window_display": false
  }
 },
 "nbformat": 4,
 "nbformat_minor": 4
}
