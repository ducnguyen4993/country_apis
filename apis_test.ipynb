{
 "cells": [
  {
   "cell_type": "markdown",
   "metadata": {},
   "source": [
    "# IMPORTING DATA"
   ]
  },
  {
   "cell_type": "markdown",
   "metadata": {},
   "source": [
    "Country dataset include following information: \n",
    " - name - common name in english\n",
    " - topLevelDomain - country code top-level domain \n",
    " - alpha2Code - code ISO 3166-1 alpha-2 \n",
    " - alpha3Code - code ISO 3166-1 alpha-3 \n",
    " - callingCodes - list of all suffixes calling codes assigned to this country\n",
    " - capital - capital city(ies)\n",
    " - altSpellings - alternative spellings for country name\n",
    " - region\n",
    " - subregion\n",
    " - population\n",
    " - latlng - latitude and longitude \n",
    " - demonym - name of residents living in the country\n",
    " - area - land area in km² \n",
    " - gini - measures the inequality among values of a frequency distribution (for example, levels of income). A Gini coefficient of zero expresses perfect equality, where all values are the same (for example, where everyone has the same income). A Gini coefficient of one (or 100%) expresses maximal inequality among values (e.g., for a large number of people, where only one person has all the income or consumption, and all others have none, the Gini coefficient will be very nearly one).\n",
    " (Hệ số Gini thường được sử dụng để biểu thị mức độ bất bình đẳng trong phân phối thu nhập giữa các tầng lớp cư dân. Số 0 tượng trưng cho sự bình đẳng thu nhập tuyệt đối (mọi người đều có cùng một mức thu nhập), số 1 tượng trưng cho sự bất bình đẳng thu nhập tuyệt đối (một người có toàn bộ thu nhập, trong khi tất cả mọi người khác không có thu nhập).\n",
    "\n",
    "Hệ số Gini cũng được dùng để biểu thị mức độ chênh lệch về giàu nghèo. Khi sử dụng hệ số Gini trong trường hợp này, điều kiện yêu cầu phải thỏa mãn không tồn tại cá nhân nào có thu nhập ròng âm.)\n",
    " \n",
    "- timezones\n",
    "- borders - land borders \n",
    "- nativeName - country native names\n",
    "- numericCode\n",
    "- currencies - list of all currencies\n",
    " \t- key: ISO 4217 currency code\n",
    " \t- value: currency object\n",
    " \t\t- key: `name` name of the currency\n",
    " \t\t- key: `symbol` symbol of the currency\n",
    "- list of official languages (`languages`)\n",
    "\t- key: three-letter ISO 639-3 language code\n",
    " \t- value: name of the language in english \n",
    "- flag - Emoji flag\n",
    "- regionalBlocs - type of intergovernmental agreement, often part of a regional intergovernmental organization, where barriers to trade (tariffs and others) are reduced or eliminated among the participating states.\n",
    "- cioc - code International Olympic Committee "
   ]
  },
  {
   "cell_type": "code",
   "execution_count": 312,
   "metadata": {
    "ExecuteTime": {
     "end_time": "2020-07-02T09:12:19.798449Z",
     "start_time": "2020-07-02T09:12:19.784500Z"
    }
   },
   "outputs": [],
   "source": [
    "import requests\n",
    "import pandas as pd\n",
    "import json\n",
    "from PIL import Image\n",
    "from pandas.io.json import json_normalize\n",
    "import seaborn as sns\n",
    "import matplotlib.pyplot as plt\n",
    "import plotly.graph_objects as go\n",
    "import plotly.express as px\n",
    "from plotly.subplots import make_subplots"
   ]
  },
  {
   "cell_type": "code",
   "execution_count": 313,
   "metadata": {},
   "outputs": [],
   "source": [
    "def api_import(n):\n",
    "    response = requests.get(n)\n",
    "    status=response.status_code\n",
    "    print(\"Import status:\",status)\n",
    "    d=response.json()\n",
    "    df=pd.json_normalize(d)\n",
    "    print(\"Data shape:\",df.shape[0])\n",
    "    print('Data column:', df.columns)\n",
    "    return df          "
   ]
  },
  {
   "cell_type": "code",
   "execution_count": 314,
   "metadata": {},
   "outputs": [
    {
     "name": "stdout",
     "output_type": "stream",
     "text": [
      "Import status: 200\n",
      "Data shape: 250\n",
      "Data column: Index(['name', 'topLevelDomain', 'alpha2Code', 'alpha3Code', 'callingCodes',\n",
      "       'capital', 'altSpellings', 'region', 'subregion', 'population',\n",
      "       'latlng', 'demonym', 'area', 'gini', 'timezones', 'borders',\n",
      "       'nativeName', 'numericCode', 'currencies', 'languages', 'flag',\n",
      "       'regionalBlocs', 'cioc', 'translations.de', 'translations.es',\n",
      "       'translations.fr', 'translations.ja', 'translations.it',\n",
      "       'translations.br', 'translations.pt', 'translations.nl',\n",
      "       'translations.hr', 'translations.fa'],\n",
      "      dtype='object')\n"
     ]
    }
   ],
   "source": [
    "df = api_import('https://restcountries.eu/rest/v2/all')"
   ]
  },
  {
   "cell_type": "code",
   "execution_count": 315,
   "metadata": {},
   "outputs": [
    {
     "data": {
      "text/plain": [
       "name                object\n",
       "topLevelDomain      object\n",
       "alpha2Code          object\n",
       "alpha3Code          object\n",
       "callingCodes        object\n",
       "capital             object\n",
       "altSpellings        object\n",
       "region              object\n",
       "subregion           object\n",
       "population           int64\n",
       "latlng              object\n",
       "demonym             object\n",
       "area               float64\n",
       "gini               float64\n",
       "timezones           object\n",
       "borders             object\n",
       "nativeName          object\n",
       "numericCode         object\n",
       "currencies          object\n",
       "languages           object\n",
       "flag                object\n",
       "regionalBlocs       object\n",
       "cioc                object\n",
       "translations.de     object\n",
       "translations.es     object\n",
       "translations.fr     object\n",
       "translations.ja     object\n",
       "translations.it     object\n",
       "translations.br     object\n",
       "translations.pt     object\n",
       "translations.nl     object\n",
       "translations.hr     object\n",
       "translations.fa     object\n",
       "dtype: object"
      ]
     },
     "execution_count": 315,
     "metadata": {},
     "output_type": "execute_result"
    }
   ],
   "source": [
    "df.dtypes"
   ]
  },
  {
   "cell_type": "markdown",
   "metadata": {},
   "source": [
    "# EDA & Cleaning data"
   ]
  },
  {
   "cell_type": "markdown",
   "metadata": {},
   "source": [
    "## Drop unnecessary columns"
   ]
  },
  {
   "cell_type": "code",
   "execution_count": 316,
   "metadata": {},
   "outputs": [],
   "source": [
    "df.rename(columns={'name':'country','alpha3Code':'alphaCode'},inplace=True)\n",
    "df.drop(['topLevelDomain','alpha2Code','altSpellings','callingCodes','numericCode','translations.de', 'translations.es',\n",
    "       'translations.fr', 'translations.ja', 'translations.it',\n",
    "       'translations.br', 'translations.pt', 'translations.nl',\n",
    "       'translations.hr', 'translations.fa'],axis=1,inplace=True)"
   ]
  },
  {
   "cell_type": "code",
   "execution_count": 317,
   "metadata": {},
   "outputs": [
    {
     "name": "stdout",
     "output_type": "stream",
     "text": [
      "<class 'pandas.core.frame.DataFrame'>\n",
      "RangeIndex: 250 entries, 0 to 249\n",
      "Data columns (total 18 columns):\n",
      " #   Column         Non-Null Count  Dtype  \n",
      "---  ------         --------------  -----  \n",
      " 0   country        250 non-null    object \n",
      " 1   alphaCode      250 non-null    object \n",
      " 2   capital        250 non-null    object \n",
      " 3   region         250 non-null    object \n",
      " 4   subregion      250 non-null    object \n",
      " 5   population     250 non-null    int64  \n",
      " 6   latlng         250 non-null    object \n",
      " 7   demonym        250 non-null    object \n",
      " 8   area           240 non-null    float64\n",
      " 9   gini           153 non-null    float64\n",
      " 10  timezones      250 non-null    object \n",
      " 11  borders        250 non-null    object \n",
      " 12  nativeName     250 non-null    object \n",
      " 13  currencies     250 non-null    object \n",
      " 14  languages      250 non-null    object \n",
      " 15  flag           250 non-null    object \n",
      " 16  regionalBlocs  250 non-null    object \n",
      " 17  cioc           247 non-null    object \n",
      "dtypes: float64(2), int64(1), object(15)\n",
      "memory usage: 35.3+ KB\n"
     ]
    }
   ],
   "source": [
    "df.info()"
   ]
  },
  {
   "cell_type": "code",
   "execution_count": 318,
   "metadata": {},
   "outputs": [
    {
     "data": {
      "image/png": "[encoded data removed]",
      "text/plain": [
       "<Figure size 432x288 with 1 Axes>"
      ]
     },
     "metadata": {
      "needs_background": "light"
     },
     "output_type": "display_data"
    }
   ],
   "source": [
    "sns.heatmap(df.isnull(),cbar=False, cmap='magma'\n",
    "#             , yticklabels=False\n",
    "           )\n",
    "plt.show()"
   ]
  },
  {
   "cell_type": "markdown",
   "metadata": {},
   "source": [
    "## Categorial variables"
   ]
  },
  {
   "cell_type": "markdown",
   "metadata": {},
   "source": [
    "Basic statistics and frequency distributed for each categorial variables as below:\n",
    "- region\n",
    "- subregion\n",
    "- demonym\n",
    "- currencies\n",
    "- languages\n",
    "- regionalBlocs"
   ]
  },
  {
   "cell_type": "markdown",
   "metadata": {},
   "source": [
    "### Missing values and fill in"
   ]
  },
  {
   "cell_type": "code",
   "execution_count": 319,
   "metadata": {},
   "outputs": [],
   "source": [
    "#There are some columns with empty string values which are not shown as NaN\n",
    "#Fill all those with Unknown string\n",
    "def fill_empty(col):\n",
    "    new=[]\n",
    "    for i in col:\n",
    "        if i == '':\n",
    "            new.append('Unknown')\n",
    "        else:\n",
    "            new.append(i)\n",
    "    return new\n",
    "\n",
    "df['subregion']=fill_empty(df['subregion'])\n",
    "df['region']=fill_empty(df['region'])\n",
    "df['demonym']=fill_empty(df['demonym'])\n",
    "df['cioc']=fill_empty(df['cioc'])\n",
    "df['capital']=fill_empty(df['capital'])"
   ]
  },
  {
   "cell_type": "markdown",
   "metadata": {},
   "source": [
    "### region and subregion column"
   ]
  },
  {
   "cell_type": "code",
   "execution_count": 320,
   "metadata": {},
   "outputs": [
    {
     "data": {
      "text/plain": [
       "Africa      60\n",
       "Americas    57\n",
       "Europe      53\n",
       "Asia        50\n",
       "Oceania     27\n",
       "Unknown      2\n",
       "Polar        1\n",
       "Name: region, dtype: int64"
      ]
     },
     "execution_count": 320,
     "metadata": {},
     "output_type": "execute_result"
    }
   ],
   "source": [
    "df['region'].value_counts()"
   ]
  },
  {
   "cell_type": "code",
   "execution_count": 321,
   "metadata": {},
   "outputs": [
    {
     "data": {
      "text/html": [
       "<div>\n",
       "<style scoped>\n",
       "    .dataframe tbody tr th:only-of-type {\n",
       "        vertical-align: middle;\n",
       "    }\n",
       "\n",
       "    .dataframe tbody tr th {\n",
       "        vertical-align: top;\n",
       "    }\n",
       "\n",
       "    .dataframe thead th {\n",
       "        text-align: right;\n",
       "    }\n",
       "</style>\n",
       "<table border=\"1\" class=\"dataframe\">\n",
       "  <thead>\n",
       "    <tr style=\"text-align: right;\">\n",
       "      <th></th>\n",
       "      <th>country</th>\n",
       "      <th>alphaCode</th>\n",
       "      <th>capital</th>\n",
       "      <th>region</th>\n",
       "      <th>subregion</th>\n",
       "      <th>population</th>\n",
       "      <th>latlng</th>\n",
       "      <th>demonym</th>\n",
       "      <th>area</th>\n",
       "      <th>gini</th>\n",
       "      <th>timezones</th>\n",
       "      <th>borders</th>\n",
       "      <th>nativeName</th>\n",
       "      <th>currencies</th>\n",
       "      <th>languages</th>\n",
       "      <th>flag</th>\n",
       "      <th>regionalBlocs</th>\n",
       "      <th>cioc</th>\n",
       "    </tr>\n",
       "  </thead>\n",
       "  <tbody>\n",
       "    <tr>\n",
       "      <th>30</th>\n",
       "      <td>Bouvet Island</td>\n",
       "      <td>BVT</td>\n",
       "      <td>Unknown</td>\n",
       "      <td>Unknown</td>\n",
       "      <td>Unknown</td>\n",
       "      <td>0</td>\n",
       "      <td>[-54.43333333, 3.4]</td>\n",
       "      <td>Unknown</td>\n",
       "      <td>49.0</td>\n",
       "      <td>NaN</td>\n",
       "      <td>[UTC+01:00]</td>\n",
       "      <td>[]</td>\n",
       "      <td>Bouvetøya</td>\n",
       "      <td>[{'code': 'NOK', 'name': 'Norwegian krone', 's...</td>\n",
       "      <td>[{'iso639_1': 'no', 'iso639_2': 'nor', 'name':...</td>\n",
       "      <td>https://restcountries.eu/data/bvt.svg</td>\n",
       "      <td>[]</td>\n",
       "      <td>Unknown</td>\n",
       "    </tr>\n",
       "    <tr>\n",
       "      <th>98</th>\n",
       "      <td>Heard Island and McDonald Islands</td>\n",
       "      <td>HMD</td>\n",
       "      <td>Unknown</td>\n",
       "      <td>Unknown</td>\n",
       "      <td>Unknown</td>\n",
       "      <td>0</td>\n",
       "      <td>[-53.1, 72.51666666]</td>\n",
       "      <td>Heard and McDonald Islander</td>\n",
       "      <td>412.0</td>\n",
       "      <td>NaN</td>\n",
       "      <td>[UTC+05:00]</td>\n",
       "      <td>[]</td>\n",
       "      <td>Heard Island and McDonald Islands</td>\n",
       "      <td>[{'code': 'AUD', 'name': 'Australian dollar', ...</td>\n",
       "      <td>[{'iso639_1': 'en', 'iso639_2': 'eng', 'name':...</td>\n",
       "      <td>https://restcountries.eu/data/hmd.svg</td>\n",
       "      <td>[]</td>\n",
       "      <td>Unknown</td>\n",
       "    </tr>\n",
       "  </tbody>\n",
       "</table>\n",
       "</div>"
      ],
      "text/plain": [
       "                              country alphaCode  capital   region subregion  \\\n",
       "30                      Bouvet Island       BVT  Unknown  Unknown   Unknown   \n",
       "98  Heard Island and McDonald Islands       HMD  Unknown  Unknown   Unknown   \n",
       "\n",
       "    population                latlng                      demonym   area  \\\n",
       "30           0   [-54.43333333, 3.4]                      Unknown   49.0   \n",
       "98           0  [-53.1, 72.51666666]  Heard and McDonald Islander  412.0   \n",
       "\n",
       "    gini    timezones borders                         nativeName  \\\n",
       "30   NaN  [UTC+01:00]      []                          Bouvetøya   \n",
       "98   NaN  [UTC+05:00]      []  Heard Island and McDonald Islands   \n",
       "\n",
       "                                           currencies  \\\n",
       "30  [{'code': 'NOK', 'name': 'Norwegian krone', 's...   \n",
       "98  [{'code': 'AUD', 'name': 'Australian dollar', ...   \n",
       "\n",
       "                                            languages  \\\n",
       "30  [{'iso639_1': 'no', 'iso639_2': 'nor', 'name':...   \n",
       "98  [{'iso639_1': 'en', 'iso639_2': 'eng', 'name':...   \n",
       "\n",
       "                                     flag regionalBlocs     cioc  \n",
       "30  https://restcountries.eu/data/bvt.svg            []  Unknown  \n",
       "98  https://restcountries.eu/data/hmd.svg            []  Unknown  "
      ]
     },
     "execution_count": 321,
     "metadata": {},
     "output_type": "execute_result"
    }
   ],
   "source": [
    "df[df['region'] == 'Unknown']"
   ]
  },
  {
   "cell_type": "markdown",
   "metadata": {},
   "source": [
    "Fill region and subregion for row 30 (Bouvet Island) with same information as in row 167 (Norway) as they are in similar area."
   ]
  },
  {
   "cell_type": "code",
   "execution_count": 322,
   "metadata": {},
   "outputs": [],
   "source": [
    "df.loc[30,'region'] = df.loc[167,'region']\n",
    "df.loc[30,'subregion'] = df.loc[167,'subregion']"
   ]
  },
  {
   "cell_type": "markdown",
   "metadata": {},
   "source": [
    "Fill region and subregion for row 98 (Heard Island and McDonald Islands) with same information as in row 13 (Australia) as they are in Australian territory."
   ]
  },
  {
   "cell_type": "code",
   "execution_count": 323,
   "metadata": {},
   "outputs": [],
   "source": [
    "df.loc[98,'region'] = df.loc[13,'region']\n",
    "df.loc[98,'subregion'] = df.loc[13,'subregion']"
   ]
  },
  {
   "cell_type": "code",
   "execution_count": 324,
   "metadata": {},
   "outputs": [
    {
     "data": {
      "text/plain": [
       "Africa      60\n",
       "Americas    57\n",
       "Europe      54\n",
       "Asia        50\n",
       "Oceania     28\n",
       "Polar        1\n",
       "Name: region, dtype: int64"
      ]
     },
     "execution_count": 324,
     "metadata": {},
     "output_type": "execute_result"
    }
   ],
   "source": [
    "df['region'].value_counts()"
   ]
  },
  {
   "cell_type": "code",
   "execution_count": 325,
   "metadata": {},
   "outputs": [
    {
     "data": {
      "application/vnd.plotly.v1+json": {
       "config": {
        "plotlyServerURL": "https://plot.ly"
       },
       "data": [
        {
         "histfunc": "count",
         "type": "histogram",
         "x": [
          "Asia",
          "Europe",
          "Europe",
          "Africa",
          "Oceania",
          "Europe",
          "Africa",
          "Americas",
          "Polar",
          "Americas",
          "Americas",
          "Asia",
          "Americas",
          "Oceania",
          "Europe",
          "Asia",
          "Americas",
          "Asia",
          "Asia",
          "Americas",
          "Europe",
          "Europe",
          "Americas",
          "Africa",
          "Americas",
          "Asia",
          "Americas",
          "Americas",
          "Europe",
          "Africa",
          "Europe",
          "Americas",
          "Africa",
          "Americas",
          "Americas",
          "Americas",
          "Asia",
          "Europe",
          "Africa",
          "Africa",
          "Asia",
          "Africa",
          "Americas",
          "Africa",
          "Americas",
          "Africa",
          "Africa",
          "Americas",
          "Asia",
          "Oceania",
          "Oceania",
          "Americas",
          "Africa",
          "Africa",
          "Africa",
          "Oceania",
          "Americas",
          "Europe",
          "Americas",
          "Americas",
          "Europe",
          "Europe",
          "Europe",
          "Africa",
          "Americas",
          "Americas",
          "Americas",
          "Africa",
          "Americas",
          "Africa",
          "Africa",
          "Europe",
          "Africa",
          "Americas",
          "Europe",
          "Oceania",
          "Europe",
          "Europe",
          "Americas",
          "Oceania",
          "Africa",
          "Africa",
          "Africa",
          "Asia",
          "Europe",
          "Africa",
          "Europe",
          "Europe",
          "Americas",
          "Americas",
          "Americas",
          "Oceania",
          "Americas",
          "Europe",
          "Africa",
          "Africa",
          "Americas",
          "Americas",
          "Oceania",
          "Europe",
          "Americas",
          "Asia",
          "Europe",
          "Europe",
          "Asia",
          "Asia",
          "Africa",
          "Asia",
          "Asia",
          "Europe",
          "Europe",
          "Asia",
          "Europe",
          "Americas",
          "Asia",
          "Europe",
          "Asia",
          "Asia",
          "Africa",
          "Oceania",
          "Asia",
          "Asia",
          "Asia",
          "Europe",
          "Asia",
          "Africa",
          "Africa",
          "Africa",
          "Europe",
          "Europe",
          "Europe",
          "Asia",
          "Europe",
          "Africa",
          "Africa",
          "Asia",
          "Asia",
          "Africa",
          "Europe",
          "Oceania",
          "Americas",
          "Africa",
          "Africa",
          "Africa",
          "Americas",
          "Oceania",
          "Europe",
          "Europe",
          "Asia",
          "Europe",
          "Americas",
          "Africa",
          "Africa",
          "Asia",
          "Africa",
          "Oceania",
          "Asia",
          "Europe",
          "Oceania",
          "Oceania",
          "Americas",
          "Africa",
          "Africa",
          "Oceania",
          "Oceania",
          "Asia",
          "Oceania",
          "Europe",
          "Asia",
          "Asia",
          "Oceania",
          "Asia",
          "Americas",
          "Oceania",
          "Americas",
          "Americas",
          "Asia",
          "Oceania",
          "Europe",
          "Europe",
          "Americas",
          "Asia",
          "Europe",
          "Africa",
          "Europe",
          "Europe",
          "Africa",
          "Americas",
          "Africa",
          "Americas",
          "Americas",
          "Americas",
          "Americas",
          "Americas",
          "Oceania",
          "Europe",
          "Africa",
          "Asia",
          "Africa",
          "Europe",
          "Africa",
          "Africa",
          "Asia",
          "Americas",
          "Europe",
          "Europe",
          "Oceania",
          "Africa",
          "Africa",
          "Americas",
          "Asia",
          "Africa",
          "Europe",
          "Asia",
          "Africa",
          "Americas",
          "Europe",
          "Africa",
          "Europe",
          "Europe",
          "Asia",
          "Asia",
          "Asia",
          "Africa",
          "Asia",
          "Asia",
          "Africa",
          "Oceania",
          "Oceania",
          "Americas",
          "Africa",
          "Asia",
          "Asia",
          "Americas",
          "Oceania",
          "Africa",
          "Europe",
          "Asia",
          "Europe",
          "Americas",
          "Americas",
          "Asia",
          "Oceania",
          "Americas",
          "Asia",
          "Oceania",
          "Africa",
          "Asia",
          "Africa",
          "Africa"
         ]
        }
       ],
       "layout": {
        "template": {
         "data": {
          "bar": [
           {
            "error_x": {
             "color": "#2a3f5f"
            },
            "error_y": {
             "color": "#2a3f5f"
            },
            "marker": {
             "line": {
              "color": "#E5ECF6",
              "width": 0.5
             }
            },
            "type": "bar"
           }
          ],
          "barpolar": [
           {
            "marker": {
             "line": {
              "color": "#E5ECF6",
              "width": 0.5
             }
            },
            "type": "barpolar"
           }
          ],
          "carpet": [
           {
            "aaxis": {
             "endlinecolor": "#2a3f5f",
             "gridcolor": "white",
             "linecolor": "white",
             "minorgridcolor": "white",
             "startlinecolor": "#2a3f5f"
            },
            "baxis": {
             "endlinecolor": "#2a3f5f",
             "gridcolor": "white",
             "linecolor": "white",
             "minorgridcolor": "white",
             "startlinecolor": "#2a3f5f"
            },
            "type": "carpet"
           }
          ],
          "choropleth": [
           {
            "colorbar": {
             "outlinewidth": 0,
             "ticks": ""
            },
            "type": "choropleth"
           }
          ],
          "contour": [
           {
            "colorbar": {
             "outlinewidth": 0,
             "ticks": ""
            },
            "colorscale": [
             [
              0,
              "#0d0887"
             ],
             [
              0.1111111111111111,
              "#46039f"
             ],
             [
              0.2222222222222222,
              "#7201a8"
             ],
             [
              0.3333333333333333,
              "#9c179e"
             ],
             [
              0.4444444444444444,
              "#bd3786"
             ],
             [
              0.5555555555555556,
              "#d8576b"
             ],
             [
              0.6666666666666666,
              "#ed7953"
             ],
             [
              0.7777777777777778,
              "#fb9f3a"
             ],
             [
              0.8888888888888888,
              "#fdca26"
             ],
             [
              1,
              "#f0f921"
             ]
            ],
            "type": "contour"
           }
          ],
          "contourcarpet": [
           {
            "colorbar": {
             "outlinewidth": 0,
             "ticks": ""
            },
            "type": "contourcarpet"
           }
          ],
          "heatmap": [
           {
            "colorbar": {
             "outlinewidth": 0,
             "ticks": ""
            },
            "colorscale": [
             [
              0,
              "#0d0887"
             ],
             [
              0.1111111111111111,
              "#46039f"
             ],
             [
              0.2222222222222222,
              "#7201a8"
             ],
             [
              0.3333333333333333,
              "#9c179e"
             ],
             [
              0.4444444444444444,
              "#bd3786"
             ],
             [
              0.5555555555555556,
              "#d8576b"
             ],
             [
              0.6666666666666666,
              "#ed7953"
             ],
             [
              0.7777777777777778,
              "#fb9f3a"
             ],
             [
              0.8888888888888888,
              "#fdca26"
             ],
             [
              1,
              "#f0f921"
             ]
            ],
            "type": "heatmap"
           }
          ],
          "heatmapgl": [
           {
            "colorbar": {
             "outlinewidth": 0,
             "ticks": ""
            },
            "colorscale": [
             [
              0,
              "#0d0887"
             ],
             [
              0.1111111111111111,
              "#46039f"
             ],
             [
              0.2222222222222222,
              "#7201a8"
             ],
             [
              0.3333333333333333,
              "#9c179e"
             ],
             [
              0.4444444444444444,
              "#bd3786"
             ],
             [
              0.5555555555555556,
              "#d8576b"
             ],
             [
              0.6666666666666666,
              "#ed7953"
             ],
             [
              0.7777777777777778,
              "#fb9f3a"
             ],
             [
              0.8888888888888888,
              "#fdca26"
             ],
             [
              1,
              "#f0f921"
             ]
            ],
            "type": "heatmapgl"
           }
          ],
          "histogram": [
           {
            "marker": {
             "colorbar": {
              "outlinewidth": 0,
              "ticks": ""
             }
            },
            "type": "histogram"
           }
          ],
          "histogram2d": [
           {
            "colorbar": {
             "outlinewidth": 0,
             "ticks": ""
            },
            "colorscale": [
             [
              0,
              "#0d0887"
             ],
             [
              0.1111111111111111,
              "#46039f"
             ],
             [
              0.2222222222222222,
              "#7201a8"
             ],
             [
              0.3333333333333333,
              "#9c179e"
             ],
             [
              0.4444444444444444,
              "#bd3786"
             ],
             [
              0.5555555555555556,
              "#d8576b"
             ],
             [
              0.6666666666666666,
              "#ed7953"
             ],
             [
              0.7777777777777778,
              "#fb9f3a"
             ],
             [
              0.8888888888888888,
              "#fdca26"
             ],
             [
              1,
              "#f0f921"
             ]
            ],
            "type": "histogram2d"
           }
          ],
          "histogram2dcontour": [
           {
            "colorbar": {
             "outlinewidth": 0,
             "ticks": ""
            },
            "colorscale": [
             [
              0,
              "#0d0887"
             ],
             [
              0.1111111111111111,
              "#46039f"
             ],
             [
              0.2222222222222222,
              "#7201a8"
             ],
             [
              0.3333333333333333,
              "#9c179e"
             ],
             [
              0.4444444444444444,
              "#bd3786"
             ],
             [
              0.5555555555555556,
              "#d8576b"
             ],
             [
              0.6666666666666666,
              "#ed7953"
             ],
             [
              0.7777777777777778,
              "#fb9f3a"
             ],
             [
              0.8888888888888888,
              "#fdca26"
             ],
             [
              1,
              "#f0f921"
             ]
            ],
            "type": "histogram2dcontour"
           }
          ],
          "mesh3d": [
           {
            "colorbar": {
             "outlinewidth": 0,
             "ticks": ""
            },
            "type": "mesh3d"
           }
          ],
          "parcoords": [
           {
            "line": {
             "colorbar": {
              "outlinewidth": 0,
              "ticks": ""
             }
            },
            "type": "parcoords"
           }
          ],
          "pie": [
           {
            "automargin": true,
            "type": "pie"
           }
          ],
          "scatter": [
           {
            "marker": {
             "colorbar": {
              "outlinewidth": 0,
              "ticks": ""
             }
            },
            "type": "scatter"
           }
          ],
          "scatter3d": [
           {
            "line": {
             "colorbar": {
              "outlinewidth": 0,
              "ticks": ""
             }
            },
            "marker": {
             "colorbar": {
              "outlinewidth": 0,
              "ticks": ""
             }
            },
            "type": "scatter3d"
           }
          ],
          "scattercarpet": [
           {
            "marker": {
             "colorbar": {
              "outlinewidth": 0,
              "ticks": ""
             }
            },
            "type": "scattercarpet"
           }
          ],
          "scattergeo": [
           {
            "marker": {
             "colorbar": {
              "outlinewidth": 0,
              "ticks": ""
             }
            },
            "type": "scattergeo"
           }
          ],
          "scattergl": [
           {
            "marker": {
             "colorbar": {
              "outlinewidth": 0,
              "ticks": ""
             }
            },
            "type": "scattergl"
           }
          ],
          "scattermapbox": [
           {
            "marker": {
             "colorbar": {
              "outlinewidth": 0,
              "ticks": ""
             }
            },
            "type": "scattermapbox"
           }
          ],
          "scatterpolar": [
           {
            "marker": {
             "colorbar": {
              "outlinewidth": 0,
              "ticks": ""
             }
            },
            "type": "scatterpolar"
           }
          ],
          "scatterpolargl": [
           {
            "marker": {
             "colorbar": {
              "outlinewidth": 0,
              "ticks": ""
             }
            },
            "type": "scatterpolargl"
           }
          ],
          "scatterternary": [
           {
            "marker": {
             "colorbar": {
              "outlinewidth": 0,
              "ticks": ""
             }
            },
            "type": "scatterternary"
           }
          ],
          "surface": [
           {
            "colorbar": {
             "outlinewidth": 0,
             "ticks": ""
            },
            "colorscale": [
             [
              0,
              "#0d0887"
             ],
             [
              0.1111111111111111,
              "#46039f"
             ],
             [
              0.2222222222222222,
              "#7201a8"
             ],
             [
              0.3333333333333333,
              "#9c179e"
             ],
             [
              0.4444444444444444,
              "#bd3786"
             ],
             [
              0.5555555555555556,
              "#d8576b"
             ],
             [
              0.6666666666666666,
              "#ed7953"
             ],
             [
              0.7777777777777778,
              "#fb9f3a"
             ],
             [
              0.8888888888888888,
              "#fdca26"
             ],
             [
              1,
              "#f0f921"
             ]
            ],
            "type": "surface"
           }
          ],
          "table": [
           {
            "cells": {
             "fill": {
              "color": "#EBF0F8"
             },
             "line": {
              "color": "white"
             }
            },
            "header": {
             "fill": {
              "color": "#C8D4E3"
             },
             "line": {
              "color": "white"
             }
            },
            "type": "table"
           }
          ]
         },
         "layout": {
          "annotationdefaults": {
           "arrowcolor": "#2a3f5f",
           "arrowhead": 0,
           "arrowwidth": 1
          },
          "coloraxis": {
           "colorbar": {
            "outlinewidth": 0,
            "ticks": ""
           }
          },
          "colorscale": {
           "diverging": [
            [
             0,
             "#8e0152"
            ],
            [
             0.1,
             "#c51b7d"
            ],
            [
             0.2,
             "#de77ae"
            ],
            [
             0.3,
             "#f1b6da"
            ],
            [
             0.4,
             "#fde0ef"
            ],
            [
             0.5,
             "#f7f7f7"
            ],
            [
             0.6,
             "#e6f5d0"
            ],
            [
             0.7,
             "#b8e186"
            ],
            [
             0.8,
             "#7fbc41"
            ],
            [
             0.9,
             "#4d9221"
            ],
            [
             1,
             "#276419"
            ]
           ],
           "sequential": [
            [
             0,
             "#0d0887"
            ],
            [
             0.1111111111111111,
             "#46039f"
            ],
            [
             0.2222222222222222,
             "#7201a8"
            ],
            [
             0.3333333333333333,
             "#9c179e"
            ],
            [
             0.4444444444444444,
             "#bd3786"
            ],
            [
             0.5555555555555556,
             "#d8576b"
            ],
            [
             0.6666666666666666,
             "#ed7953"
            ],
            [
             0.7777777777777778,
             "#fb9f3a"
            ],
            [
             0.8888888888888888,
             "#fdca26"
            ],
            [
             1,
             "#f0f921"
            ]
           ],
           "sequentialminus": [
            [
             0,
             "#0d0887"
            ],
            [
             0.1111111111111111,
             "#46039f"
            ],
            [
             0.2222222222222222,
             "#7201a8"
            ],
            [
             0.3333333333333333,
             "#9c179e"
            ],
            [
             0.4444444444444444,
             "#bd3786"
            ],
            [
             0.5555555555555556,
             "#d8576b"
            ],
            [
             0.6666666666666666,
             "#ed7953"
            ],
            [
             0.7777777777777778,
             "#fb9f3a"
            ],
            [
             0.8888888888888888,
             "#fdca26"
            ],
            [
             1,
             "#f0f921"
            ]
           ]
          },
          "colorway": [
           "#636efa",
           "#EF553B",
           "#00cc96",
           "#ab63fa",
           "#FFA15A",
           "#19d3f3",
           "#FF6692",
           "#B6E880",
           "#FF97FF",
           "#FECB52"
          ],
          "font": {
           "color": "#2a3f5f"
          },
          "geo": {
           "bgcolor": "white",
           "lakecolor": "white",
           "landcolor": "#E5ECF6",
           "showlakes": true,
           "showland": true,
           "subunitcolor": "white"
          },
          "hoverlabel": {
           "align": "left"
          },
          "hovermode": "closest",
          "mapbox": {
           "style": "light"
          },
          "paper_bgcolor": "white",
          "plot_bgcolor": "#E5ECF6",
          "polar": {
           "angularaxis": {
            "gridcolor": "white",
            "linecolor": "white",
            "ticks": ""
           },
           "bgcolor": "#E5ECF6",
           "radialaxis": {
            "gridcolor": "white",
            "linecolor": "white",
            "ticks": ""
           }
          },
          "scene": {
           "xaxis": {
            "backgroundcolor": "#E5ECF6",
            "gridcolor": "white",
            "gridwidth": 2,
            "linecolor": "white",
            "showbackground": true,
            "ticks": "",
            "zerolinecolor": "white"
           },
           "yaxis": {
            "backgroundcolor": "#E5ECF6",
            "gridcolor": "white",
            "gridwidth": 2,
            "linecolor": "white",
            "showbackground": true,
            "ticks": "",
            "zerolinecolor": "white"
           },
           "zaxis": {
            "backgroundcolor": "#E5ECF6",
            "gridcolor": "white",
            "gridwidth": 2,
            "linecolor": "white",
            "showbackground": true,
            "ticks": "",
            "zerolinecolor": "white"
           }
          },
          "shapedefaults": {
           "line": {
            "color": "#2a3f5f"
           }
          },
          "ternary": {
           "aaxis": {
            "gridcolor": "white",
            "linecolor": "white",
            "ticks": ""
           },
           "baxis": {
            "gridcolor": "white",
            "linecolor": "white",
            "ticks": ""
           },
           "bgcolor": "#E5ECF6",
           "caxis": {
            "gridcolor": "white",
            "linecolor": "white",
            "ticks": ""
           }
          },
          "title": {
           "x": 0.05
          },
          "xaxis": {
           "automargin": true,
           "gridcolor": "white",
           "linecolor": "white",
           "ticks": "",
           "title": {
            "standoff": 15
           },
           "zerolinecolor": "white",
           "zerolinewidth": 2
          },
          "yaxis": {
           "automargin": true,
           "gridcolor": "white",
           "linecolor": "white",
           "ticks": "",
           "title": {
            "standoff": 15
           },
           "zerolinecolor": "white",
           "zerolinewidth": 2
          }
         }
        }
       }
      },
      "text/html": [
       "<div>\n",
       "        \n",
       "        \n",
       "            <div id=\"14c49097-b3a6-41bf-b8cf-6177c9415101\" class=\"plotly-graph-div\" style=\"height:525px; width:100%;\"></div>\n",
       "            <script type=\"text/javascript\">\n",
       "                require([\"plotly\"], function(Plotly) {\n",
       "                    window.PLOTLYENV=window.PLOTLYENV || {};\n",
       "                    \n",
       "                if (document.getElementById(\"14c49097-b3a6-41bf-b8cf-6177c9415101\")) {\n",
       "                    Plotly.newPlot(\n",
       "                        '14c49097-b3a6-41bf-b8cf-6177c9415101',\n",
       "                        [{\"histfunc\": \"count\", \"type\": \"histogram\", \"x\": [\"Asia\", \"Europe\", \"Europe\", \"Africa\", \"Oceania\", \"Europe\", \"Africa\", \"Americas\", \"Polar\", \"Americas\", \"Americas\", \"Asia\", \"Americas\", \"Oceania\", \"Europe\", \"Asia\", \"Americas\", \"Asia\", \"Asia\", \"Americas\", \"Europe\", \"Europe\", \"Americas\", \"Africa\", \"Americas\", \"Asia\", \"Americas\", \"Americas\", \"Europe\", \"Africa\", \"Europe\", \"Americas\", \"Africa\", \"Americas\", \"Americas\", \"Americas\", \"Asia\", \"Europe\", \"Africa\", \"Africa\", \"Asia\", \"Africa\", \"Americas\", \"Africa\", \"Americas\", \"Africa\", \"Africa\", \"Americas\", \"Asia\", \"Oceania\", \"Oceania\", \"Americas\", \"Africa\", \"Africa\", \"Africa\", \"Oceania\", \"Americas\", \"Europe\", \"Americas\", \"Americas\", \"Europe\", \"Europe\", \"Europe\", \"Africa\", \"Americas\", \"Americas\", \"Americas\", \"Africa\", \"Americas\", \"Africa\", \"Africa\", \"Europe\", \"Africa\", \"Americas\", \"Europe\", \"Oceania\", \"Europe\", \"Europe\", \"Americas\", \"Oceania\", \"Africa\", \"Africa\", \"Africa\", \"Asia\", \"Europe\", \"Africa\", \"Europe\", \"Europe\", \"Americas\", \"Americas\", \"Americas\", \"Oceania\", \"Americas\", \"Europe\", \"Africa\", \"Africa\", \"Americas\", \"Americas\", \"Oceania\", \"Europe\", \"Americas\", \"Asia\", \"Europe\", \"Europe\", \"Asia\", \"Asia\", \"Africa\", \"Asia\", \"Asia\", \"Europe\", \"Europe\", \"Asia\", \"Europe\", \"Americas\", \"Asia\", \"Europe\", \"Asia\", \"Asia\", \"Africa\", \"Oceania\", \"Asia\", \"Asia\", \"Asia\", \"Europe\", \"Asia\", \"Africa\", \"Africa\", \"Africa\", \"Europe\", \"Europe\", \"Europe\", \"Asia\", \"Europe\", \"Africa\", \"Africa\", \"Asia\", \"Asia\", \"Africa\", \"Europe\", \"Oceania\", \"Americas\", \"Africa\", \"Africa\", \"Africa\", \"Americas\", \"Oceania\", \"Europe\", \"Europe\", \"Asia\", \"Europe\", \"Americas\", \"Africa\", \"Africa\", \"Asia\", \"Africa\", \"Oceania\", \"Asia\", \"Europe\", \"Oceania\", \"Oceania\", \"Americas\", \"Africa\", \"Africa\", \"Oceania\", \"Oceania\", \"Asia\", \"Oceania\", \"Europe\", \"Asia\", \"Asia\", \"Oceania\", \"Asia\", \"Americas\", \"Oceania\", \"Americas\", \"Americas\", \"Asia\", \"Oceania\", \"Europe\", \"Europe\", \"Americas\", \"Asia\", \"Europe\", \"Africa\", \"Europe\", \"Europe\", \"Africa\", \"Americas\", \"Africa\", \"Americas\", \"Americas\", \"Americas\", \"Americas\", \"Americas\", \"Oceania\", \"Europe\", \"Africa\", \"Asia\", \"Africa\", \"Europe\", \"Africa\", \"Africa\", \"Asia\", \"Americas\", \"Europe\", \"Europe\", \"Oceania\", \"Africa\", \"Africa\", \"Americas\", \"Asia\", \"Africa\", \"Europe\", \"Asia\", \"Africa\", \"Americas\", \"Europe\", \"Africa\", \"Europe\", \"Europe\", \"Asia\", \"Asia\", \"Asia\", \"Africa\", \"Asia\", \"Asia\", \"Africa\", \"Oceania\", \"Oceania\", \"Americas\", \"Africa\", \"Asia\", \"Asia\", \"Americas\", \"Oceania\", \"Africa\", \"Europe\", \"Asia\", \"Europe\", \"Americas\", \"Americas\", \"Asia\", \"Oceania\", \"Americas\", \"Asia\", \"Oceania\", \"Africa\", \"Asia\", \"Africa\", \"Africa\"]}],\n",
       "                        {\"template\": {\"data\": {\"bar\": [{\"error_x\": {\"color\": \"#2a3f5f\"}, \"error_y\": {\"color\": \"#2a3f5f\"}, \"marker\": {\"line\": {\"color\": \"#E5ECF6\", \"width\": 0.5}}, \"type\": \"bar\"}], \"barpolar\": [{\"marker\": {\"line\": {\"color\": \"#E5ECF6\", \"width\": 0.5}}, \"type\": \"barpolar\"}], \"carpet\": [{\"aaxis\": {\"endlinecolor\": \"#2a3f5f\", \"gridcolor\": \"white\", \"linecolor\": \"white\", \"minorgridcolor\": \"white\", \"startlinecolor\": \"#2a3f5f\"}, \"baxis\": {\"endlinecolor\": \"#2a3f5f\", \"gridcolor\": \"white\", \"linecolor\": \"white\", \"minorgridcolor\": \"white\", \"startlinecolor\": \"#2a3f5f\"}, \"type\": \"carpet\"}], \"choropleth\": [{\"colorbar\": {\"outlinewidth\": 0, \"ticks\": \"\"}, \"type\": \"choropleth\"}], \"contour\": [{\"colorbar\": {\"outlinewidth\": 0, \"ticks\": \"\"}, \"colorscale\": [[0.0, \"#0d0887\"], [0.1111111111111111, \"#46039f\"], [0.2222222222222222, \"#7201a8\"], [0.3333333333333333, \"#9c179e\"], [0.4444444444444444, \"#bd3786\"], [0.5555555555555556, \"#d8576b\"], [0.6666666666666666, \"#ed7953\"], [0.7777777777777778, \"#fb9f3a\"], [0.8888888888888888, \"#fdca26\"], [1.0, \"#f0f921\"]], \"type\": \"contour\"}], \"contourcarpet\": [{\"colorbar\": {\"outlinewidth\": 0, \"ticks\": \"\"}, \"type\": \"contourcarpet\"}], \"heatmap\": [{\"colorbar\": {\"outlinewidth\": 0, \"ticks\": \"\"}, \"colorscale\": [[0.0, \"#0d0887\"], [0.1111111111111111, \"#46039f\"], [0.2222222222222222, \"#7201a8\"], [0.3333333333333333, \"#9c179e\"], [0.4444444444444444, \"#bd3786\"], [0.5555555555555556, \"#d8576b\"], [0.6666666666666666, \"#ed7953\"], [0.7777777777777778, \"#fb9f3a\"], [0.8888888888888888, \"#fdca26\"], [1.0, \"#f0f921\"]], \"type\": \"heatmap\"}], \"heatmapgl\": [{\"colorbar\": {\"outlinewidth\": 0, \"ticks\": \"\"}, \"colorscale\": [[0.0, \"#0d0887\"], [0.1111111111111111, \"#46039f\"], [0.2222222222222222, \"#7201a8\"], [0.3333333333333333, \"#9c179e\"], [0.4444444444444444, \"#bd3786\"], [0.5555555555555556, \"#d8576b\"], [0.6666666666666666, \"#ed7953\"], [0.7777777777777778, \"#fb9f3a\"], [0.8888888888888888, \"#fdca26\"], [1.0, \"#f0f921\"]], \"type\": \"heatmapgl\"}], \"histogram\": [{\"marker\": {\"colorbar\": {\"outlinewidth\": 0, \"ticks\": \"\"}}, \"type\": \"histogram\"}], \"histogram2d\": [{\"colorbar\": {\"outlinewidth\": 0, \"ticks\": \"\"}, \"colorscale\": [[0.0, \"#0d0887\"], [0.1111111111111111, \"#46039f\"], [0.2222222222222222, \"#7201a8\"], [0.3333333333333333, \"#9c179e\"], [0.4444444444444444, \"#bd3786\"], [0.5555555555555556, \"#d8576b\"], [0.6666666666666666, \"#ed7953\"], [0.7777777777777778, \"#fb9f3a\"], [0.8888888888888888, \"#fdca26\"], [1.0, \"#f0f921\"]], \"type\": \"histogram2d\"}], \"histogram2dcontour\": [{\"colorbar\": {\"outlinewidth\": 0, \"ticks\": \"\"}, \"colorscale\": [[0.0, \"#0d0887\"], [0.1111111111111111, \"#46039f\"], [0.2222222222222222, \"#7201a8\"], [0.3333333333333333, \"#9c179e\"], [0.4444444444444444, \"#bd3786\"], [0.5555555555555556, \"#d8576b\"], [0.6666666666666666, \"#ed7953\"], [0.7777777777777778, \"#fb9f3a\"], [0.8888888888888888, \"#fdca26\"], [1.0, \"#f0f921\"]], \"type\": \"histogram2dcontour\"}], \"mesh3d\": [{\"colorbar\": {\"outlinewidth\": 0, \"ticks\": \"\"}, \"type\": \"mesh3d\"}], \"parcoords\": [{\"line\": {\"colorbar\": {\"outlinewidth\": 0, \"ticks\": \"\"}}, \"type\": \"parcoords\"}], \"pie\": [{\"automargin\": true, \"type\": \"pie\"}], \"scatter\": [{\"marker\": {\"colorbar\": {\"outlinewidth\": 0, \"ticks\": \"\"}}, \"type\": \"scatter\"}], \"scatter3d\": [{\"line\": {\"colorbar\": {\"outlinewidth\": 0, \"ticks\": \"\"}}, \"marker\": {\"colorbar\": {\"outlinewidth\": 0, \"ticks\": \"\"}}, \"type\": \"scatter3d\"}], \"scattercarpet\": [{\"marker\": {\"colorbar\": {\"outlinewidth\": 0, \"ticks\": \"\"}}, \"type\": \"scattercarpet\"}], \"scattergeo\": [{\"marker\": {\"colorbar\": {\"outlinewidth\": 0, \"ticks\": \"\"}}, \"type\": \"scattergeo\"}], \"scattergl\": [{\"marker\": {\"colorbar\": {\"outlinewidth\": 0, \"ticks\": \"\"}}, \"type\": \"scattergl\"}], \"scattermapbox\": [{\"marker\": {\"colorbar\": {\"outlinewidth\": 0, \"ticks\": \"\"}}, \"type\": \"scattermapbox\"}], \"scatterpolar\": [{\"marker\": {\"colorbar\": {\"outlinewidth\": 0, \"ticks\": \"\"}}, \"type\": \"scatterpolar\"}], \"scatterpolargl\": [{\"marker\": {\"colorbar\": {\"outlinewidth\": 0, \"ticks\": \"\"}}, \"type\": \"scatterpolargl\"}], \"scatterternary\": [{\"marker\": {\"colorbar\": {\"outlinewidth\": 0, \"ticks\": \"\"}}, \"type\": \"scatterternary\"}], \"surface\": [{\"colorbar\": {\"outlinewidth\": 0, \"ticks\": \"\"}, \"colorscale\": [[0.0, \"#0d0887\"], [0.1111111111111111, \"#46039f\"], [0.2222222222222222, \"#7201a8\"], [0.3333333333333333, \"#9c179e\"], [0.4444444444444444, \"#bd3786\"], [0.5555555555555556, \"#d8576b\"], [0.6666666666666666, \"#ed7953\"], [0.7777777777777778, \"#fb9f3a\"], [0.8888888888888888, \"#fdca26\"], [1.0, \"#f0f921\"]], \"type\": \"surface\"}], \"table\": [{\"cells\": {\"fill\": {\"color\": \"#EBF0F8\"}, \"line\": {\"color\": \"white\"}}, \"header\": {\"fill\": {\"color\": \"#C8D4E3\"}, \"line\": {\"color\": \"white\"}}, \"type\": \"table\"}]}, \"layout\": {\"annotationdefaults\": {\"arrowcolor\": \"#2a3f5f\", \"arrowhead\": 0, \"arrowwidth\": 1}, \"coloraxis\": {\"colorbar\": {\"outlinewidth\": 0, \"ticks\": \"\"}}, \"colorscale\": {\"diverging\": [[0, \"#8e0152\"], [0.1, \"#c51b7d\"], [0.2, \"#de77ae\"], [0.3, \"#f1b6da\"], [0.4, \"#fde0ef\"], [0.5, \"#f7f7f7\"], [0.6, \"#e6f5d0\"], [0.7, \"#b8e186\"], [0.8, \"#7fbc41\"], [0.9, \"#4d9221\"], [1, \"#276419\"]], \"sequential\": [[0.0, \"#0d0887\"], [0.1111111111111111, \"#46039f\"], [0.2222222222222222, \"#7201a8\"], [0.3333333333333333, \"#9c179e\"], [0.4444444444444444, \"#bd3786\"], [0.5555555555555556, \"#d8576b\"], [0.6666666666666666, \"#ed7953\"], [0.7777777777777778, \"#fb9f3a\"], [0.8888888888888888, \"#fdca26\"], [1.0, \"#f0f921\"]], \"sequentialminus\": [[0.0, \"#0d0887\"], [0.1111111111111111, \"#46039f\"], [0.2222222222222222, \"#7201a8\"], [0.3333333333333333, \"#9c179e\"], [0.4444444444444444, \"#bd3786\"], [0.5555555555555556, \"#d8576b\"], [0.6666666666666666, \"#ed7953\"], [0.7777777777777778, \"#fb9f3a\"], [0.8888888888888888, \"#fdca26\"], [1.0, \"#f0f921\"]]}, \"colorway\": [\"#636efa\", \"#EF553B\", \"#00cc96\", \"#ab63fa\", \"#FFA15A\", \"#19d3f3\", \"#FF6692\", \"#B6E880\", \"#FF97FF\", \"#FECB52\"], \"font\": {\"color\": \"#2a3f5f\"}, \"geo\": {\"bgcolor\": \"white\", \"lakecolor\": \"white\", \"landcolor\": \"#E5ECF6\", \"showlakes\": true, \"showland\": true, \"subunitcolor\": \"white\"}, \"hoverlabel\": {\"align\": \"left\"}, \"hovermode\": \"closest\", \"mapbox\": {\"style\": \"light\"}, \"paper_bgcolor\": \"white\", \"plot_bgcolor\": \"#E5ECF6\", \"polar\": {\"angularaxis\": {\"gridcolor\": \"white\", \"linecolor\": \"white\", \"ticks\": \"\"}, \"bgcolor\": \"#E5ECF6\", \"radialaxis\": {\"gridcolor\": \"white\", \"linecolor\": \"white\", \"ticks\": \"\"}}, \"scene\": {\"xaxis\": {\"backgroundcolor\": \"#E5ECF6\", \"gridcolor\": \"white\", \"gridwidth\": 2, \"linecolor\": \"white\", \"showbackground\": true, \"ticks\": \"\", \"zerolinecolor\": \"white\"}, \"yaxis\": {\"backgroundcolor\": \"#E5ECF6\", \"gridcolor\": \"white\", \"gridwidth\": 2, \"linecolor\": \"white\", \"showbackground\": true, \"ticks\": \"\", \"zerolinecolor\": \"white\"}, \"zaxis\": {\"backgroundcolor\": \"#E5ECF6\", \"gridcolor\": \"white\", \"gridwidth\": 2, \"linecolor\": \"white\", \"showbackground\": true, \"ticks\": \"\", \"zerolinecolor\": \"white\"}}, \"shapedefaults\": {\"line\": {\"color\": \"#2a3f5f\"}}, \"ternary\": {\"aaxis\": {\"gridcolor\": \"white\", \"linecolor\": \"white\", \"ticks\": \"\"}, \"baxis\": {\"gridcolor\": \"white\", \"linecolor\": \"white\", \"ticks\": \"\"}, \"bgcolor\": \"#E5ECF6\", \"caxis\": {\"gridcolor\": \"white\", \"linecolor\": \"white\", \"ticks\": \"\"}}, \"title\": {\"x\": 0.05}, \"xaxis\": {\"automargin\": true, \"gridcolor\": \"white\", \"linecolor\": \"white\", \"ticks\": \"\", \"title\": {\"standoff\": 15}, \"zerolinecolor\": \"white\", \"zerolinewidth\": 2}, \"yaxis\": {\"automargin\": true, \"gridcolor\": \"white\", \"linecolor\": \"white\", \"ticks\": \"\", \"title\": {\"standoff\": 15}, \"zerolinecolor\": \"white\", \"zerolinewidth\": 2}}}},\n",
       "                        {\"responsive\": true}\n",
       "                    ).then(function(){\n",
       "                            \n",
       "var gd = document.getElementById('14c49097-b3a6-41bf-b8cf-6177c9415101');\n",
       "var x = new MutationObserver(function (mutations, observer) {{\n",
       "        var display = window.getComputedStyle(gd).display;\n",
       "        if (!display || display === 'none') {{\n",
       "            console.log([gd, 'removed!']);\n",
       "            Plotly.purge(gd);\n",
       "            observer.disconnect();\n",
       "        }}\n",
       "}});\n",
       "\n",
       "// Listen for the removal of the full notebook cells\n",
       "var notebookContainer = gd.closest('#notebook-container');\n",
       "if (notebookContainer) {{\n",
       "    x.observe(notebookContainer, {childList: true});\n",
       "}}\n",
       "\n",
       "// Listen for the clearing of the current output cell\n",
       "var outputEl = gd.closest('.output');\n",
       "if (outputEl) {{\n",
       "    x.observe(outputEl, {childList: true});\n",
       "}}\n",
       "\n",
       "                        })\n",
       "                };\n",
       "                });\n",
       "            </script>\n",
       "        </div>"
      ]
     },
     "metadata": {},
     "output_type": "display_data"
    }
   ],
   "source": [
    "fig = go.Figure(data=[go.Histogram(histfunc=\"count\", x=df['region'])])\n",
    "fig.show()"
   ]
  },
  {
   "cell_type": "markdown",
   "metadata": {},
   "source": [
    "### capital column"
   ]
  },
  {
   "cell_type": "code",
   "execution_count": 326,
   "metadata": {},
   "outputs": [
    {
     "data": {
      "text/html": [
       "<div>\n",
       "<style scoped>\n",
       "    .dataframe tbody tr th:only-of-type {\n",
       "        vertical-align: middle;\n",
       "    }\n",
       "\n",
       "    .dataframe tbody tr th {\n",
       "        vertical-align: top;\n",
       "    }\n",
       "\n",
       "    .dataframe thead th {\n",
       "        text-align: right;\n",
       "    }\n",
       "</style>\n",
       "<table border=\"1\" class=\"dataframe\">\n",
       "  <thead>\n",
       "    <tr style=\"text-align: right;\">\n",
       "      <th></th>\n",
       "      <th>country</th>\n",
       "      <th>alphaCode</th>\n",
       "      <th>capital</th>\n",
       "      <th>region</th>\n",
       "      <th>subregion</th>\n",
       "      <th>population</th>\n",
       "      <th>latlng</th>\n",
       "      <th>demonym</th>\n",
       "      <th>area</th>\n",
       "      <th>gini</th>\n",
       "      <th>timezones</th>\n",
       "      <th>borders</th>\n",
       "      <th>nativeName</th>\n",
       "      <th>currencies</th>\n",
       "      <th>languages</th>\n",
       "      <th>flag</th>\n",
       "      <th>regionalBlocs</th>\n",
       "      <th>cioc</th>\n",
       "    </tr>\n",
       "  </thead>\n",
       "  <tbody>\n",
       "    <tr>\n",
       "      <th>8</th>\n",
       "      <td>Antarctica</td>\n",
       "      <td>ATA</td>\n",
       "      <td>Unknown</td>\n",
       "      <td>Polar</td>\n",
       "      <td>Unknown</td>\n",
       "      <td>1000</td>\n",
       "      <td>[-74.65, 4.48]</td>\n",
       "      <td>Unknown</td>\n",
       "      <td>14000000.0</td>\n",
       "      <td>NaN</td>\n",
       "      <td>[UTC-03:00, UTC+03:00, UTC+05:00, UTC+06:00, U...</td>\n",
       "      <td>[]</td>\n",
       "      <td>Antarctica</td>\n",
       "      <td>[{'code': 'AUD', 'name': 'Australian dollar', ...</td>\n",
       "      <td>[{'iso639_1': 'en', 'iso639_2': 'eng', 'name':...</td>\n",
       "      <td>https://restcountries.eu/data/ata.svg</td>\n",
       "      <td>[]</td>\n",
       "      <td>Unknown</td>\n",
       "    </tr>\n",
       "    <tr>\n",
       "      <th>30</th>\n",
       "      <td>Bouvet Island</td>\n",
       "      <td>BVT</td>\n",
       "      <td>Unknown</td>\n",
       "      <td>Europe</td>\n",
       "      <td>Northern Europe</td>\n",
       "      <td>0</td>\n",
       "      <td>[-54.43333333, 3.4]</td>\n",
       "      <td>Unknown</td>\n",
       "      <td>49.0</td>\n",
       "      <td>NaN</td>\n",
       "      <td>[UTC+01:00]</td>\n",
       "      <td>[]</td>\n",
       "      <td>Bouvetøya</td>\n",
       "      <td>[{'code': 'NOK', 'name': 'Norwegian krone', 's...</td>\n",
       "      <td>[{'iso639_1': 'no', 'iso639_2': 'nor', 'name':...</td>\n",
       "      <td>https://restcountries.eu/data/bvt.svg</td>\n",
       "      <td>[]</td>\n",
       "      <td>Unknown</td>\n",
       "    </tr>\n",
       "    <tr>\n",
       "      <th>33</th>\n",
       "      <td>United States Minor Outlying Islands</td>\n",
       "      <td>UMI</td>\n",
       "      <td>Unknown</td>\n",
       "      <td>Americas</td>\n",
       "      <td>Northern America</td>\n",
       "      <td>300</td>\n",
       "      <td>[]</td>\n",
       "      <td>American</td>\n",
       "      <td>NaN</td>\n",
       "      <td>NaN</td>\n",
       "      <td>[UTC-11:00, UTC-10:00, UTC+12:00]</td>\n",
       "      <td>[]</td>\n",
       "      <td>United States Minor Outlying Islands</td>\n",
       "      <td>[{'code': 'USD', 'name': 'United States Dollar...</td>\n",
       "      <td>[{'iso639_1': 'en', 'iso639_2': 'eng', 'name':...</td>\n",
       "      <td>https://restcountries.eu/data/umi.svg</td>\n",
       "      <td>[]</td>\n",
       "      <td>Unknown</td>\n",
       "    </tr>\n",
       "    <tr>\n",
       "      <th>98</th>\n",
       "      <td>Heard Island and McDonald Islands</td>\n",
       "      <td>HMD</td>\n",
       "      <td>Unknown</td>\n",
       "      <td>Oceania</td>\n",
       "      <td>Australia and New Zealand</td>\n",
       "      <td>0</td>\n",
       "      <td>[-53.1, 72.51666666]</td>\n",
       "      <td>Heard and McDonald Islander</td>\n",
       "      <td>412.0</td>\n",
       "      <td>NaN</td>\n",
       "      <td>[UTC+05:00]</td>\n",
       "      <td>[]</td>\n",
       "      <td>Heard Island and McDonald Islands</td>\n",
       "      <td>[{'code': 'AUD', 'name': 'Australian dollar', ...</td>\n",
       "      <td>[{'iso639_1': 'en', 'iso639_2': 'eng', 'name':...</td>\n",
       "      <td>https://restcountries.eu/data/hmd.svg</td>\n",
       "      <td>[]</td>\n",
       "      <td>Unknown</td>\n",
       "    </tr>\n",
       "    <tr>\n",
       "      <th>131</th>\n",
       "      <td>Macao</td>\n",
       "      <td>MAC</td>\n",
       "      <td>Unknown</td>\n",
       "      <td>Asia</td>\n",
       "      <td>Eastern Asia</td>\n",
       "      <td>649100</td>\n",
       "      <td>[22.16666666, 113.55]</td>\n",
       "      <td>Chinese</td>\n",
       "      <td>30.0</td>\n",
       "      <td>NaN</td>\n",
       "      <td>[UTC+08:00]</td>\n",
       "      <td>[CHN]</td>\n",
       "      <td>澳門</td>\n",
       "      <td>[{'code': 'MOP', 'name': 'Macanese pataca', 's...</td>\n",
       "      <td>[{'iso639_1': 'zh', 'iso639_2': 'zho', 'name':...</td>\n",
       "      <td>https://restcountries.eu/data/mac.svg</td>\n",
       "      <td>[]</td>\n",
       "      <td>Unknown</td>\n",
       "    </tr>\n",
       "  </tbody>\n",
       "</table>\n",
       "</div>"
      ],
      "text/plain": [
       "                                  country alphaCode  capital    region  \\\n",
       "8                              Antarctica       ATA  Unknown     Polar   \n",
       "30                          Bouvet Island       BVT  Unknown    Europe   \n",
       "33   United States Minor Outlying Islands       UMI  Unknown  Americas   \n",
       "98      Heard Island and McDonald Islands       HMD  Unknown   Oceania   \n",
       "131                                 Macao       MAC  Unknown      Asia   \n",
       "\n",
       "                     subregion  population                 latlng  \\\n",
       "8                      Unknown        1000         [-74.65, 4.48]   \n",
       "30             Northern Europe           0    [-54.43333333, 3.4]   \n",
       "33            Northern America         300                     []   \n",
       "98   Australia and New Zealand           0   [-53.1, 72.51666666]   \n",
       "131               Eastern Asia      649100  [22.16666666, 113.55]   \n",
       "\n",
       "                         demonym        area  gini  \\\n",
       "8                        Unknown  14000000.0   NaN   \n",
       "30                       Unknown        49.0   NaN   \n",
       "33                      American         NaN   NaN   \n",
       "98   Heard and McDonald Islander       412.0   NaN   \n",
       "131                      Chinese        30.0   NaN   \n",
       "\n",
       "                                             timezones borders  \\\n",
       "8    [UTC-03:00, UTC+03:00, UTC+05:00, UTC+06:00, U...      []   \n",
       "30                                         [UTC+01:00]      []   \n",
       "33                   [UTC-11:00, UTC-10:00, UTC+12:00]      []   \n",
       "98                                         [UTC+05:00]      []   \n",
       "131                                        [UTC+08:00]   [CHN]   \n",
       "\n",
       "                               nativeName  \\\n",
       "8                              Antarctica   \n",
       "30                              Bouvetøya   \n",
       "33   United States Minor Outlying Islands   \n",
       "98      Heard Island and McDonald Islands   \n",
       "131                                    澳門   \n",
       "\n",
       "                                            currencies  \\\n",
       "8    [{'code': 'AUD', 'name': 'Australian dollar', ...   \n",
       "30   [{'code': 'NOK', 'name': 'Norwegian krone', 's...   \n",
       "33   [{'code': 'USD', 'name': 'United States Dollar...   \n",
       "98   [{'code': 'AUD', 'name': 'Australian dollar', ...   \n",
       "131  [{'code': 'MOP', 'name': 'Macanese pataca', 's...   \n",
       "\n",
       "                                             languages  \\\n",
       "8    [{'iso639_1': 'en', 'iso639_2': 'eng', 'name':...   \n",
       "30   [{'iso639_1': 'no', 'iso639_2': 'nor', 'name':...   \n",
       "33   [{'iso639_1': 'en', 'iso639_2': 'eng', 'name':...   \n",
       "98   [{'iso639_1': 'en', 'iso639_2': 'eng', 'name':...   \n",
       "131  [{'iso639_1': 'zh', 'iso639_2': 'zho', 'name':...   \n",
       "\n",
       "                                      flag regionalBlocs     cioc  \n",
       "8    https://restcountries.eu/data/ata.svg            []  Unknown  \n",
       "30   https://restcountries.eu/data/bvt.svg            []  Unknown  \n",
       "33   https://restcountries.eu/data/umi.svg            []  Unknown  \n",
       "98   https://restcountries.eu/data/hmd.svg            []  Unknown  \n",
       "131  https://restcountries.eu/data/mac.svg            []  Unknown  "
      ]
     },
     "execution_count": 326,
     "metadata": {},
     "output_type": "execute_result"
    }
   ],
   "source": [
    "df[df['capital'] == 'Unknown']"
   ]
  },
  {
   "cell_type": "code",
   "execution_count": 327,
   "metadata": {},
   "outputs": [],
   "source": [
    "## not necessary to fill in info here"
   ]
  },
  {
   "cell_type": "markdown",
   "metadata": {},
   "source": [
    "### demonym column"
   ]
  },
  {
   "cell_type": "code",
   "execution_count": 328,
   "metadata": {},
   "outputs": [
    {
     "data": {
      "text/html": [
       "<div>\n",
       "<style scoped>\n",
       "    .dataframe tbody tr th:only-of-type {\n",
       "        vertical-align: middle;\n",
       "    }\n",
       "\n",
       "    .dataframe tbody tr th {\n",
       "        vertical-align: top;\n",
       "    }\n",
       "\n",
       "    .dataframe thead th {\n",
       "        text-align: right;\n",
       "    }\n",
       "</style>\n",
       "<table border=\"1\" class=\"dataframe\">\n",
       "  <thead>\n",
       "    <tr style=\"text-align: right;\">\n",
       "      <th></th>\n",
       "      <th>country</th>\n",
       "      <th>alphaCode</th>\n",
       "      <th>capital</th>\n",
       "      <th>region</th>\n",
       "      <th>subregion</th>\n",
       "      <th>population</th>\n",
       "      <th>latlng</th>\n",
       "      <th>demonym</th>\n",
       "      <th>area</th>\n",
       "      <th>gini</th>\n",
       "      <th>timezones</th>\n",
       "      <th>borders</th>\n",
       "      <th>nativeName</th>\n",
       "      <th>currencies</th>\n",
       "      <th>languages</th>\n",
       "      <th>flag</th>\n",
       "      <th>regionalBlocs</th>\n",
       "      <th>cioc</th>\n",
       "    </tr>\n",
       "  </thead>\n",
       "  <tbody>\n",
       "    <tr>\n",
       "      <th>8</th>\n",
       "      <td>Antarctica</td>\n",
       "      <td>ATA</td>\n",
       "      <td>Unknown</td>\n",
       "      <td>Polar</td>\n",
       "      <td>Unknown</td>\n",
       "      <td>1000</td>\n",
       "      <td>[-74.65, 4.48]</td>\n",
       "      <td>Unknown</td>\n",
       "      <td>14000000.00</td>\n",
       "      <td>NaN</td>\n",
       "      <td>[UTC-03:00, UTC+03:00, UTC+05:00, UTC+06:00, U...</td>\n",
       "      <td>[]</td>\n",
       "      <td>Antarctica</td>\n",
       "      <td>[{'code': 'AUD', 'name': 'Australian dollar', ...</td>\n",
       "      <td>[{'iso639_1': 'en', 'iso639_2': 'eng', 'name':...</td>\n",
       "      <td>https://restcountries.eu/data/ata.svg</td>\n",
       "      <td>[]</td>\n",
       "      <td>Unknown</td>\n",
       "    </tr>\n",
       "    <tr>\n",
       "      <th>30</th>\n",
       "      <td>Bouvet Island</td>\n",
       "      <td>BVT</td>\n",
       "      <td>Unknown</td>\n",
       "      <td>Europe</td>\n",
       "      <td>Northern Europe</td>\n",
       "      <td>0</td>\n",
       "      <td>[-54.43333333, 3.4]</td>\n",
       "      <td>Unknown</td>\n",
       "      <td>49.00</td>\n",
       "      <td>NaN</td>\n",
       "      <td>[UTC+01:00]</td>\n",
       "      <td>[]</td>\n",
       "      <td>Bouvetøya</td>\n",
       "      <td>[{'code': 'NOK', 'name': 'Norwegian krone', 's...</td>\n",
       "      <td>[{'iso639_1': 'no', 'iso639_2': 'nor', 'name':...</td>\n",
       "      <td>https://restcountries.eu/data/bvt.svg</td>\n",
       "      <td>[]</td>\n",
       "      <td>Unknown</td>\n",
       "    </tr>\n",
       "    <tr>\n",
       "      <th>78</th>\n",
       "      <td>French Guiana</td>\n",
       "      <td>GUF</td>\n",
       "      <td>Cayenne</td>\n",
       "      <td>Americas</td>\n",
       "      <td>South America</td>\n",
       "      <td>254541</td>\n",
       "      <td>[4.0, -53.0]</td>\n",
       "      <td>Unknown</td>\n",
       "      <td>NaN</td>\n",
       "      <td>NaN</td>\n",
       "      <td>[UTC-03:00]</td>\n",
       "      <td>[BRA, SUR]</td>\n",
       "      <td>Guyane française</td>\n",
       "      <td>[{'code': 'EUR', 'name': 'Euro', 'symbol': '€'}]</td>\n",
       "      <td>[{'iso639_1': 'fr', 'iso639_2': 'fra', 'name':...</td>\n",
       "      <td>https://restcountries.eu/data/guf.svg</td>\n",
       "      <td>[{'acronym': 'USAN', 'name': 'Union of South A...</td>\n",
       "      <td>Unknown</td>\n",
       "    </tr>\n",
       "    <tr>\n",
       "      <th>99</th>\n",
       "      <td>Holy See</td>\n",
       "      <td>VAT</td>\n",
       "      <td>Rome</td>\n",
       "      <td>Europe</td>\n",
       "      <td>Southern Europe</td>\n",
       "      <td>451</td>\n",
       "      <td>[41.9, 12.45]</td>\n",
       "      <td>Unknown</td>\n",
       "      <td>0.44</td>\n",
       "      <td>NaN</td>\n",
       "      <td>[UTC+01:00]</td>\n",
       "      <td>[ITA]</td>\n",
       "      <td>Sancta Sedes</td>\n",
       "      <td>[{'code': 'EUR', 'name': 'Euro', 'symbol': '€'}]</td>\n",
       "      <td>[{'iso639_1': 'la', 'iso639_2': 'lat', 'name':...</td>\n",
       "      <td>https://restcountries.eu/data/vat.svg</td>\n",
       "      <td>[]</td>\n",
       "      <td>Unknown</td>\n",
       "    </tr>\n",
       "  </tbody>\n",
       "</table>\n",
       "</div>"
      ],
      "text/plain": [
       "          country alphaCode  capital    region        subregion  population  \\\n",
       "8      Antarctica       ATA  Unknown     Polar          Unknown        1000   \n",
       "30  Bouvet Island       BVT  Unknown    Europe  Northern Europe           0   \n",
       "78  French Guiana       GUF  Cayenne  Americas    South America      254541   \n",
       "99       Holy See       VAT     Rome    Europe  Southern Europe         451   \n",
       "\n",
       "                 latlng  demonym         area  gini  \\\n",
       "8        [-74.65, 4.48]  Unknown  14000000.00   NaN   \n",
       "30  [-54.43333333, 3.4]  Unknown        49.00   NaN   \n",
       "78         [4.0, -53.0]  Unknown          NaN   NaN   \n",
       "99        [41.9, 12.45]  Unknown         0.44   NaN   \n",
       "\n",
       "                                            timezones     borders  \\\n",
       "8   [UTC-03:00, UTC+03:00, UTC+05:00, UTC+06:00, U...          []   \n",
       "30                                        [UTC+01:00]          []   \n",
       "78                                        [UTC-03:00]  [BRA, SUR]   \n",
       "99                                        [UTC+01:00]       [ITA]   \n",
       "\n",
       "          nativeName                                         currencies  \\\n",
       "8         Antarctica  [{'code': 'AUD', 'name': 'Australian dollar', ...   \n",
       "30         Bouvetøya  [{'code': 'NOK', 'name': 'Norwegian krone', 's...   \n",
       "78  Guyane française   [{'code': 'EUR', 'name': 'Euro', 'symbol': '€'}]   \n",
       "99      Sancta Sedes   [{'code': 'EUR', 'name': 'Euro', 'symbol': '€'}]   \n",
       "\n",
       "                                            languages  \\\n",
       "8   [{'iso639_1': 'en', 'iso639_2': 'eng', 'name':...   \n",
       "30  [{'iso639_1': 'no', 'iso639_2': 'nor', 'name':...   \n",
       "78  [{'iso639_1': 'fr', 'iso639_2': 'fra', 'name':...   \n",
       "99  [{'iso639_1': 'la', 'iso639_2': 'lat', 'name':...   \n",
       "\n",
       "                                     flag  \\\n",
       "8   https://restcountries.eu/data/ata.svg   \n",
       "30  https://restcountries.eu/data/bvt.svg   \n",
       "78  https://restcountries.eu/data/guf.svg   \n",
       "99  https://restcountries.eu/data/vat.svg   \n",
       "\n",
       "                                        regionalBlocs     cioc  \n",
       "8                                                  []  Unknown  \n",
       "30                                                 []  Unknown  \n",
       "78  [{'acronym': 'USAN', 'name': 'Union of South A...  Unknown  \n",
       "99                                                 []  Unknown  "
      ]
     },
     "execution_count": 328,
     "metadata": {},
     "output_type": "execute_result"
    }
   ],
   "source": [
    "df[df['demonym'] == 'Unknown']"
   ]
  },
  {
   "cell_type": "markdown",
   "metadata": {},
   "source": [
    "Fill in empty demonym values and dit similar demonym into a single name."
   ]
  },
  {
   "cell_type": "code",
   "execution_count": 329,
   "metadata": {},
   "outputs": [],
   "source": [
    "df.loc[8,'demonym'] = 'International'\n",
    "df.loc[30,'demonym'] = df.loc[167,'demonym']\n",
    "df.loc[78,'demonym'] = 'French'\n",
    "df.loc[79,'demonym'] = 'French'\n",
    "df.loc[99,'demonym'] = 'Papal'\n",
    "df.loc[95,'demonym'] = 'Guinea'\n",
    "df.loc[69,'demonym'] = 'Guinea'\n",
    "df.loc[173,'demonym'] = 'Guinea'\n",
    "df.loc[165,'demonym'] = 'Korean'\n",
    "df.loc[210,'demonym'] = 'Korean'\n",
    "df.loc[211,'demonym'] = 'Sudanese'\n",
    "df.loc[221,'demonym'] = 'Chinese'"
   ]
  },
  {
   "cell_type": "code",
   "execution_count": 330,
   "metadata": {},
   "outputs": [
    {
     "data": {
      "application/vnd.plotly.v1+json": {
       "config": {
        "plotlyServerURL": "https://plot.ly"
       },
       "data": [
        {
         "histfunc": "count",
         "type": "histogram",
         "x": [
          "Afghan",
          "Ålandish",
          "Albanian",
          "Algerian",
          "American Samoan",
          "Andorran",
          "Angolan",
          "Anguillian",
          "International",
          "Antiguan, Barbudan",
          "Argentinean",
          "Armenian",
          "Aruban",
          "Australian",
          "Austrian",
          "Azerbaijani",
          "Bahamian",
          "Bahraini",
          "Bangladeshi",
          "Barbadian",
          "Belarusian",
          "Belgian",
          "Belizean",
          "Beninese",
          "Bermudian",
          "Bhutanese",
          "Bolivian",
          "Dutch",
          "Bosnian, Herzegovinian",
          "Motswana",
          "Norwegian",
          "Brazilian",
          "Indian",
          "American",
          "Virgin Islander",
          "Virgin Islander",
          "Bruneian",
          "Bulgarian",
          "Burkinabe",
          "Burundian",
          "Cambodian",
          "Cameroonian",
          "Canadian",
          "Cape Verdian",
          "Caymanian",
          "Central African",
          "Chadian",
          "Chilean",
          "Chinese",
          "Christmas Island",
          "Cocos Islander",
          "Colombian",
          "Comoran",
          "Congolese",
          "Congolese",
          "Cook Islander",
          "Costa Rican",
          "Croatian",
          "Cuban",
          "Dutch",
          "Cypriot",
          "Czech",
          "Danish",
          "Djibouti",
          "Dominican",
          "Dominican",
          "Ecuadorean",
          "Egyptian",
          "Salvadoran",
          "Guinea",
          "Eritrean",
          "Estonian",
          "Ethiopian",
          "Falkland Islander",
          "Faroese",
          "Fijian",
          "Finnish",
          "French",
          "French",
          "French",
          "French",
          "Gabonese",
          "Gambian",
          "Georgian",
          "German",
          "Ghanaian",
          "Gibraltar",
          "Greek",
          "Greenlandic",
          "Grenadian",
          "Guadeloupian",
          "Guamanian",
          "Guatemalan",
          "Channel Islander",
          "Guinean",
          "Guinea",
          "Guyanese",
          "Haitian",
          "Heard and McDonald Islander",
          "Papal",
          "Honduran",
          "Chinese",
          "Hungarian",
          "Icelander",
          "Indian",
          "Indonesian",
          "Ivorian",
          "Iranian",
          "Iraqi",
          "Irish",
          "Manx",
          "Israeli",
          "Italian",
          "Jamaican",
          "Japanese",
          "Channel Islander",
          "Jordanian",
          "Kazakhstani",
          "Kenyan",
          "I-Kiribati",
          "Kuwaiti",
          "Kirghiz",
          "Laotian",
          "Latvian",
          "Lebanese",
          "Mosotho",
          "Liberian",
          "Libyan",
          "Liechtensteiner",
          "Lithuanian",
          "Luxembourger",
          "Chinese",
          "Macedonian",
          "Malagasy",
          "Malawian",
          "Malaysian",
          "Maldivan",
          "Malian",
          "Maltese",
          "Marshallese",
          "French",
          "Mauritanian",
          "Mauritian",
          "French",
          "Mexican",
          "Micronesian",
          "Moldovan",
          "Monegasque",
          "Mongolian",
          "Montenegrin",
          "Montserratian",
          "Moroccan",
          "Mozambican",
          "Burmese",
          "Namibian",
          "Nauruan",
          "Nepalese",
          "Dutch",
          "New Caledonian",
          "New Zealander",
          "Nicaraguan",
          "Nigerien",
          "Nigerian",
          "Niuean",
          "Norfolk Islander",
          "Korean",
          "American",
          "Norwegian",
          "Omani",
          "Pakistani",
          "Palauan",
          "Palestinian",
          "Panamanian",
          "Guinea",
          "Paraguayan",
          "Peruvian",
          "Filipino",
          "Pitcairn Islander",
          "Polish",
          "Portuguese",
          "Puerto Rican",
          "Qatari",
          "Kosovar",
          "French",
          "Romanian",
          "Russian",
          "Rwandan",
          "Saint Barthélemy Islander",
          "Saint Helenian",
          "Kittian and Nevisian",
          "Saint Lucian",
          "Saint Martin Islander",
          "French",
          "Saint Vincentian",
          "Samoan",
          "Sammarinese",
          "Sao Tomean",
          "Saudi Arabian",
          "Senegalese",
          "Serbian",
          "Seychellois",
          "Sierra Leonean",
          "Singaporean",
          "Dutch",
          "Slovak",
          "Slovene",
          "Solomon Islander",
          "Somali",
          "South African",
          "South Georgia and the South Sandwich Islander",
          "Korean",
          "Sudanese",
          "Spanish",
          "Sri Lankan",
          "Sudanese",
          "Surinamer",
          "Norwegian",
          "Swazi",
          "Swedish",
          "Swiss",
          "Syrian",
          "Chinese",
          "Tadzhik",
          "Tanzanian",
          "Thai",
          "East Timorese",
          "Togolese",
          "Tokelauan",
          "Tongan",
          "Trinidadian",
          "Tunisian",
          "Turkish",
          "Turkmen",
          "Turks and Caicos Islander",
          "Tuvaluan",
          "Ugandan",
          "Ukrainian",
          "Emirati",
          "British",
          "American",
          "Uruguayan",
          "Uzbekistani",
          "Ni-Vanuatu",
          "Venezuelan",
          "Vietnamese",
          "Wallis and Futuna Islander",
          "Sahrawi",
          "Yemeni",
          "Zambian",
          "Zimbabwean"
         ]
        }
       ],
       "layout": {
        "template": {
         "data": {
          "bar": [
           {
            "error_x": {
             "color": "#2a3f5f"
            },
            "error_y": {
             "color": "#2a3f5f"
            },
            "marker": {
             "line": {
              "color": "#E5ECF6",
              "width": 0.5
             }
            },
            "type": "bar"
           }
          ],
          "barpolar": [
           {
            "marker": {
             "line": {
              "color": "#E5ECF6",
              "width": 0.5
             }
            },
            "type": "barpolar"
           }
          ],
          "carpet": [
           {
            "aaxis": {
             "endlinecolor": "#2a3f5f",
             "gridcolor": "white",
             "linecolor": "white",
             "minorgridcolor": "white",
             "startlinecolor": "#2a3f5f"
            },
            "baxis": {
             "endlinecolor": "#2a3f5f",
             "gridcolor": "white",
             "linecolor": "white",
             "minorgridcolor": "white",
             "startlinecolor": "#2a3f5f"
            },
            "type": "carpet"
           }
          ],
          "choropleth": [
           {
            "colorbar": {
             "outlinewidth": 0,
             "ticks": ""
            },
            "type": "choropleth"
           }
          ],
          "contour": [
           {
            "colorbar": {
             "outlinewidth": 0,
             "ticks": ""
            },
            "colorscale": [
             [
              0,
              "#0d0887"
             ],
             [
              0.1111111111111111,
              "#46039f"
             ],
             [
              0.2222222222222222,
              "#7201a8"
             ],
             [
              0.3333333333333333,
              "#9c179e"
             ],
             [
              0.4444444444444444,
              "#bd3786"
             ],
             [
              0.5555555555555556,
              "#d8576b"
             ],
             [
              0.6666666666666666,
              "#ed7953"
             ],
             [
              0.7777777777777778,
              "#fb9f3a"
             ],
             [
              0.8888888888888888,
              "#fdca26"
             ],
             [
              1,
              "#f0f921"
             ]
            ],
            "type": "contour"
           }
          ],
          "contourcarpet": [
           {
            "colorbar": {
             "outlinewidth": 0,
             "ticks": ""
            },
            "type": "contourcarpet"
           }
          ],
          "heatmap": [
           {
            "colorbar": {
             "outlinewidth": 0,
             "ticks": ""
            },
            "colorscale": [
             [
              0,
              "#0d0887"
             ],
             [
              0.1111111111111111,
              "#46039f"
             ],
             [
              0.2222222222222222,
              "#7201a8"
             ],
             [
              0.3333333333333333,
              "#9c179e"
             ],
             [
              0.4444444444444444,
              "#bd3786"
             ],
             [
              0.5555555555555556,
              "#d8576b"
             ],
             [
              0.6666666666666666,
              "#ed7953"
             ],
             [
              0.7777777777777778,
              "#fb9f3a"
             ],
             [
              0.8888888888888888,
              "#fdca26"
             ],
             [
              1,
              "#f0f921"
             ]
            ],
            "type": "heatmap"
           }
          ],
          "heatmapgl": [
           {
            "colorbar": {
             "outlinewidth": 0,
             "ticks": ""
            },
            "colorscale": [
             [
              0,
              "#0d0887"
             ],
             [
              0.1111111111111111,
              "#46039f"
             ],
             [
              0.2222222222222222,
              "#7201a8"
             ],
             [
              0.3333333333333333,
              "#9c179e"
             ],
             [
              0.4444444444444444,
              "#bd3786"
             ],
             [
              0.5555555555555556,
              "#d8576b"
             ],
             [
              0.6666666666666666,
              "#ed7953"
             ],
             [
              0.7777777777777778,
              "#fb9f3a"
             ],
             [
              0.8888888888888888,
              "#fdca26"
             ],
             [
              1,
              "#f0f921"
             ]
            ],
            "type": "heatmapgl"
           }
          ],
          "histogram": [
           {
            "marker": {
             "colorbar": {
              "outlinewidth": 0,
              "ticks": ""
             }
            },
            "type": "histogram"
           }
          ],
          "histogram2d": [
           {
            "colorbar": {
             "outlinewidth": 0,
             "ticks": ""
            },
            "colorscale": [
             [
              0,
              "#0d0887"
             ],
             [
              0.1111111111111111,
              "#46039f"
             ],
             [
              0.2222222222222222,
              "#7201a8"
             ],
             [
              0.3333333333333333,
              "#9c179e"
             ],
             [
              0.4444444444444444,
              "#bd3786"
             ],
             [
              0.5555555555555556,
              "#d8576b"
             ],
             [
              0.6666666666666666,
              "#ed7953"
             ],
             [
              0.7777777777777778,
              "#fb9f3a"
             ],
             [
              0.8888888888888888,
              "#fdca26"
             ],
             [
              1,
              "#f0f921"
             ]
            ],
            "type": "histogram2d"
           }
          ],
          "histogram2dcontour": [
           {
            "colorbar": {
             "outlinewidth": 0,
             "ticks": ""
            },
            "colorscale": [
             [
              0,
              "#0d0887"
             ],
             [
              0.1111111111111111,
              "#46039f"
             ],
             [
              0.2222222222222222,
              "#7201a8"
             ],
             [
              0.3333333333333333,
              "#9c179e"
             ],
             [
              0.4444444444444444,
              "#bd3786"
             ],
             [
              0.5555555555555556,
              "#d8576b"
             ],
             [
              0.6666666666666666,
              "#ed7953"
             ],
             [
              0.7777777777777778,
              "#fb9f3a"
             ],
             [
              0.8888888888888888,
              "#fdca26"
             ],
             [
              1,
              "#f0f921"
             ]
            ],
            "type": "histogram2dcontour"
           }
          ],
          "mesh3d": [
           {
            "colorbar": {
             "outlinewidth": 0,
             "ticks": ""
            },
            "type": "mesh3d"
           }
          ],
          "parcoords": [
           {
            "line": {
             "colorbar": {
              "outlinewidth": 0,
              "ticks": ""
             }
            },
            "type": "parcoords"
           }
          ],
          "pie": [
           {
            "automargin": true,
            "type": "pie"
           }
          ],
          "scatter": [
           {
            "marker": {
             "colorbar": {
              "outlinewidth": 0,
              "ticks": ""
             }
            },
            "type": "scatter"
           }
          ],
          "scatter3d": [
           {
            "line": {
             "colorbar": {
              "outlinewidth": 0,
              "ticks": ""
             }
            },
            "marker": {
             "colorbar": {
              "outlinewidth": 0,
              "ticks": ""
             }
            },
            "type": "scatter3d"
           }
          ],
          "scattercarpet": [
           {
            "marker": {
             "colorbar": {
              "outlinewidth": 0,
              "ticks": ""
             }
            },
            "type": "scattercarpet"
           }
          ],
          "scattergeo": [
           {
            "marker": {
             "colorbar": {
              "outlinewidth": 0,
              "ticks": ""
             }
            },
            "type": "scattergeo"
           }
          ],
          "scattergl": [
           {
            "marker": {
             "colorbar": {
              "outlinewidth": 0,
              "ticks": ""
             }
            },
            "type": "scattergl"
           }
          ],
          "scattermapbox": [
           {
            "marker": {
             "colorbar": {
              "outlinewidth": 0,
              "ticks": ""
             }
            },
            "type": "scattermapbox"
           }
          ],
          "scatterpolar": [
           {
            "marker": {
             "colorbar": {
              "outlinewidth": 0,
              "ticks": ""
             }
            },
            "type": "scatterpolar"
           }
          ],
          "scatterpolargl": [
           {
            "marker": {
             "colorbar": {
              "outlinewidth": 0,
              "ticks": ""
             }
            },
            "type": "scatterpolargl"
           }
          ],
          "scatterternary": [
           {
            "marker": {
             "colorbar": {
              "outlinewidth": 0,
              "ticks": ""
             }
            },
            "type": "scatterternary"
           }
          ],
          "surface": [
           {
            "colorbar": {
             "outlinewidth": 0,
             "ticks": ""
            },
            "colorscale": [
             [
              0,
              "#0d0887"
             ],
             [
              0.1111111111111111,
              "#46039f"
             ],
             [
              0.2222222222222222,
              "#7201a8"
             ],
             [
              0.3333333333333333,
              "#9c179e"
             ],
             [
              0.4444444444444444,
              "#bd3786"
             ],
             [
              0.5555555555555556,
              "#d8576b"
             ],
             [
              0.6666666666666666,
              "#ed7953"
             ],
             [
              0.7777777777777778,
              "#fb9f3a"
             ],
             [
              0.8888888888888888,
              "#fdca26"
             ],
             [
              1,
              "#f0f921"
             ]
            ],
            "type": "surface"
           }
          ],
          "table": [
           {
            "cells": {
             "fill": {
              "color": "#EBF0F8"
             },
             "line": {
              "color": "white"
             }
            },
            "header": {
             "fill": {
              "color": "#C8D4E3"
             },
             "line": {
              "color": "white"
             }
            },
            "type": "table"
           }
          ]
         },
         "layout": {
          "annotationdefaults": {
           "arrowcolor": "#2a3f5f",
           "arrowhead": 0,
           "arrowwidth": 1
          },
          "coloraxis": {
           "colorbar": {
            "outlinewidth": 0,
            "ticks": ""
           }
          },
          "colorscale": {
           "diverging": [
            [
             0,
             "#8e0152"
            ],
            [
             0.1,
             "#c51b7d"
            ],
            [
             0.2,
             "#de77ae"
            ],
            [
             0.3,
             "#f1b6da"
            ],
            [
             0.4,
             "#fde0ef"
            ],
            [
             0.5,
             "#f7f7f7"
            ],
            [
             0.6,
             "#e6f5d0"
            ],
            [
             0.7,
             "#b8e186"
            ],
            [
             0.8,
             "#7fbc41"
            ],
            [
             0.9,
             "#4d9221"
            ],
            [
             1,
             "#276419"
            ]
           ],
           "sequential": [
            [
             0,
             "#0d0887"
            ],
            [
             0.1111111111111111,
             "#46039f"
            ],
            [
             0.2222222222222222,
             "#7201a8"
            ],
            [
             0.3333333333333333,
             "#9c179e"
            ],
            [
             0.4444444444444444,
             "#bd3786"
            ],
            [
             0.5555555555555556,
             "#d8576b"
            ],
            [
             0.6666666666666666,
             "#ed7953"
            ],
            [
             0.7777777777777778,
             "#fb9f3a"
            ],
            [
             0.8888888888888888,
             "#fdca26"
            ],
            [
             1,
             "#f0f921"
            ]
           ],
           "sequentialminus": [
            [
             0,
             "#0d0887"
            ],
            [
             0.1111111111111111,
             "#46039f"
            ],
            [
             0.2222222222222222,
             "#7201a8"
            ],
            [
             0.3333333333333333,
             "#9c179e"
            ],
            [
             0.4444444444444444,
             "#bd3786"
            ],
            [
             0.5555555555555556,
             "#d8576b"
            ],
            [
             0.6666666666666666,
             "#ed7953"
            ],
            [
             0.7777777777777778,
             "#fb9f3a"
            ],
            [
             0.8888888888888888,
             "#fdca26"
            ],
            [
             1,
             "#f0f921"
            ]
           ]
          },
          "colorway": [
           "#636efa",
           "#EF553B",
           "#00cc96",
           "#ab63fa",
           "#FFA15A",
           "#19d3f3",
           "#FF6692",
           "#B6E880",
           "#FF97FF",
           "#FECB52"
          ],
          "font": {
           "color": "#2a3f5f"
          },
          "geo": {
           "bgcolor": "white",
           "lakecolor": "white",
           "landcolor": "#E5ECF6",
           "showlakes": true,
           "showland": true,
           "subunitcolor": "white"
          },
          "hoverlabel": {
           "align": "left"
          },
          "hovermode": "closest",
          "mapbox": {
           "style": "light"
          },
          "paper_bgcolor": "white",
          "plot_bgcolor": "#E5ECF6",
          "polar": {
           "angularaxis": {
            "gridcolor": "white",
            "linecolor": "white",
            "ticks": ""
           },
           "bgcolor": "#E5ECF6",
           "radialaxis": {
            "gridcolor": "white",
            "linecolor": "white",
            "ticks": ""
           }
          },
          "scene": {
           "xaxis": {
            "backgroundcolor": "#E5ECF6",
            "gridcolor": "white",
            "gridwidth": 2,
            "linecolor": "white",
            "showbackground": true,
            "ticks": "",
            "zerolinecolor": "white"
           },
           "yaxis": {
            "backgroundcolor": "#E5ECF6",
            "gridcolor": "white",
            "gridwidth": 2,
            "linecolor": "white",
            "showbackground": true,
            "ticks": "",
            "zerolinecolor": "white"
           },
           "zaxis": {
            "backgroundcolor": "#E5ECF6",
            "gridcolor": "white",
            "gridwidth": 2,
            "linecolor": "white",
            "showbackground": true,
            "ticks": "",
            "zerolinecolor": "white"
           }
          },
          "shapedefaults": {
           "line": {
            "color": "#2a3f5f"
           }
          },
          "ternary": {
           "aaxis": {
            "gridcolor": "white",
            "linecolor": "white",
            "ticks": ""
           },
           "baxis": {
            "gridcolor": "white",
            "linecolor": "white",
            "ticks": ""
           },
           "bgcolor": "#E5ECF6",
           "caxis": {
            "gridcolor": "white",
            "linecolor": "white",
            "ticks": ""
           }
          },
          "title": {
           "x": 0.05
          },
          "xaxis": {
           "automargin": true,
           "gridcolor": "white",
           "linecolor": "white",
           "ticks": "",
           "title": {
            "standoff": 15
           },
           "zerolinecolor": "white",
           "zerolinewidth": 2
          },
          "yaxis": {
           "automargin": true,
           "gridcolor": "white",
           "linecolor": "white",
           "ticks": "",
           "title": {
            "standoff": 15
           },
           "zerolinecolor": "white",
           "zerolinewidth": 2
          }
         }
        }
       }
      },
      "text/html": [
       "<div>\n",
       "        \n",
       "        \n",
       "            <div id=\"5b4e40fa-43e3-4b91-a206-cf07f289b768\" class=\"plotly-graph-div\" style=\"height:525px; width:100%;\"></div>\n",
       "            <script type=\"text/javascript\">\n",
       "                require([\"plotly\"], function(Plotly) {\n",
       "                    window.PLOTLYENV=window.PLOTLYENV || {};\n",
       "                    \n",
       "                if (document.getElementById(\"5b4e40fa-43e3-4b91-a206-cf07f289b768\")) {\n",
       "                    Plotly.newPlot(\n",
       "                        '5b4e40fa-43e3-4b91-a206-cf07f289b768',\n",
       "                        [{\"histfunc\": \"count\", \"type\": \"histogram\", \"x\": [\"Afghan\", \"\\u00c5landish\", \"Albanian\", \"Algerian\", \"American Samoan\", \"Andorran\", \"Angolan\", \"Anguillian\", \"International\", \"Antiguan, Barbudan\", \"Argentinean\", \"Armenian\", \"Aruban\", \"Australian\", \"Austrian\", \"Azerbaijani\", \"Bahamian\", \"Bahraini\", \"Bangladeshi\", \"Barbadian\", \"Belarusian\", \"Belgian\", \"Belizean\", \"Beninese\", \"Bermudian\", \"Bhutanese\", \"Bolivian\", \"Dutch\", \"Bosnian, Herzegovinian\", \"Motswana\", \"Norwegian\", \"Brazilian\", \"Indian\", \"American\", \"Virgin Islander\", \"Virgin Islander\", \"Bruneian\", \"Bulgarian\", \"Burkinabe\", \"Burundian\", \"Cambodian\", \"Cameroonian\", \"Canadian\", \"Cape Verdian\", \"Caymanian\", \"Central African\", \"Chadian\", \"Chilean\", \"Chinese\", \"Christmas Island\", \"Cocos Islander\", \"Colombian\", \"Comoran\", \"Congolese\", \"Congolese\", \"Cook Islander\", \"Costa Rican\", \"Croatian\", \"Cuban\", \"Dutch\", \"Cypriot\", \"Czech\", \"Danish\", \"Djibouti\", \"Dominican\", \"Dominican\", \"Ecuadorean\", \"Egyptian\", \"Salvadoran\", \"Guinea\", \"Eritrean\", \"Estonian\", \"Ethiopian\", \"Falkland Islander\", \"Faroese\", \"Fijian\", \"Finnish\", \"French\", \"French\", \"French\", \"French\", \"Gabonese\", \"Gambian\", \"Georgian\", \"German\", \"Ghanaian\", \"Gibraltar\", \"Greek\", \"Greenlandic\", \"Grenadian\", \"Guadeloupian\", \"Guamanian\", \"Guatemalan\", \"Channel Islander\", \"Guinean\", \"Guinea\", \"Guyanese\", \"Haitian\", \"Heard and McDonald Islander\", \"Papal\", \"Honduran\", \"Chinese\", \"Hungarian\", \"Icelander\", \"Indian\", \"Indonesian\", \"Ivorian\", \"Iranian\", \"Iraqi\", \"Irish\", \"Manx\", \"Israeli\", \"Italian\", \"Jamaican\", \"Japanese\", \"Channel Islander\", \"Jordanian\", \"Kazakhstani\", \"Kenyan\", \"I-Kiribati\", \"Kuwaiti\", \"Kirghiz\", \"Laotian\", \"Latvian\", \"Lebanese\", \"Mosotho\", \"Liberian\", \"Libyan\", \"Liechtensteiner\", \"Lithuanian\", \"Luxembourger\", \"Chinese\", \"Macedonian\", \"Malagasy\", \"Malawian\", \"Malaysian\", \"Maldivan\", \"Malian\", \"Maltese\", \"Marshallese\", \"French\", \"Mauritanian\", \"Mauritian\", \"French\", \"Mexican\", \"Micronesian\", \"Moldovan\", \"Monegasque\", \"Mongolian\", \"Montenegrin\", \"Montserratian\", \"Moroccan\", \"Mozambican\", \"Burmese\", \"Namibian\", \"Nauruan\", \"Nepalese\", \"Dutch\", \"New Caledonian\", \"New Zealander\", \"Nicaraguan\", \"Nigerien\", \"Nigerian\", \"Niuean\", \"Norfolk Islander\", \"Korean\", \"American\", \"Norwegian\", \"Omani\", \"Pakistani\", \"Palauan\", \"Palestinian\", \"Panamanian\", \"Guinea\", \"Paraguayan\", \"Peruvian\", \"Filipino\", \"Pitcairn Islander\", \"Polish\", \"Portuguese\", \"Puerto Rican\", \"Qatari\", \"Kosovar\", \"French\", \"Romanian\", \"Russian\", \"Rwandan\", \"Saint Barth\\u00e9lemy Islander\", \"Saint Helenian\", \"Kittian and Nevisian\", \"Saint Lucian\", \"Saint Martin Islander\", \"French\", \"Saint Vincentian\", \"Samoan\", \"Sammarinese\", \"Sao Tomean\", \"Saudi Arabian\", \"Senegalese\", \"Serbian\", \"Seychellois\", \"Sierra Leonean\", \"Singaporean\", \"Dutch\", \"Slovak\", \"Slovene\", \"Solomon Islander\", \"Somali\", \"South African\", \"South Georgia and the South Sandwich Islander\", \"Korean\", \"Sudanese\", \"Spanish\", \"Sri Lankan\", \"Sudanese\", \"Surinamer\", \"Norwegian\", \"Swazi\", \"Swedish\", \"Swiss\", \"Syrian\", \"Chinese\", \"Tadzhik\", \"Tanzanian\", \"Thai\", \"East Timorese\", \"Togolese\", \"Tokelauan\", \"Tongan\", \"Trinidadian\", \"Tunisian\", \"Turkish\", \"Turkmen\", \"Turks and Caicos Islander\", \"Tuvaluan\", \"Ugandan\", \"Ukrainian\", \"Emirati\", \"British\", \"American\", \"Uruguayan\", \"Uzbekistani\", \"Ni-Vanuatu\", \"Venezuelan\", \"Vietnamese\", \"Wallis and Futuna Islander\", \"Sahrawi\", \"Yemeni\", \"Zambian\", \"Zimbabwean\"]}],\n",
       "                        {\"template\": {\"data\": {\"bar\": [{\"error_x\": {\"color\": \"#2a3f5f\"}, \"error_y\": {\"color\": \"#2a3f5f\"}, \"marker\": {\"line\": {\"color\": \"#E5ECF6\", \"width\": 0.5}}, \"type\": \"bar\"}], \"barpolar\": [{\"marker\": {\"line\": {\"color\": \"#E5ECF6\", \"width\": 0.5}}, \"type\": \"barpolar\"}], \"carpet\": [{\"aaxis\": {\"endlinecolor\": \"#2a3f5f\", \"gridcolor\": \"white\", \"linecolor\": \"white\", \"minorgridcolor\": \"white\", \"startlinecolor\": \"#2a3f5f\"}, \"baxis\": {\"endlinecolor\": \"#2a3f5f\", \"gridcolor\": \"white\", \"linecolor\": \"white\", \"minorgridcolor\": \"white\", \"startlinecolor\": \"#2a3f5f\"}, \"type\": \"carpet\"}], \"choropleth\": [{\"colorbar\": {\"outlinewidth\": 0, \"ticks\": \"\"}, \"type\": \"choropleth\"}], \"contour\": [{\"colorbar\": {\"outlinewidth\": 0, \"ticks\": \"\"}, \"colorscale\": [[0.0, \"#0d0887\"], [0.1111111111111111, \"#46039f\"], [0.2222222222222222, \"#7201a8\"], [0.3333333333333333, \"#9c179e\"], [0.4444444444444444, \"#bd3786\"], [0.5555555555555556, \"#d8576b\"], [0.6666666666666666, \"#ed7953\"], [0.7777777777777778, \"#fb9f3a\"], [0.8888888888888888, \"#fdca26\"], [1.0, \"#f0f921\"]], \"type\": \"contour\"}], \"contourcarpet\": [{\"colorbar\": {\"outlinewidth\": 0, \"ticks\": \"\"}, \"type\": \"contourcarpet\"}], \"heatmap\": [{\"colorbar\": {\"outlinewidth\": 0, \"ticks\": \"\"}, \"colorscale\": [[0.0, \"#0d0887\"], [0.1111111111111111, \"#46039f\"], [0.2222222222222222, \"#7201a8\"], [0.3333333333333333, \"#9c179e\"], [0.4444444444444444, \"#bd3786\"], [0.5555555555555556, \"#d8576b\"], [0.6666666666666666, \"#ed7953\"], [0.7777777777777778, \"#fb9f3a\"], [0.8888888888888888, \"#fdca26\"], [1.0, \"#f0f921\"]], \"type\": \"heatmap\"}], \"heatmapgl\": [{\"colorbar\": {\"outlinewidth\": 0, \"ticks\": \"\"}, \"colorscale\": [[0.0, \"#0d0887\"], [0.1111111111111111, \"#46039f\"], [0.2222222222222222, \"#7201a8\"], [0.3333333333333333, \"#9c179e\"], [0.4444444444444444, \"#bd3786\"], [0.5555555555555556, \"#d8576b\"], [0.6666666666666666, \"#ed7953\"], [0.7777777777777778, \"#fb9f3a\"], [0.8888888888888888, \"#fdca26\"], [1.0, \"#f0f921\"]], \"type\": \"heatmapgl\"}], \"histogram\": [{\"marker\": {\"colorbar\": {\"outlinewidth\": 0, \"ticks\": \"\"}}, \"type\": \"histogram\"}], \"histogram2d\": [{\"colorbar\": {\"outlinewidth\": 0, \"ticks\": \"\"}, \"colorscale\": [[0.0, \"#0d0887\"], [0.1111111111111111, \"#46039f\"], [0.2222222222222222, \"#7201a8\"], [0.3333333333333333, \"#9c179e\"], [0.4444444444444444, \"#bd3786\"], [0.5555555555555556, \"#d8576b\"], [0.6666666666666666, \"#ed7953\"], [0.7777777777777778, \"#fb9f3a\"], [0.8888888888888888, \"#fdca26\"], [1.0, \"#f0f921\"]], \"type\": \"histogram2d\"}], \"histogram2dcontour\": [{\"colorbar\": {\"outlinewidth\": 0, \"ticks\": \"\"}, \"colorscale\": [[0.0, \"#0d0887\"], [0.1111111111111111, \"#46039f\"], [0.2222222222222222, \"#7201a8\"], [0.3333333333333333, \"#9c179e\"], [0.4444444444444444, \"#bd3786\"], [0.5555555555555556, \"#d8576b\"], [0.6666666666666666, \"#ed7953\"], [0.7777777777777778, \"#fb9f3a\"], [0.8888888888888888, \"#fdca26\"], [1.0, \"#f0f921\"]], \"type\": \"histogram2dcontour\"}], \"mesh3d\": [{\"colorbar\": {\"outlinewidth\": 0, \"ticks\": \"\"}, \"type\": \"mesh3d\"}], \"parcoords\": [{\"line\": {\"colorbar\": {\"outlinewidth\": 0, \"ticks\": \"\"}}, \"type\": \"parcoords\"}], \"pie\": [{\"automargin\": true, \"type\": \"pie\"}], \"scatter\": [{\"marker\": {\"colorbar\": {\"outlinewidth\": 0, \"ticks\": \"\"}}, \"type\": \"scatter\"}], \"scatter3d\": [{\"line\": {\"colorbar\": {\"outlinewidth\": 0, \"ticks\": \"\"}}, \"marker\": {\"colorbar\": {\"outlinewidth\": 0, \"ticks\": \"\"}}, \"type\": \"scatter3d\"}], \"scattercarpet\": [{\"marker\": {\"colorbar\": {\"outlinewidth\": 0, \"ticks\": \"\"}}, \"type\": \"scattercarpet\"}], \"scattergeo\": [{\"marker\": {\"colorbar\": {\"outlinewidth\": 0, \"ticks\": \"\"}}, \"type\": \"scattergeo\"}], \"scattergl\": [{\"marker\": {\"colorbar\": {\"outlinewidth\": 0, \"ticks\": \"\"}}, \"type\": \"scattergl\"}], \"scattermapbox\": [{\"marker\": {\"colorbar\": {\"outlinewidth\": 0, \"ticks\": \"\"}}, \"type\": \"scattermapbox\"}], \"scatterpolar\": [{\"marker\": {\"colorbar\": {\"outlinewidth\": 0, \"ticks\": \"\"}}, \"type\": \"scatterpolar\"}], \"scatterpolargl\": [{\"marker\": {\"colorbar\": {\"outlinewidth\": 0, \"ticks\": \"\"}}, \"type\": \"scatterpolargl\"}], \"scatterternary\": [{\"marker\": {\"colorbar\": {\"outlinewidth\": 0, \"ticks\": \"\"}}, \"type\": \"scatterternary\"}], \"surface\": [{\"colorbar\": {\"outlinewidth\": 0, \"ticks\": \"\"}, \"colorscale\": [[0.0, \"#0d0887\"], [0.1111111111111111, \"#46039f\"], [0.2222222222222222, \"#7201a8\"], [0.3333333333333333, \"#9c179e\"], [0.4444444444444444, \"#bd3786\"], [0.5555555555555556, \"#d8576b\"], [0.6666666666666666, \"#ed7953\"], [0.7777777777777778, \"#fb9f3a\"], [0.8888888888888888, \"#fdca26\"], [1.0, \"#f0f921\"]], \"type\": \"surface\"}], \"table\": [{\"cells\": {\"fill\": {\"color\": \"#EBF0F8\"}, \"line\": {\"color\": \"white\"}}, \"header\": {\"fill\": {\"color\": \"#C8D4E3\"}, \"line\": {\"color\": \"white\"}}, \"type\": \"table\"}]}, \"layout\": {\"annotationdefaults\": {\"arrowcolor\": \"#2a3f5f\", \"arrowhead\": 0, \"arrowwidth\": 1}, \"coloraxis\": {\"colorbar\": {\"outlinewidth\": 0, \"ticks\": \"\"}}, \"colorscale\": {\"diverging\": [[0, \"#8e0152\"], [0.1, \"#c51b7d\"], [0.2, \"#de77ae\"], [0.3, \"#f1b6da\"], [0.4, \"#fde0ef\"], [0.5, \"#f7f7f7\"], [0.6, \"#e6f5d0\"], [0.7, \"#b8e186\"], [0.8, \"#7fbc41\"], [0.9, \"#4d9221\"], [1, \"#276419\"]], \"sequential\": [[0.0, \"#0d0887\"], [0.1111111111111111, \"#46039f\"], [0.2222222222222222, \"#7201a8\"], [0.3333333333333333, \"#9c179e\"], [0.4444444444444444, \"#bd3786\"], [0.5555555555555556, \"#d8576b\"], [0.6666666666666666, \"#ed7953\"], [0.7777777777777778, \"#fb9f3a\"], [0.8888888888888888, \"#fdca26\"], [1.0, \"#f0f921\"]], \"sequentialminus\": [[0.0, \"#0d0887\"], [0.1111111111111111, \"#46039f\"], [0.2222222222222222, \"#7201a8\"], [0.3333333333333333, \"#9c179e\"], [0.4444444444444444, \"#bd3786\"], [0.5555555555555556, \"#d8576b\"], [0.6666666666666666, \"#ed7953\"], [0.7777777777777778, \"#fb9f3a\"], [0.8888888888888888, \"#fdca26\"], [1.0, \"#f0f921\"]]}, \"colorway\": [\"#636efa\", \"#EF553B\", \"#00cc96\", \"#ab63fa\", \"#FFA15A\", \"#19d3f3\", \"#FF6692\", \"#B6E880\", \"#FF97FF\", \"#FECB52\"], \"font\": {\"color\": \"#2a3f5f\"}, \"geo\": {\"bgcolor\": \"white\", \"lakecolor\": \"white\", \"landcolor\": \"#E5ECF6\", \"showlakes\": true, \"showland\": true, \"subunitcolor\": \"white\"}, \"hoverlabel\": {\"align\": \"left\"}, \"hovermode\": \"closest\", \"mapbox\": {\"style\": \"light\"}, \"paper_bgcolor\": \"white\", \"plot_bgcolor\": \"#E5ECF6\", \"polar\": {\"angularaxis\": {\"gridcolor\": \"white\", \"linecolor\": \"white\", \"ticks\": \"\"}, \"bgcolor\": \"#E5ECF6\", \"radialaxis\": {\"gridcolor\": \"white\", \"linecolor\": \"white\", \"ticks\": \"\"}}, \"scene\": {\"xaxis\": {\"backgroundcolor\": \"#E5ECF6\", \"gridcolor\": \"white\", \"gridwidth\": 2, \"linecolor\": \"white\", \"showbackground\": true, \"ticks\": \"\", \"zerolinecolor\": \"white\"}, \"yaxis\": {\"backgroundcolor\": \"#E5ECF6\", \"gridcolor\": \"white\", \"gridwidth\": 2, \"linecolor\": \"white\", \"showbackground\": true, \"ticks\": \"\", \"zerolinecolor\": \"white\"}, \"zaxis\": {\"backgroundcolor\": \"#E5ECF6\", \"gridcolor\": \"white\", \"gridwidth\": 2, \"linecolor\": \"white\", \"showbackground\": true, \"ticks\": \"\", \"zerolinecolor\": \"white\"}}, \"shapedefaults\": {\"line\": {\"color\": \"#2a3f5f\"}}, \"ternary\": {\"aaxis\": {\"gridcolor\": \"white\", \"linecolor\": \"white\", \"ticks\": \"\"}, \"baxis\": {\"gridcolor\": \"white\", \"linecolor\": \"white\", \"ticks\": \"\"}, \"bgcolor\": \"#E5ECF6\", \"caxis\": {\"gridcolor\": \"white\", \"linecolor\": \"white\", \"ticks\": \"\"}}, \"title\": {\"x\": 0.05}, \"xaxis\": {\"automargin\": true, \"gridcolor\": \"white\", \"linecolor\": \"white\", \"ticks\": \"\", \"title\": {\"standoff\": 15}, \"zerolinecolor\": \"white\", \"zerolinewidth\": 2}, \"yaxis\": {\"automargin\": true, \"gridcolor\": \"white\", \"linecolor\": \"white\", \"ticks\": \"\", \"title\": {\"standoff\": 15}, \"zerolinecolor\": \"white\", \"zerolinewidth\": 2}}}},\n",
       "                        {\"responsive\": true}\n",
       "                    ).then(function(){\n",
       "                            \n",
       "var gd = document.getElementById('5b4e40fa-43e3-4b91-a206-cf07f289b768');\n",
       "var x = new MutationObserver(function (mutations, observer) {{\n",
       "        var display = window.getComputedStyle(gd).display;\n",
       "        if (!display || display === 'none') {{\n",
       "            console.log([gd, 'removed!']);\n",
       "            Plotly.purge(gd);\n",
       "            observer.disconnect();\n",
       "        }}\n",
       "}});\n",
       "\n",
       "// Listen for the removal of the full notebook cells\n",
       "var notebookContainer = gd.closest('#notebook-container');\n",
       "if (notebookContainer) {{\n",
       "    x.observe(notebookContainer, {childList: true});\n",
       "}}\n",
       "\n",
       "// Listen for the clearing of the current output cell\n",
       "var outputEl = gd.closest('.output');\n",
       "if (outputEl) {{\n",
       "    x.observe(outputEl, {childList: true});\n",
       "}}\n",
       "\n",
       "                        })\n",
       "                };\n",
       "                });\n",
       "            </script>\n",
       "        </div>"
      ]
     },
     "metadata": {},
     "output_type": "display_data"
    }
   ],
   "source": [
    "fig = go.Figure(data=[go.Histogram(histfunc=\"count\", x=df['demonym'])])\n",
    "fig.show()"
   ]
  },
  {
   "cell_type": "markdown",
   "metadata": {},
   "source": [
    "### timezone column"
   ]
  },
  {
   "cell_type": "code",
   "execution_count": 331,
   "metadata": {},
   "outputs": [],
   "source": [
    "#Unlist timezones column\n",
    "time=[]\n",
    "for i in range(0,250):\n",
    "    a=df['timezones'][i]\n",
    "    a=','.join(a)\n",
    "    time.append(a)\n",
    "df['timezones']=time"
   ]
  },
  {
   "cell_type": "markdown",
   "metadata": {},
   "source": [
    "### borders column and number of neighboring country counts (borders_count)"
   ]
  },
  {
   "cell_type": "markdown",
   "metadata": {},
   "source": [
    "tui addd thêm cột counting số borders vô đây. ông nhìn xuống cái statistics phía dưới sẽ có cái giá trị borders count tới gần 15, hơi vô lý chút. Cái này tui chưa kịp check, mai mình check cái này tiếp nha.\n",
    "the same cho cột language cũng có phần nào giống giống vậy. tui nghi ngờ thôi ko chắc đc."
   ]
  },
  {
   "cell_type": "markdown",
   "metadata": {},
   "source": [
    "Fill empty list columns with value None"
   ]
  },
  {
   "cell_type": "code",
   "execution_count": 332,
   "metadata": {},
   "outputs": [],
   "source": [
    "border_c = []\n",
    "for i in df['borders']:\n",
    "    a = len(i)\n",
    "    border_c.append(a)\n",
    "\n",
    "df.insert(12,'borders_count',border_c)"
   ]
  },
  {
   "cell_type": "code",
   "execution_count": 333,
   "metadata": {},
   "outputs": [
    {
     "data": {
      "text/html": [
       "<div>\n",
       "<style scoped>\n",
       "    .dataframe tbody tr th:only-of-type {\n",
       "        vertical-align: middle;\n",
       "    }\n",
       "\n",
       "    .dataframe tbody tr th {\n",
       "        vertical-align: top;\n",
       "    }\n",
       "\n",
       "    .dataframe thead th {\n",
       "        text-align: right;\n",
       "    }\n",
       "</style>\n",
       "<table border=\"1\" class=\"dataframe\">\n",
       "  <thead>\n",
       "    <tr style=\"text-align: right;\">\n",
       "      <th></th>\n",
       "      <th>country</th>\n",
       "      <th>alphaCode</th>\n",
       "      <th>capital</th>\n",
       "      <th>region</th>\n",
       "      <th>subregion</th>\n",
       "      <th>population</th>\n",
       "      <th>latlng</th>\n",
       "      <th>demonym</th>\n",
       "      <th>area</th>\n",
       "      <th>gini</th>\n",
       "      <th>timezones</th>\n",
       "      <th>borders</th>\n",
       "      <th>borders_count</th>\n",
       "      <th>nativeName</th>\n",
       "      <th>currencies</th>\n",
       "      <th>languages</th>\n",
       "      <th>flag</th>\n",
       "      <th>regionalBlocs</th>\n",
       "      <th>cioc</th>\n",
       "    </tr>\n",
       "  </thead>\n",
       "  <tbody>\n",
       "    <tr>\n",
       "      <th>0</th>\n",
       "      <td>Afghanistan</td>\n",
       "      <td>AFG</td>\n",
       "      <td>Kabul</td>\n",
       "      <td>Asia</td>\n",
       "      <td>Southern Asia</td>\n",
       "      <td>27657145</td>\n",
       "      <td>[33.0, 65.0]</td>\n",
       "      <td>Afghan</td>\n",
       "      <td>652230.0</td>\n",
       "      <td>27.8</td>\n",
       "      <td>UTC+04:30</td>\n",
       "      <td>[IRN, PAK, TKM, UZB, TJK, CHN]</td>\n",
       "      <td>6</td>\n",
       "      <td>افغانستان</td>\n",
       "      <td>[{'code': 'AFN', 'name': 'Afghan afghani', 'sy...</td>\n",
       "      <td>[{'iso639_1': 'ps', 'iso639_2': 'pus', 'name':...</td>\n",
       "      <td>https://restcountries.eu/data/afg.svg</td>\n",
       "      <td>[{'acronym': 'SAARC', 'name': 'South Asian Ass...</td>\n",
       "      <td>AFG</td>\n",
       "    </tr>\n",
       "    <tr>\n",
       "      <th>1</th>\n",
       "      <td>Åland Islands</td>\n",
       "      <td>ALA</td>\n",
       "      <td>Mariehamn</td>\n",
       "      <td>Europe</td>\n",
       "      <td>Northern Europe</td>\n",
       "      <td>28875</td>\n",
       "      <td>[60.116667, 19.9]</td>\n",
       "      <td>Ålandish</td>\n",
       "      <td>1580.0</td>\n",
       "      <td>NaN</td>\n",
       "      <td>UTC+02:00</td>\n",
       "      <td>[]</td>\n",
       "      <td>0</td>\n",
       "      <td>Åland</td>\n",
       "      <td>[{'code': 'EUR', 'name': 'Euro', 'symbol': '€'}]</td>\n",
       "      <td>[{'iso639_1': 'sv', 'iso639_2': 'swe', 'name':...</td>\n",
       "      <td>https://restcountries.eu/data/ala.svg</td>\n",
       "      <td>[{'acronym': 'EU', 'name': 'European Union', '...</td>\n",
       "      <td>Unknown</td>\n",
       "    </tr>\n",
       "    <tr>\n",
       "      <th>2</th>\n",
       "      <td>Albania</td>\n",
       "      <td>ALB</td>\n",
       "      <td>Tirana</td>\n",
       "      <td>Europe</td>\n",
       "      <td>Southern Europe</td>\n",
       "      <td>2886026</td>\n",
       "      <td>[41.0, 20.0]</td>\n",
       "      <td>Albanian</td>\n",
       "      <td>28748.0</td>\n",
       "      <td>34.5</td>\n",
       "      <td>UTC+01:00</td>\n",
       "      <td>[MNE, GRC, MKD, KOS]</td>\n",
       "      <td>4</td>\n",
       "      <td>Shqipëria</td>\n",
       "      <td>[{'code': 'ALL', 'name': 'Albanian lek', 'symb...</td>\n",
       "      <td>[{'iso639_1': 'sq', 'iso639_2': 'sqi', 'name':...</td>\n",
       "      <td>https://restcountries.eu/data/alb.svg</td>\n",
       "      <td>[{'acronym': 'CEFTA', 'name': 'Central Europea...</td>\n",
       "      <td>ALB</td>\n",
       "    </tr>\n",
       "  </tbody>\n",
       "</table>\n",
       "</div>"
      ],
      "text/plain": [
       "         country alphaCode    capital  region        subregion  population  \\\n",
       "0    Afghanistan       AFG      Kabul    Asia    Southern Asia    27657145   \n",
       "1  Åland Islands       ALA  Mariehamn  Europe  Northern Europe       28875   \n",
       "2        Albania       ALB     Tirana  Europe  Southern Europe     2886026   \n",
       "\n",
       "              latlng   demonym      area  gini  timezones  \\\n",
       "0       [33.0, 65.0]    Afghan  652230.0  27.8  UTC+04:30   \n",
       "1  [60.116667, 19.9]  Ålandish    1580.0   NaN  UTC+02:00   \n",
       "2       [41.0, 20.0]  Albanian   28748.0  34.5  UTC+01:00   \n",
       "\n",
       "                          borders  borders_count nativeName  \\\n",
       "0  [IRN, PAK, TKM, UZB, TJK, CHN]              6  افغانستان   \n",
       "1                              []              0      Åland   \n",
       "2            [MNE, GRC, MKD, KOS]              4  Shqipëria   \n",
       "\n",
       "                                          currencies  \\\n",
       "0  [{'code': 'AFN', 'name': 'Afghan afghani', 'sy...   \n",
       "1   [{'code': 'EUR', 'name': 'Euro', 'symbol': '€'}]   \n",
       "2  [{'code': 'ALL', 'name': 'Albanian lek', 'symb...   \n",
       "\n",
       "                                           languages  \\\n",
       "0  [{'iso639_1': 'ps', 'iso639_2': 'pus', 'name':...   \n",
       "1  [{'iso639_1': 'sv', 'iso639_2': 'swe', 'name':...   \n",
       "2  [{'iso639_1': 'sq', 'iso639_2': 'sqi', 'name':...   \n",
       "\n",
       "                                    flag  \\\n",
       "0  https://restcountries.eu/data/afg.svg   \n",
       "1  https://restcountries.eu/data/ala.svg   \n",
       "2  https://restcountries.eu/data/alb.svg   \n",
       "\n",
       "                                       regionalBlocs     cioc  \n",
       "0  [{'acronym': 'SAARC', 'name': 'South Asian Ass...      AFG  \n",
       "1  [{'acronym': 'EU', 'name': 'European Union', '...  Unknown  \n",
       "2  [{'acronym': 'CEFTA', 'name': 'Central Europea...      ALB  "
      ]
     },
     "execution_count": 333,
     "metadata": {},
     "output_type": "execute_result"
    }
   ],
   "source": [
    "df.head(3)"
   ]
  },
  {
   "cell_type": "code",
   "execution_count": 334,
   "metadata": {},
   "outputs": [
    {
     "data": {
      "text/html": [
       "<div>\n",
       "<style scoped>\n",
       "    .dataframe tbody tr th:only-of-type {\n",
       "        vertical-align: middle;\n",
       "    }\n",
       "\n",
       "    .dataframe tbody tr th {\n",
       "        vertical-align: top;\n",
       "    }\n",
       "\n",
       "    .dataframe thead th {\n",
       "        text-align: right;\n",
       "    }\n",
       "</style>\n",
       "<table border=\"1\" class=\"dataframe\">\n",
       "  <thead>\n",
       "    <tr style=\"text-align: right;\">\n",
       "      <th></th>\n",
       "      <th>country</th>\n",
       "      <th>alphaCode</th>\n",
       "      <th>capital</th>\n",
       "      <th>region</th>\n",
       "      <th>subregion</th>\n",
       "      <th>population</th>\n",
       "      <th>latlng</th>\n",
       "      <th>demonym</th>\n",
       "      <th>area</th>\n",
       "      <th>gini</th>\n",
       "      <th>timezones</th>\n",
       "      <th>borders</th>\n",
       "      <th>borders_count</th>\n",
       "      <th>nativeName</th>\n",
       "      <th>currencies</th>\n",
       "      <th>languages</th>\n",
       "      <th>flag</th>\n",
       "      <th>regionalBlocs</th>\n",
       "      <th>cioc</th>\n",
       "    </tr>\n",
       "  </thead>\n",
       "  <tbody>\n",
       "    <tr>\n",
       "      <th>0</th>\n",
       "      <td>Afghanistan</td>\n",
       "      <td>AFG</td>\n",
       "      <td>Kabul</td>\n",
       "      <td>Asia</td>\n",
       "      <td>Southern Asia</td>\n",
       "      <td>27657145</td>\n",
       "      <td>[33.0, 65.0]</td>\n",
       "      <td>Afghan</td>\n",
       "      <td>652230.0</td>\n",
       "      <td>27.8</td>\n",
       "      <td>UTC+04:30</td>\n",
       "      <td>IRN,PAK,TKM,UZB,TJK,CHN</td>\n",
       "      <td>6</td>\n",
       "      <td>افغانستان</td>\n",
       "      <td>[{'code': 'AFN', 'name': 'Afghan afghani', 'sy...</td>\n",
       "      <td>[{'iso639_1': 'ps', 'iso639_2': 'pus', 'name':...</td>\n",
       "      <td>https://restcountries.eu/data/afg.svg</td>\n",
       "      <td>[{'acronym': 'SAARC', 'name': 'South Asian Ass...</td>\n",
       "      <td>AFG</td>\n",
       "    </tr>\n",
       "    <tr>\n",
       "      <th>1</th>\n",
       "      <td>Åland Islands</td>\n",
       "      <td>ALA</td>\n",
       "      <td>Mariehamn</td>\n",
       "      <td>Europe</td>\n",
       "      <td>Northern Europe</td>\n",
       "      <td>28875</td>\n",
       "      <td>[60.116667, 19.9]</td>\n",
       "      <td>Ålandish</td>\n",
       "      <td>1580.0</td>\n",
       "      <td>NaN</td>\n",
       "      <td>UTC+02:00</td>\n",
       "      <td></td>\n",
       "      <td>0</td>\n",
       "      <td>Åland</td>\n",
       "      <td>[{'code': 'EUR', 'name': 'Euro', 'symbol': '€'}]</td>\n",
       "      <td>[{'iso639_1': 'sv', 'iso639_2': 'swe', 'name':...</td>\n",
       "      <td>https://restcountries.eu/data/ala.svg</td>\n",
       "      <td>[{'acronym': 'EU', 'name': 'European Union', '...</td>\n",
       "      <td>Unknown</td>\n",
       "    </tr>\n",
       "    <tr>\n",
       "      <th>2</th>\n",
       "      <td>Albania</td>\n",
       "      <td>ALB</td>\n",
       "      <td>Tirana</td>\n",
       "      <td>Europe</td>\n",
       "      <td>Southern Europe</td>\n",
       "      <td>2886026</td>\n",
       "      <td>[41.0, 20.0]</td>\n",
       "      <td>Albanian</td>\n",
       "      <td>28748.0</td>\n",
       "      <td>34.5</td>\n",
       "      <td>UTC+01:00</td>\n",
       "      <td>MNE,GRC,MKD,KOS</td>\n",
       "      <td>4</td>\n",
       "      <td>Shqipëria</td>\n",
       "      <td>[{'code': 'ALL', 'name': 'Albanian lek', 'symb...</td>\n",
       "      <td>[{'iso639_1': 'sq', 'iso639_2': 'sqi', 'name':...</td>\n",
       "      <td>https://restcountries.eu/data/alb.svg</td>\n",
       "      <td>[{'acronym': 'CEFTA', 'name': 'Central Europea...</td>\n",
       "      <td>ALB</td>\n",
       "    </tr>\n",
       "    <tr>\n",
       "      <th>3</th>\n",
       "      <td>Algeria</td>\n",
       "      <td>DZA</td>\n",
       "      <td>Algiers</td>\n",
       "      <td>Africa</td>\n",
       "      <td>Northern Africa</td>\n",
       "      <td>40400000</td>\n",
       "      <td>[28.0, 3.0]</td>\n",
       "      <td>Algerian</td>\n",
       "      <td>2381741.0</td>\n",
       "      <td>35.3</td>\n",
       "      <td>UTC+01:00</td>\n",
       "      <td>TUN,LBY,NER,ESH,MRT,MLI,MAR</td>\n",
       "      <td>7</td>\n",
       "      <td>الجزائر</td>\n",
       "      <td>[{'code': 'DZD', 'name': 'Algerian dinar', 'sy...</td>\n",
       "      <td>[{'iso639_1': 'ar', 'iso639_2': 'ara', 'name':...</td>\n",
       "      <td>https://restcountries.eu/data/dza.svg</td>\n",
       "      <td>[{'acronym': 'AU', 'name': 'African Union', 'o...</td>\n",
       "      <td>ALG</td>\n",
       "    </tr>\n",
       "    <tr>\n",
       "      <th>4</th>\n",
       "      <td>American Samoa</td>\n",
       "      <td>ASM</td>\n",
       "      <td>Pago Pago</td>\n",
       "      <td>Oceania</td>\n",
       "      <td>Polynesia</td>\n",
       "      <td>57100</td>\n",
       "      <td>[-14.33333333, -170.0]</td>\n",
       "      <td>American Samoan</td>\n",
       "      <td>199.0</td>\n",
       "      <td>NaN</td>\n",
       "      <td>UTC-11:00</td>\n",
       "      <td></td>\n",
       "      <td>0</td>\n",
       "      <td>American Samoa</td>\n",
       "      <td>[{'code': 'USD', 'name': 'United State Dollar'...</td>\n",
       "      <td>[{'iso639_1': 'en', 'iso639_2': 'eng', 'name':...</td>\n",
       "      <td>https://restcountries.eu/data/asm.svg</td>\n",
       "      <td>[]</td>\n",
       "      <td>ASA</td>\n",
       "    </tr>\n",
       "  </tbody>\n",
       "</table>\n",
       "</div>"
      ],
      "text/plain": [
       "          country alphaCode    capital   region        subregion  population  \\\n",
       "0     Afghanistan       AFG      Kabul     Asia    Southern Asia    27657145   \n",
       "1   Åland Islands       ALA  Mariehamn   Europe  Northern Europe       28875   \n",
       "2         Albania       ALB     Tirana   Europe  Southern Europe     2886026   \n",
       "3         Algeria       DZA    Algiers   Africa  Northern Africa    40400000   \n",
       "4  American Samoa       ASM  Pago Pago  Oceania        Polynesia       57100   \n",
       "\n",
       "                   latlng          demonym       area  gini  timezones  \\\n",
       "0            [33.0, 65.0]           Afghan   652230.0  27.8  UTC+04:30   \n",
       "1       [60.116667, 19.9]         Ålandish     1580.0   NaN  UTC+02:00   \n",
       "2            [41.0, 20.0]         Albanian    28748.0  34.5  UTC+01:00   \n",
       "3             [28.0, 3.0]         Algerian  2381741.0  35.3  UTC+01:00   \n",
       "4  [-14.33333333, -170.0]  American Samoan      199.0   NaN  UTC-11:00   \n",
       "\n",
       "                       borders  borders_count      nativeName  \\\n",
       "0      IRN,PAK,TKM,UZB,TJK,CHN              6       افغانستان   \n",
       "1                                           0           Åland   \n",
       "2              MNE,GRC,MKD,KOS              4       Shqipëria   \n",
       "3  TUN,LBY,NER,ESH,MRT,MLI,MAR              7         الجزائر   \n",
       "4                                           0  American Samoa   \n",
       "\n",
       "                                          currencies  \\\n",
       "0  [{'code': 'AFN', 'name': 'Afghan afghani', 'sy...   \n",
       "1   [{'code': 'EUR', 'name': 'Euro', 'symbol': '€'}]   \n",
       "2  [{'code': 'ALL', 'name': 'Albanian lek', 'symb...   \n",
       "3  [{'code': 'DZD', 'name': 'Algerian dinar', 'sy...   \n",
       "4  [{'code': 'USD', 'name': 'United State Dollar'...   \n",
       "\n",
       "                                           languages  \\\n",
       "0  [{'iso639_1': 'ps', 'iso639_2': 'pus', 'name':...   \n",
       "1  [{'iso639_1': 'sv', 'iso639_2': 'swe', 'name':...   \n",
       "2  [{'iso639_1': 'sq', 'iso639_2': 'sqi', 'name':...   \n",
       "3  [{'iso639_1': 'ar', 'iso639_2': 'ara', 'name':...   \n",
       "4  [{'iso639_1': 'en', 'iso639_2': 'eng', 'name':...   \n",
       "\n",
       "                                    flag  \\\n",
       "0  https://restcountries.eu/data/afg.svg   \n",
       "1  https://restcountries.eu/data/ala.svg   \n",
       "2  https://restcountries.eu/data/alb.svg   \n",
       "3  https://restcountries.eu/data/dza.svg   \n",
       "4  https://restcountries.eu/data/asm.svg   \n",
       "\n",
       "                                       regionalBlocs     cioc  \n",
       "0  [{'acronym': 'SAARC', 'name': 'South Asian Ass...      AFG  \n",
       "1  [{'acronym': 'EU', 'name': 'European Union', '...  Unknown  \n",
       "2  [{'acronym': 'CEFTA', 'name': 'Central Europea...      ALB  \n",
       "3  [{'acronym': 'AU', 'name': 'African Union', 'o...      ALG  \n",
       "4                                                 []      ASA  "
      ]
     },
     "execution_count": 334,
     "metadata": {},
     "output_type": "execute_result"
    }
   ],
   "source": [
    "#Unlist columns function\n",
    "def unlist(col):\n",
    "    ls=[]\n",
    "    for i in range(0,250):\n",
    "        a=col[i]\n",
    "        a=','.join(a)\n",
    "        ls.append(a)\n",
    "    return ls\n",
    "\n",
    "#Unlist borders column\n",
    "lis=df['borders']\n",
    "unlis=unlist(lis)\n",
    "df['borders']=unlis\n",
    "\n",
    "df.head()"
   ]
  },
  {
   "cell_type": "code",
   "execution_count": 335,
   "metadata": {},
   "outputs": [
    {
     "data": {
      "text/html": [
       "<div>\n",
       "<style scoped>\n",
       "    .dataframe tbody tr th:only-of-type {\n",
       "        vertical-align: middle;\n",
       "    }\n",
       "\n",
       "    .dataframe tbody tr th {\n",
       "        vertical-align: top;\n",
       "    }\n",
       "\n",
       "    .dataframe thead th {\n",
       "        text-align: right;\n",
       "    }\n",
       "</style>\n",
       "<table border=\"1\" class=\"dataframe\">\n",
       "  <thead>\n",
       "    <tr style=\"text-align: right;\">\n",
       "      <th></th>\n",
       "      <th>country</th>\n",
       "      <th>alphaCode</th>\n",
       "      <th>capital</th>\n",
       "      <th>region</th>\n",
       "      <th>subregion</th>\n",
       "      <th>population</th>\n",
       "      <th>latlng</th>\n",
       "      <th>demonym</th>\n",
       "      <th>area</th>\n",
       "      <th>gini</th>\n",
       "      <th>timezones</th>\n",
       "      <th>borders</th>\n",
       "      <th>borders_count</th>\n",
       "      <th>nativeName</th>\n",
       "      <th>currencies</th>\n",
       "      <th>languages</th>\n",
       "      <th>flag</th>\n",
       "      <th>regionalBlocs</th>\n",
       "      <th>cioc</th>\n",
       "    </tr>\n",
       "  </thead>\n",
       "  <tbody>\n",
       "    <tr>\n",
       "      <th>0</th>\n",
       "      <td>Afghanistan</td>\n",
       "      <td>AFG</td>\n",
       "      <td>Kabul</td>\n",
       "      <td>Asia</td>\n",
       "      <td>Southern Asia</td>\n",
       "      <td>27657145</td>\n",
       "      <td>[33.0, 65.0]</td>\n",
       "      <td>Afghan</td>\n",
       "      <td>652230.0</td>\n",
       "      <td>27.8</td>\n",
       "      <td>UTC+04:30</td>\n",
       "      <td>IRN,PAK,TKM,UZB,TJK,CHN</td>\n",
       "      <td>6</td>\n",
       "      <td>افغانستان</td>\n",
       "      <td>[{'code': 'AFN', 'name': 'Afghan afghani', 'sy...</td>\n",
       "      <td>[{'iso639_1': 'ps', 'iso639_2': 'pus', 'name':...</td>\n",
       "      <td>https://restcountries.eu/data/afg.svg</td>\n",
       "      <td>[{'acronym': 'SAARC', 'name': 'South Asian Ass...</td>\n",
       "      <td>AFG</td>\n",
       "    </tr>\n",
       "    <tr>\n",
       "      <th>1</th>\n",
       "      <td>Åland Islands</td>\n",
       "      <td>ALA</td>\n",
       "      <td>Mariehamn</td>\n",
       "      <td>Europe</td>\n",
       "      <td>Northern Europe</td>\n",
       "      <td>28875</td>\n",
       "      <td>[60.116667, 19.9]</td>\n",
       "      <td>Ålandish</td>\n",
       "      <td>1580.0</td>\n",
       "      <td>NaN</td>\n",
       "      <td>UTC+02:00</td>\n",
       "      <td>None</td>\n",
       "      <td>0</td>\n",
       "      <td>Åland</td>\n",
       "      <td>[{'code': 'EUR', 'name': 'Euro', 'symbol': '€'}]</td>\n",
       "      <td>[{'iso639_1': 'sv', 'iso639_2': 'swe', 'name':...</td>\n",
       "      <td>https://restcountries.eu/data/ala.svg</td>\n",
       "      <td>[{'acronym': 'EU', 'name': 'European Union', '...</td>\n",
       "      <td>Unknown</td>\n",
       "    </tr>\n",
       "    <tr>\n",
       "      <th>2</th>\n",
       "      <td>Albania</td>\n",
       "      <td>ALB</td>\n",
       "      <td>Tirana</td>\n",
       "      <td>Europe</td>\n",
       "      <td>Southern Europe</td>\n",
       "      <td>2886026</td>\n",
       "      <td>[41.0, 20.0]</td>\n",
       "      <td>Albanian</td>\n",
       "      <td>28748.0</td>\n",
       "      <td>34.5</td>\n",
       "      <td>UTC+01:00</td>\n",
       "      <td>MNE,GRC,MKD,KOS</td>\n",
       "      <td>4</td>\n",
       "      <td>Shqipëria</td>\n",
       "      <td>[{'code': 'ALL', 'name': 'Albanian lek', 'symb...</td>\n",
       "      <td>[{'iso639_1': 'sq', 'iso639_2': 'sqi', 'name':...</td>\n",
       "      <td>https://restcountries.eu/data/alb.svg</td>\n",
       "      <td>[{'acronym': 'CEFTA', 'name': 'Central Europea...</td>\n",
       "      <td>ALB</td>\n",
       "    </tr>\n",
       "    <tr>\n",
       "      <th>3</th>\n",
       "      <td>Algeria</td>\n",
       "      <td>DZA</td>\n",
       "      <td>Algiers</td>\n",
       "      <td>Africa</td>\n",
       "      <td>Northern Africa</td>\n",
       "      <td>40400000</td>\n",
       "      <td>[28.0, 3.0]</td>\n",
       "      <td>Algerian</td>\n",
       "      <td>2381741.0</td>\n",
       "      <td>35.3</td>\n",
       "      <td>UTC+01:00</td>\n",
       "      <td>TUN,LBY,NER,ESH,MRT,MLI,MAR</td>\n",
       "      <td>7</td>\n",
       "      <td>الجزائر</td>\n",
       "      <td>[{'code': 'DZD', 'name': 'Algerian dinar', 'sy...</td>\n",
       "      <td>[{'iso639_1': 'ar', 'iso639_2': 'ara', 'name':...</td>\n",
       "      <td>https://restcountries.eu/data/dza.svg</td>\n",
       "      <td>[{'acronym': 'AU', 'name': 'African Union', 'o...</td>\n",
       "      <td>ALG</td>\n",
       "    </tr>\n",
       "    <tr>\n",
       "      <th>4</th>\n",
       "      <td>American Samoa</td>\n",
       "      <td>ASM</td>\n",
       "      <td>Pago Pago</td>\n",
       "      <td>Oceania</td>\n",
       "      <td>Polynesia</td>\n",
       "      <td>57100</td>\n",
       "      <td>[-14.33333333, -170.0]</td>\n",
       "      <td>American Samoan</td>\n",
       "      <td>199.0</td>\n",
       "      <td>NaN</td>\n",
       "      <td>UTC-11:00</td>\n",
       "      <td>None</td>\n",
       "      <td>0</td>\n",
       "      <td>American Samoa</td>\n",
       "      <td>[{'code': 'USD', 'name': 'United State Dollar'...</td>\n",
       "      <td>[{'iso639_1': 'en', 'iso639_2': 'eng', 'name':...</td>\n",
       "      <td>https://restcountries.eu/data/asm.svg</td>\n",
       "      <td>[]</td>\n",
       "      <td>ASA</td>\n",
       "    </tr>\n",
       "  </tbody>\n",
       "</table>\n",
       "</div>"
      ],
      "text/plain": [
       "          country alphaCode    capital   region        subregion  population  \\\n",
       "0     Afghanistan       AFG      Kabul     Asia    Southern Asia    27657145   \n",
       "1   Åland Islands       ALA  Mariehamn   Europe  Northern Europe       28875   \n",
       "2         Albania       ALB     Tirana   Europe  Southern Europe     2886026   \n",
       "3         Algeria       DZA    Algiers   Africa  Northern Africa    40400000   \n",
       "4  American Samoa       ASM  Pago Pago  Oceania        Polynesia       57100   \n",
       "\n",
       "                   latlng          demonym       area  gini  timezones  \\\n",
       "0            [33.0, 65.0]           Afghan   652230.0  27.8  UTC+04:30   \n",
       "1       [60.116667, 19.9]         Ålandish     1580.0   NaN  UTC+02:00   \n",
       "2            [41.0, 20.0]         Albanian    28748.0  34.5  UTC+01:00   \n",
       "3             [28.0, 3.0]         Algerian  2381741.0  35.3  UTC+01:00   \n",
       "4  [-14.33333333, -170.0]  American Samoan      199.0   NaN  UTC-11:00   \n",
       "\n",
       "                       borders  borders_count      nativeName  \\\n",
       "0      IRN,PAK,TKM,UZB,TJK,CHN              6       افغانستان   \n",
       "1                         None              0           Åland   \n",
       "2              MNE,GRC,MKD,KOS              4       Shqipëria   \n",
       "3  TUN,LBY,NER,ESH,MRT,MLI,MAR              7         الجزائر   \n",
       "4                         None              0  American Samoa   \n",
       "\n",
       "                                          currencies  \\\n",
       "0  [{'code': 'AFN', 'name': 'Afghan afghani', 'sy...   \n",
       "1   [{'code': 'EUR', 'name': 'Euro', 'symbol': '€'}]   \n",
       "2  [{'code': 'ALL', 'name': 'Albanian lek', 'symb...   \n",
       "3  [{'code': 'DZD', 'name': 'Algerian dinar', 'sy...   \n",
       "4  [{'code': 'USD', 'name': 'United State Dollar'...   \n",
       "\n",
       "                                           languages  \\\n",
       "0  [{'iso639_1': 'ps', 'iso639_2': 'pus', 'name':...   \n",
       "1  [{'iso639_1': 'sv', 'iso639_2': 'swe', 'name':...   \n",
       "2  [{'iso639_1': 'sq', 'iso639_2': 'sqi', 'name':...   \n",
       "3  [{'iso639_1': 'ar', 'iso639_2': 'ara', 'name':...   \n",
       "4  [{'iso639_1': 'en', 'iso639_2': 'eng', 'name':...   \n",
       "\n",
       "                                    flag  \\\n",
       "0  https://restcountries.eu/data/afg.svg   \n",
       "1  https://restcountries.eu/data/ala.svg   \n",
       "2  https://restcountries.eu/data/alb.svg   \n",
       "3  https://restcountries.eu/data/dza.svg   \n",
       "4  https://restcountries.eu/data/asm.svg   \n",
       "\n",
       "                                       regionalBlocs     cioc  \n",
       "0  [{'acronym': 'SAARC', 'name': 'South Asian Ass...      AFG  \n",
       "1  [{'acronym': 'EU', 'name': 'European Union', '...  Unknown  \n",
       "2  [{'acronym': 'CEFTA', 'name': 'Central Europea...      ALB  \n",
       "3  [{'acronym': 'AU', 'name': 'African Union', 'o...      ALG  \n",
       "4                                                 []      ASA  "
      ]
     },
     "execution_count": 335,
     "metadata": {},
     "output_type": "execute_result"
    }
   ],
   "source": [
    "#Creat function to fill empty list columns with value None\n",
    "def fill_empty_list(col):\n",
    "    fill=[]\n",
    "    for i in col:\n",
    "        if len(i) == 0:\n",
    "            fill.append('None')\n",
    "        else:\n",
    "            fill.append(i)\n",
    "    return fill\n",
    "\n",
    "#Fill [] empty list values in borders column\n",
    "bor=df['borders']\n",
    "bor1=fill_empty_list(bor)\n",
    "df['borders']=bor1\n",
    "\n",
    "df.head()"
   ]
  },
  {
   "cell_type": "markdown",
   "metadata": {},
   "source": [
    "### currencies column"
   ]
  },
  {
   "cell_type": "code",
   "execution_count": 336,
   "metadata": {},
   "outputs": [
    {
     "data": {
      "text/html": [
       "<div>\n",
       "<style scoped>\n",
       "    .dataframe tbody tr th:only-of-type {\n",
       "        vertical-align: middle;\n",
       "    }\n",
       "\n",
       "    .dataframe tbody tr th {\n",
       "        vertical-align: top;\n",
       "    }\n",
       "\n",
       "    .dataframe thead th {\n",
       "        text-align: right;\n",
       "    }\n",
       "</style>\n",
       "<table border=\"1\" class=\"dataframe\">\n",
       "  <thead>\n",
       "    <tr style=\"text-align: right;\">\n",
       "      <th></th>\n",
       "      <th>country</th>\n",
       "      <th>alphaCode</th>\n",
       "      <th>capital</th>\n",
       "      <th>region</th>\n",
       "      <th>subregion</th>\n",
       "      <th>population</th>\n",
       "      <th>latlng</th>\n",
       "      <th>demonym</th>\n",
       "      <th>area</th>\n",
       "      <th>gini</th>\n",
       "      <th>timezones</th>\n",
       "      <th>borders</th>\n",
       "      <th>borders_count</th>\n",
       "      <th>nativeName</th>\n",
       "      <th>currencies</th>\n",
       "      <th>languages</th>\n",
       "      <th>flag</th>\n",
       "      <th>regionalBlocs</th>\n",
       "      <th>cioc</th>\n",
       "    </tr>\n",
       "  </thead>\n",
       "  <tbody>\n",
       "    <tr>\n",
       "      <th>0</th>\n",
       "      <td>Afghanistan</td>\n",
       "      <td>AFG</td>\n",
       "      <td>Kabul</td>\n",
       "      <td>Asia</td>\n",
       "      <td>Southern Asia</td>\n",
       "      <td>27657145</td>\n",
       "      <td>[33.0, 65.0]</td>\n",
       "      <td>Afghan</td>\n",
       "      <td>652230.0</td>\n",
       "      <td>27.8</td>\n",
       "      <td>UTC+04:30</td>\n",
       "      <td>IRN,PAK,TKM,UZB,TJK,CHN</td>\n",
       "      <td>6</td>\n",
       "      <td>افغانستان</td>\n",
       "      <td>AFN</td>\n",
       "      <td>[{'iso639_1': 'ps', 'iso639_2': 'pus', 'name':...</td>\n",
       "      <td>https://restcountries.eu/data/afg.svg</td>\n",
       "      <td>[{'acronym': 'SAARC', 'name': 'South Asian Ass...</td>\n",
       "      <td>AFG</td>\n",
       "    </tr>\n",
       "    <tr>\n",
       "      <th>1</th>\n",
       "      <td>Åland Islands</td>\n",
       "      <td>ALA</td>\n",
       "      <td>Mariehamn</td>\n",
       "      <td>Europe</td>\n",
       "      <td>Northern Europe</td>\n",
       "      <td>28875</td>\n",
       "      <td>[60.116667, 19.9]</td>\n",
       "      <td>Ålandish</td>\n",
       "      <td>1580.0</td>\n",
       "      <td>NaN</td>\n",
       "      <td>UTC+02:00</td>\n",
       "      <td>None</td>\n",
       "      <td>0</td>\n",
       "      <td>Åland</td>\n",
       "      <td>EUR</td>\n",
       "      <td>[{'iso639_1': 'sv', 'iso639_2': 'swe', 'name':...</td>\n",
       "      <td>https://restcountries.eu/data/ala.svg</td>\n",
       "      <td>[{'acronym': 'EU', 'name': 'European Union', '...</td>\n",
       "      <td>Unknown</td>\n",
       "    </tr>\n",
       "    <tr>\n",
       "      <th>2</th>\n",
       "      <td>Albania</td>\n",
       "      <td>ALB</td>\n",
       "      <td>Tirana</td>\n",
       "      <td>Europe</td>\n",
       "      <td>Southern Europe</td>\n",
       "      <td>2886026</td>\n",
       "      <td>[41.0, 20.0]</td>\n",
       "      <td>Albanian</td>\n",
       "      <td>28748.0</td>\n",
       "      <td>34.5</td>\n",
       "      <td>UTC+01:00</td>\n",
       "      <td>MNE,GRC,MKD,KOS</td>\n",
       "      <td>4</td>\n",
       "      <td>Shqipëria</td>\n",
       "      <td>ALL</td>\n",
       "      <td>[{'iso639_1': 'sq', 'iso639_2': 'sqi', 'name':...</td>\n",
       "      <td>https://restcountries.eu/data/alb.svg</td>\n",
       "      <td>[{'acronym': 'CEFTA', 'name': 'Central Europea...</td>\n",
       "      <td>ALB</td>\n",
       "    </tr>\n",
       "  </tbody>\n",
       "</table>\n",
       "</div>"
      ],
      "text/plain": [
       "         country alphaCode    capital  region        subregion  population  \\\n",
       "0    Afghanistan       AFG      Kabul    Asia    Southern Asia    27657145   \n",
       "1  Åland Islands       ALA  Mariehamn  Europe  Northern Europe       28875   \n",
       "2        Albania       ALB     Tirana  Europe  Southern Europe     2886026   \n",
       "\n",
       "              latlng   demonym      area  gini  timezones  \\\n",
       "0       [33.0, 65.0]    Afghan  652230.0  27.8  UTC+04:30   \n",
       "1  [60.116667, 19.9]  Ålandish    1580.0   NaN  UTC+02:00   \n",
       "2       [41.0, 20.0]  Albanian   28748.0  34.5  UTC+01:00   \n",
       "\n",
       "                   borders  borders_count nativeName currencies  \\\n",
       "0  IRN,PAK,TKM,UZB,TJK,CHN              6  افغانستان        AFN   \n",
       "1                     None              0      Åland        EUR   \n",
       "2          MNE,GRC,MKD,KOS              4  Shqipëria        ALL   \n",
       "\n",
       "                                           languages  \\\n",
       "0  [{'iso639_1': 'ps', 'iso639_2': 'pus', 'name':...   \n",
       "1  [{'iso639_1': 'sv', 'iso639_2': 'swe', 'name':...   \n",
       "2  [{'iso639_1': 'sq', 'iso639_2': 'sqi', 'name':...   \n",
       "\n",
       "                                    flag  \\\n",
       "0  https://restcountries.eu/data/afg.svg   \n",
       "1  https://restcountries.eu/data/ala.svg   \n",
       "2  https://restcountries.eu/data/alb.svg   \n",
       "\n",
       "                                       regionalBlocs     cioc  \n",
       "0  [{'acronym': 'SAARC', 'name': 'South Asian Ass...      AFG  \n",
       "1  [{'acronym': 'EU', 'name': 'European Union', '...  Unknown  \n",
       "2  [{'acronym': 'CEFTA', 'name': 'Central Europea...      ALB  "
      ]
     },
     "execution_count": 336,
     "metadata": {},
     "output_type": "execute_result"
    }
   ],
   "source": [
    "def currencies(col):\n",
    "    curr=[]\n",
    "    for i in range(0,len(col)):\n",
    "        tab=pd.Series(col[i])\n",
    "        tab=pd.json_normalize(tab)\n",
    "        name=tab['code'].to_string()\n",
    "        name=name.replace('0','').replace('\\n1',',').replace(' ','').replace(',(none)','').replace('None,','').replace('none,','').replace(\"(none),\",'')\n",
    "        curr.append(name)\n",
    "    return curr\n",
    "\n",
    "c=df['currencies']\n",
    "d=currencies(c)\n",
    "df['currencies']=d\n",
    "\n",
    "df.head(3)"
   ]
  },
  {
   "cell_type": "code",
   "execution_count": 337,
   "metadata": {},
   "outputs": [
    {
     "data": {
      "text/plain": [
       "array(['AFN', 'EUR', 'ALL', 'DZD', 'USD', 'AOA', 'XCD', 'AUD,GBP', 'ARS',\n",
       "       'AMD', 'AWG', 'AUD', 'AZN', 'BSD', 'BHD', 'BDT', 'BBD', 'BYN,BYR',\n",
       "       'BZD', 'XOF', 'BMD', 'BTN,INR', 'BOB', 'BAM', 'BWP', 'NOK', 'BRL',\n",
       "       'BND,SGD', 'BGN', 'BIF', 'KHR,USD', 'XAF', 'CAD', 'CVE', 'KYD',\n",
       "       'CLP', 'CNY', 'COP', 'KMF', 'CDF', 'NZD,CKD', 'CRC', 'HRK',\n",
       "       'CUC,CUP', 'ANG', 'CZK', 'DKK', 'DJF', 'DOP', 'EGP', 'ERN', 'ETB',\n",
       "       'FKP', 'FJD', 'XPF', 'GMD', 'GEL', 'GHS', 'GIP', 'GTQ', 'GBP',\n",
       "       'GNF', 'GYD', 'HTG', 'HNL', 'HKD', 'HUF', 'ISK', 'INR', 'IDR',\n",
       "       'IRR', 'IQD', 'GBP,IMP[G]', 'ILS', 'JMD', 'JPY', 'GBP,JEP[G]',\n",
       "       'JOD', 'KZT', 'KES', 'KWD', 'KGS', 'LAK', 'LBP', 'LSL,ZAR', 'LRD',\n",
       "       'LYD', 'CHF', 'MOP', 'MKD', 'MGA', 'MWK', 'MYR', 'MVR', 'MRO',\n",
       "       'MUR', 'MXN', 'MDL', 'MNT', 'MAD', 'MZN', 'MMK', 'NAD,ZAR', 'NPR',\n",
       "       'NZD', 'NIO', 'NGN', 'KPW', 'OMR', 'PKR', 'PAB,USD', 'PGK', 'PYG',\n",
       "       'PEN', 'PHP', 'NZD,None', 'PLN', 'QAR', 'RON', 'RUB', 'RWF', 'SHP',\n",
       "       'WST', 'STD', 'SAR', 'RSD', 'SCR', 'SLL', 'SBD', 'SOS', 'ZAR',\n",
       "       'KRW', 'SSP', 'LKR', 'SDG', 'SRD', 'SZL', 'SEK', 'SYP', 'TWD',\n",
       "       'TJS', 'TZS', 'THB', 'USD,None', 'TOP', 'TTD', 'TND', 'TRY', 'TMT',\n",
       "       'AUD,TVD[G]', 'UGX', 'UAH', 'AED', 'UYU', 'UZS', 'VUV', 'VEF',\n",
       "       'VND', 'MAD,DZD', 'YER', 'ZMW',\n",
       "       'BWP,GBP\\n2CNY\\n3EUR\\n4INR\\n5JPY\\n6ZAR\\n7USD\\n8(none)'],\n",
       "      dtype=object)"
      ]
     },
     "execution_count": 337,
     "metadata": {},
     "output_type": "execute_result"
    }
   ],
   "source": [
    "df['currencies'].unique()"
   ]
  },
  {
   "cell_type": "markdown",
   "metadata": {},
   "source": [
    "For countries using more than two currencies (one popular and one only used in that country), we will count only the more popular currency for better statistic.\n",
    "\n",
    "Special cases in which both currencies are used in more than one countries, all currencies will be kept."
   ]
  },
  {
   "cell_type": "code",
   "execution_count": 338,
   "metadata": {},
   "outputs": [],
   "source": [
    "df.loc[249,'currencies'] = 'BWP,GBP,CNY,EUR,INR,JPY,ZAR,USD'\n",
    "df.loc[25,'currencies'] = 'INR'\n",
    "df.loc[40,'currencies'] = 'USD'\n",
    "df.loc[55,'currencies'] = 'NZD'\n",
    "df.loc[110,'currencies'] = 'GBP'\n",
    "df.loc[115,'currencies'] = 'GBP'\n",
    "df.loc[125,'currencies'] = 'ZAR'\n",
    "df.loc[154,'currencies'] = 'ZAR'\n",
    "df.loc[172,'currencies'] = 'USD'\n",
    "df.loc[177,'currencies'] = 'NZD'\n",
    "df.loc[225,'currencies'] = 'USD'\n",
    "df.loc[234,'currencies'] = 'AUD'\n"
   ]
  },
  {
   "cell_type": "code",
   "execution_count": 339,
   "metadata": {},
   "outputs": [
    {
     "data": {
      "application/vnd.plotly.v1+json": {
       "config": {
        "plotlyServerURL": "https://plot.ly"
       },
       "data": [
        {
         "histfunc": "count",
         "type": "histogram",
         "x": [
          "AFN",
          "EUR",
          "ALL",
          "DZD",
          "USD",
          "EUR",
          "AOA",
          "XCD",
          "AUD,GBP",
          "XCD",
          "ARS",
          "AMD",
          "AWG",
          "AUD",
          "EUR",
          "AZN",
          "BSD",
          "BHD",
          "BDT",
          "BBD",
          "BYN,BYR",
          "EUR",
          "BZD",
          "XOF",
          "BMD",
          "INR",
          "BOB",
          "USD",
          "BAM",
          "BWP",
          "NOK",
          "BRL",
          "USD",
          "USD",
          "USD",
          "USD",
          "BND,SGD",
          "BGN",
          "XOF",
          "BIF",
          "USD",
          "XAF",
          "CAD",
          "CVE",
          "KYD",
          "XAF",
          "XAF",
          "CLP",
          "CNY",
          "AUD",
          "AUD",
          "COP",
          "KMF",
          "XAF",
          "CDF",
          "NZD",
          "CRC",
          "HRK",
          "CUC,CUP",
          "ANG",
          "EUR",
          "CZK",
          "DKK",
          "DJF",
          "XCD",
          "DOP",
          "USD",
          "EGP",
          "USD",
          "XAF",
          "ERN",
          "EUR",
          "ETB",
          "FKP",
          "DKK",
          "FJD",
          "EUR",
          "EUR",
          "EUR",
          "XPF",
          "EUR",
          "XAF",
          "GMD",
          "GEL",
          "EUR",
          "GHS",
          "GIP",
          "EUR",
          "DKK",
          "XCD",
          "EUR",
          "USD",
          "GTQ",
          "GBP",
          "GNF",
          "XOF",
          "GYD",
          "HTG",
          "AUD",
          "EUR",
          "HNL",
          "HKD",
          "HUF",
          "ISK",
          "INR",
          "IDR",
          "XOF",
          "IRR",
          "IQD",
          "EUR",
          "GBP",
          "ILS",
          "EUR",
          "JMD",
          "JPY",
          "GBP",
          "JOD",
          "KZT",
          "KES",
          "AUD",
          "KWD",
          "KGS",
          "LAK",
          "EUR",
          "LBP",
          "ZAR",
          "LRD",
          "LYD",
          "CHF",
          "EUR",
          "EUR",
          "MOP",
          "MKD",
          "MGA",
          "MWK",
          "MYR",
          "MVR",
          "XOF",
          "EUR",
          "USD",
          "EUR",
          "MRO",
          "MUR",
          "EUR",
          "MXN",
          "USD",
          "MDL",
          "EUR",
          "MNT",
          "EUR",
          "XCD",
          "MAD",
          "MZN",
          "MMK",
          "ZAR",
          "AUD",
          "NPR",
          "EUR",
          "XPF",
          "NZD",
          "NIO",
          "XOF",
          "NGN",
          "NZD",
          "AUD",
          "KPW",
          "USD",
          "NOK",
          "OMR",
          "PKR",
          "USD",
          "ILS",
          "USD",
          "PGK",
          "PYG",
          "PEN",
          "PHP",
          "NZD",
          "PLN",
          "EUR",
          "USD",
          "QAR",
          "EUR",
          "EUR",
          "RON",
          "RUB",
          "RWF",
          "EUR",
          "SHP",
          "XCD",
          "XCD",
          "EUR",
          "EUR",
          "XCD",
          "WST",
          "EUR",
          "STD",
          "SAR",
          "XOF",
          "RSD",
          "SCR",
          "SLL",
          "BND,SGD",
          "ANG",
          "EUR",
          "EUR",
          "SBD",
          "SOS",
          "ZAR",
          "GBP",
          "KRW",
          "SSP",
          "EUR",
          "LKR",
          "SDG",
          "SRD",
          "NOK",
          "SZL",
          "SEK",
          "CHF",
          "SYP",
          "TWD",
          "TJS",
          "TZS",
          "THB",
          "USD",
          "XOF",
          "NZD",
          "TOP",
          "TTD",
          "TND",
          "TRY",
          "TMT",
          "USD",
          "AUD",
          "UGX",
          "UAH",
          "AED",
          "GBP",
          "USD",
          "UYU",
          "UZS",
          "VUV",
          "VEF",
          "VND",
          "XPF",
          "MAD,DZD",
          "YER",
          "ZMW",
          "BWP,GBP,CNY,EUR,INR,JPY,ZAR,USD"
         ]
        }
       ],
       "layout": {
        "template": {
         "data": {
          "bar": [
           {
            "error_x": {
             "color": "#2a3f5f"
            },
            "error_y": {
             "color": "#2a3f5f"
            },
            "marker": {
             "line": {
              "color": "#E5ECF6",
              "width": 0.5
             }
            },
            "type": "bar"
           }
          ],
          "barpolar": [
           {
            "marker": {
             "line": {
              "color": "#E5ECF6",
              "width": 0.5
             }
            },
            "type": "barpolar"
           }
          ],
          "carpet": [
           {
            "aaxis": {
             "endlinecolor": "#2a3f5f",
             "gridcolor": "white",
             "linecolor": "white",
             "minorgridcolor": "white",
             "startlinecolor": "#2a3f5f"
            },
            "baxis": {
             "endlinecolor": "#2a3f5f",
             "gridcolor": "white",
             "linecolor": "white",
             "minorgridcolor": "white",
             "startlinecolor": "#2a3f5f"
            },
            "type": "carpet"
           }
          ],
          "choropleth": [
           {
            "colorbar": {
             "outlinewidth": 0,
             "ticks": ""
            },
            "type": "choropleth"
           }
          ],
          "contour": [
           {
            "colorbar": {
             "outlinewidth": 0,
             "ticks": ""
            },
            "colorscale": [
             [
              0,
              "#0d0887"
             ],
             [
              0.1111111111111111,
              "#46039f"
             ],
             [
              0.2222222222222222,
              "#7201a8"
             ],
             [
              0.3333333333333333,
              "#9c179e"
             ],
             [
              0.4444444444444444,
              "#bd3786"
             ],
             [
              0.5555555555555556,
              "#d8576b"
             ],
             [
              0.6666666666666666,
              "#ed7953"
             ],
             [
              0.7777777777777778,
              "#fb9f3a"
             ],
             [
              0.8888888888888888,
              "#fdca26"
             ],
             [
              1,
              "#f0f921"
             ]
            ],
            "type": "contour"
           }
          ],
          "contourcarpet": [
           {
            "colorbar": {
             "outlinewidth": 0,
             "ticks": ""
            },
            "type": "contourcarpet"
           }
          ],
          "heatmap": [
           {
            "colorbar": {
             "outlinewidth": 0,
             "ticks": ""
            },
            "colorscale": [
             [
              0,
              "#0d0887"
             ],
             [
              0.1111111111111111,
              "#46039f"
             ],
             [
              0.2222222222222222,
              "#7201a8"
             ],
             [
              0.3333333333333333,
              "#9c179e"
             ],
             [
              0.4444444444444444,
              "#bd3786"
             ],
             [
              0.5555555555555556,
              "#d8576b"
             ],
             [
              0.6666666666666666,
              "#ed7953"
             ],
             [
              0.7777777777777778,
              "#fb9f3a"
             ],
             [
              0.8888888888888888,
              "#fdca26"
             ],
             [
              1,
              "#f0f921"
             ]
            ],
            "type": "heatmap"
           }
          ],
          "heatmapgl": [
           {
            "colorbar": {
             "outlinewidth": 0,
             "ticks": ""
            },
            "colorscale": [
             [
              0,
              "#0d0887"
             ],
             [
              0.1111111111111111,
              "#46039f"
             ],
             [
              0.2222222222222222,
              "#7201a8"
             ],
             [
              0.3333333333333333,
              "#9c179e"
             ],
             [
              0.4444444444444444,
              "#bd3786"
             ],
             [
              0.5555555555555556,
              "#d8576b"
             ],
             [
              0.6666666666666666,
              "#ed7953"
             ],
             [
              0.7777777777777778,
              "#fb9f3a"
             ],
             [
              0.8888888888888888,
              "#fdca26"
             ],
             [
              1,
              "#f0f921"
             ]
            ],
            "type": "heatmapgl"
           }
          ],
          "histogram": [
           {
            "marker": {
             "colorbar": {
              "outlinewidth": 0,
              "ticks": ""
             }
            },
            "type": "histogram"
           }
          ],
          "histogram2d": [
           {
            "colorbar": {
             "outlinewidth": 0,
             "ticks": ""
            },
            "colorscale": [
             [
              0,
              "#0d0887"
             ],
             [
              0.1111111111111111,
              "#46039f"
             ],
             [
              0.2222222222222222,
              "#7201a8"
             ],
             [
              0.3333333333333333,
              "#9c179e"
             ],
             [
              0.4444444444444444,
              "#bd3786"
             ],
             [
              0.5555555555555556,
              "#d8576b"
             ],
             [
              0.6666666666666666,
              "#ed7953"
             ],
             [
              0.7777777777777778,
              "#fb9f3a"
             ],
             [
              0.8888888888888888,
              "#fdca26"
             ],
             [
              1,
              "#f0f921"
             ]
            ],
            "type": "histogram2d"
           }
          ],
          "histogram2dcontour": [
           {
            "colorbar": {
             "outlinewidth": 0,
             "ticks": ""
            },
            "colorscale": [
             [
              0,
              "#0d0887"
             ],
             [
              0.1111111111111111,
              "#46039f"
             ],
             [
              0.2222222222222222,
              "#7201a8"
             ],
             [
              0.3333333333333333,
              "#9c179e"
             ],
             [
              0.4444444444444444,
              "#bd3786"
             ],
             [
              0.5555555555555556,
              "#d8576b"
             ],
             [
              0.6666666666666666,
              "#ed7953"
             ],
             [
              0.7777777777777778,
              "#fb9f3a"
             ],
             [
              0.8888888888888888,
              "#fdca26"
             ],
             [
              1,
              "#f0f921"
             ]
            ],
            "type": "histogram2dcontour"
           }
          ],
          "mesh3d": [
           {
            "colorbar": {
             "outlinewidth": 0,
             "ticks": ""
            },
            "type": "mesh3d"
           }
          ],
          "parcoords": [
           {
            "line": {
             "colorbar": {
              "outlinewidth": 0,
              "ticks": ""
             }
            },
            "type": "parcoords"
           }
          ],
          "pie": [
           {
            "automargin": true,
            "type": "pie"
           }
          ],
          "scatter": [
           {
            "marker": {
             "colorbar": {
              "outlinewidth": 0,
              "ticks": ""
             }
            },
            "type": "scatter"
           }
          ],
          "scatter3d": [
           {
            "line": {
             "colorbar": {
              "outlinewidth": 0,
              "ticks": ""
             }
            },
            "marker": {
             "colorbar": {
              "outlinewidth": 0,
              "ticks": ""
             }
            },
            "type": "scatter3d"
           }
          ],
          "scattercarpet": [
           {
            "marker": {
             "colorbar": {
              "outlinewidth": 0,
              "ticks": ""
             }
            },
            "type": "scattercarpet"
           }
          ],
          "scattergeo": [
           {
            "marker": {
             "colorbar": {
              "outlinewidth": 0,
              "ticks": ""
             }
            },
            "type": "scattergeo"
           }
          ],
          "scattergl": [
           {
            "marker": {
             "colorbar": {
              "outlinewidth": 0,
              "ticks": ""
             }
            },
            "type": "scattergl"
           }
          ],
          "scattermapbox": [
           {
            "marker": {
             "colorbar": {
              "outlinewidth": 0,
              "ticks": ""
             }
            },
            "type": "scattermapbox"
           }
          ],
          "scatterpolar": [
           {
            "marker": {
             "colorbar": {
              "outlinewidth": 0,
              "ticks": ""
             }
            },
            "type": "scatterpolar"
           }
          ],
          "scatterpolargl": [
           {
            "marker": {
             "colorbar": {
              "outlinewidth": 0,
              "ticks": ""
             }
            },
            "type": "scatterpolargl"
           }
          ],
          "scatterternary": [
           {
            "marker": {
             "colorbar": {
              "outlinewidth": 0,
              "ticks": ""
             }
            },
            "type": "scatterternary"
           }
          ],
          "surface": [
           {
            "colorbar": {
             "outlinewidth": 0,
             "ticks": ""
            },
            "colorscale": [
             [
              0,
              "#0d0887"
             ],
             [
              0.1111111111111111,
              "#46039f"
             ],
             [
              0.2222222222222222,
              "#7201a8"
             ],
             [
              0.3333333333333333,
              "#9c179e"
             ],
             [
              0.4444444444444444,
              "#bd3786"
             ],
             [
              0.5555555555555556,
              "#d8576b"
             ],
             [
              0.6666666666666666,
              "#ed7953"
             ],
             [
              0.7777777777777778,
              "#fb9f3a"
             ],
             [
              0.8888888888888888,
              "#fdca26"
             ],
             [
              1,
              "#f0f921"
             ]
            ],
            "type": "surface"
           }
          ],
          "table": [
           {
            "cells": {
             "fill": {
              "color": "#EBF0F8"
             },
             "line": {
              "color": "white"
             }
            },
            "header": {
             "fill": {
              "color": "#C8D4E3"
             },
             "line": {
              "color": "white"
             }
            },
            "type": "table"
           }
          ]
         },
         "layout": {
          "annotationdefaults": {
           "arrowcolor": "#2a3f5f",
           "arrowhead": 0,
           "arrowwidth": 1
          },
          "coloraxis": {
           "colorbar": {
            "outlinewidth": 0,
            "ticks": ""
           }
          },
          "colorscale": {
           "diverging": [
            [
             0,
             "#8e0152"
            ],
            [
             0.1,
             "#c51b7d"
            ],
            [
             0.2,
             "#de77ae"
            ],
            [
             0.3,
             "#f1b6da"
            ],
            [
             0.4,
             "#fde0ef"
            ],
            [
             0.5,
             "#f7f7f7"
            ],
            [
             0.6,
             "#e6f5d0"
            ],
            [
             0.7,
             "#b8e186"
            ],
            [
             0.8,
             "#7fbc41"
            ],
            [
             0.9,
             "#4d9221"
            ],
            [
             1,
             "#276419"
            ]
           ],
           "sequential": [
            [
             0,
             "#0d0887"
            ],
            [
             0.1111111111111111,
             "#46039f"
            ],
            [
             0.2222222222222222,
             "#7201a8"
            ],
            [
             0.3333333333333333,
             "#9c179e"
            ],
            [
             0.4444444444444444,
             "#bd3786"
            ],
            [
             0.5555555555555556,
             "#d8576b"
            ],
            [
             0.6666666666666666,
             "#ed7953"
            ],
            [
             0.7777777777777778,
             "#fb9f3a"
            ],
            [
             0.8888888888888888,
             "#fdca26"
            ],
            [
             1,
             "#f0f921"
            ]
           ],
           "sequentialminus": [
            [
             0,
             "#0d0887"
            ],
            [
             0.1111111111111111,
             "#46039f"
            ],
            [
             0.2222222222222222,
             "#7201a8"
            ],
            [
             0.3333333333333333,
             "#9c179e"
            ],
            [
             0.4444444444444444,
             "#bd3786"
            ],
            [
             0.5555555555555556,
             "#d8576b"
            ],
            [
             0.6666666666666666,
             "#ed7953"
            ],
            [
             0.7777777777777778,
             "#fb9f3a"
            ],
            [
             0.8888888888888888,
             "#fdca26"
            ],
            [
             1,
             "#f0f921"
            ]
           ]
          },
          "colorway": [
           "#636efa",
           "#EF553B",
           "#00cc96",
           "#ab63fa",
           "#FFA15A",
           "#19d3f3",
           "#FF6692",
           "#B6E880",
           "#FF97FF",
           "#FECB52"
          ],
          "font": {
           "color": "#2a3f5f"
          },
          "geo": {
           "bgcolor": "white",
           "lakecolor": "white",
           "landcolor": "#E5ECF6",
           "showlakes": true,
           "showland": true,
           "subunitcolor": "white"
          },
          "hoverlabel": {
           "align": "left"
          },
          "hovermode": "closest",
          "mapbox": {
           "style": "light"
          },
          "paper_bgcolor": "white",
          "plot_bgcolor": "#E5ECF6",
          "polar": {
           "angularaxis": {
            "gridcolor": "white",
            "linecolor": "white",
            "ticks": ""
           },
           "bgcolor": "#E5ECF6",
           "radialaxis": {
            "gridcolor": "white",
            "linecolor": "white",
            "ticks": ""
           }
          },
          "scene": {
           "xaxis": {
            "backgroundcolor": "#E5ECF6",
            "gridcolor": "white",
            "gridwidth": 2,
            "linecolor": "white",
            "showbackground": true,
            "ticks": "",
            "zerolinecolor": "white"
           },
           "yaxis": {
            "backgroundcolor": "#E5ECF6",
            "gridcolor": "white",
            "gridwidth": 2,
            "linecolor": "white",
            "showbackground": true,
            "ticks": "",
            "zerolinecolor": "white"
           },
           "zaxis": {
            "backgroundcolor": "#E5ECF6",
            "gridcolor": "white",
            "gridwidth": 2,
            "linecolor": "white",
            "showbackground": true,
            "ticks": "",
            "zerolinecolor": "white"
           }
          },
          "shapedefaults": {
           "line": {
            "color": "#2a3f5f"
           }
          },
          "ternary": {
           "aaxis": {
            "gridcolor": "white",
            "linecolor": "white",
            "ticks": ""
           },
           "baxis": {
            "gridcolor": "white",
            "linecolor": "white",
            "ticks": ""
           },
           "bgcolor": "#E5ECF6",
           "caxis": {
            "gridcolor": "white",
            "linecolor": "white",
            "ticks": ""
           }
          },
          "title": {
           "x": 0.05
          },
          "xaxis": {
           "automargin": true,
           "gridcolor": "white",
           "linecolor": "white",
           "ticks": "",
           "title": {
            "standoff": 15
           },
           "zerolinecolor": "white",
           "zerolinewidth": 2
          },
          "yaxis": {
           "automargin": true,
           "gridcolor": "white",
           "linecolor": "white",
           "ticks": "",
           "title": {
            "standoff": 15
           },
           "zerolinecolor": "white",
           "zerolinewidth": 2
          }
         }
        }
       }
      },
      "text/html": [
       "<div>\n",
       "        \n",
       "        \n",
       "            <div id=\"0853e5cc-957a-4586-a03b-087ca979a032\" class=\"plotly-graph-div\" style=\"height:525px; width:100%;\"></div>\n",
       "            <script type=\"text/javascript\">\n",
       "                require([\"plotly\"], function(Plotly) {\n",
       "                    window.PLOTLYENV=window.PLOTLYENV || {};\n",
       "                    \n",
       "                if (document.getElementById(\"0853e5cc-957a-4586-a03b-087ca979a032\")) {\n",
       "                    Plotly.newPlot(\n",
       "                        '0853e5cc-957a-4586-a03b-087ca979a032',\n",
       "                        [{\"histfunc\": \"count\", \"type\": \"histogram\", \"x\": [\"AFN\", \"EUR\", \"ALL\", \"DZD\", \"USD\", \"EUR\", \"AOA\", \"XCD\", \"AUD,GBP\", \"XCD\", \"ARS\", \"AMD\", \"AWG\", \"AUD\", \"EUR\", \"AZN\", \"BSD\", \"BHD\", \"BDT\", \"BBD\", \"BYN,BYR\", \"EUR\", \"BZD\", \"XOF\", \"BMD\", \"INR\", \"BOB\", \"USD\", \"BAM\", \"BWP\", \"NOK\", \"BRL\", \"USD\", \"USD\", \"USD\", \"USD\", \"BND,SGD\", \"BGN\", \"XOF\", \"BIF\", \"USD\", \"XAF\", \"CAD\", \"CVE\", \"KYD\", \"XAF\", \"XAF\", \"CLP\", \"CNY\", \"AUD\", \"AUD\", \"COP\", \"KMF\", \"XAF\", \"CDF\", \"NZD\", \"CRC\", \"HRK\", \"CUC,CUP\", \"ANG\", \"EUR\", \"CZK\", \"DKK\", \"DJF\", \"XCD\", \"DOP\", \"USD\", \"EGP\", \"USD\", \"XAF\", \"ERN\", \"EUR\", \"ETB\", \"FKP\", \"DKK\", \"FJD\", \"EUR\", \"EUR\", \"EUR\", \"XPF\", \"EUR\", \"XAF\", \"GMD\", \"GEL\", \"EUR\", \"GHS\", \"GIP\", \"EUR\", \"DKK\", \"XCD\", \"EUR\", \"USD\", \"GTQ\", \"GBP\", \"GNF\", \"XOF\", \"GYD\", \"HTG\", \"AUD\", \"EUR\", \"HNL\", \"HKD\", \"HUF\", \"ISK\", \"INR\", \"IDR\", \"XOF\", \"IRR\", \"IQD\", \"EUR\", \"GBP\", \"ILS\", \"EUR\", \"JMD\", \"JPY\", \"GBP\", \"JOD\", \"KZT\", \"KES\", \"AUD\", \"KWD\", \"KGS\", \"LAK\", \"EUR\", \"LBP\", \"ZAR\", \"LRD\", \"LYD\", \"CHF\", \"EUR\", \"EUR\", \"MOP\", \"MKD\", \"MGA\", \"MWK\", \"MYR\", \"MVR\", \"XOF\", \"EUR\", \"USD\", \"EUR\", \"MRO\", \"MUR\", \"EUR\", \"MXN\", \"USD\", \"MDL\", \"EUR\", \"MNT\", \"EUR\", \"XCD\", \"MAD\", \"MZN\", \"MMK\", \"ZAR\", \"AUD\", \"NPR\", \"EUR\", \"XPF\", \"NZD\", \"NIO\", \"XOF\", \"NGN\", \"NZD\", \"AUD\", \"KPW\", \"USD\", \"NOK\", \"OMR\", \"PKR\", \"USD\", \"ILS\", \"USD\", \"PGK\", \"PYG\", \"PEN\", \"PHP\", \"NZD\", \"PLN\", \"EUR\", \"USD\", \"QAR\", \"EUR\", \"EUR\", \"RON\", \"RUB\", \"RWF\", \"EUR\", \"SHP\", \"XCD\", \"XCD\", \"EUR\", \"EUR\", \"XCD\", \"WST\", \"EUR\", \"STD\", \"SAR\", \"XOF\", \"RSD\", \"SCR\", \"SLL\", \"BND,SGD\", \"ANG\", \"EUR\", \"EUR\", \"SBD\", \"SOS\", \"ZAR\", \"GBP\", \"KRW\", \"SSP\", \"EUR\", \"LKR\", \"SDG\", \"SRD\", \"NOK\", \"SZL\", \"SEK\", \"CHF\", \"SYP\", \"TWD\", \"TJS\", \"TZS\", \"THB\", \"USD\", \"XOF\", \"NZD\", \"TOP\", \"TTD\", \"TND\", \"TRY\", \"TMT\", \"USD\", \"AUD\", \"UGX\", \"UAH\", \"AED\", \"GBP\", \"USD\", \"UYU\", \"UZS\", \"VUV\", \"VEF\", \"VND\", \"XPF\", \"MAD,DZD\", \"YER\", \"ZMW\", \"BWP,GBP,CNY,EUR,INR,JPY,ZAR,USD\"]}],\n",
       "                        {\"template\": {\"data\": {\"bar\": [{\"error_x\": {\"color\": \"#2a3f5f\"}, \"error_y\": {\"color\": \"#2a3f5f\"}, \"marker\": {\"line\": {\"color\": \"#E5ECF6\", \"width\": 0.5}}, \"type\": \"bar\"}], \"barpolar\": [{\"marker\": {\"line\": {\"color\": \"#E5ECF6\", \"width\": 0.5}}, \"type\": \"barpolar\"}], \"carpet\": [{\"aaxis\": {\"endlinecolor\": \"#2a3f5f\", \"gridcolor\": \"white\", \"linecolor\": \"white\", \"minorgridcolor\": \"white\", \"startlinecolor\": \"#2a3f5f\"}, \"baxis\": {\"endlinecolor\": \"#2a3f5f\", \"gridcolor\": \"white\", \"linecolor\": \"white\", \"minorgridcolor\": \"white\", \"startlinecolor\": \"#2a3f5f\"}, \"type\": \"carpet\"}], \"choropleth\": [{\"colorbar\": {\"outlinewidth\": 0, \"ticks\": \"\"}, \"type\": \"choropleth\"}], \"contour\": [{\"colorbar\": {\"outlinewidth\": 0, \"ticks\": \"\"}, \"colorscale\": [[0.0, \"#0d0887\"], [0.1111111111111111, \"#46039f\"], [0.2222222222222222, \"#7201a8\"], [0.3333333333333333, \"#9c179e\"], [0.4444444444444444, \"#bd3786\"], [0.5555555555555556, \"#d8576b\"], [0.6666666666666666, \"#ed7953\"], [0.7777777777777778, \"#fb9f3a\"], [0.8888888888888888, \"#fdca26\"], [1.0, \"#f0f921\"]], \"type\": \"contour\"}], \"contourcarpet\": [{\"colorbar\": {\"outlinewidth\": 0, \"ticks\": \"\"}, \"type\": \"contourcarpet\"}], \"heatmap\": [{\"colorbar\": {\"outlinewidth\": 0, \"ticks\": \"\"}, \"colorscale\": [[0.0, \"#0d0887\"], [0.1111111111111111, \"#46039f\"], [0.2222222222222222, \"#7201a8\"], [0.3333333333333333, \"#9c179e\"], [0.4444444444444444, \"#bd3786\"], [0.5555555555555556, \"#d8576b\"], [0.6666666666666666, \"#ed7953\"], [0.7777777777777778, \"#fb9f3a\"], [0.8888888888888888, \"#fdca26\"], [1.0, \"#f0f921\"]], \"type\": \"heatmap\"}], \"heatmapgl\": [{\"colorbar\": {\"outlinewidth\": 0, \"ticks\": \"\"}, \"colorscale\": [[0.0, \"#0d0887\"], [0.1111111111111111, \"#46039f\"], [0.2222222222222222, \"#7201a8\"], [0.3333333333333333, \"#9c179e\"], [0.4444444444444444, \"#bd3786\"], [0.5555555555555556, \"#d8576b\"], [0.6666666666666666, \"#ed7953\"], [0.7777777777777778, \"#fb9f3a\"], [0.8888888888888888, \"#fdca26\"], [1.0, \"#f0f921\"]], \"type\": \"heatmapgl\"}], \"histogram\": [{\"marker\": {\"colorbar\": {\"outlinewidth\": 0, \"ticks\": \"\"}}, \"type\": \"histogram\"}], \"histogram2d\": [{\"colorbar\": {\"outlinewidth\": 0, \"ticks\": \"\"}, \"colorscale\": [[0.0, \"#0d0887\"], [0.1111111111111111, \"#46039f\"], [0.2222222222222222, \"#7201a8\"], [0.3333333333333333, \"#9c179e\"], [0.4444444444444444, \"#bd3786\"], [0.5555555555555556, \"#d8576b\"], [0.6666666666666666, \"#ed7953\"], [0.7777777777777778, \"#fb9f3a\"], [0.8888888888888888, \"#fdca26\"], [1.0, \"#f0f921\"]], \"type\": \"histogram2d\"}], \"histogram2dcontour\": [{\"colorbar\": {\"outlinewidth\": 0, \"ticks\": \"\"}, \"colorscale\": [[0.0, \"#0d0887\"], [0.1111111111111111, \"#46039f\"], [0.2222222222222222, \"#7201a8\"], [0.3333333333333333, \"#9c179e\"], [0.4444444444444444, \"#bd3786\"], [0.5555555555555556, \"#d8576b\"], [0.6666666666666666, \"#ed7953\"], [0.7777777777777778, \"#fb9f3a\"], [0.8888888888888888, \"#fdca26\"], [1.0, \"#f0f921\"]], \"type\": \"histogram2dcontour\"}], \"mesh3d\": [{\"colorbar\": {\"outlinewidth\": 0, \"ticks\": \"\"}, \"type\": \"mesh3d\"}], \"parcoords\": [{\"line\": {\"colorbar\": {\"outlinewidth\": 0, \"ticks\": \"\"}}, \"type\": \"parcoords\"}], \"pie\": [{\"automargin\": true, \"type\": \"pie\"}], \"scatter\": [{\"marker\": {\"colorbar\": {\"outlinewidth\": 0, \"ticks\": \"\"}}, \"type\": \"scatter\"}], \"scatter3d\": [{\"line\": {\"colorbar\": {\"outlinewidth\": 0, \"ticks\": \"\"}}, \"marker\": {\"colorbar\": {\"outlinewidth\": 0, \"ticks\": \"\"}}, \"type\": \"scatter3d\"}], \"scattercarpet\": [{\"marker\": {\"colorbar\": {\"outlinewidth\": 0, \"ticks\": \"\"}}, \"type\": \"scattercarpet\"}], \"scattergeo\": [{\"marker\": {\"colorbar\": {\"outlinewidth\": 0, \"ticks\": \"\"}}, \"type\": \"scattergeo\"}], \"scattergl\": [{\"marker\": {\"colorbar\": {\"outlinewidth\": 0, \"ticks\": \"\"}}, \"type\": \"scattergl\"}], \"scattermapbox\": [{\"marker\": {\"colorbar\": {\"outlinewidth\": 0, \"ticks\": \"\"}}, \"type\": \"scattermapbox\"}], \"scatterpolar\": [{\"marker\": {\"colorbar\": {\"outlinewidth\": 0, \"ticks\": \"\"}}, \"type\": \"scatterpolar\"}], \"scatterpolargl\": [{\"marker\": {\"colorbar\": {\"outlinewidth\": 0, \"ticks\": \"\"}}, \"type\": \"scatterpolargl\"}], \"scatterternary\": [{\"marker\": {\"colorbar\": {\"outlinewidth\": 0, \"ticks\": \"\"}}, \"type\": \"scatterternary\"}], \"surface\": [{\"colorbar\": {\"outlinewidth\": 0, \"ticks\": \"\"}, \"colorscale\": [[0.0, \"#0d0887\"], [0.1111111111111111, \"#46039f\"], [0.2222222222222222, \"#7201a8\"], [0.3333333333333333, \"#9c179e\"], [0.4444444444444444, \"#bd3786\"], [0.5555555555555556, \"#d8576b\"], [0.6666666666666666, \"#ed7953\"], [0.7777777777777778, \"#fb9f3a\"], [0.8888888888888888, \"#fdca26\"], [1.0, \"#f0f921\"]], \"type\": \"surface\"}], \"table\": [{\"cells\": {\"fill\": {\"color\": \"#EBF0F8\"}, \"line\": {\"color\": \"white\"}}, \"header\": {\"fill\": {\"color\": \"#C8D4E3\"}, \"line\": {\"color\": \"white\"}}, \"type\": \"table\"}]}, \"layout\": {\"annotationdefaults\": {\"arrowcolor\": \"#2a3f5f\", \"arrowhead\": 0, \"arrowwidth\": 1}, \"coloraxis\": {\"colorbar\": {\"outlinewidth\": 0, \"ticks\": \"\"}}, \"colorscale\": {\"diverging\": [[0, \"#8e0152\"], [0.1, \"#c51b7d\"], [0.2, \"#de77ae\"], [0.3, \"#f1b6da\"], [0.4, \"#fde0ef\"], [0.5, \"#f7f7f7\"], [0.6, \"#e6f5d0\"], [0.7, \"#b8e186\"], [0.8, \"#7fbc41\"], [0.9, \"#4d9221\"], [1, \"#276419\"]], \"sequential\": [[0.0, \"#0d0887\"], [0.1111111111111111, \"#46039f\"], [0.2222222222222222, \"#7201a8\"], [0.3333333333333333, \"#9c179e\"], [0.4444444444444444, \"#bd3786\"], [0.5555555555555556, \"#d8576b\"], [0.6666666666666666, \"#ed7953\"], [0.7777777777777778, \"#fb9f3a\"], [0.8888888888888888, \"#fdca26\"], [1.0, \"#f0f921\"]], \"sequentialminus\": [[0.0, \"#0d0887\"], [0.1111111111111111, \"#46039f\"], [0.2222222222222222, \"#7201a8\"], [0.3333333333333333, \"#9c179e\"], [0.4444444444444444, \"#bd3786\"], [0.5555555555555556, \"#d8576b\"], [0.6666666666666666, \"#ed7953\"], [0.7777777777777778, \"#fb9f3a\"], [0.8888888888888888, \"#fdca26\"], [1.0, \"#f0f921\"]]}, \"colorway\": [\"#636efa\", \"#EF553B\", \"#00cc96\", \"#ab63fa\", \"#FFA15A\", \"#19d3f3\", \"#FF6692\", \"#B6E880\", \"#FF97FF\", \"#FECB52\"], \"font\": {\"color\": \"#2a3f5f\"}, \"geo\": {\"bgcolor\": \"white\", \"lakecolor\": \"white\", \"landcolor\": \"#E5ECF6\", \"showlakes\": true, \"showland\": true, \"subunitcolor\": \"white\"}, \"hoverlabel\": {\"align\": \"left\"}, \"hovermode\": \"closest\", \"mapbox\": {\"style\": \"light\"}, \"paper_bgcolor\": \"white\", \"plot_bgcolor\": \"#E5ECF6\", \"polar\": {\"angularaxis\": {\"gridcolor\": \"white\", \"linecolor\": \"white\", \"ticks\": \"\"}, \"bgcolor\": \"#E5ECF6\", \"radialaxis\": {\"gridcolor\": \"white\", \"linecolor\": \"white\", \"ticks\": \"\"}}, \"scene\": {\"xaxis\": {\"backgroundcolor\": \"#E5ECF6\", \"gridcolor\": \"white\", \"gridwidth\": 2, \"linecolor\": \"white\", \"showbackground\": true, \"ticks\": \"\", \"zerolinecolor\": \"white\"}, \"yaxis\": {\"backgroundcolor\": \"#E5ECF6\", \"gridcolor\": \"white\", \"gridwidth\": 2, \"linecolor\": \"white\", \"showbackground\": true, \"ticks\": \"\", \"zerolinecolor\": \"white\"}, \"zaxis\": {\"backgroundcolor\": \"#E5ECF6\", \"gridcolor\": \"white\", \"gridwidth\": 2, \"linecolor\": \"white\", \"showbackground\": true, \"ticks\": \"\", \"zerolinecolor\": \"white\"}}, \"shapedefaults\": {\"line\": {\"color\": \"#2a3f5f\"}}, \"ternary\": {\"aaxis\": {\"gridcolor\": \"white\", \"linecolor\": \"white\", \"ticks\": \"\"}, \"baxis\": {\"gridcolor\": \"white\", \"linecolor\": \"white\", \"ticks\": \"\"}, \"bgcolor\": \"#E5ECF6\", \"caxis\": {\"gridcolor\": \"white\", \"linecolor\": \"white\", \"ticks\": \"\"}}, \"title\": {\"x\": 0.05}, \"xaxis\": {\"automargin\": true, \"gridcolor\": \"white\", \"linecolor\": \"white\", \"ticks\": \"\", \"title\": {\"standoff\": 15}, \"zerolinecolor\": \"white\", \"zerolinewidth\": 2}, \"yaxis\": {\"automargin\": true, \"gridcolor\": \"white\", \"linecolor\": \"white\", \"ticks\": \"\", \"title\": {\"standoff\": 15}, \"zerolinecolor\": \"white\", \"zerolinewidth\": 2}}}},\n",
       "                        {\"responsive\": true}\n",
       "                    ).then(function(){\n",
       "                            \n",
       "var gd = document.getElementById('0853e5cc-957a-4586-a03b-087ca979a032');\n",
       "var x = new MutationObserver(function (mutations, observer) {{\n",
       "        var display = window.getComputedStyle(gd).display;\n",
       "        if (!display || display === 'none') {{\n",
       "            console.log([gd, 'removed!']);\n",
       "            Plotly.purge(gd);\n",
       "            observer.disconnect();\n",
       "        }}\n",
       "}});\n",
       "\n",
       "// Listen for the removal of the full notebook cells\n",
       "var notebookContainer = gd.closest('#notebook-container');\n",
       "if (notebookContainer) {{\n",
       "    x.observe(notebookContainer, {childList: true});\n",
       "}}\n",
       "\n",
       "// Listen for the clearing of the current output cell\n",
       "var outputEl = gd.closest('.output');\n",
       "if (outputEl) {{\n",
       "    x.observe(outputEl, {childList: true});\n",
       "}}\n",
       "\n",
       "                        })\n",
       "                };\n",
       "                });\n",
       "            </script>\n",
       "        </div>"
      ]
     },
     "metadata": {},
     "output_type": "display_data"
    }
   ],
   "source": [
    "fig = go.Figure(data=[go.Histogram(histfunc=\"count\", x=df['currencies'])])\n",
    "fig.show()"
   ]
  },
  {
   "cell_type": "markdown",
   "metadata": {},
   "source": [
    "### languages and languages_count column"
   ]
  },
  {
   "cell_type": "markdown",
   "metadata": {},
   "source": [
    "chỗ này tui phát hiện ra nếu mình unlist thì các giá trị nó sẽ ko count/tính statistics cho nó đc nữa do mình cho nó thành 1 chuỗi str.\n",
    "\n",
    "Ông có thể giúp tui tách phần unlist ra thành 1 phần riêng đc ko? Tui cần unnest ra list => count số languages => rồi sau đó mình unlist đc ko?"
   ]
  },
  {
   "cell_type": "code",
   "execution_count": 340,
   "metadata": {},
   "outputs": [
    {
     "data": {
      "text/html": [
       "<div>\n",
       "<style scoped>\n",
       "    .dataframe tbody tr th:only-of-type {\n",
       "        vertical-align: middle;\n",
       "    }\n",
       "\n",
       "    .dataframe tbody tr th {\n",
       "        vertical-align: top;\n",
       "    }\n",
       "\n",
       "    .dataframe thead th {\n",
       "        text-align: right;\n",
       "    }\n",
       "</style>\n",
       "<table border=\"1\" class=\"dataframe\">\n",
       "  <thead>\n",
       "    <tr style=\"text-align: right;\">\n",
       "      <th></th>\n",
       "      <th>country</th>\n",
       "      <th>alphaCode</th>\n",
       "      <th>capital</th>\n",
       "      <th>region</th>\n",
       "      <th>subregion</th>\n",
       "      <th>population</th>\n",
       "      <th>latlng</th>\n",
       "      <th>demonym</th>\n",
       "      <th>area</th>\n",
       "      <th>gini</th>\n",
       "      <th>timezones</th>\n",
       "      <th>borders</th>\n",
       "      <th>borders_count</th>\n",
       "      <th>nativeName</th>\n",
       "      <th>currencies</th>\n",
       "      <th>languages</th>\n",
       "      <th>flag</th>\n",
       "      <th>regionalBlocs</th>\n",
       "      <th>cioc</th>\n",
       "    </tr>\n",
       "  </thead>\n",
       "  <tbody>\n",
       "    <tr>\n",
       "      <th>0</th>\n",
       "      <td>Afghanistan</td>\n",
       "      <td>AFG</td>\n",
       "      <td>Kabul</td>\n",
       "      <td>Asia</td>\n",
       "      <td>Southern Asia</td>\n",
       "      <td>27657145</td>\n",
       "      <td>[33.0, 65.0]</td>\n",
       "      <td>Afghan</td>\n",
       "      <td>652230.0</td>\n",
       "      <td>27.8</td>\n",
       "      <td>UTC+04:30</td>\n",
       "      <td>IRN,PAK,TKM,UZB,TJK,CHN</td>\n",
       "      <td>6</td>\n",
       "      <td>افغانستان</td>\n",
       "      <td>AFN</td>\n",
       "      <td>[Pashto, Uzbek, Turkmen]</td>\n",
       "      <td>https://restcountries.eu/data/afg.svg</td>\n",
       "      <td>[{'acronym': 'SAARC', 'name': 'South Asian Ass...</td>\n",
       "      <td>AFG</td>\n",
       "    </tr>\n",
       "    <tr>\n",
       "      <th>1</th>\n",
       "      <td>Åland Islands</td>\n",
       "      <td>ALA</td>\n",
       "      <td>Mariehamn</td>\n",
       "      <td>Europe</td>\n",
       "      <td>Northern Europe</td>\n",
       "      <td>28875</td>\n",
       "      <td>[60.116667, 19.9]</td>\n",
       "      <td>Ålandish</td>\n",
       "      <td>1580.0</td>\n",
       "      <td>NaN</td>\n",
       "      <td>UTC+02:00</td>\n",
       "      <td>None</td>\n",
       "      <td>0</td>\n",
       "      <td>Åland</td>\n",
       "      <td>EUR</td>\n",
       "      <td>[Swedish]</td>\n",
       "      <td>https://restcountries.eu/data/ala.svg</td>\n",
       "      <td>[{'acronym': 'EU', 'name': 'European Union', '...</td>\n",
       "      <td>Unknown</td>\n",
       "    </tr>\n",
       "    <tr>\n",
       "      <th>2</th>\n",
       "      <td>Albania</td>\n",
       "      <td>ALB</td>\n",
       "      <td>Tirana</td>\n",
       "      <td>Europe</td>\n",
       "      <td>Southern Europe</td>\n",
       "      <td>2886026</td>\n",
       "      <td>[41.0, 20.0]</td>\n",
       "      <td>Albanian</td>\n",
       "      <td>28748.0</td>\n",
       "      <td>34.5</td>\n",
       "      <td>UTC+01:00</td>\n",
       "      <td>MNE,GRC,MKD,KOS</td>\n",
       "      <td>4</td>\n",
       "      <td>Shqipëria</td>\n",
       "      <td>ALL</td>\n",
       "      <td>[Albanian]</td>\n",
       "      <td>https://restcountries.eu/data/alb.svg</td>\n",
       "      <td>[{'acronym': 'CEFTA', 'name': 'Central Europea...</td>\n",
       "      <td>ALB</td>\n",
       "    </tr>\n",
       "    <tr>\n",
       "      <th>3</th>\n",
       "      <td>Algeria</td>\n",
       "      <td>DZA</td>\n",
       "      <td>Algiers</td>\n",
       "      <td>Africa</td>\n",
       "      <td>Northern Africa</td>\n",
       "      <td>40400000</td>\n",
       "      <td>[28.0, 3.0]</td>\n",
       "      <td>Algerian</td>\n",
       "      <td>2381741.0</td>\n",
       "      <td>35.3</td>\n",
       "      <td>UTC+01:00</td>\n",
       "      <td>TUN,LBY,NER,ESH,MRT,MLI,MAR</td>\n",
       "      <td>7</td>\n",
       "      <td>الجزائر</td>\n",
       "      <td>DZD</td>\n",
       "      <td>[Arabic]</td>\n",
       "      <td>https://restcountries.eu/data/dza.svg</td>\n",
       "      <td>[{'acronym': 'AU', 'name': 'African Union', 'o...</td>\n",
       "      <td>ALG</td>\n",
       "    </tr>\n",
       "    <tr>\n",
       "      <th>4</th>\n",
       "      <td>American Samoa</td>\n",
       "      <td>ASM</td>\n",
       "      <td>Pago Pago</td>\n",
       "      <td>Oceania</td>\n",
       "      <td>Polynesia</td>\n",
       "      <td>57100</td>\n",
       "      <td>[-14.33333333, -170.0]</td>\n",
       "      <td>American Samoan</td>\n",
       "      <td>199.0</td>\n",
       "      <td>NaN</td>\n",
       "      <td>UTC-11:00</td>\n",
       "      <td>None</td>\n",
       "      <td>0</td>\n",
       "      <td>American Samoa</td>\n",
       "      <td>USD</td>\n",
       "      <td>[English, Samoan]</td>\n",
       "      <td>https://restcountries.eu/data/asm.svg</td>\n",
       "      <td>[]</td>\n",
       "      <td>ASA</td>\n",
       "    </tr>\n",
       "  </tbody>\n",
       "</table>\n",
       "</div>"
      ],
      "text/plain": [
       "          country alphaCode    capital   region        subregion  population  \\\n",
       "0     Afghanistan       AFG      Kabul     Asia    Southern Asia    27657145   \n",
       "1   Åland Islands       ALA  Mariehamn   Europe  Northern Europe       28875   \n",
       "2         Albania       ALB     Tirana   Europe  Southern Europe     2886026   \n",
       "3         Algeria       DZA    Algiers   Africa  Northern Africa    40400000   \n",
       "4  American Samoa       ASM  Pago Pago  Oceania        Polynesia       57100   \n",
       "\n",
       "                   latlng          demonym       area  gini  timezones  \\\n",
       "0            [33.0, 65.0]           Afghan   652230.0  27.8  UTC+04:30   \n",
       "1       [60.116667, 19.9]         Ålandish     1580.0   NaN  UTC+02:00   \n",
       "2            [41.0, 20.0]         Albanian    28748.0  34.5  UTC+01:00   \n",
       "3             [28.0, 3.0]         Algerian  2381741.0  35.3  UTC+01:00   \n",
       "4  [-14.33333333, -170.0]  American Samoan      199.0   NaN  UTC-11:00   \n",
       "\n",
       "                       borders  borders_count      nativeName currencies  \\\n",
       "0      IRN,PAK,TKM,UZB,TJK,CHN              6       افغانستان        AFN   \n",
       "1                         None              0           Åland        EUR   \n",
       "2              MNE,GRC,MKD,KOS              4       Shqipëria        ALL   \n",
       "3  TUN,LBY,NER,ESH,MRT,MLI,MAR              7         الجزائر        DZD   \n",
       "4                         None              0  American Samoa        USD   \n",
       "\n",
       "                  languages                                   flag  \\\n",
       "0  [Pashto, Uzbek, Turkmen]  https://restcountries.eu/data/afg.svg   \n",
       "1                 [Swedish]  https://restcountries.eu/data/ala.svg   \n",
       "2                [Albanian]  https://restcountries.eu/data/alb.svg   \n",
       "3                  [Arabic]  https://restcountries.eu/data/dza.svg   \n",
       "4         [English, Samoan]  https://restcountries.eu/data/asm.svg   \n",
       "\n",
       "                                       regionalBlocs     cioc  \n",
       "0  [{'acronym': 'SAARC', 'name': 'South Asian Ass...      AFG  \n",
       "1  [{'acronym': 'EU', 'name': 'European Union', '...  Unknown  \n",
       "2  [{'acronym': 'CEFTA', 'name': 'Central Europea...      ALB  \n",
       "3  [{'acronym': 'AU', 'name': 'African Union', 'o...      ALG  \n",
       "4                                                 []      ASA  "
      ]
     },
     "execution_count": 340,
     "metadata": {},
     "output_type": "execute_result"
    }
   ],
   "source": [
    "#Function to extract and unlist languages column\n",
    "def languages(col):\n",
    "    lang=[]\n",
    "    for i in range(0,len(col)):\n",
    "        tab=pd.Series(col[i])\n",
    "        tab=pd.json_normalize(tab)\n",
    "        name=tab['name'].tolist()\n",
    "#         name=','.join(name)\n",
    "        lang.append(name)\n",
    "    return lang\n",
    "\n",
    "a=df['languages']\n",
    "b=languages(a)\n",
    "df['languages']=b\n",
    "\n",
    "df.head()"
   ]
  },
  {
   "cell_type": "code",
   "execution_count": 341,
   "metadata": {},
   "outputs": [
    {
     "data": {
      "text/html": [
       "<div>\n",
       "<style scoped>\n",
       "    .dataframe tbody tr th:only-of-type {\n",
       "        vertical-align: middle;\n",
       "    }\n",
       "\n",
       "    .dataframe tbody tr th {\n",
       "        vertical-align: top;\n",
       "    }\n",
       "\n",
       "    .dataframe thead th {\n",
       "        text-align: right;\n",
       "    }\n",
       "</style>\n",
       "<table border=\"1\" class=\"dataframe\">\n",
       "  <thead>\n",
       "    <tr style=\"text-align: right;\">\n",
       "      <th></th>\n",
       "      <th>country</th>\n",
       "      <th>alphaCode</th>\n",
       "      <th>capital</th>\n",
       "      <th>region</th>\n",
       "      <th>subregion</th>\n",
       "      <th>population</th>\n",
       "      <th>latlng</th>\n",
       "      <th>demonym</th>\n",
       "      <th>area</th>\n",
       "      <th>gini</th>\n",
       "      <th>timezones</th>\n",
       "      <th>borders</th>\n",
       "      <th>borders_count</th>\n",
       "      <th>nativeName</th>\n",
       "      <th>currencies</th>\n",
       "      <th>languages</th>\n",
       "      <th>languages_count</th>\n",
       "      <th>flag</th>\n",
       "      <th>regionalBlocs</th>\n",
       "      <th>cioc</th>\n",
       "    </tr>\n",
       "  </thead>\n",
       "  <tbody>\n",
       "    <tr>\n",
       "      <th>0</th>\n",
       "      <td>Afghanistan</td>\n",
       "      <td>AFG</td>\n",
       "      <td>Kabul</td>\n",
       "      <td>Asia</td>\n",
       "      <td>Southern Asia</td>\n",
       "      <td>27657145</td>\n",
       "      <td>[33.0, 65.0]</td>\n",
       "      <td>Afghan</td>\n",
       "      <td>652230.0</td>\n",
       "      <td>27.8</td>\n",
       "      <td>UTC+04:30</td>\n",
       "      <td>IRN,PAK,TKM,UZB,TJK,CHN</td>\n",
       "      <td>6</td>\n",
       "      <td>افغانستان</td>\n",
       "      <td>AFN</td>\n",
       "      <td>[Pashto, Uzbek, Turkmen]</td>\n",
       "      <td>3</td>\n",
       "      <td>https://restcountries.eu/data/afg.svg</td>\n",
       "      <td>[{'acronym': 'SAARC', 'name': 'South Asian Ass...</td>\n",
       "      <td>AFG</td>\n",
       "    </tr>\n",
       "    <tr>\n",
       "      <th>1</th>\n",
       "      <td>Åland Islands</td>\n",
       "      <td>ALA</td>\n",
       "      <td>Mariehamn</td>\n",
       "      <td>Europe</td>\n",
       "      <td>Northern Europe</td>\n",
       "      <td>28875</td>\n",
       "      <td>[60.116667, 19.9]</td>\n",
       "      <td>Ålandish</td>\n",
       "      <td>1580.0</td>\n",
       "      <td>NaN</td>\n",
       "      <td>UTC+02:00</td>\n",
       "      <td>None</td>\n",
       "      <td>0</td>\n",
       "      <td>Åland</td>\n",
       "      <td>EUR</td>\n",
       "      <td>[Swedish]</td>\n",
       "      <td>1</td>\n",
       "      <td>https://restcountries.eu/data/ala.svg</td>\n",
       "      <td>[{'acronym': 'EU', 'name': 'European Union', '...</td>\n",
       "      <td>Unknown</td>\n",
       "    </tr>\n",
       "    <tr>\n",
       "      <th>2</th>\n",
       "      <td>Albania</td>\n",
       "      <td>ALB</td>\n",
       "      <td>Tirana</td>\n",
       "      <td>Europe</td>\n",
       "      <td>Southern Europe</td>\n",
       "      <td>2886026</td>\n",
       "      <td>[41.0, 20.0]</td>\n",
       "      <td>Albanian</td>\n",
       "      <td>28748.0</td>\n",
       "      <td>34.5</td>\n",
       "      <td>UTC+01:00</td>\n",
       "      <td>MNE,GRC,MKD,KOS</td>\n",
       "      <td>4</td>\n",
       "      <td>Shqipëria</td>\n",
       "      <td>ALL</td>\n",
       "      <td>[Albanian]</td>\n",
       "      <td>1</td>\n",
       "      <td>https://restcountries.eu/data/alb.svg</td>\n",
       "      <td>[{'acronym': 'CEFTA', 'name': 'Central Europea...</td>\n",
       "      <td>ALB</td>\n",
       "    </tr>\n",
       "    <tr>\n",
       "      <th>3</th>\n",
       "      <td>Algeria</td>\n",
       "      <td>DZA</td>\n",
       "      <td>Algiers</td>\n",
       "      <td>Africa</td>\n",
       "      <td>Northern Africa</td>\n",
       "      <td>40400000</td>\n",
       "      <td>[28.0, 3.0]</td>\n",
       "      <td>Algerian</td>\n",
       "      <td>2381741.0</td>\n",
       "      <td>35.3</td>\n",
       "      <td>UTC+01:00</td>\n",
       "      <td>TUN,LBY,NER,ESH,MRT,MLI,MAR</td>\n",
       "      <td>7</td>\n",
       "      <td>الجزائر</td>\n",
       "      <td>DZD</td>\n",
       "      <td>[Arabic]</td>\n",
       "      <td>1</td>\n",
       "      <td>https://restcountries.eu/data/dza.svg</td>\n",
       "      <td>[{'acronym': 'AU', 'name': 'African Union', 'o...</td>\n",
       "      <td>ALG</td>\n",
       "    </tr>\n",
       "    <tr>\n",
       "      <th>4</th>\n",
       "      <td>American Samoa</td>\n",
       "      <td>ASM</td>\n",
       "      <td>Pago Pago</td>\n",
       "      <td>Oceania</td>\n",
       "      <td>Polynesia</td>\n",
       "      <td>57100</td>\n",
       "      <td>[-14.33333333, -170.0]</td>\n",
       "      <td>American Samoan</td>\n",
       "      <td>199.0</td>\n",
       "      <td>NaN</td>\n",
       "      <td>UTC-11:00</td>\n",
       "      <td>None</td>\n",
       "      <td>0</td>\n",
       "      <td>American Samoa</td>\n",
       "      <td>USD</td>\n",
       "      <td>[English, Samoan]</td>\n",
       "      <td>2</td>\n",
       "      <td>https://restcountries.eu/data/asm.svg</td>\n",
       "      <td>[]</td>\n",
       "      <td>ASA</td>\n",
       "    </tr>\n",
       "  </tbody>\n",
       "</table>\n",
       "</div>"
      ],
      "text/plain": [
       "          country alphaCode    capital   region        subregion  population  \\\n",
       "0     Afghanistan       AFG      Kabul     Asia    Southern Asia    27657145   \n",
       "1   Åland Islands       ALA  Mariehamn   Europe  Northern Europe       28875   \n",
       "2         Albania       ALB     Tirana   Europe  Southern Europe     2886026   \n",
       "3         Algeria       DZA    Algiers   Africa  Northern Africa    40400000   \n",
       "4  American Samoa       ASM  Pago Pago  Oceania        Polynesia       57100   \n",
       "\n",
       "                   latlng          demonym       area  gini  timezones  \\\n",
       "0            [33.0, 65.0]           Afghan   652230.0  27.8  UTC+04:30   \n",
       "1       [60.116667, 19.9]         Ålandish     1580.0   NaN  UTC+02:00   \n",
       "2            [41.0, 20.0]         Albanian    28748.0  34.5  UTC+01:00   \n",
       "3             [28.0, 3.0]         Algerian  2381741.0  35.3  UTC+01:00   \n",
       "4  [-14.33333333, -170.0]  American Samoan      199.0   NaN  UTC-11:00   \n",
       "\n",
       "                       borders  borders_count      nativeName currencies  \\\n",
       "0      IRN,PAK,TKM,UZB,TJK,CHN              6       افغانستان        AFN   \n",
       "1                         None              0           Åland        EUR   \n",
       "2              MNE,GRC,MKD,KOS              4       Shqipëria        ALL   \n",
       "3  TUN,LBY,NER,ESH,MRT,MLI,MAR              7         الجزائر        DZD   \n",
       "4                         None              0  American Samoa        USD   \n",
       "\n",
       "                  languages  languages_count  \\\n",
       "0  [Pashto, Uzbek, Turkmen]                3   \n",
       "1                 [Swedish]                1   \n",
       "2                [Albanian]                1   \n",
       "3                  [Arabic]                1   \n",
       "4         [English, Samoan]                2   \n",
       "\n",
       "                                    flag  \\\n",
       "0  https://restcountries.eu/data/afg.svg   \n",
       "1  https://restcountries.eu/data/ala.svg   \n",
       "2  https://restcountries.eu/data/alb.svg   \n",
       "3  https://restcountries.eu/data/dza.svg   \n",
       "4  https://restcountries.eu/data/asm.svg   \n",
       "\n",
       "                                       regionalBlocs     cioc  \n",
       "0  [{'acronym': 'SAARC', 'name': 'South Asian Ass...      AFG  \n",
       "1  [{'acronym': 'EU', 'name': 'European Union', '...  Unknown  \n",
       "2  [{'acronym': 'CEFTA', 'name': 'Central Europea...      ALB  \n",
       "3  [{'acronym': 'AU', 'name': 'African Union', 'o...      ALG  \n",
       "4                                                 []      ASA  "
      ]
     },
     "execution_count": 341,
     "metadata": {},
     "output_type": "execute_result"
    }
   ],
   "source": [
    "lang_c = []\n",
    "for i in df['languages']:\n",
    "    a = len(i)\n",
    "    lang_c.append(a)\n",
    "\n",
    "df.insert(16,'languages_count',lang_c)\n",
    "\n",
    "df.head()"
   ]
  },
  {
   "cell_type": "markdown",
   "metadata": {},
   "source": [
    "### regionalBloc column"
   ]
  },
  {
   "cell_type": "code",
   "execution_count": 342,
   "metadata": {},
   "outputs": [
    {
     "data": {
      "text/plain": [
       "0    South Asian Association for Regional Cooperation\n",
       "1                                      European Union\n",
       "2               Central European Free Trade Agreement\n",
       "3                            African UnionArab League\n",
       "4                                                None\n",
       "Name: regionalBlocs, dtype: object"
      ]
     },
     "execution_count": 342,
     "metadata": {},
     "output_type": "execute_result"
    }
   ],
   "source": [
    "def blocs(col):\n",
    "    bloc=[]   \n",
    "    for i in range(0,len(col)):\n",
    "        if len(col[i]) > 0:\n",
    "            tab=pd.Series(col[i])\n",
    "            tab=pd.json_normalize(tab)\n",
    "            name=tab['name'].tolist()\n",
    "            name=''.join(name)\n",
    "            bloc.append(name)\n",
    "        else:\n",
    "            bloc.append('None')\n",
    "    return bloc\n",
    "\n",
    "\n",
    "r=df['regionalBlocs']\n",
    "t=blocs(r)\n",
    "df['regionalBlocs']=t\n",
    "\n",
    "df['regionalBlocs'].head()"
   ]
  },
  {
   "cell_type": "code",
   "execution_count": 343,
   "metadata": {},
   "outputs": [
    {
     "data": {
      "text/plain": [
       "None                                                      75\n",
       "African Union                                             50\n",
       "European Union                                            32\n",
       "Arab League                                               12\n",
       "Caribbean Community                                       11\n",
       "African UnionArab League                                  10\n",
       "Association of Southeast Asian Nations                    10\n",
       "Union of South American Nations                            9\n",
       "South Asian Association for Regional Cooperation           8\n",
       "Central European Free Trade Agreement                      7\n",
       "Central American Integration System                        6\n",
       "Eurasian Economic Union                                    5\n",
       "European Free Trade Association                            4\n",
       "Pacific AllianceUnion of South American Nations            3\n",
       "North American Free Trade Agreement                        2\n",
       "Caribbean CommunityCentral American Integration System     2\n",
       "Caribbean CommunityUnion of South American Nations         2\n",
       "Union of South American NationsEuropean Union              1\n",
       "Pacific AllianceNorth American Free Trade Agreement        1\n",
       "Name: regionalBlocs, dtype: int64"
      ]
     },
     "execution_count": 343,
     "metadata": {},
     "output_type": "execute_result"
    }
   ],
   "source": [
    "df['regionalBlocs'].value_counts()"
   ]
  },
  {
   "cell_type": "code",
   "execution_count": 344,
   "metadata": {},
   "outputs": [
    {
     "data": {
      "application/vnd.plotly.v1+json": {
       "config": {
        "plotlyServerURL": "https://plot.ly"
       },
       "data": [
        {
         "histfunc": "count",
         "type": "histogram",
         "x": [
          "South Asian Association for Regional Cooperation",
          "European Union",
          "Central European Free Trade Agreement",
          "African UnionArab League",
          "None",
          "None",
          "African Union",
          "None",
          "None",
          "Caribbean Community",
          "Union of South American Nations",
          "Eurasian Economic Union",
          "None",
          "None",
          "European Union",
          "None",
          "Caribbean Community",
          "Arab League",
          "South Asian Association for Regional Cooperation",
          "Caribbean Community",
          "Eurasian Economic Union",
          "European Union",
          "Caribbean CommunityCentral American Integration System",
          "African Union",
          "None",
          "South Asian Association for Regional Cooperation",
          "Union of South American Nations",
          "None",
          "Central European Free Trade Agreement",
          "African Union",
          "None",
          "Union of South American Nations",
          "African Union",
          "None",
          "None",
          "None",
          "Association of Southeast Asian Nations",
          "European Union",
          "African Union",
          "African Union",
          "Association of Southeast Asian Nations",
          "African Union",
          "North American Free Trade Agreement",
          "African Union",
          "None",
          "African Union",
          "African Union",
          "Pacific AllianceUnion of South American Nations",
          "None",
          "None",
          "None",
          "Pacific AllianceUnion of South American Nations",
          "African UnionArab League",
          "African Union",
          "African Union",
          "None",
          "Central American Integration System",
          "European Union",
          "None",
          "None",
          "European Union",
          "European Union",
          "European Union",
          "African UnionArab League",
          "None",
          "Caribbean CommunityCentral American Integration System",
          "Union of South American Nations",
          "African UnionArab League",
          "Central American Integration System",
          "African Union",
          "African Union",
          "European Union",
          "African Union",
          "Union of South American Nations",
          "European Union",
          "None",
          "European Union",
          "European Union",
          "Union of South American NationsEuropean Union",
          "None",
          "African Union",
          "African Union",
          "African Union",
          "None",
          "European Union",
          "African Union",
          "European Union",
          "European Union",
          "None",
          "Caribbean Community",
          "None",
          "None",
          "Central American Integration System",
          "None",
          "African Union",
          "African Union",
          "Caribbean CommunityUnion of South American Nations",
          "Caribbean Community",
          "None",
          "None",
          "Central American Integration System",
          "None",
          "European Union",
          "European Free Trade Association",
          "South Asian Association for Regional Cooperation",
          "Association of Southeast Asian Nations",
          "African Union",
          "None",
          "Arab League",
          "European Union",
          "European Union",
          "None",
          "European Union",
          "Caribbean Community",
          "None",
          "None",
          "Arab League",
          "Eurasian Economic Union",
          "African Union",
          "None",
          "Arab League",
          "Eurasian Economic Union",
          "Association of Southeast Asian Nations",
          "European Union",
          "Arab League",
          "African Union",
          "African Union",
          "African UnionArab League",
          "European Free Trade Association",
          "European Union",
          "European Union",
          "None",
          "Central European Free Trade Agreement",
          "African Union",
          "African Union",
          "Association of Southeast Asian Nations",
          "South Asian Association for Regional Cooperation",
          "African Union",
          "European Union",
          "None",
          "None",
          "African UnionArab League",
          "African Union",
          "African Union",
          "Pacific AllianceNorth American Free Trade Agreement",
          "None",
          "Central European Free Trade Agreement",
          "None",
          "None",
          "Central European Free Trade Agreement",
          "Caribbean Community",
          "African UnionArab League",
          "African Union",
          "Association of Southeast Asian Nations",
          "African Union",
          "None",
          "South Asian Association for Regional Cooperation",
          "European Union",
          "None",
          "None",
          "Central American Integration System",
          "African Union",
          "African Union",
          "None",
          "None",
          "None",
          "None",
          "European Free Trade Association",
          "Arab League",
          "South Asian Association for Regional Cooperation",
          "None",
          "Arab League",
          "Central American Integration System",
          "None",
          "Union of South American Nations",
          "Pacific AllianceUnion of South American Nations",
          "Association of Southeast Asian Nations",
          "None",
          "European Union",
          "European Union",
          "None",
          "Arab League",
          "Central European Free Trade Agreement",
          "African Union",
          "European Union",
          "Eurasian Economic Union",
          "African Union",
          "None",
          "African Union",
          "Caribbean Community",
          "Caribbean Community",
          "None",
          "None",
          "Caribbean Community",
          "None",
          "None",
          "African Union",
          "Arab League",
          "African Union",
          "Central European Free Trade Agreement",
          "African Union",
          "African Union",
          "Association of Southeast Asian Nations",
          "None",
          "European Union",
          "European Union",
          "None",
          "African UnionArab League",
          "African Union",
          "Union of South American Nations",
          "None",
          "African Union",
          "European Union",
          "South Asian Association for Regional Cooperation",
          "African UnionArab League",
          "Caribbean CommunityUnion of South American Nations",
          "None",
          "African Union",
          "European Union",
          "European Free Trade Association",
          "Arab League",
          "None",
          "None",
          "African Union",
          "Association of Southeast Asian Nations",
          "None",
          "African Union",
          "None",
          "None",
          "Caribbean Community",
          "African UnionArab League",
          "None",
          "None",
          "None",
          "None",
          "African Union",
          "None",
          "Arab League",
          "European Union",
          "North American Free Trade Agreement",
          "Union of South American Nations",
          "None",
          "None",
          "Union of South American Nations",
          "Association of Southeast Asian Nations",
          "None",
          "African Union",
          "Arab League",
          "African Union",
          "African Union"
         ]
        }
       ],
       "layout": {
        "template": {
         "data": {
          "bar": [
           {
            "error_x": {
             "color": "#2a3f5f"
            },
            "error_y": {
             "color": "#2a3f5f"
            },
            "marker": {
             "line": {
              "color": "#E5ECF6",
              "width": 0.5
             }
            },
            "type": "bar"
           }
          ],
          "barpolar": [
           {
            "marker": {
             "line": {
              "color": "#E5ECF6",
              "width": 0.5
             }
            },
            "type": "barpolar"
           }
          ],
          "carpet": [
           {
            "aaxis": {
             "endlinecolor": "#2a3f5f",
             "gridcolor": "white",
             "linecolor": "white",
             "minorgridcolor": "white",
             "startlinecolor": "#2a3f5f"
            },
            "baxis": {
             "endlinecolor": "#2a3f5f",
             "gridcolor": "white",
             "linecolor": "white",
             "minorgridcolor": "white",
             "startlinecolor": "#2a3f5f"
            },
            "type": "carpet"
           }
          ],
          "choropleth": [
           {
            "colorbar": {
             "outlinewidth": 0,
             "ticks": ""
            },
            "type": "choropleth"
           }
          ],
          "contour": [
           {
            "colorbar": {
             "outlinewidth": 0,
             "ticks": ""
            },
            "colorscale": [
             [
              0,
              "#0d0887"
             ],
             [
              0.1111111111111111,
              "#46039f"
             ],
             [
              0.2222222222222222,
              "#7201a8"
             ],
             [
              0.3333333333333333,
              "#9c179e"
             ],
             [
              0.4444444444444444,
              "#bd3786"
             ],
             [
              0.5555555555555556,
              "#d8576b"
             ],
             [
              0.6666666666666666,
              "#ed7953"
             ],
             [
              0.7777777777777778,
              "#fb9f3a"
             ],
             [
              0.8888888888888888,
              "#fdca26"
             ],
             [
              1,
              "#f0f921"
             ]
            ],
            "type": "contour"
           }
          ],
          "contourcarpet": [
           {
            "colorbar": {
             "outlinewidth": 0,
             "ticks": ""
            },
            "type": "contourcarpet"
           }
          ],
          "heatmap": [
           {
            "colorbar": {
             "outlinewidth": 0,
             "ticks": ""
            },
            "colorscale": [
             [
              0,
              "#0d0887"
             ],
             [
              0.1111111111111111,
              "#46039f"
             ],
             [
              0.2222222222222222,
              "#7201a8"
             ],
             [
              0.3333333333333333,
              "#9c179e"
             ],
             [
              0.4444444444444444,
              "#bd3786"
             ],
             [
              0.5555555555555556,
              "#d8576b"
             ],
             [
              0.6666666666666666,
              "#ed7953"
             ],
             [
              0.7777777777777778,
              "#fb9f3a"
             ],
             [
              0.8888888888888888,
              "#fdca26"
             ],
             [
              1,
              "#f0f921"
             ]
            ],
            "type": "heatmap"
           }
          ],
          "heatmapgl": [
           {
            "colorbar": {
             "outlinewidth": 0,
             "ticks": ""
            },
            "colorscale": [
             [
              0,
              "#0d0887"
             ],
             [
              0.1111111111111111,
              "#46039f"
             ],
             [
              0.2222222222222222,
              "#7201a8"
             ],
             [
              0.3333333333333333,
              "#9c179e"
             ],
             [
              0.4444444444444444,
              "#bd3786"
             ],
             [
              0.5555555555555556,
              "#d8576b"
             ],
             [
              0.6666666666666666,
              "#ed7953"
             ],
             [
              0.7777777777777778,
              "#fb9f3a"
             ],
             [
              0.8888888888888888,
              "#fdca26"
             ],
             [
              1,
              "#f0f921"
             ]
            ],
            "type": "heatmapgl"
           }
          ],
          "histogram": [
           {
            "marker": {
             "colorbar": {
              "outlinewidth": 0,
              "ticks": ""
             }
            },
            "type": "histogram"
           }
          ],
          "histogram2d": [
           {
            "colorbar": {
             "outlinewidth": 0,
             "ticks": ""
            },
            "colorscale": [
             [
              0,
              "#0d0887"
             ],
             [
              0.1111111111111111,
              "#46039f"
             ],
             [
              0.2222222222222222,
              "#7201a8"
             ],
             [
              0.3333333333333333,
              "#9c179e"
             ],
             [
              0.4444444444444444,
              "#bd3786"
             ],
             [
              0.5555555555555556,
              "#d8576b"
             ],
             [
              0.6666666666666666,
              "#ed7953"
             ],
             [
              0.7777777777777778,
              "#fb9f3a"
             ],
             [
              0.8888888888888888,
              "#fdca26"
             ],
             [
              1,
              "#f0f921"
             ]
            ],
            "type": "histogram2d"
           }
          ],
          "histogram2dcontour": [
           {
            "colorbar": {
             "outlinewidth": 0,
             "ticks": ""
            },
            "colorscale": [
             [
              0,
              "#0d0887"
             ],
             [
              0.1111111111111111,
              "#46039f"
             ],
             [
              0.2222222222222222,
              "#7201a8"
             ],
             [
              0.3333333333333333,
              "#9c179e"
             ],
             [
              0.4444444444444444,
              "#bd3786"
             ],
             [
              0.5555555555555556,
              "#d8576b"
             ],
             [
              0.6666666666666666,
              "#ed7953"
             ],
             [
              0.7777777777777778,
              "#fb9f3a"
             ],
             [
              0.8888888888888888,
              "#fdca26"
             ],
             [
              1,
              "#f0f921"
             ]
            ],
            "type": "histogram2dcontour"
           }
          ],
          "mesh3d": [
           {
            "colorbar": {
             "outlinewidth": 0,
             "ticks": ""
            },
            "type": "mesh3d"
           }
          ],
          "parcoords": [
           {
            "line": {
             "colorbar": {
              "outlinewidth": 0,
              "ticks": ""
             }
            },
            "type": "parcoords"
           }
          ],
          "pie": [
           {
            "automargin": true,
            "type": "pie"
           }
          ],
          "scatter": [
           {
            "marker": {
             "colorbar": {
              "outlinewidth": 0,
              "ticks": ""
             }
            },
            "type": "scatter"
           }
          ],
          "scatter3d": [
           {
            "line": {
             "colorbar": {
              "outlinewidth": 0,
              "ticks": ""
             }
            },
            "marker": {
             "colorbar": {
              "outlinewidth": 0,
              "ticks": ""
             }
            },
            "type": "scatter3d"
           }
          ],
          "scattercarpet": [
           {
            "marker": {
             "colorbar": {
              "outlinewidth": 0,
              "ticks": ""
             }
            },
            "type": "scattercarpet"
           }
          ],
          "scattergeo": [
           {
            "marker": {
             "colorbar": {
              "outlinewidth": 0,
              "ticks": ""
             }
            },
            "type": "scattergeo"
           }
          ],
          "scattergl": [
           {
            "marker": {
             "colorbar": {
              "outlinewidth": 0,
              "ticks": ""
             }
            },
            "type": "scattergl"
           }
          ],
          "scattermapbox": [
           {
            "marker": {
             "colorbar": {
              "outlinewidth": 0,
              "ticks": ""
             }
            },
            "type": "scattermapbox"
           }
          ],
          "scatterpolar": [
           {
            "marker": {
             "colorbar": {
              "outlinewidth": 0,
              "ticks": ""
             }
            },
            "type": "scatterpolar"
           }
          ],
          "scatterpolargl": [
           {
            "marker": {
             "colorbar": {
              "outlinewidth": 0,
              "ticks": ""
             }
            },
            "type": "scatterpolargl"
           }
          ],
          "scatterternary": [
           {
            "marker": {
             "colorbar": {
              "outlinewidth": 0,
              "ticks": ""
             }
            },
            "type": "scatterternary"
           }
          ],
          "surface": [
           {
            "colorbar": {
             "outlinewidth": 0,
             "ticks": ""
            },
            "colorscale": [
             [
              0,
              "#0d0887"
             ],
             [
              0.1111111111111111,
              "#46039f"
             ],
             [
              0.2222222222222222,
              "#7201a8"
             ],
             [
              0.3333333333333333,
              "#9c179e"
             ],
             [
              0.4444444444444444,
              "#bd3786"
             ],
             [
              0.5555555555555556,
              "#d8576b"
             ],
             [
              0.6666666666666666,
              "#ed7953"
             ],
             [
              0.7777777777777778,
              "#fb9f3a"
             ],
             [
              0.8888888888888888,
              "#fdca26"
             ],
             [
              1,
              "#f0f921"
             ]
            ],
            "type": "surface"
           }
          ],
          "table": [
           {
            "cells": {
             "fill": {
              "color": "#EBF0F8"
             },
             "line": {
              "color": "white"
             }
            },
            "header": {
             "fill": {
              "color": "#C8D4E3"
             },
             "line": {
              "color": "white"
             }
            },
            "type": "table"
           }
          ]
         },
         "layout": {
          "annotationdefaults": {
           "arrowcolor": "#2a3f5f",
           "arrowhead": 0,
           "arrowwidth": 1
          },
          "coloraxis": {
           "colorbar": {
            "outlinewidth": 0,
            "ticks": ""
           }
          },
          "colorscale": {
           "diverging": [
            [
             0,
             "#8e0152"
            ],
            [
             0.1,
             "#c51b7d"
            ],
            [
             0.2,
             "#de77ae"
            ],
            [
             0.3,
             "#f1b6da"
            ],
            [
             0.4,
             "#fde0ef"
            ],
            [
             0.5,
             "#f7f7f7"
            ],
            [
             0.6,
             "#e6f5d0"
            ],
            [
             0.7,
             "#b8e186"
            ],
            [
             0.8,
             "#7fbc41"
            ],
            [
             0.9,
             "#4d9221"
            ],
            [
             1,
             "#276419"
            ]
           ],
           "sequential": [
            [
             0,
             "#0d0887"
            ],
            [
             0.1111111111111111,
             "#46039f"
            ],
            [
             0.2222222222222222,
             "#7201a8"
            ],
            [
             0.3333333333333333,
             "#9c179e"
            ],
            [
             0.4444444444444444,
             "#bd3786"
            ],
            [
             0.5555555555555556,
             "#d8576b"
            ],
            [
             0.6666666666666666,
             "#ed7953"
            ],
            [
             0.7777777777777778,
             "#fb9f3a"
            ],
            [
             0.8888888888888888,
             "#fdca26"
            ],
            [
             1,
             "#f0f921"
            ]
           ],
           "sequentialminus": [
            [
             0,
             "#0d0887"
            ],
            [
             0.1111111111111111,
             "#46039f"
            ],
            [
             0.2222222222222222,
             "#7201a8"
            ],
            [
             0.3333333333333333,
             "#9c179e"
            ],
            [
             0.4444444444444444,
             "#bd3786"
            ],
            [
             0.5555555555555556,
             "#d8576b"
            ],
            [
             0.6666666666666666,
             "#ed7953"
            ],
            [
             0.7777777777777778,
             "#fb9f3a"
            ],
            [
             0.8888888888888888,
             "#fdca26"
            ],
            [
             1,
             "#f0f921"
            ]
           ]
          },
          "colorway": [
           "#636efa",
           "#EF553B",
           "#00cc96",
           "#ab63fa",
           "#FFA15A",
           "#19d3f3",
           "#FF6692",
           "#B6E880",
           "#FF97FF",
           "#FECB52"
          ],
          "font": {
           "color": "#2a3f5f"
          },
          "geo": {
           "bgcolor": "white",
           "lakecolor": "white",
           "landcolor": "#E5ECF6",
           "showlakes": true,
           "showland": true,
           "subunitcolor": "white"
          },
          "hoverlabel": {
           "align": "left"
          },
          "hovermode": "closest",
          "mapbox": {
           "style": "light"
          },
          "paper_bgcolor": "white",
          "plot_bgcolor": "#E5ECF6",
          "polar": {
           "angularaxis": {
            "gridcolor": "white",
            "linecolor": "white",
            "ticks": ""
           },
           "bgcolor": "#E5ECF6",
           "radialaxis": {
            "gridcolor": "white",
            "linecolor": "white",
            "ticks": ""
           }
          },
          "scene": {
           "xaxis": {
            "backgroundcolor": "#E5ECF6",
            "gridcolor": "white",
            "gridwidth": 2,
            "linecolor": "white",
            "showbackground": true,
            "ticks": "",
            "zerolinecolor": "white"
           },
           "yaxis": {
            "backgroundcolor": "#E5ECF6",
            "gridcolor": "white",
            "gridwidth": 2,
            "linecolor": "white",
            "showbackground": true,
            "ticks": "",
            "zerolinecolor": "white"
           },
           "zaxis": {
            "backgroundcolor": "#E5ECF6",
            "gridcolor": "white",
            "gridwidth": 2,
            "linecolor": "white",
            "showbackground": true,
            "ticks": "",
            "zerolinecolor": "white"
           }
          },
          "shapedefaults": {
           "line": {
            "color": "#2a3f5f"
           }
          },
          "ternary": {
           "aaxis": {
            "gridcolor": "white",
            "linecolor": "white",
            "ticks": ""
           },
           "baxis": {
            "gridcolor": "white",
            "linecolor": "white",
            "ticks": ""
           },
           "bgcolor": "#E5ECF6",
           "caxis": {
            "gridcolor": "white",
            "linecolor": "white",
            "ticks": ""
           }
          },
          "title": {
           "x": 0.05
          },
          "xaxis": {
           "automargin": true,
           "gridcolor": "white",
           "linecolor": "white",
           "ticks": "",
           "title": {
            "standoff": 15
           },
           "zerolinecolor": "white",
           "zerolinewidth": 2
          },
          "yaxis": {
           "automargin": true,
           "gridcolor": "white",
           "linecolor": "white",
           "ticks": "",
           "title": {
            "standoff": 15
           },
           "zerolinecolor": "white",
           "zerolinewidth": 2
          }
         }
        }
       }
      },
      "text/html": [
       "<div>\n",
       "        \n",
       "        \n",
       "            <div id=\"319a9d2b-1d44-448c-a1b4-07c1b461fc67\" class=\"plotly-graph-div\" style=\"height:525px; width:100%;\"></div>\n",
       "            <script type=\"text/javascript\">\n",
       "                require([\"plotly\"], function(Plotly) {\n",
       "                    window.PLOTLYENV=window.PLOTLYENV || {};\n",
       "                    \n",
       "                if (document.getElementById(\"319a9d2b-1d44-448c-a1b4-07c1b461fc67\")) {\n",
       "                    Plotly.newPlot(\n",
       "                        '319a9d2b-1d44-448c-a1b4-07c1b461fc67',\n",
       "                        [{\"histfunc\": \"count\", \"type\": \"histogram\", \"x\": [\"South Asian Association for Regional Cooperation\", \"European Union\", \"Central European Free Trade Agreement\", \"African UnionArab League\", \"None\", \"None\", \"African Union\", \"None\", \"None\", \"Caribbean Community\", \"Union of South American Nations\", \"Eurasian Economic Union\", \"None\", \"None\", \"European Union\", \"None\", \"Caribbean Community\", \"Arab League\", \"South Asian Association for Regional Cooperation\", \"Caribbean Community\", \"Eurasian Economic Union\", \"European Union\", \"Caribbean CommunityCentral American Integration System\", \"African Union\", \"None\", \"South Asian Association for Regional Cooperation\", \"Union of South American Nations\", \"None\", \"Central European Free Trade Agreement\", \"African Union\", \"None\", \"Union of South American Nations\", \"African Union\", \"None\", \"None\", \"None\", \"Association of Southeast Asian Nations\", \"European Union\", \"African Union\", \"African Union\", \"Association of Southeast Asian Nations\", \"African Union\", \"North American Free Trade Agreement\", \"African Union\", \"None\", \"African Union\", \"African Union\", \"Pacific AllianceUnion of South American Nations\", \"None\", \"None\", \"None\", \"Pacific AllianceUnion of South American Nations\", \"African UnionArab League\", \"African Union\", \"African Union\", \"None\", \"Central American Integration System\", \"European Union\", \"None\", \"None\", \"European Union\", \"European Union\", \"European Union\", \"African UnionArab League\", \"None\", \"Caribbean CommunityCentral American Integration System\", \"Union of South American Nations\", \"African UnionArab League\", \"Central American Integration System\", \"African Union\", \"African Union\", \"European Union\", \"African Union\", \"Union of South American Nations\", \"European Union\", \"None\", \"European Union\", \"European Union\", \"Union of South American NationsEuropean Union\", \"None\", \"African Union\", \"African Union\", \"African Union\", \"None\", \"European Union\", \"African Union\", \"European Union\", \"European Union\", \"None\", \"Caribbean Community\", \"None\", \"None\", \"Central American Integration System\", \"None\", \"African Union\", \"African Union\", \"Caribbean CommunityUnion of South American Nations\", \"Caribbean Community\", \"None\", \"None\", \"Central American Integration System\", \"None\", \"European Union\", \"European Free Trade Association\", \"South Asian Association for Regional Cooperation\", \"Association of Southeast Asian Nations\", \"African Union\", \"None\", \"Arab League\", \"European Union\", \"European Union\", \"None\", \"European Union\", \"Caribbean Community\", \"None\", \"None\", \"Arab League\", \"Eurasian Economic Union\", \"African Union\", \"None\", \"Arab League\", \"Eurasian Economic Union\", \"Association of Southeast Asian Nations\", \"European Union\", \"Arab League\", \"African Union\", \"African Union\", \"African UnionArab League\", \"European Free Trade Association\", \"European Union\", \"European Union\", \"None\", \"Central European Free Trade Agreement\", \"African Union\", \"African Union\", \"Association of Southeast Asian Nations\", \"South Asian Association for Regional Cooperation\", \"African Union\", \"European Union\", \"None\", \"None\", \"African UnionArab League\", \"African Union\", \"African Union\", \"Pacific AllianceNorth American Free Trade Agreement\", \"None\", \"Central European Free Trade Agreement\", \"None\", \"None\", \"Central European Free Trade Agreement\", \"Caribbean Community\", \"African UnionArab League\", \"African Union\", \"Association of Southeast Asian Nations\", \"African Union\", \"None\", \"South Asian Association for Regional Cooperation\", \"European Union\", \"None\", \"None\", \"Central American Integration System\", \"African Union\", \"African Union\", \"None\", \"None\", \"None\", \"None\", \"European Free Trade Association\", \"Arab League\", \"South Asian Association for Regional Cooperation\", \"None\", \"Arab League\", \"Central American Integration System\", \"None\", \"Union of South American Nations\", \"Pacific AllianceUnion of South American Nations\", \"Association of Southeast Asian Nations\", \"None\", \"European Union\", \"European Union\", \"None\", \"Arab League\", \"Central European Free Trade Agreement\", \"African Union\", \"European Union\", \"Eurasian Economic Union\", \"African Union\", \"None\", \"African Union\", \"Caribbean Community\", \"Caribbean Community\", \"None\", \"None\", \"Caribbean Community\", \"None\", \"None\", \"African Union\", \"Arab League\", \"African Union\", \"Central European Free Trade Agreement\", \"African Union\", \"African Union\", \"Association of Southeast Asian Nations\", \"None\", \"European Union\", \"European Union\", \"None\", \"African UnionArab League\", \"African Union\", \"Union of South American Nations\", \"None\", \"African Union\", \"European Union\", \"South Asian Association for Regional Cooperation\", \"African UnionArab League\", \"Caribbean CommunityUnion of South American Nations\", \"None\", \"African Union\", \"European Union\", \"European Free Trade Association\", \"Arab League\", \"None\", \"None\", \"African Union\", \"Association of Southeast Asian Nations\", \"None\", \"African Union\", \"None\", \"None\", \"Caribbean Community\", \"African UnionArab League\", \"None\", \"None\", \"None\", \"None\", \"African Union\", \"None\", \"Arab League\", \"European Union\", \"North American Free Trade Agreement\", \"Union of South American Nations\", \"None\", \"None\", \"Union of South American Nations\", \"Association of Southeast Asian Nations\", \"None\", \"African Union\", \"Arab League\", \"African Union\", \"African Union\"]}],\n",
       "                        {\"template\": {\"data\": {\"bar\": [{\"error_x\": {\"color\": \"#2a3f5f\"}, \"error_y\": {\"color\": \"#2a3f5f\"}, \"marker\": {\"line\": {\"color\": \"#E5ECF6\", \"width\": 0.5}}, \"type\": \"bar\"}], \"barpolar\": [{\"marker\": {\"line\": {\"color\": \"#E5ECF6\", \"width\": 0.5}}, \"type\": \"barpolar\"}], \"carpet\": [{\"aaxis\": {\"endlinecolor\": \"#2a3f5f\", \"gridcolor\": \"white\", \"linecolor\": \"white\", \"minorgridcolor\": \"white\", \"startlinecolor\": \"#2a3f5f\"}, \"baxis\": {\"endlinecolor\": \"#2a3f5f\", \"gridcolor\": \"white\", \"linecolor\": \"white\", \"minorgridcolor\": \"white\", \"startlinecolor\": \"#2a3f5f\"}, \"type\": \"carpet\"}], \"choropleth\": [{\"colorbar\": {\"outlinewidth\": 0, \"ticks\": \"\"}, \"type\": \"choropleth\"}], \"contour\": [{\"colorbar\": {\"outlinewidth\": 0, \"ticks\": \"\"}, \"colorscale\": [[0.0, \"#0d0887\"], [0.1111111111111111, \"#46039f\"], [0.2222222222222222, \"#7201a8\"], [0.3333333333333333, \"#9c179e\"], [0.4444444444444444, \"#bd3786\"], [0.5555555555555556, \"#d8576b\"], [0.6666666666666666, \"#ed7953\"], [0.7777777777777778, \"#fb9f3a\"], [0.8888888888888888, \"#fdca26\"], [1.0, \"#f0f921\"]], \"type\": \"contour\"}], \"contourcarpet\": [{\"colorbar\": {\"outlinewidth\": 0, \"ticks\": \"\"}, \"type\": \"contourcarpet\"}], \"heatmap\": [{\"colorbar\": {\"outlinewidth\": 0, \"ticks\": \"\"}, \"colorscale\": [[0.0, \"#0d0887\"], [0.1111111111111111, \"#46039f\"], [0.2222222222222222, \"#7201a8\"], [0.3333333333333333, \"#9c179e\"], [0.4444444444444444, \"#bd3786\"], [0.5555555555555556, \"#d8576b\"], [0.6666666666666666, \"#ed7953\"], [0.7777777777777778, \"#fb9f3a\"], [0.8888888888888888, \"#fdca26\"], [1.0, \"#f0f921\"]], \"type\": \"heatmap\"}], \"heatmapgl\": [{\"colorbar\": {\"outlinewidth\": 0, \"ticks\": \"\"}, \"colorscale\": [[0.0, \"#0d0887\"], [0.1111111111111111, \"#46039f\"], [0.2222222222222222, \"#7201a8\"], [0.3333333333333333, \"#9c179e\"], [0.4444444444444444, \"#bd3786\"], [0.5555555555555556, \"#d8576b\"], [0.6666666666666666, \"#ed7953\"], [0.7777777777777778, \"#fb9f3a\"], [0.8888888888888888, \"#fdca26\"], [1.0, \"#f0f921\"]], \"type\": \"heatmapgl\"}], \"histogram\": [{\"marker\": {\"colorbar\": {\"outlinewidth\": 0, \"ticks\": \"\"}}, \"type\": \"histogram\"}], \"histogram2d\": [{\"colorbar\": {\"outlinewidth\": 0, \"ticks\": \"\"}, \"colorscale\": [[0.0, \"#0d0887\"], [0.1111111111111111, \"#46039f\"], [0.2222222222222222, \"#7201a8\"], [0.3333333333333333, \"#9c179e\"], [0.4444444444444444, \"#bd3786\"], [0.5555555555555556, \"#d8576b\"], [0.6666666666666666, \"#ed7953\"], [0.7777777777777778, \"#fb9f3a\"], [0.8888888888888888, \"#fdca26\"], [1.0, \"#f0f921\"]], \"type\": \"histogram2d\"}], \"histogram2dcontour\": [{\"colorbar\": {\"outlinewidth\": 0, \"ticks\": \"\"}, \"colorscale\": [[0.0, \"#0d0887\"], [0.1111111111111111, \"#46039f\"], [0.2222222222222222, \"#7201a8\"], [0.3333333333333333, \"#9c179e\"], [0.4444444444444444, \"#bd3786\"], [0.5555555555555556, \"#d8576b\"], [0.6666666666666666, \"#ed7953\"], [0.7777777777777778, \"#fb9f3a\"], [0.8888888888888888, \"#fdca26\"], [1.0, \"#f0f921\"]], \"type\": \"histogram2dcontour\"}], \"mesh3d\": [{\"colorbar\": {\"outlinewidth\": 0, \"ticks\": \"\"}, \"type\": \"mesh3d\"}], \"parcoords\": [{\"line\": {\"colorbar\": {\"outlinewidth\": 0, \"ticks\": \"\"}}, \"type\": \"parcoords\"}], \"pie\": [{\"automargin\": true, \"type\": \"pie\"}], \"scatter\": [{\"marker\": {\"colorbar\": {\"outlinewidth\": 0, \"ticks\": \"\"}}, \"type\": \"scatter\"}], \"scatter3d\": [{\"line\": {\"colorbar\": {\"outlinewidth\": 0, \"ticks\": \"\"}}, \"marker\": {\"colorbar\": {\"outlinewidth\": 0, \"ticks\": \"\"}}, \"type\": \"scatter3d\"}], \"scattercarpet\": [{\"marker\": {\"colorbar\": {\"outlinewidth\": 0, \"ticks\": \"\"}}, \"type\": \"scattercarpet\"}], \"scattergeo\": [{\"marker\": {\"colorbar\": {\"outlinewidth\": 0, \"ticks\": \"\"}}, \"type\": \"scattergeo\"}], \"scattergl\": [{\"marker\": {\"colorbar\": {\"outlinewidth\": 0, \"ticks\": \"\"}}, \"type\": \"scattergl\"}], \"scattermapbox\": [{\"marker\": {\"colorbar\": {\"outlinewidth\": 0, \"ticks\": \"\"}}, \"type\": \"scattermapbox\"}], \"scatterpolar\": [{\"marker\": {\"colorbar\": {\"outlinewidth\": 0, \"ticks\": \"\"}}, \"type\": \"scatterpolar\"}], \"scatterpolargl\": [{\"marker\": {\"colorbar\": {\"outlinewidth\": 0, \"ticks\": \"\"}}, \"type\": \"scatterpolargl\"}], \"scatterternary\": [{\"marker\": {\"colorbar\": {\"outlinewidth\": 0, \"ticks\": \"\"}}, \"type\": \"scatterternary\"}], \"surface\": [{\"colorbar\": {\"outlinewidth\": 0, \"ticks\": \"\"}, \"colorscale\": [[0.0, \"#0d0887\"], [0.1111111111111111, \"#46039f\"], [0.2222222222222222, \"#7201a8\"], [0.3333333333333333, \"#9c179e\"], [0.4444444444444444, \"#bd3786\"], [0.5555555555555556, \"#d8576b\"], [0.6666666666666666, \"#ed7953\"], [0.7777777777777778, \"#fb9f3a\"], [0.8888888888888888, \"#fdca26\"], [1.0, \"#f0f921\"]], \"type\": \"surface\"}], \"table\": [{\"cells\": {\"fill\": {\"color\": \"#EBF0F8\"}, \"line\": {\"color\": \"white\"}}, \"header\": {\"fill\": {\"color\": \"#C8D4E3\"}, \"line\": {\"color\": \"white\"}}, \"type\": \"table\"}]}, \"layout\": {\"annotationdefaults\": {\"arrowcolor\": \"#2a3f5f\", \"arrowhead\": 0, \"arrowwidth\": 1}, \"coloraxis\": {\"colorbar\": {\"outlinewidth\": 0, \"ticks\": \"\"}}, \"colorscale\": {\"diverging\": [[0, \"#8e0152\"], [0.1, \"#c51b7d\"], [0.2, \"#de77ae\"], [0.3, \"#f1b6da\"], [0.4, \"#fde0ef\"], [0.5, \"#f7f7f7\"], [0.6, \"#e6f5d0\"], [0.7, \"#b8e186\"], [0.8, \"#7fbc41\"], [0.9, \"#4d9221\"], [1, \"#276419\"]], \"sequential\": [[0.0, \"#0d0887\"], [0.1111111111111111, \"#46039f\"], [0.2222222222222222, \"#7201a8\"], [0.3333333333333333, \"#9c179e\"], [0.4444444444444444, \"#bd3786\"], [0.5555555555555556, \"#d8576b\"], [0.6666666666666666, \"#ed7953\"], [0.7777777777777778, \"#fb9f3a\"], [0.8888888888888888, \"#fdca26\"], [1.0, \"#f0f921\"]], \"sequentialminus\": [[0.0, \"#0d0887\"], [0.1111111111111111, \"#46039f\"], [0.2222222222222222, \"#7201a8\"], [0.3333333333333333, \"#9c179e\"], [0.4444444444444444, \"#bd3786\"], [0.5555555555555556, \"#d8576b\"], [0.6666666666666666, \"#ed7953\"], [0.7777777777777778, \"#fb9f3a\"], [0.8888888888888888, \"#fdca26\"], [1.0, \"#f0f921\"]]}, \"colorway\": [\"#636efa\", \"#EF553B\", \"#00cc96\", \"#ab63fa\", \"#FFA15A\", \"#19d3f3\", \"#FF6692\", \"#B6E880\", \"#FF97FF\", \"#FECB52\"], \"font\": {\"color\": \"#2a3f5f\"}, \"geo\": {\"bgcolor\": \"white\", \"lakecolor\": \"white\", \"landcolor\": \"#E5ECF6\", \"showlakes\": true, \"showland\": true, \"subunitcolor\": \"white\"}, \"hoverlabel\": {\"align\": \"left\"}, \"hovermode\": \"closest\", \"mapbox\": {\"style\": \"light\"}, \"paper_bgcolor\": \"white\", \"plot_bgcolor\": \"#E5ECF6\", \"polar\": {\"angularaxis\": {\"gridcolor\": \"white\", \"linecolor\": \"white\", \"ticks\": \"\"}, \"bgcolor\": \"#E5ECF6\", \"radialaxis\": {\"gridcolor\": \"white\", \"linecolor\": \"white\", \"ticks\": \"\"}}, \"scene\": {\"xaxis\": {\"backgroundcolor\": \"#E5ECF6\", \"gridcolor\": \"white\", \"gridwidth\": 2, \"linecolor\": \"white\", \"showbackground\": true, \"ticks\": \"\", \"zerolinecolor\": \"white\"}, \"yaxis\": {\"backgroundcolor\": \"#E5ECF6\", \"gridcolor\": \"white\", \"gridwidth\": 2, \"linecolor\": \"white\", \"showbackground\": true, \"ticks\": \"\", \"zerolinecolor\": \"white\"}, \"zaxis\": {\"backgroundcolor\": \"#E5ECF6\", \"gridcolor\": \"white\", \"gridwidth\": 2, \"linecolor\": \"white\", \"showbackground\": true, \"ticks\": \"\", \"zerolinecolor\": \"white\"}}, \"shapedefaults\": {\"line\": {\"color\": \"#2a3f5f\"}}, \"ternary\": {\"aaxis\": {\"gridcolor\": \"white\", \"linecolor\": \"white\", \"ticks\": \"\"}, \"baxis\": {\"gridcolor\": \"white\", \"linecolor\": \"white\", \"ticks\": \"\"}, \"bgcolor\": \"#E5ECF6\", \"caxis\": {\"gridcolor\": \"white\", \"linecolor\": \"white\", \"ticks\": \"\"}}, \"title\": {\"x\": 0.05}, \"xaxis\": {\"automargin\": true, \"gridcolor\": \"white\", \"linecolor\": \"white\", \"ticks\": \"\", \"title\": {\"standoff\": 15}, \"zerolinecolor\": \"white\", \"zerolinewidth\": 2}, \"yaxis\": {\"automargin\": true, \"gridcolor\": \"white\", \"linecolor\": \"white\", \"ticks\": \"\", \"title\": {\"standoff\": 15}, \"zerolinecolor\": \"white\", \"zerolinewidth\": 2}}}},\n",
       "                        {\"responsive\": true}\n",
       "                    ).then(function(){\n",
       "                            \n",
       "var gd = document.getElementById('319a9d2b-1d44-448c-a1b4-07c1b461fc67');\n",
       "var x = new MutationObserver(function (mutations, observer) {{\n",
       "        var display = window.getComputedStyle(gd).display;\n",
       "        if (!display || display === 'none') {{\n",
       "            console.log([gd, 'removed!']);\n",
       "            Plotly.purge(gd);\n",
       "            observer.disconnect();\n",
       "        }}\n",
       "}});\n",
       "\n",
       "// Listen for the removal of the full notebook cells\n",
       "var notebookContainer = gd.closest('#notebook-container');\n",
       "if (notebookContainer) {{\n",
       "    x.observe(notebookContainer, {childList: true});\n",
       "}}\n",
       "\n",
       "// Listen for the clearing of the current output cell\n",
       "var outputEl = gd.closest('.output');\n",
       "if (outputEl) {{\n",
       "    x.observe(outputEl, {childList: true});\n",
       "}}\n",
       "\n",
       "                        })\n",
       "                };\n",
       "                });\n",
       "            </script>\n",
       "        </div>"
      ]
     },
     "metadata": {},
     "output_type": "display_data"
    }
   ],
   "source": [
    "fig = go.Figure(data=[go.Histogram(histfunc=\"count\", x=df['regionalBlocs'])])\n",
    "fig.show()"
   ]
  },
  {
   "cell_type": "markdown",
   "metadata": {},
   "source": [
    "### cioc column"
   ]
  },
  {
   "cell_type": "code",
   "execution_count": 345,
   "metadata": {},
   "outputs": [],
   "source": [
    "#There are 3 values presented as Nan in cioc column\n",
    "#Besides there are some columns shown with empty values not NaN\n",
    "df['cioc'].fillna('Unknown',inplace=True)"
   ]
  },
  {
   "cell_type": "markdown",
   "metadata": {},
   "source": [
    "## Quantitative variables"
   ]
  },
  {
   "cell_type": "markdown",
   "metadata": {},
   "source": [
    "### Missing values and fill_in"
   ]
  },
  {
   "cell_type": "markdown",
   "metadata": {},
   "source": [
    "__area column__"
   ]
  },
  {
   "cell_type": "markdown",
   "metadata": {},
   "source": [
    "Fill missing area values."
   ]
  },
  {
   "cell_type": "code",
   "execution_count": 346,
   "metadata": {},
   "outputs": [],
   "source": [
    "df.loc[33,'area'] = 34.2\n",
    "df.loc[78,'area'] = 83534\n",
    "df.loc[90,'area'] = 1628\n",
    "df.loc[140,'area'] = 1128\n",
    "df.loc[143,'area'] = 374\n",
    "df.loc[171,'area'] = 6020\n",
    "df.loc[183,'area'] = 2511\n",
    "df.loc[188,'area'] = 394\n",
    "df.loc[209,'area'] = 3903\n",
    "df.loc[216,'area'] = 377"
   ]
  },
  {
   "cell_type": "markdown",
   "metadata": {},
   "source": [
    "__population and population density (popDensity)__"
   ]
  },
  {
   "cell_type": "markdown",
   "metadata": {},
   "source": [
    "Add population desensity columns (popDensity)"
   ]
  },
  {
   "cell_type": "code",
   "execution_count": 347,
   "metadata": {},
   "outputs": [
    {
     "data": {
      "text/plain": [
       "count      250.000000\n",
       "mean       407.082521\n",
       "std       1948.712944\n",
       "min          0.000000\n",
       "25%         27.837028\n",
       "50%         81.839835\n",
       "75%        209.051777\n",
       "max      21636.666667\n",
       "Name: popDensity, dtype: float64"
      ]
     },
     "execution_count": 347,
     "metadata": {},
     "output_type": "execute_result"
    }
   ],
   "source": [
    "df.insert(9, 'popDensity', df['population']/df['area'])\n",
    "df['popDensity'].describe()"
   ]
  },
  {
   "cell_type": "markdown",
   "metadata": {},
   "source": [
    "__Missing values heatmap__"
   ]
  },
  {
   "cell_type": "code",
   "execution_count": 348,
   "metadata": {},
   "outputs": [
    {
     "data": {
      "image/png": "[encoded data removed]",
      "text/plain": [
       "<Figure size 432x288 with 1 Axes>"
      ]
     },
     "metadata": {
      "needs_background": "light"
     },
     "output_type": "display_data"
    }
   ],
   "source": [
    "quan_lst = ['population','area','popDensity','gini','borders_count','languages_count']\n",
    "sns.heatmap(df[quan_lst].isnull(),cbar=False, cmap='magma', yticklabels=False)\n",
    "plt.title('Missing values in quantitative variables')\n",
    "plt.show()"
   ]
  },
  {
   "cell_type": "markdown",
   "metadata": {},
   "source": [
    "### EDA"
   ]
  },
  {
   "cell_type": "code",
   "execution_count": 349,
   "metadata": {},
   "outputs": [
    {
     "data": {
      "text/html": [
       "<div>\n",
       "<style scoped>\n",
       "    .dataframe tbody tr th:only-of-type {\n",
       "        vertical-align: middle;\n",
       "    }\n",
       "\n",
       "    .dataframe tbody tr th {\n",
       "        vertical-align: top;\n",
       "    }\n",
       "\n",
       "    .dataframe thead th {\n",
       "        text-align: right;\n",
       "    }\n",
       "</style>\n",
       "<table border=\"1\" class=\"dataframe\">\n",
       "  <thead>\n",
       "    <tr style=\"text-align: right;\">\n",
       "      <th></th>\n",
       "      <th>population</th>\n",
       "      <th>area</th>\n",
       "      <th>popDensity</th>\n",
       "      <th>gini</th>\n",
       "      <th>borders_count</th>\n",
       "      <th>languages_count</th>\n",
       "    </tr>\n",
       "  </thead>\n",
       "  <tbody>\n",
       "    <tr>\n",
       "      <th>count</th>\n",
       "      <td>2.500000e+02</td>\n",
       "      <td>2.500000e+02</td>\n",
       "      <td>250.000000</td>\n",
       "      <td>153.000000</td>\n",
       "      <td>250.000000</td>\n",
       "      <td>250.000000</td>\n",
       "    </tr>\n",
       "    <tr>\n",
       "      <th>mean</th>\n",
       "      <td>2.939655e+07</td>\n",
       "      <td>6.015619e+05</td>\n",
       "      <td>407.082521</td>\n",
       "      <td>40.177124</td>\n",
       "      <td>2.600000</td>\n",
       "      <td>1.472000</td>\n",
       "    </tr>\n",
       "    <tr>\n",
       "      <th>std</th>\n",
       "      <td>1.244578e+08</td>\n",
       "      <td>1.914304e+06</td>\n",
       "      <td>1948.712944</td>\n",
       "      <td>9.265119</td>\n",
       "      <td>2.675187</td>\n",
       "      <td>0.901369</td>\n",
       "    </tr>\n",
       "    <tr>\n",
       "      <th>min</th>\n",
       "      <td>0.000000e+00</td>\n",
       "      <td>4.400000e-01</td>\n",
       "      <td>0.000000</td>\n",
       "      <td>24.000000</td>\n",
       "      <td>0.000000</td>\n",
       "      <td>1.000000</td>\n",
       "    </tr>\n",
       "    <tr>\n",
       "      <th>25%</th>\n",
       "      <td>2.029030e+05</td>\n",
       "      <td>1.110000e+03</td>\n",
       "      <td>27.837028</td>\n",
       "      <td>33.700000</td>\n",
       "      <td>0.000000</td>\n",
       "      <td>1.000000</td>\n",
       "    </tr>\n",
       "    <tr>\n",
       "      <th>50%</th>\n",
       "      <td>4.648734e+06</td>\n",
       "      <td>6.492950e+04</td>\n",
       "      <td>81.839835</td>\n",
       "      <td>38.600000</td>\n",
       "      <td>2.000000</td>\n",
       "      <td>1.000000</td>\n",
       "    </tr>\n",
       "    <tr>\n",
       "      <th>75%</th>\n",
       "      <td>1.803955e+07</td>\n",
       "      <td>3.727260e+05</td>\n",
       "      <td>209.051777</td>\n",
       "      <td>46.200000</td>\n",
       "      <td>4.000000</td>\n",
       "      <td>2.000000</td>\n",
       "    </tr>\n",
       "    <tr>\n",
       "      <th>max</th>\n",
       "      <td>1.377422e+09</td>\n",
       "      <td>1.712444e+07</td>\n",
       "      <td>21636.666667</td>\n",
       "      <td>65.800000</td>\n",
       "      <td>15.000000</td>\n",
       "      <td>10.000000</td>\n",
       "    </tr>\n",
       "  </tbody>\n",
       "</table>\n",
       "</div>"
      ],
      "text/plain": [
       "         population          area    popDensity        gini  borders_count  \\\n",
       "count  2.500000e+02  2.500000e+02    250.000000  153.000000     250.000000   \n",
       "mean   2.939655e+07  6.015619e+05    407.082521   40.177124       2.600000   \n",
       "std    1.244578e+08  1.914304e+06   1948.712944    9.265119       2.675187   \n",
       "min    0.000000e+00  4.400000e-01      0.000000   24.000000       0.000000   \n",
       "25%    2.029030e+05  1.110000e+03     27.837028   33.700000       0.000000   \n",
       "50%    4.648734e+06  6.492950e+04     81.839835   38.600000       2.000000   \n",
       "75%    1.803955e+07  3.727260e+05    209.051777   46.200000       4.000000   \n",
       "max    1.377422e+09  1.712444e+07  21636.666667   65.800000      15.000000   \n",
       "\n",
       "       languages_count  \n",
       "count       250.000000  \n",
       "mean          1.472000  \n",
       "std           0.901369  \n",
       "min           1.000000  \n",
       "25%           1.000000  \n",
       "50%           1.000000  \n",
       "75%           2.000000  \n",
       "max          10.000000  "
      ]
     },
     "execution_count": 349,
     "metadata": {},
     "output_type": "execute_result"
    }
   ],
   "source": [
    "df.describe()"
   ]
  },
  {
   "cell_type": "code",
   "execution_count": 350,
   "metadata": {
    "code_folding": []
   },
   "outputs": [
    {
     "data": {
      "application/vnd.plotly.v1+json": {
       "config": {
        "plotlyServerURL": "https://plot.ly"
       },
       "data": [
        {
         "boxpoints": "outliers",
         "name": "population",
         "type": "box",
         "xaxis": "x",
         "y": [
          27657145,
          28875,
          2886026,
          40400000,
          57100,
          78014,
          25868000,
          13452,
          1000,
          86295,
          43590400,
          2994400,
          107394,
          24117360,
          8725931,
          9730500,
          378040,
          1404900,
          161006790,
          285000,
          9498700,
          11319511,
          370300,
          10653654,
          61954,
          775620,
          10985059,
          17408,
          3531159,
          2141206,
          0,
          206135893,
          3000,
          300,
          28514,
          114743,
          411900,
          7153784,
          19034397,
          10114505,
          15626444,
          22709892,
          36155487,
          531239,
          58238,
          4998000,
          14497000,
          18191900,
          1377422166,
          2072,
          550,
          48759958,
          806153,
          4741000,
          85026000,
          18100,
          4890379,
          4190669,
          11239004,
          154843,
          847000,
          10558524,
          5717014,
          900000,
          71293,
          10075045,
          16545799,
          91290000,
          6520675,
          1222442,
          5352000,
          1315944,
          92206005,
          2563,
          49376,
          867000,
          5491817,
          66710000,
          254541,
          271800,
          140,
          1802278,
          1882450,
          3720400,
          81770900,
          27670174,
          33140,
          10858018,
          55847,
          103328,
          400132,
          184200,
          16176133,
          62999,
          12947000,
          1547777,
          746900,
          11078033,
          0,
          451,
          8576532,
          7324300,
          9823000,
          334300,
          1295210000,
          258705000,
          22671331,
          79369900,
          37883543,
          6378000,
          84497,
          8527400,
          60665551,
          2723246,
          126960000,
          100800,
          9531712,
          17753200,
          47251000,
          113400,
          4183658,
          6047800,
          6492400,
          1961600,
          5988000,
          1894194,
          4615000,
          6385000,
          37623,
          2872294,
          576200,
          649100,
          2058539,
          22434363,
          16832910,
          31405416,
          344023,
          18135000,
          425384,
          54880,
          378243,
          3718678,
          1262879,
          226915,
          122273473,
          102800,
          3553100,
          38400,
          3093100,
          621810,
          4922,
          33337529,
          26423700,
          51419420,
          2324388,
          10084,
          28431500,
          17019800,
          268767,
          4697854,
          6262703,
          20715000,
          186988000,
          1470,
          2302,
          25281000,
          56940,
          5223256,
          4420133,
          194125062,
          17950,
          4682467,
          3814672,
          8083700,
          6854536,
          31488700,
          103279800,
          56,
          38437239,
          10374822,
          3474182,
          2587564,
          1733842,
          840974,
          19861408,
          146599183,
          11553188,
          9417,
          4255,
          46204,
          186000,
          36979,
          6069,
          109991,
          194899,
          33005,
          187356,
          32248200,
          14799859,
          7076372,
          91400,
          7075641,
          5535000,
          38247,
          5426252,
          2064188,
          642000,
          11079000,
          55653654,
          30,
          50801405,
          12131000,
          46438422,
          20966000,
          39598700,
          541638,
          2562,
          1132657,
          9894888,
          8341600,
          18564000,
          23503349,
          8593600,
          55155000,
          65327652,
          1167242,
          7143000,
          1411,
          103252,
          1349667,
          11154400,
          78741053,
          4751120,
          31458,
          10640,
          33860700,
          42692393,
          9856000,
          65110000,
          323947000,
          3480222,
          31576400,
          277500,
          31028700,
          92700000,
          11750,
          510713,
          27478000,
          15933883,
          14240168
         ],
         "yaxis": "y"
        },
        {
         "boxpoints": "outliers",
         "name": "area",
         "type": "box",
         "xaxis": "x2",
         "y": [
          652230,
          1580,
          28748,
          2381741,
          199,
          468,
          1246700,
          91,
          14000000,
          442,
          2780400,
          29743,
          180,
          7692024,
          83871,
          86600,
          13943,
          765,
          147570,
          430,
          207600,
          30528,
          22966,
          112622,
          54,
          38394,
          1098581,
          294,
          51209,
          582000,
          49,
          8515767,
          60,
          34.2,
          151,
          346.36,
          5765,
          110879,
          272967,
          27834,
          181035,
          475442,
          9984670,
          4033,
          264,
          622984,
          1284000,
          756102,
          9640011,
          135,
          14,
          1141748,
          1862,
          342000,
          2344858,
          236,
          51100,
          56594,
          109884,
          444,
          9251,
          78865,
          43094,
          23200,
          751,
          48671,
          276841,
          1002450,
          21041,
          28051,
          117600,
          45227,
          1104300,
          12173,
          1393,
          18272,
          338424,
          640679,
          83534,
          4167,
          7747,
          267668,
          11295,
          69700,
          357114,
          238533,
          6,
          131990,
          2166086,
          344,
          1628,
          549,
          108889,
          78,
          245857,
          36125,
          214969,
          27750,
          412,
          0.44,
          112492,
          1104,
          93028,
          103000,
          3287590,
          1904569,
          322463,
          1648195,
          438317,
          70273,
          572,
          20770,
          301336,
          10991,
          377930,
          116,
          89342,
          2724900,
          580367,
          811,
          17818,
          199951,
          236800,
          64559,
          10452,
          30355,
          111369,
          1759540,
          160,
          65300,
          2586,
          30,
          25713,
          587041,
          118484,
          330803,
          300,
          1240192,
          316,
          181,
          1128,
          1030700,
          2040,
          374,
          1964375,
          702,
          33846,
          2.02,
          1564110,
          13812,
          102,
          446550,
          801590,
          676578,
          825615,
          21,
          147181,
          41850,
          18575,
          270467,
          130373,
          1267000,
          923768,
          260,
          36,
          120538,
          464,
          323802,
          309500,
          881912,
          459,
          6020,
          75417,
          462840,
          406752,
          1285216,
          342353,
          47,
          312679,
          92090,
          8870,
          11586,
          10908,
          2511,
          238391,
          17124442,
          26338,
          21,
          394,
          261,
          616,
          53,
          242,
          389,
          2842,
          61,
          964,
          2149690,
          196722,
          88361,
          452,
          71740,
          710,
          34,
          49037,
          20273,
          28896,
          637657,
          1221037,
          3903,
          100210,
          619745,
          505992,
          65610,
          1886068,
          163820,
          377,
          17364,
          450295,
          41284,
          185180,
          36193,
          143100,
          945087,
          513120,
          14874,
          56785,
          12,
          747,
          5130,
          163610,
          783562,
          488100,
          948,
          26,
          241550,
          603700,
          83600,
          242900,
          9629091,
          181034,
          447400,
          12189,
          916445,
          331212,
          142,
          266000,
          527968,
          752612,
          390757
         ],
         "yaxis": "y2"
        },
        {
         "boxpoints": "outliers",
         "name": "popDensity",
         "type": "box",
         "xaxis": "x3",
         "y": [
          42.40397559143247,
          18.275316455696203,
          100.39049673020732,
          16.962381719926725,
          286.93467336683415,
          166.6965811965812,
          20.7491778294698,
          147.82417582417582,
          7.142857142857143e-05,
          195.23755656108597,
          15.677744209466264,
          100.6757892613388,
          596.6333333333333,
          3.135372432535312,
          104.03990652311288,
          112.36143187066975,
          27.113246790504196,
          1836.4705882352941,
          1091.053669445009,
          662.7906976744187,
          45.75481695568401,
          370.79110980083857,
          16.123835234694766,
          94.5965619505958,
          1147.2962962962963,
          20.201593999062354,
          9.999316390871497,
          59.2108843537415,
          68.95582807709582,
          3.6790481099656356,
          0,
          24.20638011819722,
          50,
          8.771929824561402,
          188.83443708609272,
          331.2824806559649,
          71.44839549002602,
          64.51883584808665,
          69.73149501588104,
          363.3866853488539,
          86.3172535697517,
          47.765851565490635,
          3.6210998460640162,
          131.72303496156707,
          220.59848484848484,
          8.022677949995506,
          11.290498442367602,
          24.060113582558966,
          142.88595376084115,
          15.348148148148148,
          39.285714285714285,
          42.70640982073102,
          432.9500537056928,
          13.862573099415204,
          36.26061791375,
          76.69491525423729,
          95.70213307240705,
          74.04793794395165,
          102.28062320265006,
          348.7454954954955,
          91.5576694411415,
          133.88098649591075,
          132.66380470599157,
          38.793103448275865,
          94.93075898801598,
          207.00304082513202,
          59.766432717697164,
          91.066886128984,
          309.9032840644456,
          43.579266336315996,
          45.51020408163265,
          29.096424702058506,
          83.49724259712035,
          0.21054793395218926,
          35.44580043072505,
          47.44964973730298,
          16.227622745431766,
          104.12390604343204,
          3.047154452079393,
          65.2267818574514,
          0.01807151155285917,
          6.733259112034311,
          166.6622399291722,
          53.377331420373025,
          228.97702134332454,
          116.00145053304993,
          5523.333333333333,
          82.26394423819987,
          0.02578244815764471,
          300.3720930232558,
          245.78132678132678,
          335.5191256830601,
          148.55617188145726,
          807.6794871794872,
          52.660693004470076,
          42.845038062283734,
          3.4744544562239206,
          399.2083963963964,
          0,
          1025,
          76.24126160082494,
          6634.329710144928,
          105.59186481489444,
          3.245631067961165,
          393.96944266164576,
          135.83388157635665,
          70.30676697791685,
          48.15564905851553,
          86.42955440925175,
          90.76032046447426,
          147.72202797202797,
          410.5633124699085,
          201.32194958451694,
          247.77053953234466,
          335.9352261000714,
          868.9655172413793,
          106.6879183362808,
          6.515174868802525,
          81.41572487753439,
          139.82737361282366,
          234.79952856661802,
          30.246410370540783,
          27.41722972972973,
          30.384609427035734,
          572.9047072330654,
          62.40138362707956,
          41.43882049762501,
          3.6287893426691067,
          235.14375,
          43.986125574272585,
          222.81515854601702,
          21636.666666666668,
          80.0582973593124,
          38.21600705913215,
          142.06905573748355,
          94.93691411504733,
          1146.7433333333333,
          14.62273583445144,
          1346.1518987341772,
          303.2044198895028,
          335.3218085106383,
          3.607915009217037,
          619.0583333333333,
          606.7245989304813,
          62.245484187082404,
          146.43874643874645,
          104.97843172014419,
          19009.90099009901,
          1.9775463362551227,
          45.01954821894005,
          48.254901960784316,
          74.65575859366253,
          32.96410883369303,
          75.99924916269816,
          2.81534129103759,
          480.1904761904762,
          193.17371128066802,
          406.6857825567503,
          14.4692866756393,
          17.369416601655654,
          48.03680976889387,
          16.349644830307813,
          202.41878913320227,
          5.653846153846154,
          63.94444444444444,
          209.73468947551808,
          122.71551724137932,
          16.131018338367273,
          14.281528271405493,
          220.1184041038108,
          39.106753812636164,
          777.818438538206,
          50.58106262513757,
          17.465430818425375,
          16.851880261191095,
          24.500706496028684,
          301.67633991815467,
          1.1914893617021276,
          122.92875121130616,
          112.65959387555652,
          391.67779030439686,
          223.3354047988952,
          158.95141180784745,
          334.91596973317405,
          83.31442042694565,
          8.560815178678522,
          438.65092262130764,
          448.42857142857144,
          10.799492385786802,
          177.02681992337165,
          301.94805194805195,
          697.7169811320755,
          25.078512396694215,
          282.75321336760925,
          68.57811400422239,
          541.0655737704918,
          194.35269709543567,
          15.001325772553251,
          75.2323532700969,
          80.08478853792963,
          202.21238938053096,
          98.62895177028157,
          7795.774647887324,
          1124.9117647058824,
          110.65627995187307,
          101.81956296552065,
          22.217607973421927,
          17.374544621951927,
          45.57900702435717,
          0.007686395080707148,
          506.9494561421016,
          19.574179702942338,
          91.77698856898924,
          319.55494589239447,
          20.995372383180246,
          3.3062995971187887,
          6.795755968169761,
          65.23018889656761,
          21.97423466838406,
          202.05406452863096,
          100.24840695539476,
          649.3893570579946,
          60.053109713487075,
          58.359706566697035,
          127.31456969130028,
          78.47532607234099,
          125.79026151272343,
          117.58333333333333,
          138.22222222222223,
          263.09298245614036,
          68.17676181162521,
          100.49115832569727,
          9.733906986273304,
          33.18354430379747,
          409.2307692307692,
          140.18091492444628,
          70.71789464966042,
          117.89473684210526,
          268.05269658295595,
          33.64253178207579,
          19.22413469293061,
          70.5775592311131,
          22.76642874723111,
          33.85767831130073,
          279.881163725952,
          82.74647887323944,
          1.9199736842105264,
          52.04482089823626,
          21.171444250158117,
          36.44251542518752
         ],
         "yaxis": "y3"
        },
        {
         "boxpoints": "outliers",
         "name": "gini",
         "type": "box",
         "xaxis": "x4",
         "y": [
          27.8,
          null,
          34.5,
          35.3,
          null,
          null,
          58.6,
          null,
          null,
          null,
          44.5,
          30.9,
          null,
          30.5,
          26,
          33.7,
          null,
          null,
          32.1,
          null,
          26.5,
          33,
          53.1,
          38.6,
          null,
          38.1,
          56.3,
          null,
          36.2,
          61,
          null,
          54.7,
          null,
          null,
          null,
          null,
          null,
          28.2,
          39.8,
          33.3,
          37.9,
          38.9,
          32.6,
          50.5,
          null,
          56.3,
          39.8,
          52.1,
          47,
          null,
          null,
          55.9,
          64.3,
          47.3,
          null,
          null,
          50.7,
          33.7,
          null,
          null,
          null,
          26,
          24,
          40,
          null,
          47.2,
          49.3,
          30.8,
          48.3,
          null,
          null,
          36,
          29.8,
          null,
          null,
          42.8,
          26.9,
          32.7,
          null,
          null,
          null,
          41.5,
          null,
          41.3,
          28.3,
          42.8,
          null,
          34.3,
          null,
          null,
          null,
          null,
          55.9,
          null,
          39.4,
          35.5,
          44.5,
          59.2,
          null,
          null,
          57,
          53.3,
          31.2,
          null,
          33.4,
          34,
          41.5,
          38.3,
          30.9,
          34.3,
          null,
          39.2,
          36,
          45.5,
          38.1,
          null,
          35.4,
          29,
          47.7,
          null,
          null,
          36.2,
          36.7,
          36.6,
          null,
          52.5,
          38.2,
          null,
          null,
          37.6,
          30.8,
          null,
          43.2,
          44.1,
          39,
          46.2,
          37.4,
          33,
          null,
          null,
          null,
          40.5,
          null,
          null,
          47,
          null,
          33,
          null,
          36.5,
          30,
          null,
          40.9,
          45.7,
          null,
          63.9,
          null,
          32.8,
          30.9,
          null,
          36.2,
          40.5,
          34.6,
          48.8,
          null,
          null,
          null,
          null,
          25.8,
          null,
          30,
          null,
          35.5,
          51.9,
          50.9,
          52.4,
          48.1,
          43,
          null,
          34.1,
          38.5,
          null,
          41.1,
          null,
          null,
          30,
          40.1,
          50.8,
          null,
          null,
          null,
          42.6,
          null,
          null,
          null,
          null,
          null,
          50.8,
          null,
          39.2,
          27.8,
          65.8,
          42.5,
          48.1,
          null,
          26,
          31.2,
          null,
          null,
          63.1,
          null,
          31.3,
          45.5,
          34.7,
          40.3,
          35.3,
          52.9,
          null,
          51.5,
          25,
          33.7,
          35.8,
          null,
          30.8,
          37.6,
          40,
          31.9,
          34.4,
          null,
          null,
          40.3,
          41.4,
          39,
          40.8,
          null,
          null,
          44.3,
          26.4,
          null,
          34,
          48,
          39.7,
          36.7,
          null,
          44.8,
          35.6,
          null,
          null,
          37.7,
          54.6,
          null
         ],
         "yaxis": "y4"
        },
        {
         "boxpoints": "outliers",
         "name": "borders_count",
         "type": "box",
         "xaxis": "x5",
         "y": [
          6,
          0,
          4,
          7,
          0,
          2,
          4,
          0,
          0,
          0,
          5,
          4,
          0,
          0,
          8,
          5,
          0,
          0,
          2,
          0,
          5,
          4,
          2,
          4,
          0,
          2,
          5,
          0,
          3,
          4,
          0,
          10,
          0,
          0,
          0,
          0,
          1,
          5,
          6,
          3,
          3,
          6,
          1,
          0,
          0,
          6,
          6,
          3,
          15,
          0,
          0,
          5,
          0,
          5,
          9,
          0,
          2,
          5,
          0,
          0,
          1,
          4,
          1,
          3,
          0,
          1,
          2,
          3,
          2,
          2,
          3,
          2,
          6,
          0,
          0,
          0,
          3,
          8,
          2,
          0,
          0,
          3,
          1,
          4,
          9,
          3,
          1,
          4,
          0,
          0,
          0,
          0,
          4,
          0,
          6,
          2,
          3,
          1,
          0,
          1,
          3,
          1,
          7,
          0,
          8,
          3,
          5,
          7,
          6,
          1,
          0,
          4,
          6,
          0,
          0,
          0,
          4,
          5,
          5,
          0,
          2,
          4,
          5,
          4,
          2,
          1,
          3,
          6,
          2,
          4,
          3,
          1,
          5,
          0,
          3,
          3,
          0,
          7,
          0,
          0,
          0,
          4,
          0,
          0,
          3,
          0,
          2,
          1,
          2,
          5,
          0,
          3,
          6,
          5,
          4,
          0,
          2,
          2,
          0,
          0,
          2,
          7,
          4,
          0,
          0,
          3,
          0,
          3,
          3,
          4,
          0,
          3,
          2,
          1,
          3,
          5,
          0,
          0,
          7,
          1,
          0,
          1,
          4,
          0,
          5,
          14,
          4,
          0,
          0,
          0,
          0,
          2,
          0,
          0,
          0,
          1,
          0,
          7,
          5,
          8,
          0,
          2,
          0,
          1,
          5,
          4,
          0,
          3,
          6,
          0,
          1,
          6,
          5,
          1,
          7,
          4,
          0,
          2,
          2,
          5,
          5,
          0,
          4,
          8,
          4,
          1,
          3,
          0,
          0,
          0,
          2,
          8,
          4,
          0,
          0,
          5,
          7,
          2,
          1,
          2,
          2,
          5,
          0,
          3,
          3,
          0,
          3,
          2,
          8,
          4
         ],
         "yaxis": "y5"
        },
        {
         "boxpoints": "outliers",
         "name": "languages_count",
         "type": "box",
         "xaxis": "x6",
         "y": [
          3,
          1,
          1,
          1,
          2,
          1,
          1,
          1,
          2,
          1,
          2,
          2,
          2,
          1,
          1,
          1,
          1,
          1,
          1,
          1,
          2,
          3,
          2,
          1,
          1,
          1,
          3,
          1,
          3,
          2,
          3,
          1,
          1,
          1,
          1,
          1,
          1,
          1,
          2,
          2,
          1,
          2,
          2,
          1,
          1,
          2,
          2,
          1,
          1,
          1,
          1,
          1,
          2,
          2,
          5,
          1,
          1,
          1,
          1,
          3,
          3,
          2,
          1,
          2,
          1,
          1,
          1,
          1,
          1,
          2,
          3,
          1,
          1,
          1,
          1,
          4,
          2,
          1,
          1,
          1,
          1,
          1,
          1,
          1,
          1,
          1,
          1,
          1,
          1,
          1,
          1,
          3,
          1,
          2,
          2,
          1,
          1,
          2,
          1,
          4,
          1,
          2,
          1,
          1,
          2,
          1,
          1,
          1,
          2,
          2,
          2,
          2,
          1,
          1,
          1,
          2,
          1,
          2,
          2,
          1,
          1,
          2,
          1,
          1,
          2,
          2,
          1,
          1,
          1,
          1,
          3,
          2,
          1,
          2,
          2,
          1,
          1,
          1,
          2,
          2,
          1,
          1,
          1,
          1,
          1,
          1,
          1,
          1,
          1,
          4,
          1,
          1,
          1,
          1,
          2,
          2,
          1,
          1,
          1,
          2,
          1,
          1,
          1,
          1,
          1,
          1,
          2,
          3,
          1,
          2,
          1,
          1,
          1,
          1,
          2,
          1,
          1,
          1,
          1,
          1,
          2,
          1,
          2,
          1,
          1,
          1,
          3,
          1,
          1,
          1,
          1,
          3,
          1,
          1,
          2,
          1,
          1,
          1,
          1,
          1,
          2,
          1,
          4,
          2,
          1,
          1,
          1,
          2,
          10,
          1,
          1,
          1,
          1,
          2,
          2,
          1,
          1,
          2,
          1,
          3,
          1,
          1,
          2,
          2,
          1,
          1,
          1,
          1,
          2,
          1,
          1,
          1,
          2,
          1,
          1,
          2,
          1,
          1,
          1,
          1,
          1,
          2,
          3,
          1,
          1,
          1,
          1,
          1,
          1,
          3
         ],
         "yaxis": "y6"
        }
       ],
       "layout": {
        "template": {
         "data": {
          "bar": [
           {
            "error_x": {
             "color": "#2a3f5f"
            },
            "error_y": {
             "color": "#2a3f5f"
            },
            "marker": {
             "line": {
              "color": "#E5ECF6",
              "width": 0.5
             }
            },
            "type": "bar"
           }
          ],
          "barpolar": [
           {
            "marker": {
             "line": {
              "color": "#E5ECF6",
              "width": 0.5
             }
            },
            "type": "barpolar"
           }
          ],
          "carpet": [
           {
            "aaxis": {
             "endlinecolor": "#2a3f5f",
             "gridcolor": "white",
             "linecolor": "white",
             "minorgridcolor": "white",
             "startlinecolor": "#2a3f5f"
            },
            "baxis": {
             "endlinecolor": "#2a3f5f",
             "gridcolor": "white",
             "linecolor": "white",
             "minorgridcolor": "white",
             "startlinecolor": "#2a3f5f"
            },
            "type": "carpet"
           }
          ],
          "choropleth": [
           {
            "colorbar": {
             "outlinewidth": 0,
             "ticks": ""
            },
            "type": "choropleth"
           }
          ],
          "contour": [
           {
            "colorbar": {
             "outlinewidth": 0,
             "ticks": ""
            },
            "colorscale": [
             [
              0,
              "#0d0887"
             ],
             [
              0.1111111111111111,
              "#46039f"
             ],
             [
              0.2222222222222222,
              "#7201a8"
             ],
             [
              0.3333333333333333,
              "#9c179e"
             ],
             [
              0.4444444444444444,
              "#bd3786"
             ],
             [
              0.5555555555555556,
              "#d8576b"
             ],
             [
              0.6666666666666666,
              "#ed7953"
             ],
             [
              0.7777777777777778,
              "#fb9f3a"
             ],
             [
              0.8888888888888888,
              "#fdca26"
             ],
             [
              1,
              "#f0f921"
             ]
            ],
            "type": "contour"
           }
          ],
          "contourcarpet": [
           {
            "colorbar": {
             "outlinewidth": 0,
             "ticks": ""
            },
            "type": "contourcarpet"
           }
          ],
          "heatmap": [
           {
            "colorbar": {
             "outlinewidth": 0,
             "ticks": ""
            },
            "colorscale": [
             [
              0,
              "#0d0887"
             ],
             [
              0.1111111111111111,
              "#46039f"
             ],
             [
              0.2222222222222222,
              "#7201a8"
             ],
             [
              0.3333333333333333,
              "#9c179e"
             ],
             [
              0.4444444444444444,
              "#bd3786"
             ],
             [
              0.5555555555555556,
              "#d8576b"
             ],
             [
              0.6666666666666666,
              "#ed7953"
             ],
             [
              0.7777777777777778,
              "#fb9f3a"
             ],
             [
              0.8888888888888888,
              "#fdca26"
             ],
             [
              1,
              "#f0f921"
             ]
            ],
            "type": "heatmap"
           }
          ],
          "heatmapgl": [
           {
            "colorbar": {
             "outlinewidth": 0,
             "ticks": ""
            },
            "colorscale": [
             [
              0,
              "#0d0887"
             ],
             [
              0.1111111111111111,
              "#46039f"
             ],
             [
              0.2222222222222222,
              "#7201a8"
             ],
             [
              0.3333333333333333,
              "#9c179e"
             ],
             [
              0.4444444444444444,
              "#bd3786"
             ],
             [
              0.5555555555555556,
              "#d8576b"
             ],
             [
              0.6666666666666666,
              "#ed7953"
             ],
             [
              0.7777777777777778,
              "#fb9f3a"
             ],
             [
              0.8888888888888888,
              "#fdca26"
             ],
             [
              1,
              "#f0f921"
             ]
            ],
            "type": "heatmapgl"
           }
          ],
          "histogram": [
           {
            "marker": {
             "colorbar": {
              "outlinewidth": 0,
              "ticks": ""
             }
            },
            "type": "histogram"
           }
          ],
          "histogram2d": [
           {
            "colorbar": {
             "outlinewidth": 0,
             "ticks": ""
            },
            "colorscale": [
             [
              0,
              "#0d0887"
             ],
             [
              0.1111111111111111,
              "#46039f"
             ],
             [
              0.2222222222222222,
              "#7201a8"
             ],
             [
              0.3333333333333333,
              "#9c179e"
             ],
             [
              0.4444444444444444,
              "#bd3786"
             ],
             [
              0.5555555555555556,
              "#d8576b"
             ],
             [
              0.6666666666666666,
              "#ed7953"
             ],
             [
              0.7777777777777778,
              "#fb9f3a"
             ],
             [
              0.8888888888888888,
              "#fdca26"
             ],
             [
              1,
              "#f0f921"
             ]
            ],
            "type": "histogram2d"
           }
          ],
          "histogram2dcontour": [
           {
            "colorbar": {
             "outlinewidth": 0,
             "ticks": ""
            },
            "colorscale": [
             [
              0,
              "#0d0887"
             ],
             [
              0.1111111111111111,
              "#46039f"
             ],
             [
              0.2222222222222222,
              "#7201a8"
             ],
             [
              0.3333333333333333,
              "#9c179e"
             ],
             [
              0.4444444444444444,
              "#bd3786"
             ],
             [
              0.5555555555555556,
              "#d8576b"
             ],
             [
              0.6666666666666666,
              "#ed7953"
             ],
             [
              0.7777777777777778,
              "#fb9f3a"
             ],
             [
              0.8888888888888888,
              "#fdca26"
             ],
             [
              1,
              "#f0f921"
             ]
            ],
            "type": "histogram2dcontour"
           }
          ],
          "mesh3d": [
           {
            "colorbar": {
             "outlinewidth": 0,
             "ticks": ""
            },
            "type": "mesh3d"
           }
          ],
          "parcoords": [
           {
            "line": {
             "colorbar": {
              "outlinewidth": 0,
              "ticks": ""
             }
            },
            "type": "parcoords"
           }
          ],
          "pie": [
           {
            "automargin": true,
            "type": "pie"
           }
          ],
          "scatter": [
           {
            "marker": {
             "colorbar": {
              "outlinewidth": 0,
              "ticks": ""
             }
            },
            "type": "scatter"
           }
          ],
          "scatter3d": [
           {
            "line": {
             "colorbar": {
              "outlinewidth": 0,
              "ticks": ""
             }
            },
            "marker": {
             "colorbar": {
              "outlinewidth": 0,
              "ticks": ""
             }
            },
            "type": "scatter3d"
           }
          ],
          "scattercarpet": [
           {
            "marker": {
             "colorbar": {
              "outlinewidth": 0,
              "ticks": ""
             }
            },
            "type": "scattercarpet"
           }
          ],
          "scattergeo": [
           {
            "marker": {
             "colorbar": {
              "outlinewidth": 0,
              "ticks": ""
             }
            },
            "type": "scattergeo"
           }
          ],
          "scattergl": [
           {
            "marker": {
             "colorbar": {
              "outlinewidth": 0,
              "ticks": ""
             }
            },
            "type": "scattergl"
           }
          ],
          "scattermapbox": [
           {
            "marker": {
             "colorbar": {
              "outlinewidth": 0,
              "ticks": ""
             }
            },
            "type": "scattermapbox"
           }
          ],
          "scatterpolar": [
           {
            "marker": {
             "colorbar": {
              "outlinewidth": 0,
              "ticks": ""
             }
            },
            "type": "scatterpolar"
           }
          ],
          "scatterpolargl": [
           {
            "marker": {
             "colorbar": {
              "outlinewidth": 0,
              "ticks": ""
             }
            },
            "type": "scatterpolargl"
           }
          ],
          "scatterternary": [
           {
            "marker": {
             "colorbar": {
              "outlinewidth": 0,
              "ticks": ""
             }
            },
            "type": "scatterternary"
           }
          ],
          "surface": [
           {
            "colorbar": {
             "outlinewidth": 0,
             "ticks": ""
            },
            "colorscale": [
             [
              0,
              "#0d0887"
             ],
             [
              0.1111111111111111,
              "#46039f"
             ],
             [
              0.2222222222222222,
              "#7201a8"
             ],
             [
              0.3333333333333333,
              "#9c179e"
             ],
             [
              0.4444444444444444,
              "#bd3786"
             ],
             [
              0.5555555555555556,
              "#d8576b"
             ],
             [
              0.6666666666666666,
              "#ed7953"
             ],
             [
              0.7777777777777778,
              "#fb9f3a"
             ],
             [
              0.8888888888888888,
              "#fdca26"
             ],
             [
              1,
              "#f0f921"
             ]
            ],
            "type": "surface"
           }
          ],
          "table": [
           {
            "cells": {
             "fill": {
              "color": "#EBF0F8"
             },
             "line": {
              "color": "white"
             }
            },
            "header": {
             "fill": {
              "color": "#C8D4E3"
             },
             "line": {
              "color": "white"
             }
            },
            "type": "table"
           }
          ]
         },
         "layout": {
          "annotationdefaults": {
           "arrowcolor": "#2a3f5f",
           "arrowhead": 0,
           "arrowwidth": 1
          },
          "coloraxis": {
           "colorbar": {
            "outlinewidth": 0,
            "ticks": ""
           }
          },
          "colorscale": {
           "diverging": [
            [
             0,
             "#8e0152"
            ],
            [
             0.1,
             "#c51b7d"
            ],
            [
             0.2,
             "#de77ae"
            ],
            [
             0.3,
             "#f1b6da"
            ],
            [
             0.4,
             "#fde0ef"
            ],
            [
             0.5,
             "#f7f7f7"
            ],
            [
             0.6,
             "#e6f5d0"
            ],
            [
             0.7,
             "#b8e186"
            ],
            [
             0.8,
             "#7fbc41"
            ],
            [
             0.9,
             "#4d9221"
            ],
            [
             1,
             "#276419"
            ]
           ],
           "sequential": [
            [
             0,
             "#0d0887"
            ],
            [
             0.1111111111111111,
             "#46039f"
            ],
            [
             0.2222222222222222,
             "#7201a8"
            ],
            [
             0.3333333333333333,
             "#9c179e"
            ],
            [
             0.4444444444444444,
             "#bd3786"
            ],
            [
             0.5555555555555556,
             "#d8576b"
            ],
            [
             0.6666666666666666,
             "#ed7953"
            ],
            [
             0.7777777777777778,
             "#fb9f3a"
            ],
            [
             0.8888888888888888,
             "#fdca26"
            ],
            [
             1,
             "#f0f921"
            ]
           ],
           "sequentialminus": [
            [
             0,
             "#0d0887"
            ],
            [
             0.1111111111111111,
             "#46039f"
            ],
            [
             0.2222222222222222,
             "#7201a8"
            ],
            [
             0.3333333333333333,
             "#9c179e"
            ],
            [
             0.4444444444444444,
             "#bd3786"
            ],
            [
             0.5555555555555556,
             "#d8576b"
            ],
            [
             0.6666666666666666,
             "#ed7953"
            ],
            [
             0.7777777777777778,
             "#fb9f3a"
            ],
            [
             0.8888888888888888,
             "#fdca26"
            ],
            [
             1,
             "#f0f921"
            ]
           ]
          },
          "colorway": [
           "#636efa",
           "#EF553B",
           "#00cc96",
           "#ab63fa",
           "#FFA15A",
           "#19d3f3",
           "#FF6692",
           "#B6E880",
           "#FF97FF",
           "#FECB52"
          ],
          "font": {
           "color": "#2a3f5f"
          },
          "geo": {
           "bgcolor": "white",
           "lakecolor": "white",
           "landcolor": "#E5ECF6",
           "showlakes": true,
           "showland": true,
           "subunitcolor": "white"
          },
          "hoverlabel": {
           "align": "left"
          },
          "hovermode": "closest",
          "mapbox": {
           "style": "light"
          },
          "paper_bgcolor": "white",
          "plot_bgcolor": "#E5ECF6",
          "polar": {
           "angularaxis": {
            "gridcolor": "white",
            "linecolor": "white",
            "ticks": ""
           },
           "bgcolor": "#E5ECF6",
           "radialaxis": {
            "gridcolor": "white",
            "linecolor": "white",
            "ticks": ""
           }
          },
          "scene": {
           "xaxis": {
            "backgroundcolor": "#E5ECF6",
            "gridcolor": "white",
            "gridwidth": 2,
            "linecolor": "white",
            "showbackground": true,
            "ticks": "",
            "zerolinecolor": "white"
           },
           "yaxis": {
            "backgroundcolor": "#E5ECF6",
            "gridcolor": "white",
            "gridwidth": 2,
            "linecolor": "white",
            "showbackground": true,
            "ticks": "",
            "zerolinecolor": "white"
           },
           "zaxis": {
            "backgroundcolor": "#E5ECF6",
            "gridcolor": "white",
            "gridwidth": 2,
            "linecolor": "white",
            "showbackground": true,
            "ticks": "",
            "zerolinecolor": "white"
           }
          },
          "shapedefaults": {
           "line": {
            "color": "#2a3f5f"
           }
          },
          "ternary": {
           "aaxis": {
            "gridcolor": "white",
            "linecolor": "white",
            "ticks": ""
           },
           "baxis": {
            "gridcolor": "white",
            "linecolor": "white",
            "ticks": ""
           },
           "bgcolor": "#E5ECF6",
           "caxis": {
            "gridcolor": "white",
            "linecolor": "white",
            "ticks": ""
           }
          },
          "title": {
           "x": 0.05
          },
          "xaxis": {
           "automargin": true,
           "gridcolor": "white",
           "linecolor": "white",
           "ticks": "",
           "title": {
            "standoff": 15
           },
           "zerolinecolor": "white",
           "zerolinewidth": 2
          },
          "yaxis": {
           "automargin": true,
           "gridcolor": "white",
           "linecolor": "white",
           "ticks": "",
           "title": {
            "standoff": 15
           },
           "zerolinecolor": "white",
           "zerolinewidth": 2
          }
         }
        },
        "title": {
         "text": "Box Plot Quantitative Variables"
        },
        "xaxis": {
         "anchor": "y",
         "domain": [
          0,
          0.1388888888888889
         ]
        },
        "xaxis2": {
         "anchor": "y2",
         "domain": [
          0.17222222222222222,
          0.3111111111111111
         ]
        },
        "xaxis3": {
         "anchor": "y3",
         "domain": [
          0.34444444444444444,
          0.48333333333333334
         ]
        },
        "xaxis4": {
         "anchor": "y4",
         "domain": [
          0.5166666666666667,
          0.6555555555555557
         ]
        },
        "xaxis5": {
         "anchor": "y5",
         "domain": [
          0.6888888888888889,
          0.8277777777777777
         ]
        },
        "xaxis6": {
         "anchor": "y6",
         "domain": [
          0.861111111111111,
          1
         ]
        },
        "yaxis": {
         "anchor": "x",
         "domain": [
          0,
          1
         ],
         "title": {
          "text": "Value Range"
         }
        },
        "yaxis2": {
         "anchor": "x2",
         "domain": [
          0,
          1
         ]
        },
        "yaxis3": {
         "anchor": "x3",
         "domain": [
          0,
          1
         ]
        },
        "yaxis4": {
         "anchor": "x4",
         "domain": [
          0,
          1
         ]
        },
        "yaxis5": {
         "anchor": "x5",
         "domain": [
          0,
          1
         ]
        },
        "yaxis6": {
         "anchor": "x6",
         "domain": [
          0,
          1
         ]
        }
       }
      },
      "text/html": [
       "<div>\n",
       "        \n",
       "        \n",
       "            <div id=\"9ffec774-b972-4391-a017-6f7c46ee33f9\" class=\"plotly-graph-div\" style=\"height:525px; width:100%;\"></div>\n",
       "            <script type=\"text/javascript\">\n",
       "                require([\"plotly\"], function(Plotly) {\n",
       "                    window.PLOTLYENV=window.PLOTLYENV || {};\n",
       "                    \n",
       "                if (document.getElementById(\"9ffec774-b972-4391-a017-6f7c46ee33f9\")) {\n",
       "                    Plotly.newPlot(\n",
       "                        '9ffec774-b972-4391-a017-6f7c46ee33f9',\n",
       "                        [{\"boxpoints\": \"outliers\", \"name\": \"population\", \"type\": \"box\", \"xaxis\": \"x\", \"y\": [27657145, 28875, 2886026, 40400000, 57100, 78014, 25868000, 13452, 1000, 86295, 43590400, 2994400, 107394, 24117360, 8725931, 9730500, 378040, 1404900, 161006790, 285000, 9498700, 11319511, 370300, 10653654, 61954, 775620, 10985059, 17408, 3531159, 2141206, 0, 206135893, 3000, 300, 28514, 114743, 411900, 7153784, 19034397, 10114505, 15626444, 22709892, 36155487, 531239, 58238, 4998000, 14497000, 18191900, 1377422166, 2072, 550, 48759958, 806153, 4741000, 85026000, 18100, 4890379, 4190669, 11239004, 154843, 847000, 10558524, 5717014, 900000, 71293, 10075045, 16545799, 91290000, 6520675, 1222442, 5352000, 1315944, 92206005, 2563, 49376, 867000, 5491817, 66710000, 254541, 271800, 140, 1802278, 1882450, 3720400, 81770900, 27670174, 33140, 10858018, 55847, 103328, 400132, 184200, 16176133, 62999, 12947000, 1547777, 746900, 11078033, 0, 451, 8576532, 7324300, 9823000, 334300, 1295210000, 258705000, 22671331, 79369900, 37883543, 6378000, 84497, 8527400, 60665551, 2723246, 126960000, 100800, 9531712, 17753200, 47251000, 113400, 4183658, 6047800, 6492400, 1961600, 5988000, 1894194, 4615000, 6385000, 37623, 2872294, 576200, 649100, 2058539, 22434363, 16832910, 31405416, 344023, 18135000, 425384, 54880, 378243, 3718678, 1262879, 226915, 122273473, 102800, 3553100, 38400, 3093100, 621810, 4922, 33337529, 26423700, 51419420, 2324388, 10084, 28431500, 17019800, 268767, 4697854, 6262703, 20715000, 186988000, 1470, 2302, 25281000, 56940, 5223256, 4420133, 194125062, 17950, 4682467, 3814672, 8083700, 6854536, 31488700, 103279800, 56, 38437239, 10374822, 3474182, 2587564, 1733842, 840974, 19861408, 146599183, 11553188, 9417, 4255, 46204, 186000, 36979, 6069, 109991, 194899, 33005, 187356, 32248200, 14799859, 7076372, 91400, 7075641, 5535000, 38247, 5426252, 2064188, 642000, 11079000, 55653654, 30, 50801405, 12131000, 46438422, 20966000, 39598700, 541638, 2562, 1132657, 9894888, 8341600, 18564000, 23503349, 8593600, 55155000, 65327652, 1167242, 7143000, 1411, 103252, 1349667, 11154400, 78741053, 4751120, 31458, 10640, 33860700, 42692393, 9856000, 65110000, 323947000, 3480222, 31576400, 277500, 31028700, 92700000, 11750, 510713, 27478000, 15933883, 14240168], \"yaxis\": \"y\"}, {\"boxpoints\": \"outliers\", \"name\": \"area\", \"type\": \"box\", \"xaxis\": \"x2\", \"y\": [652230.0, 1580.0, 28748.0, 2381741.0, 199.0, 468.0, 1246700.0, 91.0, 14000000.0, 442.0, 2780400.0, 29743.0, 180.0, 7692024.0, 83871.0, 86600.0, 13943.0, 765.0, 147570.0, 430.0, 207600.0, 30528.0, 22966.0, 112622.0, 54.0, 38394.0, 1098581.0, 294.0, 51209.0, 582000.0, 49.0, 8515767.0, 60.0, 34.2, 151.0, 346.36, 5765.0, 110879.0, 272967.0, 27834.0, 181035.0, 475442.0, 9984670.0, 4033.0, 264.0, 622984.0, 1284000.0, 756102.0, 9640011.0, 135.0, 14.0, 1141748.0, 1862.0, 342000.0, 2344858.0, 236.0, 51100.0, 56594.0, 109884.0, 444.0, 9251.0, 78865.0, 43094.0, 23200.0, 751.0, 48671.0, 276841.0, 1002450.0, 21041.0, 28051.0, 117600.0, 45227.0, 1104300.0, 12173.0, 1393.0, 18272.0, 338424.0, 640679.0, 83534.0, 4167.0, 7747.0, 267668.0, 11295.0, 69700.0, 357114.0, 238533.0, 6.0, 131990.0, 2166086.0, 344.0, 1628.0, 549.0, 108889.0, 78.0, 245857.0, 36125.0, 214969.0, 27750.0, 412.0, 0.44, 112492.0, 1104.0, 93028.0, 103000.0, 3287590.0, 1904569.0, 322463.0, 1648195.0, 438317.0, 70273.0, 572.0, 20770.0, 301336.0, 10991.0, 377930.0, 116.0, 89342.0, 2724900.0, 580367.0, 811.0, 17818.0, 199951.0, 236800.0, 64559.0, 10452.0, 30355.0, 111369.0, 1759540.0, 160.0, 65300.0, 2586.0, 30.0, 25713.0, 587041.0, 118484.0, 330803.0, 300.0, 1240192.0, 316.0, 181.0, 1128.0, 1030700.0, 2040.0, 374.0, 1964375.0, 702.0, 33846.0, 2.02, 1564110.0, 13812.0, 102.0, 446550.0, 801590.0, 676578.0, 825615.0, 21.0, 147181.0, 41850.0, 18575.0, 270467.0, 130373.0, 1267000.0, 923768.0, 260.0, 36.0, 120538.0, 464.0, 323802.0, 309500.0, 881912.0, 459.0, 6020.0, 75417.0, 462840.0, 406752.0, 1285216.0, 342353.0, 47.0, 312679.0, 92090.0, 8870.0, 11586.0, 10908.0, 2511.0, 238391.0, 17124442.0, 26338.0, 21.0, 394.0, 261.0, 616.0, 53.0, 242.0, 389.0, 2842.0, 61.0, 964.0, 2149690.0, 196722.0, 88361.0, 452.0, 71740.0, 710.0, 34.0, 49037.0, 20273.0, 28896.0, 637657.0, 1221037.0, 3903.0, 100210.0, 619745.0, 505992.0, 65610.0, 1886068.0, 163820.0, 377.0, 17364.0, 450295.0, 41284.0, 185180.0, 36193.0, 143100.0, 945087.0, 513120.0, 14874.0, 56785.0, 12.0, 747.0, 5130.0, 163610.0, 783562.0, 488100.0, 948.0, 26.0, 241550.0, 603700.0, 83600.0, 242900.0, 9629091.0, 181034.0, 447400.0, 12189.0, 916445.0, 331212.0, 142.0, 266000.0, 527968.0, 752612.0, 390757.0], \"yaxis\": \"y2\"}, {\"boxpoints\": \"outliers\", \"name\": \"popDensity\", \"type\": \"box\", \"xaxis\": \"x3\", \"y\": [42.40397559143247, 18.275316455696203, 100.39049673020732, 16.962381719926725, 286.93467336683415, 166.6965811965812, 20.7491778294698, 147.82417582417582, 7.142857142857143e-05, 195.23755656108597, 15.677744209466264, 100.6757892613388, 596.6333333333333, 3.135372432535312, 104.03990652311288, 112.36143187066975, 27.113246790504196, 1836.4705882352941, 1091.053669445009, 662.7906976744187, 45.75481695568401, 370.79110980083857, 16.123835234694766, 94.5965619505958, 1147.2962962962963, 20.201593999062354, 9.999316390871497, 59.2108843537415, 68.95582807709582, 3.6790481099656356, 0.0, 24.20638011819722, 50.0, 8.771929824561402, 188.83443708609272, 331.2824806559649, 71.44839549002602, 64.51883584808665, 69.73149501588104, 363.3866853488539, 86.3172535697517, 47.765851565490635, 3.6210998460640162, 131.72303496156707, 220.59848484848484, 8.022677949995506, 11.290498442367602, 24.060113582558966, 142.88595376084115, 15.348148148148148, 39.285714285714285, 42.70640982073102, 432.9500537056928, 13.862573099415204, 36.26061791375, 76.69491525423729, 95.70213307240705, 74.04793794395165, 102.28062320265006, 348.7454954954955, 91.5576694411415, 133.88098649591075, 132.66380470599157, 38.793103448275865, 94.93075898801598, 207.00304082513202, 59.766432717697164, 91.066886128984, 309.9032840644456, 43.579266336315996, 45.51020408163265, 29.096424702058506, 83.49724259712035, 0.21054793395218926, 35.44580043072505, 47.44964973730298, 16.227622745431766, 104.12390604343204, 3.047154452079393, 65.2267818574514, 0.01807151155285917, 6.733259112034311, 166.6622399291722, 53.377331420373025, 228.97702134332454, 116.00145053304993, 5523.333333333333, 82.26394423819987, 0.02578244815764471, 300.3720930232558, 245.78132678132678, 335.5191256830601, 148.55617188145726, 807.6794871794872, 52.660693004470076, 42.845038062283734, 3.4744544562239206, 399.2083963963964, 0.0, 1025.0, 76.24126160082494, 6634.329710144928, 105.59186481489444, 3.245631067961165, 393.96944266164576, 135.83388157635665, 70.30676697791685, 48.15564905851553, 86.42955440925175, 90.76032046447426, 147.72202797202797, 410.5633124699085, 201.32194958451694, 247.77053953234466, 335.9352261000714, 868.9655172413793, 106.6879183362808, 6.515174868802525, 81.41572487753439, 139.82737361282366, 234.79952856661802, 30.246410370540783, 27.41722972972973, 30.384609427035734, 572.9047072330654, 62.40138362707956, 41.43882049762501, 3.6287893426691067, 235.14375, 43.986125574272585, 222.81515854601702, 21636.666666666668, 80.0582973593124, 38.21600705913215, 142.06905573748355, 94.93691411504733, 1146.7433333333333, 14.62273583445144, 1346.1518987341772, 303.2044198895028, 335.3218085106383, 3.607915009217037, 619.0583333333333, 606.7245989304813, 62.245484187082404, 146.43874643874645, 104.97843172014419, 19009.90099009901, 1.9775463362551227, 45.01954821894005, 48.254901960784316, 74.65575859366253, 32.96410883369303, 75.99924916269816, 2.81534129103759, 480.1904761904762, 193.17371128066802, 406.6857825567503, 14.4692866756393, 17.369416601655654, 48.03680976889387, 16.349644830307813, 202.41878913320227, 5.653846153846154, 63.94444444444444, 209.73468947551808, 122.71551724137932, 16.131018338367273, 14.281528271405493, 220.1184041038108, 39.106753812636164, 777.818438538206, 50.58106262513757, 17.465430818425375, 16.851880261191095, 24.500706496028684, 301.67633991815467, 1.1914893617021276, 122.92875121130616, 112.65959387555652, 391.67779030439686, 223.3354047988952, 158.95141180784745, 334.91596973317405, 83.31442042694565, 8.560815178678522, 438.65092262130764, 448.42857142857144, 10.799492385786802, 177.02681992337165, 301.94805194805195, 697.7169811320755, 25.078512396694215, 282.75321336760925, 68.57811400422239, 541.0655737704918, 194.35269709543567, 15.001325772553251, 75.2323532700969, 80.08478853792963, 202.21238938053096, 98.62895177028157, 7795.774647887324, 1124.9117647058824, 110.65627995187307, 101.81956296552065, 22.217607973421927, 17.374544621951927, 45.57900702435717, 0.007686395080707148, 506.9494561421016, 19.574179702942338, 91.77698856898924, 319.55494589239447, 20.995372383180246, 3.3062995971187887, 6.795755968169761, 65.23018889656761, 21.97423466838406, 202.05406452863096, 100.24840695539476, 649.3893570579946, 60.053109713487075, 58.359706566697035, 127.31456969130028, 78.47532607234099, 125.79026151272343, 117.58333333333333, 138.22222222222223, 263.09298245614036, 68.17676181162521, 100.49115832569727, 9.733906986273304, 33.18354430379747, 409.2307692307692, 140.18091492444628, 70.71789464966042, 117.89473684210526, 268.05269658295595, 33.64253178207579, 19.22413469293061, 70.5775592311131, 22.76642874723111, 33.85767831130073, 279.881163725952, 82.74647887323944, 1.9199736842105264, 52.04482089823626, 21.171444250158117, 36.44251542518752], \"yaxis\": \"y3\"}, {\"boxpoints\": \"outliers\", \"name\": \"gini\", \"type\": \"box\", \"xaxis\": \"x4\", \"y\": [27.8, null, 34.5, 35.3, null, null, 58.6, null, null, null, 44.5, 30.9, null, 30.5, 26.0, 33.7, null, null, 32.1, null, 26.5, 33.0, 53.1, 38.6, null, 38.1, 56.3, null, 36.2, 61.0, null, 54.7, null, null, null, null, null, 28.2, 39.8, 33.3, 37.9, 38.9, 32.6, 50.5, null, 56.3, 39.8, 52.1, 47.0, null, null, 55.9, 64.3, 47.3, null, null, 50.7, 33.7, null, null, null, 26.0, 24.0, 40.0, null, 47.2, 49.3, 30.8, 48.3, null, null, 36.0, 29.8, null, null, 42.8, 26.9, 32.7, null, null, null, 41.5, null, 41.3, 28.3, 42.8, null, 34.3, null, null, null, null, 55.9, null, 39.4, 35.5, 44.5, 59.2, null, null, 57.0, 53.3, 31.2, null, 33.4, 34.0, 41.5, 38.3, 30.9, 34.3, null, 39.2, 36.0, 45.5, 38.1, null, 35.4, 29.0, 47.7, null, null, 36.2, 36.7, 36.6, null, 52.5, 38.2, null, null, 37.6, 30.8, null, 43.2, 44.1, 39.0, 46.2, 37.4, 33.0, null, null, null, 40.5, null, null, 47.0, null, 33.0, null, 36.5, 30.0, null, 40.9, 45.7, null, 63.9, null, 32.8, 30.9, null, 36.2, 40.5, 34.6, 48.8, null, null, null, null, 25.8, null, 30.0, null, 35.5, 51.9, 50.9, 52.4, 48.1, 43.0, null, 34.1, 38.5, null, 41.1, null, null, 30.0, 40.1, 50.8, null, null, null, 42.6, null, null, null, null, null, 50.8, null, 39.2, 27.8, 65.8, 42.5, 48.1, null, 26.0, 31.2, null, null, 63.1, null, 31.3, 45.5, 34.7, 40.3, 35.3, 52.9, null, 51.5, 25.0, 33.7, 35.8, null, 30.8, 37.6, 40.0, 31.9, 34.4, null, null, 40.3, 41.4, 39.0, 40.8, null, null, 44.3, 26.4, null, 34.0, 48.0, 39.7, 36.7, null, 44.8, 35.6, null, null, 37.7, 54.6, null], \"yaxis\": \"y4\"}, {\"boxpoints\": \"outliers\", \"name\": \"borders_count\", \"type\": \"box\", \"xaxis\": \"x5\", \"y\": [6, 0, 4, 7, 0, 2, 4, 0, 0, 0, 5, 4, 0, 0, 8, 5, 0, 0, 2, 0, 5, 4, 2, 4, 0, 2, 5, 0, 3, 4, 0, 10, 0, 0, 0, 0, 1, 5, 6, 3, 3, 6, 1, 0, 0, 6, 6, 3, 15, 0, 0, 5, 0, 5, 9, 0, 2, 5, 0, 0, 1, 4, 1, 3, 0, 1, 2, 3, 2, 2, 3, 2, 6, 0, 0, 0, 3, 8, 2, 0, 0, 3, 1, 4, 9, 3, 1, 4, 0, 0, 0, 0, 4, 0, 6, 2, 3, 1, 0, 1, 3, 1, 7, 0, 8, 3, 5, 7, 6, 1, 0, 4, 6, 0, 0, 0, 4, 5, 5, 0, 2, 4, 5, 4, 2, 1, 3, 6, 2, 4, 3, 1, 5, 0, 3, 3, 0, 7, 0, 0, 0, 4, 0, 0, 3, 0, 2, 1, 2, 5, 0, 3, 6, 5, 4, 0, 2, 2, 0, 0, 2, 7, 4, 0, 0, 3, 0, 3, 3, 4, 0, 3, 2, 1, 3, 5, 0, 0, 7, 1, 0, 1, 4, 0, 5, 14, 4, 0, 0, 0, 0, 2, 0, 0, 0, 1, 0, 7, 5, 8, 0, 2, 0, 1, 5, 4, 0, 3, 6, 0, 1, 6, 5, 1, 7, 4, 0, 2, 2, 5, 5, 0, 4, 8, 4, 1, 3, 0, 0, 0, 2, 8, 4, 0, 0, 5, 7, 2, 1, 2, 2, 5, 0, 3, 3, 0, 3, 2, 8, 4], \"yaxis\": \"y5\"}, {\"boxpoints\": \"outliers\", \"name\": \"languages_count\", \"type\": \"box\", \"xaxis\": \"x6\", \"y\": [3, 1, 1, 1, 2, 1, 1, 1, 2, 1, 2, 2, 2, 1, 1, 1, 1, 1, 1, 1, 2, 3, 2, 1, 1, 1, 3, 1, 3, 2, 3, 1, 1, 1, 1, 1, 1, 1, 2, 2, 1, 2, 2, 1, 1, 2, 2, 1, 1, 1, 1, 1, 2, 2, 5, 1, 1, 1, 1, 3, 3, 2, 1, 2, 1, 1, 1, 1, 1, 2, 3, 1, 1, 1, 1, 4, 2, 1, 1, 1, 1, 1, 1, 1, 1, 1, 1, 1, 1, 1, 1, 3, 1, 2, 2, 1, 1, 2, 1, 4, 1, 2, 1, 1, 2, 1, 1, 1, 2, 2, 2, 2, 1, 1, 1, 2, 1, 2, 2, 1, 1, 2, 1, 1, 2, 2, 1, 1, 1, 1, 3, 2, 1, 2, 2, 1, 1, 1, 2, 2, 1, 1, 1, 1, 1, 1, 1, 1, 1, 4, 1, 1, 1, 1, 2, 2, 1, 1, 1, 2, 1, 1, 1, 1, 1, 1, 2, 3, 1, 2, 1, 1, 1, 1, 2, 1, 1, 1, 1, 1, 2, 1, 2, 1, 1, 1, 3, 1, 1, 1, 1, 3, 1, 1, 2, 1, 1, 1, 1, 1, 2, 1, 4, 2, 1, 1, 1, 2, 10, 1, 1, 1, 1, 2, 2, 1, 1, 2, 1, 3, 1, 1, 2, 2, 1, 1, 1, 1, 2, 1, 1, 1, 2, 1, 1, 2, 1, 1, 1, 1, 1, 2, 3, 1, 1, 1, 1, 1, 1, 3], \"yaxis\": \"y6\"}],\n",
       "                        {\"template\": {\"data\": {\"bar\": [{\"error_x\": {\"color\": \"#2a3f5f\"}, \"error_y\": {\"color\": \"#2a3f5f\"}, \"marker\": {\"line\": {\"color\": \"#E5ECF6\", \"width\": 0.5}}, \"type\": \"bar\"}], \"barpolar\": [{\"marker\": {\"line\": {\"color\": \"#E5ECF6\", \"width\": 0.5}}, \"type\": \"barpolar\"}], \"carpet\": [{\"aaxis\": {\"endlinecolor\": \"#2a3f5f\", \"gridcolor\": \"white\", \"linecolor\": \"white\", \"minorgridcolor\": \"white\", \"startlinecolor\": \"#2a3f5f\"}, \"baxis\": {\"endlinecolor\": \"#2a3f5f\", \"gridcolor\": \"white\", \"linecolor\": \"white\", \"minorgridcolor\": \"white\", \"startlinecolor\": \"#2a3f5f\"}, \"type\": \"carpet\"}], \"choropleth\": [{\"colorbar\": {\"outlinewidth\": 0, \"ticks\": \"\"}, \"type\": \"choropleth\"}], \"contour\": [{\"colorbar\": {\"outlinewidth\": 0, \"ticks\": \"\"}, \"colorscale\": [[0.0, \"#0d0887\"], [0.1111111111111111, \"#46039f\"], [0.2222222222222222, \"#7201a8\"], [0.3333333333333333, \"#9c179e\"], [0.4444444444444444, \"#bd3786\"], [0.5555555555555556, \"#d8576b\"], [0.6666666666666666, \"#ed7953\"], [0.7777777777777778, \"#fb9f3a\"], [0.8888888888888888, \"#fdca26\"], [1.0, \"#f0f921\"]], \"type\": \"contour\"}], \"contourcarpet\": [{\"colorbar\": {\"outlinewidth\": 0, \"ticks\": \"\"}, \"type\": \"contourcarpet\"}], \"heatmap\": [{\"colorbar\": {\"outlinewidth\": 0, \"ticks\": \"\"}, \"colorscale\": [[0.0, \"#0d0887\"], [0.1111111111111111, \"#46039f\"], [0.2222222222222222, \"#7201a8\"], [0.3333333333333333, \"#9c179e\"], [0.4444444444444444, \"#bd3786\"], [0.5555555555555556, \"#d8576b\"], [0.6666666666666666, \"#ed7953\"], [0.7777777777777778, \"#fb9f3a\"], [0.8888888888888888, \"#fdca26\"], [1.0, \"#f0f921\"]], \"type\": \"heatmap\"}], \"heatmapgl\": [{\"colorbar\": {\"outlinewidth\": 0, \"ticks\": \"\"}, \"colorscale\": [[0.0, \"#0d0887\"], [0.1111111111111111, \"#46039f\"], [0.2222222222222222, \"#7201a8\"], [0.3333333333333333, \"#9c179e\"], [0.4444444444444444, \"#bd3786\"], [0.5555555555555556, \"#d8576b\"], [0.6666666666666666, \"#ed7953\"], [0.7777777777777778, \"#fb9f3a\"], [0.8888888888888888, \"#fdca26\"], [1.0, \"#f0f921\"]], \"type\": \"heatmapgl\"}], \"histogram\": [{\"marker\": {\"colorbar\": {\"outlinewidth\": 0, \"ticks\": \"\"}}, \"type\": \"histogram\"}], \"histogram2d\": [{\"colorbar\": {\"outlinewidth\": 0, \"ticks\": \"\"}, \"colorscale\": [[0.0, \"#0d0887\"], [0.1111111111111111, \"#46039f\"], [0.2222222222222222, \"#7201a8\"], [0.3333333333333333, \"#9c179e\"], [0.4444444444444444, \"#bd3786\"], [0.5555555555555556, \"#d8576b\"], [0.6666666666666666, \"#ed7953\"], [0.7777777777777778, \"#fb9f3a\"], [0.8888888888888888, \"#fdca26\"], [1.0, \"#f0f921\"]], \"type\": \"histogram2d\"}], \"histogram2dcontour\": [{\"colorbar\": {\"outlinewidth\": 0, \"ticks\": \"\"}, \"colorscale\": [[0.0, \"#0d0887\"], [0.1111111111111111, \"#46039f\"], [0.2222222222222222, \"#7201a8\"], [0.3333333333333333, \"#9c179e\"], [0.4444444444444444, \"#bd3786\"], [0.5555555555555556, \"#d8576b\"], [0.6666666666666666, \"#ed7953\"], [0.7777777777777778, \"#fb9f3a\"], [0.8888888888888888, \"#fdca26\"], [1.0, \"#f0f921\"]], \"type\": \"histogram2dcontour\"}], \"mesh3d\": [{\"colorbar\": {\"outlinewidth\": 0, \"ticks\": \"\"}, \"type\": \"mesh3d\"}], \"parcoords\": [{\"line\": {\"colorbar\": {\"outlinewidth\": 0, \"ticks\": \"\"}}, \"type\": \"parcoords\"}], \"pie\": [{\"automargin\": true, \"type\": \"pie\"}], \"scatter\": [{\"marker\": {\"colorbar\": {\"outlinewidth\": 0, \"ticks\": \"\"}}, \"type\": \"scatter\"}], \"scatter3d\": [{\"line\": {\"colorbar\": {\"outlinewidth\": 0, \"ticks\": \"\"}}, \"marker\": {\"colorbar\": {\"outlinewidth\": 0, \"ticks\": \"\"}}, \"type\": \"scatter3d\"}], \"scattercarpet\": [{\"marker\": {\"colorbar\": {\"outlinewidth\": 0, \"ticks\": \"\"}}, \"type\": \"scattercarpet\"}], \"scattergeo\": [{\"marker\": {\"colorbar\": {\"outlinewidth\": 0, \"ticks\": \"\"}}, \"type\": \"scattergeo\"}], \"scattergl\": [{\"marker\": {\"colorbar\": {\"outlinewidth\": 0, \"ticks\": \"\"}}, \"type\": \"scattergl\"}], \"scattermapbox\": [{\"marker\": {\"colorbar\": {\"outlinewidth\": 0, \"ticks\": \"\"}}, \"type\": \"scattermapbox\"}], \"scatterpolar\": [{\"marker\": {\"colorbar\": {\"outlinewidth\": 0, \"ticks\": \"\"}}, \"type\": \"scatterpolar\"}], \"scatterpolargl\": [{\"marker\": {\"colorbar\": {\"outlinewidth\": 0, \"ticks\": \"\"}}, \"type\": \"scatterpolargl\"}], \"scatterternary\": [{\"marker\": {\"colorbar\": {\"outlinewidth\": 0, \"ticks\": \"\"}}, \"type\": \"scatterternary\"}], \"surface\": [{\"colorbar\": {\"outlinewidth\": 0, \"ticks\": \"\"}, \"colorscale\": [[0.0, \"#0d0887\"], [0.1111111111111111, \"#46039f\"], [0.2222222222222222, \"#7201a8\"], [0.3333333333333333, \"#9c179e\"], [0.4444444444444444, \"#bd3786\"], [0.5555555555555556, \"#d8576b\"], [0.6666666666666666, \"#ed7953\"], [0.7777777777777778, \"#fb9f3a\"], [0.8888888888888888, \"#fdca26\"], [1.0, \"#f0f921\"]], \"type\": \"surface\"}], \"table\": [{\"cells\": {\"fill\": {\"color\": \"#EBF0F8\"}, \"line\": {\"color\": \"white\"}}, \"header\": {\"fill\": {\"color\": \"#C8D4E3\"}, \"line\": {\"color\": \"white\"}}, \"type\": \"table\"}]}, \"layout\": {\"annotationdefaults\": {\"arrowcolor\": \"#2a3f5f\", \"arrowhead\": 0, \"arrowwidth\": 1}, \"coloraxis\": {\"colorbar\": {\"outlinewidth\": 0, \"ticks\": \"\"}}, \"colorscale\": {\"diverging\": [[0, \"#8e0152\"], [0.1, \"#c51b7d\"], [0.2, \"#de77ae\"], [0.3, \"#f1b6da\"], [0.4, \"#fde0ef\"], [0.5, \"#f7f7f7\"], [0.6, \"#e6f5d0\"], [0.7, \"#b8e186\"], [0.8, \"#7fbc41\"], [0.9, \"#4d9221\"], [1, \"#276419\"]], \"sequential\": [[0.0, \"#0d0887\"], [0.1111111111111111, \"#46039f\"], [0.2222222222222222, \"#7201a8\"], [0.3333333333333333, \"#9c179e\"], [0.4444444444444444, \"#bd3786\"], [0.5555555555555556, \"#d8576b\"], [0.6666666666666666, \"#ed7953\"], [0.7777777777777778, \"#fb9f3a\"], [0.8888888888888888, \"#fdca26\"], [1.0, \"#f0f921\"]], \"sequentialminus\": [[0.0, \"#0d0887\"], [0.1111111111111111, \"#46039f\"], [0.2222222222222222, \"#7201a8\"], [0.3333333333333333, \"#9c179e\"], [0.4444444444444444, \"#bd3786\"], [0.5555555555555556, \"#d8576b\"], [0.6666666666666666, \"#ed7953\"], [0.7777777777777778, \"#fb9f3a\"], [0.8888888888888888, \"#fdca26\"], [1.0, \"#f0f921\"]]}, \"colorway\": [\"#636efa\", \"#EF553B\", \"#00cc96\", \"#ab63fa\", \"#FFA15A\", \"#19d3f3\", \"#FF6692\", \"#B6E880\", \"#FF97FF\", \"#FECB52\"], \"font\": {\"color\": \"#2a3f5f\"}, \"geo\": {\"bgcolor\": \"white\", \"lakecolor\": \"white\", \"landcolor\": \"#E5ECF6\", \"showlakes\": true, \"showland\": true, \"subunitcolor\": \"white\"}, \"hoverlabel\": {\"align\": \"left\"}, \"hovermode\": \"closest\", \"mapbox\": {\"style\": \"light\"}, \"paper_bgcolor\": \"white\", \"plot_bgcolor\": \"#E5ECF6\", \"polar\": {\"angularaxis\": {\"gridcolor\": \"white\", \"linecolor\": \"white\", \"ticks\": \"\"}, \"bgcolor\": \"#E5ECF6\", \"radialaxis\": {\"gridcolor\": \"white\", \"linecolor\": \"white\", \"ticks\": \"\"}}, \"scene\": {\"xaxis\": {\"backgroundcolor\": \"#E5ECF6\", \"gridcolor\": \"white\", \"gridwidth\": 2, \"linecolor\": \"white\", \"showbackground\": true, \"ticks\": \"\", \"zerolinecolor\": \"white\"}, \"yaxis\": {\"backgroundcolor\": \"#E5ECF6\", \"gridcolor\": \"white\", \"gridwidth\": 2, \"linecolor\": \"white\", \"showbackground\": true, \"ticks\": \"\", \"zerolinecolor\": \"white\"}, \"zaxis\": {\"backgroundcolor\": \"#E5ECF6\", \"gridcolor\": \"white\", \"gridwidth\": 2, \"linecolor\": \"white\", \"showbackground\": true, \"ticks\": \"\", \"zerolinecolor\": \"white\"}}, \"shapedefaults\": {\"line\": {\"color\": \"#2a3f5f\"}}, \"ternary\": {\"aaxis\": {\"gridcolor\": \"white\", \"linecolor\": \"white\", \"ticks\": \"\"}, \"baxis\": {\"gridcolor\": \"white\", \"linecolor\": \"white\", \"ticks\": \"\"}, \"bgcolor\": \"#E5ECF6\", \"caxis\": {\"gridcolor\": \"white\", \"linecolor\": \"white\", \"ticks\": \"\"}}, \"title\": {\"x\": 0.05}, \"xaxis\": {\"automargin\": true, \"gridcolor\": \"white\", \"linecolor\": \"white\", \"ticks\": \"\", \"title\": {\"standoff\": 15}, \"zerolinecolor\": \"white\", \"zerolinewidth\": 2}, \"yaxis\": {\"automargin\": true, \"gridcolor\": \"white\", \"linecolor\": \"white\", \"ticks\": \"\", \"title\": {\"standoff\": 15}, \"zerolinecolor\": \"white\", \"zerolinewidth\": 2}}}, \"title\": {\"text\": \"Box Plot Quantitative Variables\"}, \"xaxis\": {\"anchor\": \"y\", \"domain\": [0.0, 0.1388888888888889]}, \"xaxis2\": {\"anchor\": \"y2\", \"domain\": [0.17222222222222222, 0.3111111111111111]}, \"xaxis3\": {\"anchor\": \"y3\", \"domain\": [0.34444444444444444, 0.48333333333333334]}, \"xaxis4\": {\"anchor\": \"y4\", \"domain\": [0.5166666666666667, 0.6555555555555557]}, \"xaxis5\": {\"anchor\": \"y5\", \"domain\": [0.6888888888888889, 0.8277777777777777]}, \"xaxis6\": {\"anchor\": \"y6\", \"domain\": [0.861111111111111, 1.0]}, \"yaxis\": {\"anchor\": \"x\", \"domain\": [0.0, 1.0], \"title\": {\"text\": \"Value Range\"}}, \"yaxis2\": {\"anchor\": \"x2\", \"domain\": [0.0, 1.0]}, \"yaxis3\": {\"anchor\": \"x3\", \"domain\": [0.0, 1.0]}, \"yaxis4\": {\"anchor\": \"x4\", \"domain\": [0.0, 1.0]}, \"yaxis5\": {\"anchor\": \"x5\", \"domain\": [0.0, 1.0]}, \"yaxis6\": {\"anchor\": \"x6\", \"domain\": [0.0, 1.0]}},\n",
       "                        {\"responsive\": true}\n",
       "                    ).then(function(){\n",
       "                            \n",
       "var gd = document.getElementById('9ffec774-b972-4391-a017-6f7c46ee33f9');\n",
       "var x = new MutationObserver(function (mutations, observer) {{\n",
       "        var display = window.getComputedStyle(gd).display;\n",
       "        if (!display || display === 'none') {{\n",
       "            console.log([gd, 'removed!']);\n",
       "            Plotly.purge(gd);\n",
       "            observer.disconnect();\n",
       "        }}\n",
       "}});\n",
       "\n",
       "// Listen for the removal of the full notebook cells\n",
       "var notebookContainer = gd.closest('#notebook-container');\n",
       "if (notebookContainer) {{\n",
       "    x.observe(notebookContainer, {childList: true});\n",
       "}}\n",
       "\n",
       "// Listen for the clearing of the current output cell\n",
       "var outputEl = gd.closest('.output');\n",
       "if (outputEl) {{\n",
       "    x.observe(outputEl, {childList: true});\n",
       "}}\n",
       "\n",
       "                        })\n",
       "                };\n",
       "                });\n",
       "            </script>\n",
       "        </div>"
      ]
     },
     "metadata": {},
     "output_type": "display_data"
    }
   ],
   "source": [
    "\n",
    "fig = make_subplots(rows=1, cols=len(df.describe().columns))\n",
    "\n",
    "lst = df.describe().columns\n",
    "\n",
    "for i in range(len(lst)):\n",
    "    fig.add_trace(go.Box(y=df[lst[i]],\n",
    "                         name=lst[i],\n",
    "                         boxpoints='outliers'\n",
    "                        ), row=1, col=i+1)\n",
    "\n",
    "fig.update_layout(title_text=\"Box Plot Quantitative Variables\",\n",
    "                  yaxis_title_text='Value Range')\n",
    "fig.show()"
   ]
  },
  {
   "cell_type": "code",
   "execution_count": 351,
   "metadata": {},
   "outputs": [
    {
     "data": {
      "application/vnd.plotly.v1+json": {
       "config": {
        "plotlyServerURL": "https://plot.ly"
       },
       "data": [
        {
         "histnorm": "probability",
         "name": "population",
         "type": "histogram",
         "x": [
          27657145,
          28875,
          2886026,
          40400000,
          57100,
          78014,
          25868000,
          13452,
          1000,
          86295,
          43590400,
          2994400,
          107394,
          24117360,
          8725931,
          9730500,
          378040,
          1404900,
          161006790,
          285000,
          9498700,
          11319511,
          370300,
          10653654,
          61954,
          775620,
          10985059,
          17408,
          3531159,
          2141206,
          0,
          206135893,
          3000,
          300,
          28514,
          114743,
          411900,
          7153784,
          19034397,
          10114505,
          15626444,
          22709892,
          36155487,
          531239,
          58238,
          4998000,
          14497000,
          18191900,
          1377422166,
          2072,
          550,
          48759958,
          806153,
          4741000,
          85026000,
          18100,
          4890379,
          4190669,
          11239004,
          154843,
          847000,
          10558524,
          5717014,
          900000,
          71293,
          10075045,
          16545799,
          91290000,
          6520675,
          1222442,
          5352000,
          1315944,
          92206005,
          2563,
          49376,
          867000,
          5491817,
          66710000,
          254541,
          271800,
          140,
          1802278,
          1882450,
          3720400,
          81770900,
          27670174,
          33140,
          10858018,
          55847,
          103328,
          400132,
          184200,
          16176133,
          62999,
          12947000,
          1547777,
          746900,
          11078033,
          0,
          451,
          8576532,
          7324300,
          9823000,
          334300,
          1295210000,
          258705000,
          22671331,
          79369900,
          37883543,
          6378000,
          84497,
          8527400,
          60665551,
          2723246,
          126960000,
          100800,
          9531712,
          17753200,
          47251000,
          113400,
          4183658,
          6047800,
          6492400,
          1961600,
          5988000,
          1894194,
          4615000,
          6385000,
          37623,
          2872294,
          576200,
          649100,
          2058539,
          22434363,
          16832910,
          31405416,
          344023,
          18135000,
          425384,
          54880,
          378243,
          3718678,
          1262879,
          226915,
          122273473,
          102800,
          3553100,
          38400,
          3093100,
          621810,
          4922,
          33337529,
          26423700,
          51419420,
          2324388,
          10084,
          28431500,
          17019800,
          268767,
          4697854,
          6262703,
          20715000,
          186988000,
          1470,
          2302,
          25281000,
          56940,
          5223256,
          4420133,
          194125062,
          17950,
          4682467,
          3814672,
          8083700,
          6854536,
          31488700,
          103279800,
          56,
          38437239,
          10374822,
          3474182,
          2587564,
          1733842,
          840974,
          19861408,
          146599183,
          11553188,
          9417,
          4255,
          46204,
          186000,
          36979,
          6069,
          109991,
          194899,
          33005,
          187356,
          32248200,
          14799859,
          7076372,
          91400,
          7075641,
          5535000,
          38247,
          5426252,
          2064188,
          642000,
          11079000,
          55653654,
          30,
          50801405,
          12131000,
          46438422,
          20966000,
          39598700,
          541638,
          2562,
          1132657,
          9894888,
          8341600,
          18564000,
          23503349,
          8593600,
          55155000,
          65327652,
          1167242,
          7143000,
          1411,
          103252,
          1349667,
          11154400,
          78741053,
          4751120,
          31458,
          10640,
          33860700,
          42692393,
          9856000,
          65110000,
          323947000,
          3480222,
          31576400,
          277500,
          31028700,
          92700000,
          11750,
          510713,
          27478000,
          15933883,
          14240168
         ],
         "xaxis": "x",
         "yaxis": "y"
        },
        {
         "histnorm": "probability",
         "name": "area",
         "type": "histogram",
         "x": [
          652230,
          1580,
          28748,
          2381741,
          199,
          468,
          1246700,
          91,
          14000000,
          442,
          2780400,
          29743,
          180,
          7692024,
          83871,
          86600,
          13943,
          765,
          147570,
          430,
          207600,
          30528,
          22966,
          112622,
          54,
          38394,
          1098581,
          294,
          51209,
          582000,
          49,
          8515767,
          60,
          34.2,
          151,
          346.36,
          5765,
          110879,
          272967,
          27834,
          181035,
          475442,
          9984670,
          4033,
          264,
          622984,
          1284000,
          756102,
          9640011,
          135,
          14,
          1141748,
          1862,
          342000,
          2344858,
          236,
          51100,
          56594,
          109884,
          444,
          9251,
          78865,
          43094,
          23200,
          751,
          48671,
          276841,
          1002450,
          21041,
          28051,
          117600,
          45227,
          1104300,
          12173,
          1393,
          18272,
          338424,
          640679,
          83534,
          4167,
          7747,
          267668,
          11295,
          69700,
          357114,
          238533,
          6,
          131990,
          2166086,
          344,
          1628,
          549,
          108889,
          78,
          245857,
          36125,
          214969,
          27750,
          412,
          0.44,
          112492,
          1104,
          93028,
          103000,
          3287590,
          1904569,
          322463,
          1648195,
          438317,
          70273,
          572,
          20770,
          301336,
          10991,
          377930,
          116,
          89342,
          2724900,
          580367,
          811,
          17818,
          199951,
          236800,
          64559,
          10452,
          30355,
          111369,
          1759540,
          160,
          65300,
          2586,
          30,
          25713,
          587041,
          118484,
          330803,
          300,
          1240192,
          316,
          181,
          1128,
          1030700,
          2040,
          374,
          1964375,
          702,
          33846,
          2.02,
          1564110,
          13812,
          102,
          446550,
          801590,
          676578,
          825615,
          21,
          147181,
          41850,
          18575,
          270467,
          130373,
          1267000,
          923768,
          260,
          36,
          120538,
          464,
          323802,
          309500,
          881912,
          459,
          6020,
          75417,
          462840,
          406752,
          1285216,
          342353,
          47,
          312679,
          92090,
          8870,
          11586,
          10908,
          2511,
          238391,
          17124442,
          26338,
          21,
          394,
          261,
          616,
          53,
          242,
          389,
          2842,
          61,
          964,
          2149690,
          196722,
          88361,
          452,
          71740,
          710,
          34,
          49037,
          20273,
          28896,
          637657,
          1221037,
          3903,
          100210,
          619745,
          505992,
          65610,
          1886068,
          163820,
          377,
          17364,
          450295,
          41284,
          185180,
          36193,
          143100,
          945087,
          513120,
          14874,
          56785,
          12,
          747,
          5130,
          163610,
          783562,
          488100,
          948,
          26,
          241550,
          603700,
          83600,
          242900,
          9629091,
          181034,
          447400,
          12189,
          916445,
          331212,
          142,
          266000,
          527968,
          752612,
          390757
         ],
         "xaxis": "x2",
         "yaxis": "y2"
        },
        {
         "histnorm": "probability",
         "name": "popDensity",
         "type": "histogram",
         "x": [
          42.40397559143247,
          18.275316455696203,
          100.39049673020732,
          16.962381719926725,
          286.93467336683415,
          166.6965811965812,
          20.7491778294698,
          147.82417582417582,
          7.142857142857143e-05,
          195.23755656108597,
          15.677744209466264,
          100.6757892613388,
          596.6333333333333,
          3.135372432535312,
          104.03990652311288,
          112.36143187066975,
          27.113246790504196,
          1836.4705882352941,
          1091.053669445009,
          662.7906976744187,
          45.75481695568401,
          370.79110980083857,
          16.123835234694766,
          94.5965619505958,
          1147.2962962962963,
          20.201593999062354,
          9.999316390871497,
          59.2108843537415,
          68.95582807709582,
          3.6790481099656356,
          0,
          24.20638011819722,
          50,
          8.771929824561402,
          188.83443708609272,
          331.2824806559649,
          71.44839549002602,
          64.51883584808665,
          69.73149501588104,
          363.3866853488539,
          86.3172535697517,
          47.765851565490635,
          3.6210998460640162,
          131.72303496156707,
          220.59848484848484,
          8.022677949995506,
          11.290498442367602,
          24.060113582558966,
          142.88595376084115,
          15.348148148148148,
          39.285714285714285,
          42.70640982073102,
          432.9500537056928,
          13.862573099415204,
          36.26061791375,
          76.69491525423729,
          95.70213307240705,
          74.04793794395165,
          102.28062320265006,
          348.7454954954955,
          91.5576694411415,
          133.88098649591075,
          132.66380470599157,
          38.793103448275865,
          94.93075898801598,
          207.00304082513202,
          59.766432717697164,
          91.066886128984,
          309.9032840644456,
          43.579266336315996,
          45.51020408163265,
          29.096424702058506,
          83.49724259712035,
          0.21054793395218926,
          35.44580043072505,
          47.44964973730298,
          16.227622745431766,
          104.12390604343204,
          3.047154452079393,
          65.2267818574514,
          0.01807151155285917,
          6.733259112034311,
          166.6622399291722,
          53.377331420373025,
          228.97702134332454,
          116.00145053304993,
          5523.333333333333,
          82.26394423819987,
          0.02578244815764471,
          300.3720930232558,
          245.78132678132678,
          335.5191256830601,
          148.55617188145726,
          807.6794871794872,
          52.660693004470076,
          42.845038062283734,
          3.4744544562239206,
          399.2083963963964,
          0,
          1025,
          76.24126160082494,
          6634.329710144928,
          105.59186481489444,
          3.245631067961165,
          393.96944266164576,
          135.83388157635665,
          70.30676697791685,
          48.15564905851553,
          86.42955440925175,
          90.76032046447426,
          147.72202797202797,
          410.5633124699085,
          201.32194958451694,
          247.77053953234466,
          335.9352261000714,
          868.9655172413793,
          106.6879183362808,
          6.515174868802525,
          81.41572487753439,
          139.82737361282366,
          234.79952856661802,
          30.246410370540783,
          27.41722972972973,
          30.384609427035734,
          572.9047072330654,
          62.40138362707956,
          41.43882049762501,
          3.6287893426691067,
          235.14375,
          43.986125574272585,
          222.81515854601702,
          21636.666666666668,
          80.0582973593124,
          38.21600705913215,
          142.06905573748355,
          94.93691411504733,
          1146.7433333333333,
          14.62273583445144,
          1346.1518987341772,
          303.2044198895028,
          335.3218085106383,
          3.607915009217037,
          619.0583333333333,
          606.7245989304813,
          62.245484187082404,
          146.43874643874645,
          104.97843172014419,
          19009.90099009901,
          1.9775463362551227,
          45.01954821894005,
          48.254901960784316,
          74.65575859366253,
          32.96410883369303,
          75.99924916269816,
          2.81534129103759,
          480.1904761904762,
          193.17371128066802,
          406.6857825567503,
          14.4692866756393,
          17.369416601655654,
          48.03680976889387,
          16.349644830307813,
          202.41878913320227,
          5.653846153846154,
          63.94444444444444,
          209.73468947551808,
          122.71551724137932,
          16.131018338367273,
          14.281528271405493,
          220.1184041038108,
          39.106753812636164,
          777.818438538206,
          50.58106262513757,
          17.465430818425375,
          16.851880261191095,
          24.500706496028684,
          301.67633991815467,
          1.1914893617021276,
          122.92875121130616,
          112.65959387555652,
          391.67779030439686,
          223.3354047988952,
          158.95141180784745,
          334.91596973317405,
          83.31442042694565,
          8.560815178678522,
          438.65092262130764,
          448.42857142857144,
          10.799492385786802,
          177.02681992337165,
          301.94805194805195,
          697.7169811320755,
          25.078512396694215,
          282.75321336760925,
          68.57811400422239,
          541.0655737704918,
          194.35269709543567,
          15.001325772553251,
          75.2323532700969,
          80.08478853792963,
          202.21238938053096,
          98.62895177028157,
          7795.774647887324,
          1124.9117647058824,
          110.65627995187307,
          101.81956296552065,
          22.217607973421927,
          17.374544621951927,
          45.57900702435717,
          0.007686395080707148,
          506.9494561421016,
          19.574179702942338,
          91.77698856898924,
          319.55494589239447,
          20.995372383180246,
          3.3062995971187887,
          6.795755968169761,
          65.23018889656761,
          21.97423466838406,
          202.05406452863096,
          100.24840695539476,
          649.3893570579946,
          60.053109713487075,
          58.359706566697035,
          127.31456969130028,
          78.47532607234099,
          125.79026151272343,
          117.58333333333333,
          138.22222222222223,
          263.09298245614036,
          68.17676181162521,
          100.49115832569727,
          9.733906986273304,
          33.18354430379747,
          409.2307692307692,
          140.18091492444628,
          70.71789464966042,
          117.89473684210526,
          268.05269658295595,
          33.64253178207579,
          19.22413469293061,
          70.5775592311131,
          22.76642874723111,
          33.85767831130073,
          279.881163725952,
          82.74647887323944,
          1.9199736842105264,
          52.04482089823626,
          21.171444250158117,
          36.44251542518752
         ],
         "xaxis": "x3",
         "yaxis": "y3"
        },
        {
         "histnorm": "probability",
         "name": "gini",
         "type": "histogram",
         "x": [
          27.8,
          null,
          34.5,
          35.3,
          null,
          null,
          58.6,
          null,
          null,
          null,
          44.5,
          30.9,
          null,
          30.5,
          26,
          33.7,
          null,
          null,
          32.1,
          null,
          26.5,
          33,
          53.1,
          38.6,
          null,
          38.1,
          56.3,
          null,
          36.2,
          61,
          null,
          54.7,
          null,
          null,
          null,
          null,
          null,
          28.2,
          39.8,
          33.3,
          37.9,
          38.9,
          32.6,
          50.5,
          null,
          56.3,
          39.8,
          52.1,
          47,
          null,
          null,
          55.9,
          64.3,
          47.3,
          null,
          null,
          50.7,
          33.7,
          null,
          null,
          null,
          26,
          24,
          40,
          null,
          47.2,
          49.3,
          30.8,
          48.3,
          null,
          null,
          36,
          29.8,
          null,
          null,
          42.8,
          26.9,
          32.7,
          null,
          null,
          null,
          41.5,
          null,
          41.3,
          28.3,
          42.8,
          null,
          34.3,
          null,
          null,
          null,
          null,
          55.9,
          null,
          39.4,
          35.5,
          44.5,
          59.2,
          null,
          null,
          57,
          53.3,
          31.2,
          null,
          33.4,
          34,
          41.5,
          38.3,
          30.9,
          34.3,
          null,
          39.2,
          36,
          45.5,
          38.1,
          null,
          35.4,
          29,
          47.7,
          null,
          null,
          36.2,
          36.7,
          36.6,
          null,
          52.5,
          38.2,
          null,
          null,
          37.6,
          30.8,
          null,
          43.2,
          44.1,
          39,
          46.2,
          37.4,
          33,
          null,
          null,
          null,
          40.5,
          null,
          null,
          47,
          null,
          33,
          null,
          36.5,
          30,
          null,
          40.9,
          45.7,
          null,
          63.9,
          null,
          32.8,
          30.9,
          null,
          36.2,
          40.5,
          34.6,
          48.8,
          null,
          null,
          null,
          null,
          25.8,
          null,
          30,
          null,
          35.5,
          51.9,
          50.9,
          52.4,
          48.1,
          43,
          null,
          34.1,
          38.5,
          null,
          41.1,
          null,
          null,
          30,
          40.1,
          50.8,
          null,
          null,
          null,
          42.6,
          null,
          null,
          null,
          null,
          null,
          50.8,
          null,
          39.2,
          27.8,
          65.8,
          42.5,
          48.1,
          null,
          26,
          31.2,
          null,
          null,
          63.1,
          null,
          31.3,
          45.5,
          34.7,
          40.3,
          35.3,
          52.9,
          null,
          51.5,
          25,
          33.7,
          35.8,
          null,
          30.8,
          37.6,
          40,
          31.9,
          34.4,
          null,
          null,
          40.3,
          41.4,
          39,
          40.8,
          null,
          null,
          44.3,
          26.4,
          null,
          34,
          48,
          39.7,
          36.7,
          null,
          44.8,
          35.6,
          null,
          null,
          37.7,
          54.6,
          null
         ],
         "xaxis": "x4",
         "yaxis": "y4"
        },
        {
         "histnorm": "probability",
         "name": "borders_count",
         "type": "histogram",
         "x": [
          6,
          0,
          4,
          7,
          0,
          2,
          4,
          0,
          0,
          0,
          5,
          4,
          0,
          0,
          8,
          5,
          0,
          0,
          2,
          0,
          5,
          4,
          2,
          4,
          0,
          2,
          5,
          0,
          3,
          4,
          0,
          10,
          0,
          0,
          0,
          0,
          1,
          5,
          6,
          3,
          3,
          6,
          1,
          0,
          0,
          6,
          6,
          3,
          15,
          0,
          0,
          5,
          0,
          5,
          9,
          0,
          2,
          5,
          0,
          0,
          1,
          4,
          1,
          3,
          0,
          1,
          2,
          3,
          2,
          2,
          3,
          2,
          6,
          0,
          0,
          0,
          3,
          8,
          2,
          0,
          0,
          3,
          1,
          4,
          9,
          3,
          1,
          4,
          0,
          0,
          0,
          0,
          4,
          0,
          6,
          2,
          3,
          1,
          0,
          1,
          3,
          1,
          7,
          0,
          8,
          3,
          5,
          7,
          6,
          1,
          0,
          4,
          6,
          0,
          0,
          0,
          4,
          5,
          5,
          0,
          2,
          4,
          5,
          4,
          2,
          1,
          3,
          6,
          2,
          4,
          3,
          1,
          5,
          0,
          3,
          3,
          0,
          7,
          0,
          0,
          0,
          4,
          0,
          0,
          3,
          0,
          2,
          1,
          2,
          5,
          0,
          3,
          6,
          5,
          4,
          0,
          2,
          2,
          0,
          0,
          2,
          7,
          4,
          0,
          0,
          3,
          0,
          3,
          3,
          4,
          0,
          3,
          2,
          1,
          3,
          5,
          0,
          0,
          7,
          1,
          0,
          1,
          4,
          0,
          5,
          14,
          4,
          0,
          0,
          0,
          0,
          2,
          0,
          0,
          0,
          1,
          0,
          7,
          5,
          8,
          0,
          2,
          0,
          1,
          5,
          4,
          0,
          3,
          6,
          0,
          1,
          6,
          5,
          1,
          7,
          4,
          0,
          2,
          2,
          5,
          5,
          0,
          4,
          8,
          4,
          1,
          3,
          0,
          0,
          0,
          2,
          8,
          4,
          0,
          0,
          5,
          7,
          2,
          1,
          2,
          2,
          5,
          0,
          3,
          3,
          0,
          3,
          2,
          8,
          4
         ],
         "xaxis": "x5",
         "yaxis": "y5"
        },
        {
         "histnorm": "probability",
         "name": "languages_count",
         "type": "histogram",
         "x": [
          3,
          1,
          1,
          1,
          2,
          1,
          1,
          1,
          2,
          1,
          2,
          2,
          2,
          1,
          1,
          1,
          1,
          1,
          1,
          1,
          2,
          3,
          2,
          1,
          1,
          1,
          3,
          1,
          3,
          2,
          3,
          1,
          1,
          1,
          1,
          1,
          1,
          1,
          2,
          2,
          1,
          2,
          2,
          1,
          1,
          2,
          2,
          1,
          1,
          1,
          1,
          1,
          2,
          2,
          5,
          1,
          1,
          1,
          1,
          3,
          3,
          2,
          1,
          2,
          1,
          1,
          1,
          1,
          1,
          2,
          3,
          1,
          1,
          1,
          1,
          4,
          2,
          1,
          1,
          1,
          1,
          1,
          1,
          1,
          1,
          1,
          1,
          1,
          1,
          1,
          1,
          3,
          1,
          2,
          2,
          1,
          1,
          2,
          1,
          4,
          1,
          2,
          1,
          1,
          2,
          1,
          1,
          1,
          2,
          2,
          2,
          2,
          1,
          1,
          1,
          2,
          1,
          2,
          2,
          1,
          1,
          2,
          1,
          1,
          2,
          2,
          1,
          1,
          1,
          1,
          3,
          2,
          1,
          2,
          2,
          1,
          1,
          1,
          2,
          2,
          1,
          1,
          1,
          1,
          1,
          1,
          1,
          1,
          1,
          4,
          1,
          1,
          1,
          1,
          2,
          2,
          1,
          1,
          1,
          2,
          1,
          1,
          1,
          1,
          1,
          1,
          2,
          3,
          1,
          2,
          1,
          1,
          1,
          1,
          2,
          1,
          1,
          1,
          1,
          1,
          2,
          1,
          2,
          1,
          1,
          1,
          3,
          1,
          1,
          1,
          1,
          3,
          1,
          1,
          2,
          1,
          1,
          1,
          1,
          1,
          2,
          1,
          4,
          2,
          1,
          1,
          1,
          2,
          10,
          1,
          1,
          1,
          1,
          2,
          2,
          1,
          1,
          2,
          1,
          3,
          1,
          1,
          2,
          2,
          1,
          1,
          1,
          1,
          2,
          1,
          1,
          1,
          2,
          1,
          1,
          2,
          1,
          1,
          1,
          1,
          1,
          2,
          3,
          1,
          1,
          1,
          1,
          1,
          1,
          3
         ],
         "xaxis": "x6",
         "yaxis": "y6"
        }
       ],
       "layout": {
        "bargap": 0.2,
        "bargroupgap": 0.1,
        "template": {
         "data": {
          "bar": [
           {
            "error_x": {
             "color": "#2a3f5f"
            },
            "error_y": {
             "color": "#2a3f5f"
            },
            "marker": {
             "line": {
              "color": "#E5ECF6",
              "width": 0.5
             }
            },
            "type": "bar"
           }
          ],
          "barpolar": [
           {
            "marker": {
             "line": {
              "color": "#E5ECF6",
              "width": 0.5
             }
            },
            "type": "barpolar"
           }
          ],
          "carpet": [
           {
            "aaxis": {
             "endlinecolor": "#2a3f5f",
             "gridcolor": "white",
             "linecolor": "white",
             "minorgridcolor": "white",
             "startlinecolor": "#2a3f5f"
            },
            "baxis": {
             "endlinecolor": "#2a3f5f",
             "gridcolor": "white",
             "linecolor": "white",
             "minorgridcolor": "white",
             "startlinecolor": "#2a3f5f"
            },
            "type": "carpet"
           }
          ],
          "choropleth": [
           {
            "colorbar": {
             "outlinewidth": 0,
             "ticks": ""
            },
            "type": "choropleth"
           }
          ],
          "contour": [
           {
            "colorbar": {
             "outlinewidth": 0,
             "ticks": ""
            },
            "colorscale": [
             [
              0,
              "#0d0887"
             ],
             [
              0.1111111111111111,
              "#46039f"
             ],
             [
              0.2222222222222222,
              "#7201a8"
             ],
             [
              0.3333333333333333,
              "#9c179e"
             ],
             [
              0.4444444444444444,
              "#bd3786"
             ],
             [
              0.5555555555555556,
              "#d8576b"
             ],
             [
              0.6666666666666666,
              "#ed7953"
             ],
             [
              0.7777777777777778,
              "#fb9f3a"
             ],
             [
              0.8888888888888888,
              "#fdca26"
             ],
             [
              1,
              "#f0f921"
             ]
            ],
            "type": "contour"
           }
          ],
          "contourcarpet": [
           {
            "colorbar": {
             "outlinewidth": 0,
             "ticks": ""
            },
            "type": "contourcarpet"
           }
          ],
          "heatmap": [
           {
            "colorbar": {
             "outlinewidth": 0,
             "ticks": ""
            },
            "colorscale": [
             [
              0,
              "#0d0887"
             ],
             [
              0.1111111111111111,
              "#46039f"
             ],
             [
              0.2222222222222222,
              "#7201a8"
             ],
             [
              0.3333333333333333,
              "#9c179e"
             ],
             [
              0.4444444444444444,
              "#bd3786"
             ],
             [
              0.5555555555555556,
              "#d8576b"
             ],
             [
              0.6666666666666666,
              "#ed7953"
             ],
             [
              0.7777777777777778,
              "#fb9f3a"
             ],
             [
              0.8888888888888888,
              "#fdca26"
             ],
             [
              1,
              "#f0f921"
             ]
            ],
            "type": "heatmap"
           }
          ],
          "heatmapgl": [
           {
            "colorbar": {
             "outlinewidth": 0,
             "ticks": ""
            },
            "colorscale": [
             [
              0,
              "#0d0887"
             ],
             [
              0.1111111111111111,
              "#46039f"
             ],
             [
              0.2222222222222222,
              "#7201a8"
             ],
             [
              0.3333333333333333,
              "#9c179e"
             ],
             [
              0.4444444444444444,
              "#bd3786"
             ],
             [
              0.5555555555555556,
              "#d8576b"
             ],
             [
              0.6666666666666666,
              "#ed7953"
             ],
             [
              0.7777777777777778,
              "#fb9f3a"
             ],
             [
              0.8888888888888888,
              "#fdca26"
             ],
             [
              1,
              "#f0f921"
             ]
            ],
            "type": "heatmapgl"
           }
          ],
          "histogram": [
           {
            "marker": {
             "colorbar": {
              "outlinewidth": 0,
              "ticks": ""
             }
            },
            "type": "histogram"
           }
          ],
          "histogram2d": [
           {
            "colorbar": {
             "outlinewidth": 0,
             "ticks": ""
            },
            "colorscale": [
             [
              0,
              "#0d0887"
             ],
             [
              0.1111111111111111,
              "#46039f"
             ],
             [
              0.2222222222222222,
              "#7201a8"
             ],
             [
              0.3333333333333333,
              "#9c179e"
             ],
             [
              0.4444444444444444,
              "#bd3786"
             ],
             [
              0.5555555555555556,
              "#d8576b"
             ],
             [
              0.6666666666666666,
              "#ed7953"
             ],
             [
              0.7777777777777778,
              "#fb9f3a"
             ],
             [
              0.8888888888888888,
              "#fdca26"
             ],
             [
              1,
              "#f0f921"
             ]
            ],
            "type": "histogram2d"
           }
          ],
          "histogram2dcontour": [
           {
            "colorbar": {
             "outlinewidth": 0,
             "ticks": ""
            },
            "colorscale": [
             [
              0,
              "#0d0887"
             ],
             [
              0.1111111111111111,
              "#46039f"
             ],
             [
              0.2222222222222222,
              "#7201a8"
             ],
             [
              0.3333333333333333,
              "#9c179e"
             ],
             [
              0.4444444444444444,
              "#bd3786"
             ],
             [
              0.5555555555555556,
              "#d8576b"
             ],
             [
              0.6666666666666666,
              "#ed7953"
             ],
             [
              0.7777777777777778,
              "#fb9f3a"
             ],
             [
              0.8888888888888888,
              "#fdca26"
             ],
             [
              1,
              "#f0f921"
             ]
            ],
            "type": "histogram2dcontour"
           }
          ],
          "mesh3d": [
           {
            "colorbar": {
             "outlinewidth": 0,
             "ticks": ""
            },
            "type": "mesh3d"
           }
          ],
          "parcoords": [
           {
            "line": {
             "colorbar": {
              "outlinewidth": 0,
              "ticks": ""
             }
            },
            "type": "parcoords"
           }
          ],
          "pie": [
           {
            "automargin": true,
            "type": "pie"
           }
          ],
          "scatter": [
           {
            "marker": {
             "colorbar": {
              "outlinewidth": 0,
              "ticks": ""
             }
            },
            "type": "scatter"
           }
          ],
          "scatter3d": [
           {
            "line": {
             "colorbar": {
              "outlinewidth": 0,
              "ticks": ""
             }
            },
            "marker": {
             "colorbar": {
              "outlinewidth": 0,
              "ticks": ""
             }
            },
            "type": "scatter3d"
           }
          ],
          "scattercarpet": [
           {
            "marker": {
             "colorbar": {
              "outlinewidth": 0,
              "ticks": ""
             }
            },
            "type": "scattercarpet"
           }
          ],
          "scattergeo": [
           {
            "marker": {
             "colorbar": {
              "outlinewidth": 0,
              "ticks": ""
             }
            },
            "type": "scattergeo"
           }
          ],
          "scattergl": [
           {
            "marker": {
             "colorbar": {
              "outlinewidth": 0,
              "ticks": ""
             }
            },
            "type": "scattergl"
           }
          ],
          "scattermapbox": [
           {
            "marker": {
             "colorbar": {
              "outlinewidth": 0,
              "ticks": ""
             }
            },
            "type": "scattermapbox"
           }
          ],
          "scatterpolar": [
           {
            "marker": {
             "colorbar": {
              "outlinewidth": 0,
              "ticks": ""
             }
            },
            "type": "scatterpolar"
           }
          ],
          "scatterpolargl": [
           {
            "marker": {
             "colorbar": {
              "outlinewidth": 0,
              "ticks": ""
             }
            },
            "type": "scatterpolargl"
           }
          ],
          "scatterternary": [
           {
            "marker": {
             "colorbar": {
              "outlinewidth": 0,
              "ticks": ""
             }
            },
            "type": "scatterternary"
           }
          ],
          "surface": [
           {
            "colorbar": {
             "outlinewidth": 0,
             "ticks": ""
            },
            "colorscale": [
             [
              0,
              "#0d0887"
             ],
             [
              0.1111111111111111,
              "#46039f"
             ],
             [
              0.2222222222222222,
              "#7201a8"
             ],
             [
              0.3333333333333333,
              "#9c179e"
             ],
             [
              0.4444444444444444,
              "#bd3786"
             ],
             [
              0.5555555555555556,
              "#d8576b"
             ],
             [
              0.6666666666666666,
              "#ed7953"
             ],
             [
              0.7777777777777778,
              "#fb9f3a"
             ],
             [
              0.8888888888888888,
              "#fdca26"
             ],
             [
              1,
              "#f0f921"
             ]
            ],
            "type": "surface"
           }
          ],
          "table": [
           {
            "cells": {
             "fill": {
              "color": "#EBF0F8"
             },
             "line": {
              "color": "white"
             }
            },
            "header": {
             "fill": {
              "color": "#C8D4E3"
             },
             "line": {
              "color": "white"
             }
            },
            "type": "table"
           }
          ]
         },
         "layout": {
          "annotationdefaults": {
           "arrowcolor": "#2a3f5f",
           "arrowhead": 0,
           "arrowwidth": 1
          },
          "coloraxis": {
           "colorbar": {
            "outlinewidth": 0,
            "ticks": ""
           }
          },
          "colorscale": {
           "diverging": [
            [
             0,
             "#8e0152"
            ],
            [
             0.1,
             "#c51b7d"
            ],
            [
             0.2,
             "#de77ae"
            ],
            [
             0.3,
             "#f1b6da"
            ],
            [
             0.4,
             "#fde0ef"
            ],
            [
             0.5,
             "#f7f7f7"
            ],
            [
             0.6,
             "#e6f5d0"
            ],
            [
             0.7,
             "#b8e186"
            ],
            [
             0.8,
             "#7fbc41"
            ],
            [
             0.9,
             "#4d9221"
            ],
            [
             1,
             "#276419"
            ]
           ],
           "sequential": [
            [
             0,
             "#0d0887"
            ],
            [
             0.1111111111111111,
             "#46039f"
            ],
            [
             0.2222222222222222,
             "#7201a8"
            ],
            [
             0.3333333333333333,
             "#9c179e"
            ],
            [
             0.4444444444444444,
             "#bd3786"
            ],
            [
             0.5555555555555556,
             "#d8576b"
            ],
            [
             0.6666666666666666,
             "#ed7953"
            ],
            [
             0.7777777777777778,
             "#fb9f3a"
            ],
            [
             0.8888888888888888,
             "#fdca26"
            ],
            [
             1,
             "#f0f921"
            ]
           ],
           "sequentialminus": [
            [
             0,
             "#0d0887"
            ],
            [
             0.1111111111111111,
             "#46039f"
            ],
            [
             0.2222222222222222,
             "#7201a8"
            ],
            [
             0.3333333333333333,
             "#9c179e"
            ],
            [
             0.4444444444444444,
             "#bd3786"
            ],
            [
             0.5555555555555556,
             "#d8576b"
            ],
            [
             0.6666666666666666,
             "#ed7953"
            ],
            [
             0.7777777777777778,
             "#fb9f3a"
            ],
            [
             0.8888888888888888,
             "#fdca26"
            ],
            [
             1,
             "#f0f921"
            ]
           ]
          },
          "colorway": [
           "#636efa",
           "#EF553B",
           "#00cc96",
           "#ab63fa",
           "#FFA15A",
           "#19d3f3",
           "#FF6692",
           "#B6E880",
           "#FF97FF",
           "#FECB52"
          ],
          "font": {
           "color": "#2a3f5f"
          },
          "geo": {
           "bgcolor": "white",
           "lakecolor": "white",
           "landcolor": "#E5ECF6",
           "showlakes": true,
           "showland": true,
           "subunitcolor": "white"
          },
          "hoverlabel": {
           "align": "left"
          },
          "hovermode": "closest",
          "mapbox": {
           "style": "light"
          },
          "paper_bgcolor": "white",
          "plot_bgcolor": "#E5ECF6",
          "polar": {
           "angularaxis": {
            "gridcolor": "white",
            "linecolor": "white",
            "ticks": ""
           },
           "bgcolor": "#E5ECF6",
           "radialaxis": {
            "gridcolor": "white",
            "linecolor": "white",
            "ticks": ""
           }
          },
          "scene": {
           "xaxis": {
            "backgroundcolor": "#E5ECF6",
            "gridcolor": "white",
            "gridwidth": 2,
            "linecolor": "white",
            "showbackground": true,
            "ticks": "",
            "zerolinecolor": "white"
           },
           "yaxis": {
            "backgroundcolor": "#E5ECF6",
            "gridcolor": "white",
            "gridwidth": 2,
            "linecolor": "white",
            "showbackground": true,
            "ticks": "",
            "zerolinecolor": "white"
           },
           "zaxis": {
            "backgroundcolor": "#E5ECF6",
            "gridcolor": "white",
            "gridwidth": 2,
            "linecolor": "white",
            "showbackground": true,
            "ticks": "",
            "zerolinecolor": "white"
           }
          },
          "shapedefaults": {
           "line": {
            "color": "#2a3f5f"
           }
          },
          "ternary": {
           "aaxis": {
            "gridcolor": "white",
            "linecolor": "white",
            "ticks": ""
           },
           "baxis": {
            "gridcolor": "white",
            "linecolor": "white",
            "ticks": ""
           },
           "bgcolor": "#E5ECF6",
           "caxis": {
            "gridcolor": "white",
            "linecolor": "white",
            "ticks": ""
           }
          },
          "title": {
           "x": 0.05
          },
          "xaxis": {
           "automargin": true,
           "gridcolor": "white",
           "linecolor": "white",
           "ticks": "",
           "title": {
            "standoff": 15
           },
           "zerolinecolor": "white",
           "zerolinewidth": 2
          },
          "yaxis": {
           "automargin": true,
           "gridcolor": "white",
           "linecolor": "white",
           "ticks": "",
           "title": {
            "standoff": 15
           },
           "zerolinecolor": "white",
           "zerolinewidth": 2
          }
         }
        },
        "title": {
         "text": "Histogram Quantitative Variables"
        },
        "xaxis": {
         "anchor": "y",
         "domain": [
          0,
          0.1388888888888889
         ]
        },
        "xaxis2": {
         "anchor": "y2",
         "domain": [
          0.17222222222222222,
          0.3111111111111111
         ]
        },
        "xaxis3": {
         "anchor": "y3",
         "domain": [
          0.34444444444444444,
          0.48333333333333334
         ]
        },
        "xaxis4": {
         "anchor": "y4",
         "domain": [
          0.5166666666666667,
          0.6555555555555557
         ]
        },
        "xaxis5": {
         "anchor": "y5",
         "domain": [
          0.6888888888888889,
          0.8277777777777777
         ]
        },
        "xaxis6": {
         "anchor": "y6",
         "domain": [
          0.861111111111111,
          1
         ]
        },
        "yaxis": {
         "anchor": "x",
         "domain": [
          0,
          1
         ],
         "title": {
          "text": "Count Percentage"
         }
        },
        "yaxis2": {
         "anchor": "x2",
         "domain": [
          0,
          1
         ]
        },
        "yaxis3": {
         "anchor": "x3",
         "domain": [
          0,
          1
         ]
        },
        "yaxis4": {
         "anchor": "x4",
         "domain": [
          0,
          1
         ]
        },
        "yaxis5": {
         "anchor": "x5",
         "domain": [
          0,
          1
         ]
        },
        "yaxis6": {
         "anchor": "x6",
         "domain": [
          0,
          1
         ]
        }
       }
      },
      "text/html": [
       "<div>\n",
       "        \n",
       "        \n",
       "            <div id=\"79164220-8326-4efc-96c6-f2a13fa10544\" class=\"plotly-graph-div\" style=\"height:525px; width:100%;\"></div>\n",
       "            <script type=\"text/javascript\">\n",
       "                require([\"plotly\"], function(Plotly) {\n",
       "                    window.PLOTLYENV=window.PLOTLYENV || {};\n",
       "                    \n",
       "                if (document.getElementById(\"79164220-8326-4efc-96c6-f2a13fa10544\")) {\n",
       "                    Plotly.newPlot(\n",
       "                        '79164220-8326-4efc-96c6-f2a13fa10544',\n",
       "                        [{\"histnorm\": \"probability\", \"name\": \"population\", \"type\": \"histogram\", \"x\": [27657145, 28875, 2886026, 40400000, 57100, 78014, 25868000, 13452, 1000, 86295, 43590400, 2994400, 107394, 24117360, 8725931, 9730500, 378040, 1404900, 161006790, 285000, 9498700, 11319511, 370300, 10653654, 61954, 775620, 10985059, 17408, 3531159, 2141206, 0, 206135893, 3000, 300, 28514, 114743, 411900, 7153784, 19034397, 10114505, 15626444, 22709892, 36155487, 531239, 58238, 4998000, 14497000, 18191900, 1377422166, 2072, 550, 48759958, 806153, 4741000, 85026000, 18100, 4890379, 4190669, 11239004, 154843, 847000, 10558524, 5717014, 900000, 71293, 10075045, 16545799, 91290000, 6520675, 1222442, 5352000, 1315944, 92206005, 2563, 49376, 867000, 5491817, 66710000, 254541, 271800, 140, 1802278, 1882450, 3720400, 81770900, 27670174, 33140, 10858018, 55847, 103328, 400132, 184200, 16176133, 62999, 12947000, 1547777, 746900, 11078033, 0, 451, 8576532, 7324300, 9823000, 334300, 1295210000, 258705000, 22671331, 79369900, 37883543, 6378000, 84497, 8527400, 60665551, 2723246, 126960000, 100800, 9531712, 17753200, 47251000, 113400, 4183658, 6047800, 6492400, 1961600, 5988000, 1894194, 4615000, 6385000, 37623, 2872294, 576200, 649100, 2058539, 22434363, 16832910, 31405416, 344023, 18135000, 425384, 54880, 378243, 3718678, 1262879, 226915, 122273473, 102800, 3553100, 38400, 3093100, 621810, 4922, 33337529, 26423700, 51419420, 2324388, 10084, 28431500, 17019800, 268767, 4697854, 6262703, 20715000, 186988000, 1470, 2302, 25281000, 56940, 5223256, 4420133, 194125062, 17950, 4682467, 3814672, 8083700, 6854536, 31488700, 103279800, 56, 38437239, 10374822, 3474182, 2587564, 1733842, 840974, 19861408, 146599183, 11553188, 9417, 4255, 46204, 186000, 36979, 6069, 109991, 194899, 33005, 187356, 32248200, 14799859, 7076372, 91400, 7075641, 5535000, 38247, 5426252, 2064188, 642000, 11079000, 55653654, 30, 50801405, 12131000, 46438422, 20966000, 39598700, 541638, 2562, 1132657, 9894888, 8341600, 18564000, 23503349, 8593600, 55155000, 65327652, 1167242, 7143000, 1411, 103252, 1349667, 11154400, 78741053, 4751120, 31458, 10640, 33860700, 42692393, 9856000, 65110000, 323947000, 3480222, 31576400, 277500, 31028700, 92700000, 11750, 510713, 27478000, 15933883, 14240168], \"xaxis\": \"x\", \"yaxis\": \"y\"}, {\"histnorm\": \"probability\", \"name\": \"area\", \"type\": \"histogram\", \"x\": [652230.0, 1580.0, 28748.0, 2381741.0, 199.0, 468.0, 1246700.0, 91.0, 14000000.0, 442.0, 2780400.0, 29743.0, 180.0, 7692024.0, 83871.0, 86600.0, 13943.0, 765.0, 147570.0, 430.0, 207600.0, 30528.0, 22966.0, 112622.0, 54.0, 38394.0, 1098581.0, 294.0, 51209.0, 582000.0, 49.0, 8515767.0, 60.0, 34.2, 151.0, 346.36, 5765.0, 110879.0, 272967.0, 27834.0, 181035.0, 475442.0, 9984670.0, 4033.0, 264.0, 622984.0, 1284000.0, 756102.0, 9640011.0, 135.0, 14.0, 1141748.0, 1862.0, 342000.0, 2344858.0, 236.0, 51100.0, 56594.0, 109884.0, 444.0, 9251.0, 78865.0, 43094.0, 23200.0, 751.0, 48671.0, 276841.0, 1002450.0, 21041.0, 28051.0, 117600.0, 45227.0, 1104300.0, 12173.0, 1393.0, 18272.0, 338424.0, 640679.0, 83534.0, 4167.0, 7747.0, 267668.0, 11295.0, 69700.0, 357114.0, 238533.0, 6.0, 131990.0, 2166086.0, 344.0, 1628.0, 549.0, 108889.0, 78.0, 245857.0, 36125.0, 214969.0, 27750.0, 412.0, 0.44, 112492.0, 1104.0, 93028.0, 103000.0, 3287590.0, 1904569.0, 322463.0, 1648195.0, 438317.0, 70273.0, 572.0, 20770.0, 301336.0, 10991.0, 377930.0, 116.0, 89342.0, 2724900.0, 580367.0, 811.0, 17818.0, 199951.0, 236800.0, 64559.0, 10452.0, 30355.0, 111369.0, 1759540.0, 160.0, 65300.0, 2586.0, 30.0, 25713.0, 587041.0, 118484.0, 330803.0, 300.0, 1240192.0, 316.0, 181.0, 1128.0, 1030700.0, 2040.0, 374.0, 1964375.0, 702.0, 33846.0, 2.02, 1564110.0, 13812.0, 102.0, 446550.0, 801590.0, 676578.0, 825615.0, 21.0, 147181.0, 41850.0, 18575.0, 270467.0, 130373.0, 1267000.0, 923768.0, 260.0, 36.0, 120538.0, 464.0, 323802.0, 309500.0, 881912.0, 459.0, 6020.0, 75417.0, 462840.0, 406752.0, 1285216.0, 342353.0, 47.0, 312679.0, 92090.0, 8870.0, 11586.0, 10908.0, 2511.0, 238391.0, 17124442.0, 26338.0, 21.0, 394.0, 261.0, 616.0, 53.0, 242.0, 389.0, 2842.0, 61.0, 964.0, 2149690.0, 196722.0, 88361.0, 452.0, 71740.0, 710.0, 34.0, 49037.0, 20273.0, 28896.0, 637657.0, 1221037.0, 3903.0, 100210.0, 619745.0, 505992.0, 65610.0, 1886068.0, 163820.0, 377.0, 17364.0, 450295.0, 41284.0, 185180.0, 36193.0, 143100.0, 945087.0, 513120.0, 14874.0, 56785.0, 12.0, 747.0, 5130.0, 163610.0, 783562.0, 488100.0, 948.0, 26.0, 241550.0, 603700.0, 83600.0, 242900.0, 9629091.0, 181034.0, 447400.0, 12189.0, 916445.0, 331212.0, 142.0, 266000.0, 527968.0, 752612.0, 390757.0], \"xaxis\": \"x2\", \"yaxis\": \"y2\"}, {\"histnorm\": \"probability\", \"name\": \"popDensity\", \"type\": \"histogram\", \"x\": [42.40397559143247, 18.275316455696203, 100.39049673020732, 16.962381719926725, 286.93467336683415, 166.6965811965812, 20.7491778294698, 147.82417582417582, 7.142857142857143e-05, 195.23755656108597, 15.677744209466264, 100.6757892613388, 596.6333333333333, 3.135372432535312, 104.03990652311288, 112.36143187066975, 27.113246790504196, 1836.4705882352941, 1091.053669445009, 662.7906976744187, 45.75481695568401, 370.79110980083857, 16.123835234694766, 94.5965619505958, 1147.2962962962963, 20.201593999062354, 9.999316390871497, 59.2108843537415, 68.95582807709582, 3.6790481099656356, 0.0, 24.20638011819722, 50.0, 8.771929824561402, 188.83443708609272, 331.2824806559649, 71.44839549002602, 64.51883584808665, 69.73149501588104, 363.3866853488539, 86.3172535697517, 47.765851565490635, 3.6210998460640162, 131.72303496156707, 220.59848484848484, 8.022677949995506, 11.290498442367602, 24.060113582558966, 142.88595376084115, 15.348148148148148, 39.285714285714285, 42.70640982073102, 432.9500537056928, 13.862573099415204, 36.26061791375, 76.69491525423729, 95.70213307240705, 74.04793794395165, 102.28062320265006, 348.7454954954955, 91.5576694411415, 133.88098649591075, 132.66380470599157, 38.793103448275865, 94.93075898801598, 207.00304082513202, 59.766432717697164, 91.066886128984, 309.9032840644456, 43.579266336315996, 45.51020408163265, 29.096424702058506, 83.49724259712035, 0.21054793395218926, 35.44580043072505, 47.44964973730298, 16.227622745431766, 104.12390604343204, 3.047154452079393, 65.2267818574514, 0.01807151155285917, 6.733259112034311, 166.6622399291722, 53.377331420373025, 228.97702134332454, 116.00145053304993, 5523.333333333333, 82.26394423819987, 0.02578244815764471, 300.3720930232558, 245.78132678132678, 335.5191256830601, 148.55617188145726, 807.6794871794872, 52.660693004470076, 42.845038062283734, 3.4744544562239206, 399.2083963963964, 0.0, 1025.0, 76.24126160082494, 6634.329710144928, 105.59186481489444, 3.245631067961165, 393.96944266164576, 135.83388157635665, 70.30676697791685, 48.15564905851553, 86.42955440925175, 90.76032046447426, 147.72202797202797, 410.5633124699085, 201.32194958451694, 247.77053953234466, 335.9352261000714, 868.9655172413793, 106.6879183362808, 6.515174868802525, 81.41572487753439, 139.82737361282366, 234.79952856661802, 30.246410370540783, 27.41722972972973, 30.384609427035734, 572.9047072330654, 62.40138362707956, 41.43882049762501, 3.6287893426691067, 235.14375, 43.986125574272585, 222.81515854601702, 21636.666666666668, 80.0582973593124, 38.21600705913215, 142.06905573748355, 94.93691411504733, 1146.7433333333333, 14.62273583445144, 1346.1518987341772, 303.2044198895028, 335.3218085106383, 3.607915009217037, 619.0583333333333, 606.7245989304813, 62.245484187082404, 146.43874643874645, 104.97843172014419, 19009.90099009901, 1.9775463362551227, 45.01954821894005, 48.254901960784316, 74.65575859366253, 32.96410883369303, 75.99924916269816, 2.81534129103759, 480.1904761904762, 193.17371128066802, 406.6857825567503, 14.4692866756393, 17.369416601655654, 48.03680976889387, 16.349644830307813, 202.41878913320227, 5.653846153846154, 63.94444444444444, 209.73468947551808, 122.71551724137932, 16.131018338367273, 14.281528271405493, 220.1184041038108, 39.106753812636164, 777.818438538206, 50.58106262513757, 17.465430818425375, 16.851880261191095, 24.500706496028684, 301.67633991815467, 1.1914893617021276, 122.92875121130616, 112.65959387555652, 391.67779030439686, 223.3354047988952, 158.95141180784745, 334.91596973317405, 83.31442042694565, 8.560815178678522, 438.65092262130764, 448.42857142857144, 10.799492385786802, 177.02681992337165, 301.94805194805195, 697.7169811320755, 25.078512396694215, 282.75321336760925, 68.57811400422239, 541.0655737704918, 194.35269709543567, 15.001325772553251, 75.2323532700969, 80.08478853792963, 202.21238938053096, 98.62895177028157, 7795.774647887324, 1124.9117647058824, 110.65627995187307, 101.81956296552065, 22.217607973421927, 17.374544621951927, 45.57900702435717, 0.007686395080707148, 506.9494561421016, 19.574179702942338, 91.77698856898924, 319.55494589239447, 20.995372383180246, 3.3062995971187887, 6.795755968169761, 65.23018889656761, 21.97423466838406, 202.05406452863096, 100.24840695539476, 649.3893570579946, 60.053109713487075, 58.359706566697035, 127.31456969130028, 78.47532607234099, 125.79026151272343, 117.58333333333333, 138.22222222222223, 263.09298245614036, 68.17676181162521, 100.49115832569727, 9.733906986273304, 33.18354430379747, 409.2307692307692, 140.18091492444628, 70.71789464966042, 117.89473684210526, 268.05269658295595, 33.64253178207579, 19.22413469293061, 70.5775592311131, 22.76642874723111, 33.85767831130073, 279.881163725952, 82.74647887323944, 1.9199736842105264, 52.04482089823626, 21.171444250158117, 36.44251542518752], \"xaxis\": \"x3\", \"yaxis\": \"y3\"}, {\"histnorm\": \"probability\", \"name\": \"gini\", \"type\": \"histogram\", \"x\": [27.8, null, 34.5, 35.3, null, null, 58.6, null, null, null, 44.5, 30.9, null, 30.5, 26.0, 33.7, null, null, 32.1, null, 26.5, 33.0, 53.1, 38.6, null, 38.1, 56.3, null, 36.2, 61.0, null, 54.7, null, null, null, null, null, 28.2, 39.8, 33.3, 37.9, 38.9, 32.6, 50.5, null, 56.3, 39.8, 52.1, 47.0, null, null, 55.9, 64.3, 47.3, null, null, 50.7, 33.7, null, null, null, 26.0, 24.0, 40.0, null, 47.2, 49.3, 30.8, 48.3, null, null, 36.0, 29.8, null, null, 42.8, 26.9, 32.7, null, null, null, 41.5, null, 41.3, 28.3, 42.8, null, 34.3, null, null, null, null, 55.9, null, 39.4, 35.5, 44.5, 59.2, null, null, 57.0, 53.3, 31.2, null, 33.4, 34.0, 41.5, 38.3, 30.9, 34.3, null, 39.2, 36.0, 45.5, 38.1, null, 35.4, 29.0, 47.7, null, null, 36.2, 36.7, 36.6, null, 52.5, 38.2, null, null, 37.6, 30.8, null, 43.2, 44.1, 39.0, 46.2, 37.4, 33.0, null, null, null, 40.5, null, null, 47.0, null, 33.0, null, 36.5, 30.0, null, 40.9, 45.7, null, 63.9, null, 32.8, 30.9, null, 36.2, 40.5, 34.6, 48.8, null, null, null, null, 25.8, null, 30.0, null, 35.5, 51.9, 50.9, 52.4, 48.1, 43.0, null, 34.1, 38.5, null, 41.1, null, null, 30.0, 40.1, 50.8, null, null, null, 42.6, null, null, null, null, null, 50.8, null, 39.2, 27.8, 65.8, 42.5, 48.1, null, 26.0, 31.2, null, null, 63.1, null, 31.3, 45.5, 34.7, 40.3, 35.3, 52.9, null, 51.5, 25.0, 33.7, 35.8, null, 30.8, 37.6, 40.0, 31.9, 34.4, null, null, 40.3, 41.4, 39.0, 40.8, null, null, 44.3, 26.4, null, 34.0, 48.0, 39.7, 36.7, null, 44.8, 35.6, null, null, 37.7, 54.6, null], \"xaxis\": \"x4\", \"yaxis\": \"y4\"}, {\"histnorm\": \"probability\", \"name\": \"borders_count\", \"type\": \"histogram\", \"x\": [6, 0, 4, 7, 0, 2, 4, 0, 0, 0, 5, 4, 0, 0, 8, 5, 0, 0, 2, 0, 5, 4, 2, 4, 0, 2, 5, 0, 3, 4, 0, 10, 0, 0, 0, 0, 1, 5, 6, 3, 3, 6, 1, 0, 0, 6, 6, 3, 15, 0, 0, 5, 0, 5, 9, 0, 2, 5, 0, 0, 1, 4, 1, 3, 0, 1, 2, 3, 2, 2, 3, 2, 6, 0, 0, 0, 3, 8, 2, 0, 0, 3, 1, 4, 9, 3, 1, 4, 0, 0, 0, 0, 4, 0, 6, 2, 3, 1, 0, 1, 3, 1, 7, 0, 8, 3, 5, 7, 6, 1, 0, 4, 6, 0, 0, 0, 4, 5, 5, 0, 2, 4, 5, 4, 2, 1, 3, 6, 2, 4, 3, 1, 5, 0, 3, 3, 0, 7, 0, 0, 0, 4, 0, 0, 3, 0, 2, 1, 2, 5, 0, 3, 6, 5, 4, 0, 2, 2, 0, 0, 2, 7, 4, 0, 0, 3, 0, 3, 3, 4, 0, 3, 2, 1, 3, 5, 0, 0, 7, 1, 0, 1, 4, 0, 5, 14, 4, 0, 0, 0, 0, 2, 0, 0, 0, 1, 0, 7, 5, 8, 0, 2, 0, 1, 5, 4, 0, 3, 6, 0, 1, 6, 5, 1, 7, 4, 0, 2, 2, 5, 5, 0, 4, 8, 4, 1, 3, 0, 0, 0, 2, 8, 4, 0, 0, 5, 7, 2, 1, 2, 2, 5, 0, 3, 3, 0, 3, 2, 8, 4], \"xaxis\": \"x5\", \"yaxis\": \"y5\"}, {\"histnorm\": \"probability\", \"name\": \"languages_count\", \"type\": \"histogram\", \"x\": [3, 1, 1, 1, 2, 1, 1, 1, 2, 1, 2, 2, 2, 1, 1, 1, 1, 1, 1, 1, 2, 3, 2, 1, 1, 1, 3, 1, 3, 2, 3, 1, 1, 1, 1, 1, 1, 1, 2, 2, 1, 2, 2, 1, 1, 2, 2, 1, 1, 1, 1, 1, 2, 2, 5, 1, 1, 1, 1, 3, 3, 2, 1, 2, 1, 1, 1, 1, 1, 2, 3, 1, 1, 1, 1, 4, 2, 1, 1, 1, 1, 1, 1, 1, 1, 1, 1, 1, 1, 1, 1, 3, 1, 2, 2, 1, 1, 2, 1, 4, 1, 2, 1, 1, 2, 1, 1, 1, 2, 2, 2, 2, 1, 1, 1, 2, 1, 2, 2, 1, 1, 2, 1, 1, 2, 2, 1, 1, 1, 1, 3, 2, 1, 2, 2, 1, 1, 1, 2, 2, 1, 1, 1, 1, 1, 1, 1, 1, 1, 4, 1, 1, 1, 1, 2, 2, 1, 1, 1, 2, 1, 1, 1, 1, 1, 1, 2, 3, 1, 2, 1, 1, 1, 1, 2, 1, 1, 1, 1, 1, 2, 1, 2, 1, 1, 1, 3, 1, 1, 1, 1, 3, 1, 1, 2, 1, 1, 1, 1, 1, 2, 1, 4, 2, 1, 1, 1, 2, 10, 1, 1, 1, 1, 2, 2, 1, 1, 2, 1, 3, 1, 1, 2, 2, 1, 1, 1, 1, 2, 1, 1, 1, 2, 1, 1, 2, 1, 1, 1, 1, 1, 2, 3, 1, 1, 1, 1, 1, 1, 3], \"xaxis\": \"x6\", \"yaxis\": \"y6\"}],\n",
       "                        {\"bargap\": 0.2, \"bargroupgap\": 0.1, \"template\": {\"data\": {\"bar\": [{\"error_x\": {\"color\": \"#2a3f5f\"}, \"error_y\": {\"color\": \"#2a3f5f\"}, \"marker\": {\"line\": {\"color\": \"#E5ECF6\", \"width\": 0.5}}, \"type\": \"bar\"}], \"barpolar\": [{\"marker\": {\"line\": {\"color\": \"#E5ECF6\", \"width\": 0.5}}, \"type\": \"barpolar\"}], \"carpet\": [{\"aaxis\": {\"endlinecolor\": \"#2a3f5f\", \"gridcolor\": \"white\", \"linecolor\": \"white\", \"minorgridcolor\": \"white\", \"startlinecolor\": \"#2a3f5f\"}, \"baxis\": {\"endlinecolor\": \"#2a3f5f\", \"gridcolor\": \"white\", \"linecolor\": \"white\", \"minorgridcolor\": \"white\", \"startlinecolor\": \"#2a3f5f\"}, \"type\": \"carpet\"}], \"choropleth\": [{\"colorbar\": {\"outlinewidth\": 0, \"ticks\": \"\"}, \"type\": \"choropleth\"}], \"contour\": [{\"colorbar\": {\"outlinewidth\": 0, \"ticks\": \"\"}, \"colorscale\": [[0.0, \"#0d0887\"], [0.1111111111111111, \"#46039f\"], [0.2222222222222222, \"#7201a8\"], [0.3333333333333333, \"#9c179e\"], [0.4444444444444444, \"#bd3786\"], [0.5555555555555556, \"#d8576b\"], [0.6666666666666666, \"#ed7953\"], [0.7777777777777778, \"#fb9f3a\"], [0.8888888888888888, \"#fdca26\"], [1.0, \"#f0f921\"]], \"type\": \"contour\"}], \"contourcarpet\": [{\"colorbar\": {\"outlinewidth\": 0, \"ticks\": \"\"}, \"type\": \"contourcarpet\"}], \"heatmap\": [{\"colorbar\": {\"outlinewidth\": 0, \"ticks\": \"\"}, \"colorscale\": [[0.0, \"#0d0887\"], [0.1111111111111111, \"#46039f\"], [0.2222222222222222, \"#7201a8\"], [0.3333333333333333, \"#9c179e\"], [0.4444444444444444, \"#bd3786\"], [0.5555555555555556, \"#d8576b\"], [0.6666666666666666, \"#ed7953\"], [0.7777777777777778, \"#fb9f3a\"], [0.8888888888888888, \"#fdca26\"], [1.0, \"#f0f921\"]], \"type\": \"heatmap\"}], \"heatmapgl\": [{\"colorbar\": {\"outlinewidth\": 0, \"ticks\": \"\"}, \"colorscale\": [[0.0, \"#0d0887\"], [0.1111111111111111, \"#46039f\"], [0.2222222222222222, \"#7201a8\"], [0.3333333333333333, \"#9c179e\"], [0.4444444444444444, \"#bd3786\"], [0.5555555555555556, \"#d8576b\"], [0.6666666666666666, \"#ed7953\"], [0.7777777777777778, \"#fb9f3a\"], [0.8888888888888888, \"#fdca26\"], [1.0, \"#f0f921\"]], \"type\": \"heatmapgl\"}], \"histogram\": [{\"marker\": {\"colorbar\": {\"outlinewidth\": 0, \"ticks\": \"\"}}, \"type\": \"histogram\"}], \"histogram2d\": [{\"colorbar\": {\"outlinewidth\": 0, \"ticks\": \"\"}, \"colorscale\": [[0.0, \"#0d0887\"], [0.1111111111111111, \"#46039f\"], [0.2222222222222222, \"#7201a8\"], [0.3333333333333333, \"#9c179e\"], [0.4444444444444444, \"#bd3786\"], [0.5555555555555556, \"#d8576b\"], [0.6666666666666666, \"#ed7953\"], [0.7777777777777778, \"#fb9f3a\"], [0.8888888888888888, \"#fdca26\"], [1.0, \"#f0f921\"]], \"type\": \"histogram2d\"}], \"histogram2dcontour\": [{\"colorbar\": {\"outlinewidth\": 0, \"ticks\": \"\"}, \"colorscale\": [[0.0, \"#0d0887\"], [0.1111111111111111, \"#46039f\"], [0.2222222222222222, \"#7201a8\"], [0.3333333333333333, \"#9c179e\"], [0.4444444444444444, \"#bd3786\"], [0.5555555555555556, \"#d8576b\"], [0.6666666666666666, \"#ed7953\"], [0.7777777777777778, \"#fb9f3a\"], [0.8888888888888888, \"#fdca26\"], [1.0, \"#f0f921\"]], \"type\": \"histogram2dcontour\"}], \"mesh3d\": [{\"colorbar\": {\"outlinewidth\": 0, \"ticks\": \"\"}, \"type\": \"mesh3d\"}], \"parcoords\": [{\"line\": {\"colorbar\": {\"outlinewidth\": 0, \"ticks\": \"\"}}, \"type\": \"parcoords\"}], \"pie\": [{\"automargin\": true, \"type\": \"pie\"}], \"scatter\": [{\"marker\": {\"colorbar\": {\"outlinewidth\": 0, \"ticks\": \"\"}}, \"type\": \"scatter\"}], \"scatter3d\": [{\"line\": {\"colorbar\": {\"outlinewidth\": 0, \"ticks\": \"\"}}, \"marker\": {\"colorbar\": {\"outlinewidth\": 0, \"ticks\": \"\"}}, \"type\": \"scatter3d\"}], \"scattercarpet\": [{\"marker\": {\"colorbar\": {\"outlinewidth\": 0, \"ticks\": \"\"}}, \"type\": \"scattercarpet\"}], \"scattergeo\": [{\"marker\": {\"colorbar\": {\"outlinewidth\": 0, \"ticks\": \"\"}}, \"type\": \"scattergeo\"}], \"scattergl\": [{\"marker\": {\"colorbar\": {\"outlinewidth\": 0, \"ticks\": \"\"}}, \"type\": \"scattergl\"}], \"scattermapbox\": [{\"marker\": {\"colorbar\": {\"outlinewidth\": 0, \"ticks\": \"\"}}, \"type\": \"scattermapbox\"}], \"scatterpolar\": [{\"marker\": {\"colorbar\": {\"outlinewidth\": 0, \"ticks\": \"\"}}, \"type\": \"scatterpolar\"}], \"scatterpolargl\": [{\"marker\": {\"colorbar\": {\"outlinewidth\": 0, \"ticks\": \"\"}}, \"type\": \"scatterpolargl\"}], \"scatterternary\": [{\"marker\": {\"colorbar\": {\"outlinewidth\": 0, \"ticks\": \"\"}}, \"type\": \"scatterternary\"}], \"surface\": [{\"colorbar\": {\"outlinewidth\": 0, \"ticks\": \"\"}, \"colorscale\": [[0.0, \"#0d0887\"], [0.1111111111111111, \"#46039f\"], [0.2222222222222222, \"#7201a8\"], [0.3333333333333333, \"#9c179e\"], [0.4444444444444444, \"#bd3786\"], [0.5555555555555556, \"#d8576b\"], [0.6666666666666666, \"#ed7953\"], [0.7777777777777778, \"#fb9f3a\"], [0.8888888888888888, \"#fdca26\"], [1.0, \"#f0f921\"]], \"type\": \"surface\"}], \"table\": [{\"cells\": {\"fill\": {\"color\": \"#EBF0F8\"}, \"line\": {\"color\": \"white\"}}, \"header\": {\"fill\": {\"color\": \"#C8D4E3\"}, \"line\": {\"color\": \"white\"}}, \"type\": \"table\"}]}, \"layout\": {\"annotationdefaults\": {\"arrowcolor\": \"#2a3f5f\", \"arrowhead\": 0, \"arrowwidth\": 1}, \"coloraxis\": {\"colorbar\": {\"outlinewidth\": 0, \"ticks\": \"\"}}, \"colorscale\": {\"diverging\": [[0, \"#8e0152\"], [0.1, \"#c51b7d\"], [0.2, \"#de77ae\"], [0.3, \"#f1b6da\"], [0.4, \"#fde0ef\"], [0.5, \"#f7f7f7\"], [0.6, \"#e6f5d0\"], [0.7, \"#b8e186\"], [0.8, \"#7fbc41\"], [0.9, \"#4d9221\"], [1, \"#276419\"]], \"sequential\": [[0.0, \"#0d0887\"], [0.1111111111111111, \"#46039f\"], [0.2222222222222222, \"#7201a8\"], [0.3333333333333333, \"#9c179e\"], [0.4444444444444444, \"#bd3786\"], [0.5555555555555556, \"#d8576b\"], [0.6666666666666666, \"#ed7953\"], [0.7777777777777778, \"#fb9f3a\"], [0.8888888888888888, \"#fdca26\"], [1.0, \"#f0f921\"]], \"sequentialminus\": [[0.0, \"#0d0887\"], [0.1111111111111111, \"#46039f\"], [0.2222222222222222, \"#7201a8\"], [0.3333333333333333, \"#9c179e\"], [0.4444444444444444, \"#bd3786\"], [0.5555555555555556, \"#d8576b\"], [0.6666666666666666, \"#ed7953\"], [0.7777777777777778, \"#fb9f3a\"], [0.8888888888888888, \"#fdca26\"], [1.0, \"#f0f921\"]]}, \"colorway\": [\"#636efa\", \"#EF553B\", \"#00cc96\", \"#ab63fa\", \"#FFA15A\", \"#19d3f3\", \"#FF6692\", \"#B6E880\", \"#FF97FF\", \"#FECB52\"], \"font\": {\"color\": \"#2a3f5f\"}, \"geo\": {\"bgcolor\": \"white\", \"lakecolor\": \"white\", \"landcolor\": \"#E5ECF6\", \"showlakes\": true, \"showland\": true, \"subunitcolor\": \"white\"}, \"hoverlabel\": {\"align\": \"left\"}, \"hovermode\": \"closest\", \"mapbox\": {\"style\": \"light\"}, \"paper_bgcolor\": \"white\", \"plot_bgcolor\": \"#E5ECF6\", \"polar\": {\"angularaxis\": {\"gridcolor\": \"white\", \"linecolor\": \"white\", \"ticks\": \"\"}, \"bgcolor\": \"#E5ECF6\", \"radialaxis\": {\"gridcolor\": \"white\", \"linecolor\": \"white\", \"ticks\": \"\"}}, \"scene\": {\"xaxis\": {\"backgroundcolor\": \"#E5ECF6\", \"gridcolor\": \"white\", \"gridwidth\": 2, \"linecolor\": \"white\", \"showbackground\": true, \"ticks\": \"\", \"zerolinecolor\": \"white\"}, \"yaxis\": {\"backgroundcolor\": \"#E5ECF6\", \"gridcolor\": \"white\", \"gridwidth\": 2, \"linecolor\": \"white\", \"showbackground\": true, \"ticks\": \"\", \"zerolinecolor\": \"white\"}, \"zaxis\": {\"backgroundcolor\": \"#E5ECF6\", \"gridcolor\": \"white\", \"gridwidth\": 2, \"linecolor\": \"white\", \"showbackground\": true, \"ticks\": \"\", \"zerolinecolor\": \"white\"}}, \"shapedefaults\": {\"line\": {\"color\": \"#2a3f5f\"}}, \"ternary\": {\"aaxis\": {\"gridcolor\": \"white\", \"linecolor\": \"white\", \"ticks\": \"\"}, \"baxis\": {\"gridcolor\": \"white\", \"linecolor\": \"white\", \"ticks\": \"\"}, \"bgcolor\": \"#E5ECF6\", \"caxis\": {\"gridcolor\": \"white\", \"linecolor\": \"white\", \"ticks\": \"\"}}, \"title\": {\"x\": 0.05}, \"xaxis\": {\"automargin\": true, \"gridcolor\": \"white\", \"linecolor\": \"white\", \"ticks\": \"\", \"title\": {\"standoff\": 15}, \"zerolinecolor\": \"white\", \"zerolinewidth\": 2}, \"yaxis\": {\"automargin\": true, \"gridcolor\": \"white\", \"linecolor\": \"white\", \"ticks\": \"\", \"title\": {\"standoff\": 15}, \"zerolinecolor\": \"white\", \"zerolinewidth\": 2}}}, \"title\": {\"text\": \"Histogram Quantitative Variables\"}, \"xaxis\": {\"anchor\": \"y\", \"domain\": [0.0, 0.1388888888888889]}, \"xaxis2\": {\"anchor\": \"y2\", \"domain\": [0.17222222222222222, 0.3111111111111111]}, \"xaxis3\": {\"anchor\": \"y3\", \"domain\": [0.34444444444444444, 0.48333333333333334]}, \"xaxis4\": {\"anchor\": \"y4\", \"domain\": [0.5166666666666667, 0.6555555555555557]}, \"xaxis5\": {\"anchor\": \"y5\", \"domain\": [0.6888888888888889, 0.8277777777777777]}, \"xaxis6\": {\"anchor\": \"y6\", \"domain\": [0.861111111111111, 1.0]}, \"yaxis\": {\"anchor\": \"x\", \"domain\": [0.0, 1.0], \"title\": {\"text\": \"Count Percentage\"}}, \"yaxis2\": {\"anchor\": \"x2\", \"domain\": [0.0, 1.0]}, \"yaxis3\": {\"anchor\": \"x3\", \"domain\": [0.0, 1.0]}, \"yaxis4\": {\"anchor\": \"x4\", \"domain\": [0.0, 1.0]}, \"yaxis5\": {\"anchor\": \"x5\", \"domain\": [0.0, 1.0]}, \"yaxis6\": {\"anchor\": \"x6\", \"domain\": [0.0, 1.0]}},\n",
       "                        {\"responsive\": true}\n",
       "                    ).then(function(){\n",
       "                            \n",
       "var gd = document.getElementById('79164220-8326-4efc-96c6-f2a13fa10544');\n",
       "var x = new MutationObserver(function (mutations, observer) {{\n",
       "        var display = window.getComputedStyle(gd).display;\n",
       "        if (!display || display === 'none') {{\n",
       "            console.log([gd, 'removed!']);\n",
       "            Plotly.purge(gd);\n",
       "            observer.disconnect();\n",
       "        }}\n",
       "}});\n",
       "\n",
       "// Listen for the removal of the full notebook cells\n",
       "var notebookContainer = gd.closest('#notebook-container');\n",
       "if (notebookContainer) {{\n",
       "    x.observe(notebookContainer, {childList: true});\n",
       "}}\n",
       "\n",
       "// Listen for the clearing of the current output cell\n",
       "var outputEl = gd.closest('.output');\n",
       "if (outputEl) {{\n",
       "    x.observe(outputEl, {childList: true});\n",
       "}}\n",
       "\n",
       "                        })\n",
       "                };\n",
       "                });\n",
       "            </script>\n",
       "        </div>"
      ]
     },
     "metadata": {},
     "output_type": "display_data"
    }
   ],
   "source": [
    "fig = make_subplots(rows=1, cols=len(df.describe().columns))\n",
    "\n",
    "lst = df.describe().columns\n",
    "\n",
    "for i in range(len(lst)):\n",
    "    fig.add_trace(go.Histogram(x= df[lst[i]],\n",
    "                               name=lst[i],\n",
    "                               histnorm='probability', \n",
    "                               ), row=1, col=i+1)\n",
    "\n",
    "fig.update_layout(\n",
    "    title_text='Histogram Quantitative Variables', # title of plot\n",
    "#     xaxis_title_text='Value Range', # xaxis label\n",
    "    yaxis_title_text='Count Percentage', # yaxis label\n",
    "    bargap=0.2, # gap between bars of adjacent location coordinates\n",
    "    bargroupgap=0.1 # gap between bars of the same location coordinates\n",
    ")\n",
    "    \n",
    "fig.show()"
   ]
  },
  {
   "cell_type": "markdown",
   "metadata": {},
   "source": [
    "Quantitative variables of population and area columns are positive skew. \n",
    "\n",
    "Values in gini column is normally distributed."
   ]
  },
  {
   "cell_type": "markdown",
   "metadata": {},
   "source": [
    "## Other varibales"
   ]
  },
  {
   "cell_type": "markdown",
   "metadata": {},
   "source": [
    "### latlng column"
   ]
  },
  {
   "cell_type": "code",
   "execution_count": 352,
   "metadata": {},
   "outputs": [],
   "source": [
    "#Fill [] empty list values in latlng column\n",
    "latlon=df['latlng']\n",
    "latlon1=fill_empty_list(latlon)\n",
    "df['latlng']=latlon1"
   ]
  },
  {
   "cell_type": "code",
   "execution_count": 353,
   "metadata": {},
   "outputs": [],
   "source": [
    "#Create lat and lon columns:\n",
    "lat=[]\n",
    "lon=[]\n",
    "for i in range(250):\n",
    "    if len(df['latlng'][i]) > 0:\n",
    "        la=df['latlng'][i][0]\n",
    "        lo=df['latlng'][i][1]\n",
    "        lat.append(la)\n",
    "        lon.append(lo)\n",
    "    else:\n",
    "        lat.append(np.nan)\n",
    "        lon.append(np.nan)\n",
    "df['lat']=lat\n",
    "df['lon']=lon\n",
    "\n",
    "df.drop('latlng',axis=1,inplace=True)"
   ]
  },
  {
   "cell_type": "markdown",
   "metadata": {},
   "source": [
    "# Organize sub-datasets and Questions "
   ]
  },
  {
   "cell_type": "code",
   "execution_count": 354,
   "metadata": {},
   "outputs": [],
   "source": [
    "info_lst = ['country','alphaCode', 'flag', 'capital', \n",
    "#             'latlng', \n",
    "            'population',  'area','borders', 'region', 'subregion', 'demonym','languages']\n",
    "# language = ['nativeName','languages_iso639_1', 'languages_iso639_2', \n",
    "#             'languages_nativeName','region', 'subregion','latlng','translations.de',\n",
    "#             'translations.es', 'translations.fr', 'translations.ja',\n",
    "#             'translations.it', 'translations.br', 'translations.pt',\n",
    "#             'translations.nl', 'translations.hr', 'translations.fa']\n",
    "economic = ['country','alphaCode',\n",
    "#             'latlng',  \n",
    "            'gini', 'borders','currencies','regionalBlocs']\n",
    "\n",
    "# demonym: nhóm ng, tộc người, nhóm dân tộc\n",
    "# gini: độ chênh lệch giàu nghèo"
   ]
  },
  {
   "cell_type": "code",
   "execution_count": 355,
   "metadata": {},
   "outputs": [
    {
     "data": {
      "text/plain": [
       "Index(['country', 'alphaCode', 'capital', 'region', 'subregion', 'population',\n",
       "       'demonym', 'area', 'popDensity', 'gini', 'timezones', 'borders',\n",
       "       'borders_count', 'nativeName', 'currencies', 'languages',\n",
       "       'languages_count', 'flag', 'regionalBlocs', 'cioc', 'lat', 'lon'],\n",
       "      dtype='object')"
      ]
     },
     "execution_count": 355,
     "metadata": {},
     "output_type": "execute_result"
    }
   ],
   "source": [
    "df.columns"
   ]
  },
  {
   "cell_type": "markdown",
   "metadata": {},
   "source": [
    "## Country info subset"
   ]
  },
  {
   "cell_type": "code",
   "execution_count": 356,
   "metadata": {},
   "outputs": [],
   "source": [
    "c_info = df[info_lst]"
   ]
  },
  {
   "cell_type": "markdown",
   "metadata": {},
   "source": [
    "Quests:\n",
    "\n",
    "From regional view\n",
    "- Map represent geographic region/sub-regions and borders with countries (nhấn mạnh các nước có càng nhiều border chung với các nước khác)\n",
    "- Map represent geographic region/sub-regions VS currency groups\n",
    "- Map represent geographic region/sub-regions VS languages groups\n",
    "\n",
    "\n"
   ]
  },
  {
   "cell_type": "code",
   "execution_count": 357,
   "metadata": {},
   "outputs": [
    {
     "data": {
      "text/html": [
       "<div>\n",
       "<style scoped>\n",
       "    .dataframe tbody tr th:only-of-type {\n",
       "        vertical-align: middle;\n",
       "    }\n",
       "\n",
       "    .dataframe tbody tr th {\n",
       "        vertical-align: top;\n",
       "    }\n",
       "\n",
       "    .dataframe thead th {\n",
       "        text-align: right;\n",
       "    }\n",
       "</style>\n",
       "<table border=\"1\" class=\"dataframe\">\n",
       "  <thead>\n",
       "    <tr style=\"text-align: right;\">\n",
       "      <th></th>\n",
       "      <th>country</th>\n",
       "      <th>alphaCode</th>\n",
       "      <th>flag</th>\n",
       "      <th>capital</th>\n",
       "      <th>population</th>\n",
       "      <th>area</th>\n",
       "      <th>borders</th>\n",
       "      <th>region</th>\n",
       "      <th>subregion</th>\n",
       "      <th>demonym</th>\n",
       "      <th>languages</th>\n",
       "    </tr>\n",
       "  </thead>\n",
       "  <tbody>\n",
       "    <tr>\n",
       "      <th>0</th>\n",
       "      <td>Afghanistan</td>\n",
       "      <td>AFG</td>\n",
       "      <td>https://restcountries.eu/data/afg.svg</td>\n",
       "      <td>Kabul</td>\n",
       "      <td>27657145</td>\n",
       "      <td>652230.0</td>\n",
       "      <td>IRN,PAK,TKM,UZB,TJK,CHN</td>\n",
       "      <td>Asia</td>\n",
       "      <td>Southern Asia</td>\n",
       "      <td>Afghan</td>\n",
       "      <td>[Pashto, Uzbek, Turkmen]</td>\n",
       "    </tr>\n",
       "    <tr>\n",
       "      <th>1</th>\n",
       "      <td>Åland Islands</td>\n",
       "      <td>ALA</td>\n",
       "      <td>https://restcountries.eu/data/ala.svg</td>\n",
       "      <td>Mariehamn</td>\n",
       "      <td>28875</td>\n",
       "      <td>1580.0</td>\n",
       "      <td>None</td>\n",
       "      <td>Europe</td>\n",
       "      <td>Northern Europe</td>\n",
       "      <td>Ålandish</td>\n",
       "      <td>[Swedish]</td>\n",
       "    </tr>\n",
       "    <tr>\n",
       "      <th>2</th>\n",
       "      <td>Albania</td>\n",
       "      <td>ALB</td>\n",
       "      <td>https://restcountries.eu/data/alb.svg</td>\n",
       "      <td>Tirana</td>\n",
       "      <td>2886026</td>\n",
       "      <td>28748.0</td>\n",
       "      <td>MNE,GRC,MKD,KOS</td>\n",
       "      <td>Europe</td>\n",
       "      <td>Southern Europe</td>\n",
       "      <td>Albanian</td>\n",
       "      <td>[Albanian]</td>\n",
       "    </tr>\n",
       "    <tr>\n",
       "      <th>3</th>\n",
       "      <td>Algeria</td>\n",
       "      <td>DZA</td>\n",
       "      <td>https://restcountries.eu/data/dza.svg</td>\n",
       "      <td>Algiers</td>\n",
       "      <td>40400000</td>\n",
       "      <td>2381741.0</td>\n",
       "      <td>TUN,LBY,NER,ESH,MRT,MLI,MAR</td>\n",
       "      <td>Africa</td>\n",
       "      <td>Northern Africa</td>\n",
       "      <td>Algerian</td>\n",
       "      <td>[Arabic]</td>\n",
       "    </tr>\n",
       "    <tr>\n",
       "      <th>4</th>\n",
       "      <td>American Samoa</td>\n",
       "      <td>ASM</td>\n",
       "      <td>https://restcountries.eu/data/asm.svg</td>\n",
       "      <td>Pago Pago</td>\n",
       "      <td>57100</td>\n",
       "      <td>199.0</td>\n",
       "      <td>None</td>\n",
       "      <td>Oceania</td>\n",
       "      <td>Polynesia</td>\n",
       "      <td>American Samoan</td>\n",
       "      <td>[English, Samoan]</td>\n",
       "    </tr>\n",
       "  </tbody>\n",
       "</table>\n",
       "</div>"
      ],
      "text/plain": [
       "          country alphaCode                                   flag    capital  \\\n",
       "0     Afghanistan       AFG  https://restcountries.eu/data/afg.svg      Kabul   \n",
       "1   Åland Islands       ALA  https://restcountries.eu/data/ala.svg  Mariehamn   \n",
       "2         Albania       ALB  https://restcountries.eu/data/alb.svg     Tirana   \n",
       "3         Algeria       DZA  https://restcountries.eu/data/dza.svg    Algiers   \n",
       "4  American Samoa       ASM  https://restcountries.eu/data/asm.svg  Pago Pago   \n",
       "\n",
       "   population       area                      borders   region  \\\n",
       "0    27657145   652230.0      IRN,PAK,TKM,UZB,TJK,CHN     Asia   \n",
       "1       28875     1580.0                         None   Europe   \n",
       "2     2886026    28748.0              MNE,GRC,MKD,KOS   Europe   \n",
       "3    40400000  2381741.0  TUN,LBY,NER,ESH,MRT,MLI,MAR   Africa   \n",
       "4       57100      199.0                         None  Oceania   \n",
       "\n",
       "         subregion          demonym                 languages  \n",
       "0    Southern Asia           Afghan  [Pashto, Uzbek, Turkmen]  \n",
       "1  Northern Europe         Ålandish                 [Swedish]  \n",
       "2  Southern Europe         Albanian                [Albanian]  \n",
       "3  Northern Africa         Algerian                  [Arabic]  \n",
       "4        Polynesia  American Samoan         [English, Samoan]  "
      ]
     },
     "execution_count": 357,
     "metadata": {},
     "output_type": "execute_result"
    }
   ],
   "source": [
    "c_info.head()"
   ]
  },
  {
   "cell_type": "markdown",
   "metadata": {},
   "source": [
    "### From population density points of view"
   ]
  },
  {
   "cell_type": "markdown",
   "metadata": {},
   "source": [
    "Quest: Từ góc nhìn trên mật độ dân số\n",
    "- Map show mật độ dân số (population/area) cao-thấp (color) vs population(circle area)\n",
    "- Map show độ phân trải của các nhóm dân tộc (demonym) VS mật độ dân số\n",
    "- Map show độ phân trải của các nhóm languages vs mật độ dân số"
   ]
  },
  {
   "cell_type": "markdown",
   "metadata": {},
   "source": [
    "Population density Vs. Population"
   ]
  },
  {
   "cell_type": "code",
   "execution_count": 358,
   "metadata": {},
   "outputs": [
    {
     "data": {
      "text/plain": [
       "count      250.000000\n",
       "mean       407.082521\n",
       "std       1948.712944\n",
       "min          0.000000\n",
       "25%         27.837028\n",
       "50%         81.839835\n",
       "75%        209.051777\n",
       "max      21636.666667\n",
       "Name: pop_den, dtype: float64"
      ]
     },
     "execution_count": 358,
     "metadata": {},
     "output_type": "execute_result"
    }
   ],
   "source": [
    "c_info.insert(7, 'pop_den', c_info['population']/c_info['area'])\n",
    "c_info['pop_den'].describe()"
   ]
  },
  {
   "cell_type": "code",
   "execution_count": 359,
   "metadata": {},
   "outputs": [
    {
     "data": {
      "text/plain": [
       "21636.666666666668"
      ]
     },
     "execution_count": 359,
     "metadata": {},
     "output_type": "execute_result"
    }
   ],
   "source": [
    "c_info['pop_den'].max()"
   ]
  },
  {
   "cell_type": "code",
   "execution_count": 360,
   "metadata": {},
   "outputs": [],
   "source": [
    "# pop_den_gr = [i for i in range(5)]\n",
    "# c_info.insert(8, 'pop_den_gr', 0)\n",
    "# c_info['pop_den_gr'][c_info['pop_den'] < c_info['pop_den'].max()*0.2] = 1\n",
    "# c_info['pop_den_gr'][(c_info['pop_den'] >= c_info['pop_den'].max()*0.2) & (c_info['pop_den'] < c_info['pop_den'].max()*0.4)] = 2\n",
    "# c_info['pop_den_gr'][(c_info['pop_den'] >= c_info['pop_den'].max()*0.4) & (c_info['pop_den'] < c_info['pop_den'].max()*0.6)] = 3\n",
    "# c_info['pop_den_gr'][(c_info['pop_den'] >= c_info['pop_den'].max()*0.6) & (c_info['pop_den'] < c_info['pop_den'].max()*0.8)] = 4\n",
    "# c_info['pop_den_gr'][c_info['pop_den'] >= c_info['pop_den'].max()*0.8] = 5\n",
    "# c_info['pop_den_gr'].value_counts()"
   ]
  },
  {
   "cell_type": "code",
   "execution_count": 361,
   "metadata": {},
   "outputs": [
    {
     "ename": "KeyError",
     "evalue": "'pop_den_gr'",
     "output_type": "error",
     "traceback": [
      "\u001b[0;31m---------------------------------------------------------------------------\u001b[0m",
      "\u001b[0;31mKeyError\u001b[0m                                  Traceback (most recent call last)",
      "\u001b[0;32m~/.local/lib/python3.6/site-packages/pandas/core/indexes/base.py\u001b[0m in \u001b[0;36mget_loc\u001b[0;34m(self, key, method, tolerance)\u001b[0m\n\u001b[1;32m   2645\u001b[0m             \u001b[0;32mtry\u001b[0m\u001b[0;34m:\u001b[0m\u001b[0;34m\u001b[0m\u001b[0;34m\u001b[0m\u001b[0m\n\u001b[0;32m-> 2646\u001b[0;31m                 \u001b[0;32mreturn\u001b[0m \u001b[0mself\u001b[0m\u001b[0;34m.\u001b[0m\u001b[0m_engine\u001b[0m\u001b[0;34m.\u001b[0m\u001b[0mget_loc\u001b[0m\u001b[0;34m(\u001b[0m\u001b[0mkey\u001b[0m\u001b[0;34m)\u001b[0m\u001b[0;34m\u001b[0m\u001b[0;34m\u001b[0m\u001b[0m\n\u001b[0m\u001b[1;32m   2647\u001b[0m             \u001b[0;32mexcept\u001b[0m \u001b[0mKeyError\u001b[0m\u001b[0;34m:\u001b[0m\u001b[0;34m\u001b[0m\u001b[0;34m\u001b[0m\u001b[0m\n",
      "\u001b[0;32mpandas/_libs/index.pyx\u001b[0m in \u001b[0;36mpandas._libs.index.IndexEngine.get_loc\u001b[0;34m()\u001b[0m\n",
      "\u001b[0;32mpandas/_libs/index.pyx\u001b[0m in \u001b[0;36mpandas._libs.index.IndexEngine.get_loc\u001b[0;34m()\u001b[0m\n",
      "\u001b[0;32mpandas/_libs/hashtable_class_helper.pxi\u001b[0m in \u001b[0;36mpandas._libs.hashtable.PyObjectHashTable.get_item\u001b[0;34m()\u001b[0m\n",
      "\u001b[0;32mpandas/_libs/hashtable_class_helper.pxi\u001b[0m in \u001b[0;36mpandas._libs.hashtable.PyObjectHashTable.get_item\u001b[0;34m()\u001b[0m\n",
      "\u001b[0;31mKeyError\u001b[0m: 'pop_den_gr'",
      "\nDuring handling of the above exception, another exception occurred:\n",
      "\u001b[0;31mKeyError\u001b[0m                                  Traceback (most recent call last)",
      "\u001b[0;32m<ipython-input-361-3b6ea3bf23e5>\u001b[0m in \u001b[0;36m<module>\u001b[0;34m\u001b[0m\n\u001b[0;32m----> 1\u001b[0;31m \u001b[0mc_info\u001b[0m\u001b[0;34m[\u001b[0m\u001b[0mc_info\u001b[0m\u001b[0;34m[\u001b[0m\u001b[0;34m'pop_den_gr'\u001b[0m\u001b[0;34m]\u001b[0m \u001b[0;34m==\u001b[0m \u001b[0;36m0\u001b[0m\u001b[0;34m]\u001b[0m\u001b[0;34m\u001b[0m\u001b[0;34m\u001b[0m\u001b[0m\n\u001b[0m\u001b[1;32m      2\u001b[0m \u001b[0;34m\u001b[0m\u001b[0m\n\u001b[1;32m      3\u001b[0m \u001b[0;31m# fill in area for these country\u001b[0m\u001b[0;34m\u001b[0m\u001b[0;34m\u001b[0m\u001b[0;34m\u001b[0m\u001b[0m\n",
      "\u001b[0;32m~/.local/lib/python3.6/site-packages/pandas/core/frame.py\u001b[0m in \u001b[0;36m__getitem__\u001b[0;34m(self, key)\u001b[0m\n\u001b[1;32m   2798\u001b[0m             \u001b[0;32mif\u001b[0m \u001b[0mself\u001b[0m\u001b[0;34m.\u001b[0m\u001b[0mcolumns\u001b[0m\u001b[0;34m.\u001b[0m\u001b[0mnlevels\u001b[0m \u001b[0;34m>\u001b[0m \u001b[0;36m1\u001b[0m\u001b[0;34m:\u001b[0m\u001b[0;34m\u001b[0m\u001b[0;34m\u001b[0m\u001b[0m\n\u001b[1;32m   2799\u001b[0m                 \u001b[0;32mreturn\u001b[0m \u001b[0mself\u001b[0m\u001b[0;34m.\u001b[0m\u001b[0m_getitem_multilevel\u001b[0m\u001b[0;34m(\u001b[0m\u001b[0mkey\u001b[0m\u001b[0;34m)\u001b[0m\u001b[0;34m\u001b[0m\u001b[0;34m\u001b[0m\u001b[0m\n\u001b[0;32m-> 2800\u001b[0;31m             \u001b[0mindexer\u001b[0m \u001b[0;34m=\u001b[0m \u001b[0mself\u001b[0m\u001b[0;34m.\u001b[0m\u001b[0mcolumns\u001b[0m\u001b[0;34m.\u001b[0m\u001b[0mget_loc\u001b[0m\u001b[0;34m(\u001b[0m\u001b[0mkey\u001b[0m\u001b[0;34m)\u001b[0m\u001b[0;34m\u001b[0m\u001b[0;34m\u001b[0m\u001b[0m\n\u001b[0m\u001b[1;32m   2801\u001b[0m             \u001b[0;32mif\u001b[0m \u001b[0mis_integer\u001b[0m\u001b[0;34m(\u001b[0m\u001b[0mindexer\u001b[0m\u001b[0;34m)\u001b[0m\u001b[0;34m:\u001b[0m\u001b[0;34m\u001b[0m\u001b[0;34m\u001b[0m\u001b[0m\n\u001b[1;32m   2802\u001b[0m                 \u001b[0mindexer\u001b[0m \u001b[0;34m=\u001b[0m \u001b[0;34m[\u001b[0m\u001b[0mindexer\u001b[0m\u001b[0;34m]\u001b[0m\u001b[0;34m\u001b[0m\u001b[0;34m\u001b[0m\u001b[0m\n",
      "\u001b[0;32m~/.local/lib/python3.6/site-packages/pandas/core/indexes/base.py\u001b[0m in \u001b[0;36mget_loc\u001b[0;34m(self, key, method, tolerance)\u001b[0m\n\u001b[1;32m   2646\u001b[0m                 \u001b[0;32mreturn\u001b[0m \u001b[0mself\u001b[0m\u001b[0;34m.\u001b[0m\u001b[0m_engine\u001b[0m\u001b[0;34m.\u001b[0m\u001b[0mget_loc\u001b[0m\u001b[0;34m(\u001b[0m\u001b[0mkey\u001b[0m\u001b[0;34m)\u001b[0m\u001b[0;34m\u001b[0m\u001b[0;34m\u001b[0m\u001b[0m\n\u001b[1;32m   2647\u001b[0m             \u001b[0;32mexcept\u001b[0m \u001b[0mKeyError\u001b[0m\u001b[0;34m:\u001b[0m\u001b[0;34m\u001b[0m\u001b[0;34m\u001b[0m\u001b[0m\n\u001b[0;32m-> 2648\u001b[0;31m                 \u001b[0;32mreturn\u001b[0m \u001b[0mself\u001b[0m\u001b[0;34m.\u001b[0m\u001b[0m_engine\u001b[0m\u001b[0;34m.\u001b[0m\u001b[0mget_loc\u001b[0m\u001b[0;34m(\u001b[0m\u001b[0mself\u001b[0m\u001b[0;34m.\u001b[0m\u001b[0m_maybe_cast_indexer\u001b[0m\u001b[0;34m(\u001b[0m\u001b[0mkey\u001b[0m\u001b[0;34m)\u001b[0m\u001b[0;34m)\u001b[0m\u001b[0;34m\u001b[0m\u001b[0;34m\u001b[0m\u001b[0m\n\u001b[0m\u001b[1;32m   2649\u001b[0m         \u001b[0mindexer\u001b[0m \u001b[0;34m=\u001b[0m \u001b[0mself\u001b[0m\u001b[0;34m.\u001b[0m\u001b[0mget_indexer\u001b[0m\u001b[0;34m(\u001b[0m\u001b[0;34m[\u001b[0m\u001b[0mkey\u001b[0m\u001b[0;34m]\u001b[0m\u001b[0;34m,\u001b[0m \u001b[0mmethod\u001b[0m\u001b[0;34m=\u001b[0m\u001b[0mmethod\u001b[0m\u001b[0;34m,\u001b[0m \u001b[0mtolerance\u001b[0m\u001b[0;34m=\u001b[0m\u001b[0mtolerance\u001b[0m\u001b[0;34m)\u001b[0m\u001b[0;34m\u001b[0m\u001b[0;34m\u001b[0m\u001b[0m\n\u001b[1;32m   2650\u001b[0m         \u001b[0;32mif\u001b[0m \u001b[0mindexer\u001b[0m\u001b[0;34m.\u001b[0m\u001b[0mndim\u001b[0m \u001b[0;34m>\u001b[0m \u001b[0;36m1\u001b[0m \u001b[0;32mor\u001b[0m \u001b[0mindexer\u001b[0m\u001b[0;34m.\u001b[0m\u001b[0msize\u001b[0m \u001b[0;34m>\u001b[0m \u001b[0;36m1\u001b[0m\u001b[0;34m:\u001b[0m\u001b[0;34m\u001b[0m\u001b[0;34m\u001b[0m\u001b[0m\n",
      "\u001b[0;32mpandas/_libs/index.pyx\u001b[0m in \u001b[0;36mpandas._libs.index.IndexEngine.get_loc\u001b[0;34m()\u001b[0m\n",
      "\u001b[0;32mpandas/_libs/index.pyx\u001b[0m in \u001b[0;36mpandas._libs.index.IndexEngine.get_loc\u001b[0;34m()\u001b[0m\n",
      "\u001b[0;32mpandas/_libs/hashtable_class_helper.pxi\u001b[0m in \u001b[0;36mpandas._libs.hashtable.PyObjectHashTable.get_item\u001b[0;34m()\u001b[0m\n",
      "\u001b[0;32mpandas/_libs/hashtable_class_helper.pxi\u001b[0m in \u001b[0;36mpandas._libs.hashtable.PyObjectHashTable.get_item\u001b[0;34m()\u001b[0m\n",
      "\u001b[0;31mKeyError\u001b[0m: 'pop_den_gr'"
     ]
    }
   ],
   "source": [
    "c_info[c_info['pop_den_gr'] == 0]\n",
    "\n",
    "# fill in area for these country"
   ]
  },
  {
   "cell_type": "code",
   "execution_count": null,
   "metadata": {},
   "outputs": [],
   "source": [
    "c_info['region'].unique()"
   ]
  },
  {
   "cell_type": "code",
   "execution_count": null,
   "metadata": {},
   "outputs": [],
   "source": [
    "# c_info = c_info[c_info['region'] == 'Oceania']\n",
    "\n",
    "fig = go.Figure()\n",
    "\n",
    "fig.add_trace(go.Choropleth(\n",
    "    locations = c_info['alphaCode'],\n",
    "    z = c_info['pop_den'],\n",
    "    text = c_info['country'],\n",
    "    colorscale = 'Blues',\n",
    "    autocolorscale=False,\n",
    "    reversescale=True,\n",
    "    zmin=0, \n",
    "    zmax=c_info['pop_den'].max(),\n",
    "    marker_line_color='darkgray',\n",
    "    marker_line_width=0.5,\n",
    "#     colorbar_tickprefix = '/km2',\n",
    "    colorbar_ticksuffix = '/km2',\n",
    "    colorbar_title = 'World Population<br>Density',\n",
    "))\n",
    "\n",
    "\n",
    "\n",
    "\n",
    "fig.update_layout(\n",
    "    title_text='World Population Density',\n",
    "    geo=dict(\n",
    "#         scope='europe', #limit area to be showed on map\n",
    "        showframe=False,\n",
    "        showcoastlines=False,\n",
    "        projection_type='equirectangular'\n",
    "    ),\n",
    "#     annotations = [dict(\n",
    "#         x=0.55,\n",
    "# #         y=0.1,\n",
    "#         xref='paper',\n",
    "#         yref='paper',\n",
    "# #         text='Source: <a href=\"https://www.cia.gov/library/publications/the-world-factbook/fields/2195.html\">\\\n",
    "# #             CIA World Factbook</a>',\n",
    "#         showarrow = False\n",
    "#     )]\n",
    ")\n",
    "\n",
    "fig.show()\n",
    "\n",
    "#  The 'scope' property is an enumeration that may be specified as:\n",
    "#       - One of the following enumeration values:\n",
    "#             ['world', 'usa', 'europe', 'asia', 'africa', 'north\n",
    "#             america', 'south america']"
   ]
  },
  {
   "cell_type": "markdown",
   "metadata": {},
   "source": [
    "## Country economic subset"
   ]
  },
  {
   "cell_type": "code",
   "execution_count": null,
   "metadata": {},
   "outputs": [],
   "source": [
    "df[economic].head(3)"
   ]
  },
  {
   "cell_type": "markdown",
   "metadata": {},
   "source": [
    "Quest:\n",
    "\n",
    "Xét trên quan hệ các hiệp định đã ký\n",
    "- Hiệp định Vs Region/sub-regions\n",
    "- Map thể hiện các nước tham gia vào các hiệp định chung (regionalBlocs) (press các nước tham gia vào càng nhiều hiệp định chung) + Map so sánh đối chiếu giữa các nước tham gia càng nhiều hiệp định Vs số lượng border chung với các nc khác. Rút kết luận tương quan.\n",
    "- Map show gini (phân cấp giàu nghèo) vs hiệp định tham gia (regionalBlocs)\n",
    "- Map shoư quan hệ giữa currency vs các hiệp định (regionalBlocs)\n",
    "\n",
    "\n",
    "Xét trên quan hệ gini\n",
    "- gini (phân cấp giàu nghèo) VS nhóm region/sub-region\n",
    "- Map show gini (phân cấp giàu nghèo) VS mật độ dân số (population/area) cao-thấp \n",
    "- gini (phân cấp giàu nghèo) VS nhóm ngôn ngữ\n",
    "- gini (phân cấp giàu nghèo) VS nhóm currency\n"
   ]
  },
  {
   "cell_type": "code",
   "execution_count": null,
   "metadata": {},
   "outputs": [],
   "source": []
  }
 ],
 "metadata": {
  "kernelspec": {
   "display_name": "Python 3",
   "language": "python",
   "name": "python3"
  },
  "language_info": {
   "codemirror_mode": {
    "name": "ipython",
    "version": 3
   },
   "file_extension": ".py",
   "mimetype": "text/x-python",
   "name": "python",
   "nbconvert_exporter": "python",
   "pygments_lexer": "ipython3",
   "version": "3.6.9"
  },
  "toc": {
   "base_numbering": 1,
   "nav_menu": {},
   "number_sections": true,
   "sideBar": true,
   "skip_h1_title": false,
   "title_cell": "Table of Contents",
   "title_sidebar": "Contents",
   "toc_cell": false,
   "toc_position": {
    "height": "calc(100% - 180px)",
    "left": "10px",
    "top": "150px",
    "width": "384px"
   },
   "toc_section_display": true,
   "toc_window_display": true
  },
  "varInspector": {
   "cols": {
    "lenName": 16,
    "lenType": 16,
    "lenVar": 40
   },
   "kernels_config": {
    "python": {
     "delete_cmd_postfix": "",
     "delete_cmd_prefix": "del ",
     "library": "var_list.py",
     "varRefreshCmd": "print(var_dic_list())"
    },
    "r": {
     "delete_cmd_postfix": ") ",
     "delete_cmd_prefix": "rm(",
     "library": "var_list.r",
     "varRefreshCmd": "cat(var_dic_list()) "
    }
   },
   "types_to_exclude": [
    "module",
    "function",
    "builtin_function_or_method",
    "instance",
    "_Feature"
   ],
   "window_display": false
  }
 },
 "nbformat": 4,
 "nbformat_minor": 4
}
